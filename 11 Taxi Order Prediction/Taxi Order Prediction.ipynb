{
 "cells": [
  {
   "cell_type": "markdown",
   "metadata": {},
   "source": [
    "#  Taxi Order Prediction"
   ]
  },
  {
   "cell_type": "markdown",
   "metadata": {},
   "source": [
    "The Clear Taxi company has collected historical data on taxi orders at airports. To attract more drivers during the peak period, you need to predict the number of taxi orders for the next hour. I will build a model for such a prediction.\n",
    "\n",
    "The value of the *RMSE* metric on the test sample should not exceed 48.\n",
    "\n",
    "I need:\n",
    "\n",
    "1. Load the data and resample it one hour at a time.\n",
    "2. Analyze the data.\n",
    "3. Train different models with different hyperparameters. Make a test sample of 10% of the original data.\n",
    "4. Check the data on the test sample and draw conclusions.\n",
    "\n",
    "\n",
    "The data is in the `taxi.csv` file. The number of orders is in the `num_orders` column."
   ]
  },
  {
   "cell_type": "markdown",
   "metadata": {},
   "source": [
    "## Prepairing"
   ]
  },
  {
   "cell_type": "markdown",
   "metadata": {},
   "source": [
    "Starting the project, I load the necessary libraries and the dataframe for researching."
   ]
  },
  {
   "cell_type": "code",
   "execution_count": 110,
   "metadata": {},
   "outputs": [],
   "source": [
    "import warnings\n",
    "warnings.filterwarnings('ignore')\n",
    "\n",
    "import pandas as pd\n",
    "import numpy as np\n",
    "\n",
    "from sklearn.preprocessing import StandardScaler\n",
    "from sklearn.model_selection import train_test_split, TimeSeriesSplit, GridSearchCV\n",
    "from sklearn.linear_model import Ridge, Lasso\n",
    "from sklearn.ensemble import RandomForestRegressor\n",
    "from lightgbm import LGBMRegressor\n",
    "\n",
    "from sklearn.metrics import mean_squared_error\n",
    "\n",
    "from statsmodels.tsa.seasonal import seasonal_decompose\n",
    "import statsmodels.graphics.tsaplots as sgt\n",
    "import statsmodels.tsa.stattools as sts\n",
    "\n",
    "import matplotlib.pyplot as plt\n",
    "import seaborn as sns\n",
    "sns.set()"
   ]
  },
  {
   "cell_type": "markdown",
   "metadata": {},
   "source": [
    "I translate the information from the first column in datetime format. This column will be considered an index."
   ]
  },
  {
   "cell_type": "code",
   "execution_count": 111,
   "metadata": {},
   "outputs": [],
   "source": [
    "df = pd.read_csv('/datasets/taxi.csv', parse_dates=[0], index_col=[0])"
   ]
  },
  {
   "cell_type": "markdown",
   "metadata": {},
   "source": [
    "## Analysis"
   ]
  },
  {
   "cell_type": "markdown",
   "metadata": {},
   "source": [
    "According to the condition of the task, the data was ready for analysis, I proceed to the initial assessment."
   ]
  },
  {
   "cell_type": "code",
   "execution_count": 112,
   "metadata": {},
   "outputs": [
    {
     "data": {
      "text/html": [
       "<div>\n",
       "<style scoped>\n",
       "    .dataframe tbody tr th:only-of-type {\n",
       "        vertical-align: middle;\n",
       "    }\n",
       "\n",
       "    .dataframe tbody tr th {\n",
       "        vertical-align: top;\n",
       "    }\n",
       "\n",
       "    .dataframe thead th {\n",
       "        text-align: right;\n",
       "    }\n",
       "</style>\n",
       "<table border=\"1\" class=\"dataframe\">\n",
       "  <thead>\n",
       "    <tr style=\"text-align: right;\">\n",
       "      <th></th>\n",
       "      <th>num_orders</th>\n",
       "    </tr>\n",
       "    <tr>\n",
       "      <th>datetime</th>\n",
       "      <th></th>\n",
       "    </tr>\n",
       "  </thead>\n",
       "  <tbody>\n",
       "    <tr>\n",
       "      <td>2018-03-01 00:00:00</td>\n",
       "      <td>9</td>\n",
       "    </tr>\n",
       "    <tr>\n",
       "      <td>2018-03-01 00:10:00</td>\n",
       "      <td>14</td>\n",
       "    </tr>\n",
       "    <tr>\n",
       "      <td>2018-03-01 00:20:00</td>\n",
       "      <td>28</td>\n",
       "    </tr>\n",
       "    <tr>\n",
       "      <td>2018-03-01 00:30:00</td>\n",
       "      <td>20</td>\n",
       "    </tr>\n",
       "    <tr>\n",
       "      <td>2018-03-01 00:40:00</td>\n",
       "      <td>32</td>\n",
       "    </tr>\n",
       "  </tbody>\n",
       "</table>\n",
       "</div>"
      ],
      "text/plain": [
       "                     num_orders\n",
       "datetime                       \n",
       "2018-03-01 00:00:00           9\n",
       "2018-03-01 00:10:00          14\n",
       "2018-03-01 00:20:00          28\n",
       "2018-03-01 00:30:00          20\n",
       "2018-03-01 00:40:00          32"
      ]
     },
     "execution_count": 112,
     "metadata": {},
     "output_type": "execute_result"
    }
   ],
   "source": [
    "df.head()"
   ]
  },
  {
   "cell_type": "markdown",
   "metadata": {},
   "source": [
    "Checking for monotonicity..."
   ]
  },
  {
   "cell_type": "code",
   "execution_count": 113,
   "metadata": {},
   "outputs": [
    {
     "data": {
      "text/plain": [
       "True"
      ]
     },
     "execution_count": 113,
     "metadata": {},
     "output_type": "execute_result"
    }
   ],
   "source": [
    "df.index.is_monotonic"
   ]
  },
  {
   "cell_type": "markdown",
   "metadata": {},
   "source": [
    "...ended in success."
   ]
  },
  {
   "cell_type": "markdown",
   "metadata": {},
   "source": [
    "The data is taken into account with an interval of 10 minutes. I am resampling the main dataframe for 1 hour by summing the number of orders."
   ]
  },
  {
   "cell_type": "code",
   "execution_count": 114,
   "metadata": {},
   "outputs": [],
   "source": [
    "df = df.resample('1H').sum()"
   ]
  },
  {
   "cell_type": "markdown",
   "metadata": {},
   "source": [
    "As well as resampling by months and weeks to refine the analysis."
   ]
  },
  {
   "cell_type": "code",
   "execution_count": 115,
   "metadata": {},
   "outputs": [],
   "source": [
    "monthly = df.resample('1M').sum()\n",
    "weekly = df.resample('1W').sum()"
   ]
  },
  {
   "cell_type": "code",
   "execution_count": 116,
   "metadata": {},
   "outputs": [
    {
     "data": {
      "text/plain": [
       "Text(0.5, 1.0, 'Количество заказов по месяцам')"
      ]
     },
     "execution_count": 116,
     "metadata": {},
     "output_type": "execute_result"
    },
    {
     "data": {
      "image/png": "[encoded data removed]",
      "text/plain": [
       "<Figure size 432x288 with 1 Axes>"
      ]
     },
     "metadata": {},
     "output_type": "display_data"
    }
   ],
   "source": [
    "sns.lineplot(x=monthly.index,y=monthly['num_orders']).set_title('Количество заказов по месяцам')"
   ]
  },
  {
   "cell_type": "code",
   "execution_count": 117,
   "metadata": {},
   "outputs": [
    {
     "data": {
      "text/plain": [
       "Text(0.5, 1.0, 'Количество заказов по дням')"
      ]
     },
     "execution_count": 117,
     "metadata": {},
     "output_type": "execute_result"
    },
    {
     "data": {
      "image/png": "[encoded data removed]",
      "text/plain": [
       "<Figure size 432x288 with 1 Axes>"
      ]
     },
     "metadata": {},
     "output_type": "display_data"
    }
   ],
   "source": [
    "sns.lineplot(x=weekly.index,y=weekly['num_orders']).set_title('Количество заказов по дням')"
   ]
  },
  {
   "cell_type": "markdown",
   "metadata": {},
   "source": [
    "Evaluation of the moving average and moving standard deviation."
   ]
  },
  {
   "cell_type": "code",
   "execution_count": 118,
   "metadata": {},
   "outputs": [
    {
     "data": {
      "text/plain": [
       "<matplotlib.axes._subplots.AxesSubplot at 0x7fb8543ef310>"
      ]
     },
     "execution_count": 118,
     "metadata": {},
     "output_type": "execute_result"
    },
    {
     "data": {
      "image/png": "[encoded data removed]",
      "text/plain": [
       "<Figure size 432x288 with 1 Axes>"
      ]
     },
     "metadata": {},
     "output_type": "display_data"
    }
   ],
   "source": [
    "df_gr = df.copy()\n",
    "df_gr['mean'] = df['num_orders'].rolling(25).mean()\n",
    "df_gr['std'] = df['num_orders'].rolling(25).std()\n",
    "df_gr.plot()"
   ]
  },
  {
   "cell_type": "markdown",
   "metadata": {},
   "source": [
    "I copy the dataframe in order to decompose."
   ]
  },
  {
   "cell_type": "code",
   "execution_count": 119,
   "metadata": {},
   "outputs": [],
   "source": [
    "df_copy = df.copy()\n",
    "df_copy['rolling_mean'] = df_copy['num_orders'].shift().rolling(12).mean()\n",
    "df_copy['std'] = df_copy['num_orders'].rolling(12).std()\n",
    "df_copy = df_copy.dropna()"
   ]
  },
  {
   "cell_type": "code",
   "execution_count": 120,
   "metadata": {},
   "outputs": [
    {
     "data": {
      "image/png": "[encoded data removed]",
      "text/plain": [
       "<Figure size 1080x288 with 1 Axes>"
      ]
     },
     "metadata": {},
     "output_type": "display_data"
    },
    {
     "data": {
      "image/png": "[encoded data removed]",
      "text/plain": [
       "<Figure size 1080x288 with 1 Axes>"
      ]
     },
     "metadata": {},
     "output_type": "display_data"
    },
    {
     "data": {
      "image/png": "[encoded data removed]",
      "text/plain": [
       "<Figure size 1080x288 with 1 Axes>"
      ]
     },
     "metadata": {},
     "output_type": "display_data"
    }
   ],
   "source": [
    "decomposed_df = seasonal_decompose(df_copy)\n",
    "decomposed_df.trend.plot(title='Тренд', figsize=(15,4))\n",
    "decomposed_df.seasonal.tail(24*7).plot(title='Сезонность', figsize=(15,4))\n",
    "plt.figure(figsize=(15, 4))\n",
    "decomposed_df.resid.plot(title='Остатки', figsize=(15,4), ax=plt.gca())\n",
    "plt.tight_layout()"
   ]
  },
  {
   "cell_type": "markdown",
   "metadata": {},
   "source": [
    "As you can see, the number of orders is constantly growing, seasonality is perfectly traceable - it indicates a change in activity during the day. I'll check it on a one-day view."
   ]
  },
  {
   "cell_type": "code",
   "execution_count": 121,
   "metadata": {},
   "outputs": [
    {
     "data": {
      "text/plain": [
       "Text(0.5, 1.0, 'Сезонность в течении дня')"
      ]
     },
     "execution_count": 121,
     "metadata": {},
     "output_type": "execute_result"
    },
    {
     "data": {
      "image/png": "[encoded data removed]",
      "text/plain": [
       "<Figure size 1080x288 with 1 Axes>"
      ]
     },
     "metadata": {},
     "output_type": "display_data"
    }
   ],
   "source": [
    "decomposed_df.seasonal['2018-05-10':'2018-05-11'].plot(ax=plt.gca(), figsize=(15,4))\n",
    "plt.title('Сезонность в течении дня')"
   ]
  },
  {
   "cell_type": "markdown",
   "metadata": {},
   "source": [
    "Everything is really so. I will check for stationarity of the series using the Dickey-Fuller test.\n",
    "\n",
    "* The null hypothesis H0 says that the series is not stationary\n",
    "* The alternative hypothesis H1 says that the series is stationary"
   ]
  },
  {
   "cell_type": "code",
   "execution_count": 122,
   "metadata": {},
   "outputs": [
    {
     "data": {
      "text/plain": [
       "-3.068924289027949"
      ]
     },
     "execution_count": 122,
     "metadata": {},
     "output_type": "execute_result"
    }
   ],
   "source": [
    "test_stat, p_val, _, _, crit_val, _ = sts.adfuller(df.num_orders)\n",
    "test_stat"
   ]
  },
  {
   "cell_type": "code",
   "execution_count": 123,
   "metadata": {},
   "outputs": [
    {
     "data": {
      "text/plain": [
       "0.02894005140261345"
      ]
     },
     "execution_count": 123,
     "metadata": {},
     "output_type": "execute_result"
    }
   ],
   "source": [
    "p_val"
   ]
  },
  {
   "cell_type": "code",
   "execution_count": 124,
   "metadata": {},
   "outputs": [
    {
     "data": {
      "text/plain": [
       "{'1%': -3.431842162413052,\n",
       " '5%': -2.8621993540813637,\n",
       " '10%': -2.567120978470452}"
      ]
     },
     "execution_count": 124,
     "metadata": {},
     "output_type": "execute_result"
    }
   ],
   "source": [
    "crit_val"
   ]
  },
  {
   "cell_type": "markdown",
   "metadata": {},
   "source": [
    "p-value is significantly less than 0.05, statistics are less than critical at 5 and 10 percent significance levels.\n",
    "\n",
    "\n",
    "<b/> The null hypothesis is rejected. The series is considered to be stationary. </b>"
   ]
  },
  {
   "cell_type": "markdown",
   "metadata": {},
   "source": [
    "Plotting autocorrelation functions to test data relationships with data from previous periods."
   ]
  },
  {
   "cell_type": "code",
   "execution_count": 125,
   "metadata": {},
   "outputs": [
    {
     "data": {
      "text/plain": [
       "<function matplotlib.pyplot.show(*args, **kw)>"
      ]
     },
     "execution_count": 125,
     "metadata": {},
     "output_type": "execute_result"
    },
    {
     "data": {
      "image/png": "[encoded data removed]",
      "text/plain": [
       "<Figure size 432x288 with 1 Axes>"
      ]
     },
     "metadata": {},
     "output_type": "display_data"
    }
   ],
   "source": [
    "sgt.plot_acf(df.num_orders,  lags = 168, zero = False)\n",
    "plt.title('ACF num_orders', size = 16)\n",
    "plt.show"
   ]
  },
  {
   "cell_type": "code",
   "execution_count": 126,
   "metadata": {},
   "outputs": [
    {
     "data": {
      "image/png": "[encoded data removed]",
      "text/plain": [
       "<Figure size 432x288 with 1 Axes>"
      ]
     },
     "metadata": {},
     "output_type": "display_data"
    }
   ],
   "source": [
    "sgt.plot_pacf(df.num_orders, lags = 168, zero = False, method= ('ols'))\n",
    "plt.title('PACF num_orders', size = 16)\n",
    "plt.show()"
   ]
  },
  {
   "cell_type": "markdown",
   "metadata": {},
   "source": [
    "The data is highly correlated with the value for previous periods. I turn to the creation of features.\n",
    "\n",
    "To do this, I create a function that highlights calendar features and a moving average."
   ]
  },
  {
   "cell_type": "code",
   "execution_count": 127,
   "metadata": {},
   "outputs": [],
   "source": [
    "def make_features(data, max_lag, rolling_mean_size):\n",
    "    \n",
    "    df['one_day_lag'] = df.num_orders.shift(24)      #value shifted by a day  \n",
    "    \n",
    "    data[\"weekday\"] = data.index.weekday             #value of the day of the week\n",
    "    \n",
    "    #data['is_weekend'] = data.weekday.isin([5,6])*1  #feature of the day off\n",
    "    \n",
    "    data['hour'] = data.index.hour                   #hour value\n",
    "    \n",
    "\n",
    "    \n",
    "    for lag in range(1, max_lag + 1):                #features of shifts\n",
    "        data['lag_{}'.format(lag)] = data['num_orders'].shift(lag)\n",
    "\n",
    "    data['rolling_mean'] = data['num_orders'].shift().rolling(rolling_mean_size).mean() #feature of moving average     \n",
    "    \n",
    "    return data"
   ]
  },
  {
   "cell_type": "code",
   "execution_count": 128,
   "metadata": {},
   "outputs": [],
   "source": [
    "df = make_features(df, 6, 24) #maximum number of shifts 6, moving average window size - 24 hours"
   ]
  },
  {
   "cell_type": "code",
   "execution_count": 129,
   "metadata": {},
   "outputs": [
    {
     "data": {
      "text/html": [
       "<div>\n",
       "<style scoped>\n",
       "    .dataframe tbody tr th:only-of-type {\n",
       "        vertical-align: middle;\n",
       "    }\n",
       "\n",
       "    .dataframe tbody tr th {\n",
       "        vertical-align: top;\n",
       "    }\n",
       "\n",
       "    .dataframe thead th {\n",
       "        text-align: right;\n",
       "    }\n",
       "</style>\n",
       "<table border=\"1\" class=\"dataframe\">\n",
       "  <thead>\n",
       "    <tr style=\"text-align: right;\">\n",
       "      <th></th>\n",
       "      <th>num_orders</th>\n",
       "      <th>one_day_lag</th>\n",
       "      <th>weekday</th>\n",
       "      <th>hour</th>\n",
       "      <th>lag_1</th>\n",
       "      <th>lag_2</th>\n",
       "      <th>lag_3</th>\n",
       "      <th>lag_4</th>\n",
       "      <th>lag_5</th>\n",
       "      <th>lag_6</th>\n",
       "      <th>rolling_mean</th>\n",
       "    </tr>\n",
       "    <tr>\n",
       "      <th>datetime</th>\n",
       "      <th></th>\n",
       "      <th></th>\n",
       "      <th></th>\n",
       "      <th></th>\n",
       "      <th></th>\n",
       "      <th></th>\n",
       "      <th></th>\n",
       "      <th></th>\n",
       "      <th></th>\n",
       "      <th></th>\n",
       "      <th></th>\n",
       "    </tr>\n",
       "  </thead>\n",
       "  <tbody>\n",
       "    <tr>\n",
       "      <td>2018-03-01 00:00:00</td>\n",
       "      <td>124</td>\n",
       "      <td>NaN</td>\n",
       "      <td>3</td>\n",
       "      <td>0</td>\n",
       "      <td>NaN</td>\n",
       "      <td>NaN</td>\n",
       "      <td>NaN</td>\n",
       "      <td>NaN</td>\n",
       "      <td>NaN</td>\n",
       "      <td>NaN</td>\n",
       "      <td>NaN</td>\n",
       "    </tr>\n",
       "    <tr>\n",
       "      <td>2018-03-01 01:00:00</td>\n",
       "      <td>85</td>\n",
       "      <td>NaN</td>\n",
       "      <td>3</td>\n",
       "      <td>1</td>\n",
       "      <td>124.0</td>\n",
       "      <td>NaN</td>\n",
       "      <td>NaN</td>\n",
       "      <td>NaN</td>\n",
       "      <td>NaN</td>\n",
       "      <td>NaN</td>\n",
       "      <td>NaN</td>\n",
       "    </tr>\n",
       "    <tr>\n",
       "      <td>2018-03-01 02:00:00</td>\n",
       "      <td>71</td>\n",
       "      <td>NaN</td>\n",
       "      <td>3</td>\n",
       "      <td>2</td>\n",
       "      <td>85.0</td>\n",
       "      <td>124.0</td>\n",
       "      <td>NaN</td>\n",
       "      <td>NaN</td>\n",
       "      <td>NaN</td>\n",
       "      <td>NaN</td>\n",
       "      <td>NaN</td>\n",
       "    </tr>\n",
       "    <tr>\n",
       "      <td>2018-03-01 03:00:00</td>\n",
       "      <td>66</td>\n",
       "      <td>NaN</td>\n",
       "      <td>3</td>\n",
       "      <td>3</td>\n",
       "      <td>71.0</td>\n",
       "      <td>85.0</td>\n",
       "      <td>124.0</td>\n",
       "      <td>NaN</td>\n",
       "      <td>NaN</td>\n",
       "      <td>NaN</td>\n",
       "      <td>NaN</td>\n",
       "    </tr>\n",
       "    <tr>\n",
       "      <td>2018-03-01 04:00:00</td>\n",
       "      <td>43</td>\n",
       "      <td>NaN</td>\n",
       "      <td>3</td>\n",
       "      <td>4</td>\n",
       "      <td>66.0</td>\n",
       "      <td>71.0</td>\n",
       "      <td>85.0</td>\n",
       "      <td>124.0</td>\n",
       "      <td>NaN</td>\n",
       "      <td>NaN</td>\n",
       "      <td>NaN</td>\n",
       "    </tr>\n",
       "    <tr>\n",
       "      <td>...</td>\n",
       "      <td>...</td>\n",
       "      <td>...</td>\n",
       "      <td>...</td>\n",
       "      <td>...</td>\n",
       "      <td>...</td>\n",
       "      <td>...</td>\n",
       "      <td>...</td>\n",
       "      <td>...</td>\n",
       "      <td>...</td>\n",
       "      <td>...</td>\n",
       "      <td>...</td>\n",
       "    </tr>\n",
       "    <tr>\n",
       "      <td>2018-08-31 19:00:00</td>\n",
       "      <td>136</td>\n",
       "      <td>72.0</td>\n",
       "      <td>4</td>\n",
       "      <td>19</td>\n",
       "      <td>207.0</td>\n",
       "      <td>217.0</td>\n",
       "      <td>197.0</td>\n",
       "      <td>116.0</td>\n",
       "      <td>133.0</td>\n",
       "      <td>166.0</td>\n",
       "      <td>164.875000</td>\n",
       "    </tr>\n",
       "    <tr>\n",
       "      <td>2018-08-31 20:00:00</td>\n",
       "      <td>154</td>\n",
       "      <td>142.0</td>\n",
       "      <td>4</td>\n",
       "      <td>20</td>\n",
       "      <td>136.0</td>\n",
       "      <td>207.0</td>\n",
       "      <td>217.0</td>\n",
       "      <td>197.0</td>\n",
       "      <td>116.0</td>\n",
       "      <td>133.0</td>\n",
       "      <td>167.541667</td>\n",
       "    </tr>\n",
       "    <tr>\n",
       "      <td>2018-08-31 21:00:00</td>\n",
       "      <td>159</td>\n",
       "      <td>198.0</td>\n",
       "      <td>4</td>\n",
       "      <td>21</td>\n",
       "      <td>154.0</td>\n",
       "      <td>136.0</td>\n",
       "      <td>207.0</td>\n",
       "      <td>217.0</td>\n",
       "      <td>197.0</td>\n",
       "      <td>116.0</td>\n",
       "      <td>168.041667</td>\n",
       "    </tr>\n",
       "    <tr>\n",
       "      <td>2018-08-31 22:00:00</td>\n",
       "      <td>223</td>\n",
       "      <td>158.0</td>\n",
       "      <td>4</td>\n",
       "      <td>22</td>\n",
       "      <td>159.0</td>\n",
       "      <td>154.0</td>\n",
       "      <td>136.0</td>\n",
       "      <td>207.0</td>\n",
       "      <td>217.0</td>\n",
       "      <td>197.0</td>\n",
       "      <td>166.416667</td>\n",
       "    </tr>\n",
       "    <tr>\n",
       "      <td>2018-08-31 23:00:00</td>\n",
       "      <td>205</td>\n",
       "      <td>246.0</td>\n",
       "      <td>4</td>\n",
       "      <td>23</td>\n",
       "      <td>223.0</td>\n",
       "      <td>159.0</td>\n",
       "      <td>154.0</td>\n",
       "      <td>136.0</td>\n",
       "      <td>207.0</td>\n",
       "      <td>217.0</td>\n",
       "      <td>169.125000</td>\n",
       "    </tr>\n",
       "  </tbody>\n",
       "</table>\n",
       "<p>4416 rows × 11 columns</p>\n",
       "</div>"
      ],
      "text/plain": [
       "                     num_orders  one_day_lag  weekday  hour  lag_1  lag_2  \\\n",
       "datetime                                                                    \n",
       "2018-03-01 00:00:00         124          NaN        3     0    NaN    NaN   \n",
       "2018-03-01 01:00:00          85          NaN        3     1  124.0    NaN   \n",
       "2018-03-01 02:00:00          71          NaN        3     2   85.0  124.0   \n",
       "2018-03-01 03:00:00          66          NaN        3     3   71.0   85.0   \n",
       "2018-03-01 04:00:00          43          NaN        3     4   66.0   71.0   \n",
       "...                         ...          ...      ...   ...    ...    ...   \n",
       "2018-08-31 19:00:00         136         72.0        4    19  207.0  217.0   \n",
       "2018-08-31 20:00:00         154        142.0        4    20  136.0  207.0   \n",
       "2018-08-31 21:00:00         159        198.0        4    21  154.0  136.0   \n",
       "2018-08-31 22:00:00         223        158.0        4    22  159.0  154.0   \n",
       "2018-08-31 23:00:00         205        246.0        4    23  223.0  159.0   \n",
       "\n",
       "                     lag_3  lag_4  lag_5  lag_6  rolling_mean  \n",
       "datetime                                                       \n",
       "2018-03-01 00:00:00    NaN    NaN    NaN    NaN           NaN  \n",
       "2018-03-01 01:00:00    NaN    NaN    NaN    NaN           NaN  \n",
       "2018-03-01 02:00:00    NaN    NaN    NaN    NaN           NaN  \n",
       "2018-03-01 03:00:00  124.0    NaN    NaN    NaN           NaN  \n",
       "2018-03-01 04:00:00   85.0  124.0    NaN    NaN           NaN  \n",
       "...                    ...    ...    ...    ...           ...  \n",
       "2018-08-31 19:00:00  197.0  116.0  133.0  166.0    164.875000  \n",
       "2018-08-31 20:00:00  217.0  197.0  116.0  133.0    167.541667  \n",
       "2018-08-31 21:00:00  207.0  217.0  197.0  116.0    168.041667  \n",
       "2018-08-31 22:00:00  136.0  207.0  217.0  197.0    166.416667  \n",
       "2018-08-31 23:00:00  154.0  136.0  207.0  217.0    169.125000  \n",
       "\n",
       "[4416 rows x 11 columns]"
      ]
     },
     "execution_count": 129,
     "metadata": {},
     "output_type": "execute_result"
    }
   ],
   "source": [
    "df"
   ]
  },
  {
   "cell_type": "markdown",
   "metadata": {},
   "source": [
    "I divide the sample into training and target."
   ]
  },
  {
   "cell_type": "code",
   "execution_count": 130,
   "metadata": {},
   "outputs": [],
   "source": [
    "train, test = train_test_split(df, shuffle=False, test_size=0.1)\n",
    "train = train.dropna()"
   ]
  },
  {
   "cell_type": "markdown",
   "metadata": {},
   "source": [
    "I apply the function and separate the features - I separate the target."
   ]
  },
  {
   "cell_type": "code",
   "execution_count": 131,
   "metadata": {},
   "outputs": [],
   "source": [
    "X = train.drop(['num_orders'], axis=1)\n",
    "y = train['num_orders']\n",
    "X_test = test.drop(['num_orders'],axis=1)\n",
    "y_test = test['num_orders']"
   ]
  },
  {
   "cell_type": "markdown",
   "metadata": {},
   "source": [
    "I check the location of the time data in the samples so that the data from the future does not fall into the training sample."
   ]
  },
  {
   "cell_type": "code",
   "execution_count": 132,
   "metadata": {},
   "outputs": [
    {
     "data": {
      "text/html": [
       "<div>\n",
       "<style scoped>\n",
       "    .dataframe tbody tr th:only-of-type {\n",
       "        vertical-align: middle;\n",
       "    }\n",
       "\n",
       "    .dataframe tbody tr th {\n",
       "        vertical-align: top;\n",
       "    }\n",
       "\n",
       "    .dataframe thead th {\n",
       "        text-align: right;\n",
       "    }\n",
       "</style>\n",
       "<table border=\"1\" class=\"dataframe\">\n",
       "  <thead>\n",
       "    <tr style=\"text-align: right;\">\n",
       "      <th></th>\n",
       "      <th>one_day_lag</th>\n",
       "      <th>weekday</th>\n",
       "      <th>hour</th>\n",
       "      <th>lag_1</th>\n",
       "      <th>lag_2</th>\n",
       "      <th>lag_3</th>\n",
       "      <th>lag_4</th>\n",
       "      <th>lag_5</th>\n",
       "      <th>lag_6</th>\n",
       "      <th>rolling_mean</th>\n",
       "    </tr>\n",
       "    <tr>\n",
       "      <th>datetime</th>\n",
       "      <th></th>\n",
       "      <th></th>\n",
       "      <th></th>\n",
       "      <th></th>\n",
       "      <th></th>\n",
       "      <th></th>\n",
       "      <th></th>\n",
       "      <th></th>\n",
       "      <th></th>\n",
       "      <th></th>\n",
       "    </tr>\n",
       "  </thead>\n",
       "  <tbody>\n",
       "    <tr>\n",
       "      <td>2018-08-13 11:00:00</td>\n",
       "      <td>81.0</td>\n",
       "      <td>0</td>\n",
       "      <td>11</td>\n",
       "      <td>156.0</td>\n",
       "      <td>137.0</td>\n",
       "      <td>91.0</td>\n",
       "      <td>39.0</td>\n",
       "      <td>66.0</td>\n",
       "      <td>83.0</td>\n",
       "      <td>137.250000</td>\n",
       "    </tr>\n",
       "    <tr>\n",
       "      <td>2018-08-13 12:00:00</td>\n",
       "      <td>123.0</td>\n",
       "      <td>0</td>\n",
       "      <td>12</td>\n",
       "      <td>144.0</td>\n",
       "      <td>156.0</td>\n",
       "      <td>137.0</td>\n",
       "      <td>91.0</td>\n",
       "      <td>39.0</td>\n",
       "      <td>66.0</td>\n",
       "      <td>139.875000</td>\n",
       "    </tr>\n",
       "    <tr>\n",
       "      <td>2018-08-13 13:00:00</td>\n",
       "      <td>120.0</td>\n",
       "      <td>0</td>\n",
       "      <td>13</td>\n",
       "      <td>92.0</td>\n",
       "      <td>144.0</td>\n",
       "      <td>156.0</td>\n",
       "      <td>137.0</td>\n",
       "      <td>91.0</td>\n",
       "      <td>39.0</td>\n",
       "      <td>138.583333</td>\n",
       "    </tr>\n",
       "  </tbody>\n",
       "</table>\n",
       "</div>"
      ],
      "text/plain": [
       "                     one_day_lag  weekday  hour  lag_1  lag_2  lag_3  lag_4  \\\n",
       "datetime                                                                      \n",
       "2018-08-13 11:00:00         81.0        0    11  156.0  137.0   91.0   39.0   \n",
       "2018-08-13 12:00:00        123.0        0    12  144.0  156.0  137.0   91.0   \n",
       "2018-08-13 13:00:00        120.0        0    13   92.0  144.0  156.0  137.0   \n",
       "\n",
       "                     lag_5  lag_6  rolling_mean  \n",
       "datetime                                         \n",
       "2018-08-13 11:00:00   66.0   83.0    137.250000  \n",
       "2018-08-13 12:00:00   39.0   66.0    139.875000  \n",
       "2018-08-13 13:00:00   91.0   39.0    138.583333  "
      ]
     },
     "metadata": {},
     "output_type": "display_data"
    },
    {
     "data": {
      "text/html": [
       "<div>\n",
       "<style scoped>\n",
       "    .dataframe tbody tr th:only-of-type {\n",
       "        vertical-align: middle;\n",
       "    }\n",
       "\n",
       "    .dataframe tbody tr th {\n",
       "        vertical-align: top;\n",
       "    }\n",
       "\n",
       "    .dataframe thead th {\n",
       "        text-align: right;\n",
       "    }\n",
       "</style>\n",
       "<table border=\"1\" class=\"dataframe\">\n",
       "  <thead>\n",
       "    <tr style=\"text-align: right;\">\n",
       "      <th></th>\n",
       "      <th>one_day_lag</th>\n",
       "      <th>weekday</th>\n",
       "      <th>hour</th>\n",
       "      <th>lag_1</th>\n",
       "      <th>lag_2</th>\n",
       "      <th>lag_3</th>\n",
       "      <th>lag_4</th>\n",
       "      <th>lag_5</th>\n",
       "      <th>lag_6</th>\n",
       "      <th>rolling_mean</th>\n",
       "    </tr>\n",
       "    <tr>\n",
       "      <th>datetime</th>\n",
       "      <th></th>\n",
       "      <th></th>\n",
       "      <th></th>\n",
       "      <th></th>\n",
       "      <th></th>\n",
       "      <th></th>\n",
       "      <th></th>\n",
       "      <th></th>\n",
       "      <th></th>\n",
       "      <th></th>\n",
       "    </tr>\n",
       "  </thead>\n",
       "  <tbody>\n",
       "    <tr>\n",
       "      <td>2018-08-13 14:00:00</td>\n",
       "      <td>104.0</td>\n",
       "      <td>0</td>\n",
       "      <td>14</td>\n",
       "      <td>119.0</td>\n",
       "      <td>92.0</td>\n",
       "      <td>144.0</td>\n",
       "      <td>156.0</td>\n",
       "      <td>137.0</td>\n",
       "      <td>91.0</td>\n",
       "      <td>138.541667</td>\n",
       "    </tr>\n",
       "    <tr>\n",
       "      <td>2018-08-13 15:00:00</td>\n",
       "      <td>149.0</td>\n",
       "      <td>0</td>\n",
       "      <td>15</td>\n",
       "      <td>102.0</td>\n",
       "      <td>119.0</td>\n",
       "      <td>92.0</td>\n",
       "      <td>144.0</td>\n",
       "      <td>156.0</td>\n",
       "      <td>137.0</td>\n",
       "      <td>138.458333</td>\n",
       "    </tr>\n",
       "    <tr>\n",
       "      <td>2018-08-13 16:00:00</td>\n",
       "      <td>153.0</td>\n",
       "      <td>0</td>\n",
       "      <td>16</td>\n",
       "      <td>175.0</td>\n",
       "      <td>102.0</td>\n",
       "      <td>119.0</td>\n",
       "      <td>92.0</td>\n",
       "      <td>144.0</td>\n",
       "      <td>156.0</td>\n",
       "      <td>139.541667</td>\n",
       "    </tr>\n",
       "  </tbody>\n",
       "</table>\n",
       "</div>"
      ],
      "text/plain": [
       "                     one_day_lag  weekday  hour  lag_1  lag_2  lag_3  lag_4  \\\n",
       "datetime                                                                      \n",
       "2018-08-13 14:00:00        104.0        0    14  119.0   92.0  144.0  156.0   \n",
       "2018-08-13 15:00:00        149.0        0    15  102.0  119.0   92.0  144.0   \n",
       "2018-08-13 16:00:00        153.0        0    16  175.0  102.0  119.0   92.0   \n",
       "\n",
       "                     lag_5  lag_6  rolling_mean  \n",
       "datetime                                         \n",
       "2018-08-13 14:00:00  137.0   91.0    138.541667  \n",
       "2018-08-13 15:00:00  156.0  137.0    138.458333  \n",
       "2018-08-13 16:00:00  144.0  156.0    139.541667  "
      ]
     },
     "metadata": {},
     "output_type": "display_data"
    }
   ],
   "source": [
    "display(X.tail(3))\n",
    "display(X_test.head(3))"
   ]
  },
  {
   "cell_type": "markdown",
   "metadata": {},
   "source": [
    "Checking sample sizes."
   ]
  },
  {
   "cell_type": "code",
   "execution_count": 133,
   "metadata": {},
   "outputs": [
    {
     "name": "stdout",
     "output_type": "stream",
     "text": [
      "Размеры обучающей выборки: 3950 объектов, 10 признаков\n",
      "Размеры тестовой выборки: 442 объектов, 10 признаков\n"
     ]
    }
   ],
   "source": [
    "print('Размеры обучающей выборки: {} объектов, {} признаков'.format(X.shape[0], X.shape[1]))\n",
    "print('Размеры тестовой выборки: {} объектов, {} признаков'.format(X_test.shape[0], X_test.shape[1]))"
   ]
  },
  {
   "cell_type": "markdown",
   "metadata": {},
   "source": [
    "Standardization of lagging values."
   ]
  },
  {
   "cell_type": "code",
   "execution_count": 134,
   "metadata": {},
   "outputs": [],
   "source": [
    "#num_cols = [x for x in df.columns if x.startswith('lag') ]"
   ]
  },
  {
   "cell_type": "code",
   "execution_count": 135,
   "metadata": {},
   "outputs": [],
   "source": [
    "#scaler = StandardScaler()\n",
    "#scaler.fit(X[num_cols])\n",
    "#X[num_cols] = scaler.transform(X[num_cols])\n",
    "#X_test[num_cols]=scaler.transform(X_test[num_cols])"
   ]
  },
  {
   "cell_type": "markdown",
   "metadata": {},
   "source": [
    "## Training"
   ]
  },
  {
   "cell_type": "markdown",
   "metadata": {},
   "source": [
    "Enumeration of models and selection of the best parameters through cross-validation."
   ]
  },
  {
   "cell_type": "code",
   "execution_count": 136,
   "metadata": {},
   "outputs": [],
   "source": [
    "models = [RandomForestRegressor(random_state=42),\n",
    "          LGBMRegressor(random_state=42),\n",
    "          Ridge(random_state=42),\n",
    "          Lasso(random_state=42)\n",
    "         ]\n",
    "\n",
    "param_grid = [{'n_estimators': [50, 100, 200],\n",
    "             'max_depth': [5, 10, 15]},\n",
    "              \n",
    "              {'max_depth': [2, 4, 8],\n",
    "               'num_leaves': [2, 4, 8],\n",
    "               'learning_rate': [0.05, 0.1, 0.5]},\n",
    "              \n",
    "              {'alpha': np.logspace(0,3,4)},\n",
    "              \n",
    "              {'alpha': np.logspace(0,3,4)}]\n",
    "\n",
    "cv = TimeSeriesSplit(n_splits=8)\n",
    "results = []\n",
    "best_score = 10000\n",
    "best_model = None\n",
    "for i, model in enumerate(models):\n",
    "    grid_search = GridSearchCV(estimator=model,\n",
    "                          param_grid=param_grid[i],\n",
    "                          cv = cv,\n",
    "                          scoring = 'neg_mean_squared_error')\n",
    "    result = grid_search.fit(X, y)\n",
    "    cv_results = pd.DataFrame(result.cv_results_)[['mean_test_score',\n",
    "                                                   'std_test_score',\n",
    "                                                   'mean_fit_time',\n",
    "                                                   'mean_score_time',\n",
    "                                                   'rank_test_score']]\n",
    "    cv_results['Model'] = str(model).split('(')[0]\n",
    "    cv_results['RMSE'] = np.sqrt(abs(cv_results['mean_test_score']))\n",
    "    if cv_results['RMSE'].min() < best_score:\n",
    "        best_score=cv_results['RMSE'].min()\n",
    "        best_model = result.best_estimator_\n",
    "    results.append(cv_results)"
   ]
  },
  {
   "cell_type": "markdown",
   "metadata": {},
   "source": [
    "Comparison of the quality of models."
   ]
  },
  {
   "cell_type": "code",
   "execution_count": 137,
   "metadata": {
    "scrolled": true
   },
   "outputs": [
    {
     "data": {
      "text/html": [
       "<div>\n",
       "<style scoped>\n",
       "    .dataframe tbody tr th:only-of-type {\n",
       "        vertical-align: middle;\n",
       "    }\n",
       "\n",
       "    .dataframe tbody tr th {\n",
       "        vertical-align: top;\n",
       "    }\n",
       "\n",
       "    .dataframe thead th {\n",
       "        text-align: right;\n",
       "    }\n",
       "</style>\n",
       "<table border=\"1\" class=\"dataframe\">\n",
       "  <thead>\n",
       "    <tr style=\"text-align: right;\">\n",
       "      <th></th>\n",
       "      <th>mean_test_score</th>\n",
       "      <th>std_test_score</th>\n",
       "      <th>mean_fit_time</th>\n",
       "      <th>mean_score_time</th>\n",
       "      <th>rank_test_score</th>\n",
       "      <th>Model</th>\n",
       "      <th>RMSE</th>\n",
       "    </tr>\n",
       "  </thead>\n",
       "  <tbody>\n",
       "    <tr>\n",
       "      <td>0</td>\n",
       "      <td>-606.867341</td>\n",
       "      <td>200.187498</td>\n",
       "      <td>0.877773</td>\n",
       "      <td>0.045756</td>\n",
       "      <td>1</td>\n",
       "      <td>LGBMRegressor</td>\n",
       "      <td>24.634678</td>\n",
       "    </tr>\n",
       "    <tr>\n",
       "      <td>1</td>\n",
       "      <td>-613.982791</td>\n",
       "      <td>201.039896</td>\n",
       "      <td>0.544202</td>\n",
       "      <td>0.047571</td>\n",
       "      <td>2</td>\n",
       "      <td>LGBMRegressor</td>\n",
       "      <td>24.778676</td>\n",
       "    </tr>\n",
       "    <tr>\n",
       "      <td>2</td>\n",
       "      <td>-625.095981</td>\n",
       "      <td>207.575361</td>\n",
       "      <td>1.715419</td>\n",
       "      <td>0.021998</td>\n",
       "      <td>1</td>\n",
       "      <td>RandomForestRegressor</td>\n",
       "      <td>25.001920</td>\n",
       "    </tr>\n",
       "    <tr>\n",
       "      <td>3</td>\n",
       "      <td>-628.745465</td>\n",
       "      <td>212.304516</td>\n",
       "      <td>0.858428</td>\n",
       "      <td>0.010750</td>\n",
       "      <td>2</td>\n",
       "      <td>RandomForestRegressor</td>\n",
       "      <td>25.074797</td>\n",
       "    </tr>\n",
       "    <tr>\n",
       "      <td>4</td>\n",
       "      <td>-630.023443</td>\n",
       "      <td>229.201093</td>\n",
       "      <td>0.534917</td>\n",
       "      <td>0.075090</td>\n",
       "      <td>3</td>\n",
       "      <td>LGBMRegressor</td>\n",
       "      <td>25.100268</td>\n",
       "    </tr>\n",
       "    <tr>\n",
       "      <td>5</td>\n",
       "      <td>-632.112505</td>\n",
       "      <td>215.423234</td>\n",
       "      <td>1.437001</td>\n",
       "      <td>0.019905</td>\n",
       "      <td>3</td>\n",
       "      <td>RandomForestRegressor</td>\n",
       "      <td>25.141848</td>\n",
       "    </tr>\n",
       "    <tr>\n",
       "      <td>6</td>\n",
       "      <td>-632.418703</td>\n",
       "      <td>219.273397</td>\n",
       "      <td>0.357751</td>\n",
       "      <td>0.054951</td>\n",
       "      <td>4</td>\n",
       "      <td>LGBMRegressor</td>\n",
       "      <td>25.147936</td>\n",
       "    </tr>\n",
       "    <tr>\n",
       "      <td>7</td>\n",
       "      <td>-632.418703</td>\n",
       "      <td>219.273397</td>\n",
       "      <td>0.620264</td>\n",
       "      <td>0.053790</td>\n",
       "      <td>4</td>\n",
       "      <td>LGBMRegressor</td>\n",
       "      <td>25.147936</td>\n",
       "    </tr>\n",
       "    <tr>\n",
       "      <td>8</td>\n",
       "      <td>-635.709632</td>\n",
       "      <td>218.314444</td>\n",
       "      <td>0.686585</td>\n",
       "      <td>0.010098</td>\n",
       "      <td>4</td>\n",
       "      <td>RandomForestRegressor</td>\n",
       "      <td>25.213283</td>\n",
       "    </tr>\n",
       "    <tr>\n",
       "      <td>9</td>\n",
       "      <td>-635.877204</td>\n",
       "      <td>170.107365</td>\n",
       "      <td>0.427246</td>\n",
       "      <td>0.024013</td>\n",
       "      <td>6</td>\n",
       "      <td>LGBMRegressor</td>\n",
       "      <td>25.216606</td>\n",
       "    </tr>\n",
       "    <tr>\n",
       "      <td>10</td>\n",
       "      <td>-635.877204</td>\n",
       "      <td>170.107365</td>\n",
       "      <td>0.462341</td>\n",
       "      <td>0.061886</td>\n",
       "      <td>6</td>\n",
       "      <td>LGBMRegressor</td>\n",
       "      <td>25.216606</td>\n",
       "    </tr>\n",
       "    <tr>\n",
       "      <td>11</td>\n",
       "      <td>-636.235810</td>\n",
       "      <td>234.745379</td>\n",
       "      <td>0.829298</td>\n",
       "      <td>0.033420</td>\n",
       "      <td>8</td>\n",
       "      <td>LGBMRegressor</td>\n",
       "      <td>25.223715</td>\n",
       "    </tr>\n",
       "    <tr>\n",
       "      <td>12</td>\n",
       "      <td>-636.572796</td>\n",
       "      <td>213.447765</td>\n",
       "      <td>0.443000</td>\n",
       "      <td>0.006322</td>\n",
       "      <td>5</td>\n",
       "      <td>RandomForestRegressor</td>\n",
       "      <td>25.230394</td>\n",
       "    </tr>\n",
       "    <tr>\n",
       "      <td>13</td>\n",
       "      <td>-640.857324</td>\n",
       "      <td>216.676180</td>\n",
       "      <td>0.335568</td>\n",
       "      <td>0.005531</td>\n",
       "      <td>6</td>\n",
       "      <td>RandomForestRegressor</td>\n",
       "      <td>25.315160</td>\n",
       "    </tr>\n",
       "    <tr>\n",
       "      <td>14</td>\n",
       "      <td>-642.766810</td>\n",
       "      <td>236.890078</td>\n",
       "      <td>0.310745</td>\n",
       "      <td>0.051679</td>\n",
       "      <td>9</td>\n",
       "      <td>LGBMRegressor</td>\n",
       "      <td>25.352846</td>\n",
       "    </tr>\n",
       "    <tr>\n",
       "      <td>15</td>\n",
       "      <td>-642.766810</td>\n",
       "      <td>236.890078</td>\n",
       "      <td>0.549961</td>\n",
       "      <td>0.085831</td>\n",
       "      <td>9</td>\n",
       "      <td>LGBMRegressor</td>\n",
       "      <td>25.352846</td>\n",
       "    </tr>\n",
       "    <tr>\n",
       "      <td>16</td>\n",
       "      <td>-657.998748</td>\n",
       "      <td>169.115156</td>\n",
       "      <td>0.465495</td>\n",
       "      <td>0.045141</td>\n",
       "      <td>11</td>\n",
       "      <td>LGBMRegressor</td>\n",
       "      <td>25.651486</td>\n",
       "    </tr>\n",
       "    <tr>\n",
       "      <td>17</td>\n",
       "      <td>-657.998748</td>\n",
       "      <td>169.115156</td>\n",
       "      <td>0.999008</td>\n",
       "      <td>0.050809</td>\n",
       "      <td>11</td>\n",
       "      <td>LGBMRegressor</td>\n",
       "      <td>25.651486</td>\n",
       "    </tr>\n",
       "    <tr>\n",
       "      <td>18</td>\n",
       "      <td>-682.654604</td>\n",
       "      <td>188.406550</td>\n",
       "      <td>0.837343</td>\n",
       "      <td>0.072886</td>\n",
       "      <td>13</td>\n",
       "      <td>LGBMRegressor</td>\n",
       "      <td>26.127660</td>\n",
       "    </tr>\n",
       "    <tr>\n",
       "      <td>19</td>\n",
       "      <td>-685.236066</td>\n",
       "      <td>277.051879</td>\n",
       "      <td>1.124021</td>\n",
       "      <td>0.063383</td>\n",
       "      <td>14</td>\n",
       "      <td>LGBMRegressor</td>\n",
       "      <td>26.177014</td>\n",
       "    </tr>\n",
       "    <tr>\n",
       "      <td>20</td>\n",
       "      <td>-685.236066</td>\n",
       "      <td>277.051879</td>\n",
       "      <td>0.357756</td>\n",
       "      <td>0.042191</td>\n",
       "      <td>14</td>\n",
       "      <td>LGBMRegressor</td>\n",
       "      <td>26.177014</td>\n",
       "    </tr>\n",
       "    <tr>\n",
       "      <td>21</td>\n",
       "      <td>-689.700769</td>\n",
       "      <td>259.880012</td>\n",
       "      <td>1.635798</td>\n",
       "      <td>0.074346</td>\n",
       "      <td>16</td>\n",
       "      <td>LGBMRegressor</td>\n",
       "      <td>26.262155</td>\n",
       "    </tr>\n",
       "    <tr>\n",
       "      <td>22</td>\n",
       "      <td>-689.700769</td>\n",
       "      <td>259.880012</td>\n",
       "      <td>0.198478</td>\n",
       "      <td>0.051975</td>\n",
       "      <td>16</td>\n",
       "      <td>LGBMRegressor</td>\n",
       "      <td>26.262155</td>\n",
       "    </tr>\n",
       "    <tr>\n",
       "      <td>23</td>\n",
       "      <td>-689.700769</td>\n",
       "      <td>259.880012</td>\n",
       "      <td>0.346935</td>\n",
       "      <td>0.062644</td>\n",
       "      <td>16</td>\n",
       "      <td>LGBMRegressor</td>\n",
       "      <td>26.262155</td>\n",
       "    </tr>\n",
       "    <tr>\n",
       "      <td>24</td>\n",
       "      <td>-693.150894</td>\n",
       "      <td>178.286129</td>\n",
       "      <td>0.691099</td>\n",
       "      <td>0.023104</td>\n",
       "      <td>19</td>\n",
       "      <td>LGBMRegressor</td>\n",
       "      <td>26.327759</td>\n",
       "    </tr>\n",
       "    <tr>\n",
       "      <td>25</td>\n",
       "      <td>-695.193636</td>\n",
       "      <td>282.883296</td>\n",
       "      <td>0.357519</td>\n",
       "      <td>0.053203</td>\n",
       "      <td>20</td>\n",
       "      <td>LGBMRegressor</td>\n",
       "      <td>26.366525</td>\n",
       "    </tr>\n",
       "    <tr>\n",
       "      <td>26</td>\n",
       "      <td>-695.193636</td>\n",
       "      <td>282.883296</td>\n",
       "      <td>0.416718</td>\n",
       "      <td>0.031945</td>\n",
       "      <td>20</td>\n",
       "      <td>LGBMRegressor</td>\n",
       "      <td>26.366525</td>\n",
       "    </tr>\n",
       "    <tr>\n",
       "      <td>27</td>\n",
       "      <td>-714.193744</td>\n",
       "      <td>290.761564</td>\n",
       "      <td>0.766261</td>\n",
       "      <td>0.012679</td>\n",
       "      <td>7</td>\n",
       "      <td>RandomForestRegressor</td>\n",
       "      <td>26.724404</td>\n",
       "    </tr>\n",
       "    <tr>\n",
       "      <td>28</td>\n",
       "      <td>-716.688487</td>\n",
       "      <td>293.073213</td>\n",
       "      <td>0.196000</td>\n",
       "      <td>0.004618</td>\n",
       "      <td>8</td>\n",
       "      <td>RandomForestRegressor</td>\n",
       "      <td>26.771038</td>\n",
       "    </tr>\n",
       "    <tr>\n",
       "      <td>29</td>\n",
       "      <td>-716.880378</td>\n",
       "      <td>293.658801</td>\n",
       "      <td>0.383969</td>\n",
       "      <td>0.007506</td>\n",
       "      <td>9</td>\n",
       "      <td>RandomForestRegressor</td>\n",
       "      <td>26.774622</td>\n",
       "    </tr>\n",
       "    <tr>\n",
       "      <td>30</td>\n",
       "      <td>-748.306858</td>\n",
       "      <td>327.472851</td>\n",
       "      <td>0.350626</td>\n",
       "      <td>0.074051</td>\n",
       "      <td>22</td>\n",
       "      <td>LGBMRegressor</td>\n",
       "      <td>27.355198</td>\n",
       "    </tr>\n",
       "    <tr>\n",
       "      <td>31</td>\n",
       "      <td>-748.306858</td>\n",
       "      <td>327.472851</td>\n",
       "      <td>0.450345</td>\n",
       "      <td>0.061740</td>\n",
       "      <td>22</td>\n",
       "      <td>LGBMRegressor</td>\n",
       "      <td>27.355198</td>\n",
       "    </tr>\n",
       "    <tr>\n",
       "      <td>32</td>\n",
       "      <td>-748.306858</td>\n",
       "      <td>327.472851</td>\n",
       "      <td>0.206564</td>\n",
       "      <td>0.053608</td>\n",
       "      <td>22</td>\n",
       "      <td>LGBMRegressor</td>\n",
       "      <td>27.355198</td>\n",
       "    </tr>\n",
       "    <tr>\n",
       "      <td>33</td>\n",
       "      <td>-758.253871</td>\n",
       "      <td>245.321922</td>\n",
       "      <td>0.011141</td>\n",
       "      <td>0.001078</td>\n",
       "      <td>1</td>\n",
       "      <td>Ridge</td>\n",
       "      <td>27.536410</td>\n",
       "    </tr>\n",
       "    <tr>\n",
       "      <td>34</td>\n",
       "      <td>-758.254801</td>\n",
       "      <td>245.310265</td>\n",
       "      <td>0.011538</td>\n",
       "      <td>0.001029</td>\n",
       "      <td>2</td>\n",
       "      <td>Ridge</td>\n",
       "      <td>27.536427</td>\n",
       "    </tr>\n",
       "    <tr>\n",
       "      <td>35</td>\n",
       "      <td>-758.255740</td>\n",
       "      <td>245.308269</td>\n",
       "      <td>0.009427</td>\n",
       "      <td>0.001063</td>\n",
       "      <td>3</td>\n",
       "      <td>Ridge</td>\n",
       "      <td>27.536444</td>\n",
       "    </tr>\n",
       "    <tr>\n",
       "      <td>36</td>\n",
       "      <td>-758.255846</td>\n",
       "      <td>245.308058</td>\n",
       "      <td>0.002105</td>\n",
       "      <td>0.000783</td>\n",
       "      <td>4</td>\n",
       "      <td>Ridge</td>\n",
       "      <td>27.536446</td>\n",
       "    </tr>\n",
       "    <tr>\n",
       "      <td>37</td>\n",
       "      <td>-758.303943</td>\n",
       "      <td>245.912159</td>\n",
       "      <td>0.048839</td>\n",
       "      <td>0.009784</td>\n",
       "      <td>1</td>\n",
       "      <td>Lasso</td>\n",
       "      <td>27.537319</td>\n",
       "    </tr>\n",
       "    <tr>\n",
       "      <td>38</td>\n",
       "      <td>-758.557123</td>\n",
       "      <td>247.345341</td>\n",
       "      <td>0.025442</td>\n",
       "      <td>0.001500</td>\n",
       "      <td>2</td>\n",
       "      <td>Lasso</td>\n",
       "      <td>27.541916</td>\n",
       "    </tr>\n",
       "    <tr>\n",
       "      <td>39</td>\n",
       "      <td>-794.834437</td>\n",
       "      <td>268.678259</td>\n",
       "      <td>0.024459</td>\n",
       "      <td>0.001352</td>\n",
       "      <td>3</td>\n",
       "      <td>Lasso</td>\n",
       "      <td>28.192808</td>\n",
       "    </tr>\n",
       "    <tr>\n",
       "      <td>40</td>\n",
       "      <td>-827.899698</td>\n",
       "      <td>382.641129</td>\n",
       "      <td>0.418430</td>\n",
       "      <td>0.030367</td>\n",
       "      <td>25</td>\n",
       "      <td>LGBMRegressor</td>\n",
       "      <td>28.773246</td>\n",
       "    </tr>\n",
       "    <tr>\n",
       "      <td>41</td>\n",
       "      <td>-827.899698</td>\n",
       "      <td>382.641129</td>\n",
       "      <td>0.190267</td>\n",
       "      <td>0.060814</td>\n",
       "      <td>25</td>\n",
       "      <td>LGBMRegressor</td>\n",
       "      <td>28.773246</td>\n",
       "    </tr>\n",
       "    <tr>\n",
       "      <td>42</td>\n",
       "      <td>-827.899698</td>\n",
       "      <td>382.641129</td>\n",
       "      <td>0.450317</td>\n",
       "      <td>0.020492</td>\n",
       "      <td>25</td>\n",
       "      <td>LGBMRegressor</td>\n",
       "      <td>28.773246</td>\n",
       "    </tr>\n",
       "    <tr>\n",
       "      <td>43</td>\n",
       "      <td>-1634.489569</td>\n",
       "      <td>760.002143</td>\n",
       "      <td>0.014282</td>\n",
       "      <td>0.010389</td>\n",
       "      <td>4</td>\n",
       "      <td>Lasso</td>\n",
       "      <td>40.428821</td>\n",
       "    </tr>\n",
       "  </tbody>\n",
       "</table>\n",
       "</div>"
      ],
      "text/plain": [
       "    mean_test_score  std_test_score  mean_fit_time  mean_score_time  \\\n",
       "0       -606.867341      200.187498       0.877773         0.045756   \n",
       "1       -613.982791      201.039896       0.544202         0.047571   \n",
       "2       -625.095981      207.575361       1.715419         0.021998   \n",
       "3       -628.745465      212.304516       0.858428         0.010750   \n",
       "4       -630.023443      229.201093       0.534917         0.075090   \n",
       "5       -632.112505      215.423234       1.437001         0.019905   \n",
       "6       -632.418703      219.273397       0.357751         0.054951   \n",
       "7       -632.418703      219.273397       0.620264         0.053790   \n",
       "8       -635.709632      218.314444       0.686585         0.010098   \n",
       "9       -635.877204      170.107365       0.427246         0.024013   \n",
       "10      -635.877204      170.107365       0.462341         0.061886   \n",
       "11      -636.235810      234.745379       0.829298         0.033420   \n",
       "12      -636.572796      213.447765       0.443000         0.006322   \n",
       "13      -640.857324      216.676180       0.335568         0.005531   \n",
       "14      -642.766810      236.890078       0.310745         0.051679   \n",
       "15      -642.766810      236.890078       0.549961         0.085831   \n",
       "16      -657.998748      169.115156       0.465495         0.045141   \n",
       "17      -657.998748      169.115156       0.999008         0.050809   \n",
       "18      -682.654604      188.406550       0.837343         0.072886   \n",
       "19      -685.236066      277.051879       1.124021         0.063383   \n",
       "20      -685.236066      277.051879       0.357756         0.042191   \n",
       "21      -689.700769      259.880012       1.635798         0.074346   \n",
       "22      -689.700769      259.880012       0.198478         0.051975   \n",
       "23      -689.700769      259.880012       0.346935         0.062644   \n",
       "24      -693.150894      178.286129       0.691099         0.023104   \n",
       "25      -695.193636      282.883296       0.357519         0.053203   \n",
       "26      -695.193636      282.883296       0.416718         0.031945   \n",
       "27      -714.193744      290.761564       0.766261         0.012679   \n",
       "28      -716.688487      293.073213       0.196000         0.004618   \n",
       "29      -716.880378      293.658801       0.383969         0.007506   \n",
       "30      -748.306858      327.472851       0.350626         0.074051   \n",
       "31      -748.306858      327.472851       0.450345         0.061740   \n",
       "32      -748.306858      327.472851       0.206564         0.053608   \n",
       "33      -758.253871      245.321922       0.011141         0.001078   \n",
       "34      -758.254801      245.310265       0.011538         0.001029   \n",
       "35      -758.255740      245.308269       0.009427         0.001063   \n",
       "36      -758.255846      245.308058       0.002105         0.000783   \n",
       "37      -758.303943      245.912159       0.048839         0.009784   \n",
       "38      -758.557123      247.345341       0.025442         0.001500   \n",
       "39      -794.834437      268.678259       0.024459         0.001352   \n",
       "40      -827.899698      382.641129       0.418430         0.030367   \n",
       "41      -827.899698      382.641129       0.190267         0.060814   \n",
       "42      -827.899698      382.641129       0.450317         0.020492   \n",
       "43     -1634.489569      760.002143       0.014282         0.010389   \n",
       "\n",
       "    rank_test_score                  Model       RMSE  \n",
       "0                 1          LGBMRegressor  24.634678  \n",
       "1                 2          LGBMRegressor  24.778676  \n",
       "2                 1  RandomForestRegressor  25.001920  \n",
       "3                 2  RandomForestRegressor  25.074797  \n",
       "4                 3          LGBMRegressor  25.100268  \n",
       "5                 3  RandomForestRegressor  25.141848  \n",
       "6                 4          LGBMRegressor  25.147936  \n",
       "7                 4          LGBMRegressor  25.147936  \n",
       "8                 4  RandomForestRegressor  25.213283  \n",
       "9                 6          LGBMRegressor  25.216606  \n",
       "10                6          LGBMRegressor  25.216606  \n",
       "11                8          LGBMRegressor  25.223715  \n",
       "12                5  RandomForestRegressor  25.230394  \n",
       "13                6  RandomForestRegressor  25.315160  \n",
       "14                9          LGBMRegressor  25.352846  \n",
       "15                9          LGBMRegressor  25.352846  \n",
       "16               11          LGBMRegressor  25.651486  \n",
       "17               11          LGBMRegressor  25.651486  \n",
       "18               13          LGBMRegressor  26.127660  \n",
       "19               14          LGBMRegressor  26.177014  \n",
       "20               14          LGBMRegressor  26.177014  \n",
       "21               16          LGBMRegressor  26.262155  \n",
       "22               16          LGBMRegressor  26.262155  \n",
       "23               16          LGBMRegressor  26.262155  \n",
       "24               19          LGBMRegressor  26.327759  \n",
       "25               20          LGBMRegressor  26.366525  \n",
       "26               20          LGBMRegressor  26.366525  \n",
       "27                7  RandomForestRegressor  26.724404  \n",
       "28                8  RandomForestRegressor  26.771038  \n",
       "29                9  RandomForestRegressor  26.774622  \n",
       "30               22          LGBMRegressor  27.355198  \n",
       "31               22          LGBMRegressor  27.355198  \n",
       "32               22          LGBMRegressor  27.355198  \n",
       "33                1                  Ridge  27.536410  \n",
       "34                2                  Ridge  27.536427  \n",
       "35                3                  Ridge  27.536444  \n",
       "36                4                  Ridge  27.536446  \n",
       "37                1                  Lasso  27.537319  \n",
       "38                2                  Lasso  27.541916  \n",
       "39                3                  Lasso  28.192808  \n",
       "40               25          LGBMRegressor  28.773246  \n",
       "41               25          LGBMRegressor  28.773246  \n",
       "42               25          LGBMRegressor  28.773246  \n",
       "43                4                  Lasso  40.428821  "
      ]
     },
     "execution_count": 137,
     "metadata": {},
     "output_type": "execute_result"
    }
   ],
   "source": [
    "pd.concat([result for result in results], axis=0).sort_values(by='RMSE', ascending = True).reset_index(drop=True)"
   ]
  },
  {
   "cell_type": "markdown",
   "metadata": {},
   "source": [
    "Choice of the best model."
   ]
  },
  {
   "cell_type": "code",
   "execution_count": 138,
   "metadata": {},
   "outputs": [
    {
     "data": {
      "text/plain": [
       "LGBMRegressor(boosting_type='gbdt', class_weight=None, colsample_bytree=1.0,\n",
       "              importance_type='split', learning_rate=0.1, max_depth=8,\n",
       "              min_child_samples=20, min_child_weight=0.001, min_split_gain=0.0,\n",
       "              n_estimators=100, n_jobs=-1, num_leaves=8, objective=None,\n",
       "              random_state=42, reg_alpha=0.0, reg_lambda=0.0, silent=True,\n",
       "              subsample=1.0, subsample_for_bin=200000, subsample_freq=0)"
      ]
     },
     "execution_count": 138,
     "metadata": {},
     "output_type": "execute_result"
    }
   ],
   "source": [
    "best_model"
   ]
  },
  {
   "cell_type": "markdown",
   "metadata": {},
   "source": [
    "The best result is shown by the LGBMRegressor model. I conduct testing, calculate RMSE."
   ]
  },
  {
   "cell_type": "markdown",
   "metadata": {},
   "source": [
    "## Testing"
   ]
  },
  {
   "cell_type": "markdown",
   "metadata": {},
   "source": [
    "I test and evaluate the performance of the best model. I start by estimating the RMSE on the test set."
   ]
  },
  {
   "cell_type": "code",
   "execution_count": 139,
   "metadata": {},
   "outputs": [
    {
     "name": "stdout",
     "output_type": "stream",
     "text": [
      "RMSE_test 43.8533830148689\n"
     ]
    }
   ],
   "source": [
    "predictions = best_model.predict(X_test)\n",
    "print(\"RMSE_test\", np.sqrt(mean_squared_error(y_test, predictions)))"
   ]
  },
  {
   "cell_type": "markdown",
   "metadata": {},
   "source": [
    "## General Conclusion"
   ]
  },
  {
   "cell_type": "markdown",
   "metadata": {},
   "source": [
    "Thus, the threshold of 48 RMSE units has been passed. The cleaned data is analyzed, new features are created, the model and its hyperparameters are defined, the model is tested."
   ]
  },
  {
   "cell_type": "code",
   "execution_count": 140,
   "metadata": {},
   "outputs": [],
   "source": [
    "true_pred = pd.DataFrame({ \n",
    "    'y_true' : y_test,\n",
    "    'y_pred' : best_model.predict(X_test)\n",
    "    })"
   ]
  },
  {
   "cell_type": "code",
   "execution_count": 141,
   "metadata": {},
   "outputs": [
    {
     "data": {
      "image/png": "[encoded data removed]",
      "text/plain": [
       "<Figure size 1008x432 with 1 Axes>"
      ]
     },
     "metadata": {},
     "output_type": "display_data"
    }
   ],
   "source": [
    "true_pred.plot(figsize=(14,6), title='Сравнение настоящих и предсказанных значений');"
   ]
  },
  {
   "cell_type": "code",
   "execution_count": 142,
   "metadata": {},
   "outputs": [
    {
     "data": {
      "text/plain": [
       "{'fit_time': array([1.36782455, 0.89802313, 0.6064353 ]),\n",
       " 'score_time': array([0.09900975, 0.01006937, 0.01220059]),\n",
       " 'test_score': array([0.54243064, 0.56876285, 0.41482401]),\n",
       " 'train_score': array([0.71688822, 0.76223933, 0.72671221])}"
      ]
     },
     "execution_count": 142,
     "metadata": {},
     "output_type": "execute_result"
    }
   ],
   "source": [
    "from sklearn.model_selection import cross_validate\n",
    "cv_dict = cross_validate(best_model, X, y, return_train_score=True)\n",
    "cv_dict"
   ]
  },
  {
   "cell_type": "code",
   "execution_count": 143,
   "metadata": {},
   "outputs": [
    {
     "name": "stdout",
     "output_type": "stream",
     "text": [
      "Влияние признаков на результат предсказания\n"
     ]
    },
    {
     "data": {
      "text/html": [
       "<div>\n",
       "<style scoped>\n",
       "    .dataframe tbody tr th:only-of-type {\n",
       "        vertical-align: middle;\n",
       "    }\n",
       "\n",
       "    .dataframe tbody tr th {\n",
       "        vertical-align: top;\n",
       "    }\n",
       "\n",
       "    .dataframe thead th {\n",
       "        text-align: right;\n",
       "    }\n",
       "</style>\n",
       "<table border=\"1\" class=\"dataframe\">\n",
       "  <thead>\n",
       "    <tr style=\"text-align: right;\">\n",
       "      <th></th>\n",
       "      <th>features</th>\n",
       "      <th>feature_importances</th>\n",
       "    </tr>\n",
       "  </thead>\n",
       "  <tbody>\n",
       "    <tr>\n",
       "      <td>2</td>\n",
       "      <td>hour</td>\n",
       "      <td>181</td>\n",
       "    </tr>\n",
       "    <tr>\n",
       "      <td>0</td>\n",
       "      <td>one_day_lag</td>\n",
       "      <td>93</td>\n",
       "    </tr>\n",
       "    <tr>\n",
       "      <td>3</td>\n",
       "      <td>lag_1</td>\n",
       "      <td>69</td>\n",
       "    </tr>\n",
       "    <tr>\n",
       "      <td>1</td>\n",
       "      <td>weekday</td>\n",
       "      <td>67</td>\n",
       "    </tr>\n",
       "    <tr>\n",
       "      <td>5</td>\n",
       "      <td>lag_3</td>\n",
       "      <td>61</td>\n",
       "    </tr>\n",
       "    <tr>\n",
       "      <td>4</td>\n",
       "      <td>lag_2</td>\n",
       "      <td>57</td>\n",
       "    </tr>\n",
       "    <tr>\n",
       "      <td>9</td>\n",
       "      <td>rolling_mean</td>\n",
       "      <td>56</td>\n",
       "    </tr>\n",
       "    <tr>\n",
       "      <td>6</td>\n",
       "      <td>lag_4</td>\n",
       "      <td>41</td>\n",
       "    </tr>\n",
       "    <tr>\n",
       "      <td>8</td>\n",
       "      <td>lag_6</td>\n",
       "      <td>40</td>\n",
       "    </tr>\n",
       "    <tr>\n",
       "      <td>7</td>\n",
       "      <td>lag_5</td>\n",
       "      <td>35</td>\n",
       "    </tr>\n",
       "  </tbody>\n",
       "</table>\n",
       "</div>"
      ],
      "text/plain": [
       "       features  feature_importances\n",
       "2          hour                  181\n",
       "0   one_day_lag                   93\n",
       "3         lag_1                   69\n",
       "1       weekday                   67\n",
       "5         lag_3                   61\n",
       "4         lag_2                   57\n",
       "9  rolling_mean                   56\n",
       "6         lag_4                   41\n",
       "8         lag_6                   40\n",
       "7         lag_5                   35"
      ]
     },
     "metadata": {},
     "output_type": "display_data"
    }
   ],
   "source": [
    "feature_importances = pd.DataFrame({'features' : list(X.columns), \n",
    "                                    'feature_importances':  best_model.feature_importances_})\\\n",
    "                                    .sort_values(by='feature_importances', ascending=False)\n",
    "print('Влияние признаков на результат предсказания')\n",
    "display(feature_importances)"
   ]
  },
  {
   "cell_type": "code",
   "execution_count": 144,
   "metadata": {
    "scrolled": false
   },
   "outputs": [
    {
     "data": {
      "image/png": "[encoded data removed]",
      "text/plain": [
       "<Figure size 864x864 with 1 Axes>"
      ]
     },
     "metadata": {},
     "output_type": "display_data"
    }
   ],
   "source": [
    "feature_importances.plot.pie(explode=[0.1]*len(X.columns),\n",
    "                             labels = feature_importances.features,\n",
    "                             y = 'feature_importances', autopct='%1.1f%%', shadow=True, legend=False, figsize=(12, 12), \n",
    "                             title='Круговая диаграмма влияния признаков на результат предсказания');"
   ]
  }
 ],
 "metadata": {
  "ExecuteTimeLog": [
   {
    "duration": 1830,
    "start_time": "2021-11-18T04:41:28.894Z"
   },
   {
    "duration": 2406,
    "start_time": "2021-11-18T05:12:55.022Z"
   },
   {
    "duration": -1373,
    "start_time": "2021-11-18T05:12:58.804Z"
   },
   {
    "duration": 2319,
    "start_time": "2021-11-18T05:12:59.974Z"
   },
   {
    "duration": 66,
    "start_time": "2021-11-18T05:13:33.574Z"
   },
   {
    "duration": 13,
    "start_time": "2021-11-18T05:20:08.067Z"
   },
   {
    "duration": 7,
    "start_time": "2021-11-18T05:21:45.480Z"
   },
   {
    "duration": 14,
    "start_time": "2021-11-18T05:26:02.368Z"
   },
   {
    "duration": 18,
    "start_time": "2021-11-18T05:40:19.106Z"
   },
   {
    "duration": 18,
    "start_time": "2021-11-18T05:40:26.604Z"
   },
   {
    "duration": 396,
    "start_time": "2021-11-18T05:40:45.443Z"
   },
   {
    "duration": 404,
    "start_time": "2021-11-18T05:41:43.216Z"
   },
   {
    "duration": 440,
    "start_time": "2021-11-18T05:42:00.750Z"
   },
   {
    "duration": 326,
    "start_time": "2021-11-18T05:42:27.229Z"
   },
   {
    "duration": 650,
    "start_time": "2021-11-18T05:43:15.273Z"
   },
   {
    "duration": 335,
    "start_time": "2021-11-18T05:43:25.418Z"
   },
   {
    "duration": 690,
    "start_time": "2021-11-18T05:43:32.162Z"
   },
   {
    "duration": 1332,
    "start_time": "2021-11-18T05:44:27.573Z"
   },
   {
    "duration": 12,
    "start_time": "2021-11-18T05:46:38.214Z"
   },
   {
    "duration": 2167,
    "start_time": "2021-11-18T05:46:52.598Z"
   },
   {
    "duration": 3077,
    "start_time": "2021-11-18T05:48:45.686Z"
   },
   {
    "duration": 2868,
    "start_time": "2021-11-18T05:49:36.852Z"
   },
   {
    "duration": 2247,
    "start_time": "2021-11-18T05:49:47.995Z"
   },
   {
    "duration": 1009,
    "start_time": "2021-11-18T05:50:36.079Z"
   },
   {
    "duration": 2931,
    "start_time": "2021-11-18T05:51:47.988Z"
   },
   {
    "duration": 2128,
    "start_time": "2021-11-18T05:52:05.138Z"
   },
   {
    "duration": 2725,
    "start_time": "2021-11-18T05:52:29.624Z"
   },
   {
    "duration": 811,
    "start_time": "2021-11-18T05:52:42.375Z"
   },
   {
    "duration": 2403,
    "start_time": "2021-11-18T05:52:53.215Z"
   },
   {
    "duration": 2917,
    "start_time": "2021-11-18T05:53:01.342Z"
   },
   {
    "duration": 2671,
    "start_time": "2021-11-18T06:01:05.513Z"
   },
   {
    "duration": 5,
    "start_time": "2021-11-18T06:01:23.177Z"
   },
   {
    "duration": 5,
    "start_time": "2021-11-18T06:01:36.473Z"
   },
   {
    "duration": 656,
    "start_time": "2021-11-18T06:06:35.357Z"
   },
   {
    "duration": 42472,
    "start_time": "2021-11-18T06:06:44.645Z"
   },
   {
    "duration": 6,
    "start_time": "2021-11-18T06:11:58.890Z"
   },
   {
    "duration": 7,
    "start_time": "2021-11-18T06:14:18.897Z"
   },
   {
    "duration": 5,
    "start_time": "2021-11-18T20:48:59.409Z"
   },
   {
    "duration": 275,
    "start_time": "2021-11-18T22:39:41.950Z"
   },
   {
    "duration": 1204,
    "start_time": "2021-11-18T22:39:50.274Z"
   },
   {
    "duration": 37,
    "start_time": "2021-11-18T22:39:51.480Z"
   },
   {
    "duration": 9,
    "start_time": "2021-11-18T22:39:51.519Z"
   },
   {
    "duration": 11,
    "start_time": "2021-11-18T22:39:51.530Z"
   },
   {
    "duration": 14,
    "start_time": "2021-11-18T22:39:51.542Z"
   },
   {
    "duration": 20,
    "start_time": "2021-11-18T22:39:51.557Z"
   },
   {
    "duration": 249,
    "start_time": "2021-11-18T22:39:51.578Z"
   },
   {
    "duration": 279,
    "start_time": "2021-11-18T22:39:51.829Z"
   },
   {
    "duration": 571,
    "start_time": "2021-11-18T22:39:52.110Z"
   },
   {
    "duration": 10,
    "start_time": "2021-11-18T22:39:52.684Z"
   },
   {
    "duration": 1271,
    "start_time": "2021-11-18T22:42:24.990Z"
   },
   {
    "duration": 37,
    "start_time": "2021-11-18T22:42:26.263Z"
   },
   {
    "duration": 19,
    "start_time": "2021-11-18T22:42:26.303Z"
   },
   {
    "duration": 25,
    "start_time": "2021-11-18T22:42:26.324Z"
   },
   {
    "duration": 34,
    "start_time": "2021-11-18T22:42:26.350Z"
   },
   {
    "duration": 25,
    "start_time": "2021-11-18T22:42:26.386Z"
   },
   {
    "duration": 280,
    "start_time": "2021-11-18T22:42:26.413Z"
   },
   {
    "duration": 267,
    "start_time": "2021-11-18T22:42:26.696Z"
   },
   {
    "duration": 560,
    "start_time": "2021-11-18T22:42:26.965Z"
   },
   {
    "duration": 9,
    "start_time": "2021-11-18T22:42:27.527Z"
   },
   {
    "duration": 1663,
    "start_time": "2021-11-18T22:42:27.538Z"
   },
   {
    "duration": 310,
    "start_time": "2021-11-18T22:42:29.202Z"
   },
   {
    "duration": 2153,
    "start_time": "2021-11-18T22:42:29.514Z"
   },
   {
    "duration": 96,
    "start_time": "2021-11-18T22:42:31.669Z"
   },
   {
    "duration": 145,
    "start_time": "2021-11-18T22:42:31.767Z"
   },
   {
    "duration": 424,
    "start_time": "2021-11-18T22:42:31.913Z"
   },
   {
    "duration": 24311,
    "start_time": "2021-11-18T22:42:32.339Z"
   },
   {
    "duration": 11,
    "start_time": "2021-11-18T22:42:56.653Z"
   },
   {
    "duration": 1280,
    "start_time": "2021-11-18T22:42:56.666Z"
   },
   {
    "duration": -1544,
    "start_time": "2021-11-18T22:42:59.492Z"
   },
   {
    "duration": 5,
    "start_time": "2021-11-18T22:46:24.221Z"
   },
   {
    "duration": 64,
    "start_time": "2021-11-18T22:46:24.228Z"
   },
   {
    "duration": 6,
    "start_time": "2021-11-18T22:46:24.294Z"
   },
   {
    "duration": 30,
    "start_time": "2021-11-18T22:46:24.302Z"
   },
   {
    "duration": 16,
    "start_time": "2021-11-18T22:46:24.334Z"
   },
   {
    "duration": 25,
    "start_time": "2021-11-18T22:46:24.352Z"
   },
   {
    "duration": 266,
    "start_time": "2021-11-18T22:46:24.378Z"
   },
   {
    "duration": 291,
    "start_time": "2021-11-18T22:46:24.647Z"
   },
   {
    "duration": 484,
    "start_time": "2021-11-18T22:46:24.940Z"
   },
   {
    "duration": 9,
    "start_time": "2021-11-18T22:46:25.426Z"
   },
   {
    "duration": 1697,
    "start_time": "2021-11-18T22:46:25.436Z"
   },
   {
    "duration": 320,
    "start_time": "2021-11-18T22:46:27.134Z"
   },
   {
    "duration": 2009,
    "start_time": "2021-11-18T22:46:27.456Z"
   },
   {
    "duration": 5,
    "start_time": "2021-11-18T22:46:29.467Z"
   },
   {
    "duration": 4,
    "start_time": "2021-11-18T22:46:29.564Z"
   },
   {
    "duration": 372,
    "start_time": "2021-11-18T22:46:29.570Z"
   },
   {
    "duration": 24329,
    "start_time": "2021-11-18T22:46:29.944Z"
   },
   {
    "duration": 4,
    "start_time": "2021-11-18T22:46:54.276Z"
   },
   {
    "duration": 1179,
    "start_time": "2021-11-18T22:46:54.282Z"
   },
   {
    "duration": -1567,
    "start_time": "2021-11-18T22:46:57.029Z"
   },
   {
    "duration": 5,
    "start_time": "2021-11-18T22:49:47.607Z"
   },
   {
    "duration": 487,
    "start_time": "2021-11-18T22:49:50.375Z"
   },
   {
    "duration": 5,
    "start_time": "2021-11-18T22:53:17.508Z"
   },
   {
    "duration": 40,
    "start_time": "2021-11-18T22:53:17.515Z"
   },
   {
    "duration": 7,
    "start_time": "2021-11-18T22:53:17.557Z"
   },
   {
    "duration": 16,
    "start_time": "2021-11-18T22:53:17.566Z"
   },
   {
    "duration": 24,
    "start_time": "2021-11-18T22:53:17.583Z"
   },
   {
    "duration": 13,
    "start_time": "2021-11-18T22:53:17.609Z"
   },
   {
    "duration": 315,
    "start_time": "2021-11-18T22:53:17.624Z"
   },
   {
    "duration": 290,
    "start_time": "2021-11-18T22:53:17.941Z"
   },
   {
    "duration": 503,
    "start_time": "2021-11-18T22:53:18.233Z"
   },
   {
    "duration": 9,
    "start_time": "2021-11-18T22:53:18.738Z"
   },
   {
    "duration": 1807,
    "start_time": "2021-11-18T22:53:18.749Z"
   },
   {
    "duration": 316,
    "start_time": "2021-11-18T22:53:20.563Z"
   },
   {
    "duration": 1584,
    "start_time": "2021-11-18T22:53:20.881Z"
   },
   {
    "duration": 6,
    "start_time": "2021-11-18T22:53:22.468Z"
   },
   {
    "duration": 4,
    "start_time": "2021-11-18T22:53:22.564Z"
   },
   {
    "duration": 395,
    "start_time": "2021-11-18T22:53:22.569Z"
   },
   {
    "duration": 22906,
    "start_time": "2021-11-18T22:53:22.966Z"
   },
   {
    "duration": 5,
    "start_time": "2021-11-18T22:53:45.874Z"
   },
   {
    "duration": 1231,
    "start_time": "2021-11-18T22:53:45.881Z"
   },
   {
    "duration": -1588,
    "start_time": "2021-11-18T22:53:48.702Z"
   },
   {
    "duration": 5,
    "start_time": "2021-11-18T22:54:38.278Z"
   },
   {
    "duration": 1662,
    "start_time": "2021-11-18T22:54:46.901Z"
   },
   {
    "duration": 5,
    "start_time": "2021-11-18T23:01:42.034Z"
   },
   {
    "duration": 1312,
    "start_time": "2021-11-18T23:01:44.789Z"
   },
   {
    "duration": 8,
    "start_time": "2021-11-18T23:02:54.520Z"
   },
   {
    "duration": 1218,
    "start_time": "2021-11-18T23:03:13.519Z"
   },
   {
    "duration": 4,
    "start_time": "2021-11-18T23:03:15.943Z"
   },
   {
    "duration": 495,
    "start_time": "2021-11-18T23:03:17.896Z"
   },
   {
    "duration": 473,
    "start_time": "2021-11-18T23:03:23.606Z"
   },
   {
    "duration": 4,
    "start_time": "2021-11-18T23:03:46.053Z"
   },
   {
    "duration": 597,
    "start_time": "2021-11-18T23:03:47.679Z"
   },
   {
    "duration": 5,
    "start_time": "2021-11-18T23:04:10.812Z"
   },
   {
    "duration": 501,
    "start_time": "2021-11-18T23:04:13.059Z"
   },
   {
    "duration": 4,
    "start_time": "2021-11-18T23:04:27.587Z"
   },
   {
    "duration": 6693,
    "start_time": "2021-11-18T23:04:29.426Z"
   },
   {
    "duration": 5,
    "start_time": "2021-11-19T13:21:41.902Z"
   },
   {
    "duration": 63,
    "start_time": "2021-11-19T13:21:41.909Z"
   },
   {
    "duration": 7,
    "start_time": "2021-11-19T13:21:41.974Z"
   },
   {
    "duration": 18,
    "start_time": "2021-11-19T13:21:41.988Z"
   },
   {
    "duration": 18,
    "start_time": "2021-11-19T13:21:42.008Z"
   },
   {
    "duration": 31,
    "start_time": "2021-11-19T13:21:42.028Z"
   },
   {
    "duration": 387,
    "start_time": "2021-11-19T13:21:42.062Z"
   },
   {
    "duration": 343,
    "start_time": "2021-11-19T13:21:42.452Z"
   },
   {
    "duration": 1009,
    "start_time": "2021-11-19T13:21:42.800Z"
   },
   {
    "duration": 11,
    "start_time": "2021-11-19T13:21:43.812Z"
   },
   {
    "duration": 1950,
    "start_time": "2021-11-19T13:21:43.825Z"
   },
   {
    "duration": 494,
    "start_time": "2021-11-19T13:21:45.777Z"
   },
   {
    "duration": 5926,
    "start_time": "2021-11-19T13:21:46.272Z"
   },
   {
    "duration": 75,
    "start_time": "2021-11-19T13:21:52.200Z"
   },
   {
    "duration": 19,
    "start_time": "2021-11-19T13:21:52.280Z"
   },
   {
    "duration": 501,
    "start_time": "2021-11-19T13:21:52.304Z"
   },
   {
    "duration": 121675,
    "start_time": "2021-11-19T13:21:52.806Z"
   },
   {
    "duration": 14,
    "start_time": "2021-11-19T13:23:54.484Z"
   },
   {
    "duration": 6,
    "start_time": "2021-11-19T13:23:54.499Z"
   },
   {
    "duration": 6938,
    "start_time": "2021-11-19T13:23:54.507Z"
   },
   {
    "duration": -4699,
    "start_time": "2021-11-19T13:24:06.147Z"
   },
   {
    "duration": 6,
    "start_time": "2021-11-19T13:30:19.376Z"
   },
   {
    "duration": 6,
    "start_time": "2021-11-19T13:30:40.003Z"
   },
   {
    "duration": 1380,
    "start_time": "2021-11-19T13:30:41.692Z"
   },
   {
    "duration": 7,
    "start_time": "2021-11-19T13:30:47.531Z"
   },
   {
    "duration": 1309,
    "start_time": "2021-11-19T13:30:49.267Z"
   },
   {
    "duration": 4,
    "start_time": "2021-11-19T13:30:58.314Z"
   },
   {
    "duration": 578,
    "start_time": "2021-11-19T13:30:59.891Z"
   },
   {
    "duration": 273,
    "start_time": "2021-11-19T13:31:13.280Z"
   },
   {
    "duration": 4,
    "start_time": "2021-11-19T13:40:23.979Z"
   },
   {
    "duration": 8,
    "start_time": "2021-11-19T13:42:14.337Z"
   },
   {
    "duration": 5,
    "start_time": "2021-11-19T13:42:26.441Z"
   },
   {
    "duration": 12,
    "start_time": "2021-11-19T13:42:46.110Z"
   },
   {
    "duration": 14,
    "start_time": "2021-11-19T13:43:13.838Z"
   },
   {
    "duration": 5,
    "start_time": "2021-11-19T13:44:44.351Z"
   },
   {
    "duration": 266,
    "start_time": "2021-11-19T13:45:47.133Z"
   },
   {
    "duration": 261,
    "start_time": "2021-11-19T13:46:04.589Z"
   },
   {
    "duration": 256,
    "start_time": "2021-11-19T13:46:15.715Z"
   },
   {
    "duration": 252,
    "start_time": "2021-11-19T13:46:53.584Z"
   },
   {
    "duration": 13,
    "start_time": "2021-11-19T13:53:44.023Z"
   },
   {
    "duration": 4,
    "start_time": "2021-11-19T13:53:45.686Z"
   },
   {
    "duration": 8,
    "start_time": "2021-11-19T13:53:47.335Z"
   },
   {
    "duration": 9,
    "start_time": "2021-11-19T13:53:48.824Z"
   },
   {
    "duration": 5,
    "start_time": "2021-11-19T13:53:50.719Z"
   },
   {
    "duration": 27,
    "start_time": "2021-11-19T13:53:52.493Z"
   },
   {
    "duration": 4,
    "start_time": "2021-11-19T13:54:05.702Z"
   },
   {
    "duration": 3,
    "start_time": "2021-11-19T13:54:09.934Z"
   },
   {
    "duration": 19,
    "start_time": "2021-11-19T13:54:11.479Z"
   },
   {
    "duration": 260,
    "start_time": "2021-11-19T13:54:35.845Z"
   },
   {
    "duration": 5367,
    "start_time": "2021-11-19T13:54:58.123Z"
   },
   {
    "duration": 141541,
    "start_time": "2021-11-19T13:55:17.330Z"
   },
   {
    "duration": 20,
    "start_time": "2021-11-19T13:58:03.770Z"
   },
   {
    "duration": 5,
    "start_time": "2021-11-19T13:58:17.407Z"
   },
   {
    "duration": 29,
    "start_time": "2021-11-19T13:58:30.215Z"
   },
   {
    "duration": 286,
    "start_time": "2021-11-19T14:01:50.091Z"
   },
   {
    "duration": 26,
    "start_time": "2021-11-19T14:05:41.253Z"
   },
   {
    "duration": 24,
    "start_time": "2021-11-19T14:05:45.420Z"
   },
   {
    "duration": 4,
    "start_time": "2021-11-19T14:06:55.835Z"
   },
   {
    "duration": 9,
    "start_time": "2021-11-19T14:07:00.863Z"
   },
   {
    "duration": 8,
    "start_time": "2021-11-19T14:07:02.584Z"
   },
   {
    "duration": 5,
    "start_time": "2021-11-19T14:07:04.176Z"
   },
   {
    "duration": 26,
    "start_time": "2021-11-19T14:07:05.872Z"
   },
   {
    "duration": 5,
    "start_time": "2021-11-19T14:08:16.510Z"
   },
   {
    "duration": 46,
    "start_time": "2021-11-19T14:08:16.517Z"
   },
   {
    "duration": 6,
    "start_time": "2021-11-19T14:08:16.565Z"
   },
   {
    "duration": 19,
    "start_time": "2021-11-19T14:08:16.572Z"
   },
   {
    "duration": 20,
    "start_time": "2021-11-19T14:08:16.593Z"
   },
   {
    "duration": 27,
    "start_time": "2021-11-19T14:08:16.614Z"
   },
   {
    "duration": 248,
    "start_time": "2021-11-19T14:08:16.643Z"
   },
   {
    "duration": 280,
    "start_time": "2021-11-19T14:08:16.894Z"
   },
   {
    "duration": 649,
    "start_time": "2021-11-19T14:08:17.176Z"
   },
   {
    "duration": 10,
    "start_time": "2021-11-19T14:08:17.827Z"
   },
   {
    "duration": 1698,
    "start_time": "2021-11-19T14:08:17.838Z"
   },
   {
    "duration": 325,
    "start_time": "2021-11-19T14:08:19.538Z"
   },
   {
    "duration": 1799,
    "start_time": "2021-11-19T14:08:19.865Z"
   },
   {
    "duration": 95,
    "start_time": "2021-11-19T14:08:21.667Z"
   },
   {
    "duration": 4,
    "start_time": "2021-11-19T14:08:21.765Z"
   },
   {
    "duration": 397,
    "start_time": "2021-11-19T14:08:21.770Z"
   },
   {
    "duration": 23864,
    "start_time": "2021-11-19T14:08:22.168Z"
   },
   {
    "duration": 3,
    "start_time": "2021-11-19T14:08:46.034Z"
   },
   {
    "duration": 25,
    "start_time": "2021-11-19T14:08:46.039Z"
   },
   {
    "duration": 8,
    "start_time": "2021-11-19T14:08:46.066Z"
   },
   {
    "duration": 4,
    "start_time": "2021-11-19T14:08:46.076Z"
   },
   {
    "duration": 30,
    "start_time": "2021-11-19T14:08:46.082Z"
   },
   {
    "duration": 3,
    "start_time": "2021-11-19T14:08:46.115Z"
   },
   {
    "duration": 6,
    "start_time": "2021-11-19T14:08:46.120Z"
   },
   {
    "duration": 35,
    "start_time": "2021-11-19T14:08:46.128Z"
   },
   {
    "duration": 137999,
    "start_time": "2021-11-19T14:08:46.165Z"
   },
   {
    "duration": 103,
    "start_time": "2021-11-19T14:11:04.167Z"
   },
   {
    "duration": 5,
    "start_time": "2021-11-19T14:11:04.272Z"
   },
   {
    "duration": 31,
    "start_time": "2021-11-19T14:11:04.279Z"
   },
   {
    "duration": 239,
    "start_time": "2021-11-19T14:11:04.312Z"
   },
   {
    "duration": 27,
    "start_time": "2021-11-19T14:23:01.855Z"
   },
   {
    "duration": 24,
    "start_time": "2021-11-19T14:23:14.840Z"
   },
   {
    "duration": 31,
    "start_time": "2021-11-19T14:23:19.125Z"
   },
   {
    "duration": 26,
    "start_time": "2021-11-19T14:23:29.685Z"
   },
   {
    "duration": 35,
    "start_time": "2021-11-19T14:25:51.700Z"
   },
   {
    "duration": 35,
    "start_time": "2021-11-19T14:26:14.940Z"
   },
   {
    "duration": 268,
    "start_time": "2021-11-19T14:26:34.020Z"
   },
   {
    "duration": 33,
    "start_time": "2021-11-19T14:26:40.586Z"
   },
   {
    "duration": 26,
    "start_time": "2021-11-19T14:26:49.009Z"
   },
   {
    "duration": 4,
    "start_time": "2021-11-19T14:29:01.002Z"
   },
   {
    "duration": 585,
    "start_time": "2021-11-19T14:29:02.833Z"
   },
   {
    "duration": 4,
    "start_time": "2021-11-19T14:29:22.928Z"
   },
   {
    "duration": 9,
    "start_time": "2021-11-19T14:29:25.310Z"
   },
   {
    "duration": 8,
    "start_time": "2021-11-19T14:29:27.124Z"
   },
   {
    "duration": 6,
    "start_time": "2021-11-19T14:29:29.303Z"
   },
   {
    "duration": 5,
    "start_time": "2021-11-19T14:29:33.631Z"
   },
   {
    "duration": 6,
    "start_time": "2021-11-19T14:29:38.144Z"
   },
   {
    "duration": 38,
    "start_time": "2021-11-19T14:29:38.152Z"
   },
   {
    "duration": 6,
    "start_time": "2021-11-19T14:29:38.192Z"
   },
   {
    "duration": 7,
    "start_time": "2021-11-19T14:29:38.199Z"
   },
   {
    "duration": 12,
    "start_time": "2021-11-19T14:29:38.207Z"
   },
   {
    "duration": 14,
    "start_time": "2021-11-19T14:29:38.221Z"
   },
   {
    "duration": 278,
    "start_time": "2021-11-19T14:29:38.237Z"
   },
   {
    "duration": 279,
    "start_time": "2021-11-19T14:29:38.517Z"
   },
   {
    "duration": 666,
    "start_time": "2021-11-19T14:29:38.799Z"
   },
   {
    "duration": 8,
    "start_time": "2021-11-19T14:29:39.468Z"
   },
   {
    "duration": 1705,
    "start_time": "2021-11-19T14:29:39.478Z"
   },
   {
    "duration": 336,
    "start_time": "2021-11-19T14:29:41.185Z"
   },
   {
    "duration": 1653,
    "start_time": "2021-11-19T14:29:41.522Z"
   },
   {
    "duration": 6,
    "start_time": "2021-11-19T14:29:43.264Z"
   },
   {
    "duration": 100,
    "start_time": "2021-11-19T14:29:43.273Z"
   },
   {
    "duration": 394,
    "start_time": "2021-11-19T14:29:43.375Z"
   },
   {
    "duration": 23607,
    "start_time": "2021-11-19T14:29:43.771Z"
   },
   {
    "duration": 4,
    "start_time": "2021-11-19T14:30:07.379Z"
   },
   {
    "duration": 17,
    "start_time": "2021-11-19T14:30:07.385Z"
   },
   {
    "duration": 7,
    "start_time": "2021-11-19T14:30:07.404Z"
   },
   {
    "duration": 5,
    "start_time": "2021-11-19T14:30:07.413Z"
   },
   {
    "duration": 44,
    "start_time": "2021-11-19T14:30:07.420Z"
   },
   {
    "duration": 3,
    "start_time": "2021-11-19T14:30:07.466Z"
   },
   {
    "duration": 7,
    "start_time": "2021-11-19T14:30:07.471Z"
   },
   {
    "duration": 20,
    "start_time": "2021-11-19T14:30:07.480Z"
   },
   {
    "duration": 145378,
    "start_time": "2021-11-19T14:30:07.502Z"
   },
   {
    "duration": 93,
    "start_time": "2021-11-19T14:32:32.883Z"
   },
   {
    "duration": 84,
    "start_time": "2021-11-19T14:32:32.979Z"
   },
   {
    "duration": 12,
    "start_time": "2021-11-19T14:32:33.065Z"
   },
   {
    "duration": 313,
    "start_time": "2021-11-19T14:32:33.079Z"
   },
   {
    "duration": 6,
    "start_time": "2021-11-19T14:38:15.161Z"
   },
   {
    "duration": 287,
    "start_time": "2021-11-19T14:39:17.820Z"
   },
   {
    "duration": 5,
    "start_time": "2021-11-19T14:39:34.378Z"
   },
   {
    "duration": 456,
    "start_time": "2021-11-19T14:39:40.410Z"
   },
   {
    "duration": 441,
    "start_time": "2021-11-19T14:41:36.708Z"
   },
   {
    "duration": 5,
    "start_time": "2021-11-19T14:44:32.185Z"
   },
   {
    "duration": 4,
    "start_time": "2021-11-19T14:44:35.801Z"
   },
   {
    "duration": 7,
    "start_time": "2021-11-19T14:44:42.098Z"
   },
   {
    "duration": 43,
    "start_time": "2021-11-19T14:44:42.108Z"
   },
   {
    "duration": 8,
    "start_time": "2021-11-19T14:44:42.154Z"
   },
   {
    "duration": 8,
    "start_time": "2021-11-19T14:44:42.164Z"
   },
   {
    "duration": 10,
    "start_time": "2021-11-19T14:44:42.174Z"
   },
   {
    "duration": 14,
    "start_time": "2021-11-19T14:44:42.186Z"
   },
   {
    "duration": 296,
    "start_time": "2021-11-19T14:44:42.202Z"
   },
   {
    "duration": 303,
    "start_time": "2021-11-19T14:44:42.501Z"
   },
   {
    "duration": 776,
    "start_time": "2021-11-19T14:44:42.808Z"
   },
   {
    "duration": 11,
    "start_time": "2021-11-19T14:44:43.588Z"
   },
   {
    "duration": 2008,
    "start_time": "2021-11-19T14:44:43.600Z"
   },
   {
    "duration": 360,
    "start_time": "2021-11-19T14:44:45.610Z"
   },
   {
    "duration": 1695,
    "start_time": "2021-11-19T14:44:45.972Z"
   },
   {
    "duration": 95,
    "start_time": "2021-11-19T14:44:47.672Z"
   },
   {
    "duration": 6,
    "start_time": "2021-11-19T14:44:47.769Z"
   },
   {
    "duration": 386,
    "start_time": "2021-11-19T14:44:47.777Z"
   },
   {
    "duration": 24020,
    "start_time": "2021-11-19T14:44:48.165Z"
   },
   {
    "duration": 5,
    "start_time": "2021-11-19T14:45:12.187Z"
   },
   {
    "duration": 20,
    "start_time": "2021-11-19T14:45:12.194Z"
   },
   {
    "duration": 9,
    "start_time": "2021-11-19T14:45:12.215Z"
   },
   {
    "duration": 6,
    "start_time": "2021-11-19T14:45:12.226Z"
   },
   {
    "duration": 52,
    "start_time": "2021-11-19T14:45:12.234Z"
   },
   {
    "duration": 4,
    "start_time": "2021-11-19T14:45:12.288Z"
   },
   {
    "duration": 7,
    "start_time": "2021-11-19T14:45:12.294Z"
   },
   {
    "duration": 29,
    "start_time": "2021-11-19T14:45:12.303Z"
   },
   {
    "duration": 147744,
    "start_time": "2021-11-19T14:45:12.334Z"
   },
   {
    "duration": 97,
    "start_time": "2021-11-19T14:47:40.083Z"
   },
   {
    "duration": 82,
    "start_time": "2021-11-19T14:47:40.183Z"
   },
   {
    "duration": 7,
    "start_time": "2021-11-19T14:47:40.268Z"
   },
   {
    "duration": 7,
    "start_time": "2021-11-19T14:47:40.277Z"
   },
   {
    "duration": 488,
    "start_time": "2021-11-19T14:47:40.285Z"
   },
   {
    "duration": 274,
    "start_time": "2021-11-19T14:50:54.378Z"
   },
   {
    "duration": 283,
    "start_time": "2021-11-19T14:51:05.593Z"
   },
   {
    "duration": 7,
    "start_time": "2021-11-19T14:58:17.705Z"
   },
   {
    "duration": 40,
    "start_time": "2021-11-19T14:58:17.713Z"
   },
   {
    "duration": 6,
    "start_time": "2021-11-19T14:58:17.756Z"
   },
   {
    "duration": 6,
    "start_time": "2021-11-19T14:58:17.764Z"
   },
   {
    "duration": 9,
    "start_time": "2021-11-19T14:58:17.772Z"
   },
   {
    "duration": 14,
    "start_time": "2021-11-19T14:58:17.783Z"
   },
   {
    "duration": 269,
    "start_time": "2021-11-19T14:58:17.799Z"
   },
   {
    "duration": 293,
    "start_time": "2021-11-19T14:58:18.070Z"
   },
   {
    "duration": 727,
    "start_time": "2021-11-19T14:58:18.366Z"
   },
   {
    "duration": 10,
    "start_time": "2021-11-19T14:58:19.096Z"
   },
   {
    "duration": 1834,
    "start_time": "2021-11-19T14:58:19.108Z"
   },
   {
    "duration": 359,
    "start_time": "2021-11-19T14:58:20.944Z"
   },
   {
    "duration": 1767,
    "start_time": "2021-11-19T14:58:21.305Z"
   },
   {
    "duration": 6,
    "start_time": "2021-11-19T14:58:23.165Z"
   },
   {
    "duration": 80,
    "start_time": "2021-11-19T14:58:23.191Z"
   },
   {
    "duration": 425,
    "start_time": "2021-11-19T14:58:23.273Z"
   },
   {
    "duration": 25683,
    "start_time": "2021-11-19T14:58:23.700Z"
   },
   {
    "duration": 4,
    "start_time": "2021-11-19T14:58:49.385Z"
   },
   {
    "duration": 17,
    "start_time": "2021-11-19T14:58:49.391Z"
   },
   {
    "duration": 7,
    "start_time": "2021-11-19T14:58:49.410Z"
   },
   {
    "duration": 6,
    "start_time": "2021-11-19T14:58:49.419Z"
   },
   {
    "duration": 50,
    "start_time": "2021-11-19T14:58:49.427Z"
   },
   {
    "duration": 4,
    "start_time": "2021-11-19T14:58:49.479Z"
   },
   {
    "duration": 5,
    "start_time": "2021-11-19T14:58:49.485Z"
   },
   {
    "duration": 19,
    "start_time": "2021-11-19T14:58:49.492Z"
   },
   {
    "duration": 129762,
    "start_time": "2021-11-19T14:58:49.512Z"
   },
   {
    "duration": 93,
    "start_time": "2021-11-19T15:00:59.279Z"
   },
   {
    "duration": 5,
    "start_time": "2021-11-19T15:00:59.374Z"
   },
   {
    "duration": 84,
    "start_time": "2021-11-19T15:00:59.382Z"
   },
   {
    "duration": 8,
    "start_time": "2021-11-19T15:00:59.468Z"
   },
   {
    "duration": 491,
    "start_time": "2021-11-19T15:00:59.478Z"
   },
   {
    "duration": 6,
    "start_time": "2021-11-19T15:02:44.665Z"
   },
   {
    "duration": 49,
    "start_time": "2021-11-19T15:02:44.673Z"
   },
   {
    "duration": 7,
    "start_time": "2021-11-19T15:02:44.725Z"
   },
   {
    "duration": 6,
    "start_time": "2021-11-19T15:02:44.734Z"
   },
   {
    "duration": 26,
    "start_time": "2021-11-19T15:02:44.742Z"
   },
   {
    "duration": 16,
    "start_time": "2021-11-19T15:02:44.771Z"
   },
   {
    "duration": 295,
    "start_time": "2021-11-19T15:02:44.789Z"
   },
   {
    "duration": 312,
    "start_time": "2021-11-19T15:02:45.086Z"
   },
   {
    "duration": 774,
    "start_time": "2021-11-19T15:02:45.403Z"
   },
   {
    "duration": 13,
    "start_time": "2021-11-19T15:02:46.180Z"
   },
   {
    "duration": 1901,
    "start_time": "2021-11-19T15:02:46.195Z"
   },
   {
    "duration": 377,
    "start_time": "2021-11-19T15:02:48.098Z"
   },
   {
    "duration": 1795,
    "start_time": "2021-11-19T15:02:48.477Z"
   },
   {
    "duration": 92,
    "start_time": "2021-11-19T15:02:50.275Z"
   },
   {
    "duration": 95,
    "start_time": "2021-11-19T15:02:50.370Z"
   },
   {
    "duration": 401,
    "start_time": "2021-11-19T15:02:50.467Z"
   },
   {
    "duration": 23313,
    "start_time": "2021-11-19T15:02:50.870Z"
   },
   {
    "duration": 5,
    "start_time": "2021-11-19T15:03:14.185Z"
   },
   {
    "duration": 54,
    "start_time": "2021-11-19T15:03:14.192Z"
   },
   {
    "duration": 68,
    "start_time": "2021-11-19T15:03:14.248Z"
   },
   {
    "duration": 55,
    "start_time": "2021-11-19T15:03:14.318Z"
   },
   {
    "duration": 53,
    "start_time": "2021-11-19T15:03:14.375Z"
   },
   {
    "duration": 16,
    "start_time": "2021-11-19T15:03:14.431Z"
   },
   {
    "duration": 30,
    "start_time": "2021-11-19T15:03:14.449Z"
   },
   {
    "duration": 42,
    "start_time": "2021-11-19T15:03:14.481Z"
   },
   {
    "duration": 130138,
    "start_time": "2021-11-19T15:03:14.525Z"
   },
   {
    "duration": 95,
    "start_time": "2021-11-19T15:05:24.668Z"
   },
   {
    "duration": 5,
    "start_time": "2021-11-19T15:05:24.765Z"
   },
   {
    "duration": 8,
    "start_time": "2021-11-19T15:05:24.772Z"
   },
   {
    "duration": 7,
    "start_time": "2021-11-19T15:05:24.781Z"
   },
   {
    "duration": 491,
    "start_time": "2021-11-19T15:05:24.790Z"
   },
   {
    "duration": 271,
    "start_time": "2021-11-19T16:14:31.388Z"
   },
   {
    "duration": 831,
    "start_time": "2021-11-19T16:15:00.833Z"
   },
   {
    "duration": 616,
    "start_time": "2021-11-19T16:15:16.449Z"
   },
   {
    "duration": 845,
    "start_time": "2021-11-19T16:15:20.121Z"
   },
   {
    "duration": 1233,
    "start_time": "2021-11-19T16:56:16.296Z"
   },
   {
    "duration": 37,
    "start_time": "2021-11-19T16:56:17.531Z"
   },
   {
    "duration": 10,
    "start_time": "2021-11-19T16:56:17.813Z"
   },
   {
    "duration": 4,
    "start_time": "2021-11-19T16:56:18.484Z"
   },
   {
    "duration": 9,
    "start_time": "2021-11-19T16:56:19.384Z"
   },
   {
    "duration": 13,
    "start_time": "2021-11-19T16:56:19.708Z"
   },
   {
    "duration": 273,
    "start_time": "2021-11-19T16:56:20.435Z"
   },
   {
    "duration": 302,
    "start_time": "2021-11-19T16:56:20.734Z"
   },
   {
    "duration": 598,
    "start_time": "2021-11-19T16:56:21.255Z"
   },
   {
    "duration": 9,
    "start_time": "2021-11-19T16:56:21.855Z"
   },
   {
    "duration": 1828,
    "start_time": "2021-11-19T16:56:21.866Z"
   },
   {
    "duration": 357,
    "start_time": "2021-11-19T16:56:23.696Z"
   },
   {
    "duration": 2441,
    "start_time": "2021-11-19T16:56:24.055Z"
   },
   {
    "duration": 91,
    "start_time": "2021-11-19T16:56:26.502Z"
   },
   {
    "duration": 48,
    "start_time": "2021-11-19T16:56:26.595Z"
   },
   {
    "duration": 464,
    "start_time": "2021-11-19T16:56:26.645Z"
   },
   {
    "duration": 25732,
    "start_time": "2021-11-19T16:56:27.111Z"
   },
   {
    "duration": 4,
    "start_time": "2021-11-19T16:56:52.845Z"
   },
   {
    "duration": 30,
    "start_time": "2021-11-19T16:56:52.850Z"
   },
   {
    "duration": 24,
    "start_time": "2021-11-19T16:56:52.882Z"
   },
   {
    "duration": 22,
    "start_time": "2021-11-19T16:56:52.908Z"
   },
   {
    "duration": 39,
    "start_time": "2021-11-19T16:56:52.932Z"
   },
   {
    "duration": 11,
    "start_time": "2021-11-19T16:56:52.973Z"
   },
   {
    "duration": 18,
    "start_time": "2021-11-19T16:56:52.986Z"
   },
   {
    "duration": 36,
    "start_time": "2021-11-19T16:56:53.006Z"
   },
   {
    "duration": 4,
    "start_time": "2021-11-19T17:02:29.376Z"
   },
   {
    "duration": 6,
    "start_time": "2021-11-19T17:04:13.488Z"
   },
   {
    "duration": 5,
    "start_time": "2021-11-19T17:04:26.016Z"
   },
   {
    "duration": 119748,
    "start_time": "2021-11-19T17:05:41.852Z"
   },
   {
    "duration": 21,
    "start_time": "2021-11-19T17:07:41.601Z"
   },
   {
    "duration": 5,
    "start_time": "2021-11-19T17:07:41.692Z"
   },
   {
    "duration": 8,
    "start_time": "2021-11-19T17:07:41.699Z"
   },
   {
    "duration": 7,
    "start_time": "2021-11-19T17:07:41.709Z"
   },
   {
    "duration": 449,
    "start_time": "2021-11-19T17:07:41.791Z"
   },
   {
    "duration": 855,
    "start_time": "2021-11-19T17:07:42.242Z"
   },
   {
    "duration": 17,
    "start_time": "2021-11-19T17:09:53.819Z"
   },
   {
    "duration": 19,
    "start_time": "2021-11-19T17:15:00.824Z"
   },
   {
    "duration": 287,
    "start_time": "2021-11-21T18:00:04.509Z"
   },
   {
    "duration": 1168,
    "start_time": "2021-11-21T18:00:10.524Z"
   },
   {
    "duration": 36,
    "start_time": "2021-11-21T18:00:11.693Z"
   },
   {
    "duration": 8,
    "start_time": "2021-11-21T18:00:11.731Z"
   },
   {
    "duration": 5,
    "start_time": "2021-11-21T18:00:11.741Z"
   },
   {
    "duration": 9,
    "start_time": "2021-11-21T18:00:11.747Z"
   },
   {
    "duration": 12,
    "start_time": "2021-11-21T18:00:11.758Z"
   },
   {
    "duration": 248,
    "start_time": "2021-11-21T18:00:11.772Z"
   },
   {
    "duration": 374,
    "start_time": "2021-11-21T18:00:12.021Z"
   },
   {
    "duration": 505,
    "start_time": "2021-11-21T18:00:12.399Z"
   },
   {
    "duration": 10,
    "start_time": "2021-11-21T18:00:12.906Z"
   },
   {
    "duration": 1564,
    "start_time": "2021-11-21T18:00:12.917Z"
   },
   {
    "duration": 293,
    "start_time": "2021-11-21T18:00:14.483Z"
   },
   {
    "duration": 1818,
    "start_time": "2021-11-21T18:00:14.778Z"
   },
   {
    "duration": 5,
    "start_time": "2021-11-21T18:00:16.688Z"
   },
   {
    "duration": 129,
    "start_time": "2021-11-21T18:00:16.695Z"
   },
   {
    "duration": 332,
    "start_time": "2021-11-21T18:00:16.825Z"
   },
   {
    "duration": 22722,
    "start_time": "2021-11-21T18:00:17.159Z"
   },
   {
    "duration": 5,
    "start_time": "2021-11-21T18:00:39.883Z"
   },
   {
    "duration": 13,
    "start_time": "2021-11-21T18:00:39.889Z"
   },
   {
    "duration": 15,
    "start_time": "2021-11-21T18:00:39.903Z"
   },
   {
    "duration": 5,
    "start_time": "2021-11-21T18:00:39.919Z"
   },
   {
    "duration": 4,
    "start_time": "2021-11-21T18:00:39.926Z"
   },
   {
    "duration": 19,
    "start_time": "2021-11-21T18:00:39.931Z"
   },
   {
    "duration": 3,
    "start_time": "2021-11-21T18:00:39.952Z"
   },
   {
    "duration": 5,
    "start_time": "2021-11-21T18:00:39.956Z"
   },
   {
    "duration": 2,
    "start_time": "2021-11-21T18:00:39.988Z"
   },
   {
    "duration": 132402,
    "start_time": "2021-11-21T18:00:39.993Z"
   },
   {
    "duration": 190,
    "start_time": "2021-11-21T18:02:52.399Z"
   },
   {
    "duration": 4,
    "start_time": "2021-11-21T18:02:52.591Z"
   },
   {
    "duration": 11,
    "start_time": "2021-11-21T18:02:52.596Z"
   },
   {
    "duration": 11,
    "start_time": "2021-11-21T18:02:52.608Z"
   },
   {
    "duration": 473,
    "start_time": "2021-11-21T18:02:52.620Z"
   },
   {
    "duration": 1104,
    "start_time": "2021-11-21T18:02:53.095Z"
   },
   {
    "duration": 297,
    "start_time": "2021-11-21T18:02:54.200Z"
   },
   {
    "duration": 836,
    "start_time": "2021-11-21T18:03:36.266Z"
   },
   {
    "duration": 5,
    "start_time": "2021-11-21T18:03:44.339Z"
   },
   {
    "duration": 35,
    "start_time": "2021-11-21T18:03:44.345Z"
   },
   {
    "duration": 5,
    "start_time": "2021-11-21T18:03:44.382Z"
   },
   {
    "duration": 4,
    "start_time": "2021-11-21T18:03:44.389Z"
   },
   {
    "duration": 9,
    "start_time": "2021-11-21T18:03:44.395Z"
   },
   {
    "duration": 11,
    "start_time": "2021-11-21T18:03:44.405Z"
   },
   {
    "duration": 236,
    "start_time": "2021-11-21T18:03:44.417Z"
   },
   {
    "duration": 250,
    "start_time": "2021-11-21T18:03:44.655Z"
   },
   {
    "duration": 469,
    "start_time": "2021-11-21T18:03:44.906Z"
   },
   {
    "duration": 17,
    "start_time": "2021-11-21T18:03:45.376Z"
   },
   {
    "duration": 1650,
    "start_time": "2021-11-21T18:03:45.395Z"
   },
   {
    "duration": 298,
    "start_time": "2021-11-21T18:03:47.046Z"
   },
   {
    "duration": 1451,
    "start_time": "2021-11-21T18:03:47.346Z"
   },
   {
    "duration": 5,
    "start_time": "2021-11-21T18:03:48.889Z"
   },
   {
    "duration": 94,
    "start_time": "2021-11-21T18:03:48.896Z"
   },
   {
    "duration": 381,
    "start_time": "2021-11-21T18:03:48.992Z"
   },
   {
    "duration": 20725,
    "start_time": "2021-11-21T18:03:49.375Z"
   },
   {
    "duration": 4,
    "start_time": "2021-11-21T18:04:10.102Z"
   },
   {
    "duration": 13,
    "start_time": "2021-11-21T18:04:10.107Z"
   },
   {
    "duration": 16,
    "start_time": "2021-11-21T18:04:10.121Z"
   },
   {
    "duration": 6,
    "start_time": "2021-11-21T18:04:10.138Z"
   },
   {
    "duration": 4,
    "start_time": "2021-11-21T18:04:10.145Z"
   },
   {
    "duration": 49,
    "start_time": "2021-11-21T18:04:10.152Z"
   },
   {
    "duration": 3,
    "start_time": "2021-11-21T18:04:10.204Z"
   },
   {
    "duration": 5,
    "start_time": "2021-11-21T18:04:10.209Z"
   },
   {
    "duration": 4,
    "start_time": "2021-11-21T18:04:10.215Z"
   },
   {
    "duration": 99968,
    "start_time": "2021-11-21T18:04:10.220Z"
   },
   {
    "duration": 108,
    "start_time": "2021-11-21T18:05:50.190Z"
   },
   {
    "duration": 6,
    "start_time": "2021-11-21T18:05:50.299Z"
   },
   {
    "duration": 9,
    "start_time": "2021-11-21T18:05:50.306Z"
   },
   {
    "duration": 7,
    "start_time": "2021-11-21T18:05:50.316Z"
   },
   {
    "duration": 454,
    "start_time": "2021-11-21T18:05:50.325Z"
   },
   {
    "duration": 1020,
    "start_time": "2021-11-21T18:05:50.781Z"
   },
   {
    "duration": 6,
    "start_time": "2021-11-21T18:07:19.560Z"
   },
   {
    "duration": 39,
    "start_time": "2021-11-21T18:07:19.568Z"
   },
   {
    "duration": 8,
    "start_time": "2021-11-21T18:07:19.609Z"
   },
   {
    "duration": 4,
    "start_time": "2021-11-21T18:07:19.619Z"
   },
   {
    "duration": 7,
    "start_time": "2021-11-21T18:07:19.625Z"
   },
   {
    "duration": 11,
    "start_time": "2021-11-21T18:07:19.633Z"
   },
   {
    "duration": 269,
    "start_time": "2021-11-21T18:07:19.645Z"
   },
   {
    "duration": 272,
    "start_time": "2021-11-21T18:07:19.916Z"
   },
   {
    "duration": 481,
    "start_time": "2021-11-21T18:07:20.189Z"
   },
   {
    "duration": 15,
    "start_time": "2021-11-21T18:07:20.672Z"
   },
   {
    "duration": 1756,
    "start_time": "2021-11-21T18:07:20.689Z"
   },
   {
    "duration": 307,
    "start_time": "2021-11-21T18:07:22.446Z"
   },
   {
    "duration": 844,
    "start_time": "2021-11-21T18:07:22.754Z"
   },
   {
    "duration": 90,
    "start_time": "2021-11-21T18:07:23.600Z"
   },
   {
    "duration": 6,
    "start_time": "2021-11-21T18:07:23.692Z"
   },
   {
    "duration": 460,
    "start_time": "2021-11-21T18:07:23.701Z"
   },
   {
    "duration": 21118,
    "start_time": "2021-11-21T18:07:24.163Z"
   },
   {
    "duration": 5,
    "start_time": "2021-11-21T18:07:45.283Z"
   },
   {
    "duration": 16,
    "start_time": "2021-11-21T18:07:45.289Z"
   },
   {
    "duration": 15,
    "start_time": "2021-11-21T18:07:45.306Z"
   },
   {
    "duration": 6,
    "start_time": "2021-11-21T18:07:45.322Z"
   },
   {
    "duration": 4,
    "start_time": "2021-11-21T18:07:45.329Z"
   },
   {
    "duration": 18,
    "start_time": "2021-11-21T18:07:45.336Z"
   },
   {
    "duration": 3,
    "start_time": "2021-11-21T18:07:45.355Z"
   },
   {
    "duration": 2,
    "start_time": "2021-11-21T18:07:45.388Z"
   },
   {
    "duration": 4,
    "start_time": "2021-11-21T18:07:45.392Z"
   },
   {
    "duration": 134113,
    "start_time": "2021-11-21T18:07:45.398Z"
   },
   {
    "duration": 176,
    "start_time": "2021-11-21T18:09:59.513Z"
   },
   {
    "duration": 5,
    "start_time": "2021-11-21T18:09:59.693Z"
   },
   {
    "duration": 17,
    "start_time": "2021-11-21T18:09:59.700Z"
   },
   {
    "duration": 11,
    "start_time": "2021-11-21T18:09:59.718Z"
   },
   {
    "duration": 506,
    "start_time": "2021-11-21T18:09:59.731Z"
   },
   {
    "duration": 1675,
    "start_time": "2021-11-21T18:10:00.238Z"
   },
   {
    "duration": 17,
    "start_time": "2021-11-21T18:36:12.866Z"
   },
   {
    "duration": 12,
    "start_time": "2021-11-21T18:36:19.846Z"
   },
   {
    "duration": 20,
    "start_time": "2021-11-21T18:36:35.250Z"
   },
   {
    "duration": 9,
    "start_time": "2021-11-21T18:37:00.850Z"
   },
   {
    "duration": 239,
    "start_time": "2021-11-21T18:38:52.874Z"
   },
   {
    "duration": 252,
    "start_time": "2021-11-21T18:38:58.298Z"
   },
   {
    "duration": 254,
    "start_time": "2021-11-21T18:41:12.107Z"
   },
   {
    "duration": 4,
    "start_time": "2021-11-21T18:43:43.877Z"
   },
   {
    "duration": 39,
    "start_time": "2021-11-21T18:43:43.883Z"
   },
   {
    "duration": 6,
    "start_time": "2021-11-21T18:43:43.924Z"
   },
   {
    "duration": 6,
    "start_time": "2021-11-21T18:43:43.931Z"
   },
   {
    "duration": 8,
    "start_time": "2021-11-21T18:43:43.938Z"
   },
   {
    "duration": 11,
    "start_time": "2021-11-21T18:43:43.948Z"
   },
   {
    "duration": 263,
    "start_time": "2021-11-21T18:43:43.960Z"
   },
   {
    "duration": 278,
    "start_time": "2021-11-21T18:43:44.225Z"
   },
   {
    "duration": 512,
    "start_time": "2021-11-21T18:43:44.507Z"
   },
   {
    "duration": 10,
    "start_time": "2021-11-21T18:43:45.022Z"
   },
   {
    "duration": 1691,
    "start_time": "2021-11-21T18:43:45.034Z"
   },
   {
    "duration": 307,
    "start_time": "2021-11-21T18:43:46.727Z"
   },
   {
    "duration": 2254,
    "start_time": "2021-11-21T18:43:47.035Z"
   },
   {
    "duration": 13,
    "start_time": "2021-11-21T18:43:49.296Z"
   },
   {
    "duration": 7,
    "start_time": "2021-11-21T18:43:49.390Z"
   },
   {
    "duration": 389,
    "start_time": "2021-11-21T18:43:49.399Z"
   },
   {
    "duration": 45616,
    "start_time": "2021-11-21T18:43:49.789Z"
   },
   {
    "duration": 4,
    "start_time": "2021-11-21T18:44:35.407Z"
   },
   {
    "duration": 13,
    "start_time": "2021-11-21T18:44:35.413Z"
   },
   {
    "duration": 17,
    "start_time": "2021-11-21T18:44:35.427Z"
   },
   {
    "duration": 6,
    "start_time": "2021-11-21T18:44:35.445Z"
   },
   {
    "duration": 4,
    "start_time": "2021-11-21T18:44:35.453Z"
   },
   {
    "duration": 48,
    "start_time": "2021-11-21T18:44:35.458Z"
   },
   {
    "duration": 4,
    "start_time": "2021-11-21T18:44:35.507Z"
   },
   {
    "duration": 4,
    "start_time": "2021-11-21T18:44:35.512Z"
   },
   {
    "duration": 4,
    "start_time": "2021-11-21T18:44:35.518Z"
   },
   {
    "duration": 192870,
    "start_time": "2021-11-21T18:44:35.525Z"
   },
   {
    "duration": 190,
    "start_time": "2021-11-21T18:47:48.402Z"
   },
   {
    "duration": 4,
    "start_time": "2021-11-21T18:47:48.599Z"
   },
   {
    "duration": 17,
    "start_time": "2021-11-21T18:47:48.606Z"
   },
   {
    "duration": 27,
    "start_time": "2021-11-21T18:47:48.624Z"
   },
   {
    "duration": 477,
    "start_time": "2021-11-21T18:47:48.652Z"
   },
   {
    "duration": 3268,
    "start_time": "2021-11-21T18:47:49.130Z"
   },
   {
    "duration": 12,
    "start_time": "2021-11-21T18:47:52.400Z"
   },
   {
    "duration": 319,
    "start_time": "2021-11-21T18:47:52.413Z"
   }
  ],
  "kernelspec": {
   "display_name": "Python 3 (ipykernel)",
   "language": "python",
   "name": "python3"
  },
  "language_info": {
   "codemirror_mode": {
    "name": "ipython",
    "version": 3
   },
   "file_extension": ".py",
   "mimetype": "text/x-python",
   "name": "python",
   "nbconvert_exporter": "python",
   "pygments_lexer": "ipython3",
   "version": "3.9.10"
  },
  "toc": {
   "base_numbering": 1,
   "nav_menu": {},
   "number_sections": true,
   "sideBar": true,
   "skip_h1_title": true,
   "title_cell": "Содержание",
   "title_sidebar": "Contents",
   "toc_cell": true,
   "toc_position": {},
   "toc_section_display": true,
   "toc_window_display": true
  }
 },
 "nbformat": 4,
 "nbformat_minor": 2
}
