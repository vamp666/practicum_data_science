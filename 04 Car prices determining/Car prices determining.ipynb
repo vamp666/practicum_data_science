{
 "cells": [
  {
   "cell_type": "markdown",
   "metadata": {},
   "source": [
    "# Car prices determining"
   ]
  },
  {
   "cell_type": "markdown",
   "metadata": {},
   "source": [
    "Used cars sale service \"Not beaten, not beautiful\" is developing an application to attract new customers. In it, you can quickly find out the market value of your car. At your disposal are historical data: technical specifications, equipment and prices of cars. You need to build a model to determine the cost.\n",
    "\n",
    "Important points for the customer:\n",
    "\n",
    "- prediction quality;\n",
    "- prediction speed;\n",
    "- studying time."
   ]
  },
  {
   "cell_type": "markdown",
   "metadata": {},
   "source": [
    "## Initial processing"
   ]
  },
  {
   "cell_type": "markdown",
   "metadata": {},
   "source": [
    "### Initial evaluation"
   ]
  },
  {
   "cell_type": "markdown",
   "metadata": {},
   "source": [
    "First you need to download the necessary libraries for data processing."
   ]
  },
  {
   "cell_type": "code",
   "execution_count": 301,
   "metadata": {},
   "outputs": [],
   "source": [
    "import os\n",
    "import time\n",
    "\n",
    "import pandas as pd\n",
    "import numpy as np\n",
    "import seaborn as sns\n",
    "from scipy import stats as st\n",
    "import matplotlib.pyplot as plt\n",
    "from IPython.display import display\n",
    "from numpy.random import RandomState\n",
    "from math import sqrt\n",
    "\n",
    "\n",
    "\n",
    "from sklearn.preprocessing import OneHotEncoder, StandardScaler\n",
    "from sklearn.model_selection import train_test_split, GridSearchCV, KFold, cross_val_score\n",
    "\n",
    "from sklearn.dummy import DummyRegressor\n",
    "from sklearn.linear_model import LinearRegression\n",
    "from sklearn.ensemble import GradientBoostingRegressor\n",
    "from lightgbm import LGBMRegressor\n",
    "\n",
    "from sklearn.metrics import mean_squared_error as mse\n",
    "\n",
    "PATH = '/datasets/'\n",
    "SEED = 12345"
   ]
  },
  {
   "cell_type": "markdown",
   "metadata": {},
   "source": [
    "As well as dataframes with data."
   ]
  },
  {
   "cell_type": "code",
   "execution_count": 302,
   "metadata": {},
   "outputs": [],
   "source": [
    "df = pd.read_csv(os.path.join(PATH, 'autos.csv'),\n",
    "                   parse_dates=['DateCrawled', 'LastSeen', 'DateCreated'])"
   ]
  },
  {
   "cell_type": "markdown",
   "metadata": {},
   "source": [
    "Distribution Estimation"
   ]
  },
  {
   "cell_type": "markdown",
   "metadata": {},
   "source": [
    "I proceed to the primary researching \"at a glance\" in order to understand the sequence of actions."
   ]
  },
  {
   "cell_type": "code",
   "execution_count": 303,
   "metadata": {},
   "outputs": [
    {
     "name": "stdout",
     "output_type": "stream",
     "text": [
      "<class 'pandas.core.frame.DataFrame'>\n",
      "RangeIndex: 354369 entries, 0 to 354368\n",
      "Data columns (total 16 columns):\n",
      "DateCrawled          354369 non-null datetime64[ns]\n",
      "Price                354369 non-null int64\n",
      "VehicleType          316879 non-null object\n",
      "RegistrationYear     354369 non-null int64\n",
      "Gearbox              334536 non-null object\n",
      "Power                354369 non-null int64\n",
      "Model                334664 non-null object\n",
      "Kilometer            354369 non-null int64\n",
      "RegistrationMonth    354369 non-null int64\n",
      "FuelType             321474 non-null object\n",
      "Brand                354369 non-null object\n",
      "NotRepaired          283215 non-null object\n",
      "DateCreated          354369 non-null datetime64[ns]\n",
      "NumberOfPictures     354369 non-null int64\n",
      "PostalCode           354369 non-null int64\n",
      "LastSeen             354369 non-null datetime64[ns]\n",
      "dtypes: datetime64[ns](3), int64(7), object(6)\n",
      "memory usage: 43.3+ MB\n"
     ]
    }
   ],
   "source": [
    "df.info()"
   ]
  },
  {
   "cell_type": "code",
   "execution_count": 304,
   "metadata": {
    "scrolled": true
   },
   "outputs": [
    {
     "data": {
      "text/html": [
       "<div>\n",
       "<style scoped>\n",
       "    .dataframe tbody tr th:only-of-type {\n",
       "        vertical-align: middle;\n",
       "    }\n",
       "\n",
       "    .dataframe tbody tr th {\n",
       "        vertical-align: top;\n",
       "    }\n",
       "\n",
       "    .dataframe thead th {\n",
       "        text-align: right;\n",
       "    }\n",
       "</style>\n",
       "<table border=\"1\" class=\"dataframe\">\n",
       "  <thead>\n",
       "    <tr style=\"text-align: right;\">\n",
       "      <th></th>\n",
       "      <th>DateCrawled</th>\n",
       "      <th>Price</th>\n",
       "      <th>VehicleType</th>\n",
       "      <th>RegistrationYear</th>\n",
       "      <th>Gearbox</th>\n",
       "      <th>Power</th>\n",
       "      <th>Model</th>\n",
       "      <th>Kilometer</th>\n",
       "      <th>RegistrationMonth</th>\n",
       "      <th>FuelType</th>\n",
       "      <th>Brand</th>\n",
       "      <th>NotRepaired</th>\n",
       "      <th>DateCreated</th>\n",
       "      <th>NumberOfPictures</th>\n",
       "      <th>PostalCode</th>\n",
       "      <th>LastSeen</th>\n",
       "    </tr>\n",
       "  </thead>\n",
       "  <tbody>\n",
       "    <tr>\n",
       "      <td>28958</td>\n",
       "      <td>2016-03-07 23:48:15</td>\n",
       "      <td>6290</td>\n",
       "      <td>wagon</td>\n",
       "      <td>2007</td>\n",
       "      <td>manual</td>\n",
       "      <td>143</td>\n",
       "      <td>6_reihe</td>\n",
       "      <td>125000</td>\n",
       "      <td>9</td>\n",
       "      <td>gasoline</td>\n",
       "      <td>mazda</td>\n",
       "      <td>no</td>\n",
       "      <td>2016-03-07</td>\n",
       "      <td>0</td>\n",
       "      <td>42555</td>\n",
       "      <td>2016-03-19 23:47:11</td>\n",
       "    </tr>\n",
       "    <tr>\n",
       "      <td>202047</td>\n",
       "      <td>2016-03-22 00:58:56</td>\n",
       "      <td>350</td>\n",
       "      <td>NaN</td>\n",
       "      <td>2000</td>\n",
       "      <td>manual</td>\n",
       "      <td>0</td>\n",
       "      <td>2_reihe</td>\n",
       "      <td>150000</td>\n",
       "      <td>0</td>\n",
       "      <td>petrol</td>\n",
       "      <td>peugeot</td>\n",
       "      <td>NaN</td>\n",
       "      <td>2016-03-21</td>\n",
       "      <td>0</td>\n",
       "      <td>82276</td>\n",
       "      <td>2016-03-29 09:45:51</td>\n",
       "    </tr>\n",
       "    <tr>\n",
       "      <td>156517</td>\n",
       "      <td>2016-03-19 15:57:09</td>\n",
       "      <td>1400</td>\n",
       "      <td>bus</td>\n",
       "      <td>1999</td>\n",
       "      <td>manual</td>\n",
       "      <td>101</td>\n",
       "      <td>NaN</td>\n",
       "      <td>150000</td>\n",
       "      <td>0</td>\n",
       "      <td>petrol</td>\n",
       "      <td>opel</td>\n",
       "      <td>no</td>\n",
       "      <td>2016-03-19</td>\n",
       "      <td>0</td>\n",
       "      <td>66482</td>\n",
       "      <td>2016-03-19 15:57:09</td>\n",
       "    </tr>\n",
       "    <tr>\n",
       "      <td>64311</td>\n",
       "      <td>2016-03-05 18:57:28</td>\n",
       "      <td>6500</td>\n",
       "      <td>small</td>\n",
       "      <td>2012</td>\n",
       "      <td>manual</td>\n",
       "      <td>75</td>\n",
       "      <td>other</td>\n",
       "      <td>70000</td>\n",
       "      <td>6</td>\n",
       "      <td>gasoline</td>\n",
       "      <td>hyundai</td>\n",
       "      <td>no</td>\n",
       "      <td>2016-03-05</td>\n",
       "      <td>0</td>\n",
       "      <td>37115</td>\n",
       "      <td>2016-03-17 18:17:13</td>\n",
       "    </tr>\n",
       "    <tr>\n",
       "      <td>296643</td>\n",
       "      <td>2016-03-07 13:36:42</td>\n",
       "      <td>7999</td>\n",
       "      <td>sedan</td>\n",
       "      <td>2005</td>\n",
       "      <td>auto</td>\n",
       "      <td>177</td>\n",
       "      <td>a6</td>\n",
       "      <td>125000</td>\n",
       "      <td>3</td>\n",
       "      <td>petrol</td>\n",
       "      <td>audi</td>\n",
       "      <td>no</td>\n",
       "      <td>2016-03-07</td>\n",
       "      <td>0</td>\n",
       "      <td>49084</td>\n",
       "      <td>2016-03-12 10:55:01</td>\n",
       "    </tr>\n",
       "  </tbody>\n",
       "</table>\n",
       "</div>"
      ],
      "text/plain": [
       "               DateCrawled  Price VehicleType  RegistrationYear Gearbox  \\\n",
       "28958  2016-03-07 23:48:15   6290       wagon              2007  manual   \n",
       "202047 2016-03-22 00:58:56    350         NaN              2000  manual   \n",
       "156517 2016-03-19 15:57:09   1400         bus              1999  manual   \n",
       "64311  2016-03-05 18:57:28   6500       small              2012  manual   \n",
       "296643 2016-03-07 13:36:42   7999       sedan              2005    auto   \n",
       "\n",
       "        Power    Model  Kilometer  RegistrationMonth  FuelType    Brand  \\\n",
       "28958     143  6_reihe     125000                  9  gasoline    mazda   \n",
       "202047      0  2_reihe     150000                  0    petrol  peugeot   \n",
       "156517    101      NaN     150000                  0    petrol     opel   \n",
       "64311      75    other      70000                  6  gasoline  hyundai   \n",
       "296643    177       a6     125000                  3    petrol     audi   \n",
       "\n",
       "       NotRepaired DateCreated  NumberOfPictures  PostalCode  \\\n",
       "28958           no  2016-03-07                 0       42555   \n",
       "202047         NaN  2016-03-21                 0       82276   \n",
       "156517          no  2016-03-19                 0       66482   \n",
       "64311           no  2016-03-05                 0       37115   \n",
       "296643          no  2016-03-07                 0       49084   \n",
       "\n",
       "                  LastSeen  \n",
       "28958  2016-03-19 23:47:11  \n",
       "202047 2016-03-29 09:45:51  \n",
       "156517 2016-03-19 15:57:09  \n",
       "64311  2016-03-17 18:17:13  \n",
       "296643 2016-03-12 10:55:01  "
      ]
     },
     "execution_count": 304,
     "metadata": {},
     "output_type": "execute_result"
    }
   ],
   "source": [
    "df.sample(5)"
   ]
  },
  {
   "cell_type": "code",
   "execution_count": 305,
   "metadata": {
    "scrolled": true
   },
   "outputs": [
    {
     "data": {
      "text/html": [
       "<div>\n",
       "<style scoped>\n",
       "    .dataframe tbody tr th:only-of-type {\n",
       "        vertical-align: middle;\n",
       "    }\n",
       "\n",
       "    .dataframe tbody tr th {\n",
       "        vertical-align: top;\n",
       "    }\n",
       "\n",
       "    .dataframe thead th {\n",
       "        text-align: right;\n",
       "    }\n",
       "</style>\n",
       "<table border=\"1\" class=\"dataframe\">\n",
       "  <thead>\n",
       "    <tr style=\"text-align: right;\">\n",
       "      <th></th>\n",
       "      <th>Price</th>\n",
       "      <th>RegistrationYear</th>\n",
       "      <th>Power</th>\n",
       "      <th>Kilometer</th>\n",
       "      <th>RegistrationMonth</th>\n",
       "      <th>NumberOfPictures</th>\n",
       "      <th>PostalCode</th>\n",
       "    </tr>\n",
       "  </thead>\n",
       "  <tbody>\n",
       "    <tr>\n",
       "      <td>count</td>\n",
       "      <td>354369.000000</td>\n",
       "      <td>354369.000000</td>\n",
       "      <td>354369.000000</td>\n",
       "      <td>354369.000000</td>\n",
       "      <td>354369.000000</td>\n",
       "      <td>354369.0</td>\n",
       "      <td>354369.000000</td>\n",
       "    </tr>\n",
       "    <tr>\n",
       "      <td>mean</td>\n",
       "      <td>4416.656776</td>\n",
       "      <td>2004.234448</td>\n",
       "      <td>110.094337</td>\n",
       "      <td>128211.172535</td>\n",
       "      <td>5.714645</td>\n",
       "      <td>0.0</td>\n",
       "      <td>50508.689087</td>\n",
       "    </tr>\n",
       "    <tr>\n",
       "      <td>std</td>\n",
       "      <td>4514.158514</td>\n",
       "      <td>90.227958</td>\n",
       "      <td>189.850405</td>\n",
       "      <td>37905.341530</td>\n",
       "      <td>3.726421</td>\n",
       "      <td>0.0</td>\n",
       "      <td>25783.096248</td>\n",
       "    </tr>\n",
       "    <tr>\n",
       "      <td>min</td>\n",
       "      <td>0.000000</td>\n",
       "      <td>1000.000000</td>\n",
       "      <td>0.000000</td>\n",
       "      <td>5000.000000</td>\n",
       "      <td>0.000000</td>\n",
       "      <td>0.0</td>\n",
       "      <td>1067.000000</td>\n",
       "    </tr>\n",
       "    <tr>\n",
       "      <td>25%</td>\n",
       "      <td>1050.000000</td>\n",
       "      <td>1999.000000</td>\n",
       "      <td>69.000000</td>\n",
       "      <td>125000.000000</td>\n",
       "      <td>3.000000</td>\n",
       "      <td>0.0</td>\n",
       "      <td>30165.000000</td>\n",
       "    </tr>\n",
       "    <tr>\n",
       "      <td>50%</td>\n",
       "      <td>2700.000000</td>\n",
       "      <td>2003.000000</td>\n",
       "      <td>105.000000</td>\n",
       "      <td>150000.000000</td>\n",
       "      <td>6.000000</td>\n",
       "      <td>0.0</td>\n",
       "      <td>49413.000000</td>\n",
       "    </tr>\n",
       "    <tr>\n",
       "      <td>75%</td>\n",
       "      <td>6400.000000</td>\n",
       "      <td>2008.000000</td>\n",
       "      <td>143.000000</td>\n",
       "      <td>150000.000000</td>\n",
       "      <td>9.000000</td>\n",
       "      <td>0.0</td>\n",
       "      <td>71083.000000</td>\n",
       "    </tr>\n",
       "    <tr>\n",
       "      <td>max</td>\n",
       "      <td>20000.000000</td>\n",
       "      <td>9999.000000</td>\n",
       "      <td>20000.000000</td>\n",
       "      <td>150000.000000</td>\n",
       "      <td>12.000000</td>\n",
       "      <td>0.0</td>\n",
       "      <td>99998.000000</td>\n",
       "    </tr>\n",
       "  </tbody>\n",
       "</table>\n",
       "</div>"
      ],
      "text/plain": [
       "               Price  RegistrationYear          Power      Kilometer  \\\n",
       "count  354369.000000     354369.000000  354369.000000  354369.000000   \n",
       "mean     4416.656776       2004.234448     110.094337  128211.172535   \n",
       "std      4514.158514         90.227958     189.850405   37905.341530   \n",
       "min         0.000000       1000.000000       0.000000    5000.000000   \n",
       "25%      1050.000000       1999.000000      69.000000  125000.000000   \n",
       "50%      2700.000000       2003.000000     105.000000  150000.000000   \n",
       "75%      6400.000000       2008.000000     143.000000  150000.000000   \n",
       "max     20000.000000       9999.000000   20000.000000  150000.000000   \n",
       "\n",
       "       RegistrationMonth  NumberOfPictures     PostalCode  \n",
       "count      354369.000000          354369.0  354369.000000  \n",
       "mean            5.714645               0.0   50508.689087  \n",
       "std             3.726421               0.0   25783.096248  \n",
       "min             0.000000               0.0    1067.000000  \n",
       "25%             3.000000               0.0   30165.000000  \n",
       "50%             6.000000               0.0   49413.000000  \n",
       "75%             9.000000               0.0   71083.000000  \n",
       "max            12.000000               0.0   99998.000000  "
      ]
     },
     "execution_count": 305,
     "metadata": {},
     "output_type": "execute_result"
    }
   ],
   "source": [
    "df.describe()"
   ]
  },
  {
   "cell_type": "markdown",
   "metadata": {},
   "source": [
    "The information is researched, useful conclusions for preprocessing are made.\n",
    "* The NumberOfPictures column does not carry useful information for the model, all rows are filled with zeros. It needs to be removed.\n",
    "* The DateCrawled column duplicates the values ​​of the DateCreated column.\n",
    "* The RegistrationMonth item does not affect the cost estimate.\n",
    "* The LastSeen parameter also does not affect the valuation.\n",
    "* Perhaps the PostalCode parameter can be tied to a territorial mark, but this requires an additional dataframe with information about the correspondence of postal codes and cities, which I do not have on assignment. I will remove this column so that the models do not perceive this parameter as an integer object.\n",
    " \n",
    "I'm going to preprocess.\n"
   ]
  },
  {
   "cell_type": "markdown",
   "metadata": {},
   "source": [
    "Delete the above columns."
   ]
  },
  {
   "cell_type": "code",
   "execution_count": 306,
   "metadata": {},
   "outputs": [],
   "source": [
    "df = df.drop(['NumberOfPictures', 'DateCrawled', 'RegistrationMonth', 'LastSeen', 'PostalCode'], axis=1)"
   ]
  },
  {
   "cell_type": "markdown",
   "metadata": {},
   "source": [
    "Separate categorical features from numerical ones."
   ]
  },
  {
   "cell_type": "code",
   "execution_count": 307,
   "metadata": {},
   "outputs": [],
   "source": [
    "numerical_features = ['DateCreated', 'Price', 'RegistrationYear', 'Power', 'Kilometer', 'LastSeen']\n",
    "categorical_features = ['VehicleType', 'Gearbox', 'Model', 'FuelType', 'NotRepaired', 'Brand']"
   ]
  },
  {
   "cell_type": "markdown",
   "metadata": {},
   "source": [
    "Evaluation of the distribution of numerical features."
   ]
  },
  {
   "cell_type": "code",
   "execution_count": 308,
   "metadata": {},
   "outputs": [
    {
     "data": {
      "text/plain": [
       "<seaborn.axisgrid.PairGrid at 0x7f78b1f4d050>"
      ]
     },
     "execution_count": 308,
     "metadata": {},
     "output_type": "execute_result"
    },
    {
     "data": {
      "image/png": "[encoded data removed]",
      "text/plain": [
       "<Figure size 720x720 with 20 Axes>"
      ]
     },
     "metadata": {},
     "output_type": "display_data"
    }
   ],
   "source": [
    "sns.pairplot(df)"
   ]
  },
  {
   "cell_type": "markdown",
   "metadata": {},
   "source": [
    "I remove gaps, outliers and duplicates. I start with complete duplicates."
   ]
  },
  {
   "cell_type": "code",
   "execution_count": 309,
   "metadata": {},
   "outputs": [],
   "source": [
    "df = df.drop_duplicates()"
   ]
  },
  {
   "cell_type": "markdown",
   "metadata": {},
   "source": [
    "I process each feature separately."
   ]
  },
  {
   "cell_type": "markdown",
   "metadata": {},
   "source": [
    "### Price"
   ]
  },
  {
   "cell_type": "markdown",
   "metadata": {},
   "source": [
    "First, an estimate of the distribution."
   ]
  },
  {
   "cell_type": "code",
   "execution_count": 310,
   "metadata": {},
   "outputs": [
    {
     "data": {
      "image/png": "[encoded data removed]",
      "text/plain": [
       "<Figure size 864x432 with 1 Axes>"
      ]
     },
     "metadata": {},
     "output_type": "display_data"
    }
   ],
   "source": [
    "sns.set_style('whitegrid')\n",
    "\n",
    "plt.figure(figsize=(12,6))\n",
    "sns.distplot(df['Price'], kde=False)\n",
    "\n",
    "plt.xlabel('Цена автомобиля, EUR', size=12)\n",
    "plt.title('Распределение цен автомобилей', size=15);"
   ]
  },
  {
   "cell_type": "markdown",
   "metadata": {},
   "source": [
    "A large number of null values ​​have been recorded. I will count them."
   ]
  },
  {
   "cell_type": "code",
   "execution_count": 311,
   "metadata": {},
   "outputs": [
    {
     "data": {
      "text/plain": [
       "'Объявления с нулевой ценой: 10399'"
      ]
     },
     "execution_count": 311,
     "metadata": {},
     "output_type": "execute_result"
    }
   ],
   "source": [
    "f\"Объявления с нулевой ценой: {len(df.loc[df['Price'] == 0])}\""
   ]
  },
  {
   "cell_type": "markdown",
   "metadata": {},
   "source": [
    "I will remove them from the dataframe for lack of value."
   ]
  },
  {
   "cell_type": "code",
   "execution_count": 312,
   "metadata": {},
   "outputs": [],
   "source": [
    "df = df.loc[df['Price'] != 0]"
   ]
  },
  {
   "cell_type": "markdown",
   "metadata": {},
   "source": [
    "### Model"
   ]
  },
  {
   "cell_type": "markdown",
   "metadata": {},
   "source": [
    "For further work, do not carry the meaning of the line, where there is no information about the model. I will count them."
   ]
  },
  {
   "cell_type": "code",
   "execution_count": 313,
   "metadata": {},
   "outputs": [
    {
     "data": {
      "text/plain": [
       "'Незаполненных строк с моделями: 17244'"
      ]
     },
     "execution_count": 313,
     "metadata": {},
     "output_type": "execute_result"
    }
   ],
   "source": [
    "f\"Незаполненных строк с моделями: {len(df.loc[df['Model'].isna()])}\""
   ]
  },
  {
   "cell_type": "markdown",
   "metadata": {},
   "source": [
    "And I will delete them."
   ]
  },
  {
   "cell_type": "code",
   "execution_count": 314,
   "metadata": {},
   "outputs": [],
   "source": [
    "df = df.loc[~df['Model'].isna()]"
   ]
  },
  {
   "cell_type": "markdown",
   "metadata": {},
   "source": [
    "### Power"
   ]
  },
  {
   "cell_type": "markdown",
   "metadata": {},
   "source": [
    "The maximum power of the car at the time of the researching is 1360 hp. Delete all values ​​above this mark."
   ]
  },
  {
   "cell_type": "code",
   "execution_count": 315,
   "metadata": {},
   "outputs": [
    {
     "data": {
      "text/plain": [
       "'Автомобили с мощностью > 1360 л.с.: 30411'"
      ]
     },
     "execution_count": 315,
     "metadata": {},
     "output_type": "execute_result"
    }
   ],
   "source": [
    "f\"Автомобили с мощностью > 1360 л.с.: {len(df.loc[(df['Power'] > 1360) | (df['Power'] <= 0)])}\""
   ]
  },
  {
   "cell_type": "markdown",
   "metadata": {},
   "source": [
    "I change these values by medians according to the same model."
   ]
  },
  {
   "cell_type": "code",
   "execution_count": 316,
   "metadata": {},
   "outputs": [],
   "source": [
    "df.loc[(df['Power'] > 1000) | (df['Power'] <= 0), 'Power'] = None\n",
    "df['Power'] = df['Power'].fillna(df.groupby('Model')['Power'].transform('median'))\n",
    "df = df.loc[~df['Power'].isna()]\n",
    "df['Power'] = df['Power'].astype('int64')"
   ]
  },
  {
   "cell_type": "code",
   "execution_count": 317,
   "metadata": {},
   "outputs": [
    {
     "data": {
      "image/png": "[encoded data removed]",
      "text/plain": [
       "<Figure size 432x288 with 1 Axes>"
      ]
     },
     "metadata": {},
     "output_type": "display_data"
    }
   ],
   "source": [
    "plt.hist(df['Power'], bins=20)\n",
    "plt.ylabel('Кол-во объявлений')\n",
    "plt.xlabel('Мощность');"
   ]
  },
  {
   "cell_type": "code",
   "execution_count": 318,
   "metadata": {},
   "outputs": [
    {
     "data": {
      "text/plain": [
       "<matplotlib.axes._subplots.AxesSubplot at 0x7f78b195be10>"
      ]
     },
     "execution_count": 318,
     "metadata": {},
     "output_type": "execute_result"
    },
    {
     "data": {
      "image/png": "[encoded data removed]",
      "text/plain": [
       "<Figure size 432x288 with 1 Axes>"
      ]
     },
     "metadata": {},
     "output_type": "display_data"
    }
   ],
   "source": [
    "sns.scatterplot(x='Power', y='Price', data=df, alpha = 0.1)"
   ]
  },
  {
   "cell_type": "markdown",
   "metadata": {},
   "source": [
    "### DateCreated "
   ]
  },
  {
   "cell_type": "code",
   "execution_count": 319,
   "metadata": {},
   "outputs": [
    {
     "data": {
      "text/plain": [
       "'Дата первого объявления: 2014-03-10 00:00:00'"
      ]
     },
     "execution_count": 319,
     "metadata": {},
     "output_type": "execute_result"
    }
   ],
   "source": [
    "f\"Дата первого объявления: {min(df['DateCreated'])}\""
   ]
  },
  {
   "cell_type": "markdown",
   "metadata": {},
   "source": [
    "Let's convert this feature to the number of days since the publication of the first ad in the selection to take into account the time feature."
   ]
  },
  {
   "cell_type": "code",
   "execution_count": 320,
   "metadata": {},
   "outputs": [],
   "source": [
    "base_date = pd.Timestamp('2014-03-01 00:00:00')\n",
    "df['DateCreated'] = df['DateCreated'].map(lambda date : (pd.Timestamp(date) - base_date).days)"
   ]
  },
  {
   "cell_type": "markdown",
   "metadata": {},
   "source": [
    "### VehicleType, Gearbox, FuelType"
   ]
  },
  {
   "cell_type": "markdown",
   "metadata": {},
   "source": [
    "Missing values for these traits are likely to be the same for all machines of the same model. I'll make a replacement."
   ]
  },
  {
   "cell_type": "code",
   "execution_count": 321,
   "metadata": {},
   "outputs": [],
   "source": [
    "df['VehicleType'] = df['VehicleType'].fillna(df\n",
    "                                                  .groupby('Model')['VehicleType']\n",
    "                                                  .transform(lambda x: x.value_counts().idxmax())\n",
    "                                                 )\n",
    "\n",
    "df['Gearbox'] = df['Gearbox'].fillna(df\n",
    "                                         .groupby('Model')['VehicleType']\n",
    "                                         .transform(lambda x: x.value_counts().idxmax())\n",
    "                                        )\n",
    "\n",
    "df['FuelType'] = df['FuelType'].fillna(df\n",
    "                                           .groupby('Model')['VehicleType']\n",
    "                                           .transform(lambda x: x.value_counts().idxmax())\n",
    "                                          )"
   ]
  },
  {
   "cell_type": "markdown",
   "metadata": {},
   "source": [
    "### NotRepaired"
   ]
  },
  {
   "cell_type": "code",
   "execution_count": 322,
   "metadata": {},
   "outputs": [],
   "source": [
    "df['NotRepaired'] = df['NotRepaired'].fillna('unknown')"
   ]
  },
  {
   "cell_type": "markdown",
   "metadata": {},
   "source": [
    "### Score after filling in gaps"
   ]
  },
  {
   "cell_type": "code",
   "execution_count": 323,
   "metadata": {},
   "outputs": [
    {
     "name": "stdout",
     "output_type": "stream",
     "text": [
      "<class 'pandas.core.frame.DataFrame'>\n",
      "Int64Index: 313353 entries, 0 to 354368\n",
      "Data columns (total 11 columns):\n",
      "Price               313353 non-null int64\n",
      "VehicleType         313353 non-null object\n",
      "RegistrationYear    313353 non-null int64\n",
      "Gearbox             313353 non-null object\n",
      "Power               313353 non-null int64\n",
      "Model               313353 non-null object\n",
      "Kilometer           313353 non-null int64\n",
      "FuelType            313353 non-null object\n",
      "Brand               313353 non-null object\n",
      "NotRepaired         313353 non-null object\n",
      "DateCreated         313353 non-null int64\n",
      "dtypes: int64(5), object(6)\n",
      "memory usage: 28.7+ MB\n"
     ]
    }
   ],
   "source": [
    "df.info()"
   ]
  },
  {
   "cell_type": "code",
   "execution_count": 324,
   "metadata": {},
   "outputs": [
    {
     "data": {
      "text/html": [
       "<div>\n",
       "<style scoped>\n",
       "    .dataframe tbody tr th:only-of-type {\n",
       "        vertical-align: middle;\n",
       "    }\n",
       "\n",
       "    .dataframe tbody tr th {\n",
       "        vertical-align: top;\n",
       "    }\n",
       "\n",
       "    .dataframe thead th {\n",
       "        text-align: right;\n",
       "    }\n",
       "</style>\n",
       "<table border=\"1\" class=\"dataframe\">\n",
       "  <thead>\n",
       "    <tr style=\"text-align: right;\">\n",
       "      <th></th>\n",
       "      <th>Price</th>\n",
       "      <th>VehicleType</th>\n",
       "      <th>RegistrationYear</th>\n",
       "      <th>Gearbox</th>\n",
       "      <th>Power</th>\n",
       "      <th>Model</th>\n",
       "      <th>Kilometer</th>\n",
       "      <th>FuelType</th>\n",
       "      <th>Brand</th>\n",
       "      <th>NotRepaired</th>\n",
       "      <th>DateCreated</th>\n",
       "    </tr>\n",
       "  </thead>\n",
       "  <tbody>\n",
       "    <tr>\n",
       "      <td>0</td>\n",
       "      <td>480</td>\n",
       "      <td>sedan</td>\n",
       "      <td>1993</td>\n",
       "      <td>manual</td>\n",
       "      <td>101</td>\n",
       "      <td>golf</td>\n",
       "      <td>150000</td>\n",
       "      <td>petrol</td>\n",
       "      <td>volkswagen</td>\n",
       "      <td>unknown</td>\n",
       "      <td>754</td>\n",
       "    </tr>\n",
       "    <tr>\n",
       "      <td>2</td>\n",
       "      <td>9800</td>\n",
       "      <td>suv</td>\n",
       "      <td>2004</td>\n",
       "      <td>auto</td>\n",
       "      <td>163</td>\n",
       "      <td>grand</td>\n",
       "      <td>125000</td>\n",
       "      <td>gasoline</td>\n",
       "      <td>jeep</td>\n",
       "      <td>unknown</td>\n",
       "      <td>744</td>\n",
       "    </tr>\n",
       "    <tr>\n",
       "      <td>3</td>\n",
       "      <td>1500</td>\n",
       "      <td>small</td>\n",
       "      <td>2001</td>\n",
       "      <td>manual</td>\n",
       "      <td>75</td>\n",
       "      <td>golf</td>\n",
       "      <td>150000</td>\n",
       "      <td>petrol</td>\n",
       "      <td>volkswagen</td>\n",
       "      <td>no</td>\n",
       "      <td>747</td>\n",
       "    </tr>\n",
       "    <tr>\n",
       "      <td>4</td>\n",
       "      <td>3600</td>\n",
       "      <td>small</td>\n",
       "      <td>2008</td>\n",
       "      <td>manual</td>\n",
       "      <td>69</td>\n",
       "      <td>fabia</td>\n",
       "      <td>90000</td>\n",
       "      <td>gasoline</td>\n",
       "      <td>skoda</td>\n",
       "      <td>no</td>\n",
       "      <td>761</td>\n",
       "    </tr>\n",
       "    <tr>\n",
       "      <td>5</td>\n",
       "      <td>650</td>\n",
       "      <td>sedan</td>\n",
       "      <td>1995</td>\n",
       "      <td>manual</td>\n",
       "      <td>102</td>\n",
       "      <td>3er</td>\n",
       "      <td>150000</td>\n",
       "      <td>petrol</td>\n",
       "      <td>bmw</td>\n",
       "      <td>yes</td>\n",
       "      <td>765</td>\n",
       "    </tr>\n",
       "    <tr>\n",
       "      <td>6</td>\n",
       "      <td>2200</td>\n",
       "      <td>convertible</td>\n",
       "      <td>2004</td>\n",
       "      <td>manual</td>\n",
       "      <td>109</td>\n",
       "      <td>2_reihe</td>\n",
       "      <td>150000</td>\n",
       "      <td>petrol</td>\n",
       "      <td>peugeot</td>\n",
       "      <td>no</td>\n",
       "      <td>762</td>\n",
       "    </tr>\n",
       "    <tr>\n",
       "      <td>8</td>\n",
       "      <td>14500</td>\n",
       "      <td>bus</td>\n",
       "      <td>2014</td>\n",
       "      <td>manual</td>\n",
       "      <td>125</td>\n",
       "      <td>c_max</td>\n",
       "      <td>30000</td>\n",
       "      <td>petrol</td>\n",
       "      <td>ford</td>\n",
       "      <td>unknown</td>\n",
       "      <td>765</td>\n",
       "    </tr>\n",
       "    <tr>\n",
       "      <td>9</td>\n",
       "      <td>999</td>\n",
       "      <td>small</td>\n",
       "      <td>1998</td>\n",
       "      <td>manual</td>\n",
       "      <td>101</td>\n",
       "      <td>golf</td>\n",
       "      <td>150000</td>\n",
       "      <td>sedan</td>\n",
       "      <td>volkswagen</td>\n",
       "      <td>unknown</td>\n",
       "      <td>747</td>\n",
       "    </tr>\n",
       "    <tr>\n",
       "      <td>10</td>\n",
       "      <td>2000</td>\n",
       "      <td>sedan</td>\n",
       "      <td>2004</td>\n",
       "      <td>manual</td>\n",
       "      <td>105</td>\n",
       "      <td>3_reihe</td>\n",
       "      <td>150000</td>\n",
       "      <td>petrol</td>\n",
       "      <td>mazda</td>\n",
       "      <td>no</td>\n",
       "      <td>756</td>\n",
       "    </tr>\n",
       "    <tr>\n",
       "      <td>11</td>\n",
       "      <td>2799</td>\n",
       "      <td>wagon</td>\n",
       "      <td>2005</td>\n",
       "      <td>manual</td>\n",
       "      <td>140</td>\n",
       "      <td>passat</td>\n",
       "      <td>150000</td>\n",
       "      <td>gasoline</td>\n",
       "      <td>volkswagen</td>\n",
       "      <td>yes</td>\n",
       "      <td>768</td>\n",
       "    </tr>\n",
       "  </tbody>\n",
       "</table>\n",
       "</div>"
      ],
      "text/plain": [
       "    Price  VehicleType  RegistrationYear Gearbox  Power    Model  Kilometer  \\\n",
       "0     480        sedan              1993  manual    101     golf     150000   \n",
       "2    9800          suv              2004    auto    163    grand     125000   \n",
       "3    1500        small              2001  manual     75     golf     150000   \n",
       "4    3600        small              2008  manual     69    fabia      90000   \n",
       "5     650        sedan              1995  manual    102      3er     150000   \n",
       "6    2200  convertible              2004  manual    109  2_reihe     150000   \n",
       "8   14500          bus              2014  manual    125    c_max      30000   \n",
       "9     999        small              1998  manual    101     golf     150000   \n",
       "10   2000        sedan              2004  manual    105  3_reihe     150000   \n",
       "11   2799        wagon              2005  manual    140   passat     150000   \n",
       "\n",
       "    FuelType       Brand NotRepaired  DateCreated  \n",
       "0     petrol  volkswagen     unknown          754  \n",
       "2   gasoline        jeep     unknown          744  \n",
       "3     petrol  volkswagen          no          747  \n",
       "4   gasoline       skoda          no          761  \n",
       "5     petrol         bmw         yes          765  \n",
       "6     petrol     peugeot          no          762  \n",
       "8     petrol        ford     unknown          765  \n",
       "9      sedan  volkswagen     unknown          747  \n",
       "10    petrol       mazda          no          756  \n",
       "11  gasoline  volkswagen         yes          768  "
      ]
     },
     "execution_count": 324,
     "metadata": {},
     "output_type": "execute_result"
    }
   ],
   "source": [
    "df.head(10)"
   ]
  },
  {
   "cell_type": "markdown",
   "metadata": {},
   "source": [
    "I’m moving on to the processing of categorical features."
   ]
  },
  {
   "cell_type": "markdown",
   "metadata": {},
   "source": [
    "### Model/Brand"
   ]
  },
  {
   "cell_type": "markdown",
   "metadata": {},
   "source": [
    "I will combine and encode these two features."
   ]
  },
  {
   "cell_type": "code",
   "execution_count": 325,
   "metadata": {},
   "outputs": [],
   "source": [
    "df['brand_model'] = df['Brand'].astype(str) + ' ' + df['Model'].astype(str)\n",
    "df['model_code'] = df['brand_model'].map(df.groupby('brand_model').size()) / \\\n",
    "                     df['Brand'].map(df.groupby('Brand').size())\n",
    "df_coded = df.drop(['brand_model', 'Brand', 'Model'], axis=1)"
   ]
  },
  {
   "cell_type": "markdown",
   "metadata": {},
   "source": [
    "### VehicleType, Gearbox, FuelType, NotRepaired: OHE"
   ]
  },
  {
   "cell_type": "code",
   "execution_count": 326,
   "metadata": {},
   "outputs": [],
   "source": [
    "def get_dummies_func(data, column, prefix):\n",
    "    df = pd.get_dummies(data[column], prefix=prefix, drop_first=True)\n",
    "    data = data.drop(column, axis=1)\n",
    "    return data.join(df)"
   ]
  },
  {
   "cell_type": "code",
   "execution_count": 327,
   "metadata": {},
   "outputs": [],
   "source": [
    "df_coded = get_dummies_func(df_coded, 'VehicleType', 'VType')\n",
    "\n",
    "df_coded = get_dummies_func(df_coded, 'Gearbox', 'Gear')\n",
    "\n",
    "df_coded = get_dummies_func(df_coded, 'FuelType', 'Fuel')\n",
    "\n",
    "df_coded = get_dummies_func(df_coded, 'NotRepaired', 'Repair')"
   ]
  },
  {
   "cell_type": "code",
   "execution_count": 328,
   "metadata": {},
   "outputs": [
    {
     "data": {
      "text/html": [
       "<div>\n",
       "<style scoped>\n",
       "    .dataframe tbody tr th:only-of-type {\n",
       "        vertical-align: middle;\n",
       "    }\n",
       "\n",
       "    .dataframe tbody tr th {\n",
       "        vertical-align: top;\n",
       "    }\n",
       "\n",
       "    .dataframe thead th {\n",
       "        text-align: right;\n",
       "    }\n",
       "</style>\n",
       "<table border=\"1\" class=\"dataframe\">\n",
       "  <thead>\n",
       "    <tr style=\"text-align: right;\">\n",
       "      <th></th>\n",
       "      <th>Price</th>\n",
       "      <th>RegistrationYear</th>\n",
       "      <th>Power</th>\n",
       "      <th>Kilometer</th>\n",
       "      <th>DateCreated</th>\n",
       "      <th>model_code</th>\n",
       "      <th>VType_convertible</th>\n",
       "      <th>VType_coupe</th>\n",
       "      <th>VType_other</th>\n",
       "      <th>VType_sedan</th>\n",
       "      <th>...</th>\n",
       "      <th>Fuel_hybrid</th>\n",
       "      <th>Fuel_lpg</th>\n",
       "      <th>Fuel_other</th>\n",
       "      <th>Fuel_petrol</th>\n",
       "      <th>Fuel_sedan</th>\n",
       "      <th>Fuel_small</th>\n",
       "      <th>Fuel_suv</th>\n",
       "      <th>Fuel_wagon</th>\n",
       "      <th>Repair_unknown</th>\n",
       "      <th>Repair_yes</th>\n",
       "    </tr>\n",
       "  </thead>\n",
       "  <tbody>\n",
       "    <tr>\n",
       "      <td>0</td>\n",
       "      <td>480</td>\n",
       "      <td>1993</td>\n",
       "      <td>101</td>\n",
       "      <td>150000</td>\n",
       "      <td>754</td>\n",
       "      <td>0.395955</td>\n",
       "      <td>0</td>\n",
       "      <td>0</td>\n",
       "      <td>0</td>\n",
       "      <td>1</td>\n",
       "      <td>...</td>\n",
       "      <td>0</td>\n",
       "      <td>0</td>\n",
       "      <td>0</td>\n",
       "      <td>1</td>\n",
       "      <td>0</td>\n",
       "      <td>0</td>\n",
       "      <td>0</td>\n",
       "      <td>0</td>\n",
       "      <td>1</td>\n",
       "      <td>0</td>\n",
       "    </tr>\n",
       "    <tr>\n",
       "      <td>2</td>\n",
       "      <td>9800</td>\n",
       "      <td>2004</td>\n",
       "      <td>163</td>\n",
       "      <td>125000</td>\n",
       "      <td>744</td>\n",
       "      <td>0.371336</td>\n",
       "      <td>0</td>\n",
       "      <td>0</td>\n",
       "      <td>0</td>\n",
       "      <td>0</td>\n",
       "      <td>...</td>\n",
       "      <td>0</td>\n",
       "      <td>0</td>\n",
       "      <td>0</td>\n",
       "      <td>0</td>\n",
       "      <td>0</td>\n",
       "      <td>0</td>\n",
       "      <td>0</td>\n",
       "      <td>0</td>\n",
       "      <td>1</td>\n",
       "      <td>0</td>\n",
       "    </tr>\n",
       "    <tr>\n",
       "      <td>3</td>\n",
       "      <td>1500</td>\n",
       "      <td>2001</td>\n",
       "      <td>75</td>\n",
       "      <td>150000</td>\n",
       "      <td>747</td>\n",
       "      <td>0.395955</td>\n",
       "      <td>0</td>\n",
       "      <td>0</td>\n",
       "      <td>0</td>\n",
       "      <td>0</td>\n",
       "      <td>...</td>\n",
       "      <td>0</td>\n",
       "      <td>0</td>\n",
       "      <td>0</td>\n",
       "      <td>1</td>\n",
       "      <td>0</td>\n",
       "      <td>0</td>\n",
       "      <td>0</td>\n",
       "      <td>0</td>\n",
       "      <td>0</td>\n",
       "      <td>0</td>\n",
       "    </tr>\n",
       "    <tr>\n",
       "      <td>4</td>\n",
       "      <td>3600</td>\n",
       "      <td>2008</td>\n",
       "      <td>69</td>\n",
       "      <td>90000</td>\n",
       "      <td>761</td>\n",
       "      <td>0.388508</td>\n",
       "      <td>0</td>\n",
       "      <td>0</td>\n",
       "      <td>0</td>\n",
       "      <td>0</td>\n",
       "      <td>...</td>\n",
       "      <td>0</td>\n",
       "      <td>0</td>\n",
       "      <td>0</td>\n",
       "      <td>0</td>\n",
       "      <td>0</td>\n",
       "      <td>0</td>\n",
       "      <td>0</td>\n",
       "      <td>0</td>\n",
       "      <td>0</td>\n",
       "      <td>0</td>\n",
       "    </tr>\n",
       "    <tr>\n",
       "      <td>5</td>\n",
       "      <td>650</td>\n",
       "      <td>1995</td>\n",
       "      <td>102</td>\n",
       "      <td>150000</td>\n",
       "      <td>765</td>\n",
       "      <td>0.562308</td>\n",
       "      <td>0</td>\n",
       "      <td>0</td>\n",
       "      <td>0</td>\n",
       "      <td>1</td>\n",
       "      <td>...</td>\n",
       "      <td>0</td>\n",
       "      <td>0</td>\n",
       "      <td>0</td>\n",
       "      <td>1</td>\n",
       "      <td>0</td>\n",
       "      <td>0</td>\n",
       "      <td>0</td>\n",
       "      <td>0</td>\n",
       "      <td>0</td>\n",
       "      <td>1</td>\n",
       "    </tr>\n",
       "  </tbody>\n",
       "</table>\n",
       "<p>5 rows × 36 columns</p>\n",
       "</div>"
      ],
      "text/plain": [
       "   Price  RegistrationYear  Power  Kilometer  DateCreated  model_code  \\\n",
       "0    480              1993    101     150000          754    0.395955   \n",
       "2   9800              2004    163     125000          744    0.371336   \n",
       "3   1500              2001     75     150000          747    0.395955   \n",
       "4   3600              2008     69      90000          761    0.388508   \n",
       "5    650              1995    102     150000          765    0.562308   \n",
       "\n",
       "   VType_convertible  VType_coupe  VType_other  VType_sedan  ...  Fuel_hybrid  \\\n",
       "0                  0            0            0            1  ...            0   \n",
       "2                  0            0            0            0  ...            0   \n",
       "3                  0            0            0            0  ...            0   \n",
       "4                  0            0            0            0  ...            0   \n",
       "5                  0            0            0            1  ...            0   \n",
       "\n",
       "   Fuel_lpg  Fuel_other  Fuel_petrol  Fuel_sedan  Fuel_small  Fuel_suv  \\\n",
       "0         0           0            1           0           0         0   \n",
       "2         0           0            0           0           0         0   \n",
       "3         0           0            1           0           0         0   \n",
       "4         0           0            0           0           0         0   \n",
       "5         0           0            1           0           0         0   \n",
       "\n",
       "   Fuel_wagon  Repair_unknown  Repair_yes  \n",
       "0           0               1           0  \n",
       "2           0               1           0  \n",
       "3           0               0           0  \n",
       "4           0               0           0  \n",
       "5           0               0           1  \n",
       "\n",
       "[5 rows x 36 columns]"
      ]
     },
     "execution_count": 328,
     "metadata": {},
     "output_type": "execute_result"
    }
   ],
   "source": [
    "df_coded.head(5)"
   ]
  },
  {
   "cell_type": "markdown",
   "metadata": {},
   "source": [
    "### Preparing samples"
   ]
  },
  {
   "cell_type": "markdown",
   "metadata": {},
   "source": [
    "I determine the target feature and divide the sample into training and test in a ratio of 4:1."
   ]
  },
  {
   "cell_type": "code",
   "execution_count": 329,
   "metadata": {},
   "outputs": [],
   "source": [
    "X = df_coded.drop('Price', axis=1)\n",
    "y = df_coded['Price']"
   ]
  },
  {
   "cell_type": "code",
   "execution_count": 330,
   "metadata": {},
   "outputs": [],
   "source": [
    "X_train, X_test, y_train, y_test = train_test_split(X, y, test_size=0.2, random_state=SEED)"
   ]
  },
  {
   "cell_type": "code",
   "execution_count": 331,
   "metadata": {},
   "outputs": [
    {
     "name": "stdout",
     "output_type": "stream",
     "text": [
      "Размер обучающей выборки: 250682\n"
     ]
    }
   ],
   "source": [
    "print('Размер обучающей выборки:',X_train.shape[0])"
   ]
  },
  {
   "cell_type": "code",
   "execution_count": 332,
   "metadata": {},
   "outputs": [
    {
     "name": "stdout",
     "output_type": "stream",
     "text": [
      "Размер тестовой выборки: 62671\n"
     ]
    }
   ],
   "source": [
    "print('Размер тестовой выборки:',X_test.shape[0])"
   ]
  },
  {
   "cell_type": "markdown",
   "metadata": {},
   "source": [
    "### Scaling features to the standard normal distribution"
   ]
  },
  {
   "cell_type": "code",
   "execution_count": 333,
   "metadata": {},
   "outputs": [],
   "source": [
    "stsc = StandardScaler()\n",
    "stsc.fit(X_train)\n",
    "columns = X_train.columns\n",
    "X_train = pd.DataFrame(stsc.transform(X_train), columns = columns)\n",
    "X_test = pd.DataFrame(stsc.transform(X_test), columns = columns)"
   ]
  },
  {
   "cell_type": "code",
   "execution_count": 334,
   "metadata": {
    "scrolled": true
   },
   "outputs": [
    {
     "data": {
      "text/html": [
       "<div>\n",
       "<style scoped>\n",
       "    .dataframe tbody tr th:only-of-type {\n",
       "        vertical-align: middle;\n",
       "    }\n",
       "\n",
       "    .dataframe tbody tr th {\n",
       "        vertical-align: top;\n",
       "    }\n",
       "\n",
       "    .dataframe thead th {\n",
       "        text-align: right;\n",
       "    }\n",
       "</style>\n",
       "<table border=\"1\" class=\"dataframe\">\n",
       "  <thead>\n",
       "    <tr style=\"text-align: right;\">\n",
       "      <th></th>\n",
       "      <th>RegistrationYear</th>\n",
       "      <th>Power</th>\n",
       "      <th>Kilometer</th>\n",
       "      <th>DateCreated</th>\n",
       "      <th>model_code</th>\n",
       "      <th>VType_convertible</th>\n",
       "      <th>VType_coupe</th>\n",
       "      <th>VType_other</th>\n",
       "      <th>VType_sedan</th>\n",
       "      <th>VType_small</th>\n",
       "      <th>...</th>\n",
       "      <th>Fuel_hybrid</th>\n",
       "      <th>Fuel_lpg</th>\n",
       "      <th>Fuel_other</th>\n",
       "      <th>Fuel_petrol</th>\n",
       "      <th>Fuel_sedan</th>\n",
       "      <th>Fuel_small</th>\n",
       "      <th>Fuel_suv</th>\n",
       "      <th>Fuel_wagon</th>\n",
       "      <th>Repair_unknown</th>\n",
       "      <th>Repair_yes</th>\n",
       "    </tr>\n",
       "  </thead>\n",
       "  <tbody>\n",
       "    <tr>\n",
       "      <td>0</td>\n",
       "      <td>-0.075889</td>\n",
       "      <td>-0.337874</td>\n",
       "      <td>0.578887</td>\n",
       "      <td>-1.678557</td>\n",
       "      <td>0.887388</td>\n",
       "      <td>-0.250774</td>\n",
       "      <td>-0.221601</td>\n",
       "      <td>-0.091913</td>\n",
       "      <td>-0.66093</td>\n",
       "      <td>1.709276</td>\n",
       "      <td>...</td>\n",
       "      <td>-0.024874</td>\n",
       "      <td>-0.122732</td>\n",
       "      <td>-0.018417</td>\n",
       "      <td>0.780132</td>\n",
       "      <td>-0.186131</td>\n",
       "      <td>-0.145957</td>\n",
       "      <td>-0.033796</td>\n",
       "      <td>-0.105395</td>\n",
       "      <td>-0.470149</td>\n",
       "      <td>3.017903</td>\n",
       "    </tr>\n",
       "    <tr>\n",
       "      <td>1</td>\n",
       "      <td>-0.013709</td>\n",
       "      <td>-0.262699</td>\n",
       "      <td>-0.771812</td>\n",
       "      <td>-0.511251</td>\n",
       "      <td>0.887388</td>\n",
       "      <td>-0.250774</td>\n",
       "      <td>-0.221601</td>\n",
       "      <td>-0.091913</td>\n",
       "      <td>1.51302</td>\n",
       "      <td>-0.585043</td>\n",
       "      <td>...</td>\n",
       "      <td>-0.024874</td>\n",
       "      <td>-0.122732</td>\n",
       "      <td>-0.018417</td>\n",
       "      <td>0.780132</td>\n",
       "      <td>-0.186131</td>\n",
       "      <td>-0.145957</td>\n",
       "      <td>-0.033796</td>\n",
       "      <td>-0.105395</td>\n",
       "      <td>-0.470149</td>\n",
       "      <td>-0.331356</td>\n",
       "    </tr>\n",
       "    <tr>\n",
       "      <td>2</td>\n",
       "      <td>-0.075889</td>\n",
       "      <td>-0.450637</td>\n",
       "      <td>0.578887</td>\n",
       "      <td>1.505004</td>\n",
       "      <td>-0.587929</td>\n",
       "      <td>-0.250774</td>\n",
       "      <td>-0.221601</td>\n",
       "      <td>-0.091913</td>\n",
       "      <td>-0.66093</td>\n",
       "      <td>1.709276</td>\n",
       "      <td>...</td>\n",
       "      <td>-0.024874</td>\n",
       "      <td>-0.122732</td>\n",
       "      <td>-0.018417</td>\n",
       "      <td>-1.281834</td>\n",
       "      <td>-0.186131</td>\n",
       "      <td>-0.145957</td>\n",
       "      <td>-0.033796</td>\n",
       "      <td>-0.105395</td>\n",
       "      <td>-0.470149</td>\n",
       "      <td>-0.331356</td>\n",
       "    </tr>\n",
       "    <tr>\n",
       "      <td>3</td>\n",
       "      <td>-0.029254</td>\n",
       "      <td>0.958902</td>\n",
       "      <td>0.578887</td>\n",
       "      <td>-0.086776</td>\n",
       "      <td>-0.255931</td>\n",
       "      <td>-0.250774</td>\n",
       "      <td>-0.221601</td>\n",
       "      <td>-0.091913</td>\n",
       "      <td>1.51302</td>\n",
       "      <td>-0.585043</td>\n",
       "      <td>...</td>\n",
       "      <td>-0.024874</td>\n",
       "      <td>-0.122732</td>\n",
       "      <td>-0.018417</td>\n",
       "      <td>0.780132</td>\n",
       "      <td>-0.186131</td>\n",
       "      <td>-0.145957</td>\n",
       "      <td>-0.033796</td>\n",
       "      <td>-0.105395</td>\n",
       "      <td>-0.470149</td>\n",
       "      <td>3.017903</td>\n",
       "    </tr>\n",
       "    <tr>\n",
       "      <td>4</td>\n",
       "      <td>-0.122523</td>\n",
       "      <td>-0.544607</td>\n",
       "      <td>0.578887</td>\n",
       "      <td>-0.086776</td>\n",
       "      <td>-0.328799</td>\n",
       "      <td>-0.250774</td>\n",
       "      <td>4.512619</td>\n",
       "      <td>-0.091913</td>\n",
       "      <td>-0.66093</td>\n",
       "      <td>-0.585043</td>\n",
       "      <td>...</td>\n",
       "      <td>-0.024874</td>\n",
       "      <td>-0.122732</td>\n",
       "      <td>-0.018417</td>\n",
       "      <td>0.780132</td>\n",
       "      <td>-0.186131</td>\n",
       "      <td>-0.145957</td>\n",
       "      <td>-0.033796</td>\n",
       "      <td>-0.105395</td>\n",
       "      <td>-0.470149</td>\n",
       "      <td>-0.331356</td>\n",
       "    </tr>\n",
       "  </tbody>\n",
       "</table>\n",
       "<p>5 rows × 35 columns</p>\n",
       "</div>"
      ],
      "text/plain": [
       "   RegistrationYear     Power  Kilometer  DateCreated  model_code  \\\n",
       "0         -0.075889 -0.337874   0.578887    -1.678557    0.887388   \n",
       "1         -0.013709 -0.262699  -0.771812    -0.511251    0.887388   \n",
       "2         -0.075889 -0.450637   0.578887     1.505004   -0.587929   \n",
       "3         -0.029254  0.958902   0.578887    -0.086776   -0.255931   \n",
       "4         -0.122523 -0.544607   0.578887    -0.086776   -0.328799   \n",
       "\n",
       "   VType_convertible  VType_coupe  VType_other  VType_sedan  VType_small  ...  \\\n",
       "0          -0.250774    -0.221601    -0.091913     -0.66093     1.709276  ...   \n",
       "1          -0.250774    -0.221601    -0.091913      1.51302    -0.585043  ...   \n",
       "2          -0.250774    -0.221601    -0.091913     -0.66093     1.709276  ...   \n",
       "3          -0.250774    -0.221601    -0.091913      1.51302    -0.585043  ...   \n",
       "4          -0.250774     4.512619    -0.091913     -0.66093    -0.585043  ...   \n",
       "\n",
       "   Fuel_hybrid  Fuel_lpg  Fuel_other  Fuel_petrol  Fuel_sedan  Fuel_small  \\\n",
       "0    -0.024874 -0.122732   -0.018417     0.780132   -0.186131   -0.145957   \n",
       "1    -0.024874 -0.122732   -0.018417     0.780132   -0.186131   -0.145957   \n",
       "2    -0.024874 -0.122732   -0.018417    -1.281834   -0.186131   -0.145957   \n",
       "3    -0.024874 -0.122732   -0.018417     0.780132   -0.186131   -0.145957   \n",
       "4    -0.024874 -0.122732   -0.018417     0.780132   -0.186131   -0.145957   \n",
       "\n",
       "   Fuel_suv  Fuel_wagon  Repair_unknown  Repair_yes  \n",
       "0 -0.033796   -0.105395       -0.470149    3.017903  \n",
       "1 -0.033796   -0.105395       -0.470149   -0.331356  \n",
       "2 -0.033796   -0.105395       -0.470149   -0.331356  \n",
       "3 -0.033796   -0.105395       -0.470149    3.017903  \n",
       "4 -0.033796   -0.105395       -0.470149   -0.331356  \n",
       "\n",
       "[5 rows x 35 columns]"
      ]
     },
     "execution_count": 334,
     "metadata": {},
     "output_type": "execute_result"
    }
   ],
   "source": [
    "X_train.head(5)"
   ]
  },
  {
   "cell_type": "markdown",
   "metadata": {},
   "source": [
    "### Conclusion:"
   ]
  },
  {
   "cell_type": "markdown",
   "metadata": {},
   "source": [
    "* Libraries and data loaded\n",
    "* Removed features that do not carry value for the model\n",
    "* Removed duplicates\n",
    "* Filled in missing values\n",
    "* Some invalid values removed\n",
    "* Categorical features converted by one-hot encoding\n",
    "* Data is divided into training and test sets\n",
    "* Carried out standardization\n",
    "\n",
    "The samples are ready for model training."
   ]
  },
  {
   "cell_type": "markdown",
   "metadata": {},
   "source": [
    "## Models training"
   ]
  },
  {
   "cell_type": "markdown",
   "metadata": {},
   "source": [
    "I create a model that predicts averages to compare with it really working."
   ]
  },
  {
   "cell_type": "code",
   "execution_count": 335,
   "metadata": {},
   "outputs": [
    {
     "name": "stdout",
     "output_type": "stream",
     "text": [
      "RMSE dummy: 4544.665247219124\n"
     ]
    }
   ],
   "source": [
    "dummy_regr = DummyRegressor(strategy='mean')\n",
    "\n",
    "dummy_regr.fit(X_train, y_train)\n",
    "predictions_r_dummy = dummy_regr.predict(X_test)\n",
    "print('RMSE dummy:', rmse(y_test, predictions_r_dummy))"
   ]
  },
  {
   "cell_type": "markdown",
   "metadata": {},
   "source": [
    "### Linear regression"
   ]
  },
  {
   "cell_type": "markdown",
   "metadata": {},
   "source": [
    "First, I will test the linear regression trained by the cross-validation method. I will calculate the speed of the model at the stage of training and prediction, and evaluate its quality by RMSE."
   ]
  },
  {
   "cell_type": "code",
   "execution_count": 336,
   "metadata": {},
   "outputs": [
    {
     "name": "stdout",
     "output_type": "stream",
     "text": [
      "CPU times: user 4.18 s, sys: 1.34 s, total: 5.52 s\n",
      "Wall time: 5.49 s\n"
     ]
    }
   ],
   "source": [
    "%%time\n",
    "lr = LinearRegression()\n",
    "mse = cross_val_score(lr, X_train, y_train, cv=5, scoring='neg_mean_squared_error')"
   ]
  },
  {
   "cell_type": "code",
   "execution_count": 337,
   "metadata": {},
   "outputs": [
    {
     "data": {
      "text/plain": [
       "'RMSE для линейной модели на валидационной выборке: 3101.46'"
      ]
     },
     "execution_count": 337,
     "metadata": {},
     "output_type": "execute_result"
    }
   ],
   "source": [
    "f\"RMSE для линейной модели на валидационной выборке: {round((-mse.mean()) ** 0.5, 2)}\""
   ]
  },
  {
   "cell_type": "code",
   "execution_count": 338,
   "metadata": {},
   "outputs": [
    {
     "name": "stdout",
     "output_type": "stream",
     "text": [
      "CPU times: user 902 ms, sys: 184 ms, total: 1.09 s\n",
      "Wall time: 1.1 s\n"
     ]
    },
    {
     "data": {
      "text/plain": [
       "LinearRegression(copy_X=True, fit_intercept=True, n_jobs=None, normalize=False)"
      ]
     },
     "execution_count": 338,
     "metadata": {},
     "output_type": "execute_result"
    }
   ],
   "source": [
    "%%time\n",
    "lr.fit(X_train, y_train)"
   ]
  },
  {
   "cell_type": "code",
   "execution_count": 339,
   "metadata": {},
   "outputs": [
    {
     "name": "stdout",
     "output_type": "stream",
     "text": [
      "CPU times: user 18 ms, sys: 4.1 ms, total: 22.1 ms\n",
      "Wall time: 5.94 ms\n"
     ]
    }
   ],
   "source": [
    "%%time\n",
    "preds_lr = lr.predict(X_test)"
   ]
  },
  {
   "cell_type": "code",
   "execution_count": 340,
   "metadata": {},
   "outputs": [
    {
     "data": {
      "text/plain": [
       "'RMSE для линейной модели на тестовой выборке: 3109.05'"
      ]
     },
     "execution_count": 340,
     "metadata": {},
     "output_type": "execute_result"
    }
   ],
   "source": [
    "mse_lr = mean_squared_error(y_test, preds_lr)\n",
    "f\"RMSE для линейной модели на тестовой выборке: {round((mse_lr) ** 0.5, 2)}\""
   ]
  },
  {
   "cell_type": "markdown",
   "metadata": {},
   "source": [
    "### Gradient Boosting"
   ]
  },
  {
   "cell_type": "markdown",
   "metadata": {},
   "source": [
    "Now I will test the gradient boosting from the sklearn library."
   ]
  },
  {
   "cell_type": "code",
   "execution_count": 341,
   "metadata": {},
   "outputs": [
    {
     "name": "stdout",
     "output_type": "stream",
     "text": [
      "CPU times: user 2min 26s, sys: 183 ms, total: 2min 26s\n",
      "Wall time: 2min 27s\n"
     ]
    }
   ],
   "source": [
    "%%time\n",
    "gbr = GradientBoostingRegressor(random_state=SEED)\n",
    "\n",
    "mse = cross_val_score(gbr, X_train, y_train, cv=5, scoring='neg_mean_squared_error')"
   ]
  },
  {
   "cell_type": "code",
   "execution_count": 342,
   "metadata": {},
   "outputs": [
    {
     "data": {
      "text/plain": [
       "'RMSE для градиентного бустинга из sklearn на валидационной выборке: 2005.72'"
      ]
     },
     "execution_count": 342,
     "metadata": {},
     "output_type": "execute_result"
    }
   ],
   "source": [
    "f\"RMSE для градиентного бустинга из sklearn на валидационной выборке: {round((-mse.mean()) ** 0.5, 2)}\""
   ]
  },
  {
   "cell_type": "code",
   "execution_count": 343,
   "metadata": {},
   "outputs": [
    {
     "name": "stdout",
     "output_type": "stream",
     "text": [
      "CPU times: user 37.5 s, sys: 66.5 ms, total: 37.5 s\n",
      "Wall time: 38.1 s\n"
     ]
    },
    {
     "data": {
      "text/plain": [
       "GradientBoostingRegressor(alpha=0.9, criterion='friedman_mse', init=None,\n",
       "                          learning_rate=0.1, loss='ls', max_depth=3,\n",
       "                          max_features=None, max_leaf_nodes=None,\n",
       "                          min_impurity_decrease=0.0, min_impurity_split=None,\n",
       "                          min_samples_leaf=1, min_samples_split=2,\n",
       "                          min_weight_fraction_leaf=0.0, n_estimators=100,\n",
       "                          n_iter_no_change=None, presort='auto',\n",
       "                          random_state=12345, subsample=1.0, tol=0.0001,\n",
       "                          validation_fraction=0.1, verbose=0, warm_start=False)"
      ]
     },
     "execution_count": 343,
     "metadata": {},
     "output_type": "execute_result"
    }
   ],
   "source": [
    "%%time\n",
    "gbr.fit(X_train, y_train)"
   ]
  },
  {
   "cell_type": "code",
   "execution_count": 344,
   "metadata": {},
   "outputs": [
    {
     "name": "stdout",
     "output_type": "stream",
     "text": [
      "CPU times: user 133 ms, sys: 24 µs, total: 133 ms\n",
      "Wall time: 147 ms\n"
     ]
    }
   ],
   "source": [
    "%%time\n",
    "preds_gbr = gbr.predict(X_test)"
   ]
  },
  {
   "cell_type": "code",
   "execution_count": 345,
   "metadata": {},
   "outputs": [
    {
     "data": {
      "text/plain": [
       "'RMSE градиентного бустинга sklearn на тестовой выборке: 2024.58'"
      ]
     },
     "execution_count": 345,
     "metadata": {},
     "output_type": "execute_result"
    }
   ],
   "source": [
    "mse_gbr = mean_squared_error(y_test, preds_gbr)\n",
    "f\"RMSE градиентного бустинга sklearn на тестовой выборке: {round((mse_gbr) ** 0.5, 2)}\""
   ]
  },
  {
   "cell_type": "markdown",
   "metadata": {},
   "source": [
    "### LightGBM"
   ]
  },
  {
   "cell_type": "markdown",
   "metadata": {},
   "source": [
    "Testing the gradient boosting model specified in the assignment."
   ]
  },
  {
   "cell_type": "code",
   "execution_count": 346,
   "metadata": {},
   "outputs": [],
   "source": [
    "numerical_features = ['DateCreated', 'Price', 'RegistrationYear', 'Power', 'Kilometer']\n",
    "categorical_features = ['VehicleType', 'Gearbox', 'Model', 'FuelType', 'NotRepaired', 'Brand']"
   ]
  },
  {
   "cell_type": "code",
   "execution_count": 347,
   "metadata": {},
   "outputs": [],
   "source": [
    "df = df.drop(['brand_model', 'model_code'], axis=1)"
   ]
  },
  {
   "cell_type": "code",
   "execution_count": 348,
   "metadata": {},
   "outputs": [],
   "source": [
    "X = df_coded.drop('Price', axis=1)\n",
    "y = df_coded['Price']\n",
    "X_train, X_test, y_train, y_test = train_test_split(X, y, test_size=0.2, random_state=42)"
   ]
  },
  {
   "cell_type": "code",
   "execution_count": 349,
   "metadata": {},
   "outputs": [
    {
     "data": {
      "text/plain": [
       "'Размер обучающей выборки: 250682'"
      ]
     },
     "execution_count": 349,
     "metadata": {},
     "output_type": "execute_result"
    }
   ],
   "source": [
    "f\"Размер обучающей выборки: {X_train.shape[0]}\""
   ]
  },
  {
   "cell_type": "code",
   "execution_count": 350,
   "metadata": {},
   "outputs": [
    {
     "data": {
      "text/plain": [
       "'Размер тестовой выборки: 62671'"
      ]
     },
     "execution_count": 350,
     "metadata": {},
     "output_type": "execute_result"
    }
   ],
   "source": [
    "f\"Размер тестовой выборки: {X_test.shape[0]}\""
   ]
  },
  {
   "cell_type": "code",
   "execution_count": 351,
   "metadata": {},
   "outputs": [],
   "source": [
    "categorical_features = [col for col in list(df_coded.columns) if col not in numerical_features]"
   ]
  },
  {
   "cell_type": "code",
   "execution_count": 352,
   "metadata": {},
   "outputs": [
    {
     "name": "stdout",
     "output_type": "stream",
     "text": [
      "CPU times: user 5min 9s, sys: 2.02 s, total: 5min 12s\n",
      "Wall time: 5min 16s\n"
     ]
    },
    {
     "data": {
      "text/plain": [
       "GridSearchCV(cv=3, error_score='raise-deprecating',\n",
       "             estimator=LGBMRegressor(boosting_type='gbdt', class_weight=None,\n",
       "                                     colsample_bytree=1.0,\n",
       "                                     importance_type='split', learning_rate=0.1,\n",
       "                                     max_depth=-1, min_child_samples=20,\n",
       "                                     min_child_weight=0.001, min_split_gain=0.0,\n",
       "                                     n_estimators=100, n_jobs=8, num_leaves=31,\n",
       "                                     objective=None, random_state=None,\n",
       "                                     reg_alpha=0.0, reg_lambda=0.0, silent=True,\n",
       "                                     subsample=1.0, subsample_for_bin=200000,\n",
       "                                     subsample_freq=0),\n",
       "             iid='warn', n_jobs=-1,\n",
       "             param_grid={'learning_rate': [0.1, 0.3, 0.5, 0.7],\n",
       "                         'max_depth': [15, 20, 30, 35]},\n",
       "             pre_dispatch='2*n_jobs', refit=True, return_train_score=False,\n",
       "             scoring='neg_mean_squared_error', verbose=0)"
      ]
     },
     "execution_count": 352,
     "metadata": {},
     "output_type": "execute_result"
    }
   ],
   "source": [
    "%%time\n",
    "train_data = lightgbm.Dataset(X_train, label=y_train, \n",
    "                              free_raw_data=False,\n",
    "                              categorical_feature=categorical_features)\n",
    "test_data = lightgbm.Dataset(X_test, label=y_test)\n",
    "\n",
    "param_grid = {'learning_rate': [0.1, 0.3, 0.5, 0.7],\n",
    "              'max_depth': [15, 20, 30, 35],\n",
    "             }\n",
    "\n",
    "lgbm = lightgbm.LGBMRegressor(n_jobs = 8)\n",
    "\n",
    "grid_search = GridSearchCV(estimator = lgbm, \n",
    "                           param_grid = param_grid, \n",
    "                           cv = 3,\n",
    "                           n_jobs = -1, \n",
    "                           verbose = 0, \n",
    "                           scoring = 'neg_mean_squared_error',\n",
    "                          )\n",
    "grid_search.fit(X_train, y_train)"
   ]
  },
  {
   "cell_type": "code",
   "execution_count": 353,
   "metadata": {},
   "outputs": [
    {
     "name": "stdout",
     "output_type": "stream",
     "text": [
      "{'learning_rate': 0.3, 'max_depth': 20}\n"
     ]
    }
   ],
   "source": [
    "print(grid_search.best_params_)"
   ]
  },
  {
   "cell_type": "code",
   "execution_count": 354,
   "metadata": {},
   "outputs": [
    {
     "name": "stdout",
     "output_type": "stream",
     "text": [
      "RMSE для LightGBM модели на валидационной выборке: 1694.09\n"
     ]
    }
   ],
   "source": [
    "print('RMSE для LightGBM модели на валидационной выборке: {:.2f}'.format((-grid_search.best_score_) ** 0.5))"
   ]
  },
  {
   "cell_type": "code",
   "execution_count": 355,
   "metadata": {},
   "outputs": [
    {
     "name": "stdout",
     "output_type": "stream",
     "text": [
      "CPU times: user 555 ms, sys: 3.91 ms, total: 558 ms\n",
      "Wall time: 506 ms\n"
     ]
    }
   ],
   "source": [
    "%%time\n",
    "preds_lgbm = grid_search.best_estimator_.predict(X_test)"
   ]
  },
  {
   "cell_type": "code",
   "execution_count": 356,
   "metadata": {},
   "outputs": [
    {
     "data": {
      "text/plain": [
       "'RMSE для LightGBM модели на тестовой выборке: 1686.28'"
      ]
     },
     "execution_count": 356,
     "metadata": {},
     "output_type": "execute_result"
    }
   ],
   "source": [
    "mse_lgbm = mean_squared_error(y_test, preds_lgbm)\n",
    "f\"RMSE для LightGBM модели на тестовой выборке: {round((mse_lgbm) ** 0.5, 2)}\""
   ]
  },
  {
   "cell_type": "markdown",
   "metadata": {},
   "source": [
    "### Conclusion:"
   ]
  },
  {
   "cell_type": "markdown",
   "metadata": {},
   "source": [
    "1. Three types of models were trained:\n",
    "\n",
    "* Linear Regression\n",
    "* Gradient Boosting from sklearn library\n",
    "* LightGBM\n",
    "\n",
    "2. The models produced their predictions\n",
    "3. Measured the speed of their work\n",
    "4. RMSE values ​​measured for each model\n"
   ]
  },
  {
   "cell_type": "markdown",
   "metadata": {},
   "source": [
    "## Analysis of models"
   ]
  },
  {
   "cell_type": "markdown",
   "metadata": {},
   "source": [
    "### RMSE comparison"
   ]
  },
  {
   "cell_type": "markdown",
   "metadata": {},
   "source": [
    "RMSE dummy: 4544.665247219124\n",
    "\n",
    "RMSE for a linear model on a test set: 3109.05\n",
    "\n",
    "RMSE of sklearn gradient boosting on test set: 2024.58\n",
    "\n",
    "RMSE for LightGBM model on test set: 1686.28\n",
    "\n"
   ]
  },
  {
   "cell_type": "markdown",
   "metadata": {},
   "source": [
    "### Training time comparison"
   ]
  },
  {
   "cell_type": "markdown",
   "metadata": {},
   "source": [
    "Linear Regression: 1.11s\n",
    "\n",
    "GradientBoostingRegressor: 39.3s\n",
    "\n",
    "LightGBM (including cross-validation): 5min 8s"
   ]
  },
  {
   "cell_type": "markdown",
   "metadata": {},
   "source": [
    "### Prediction time comparison"
   ]
  },
  {
   "cell_type": "markdown",
   "metadata": {},
   "source": [
    "Linear regression: 4.46 ms\n",
    "\n",
    "GradientBoostingRegressor: 147ms\n",
    "\n",
    "LightGBM: 581ms"
   ]
  },
  {
   "cell_type": "markdown",
   "metadata": {},
   "source": [
    "## General Conclusion:"
   ]
  },
  {
   "cell_type": "markdown",
   "metadata": {},
   "source": [
    "1. All models showed significantly better RMSE results than the dummy model. Their rating is as follows:\n",
    "* LightGBM\n",
    "* GradientBoostingRegressor\n",
    "* Linear Regression\n",
    "\n",
    "2. In terms of training time, the situation is completely reversed.\n",
    "* Linear Regression\n",
    "* GradientBoostingRegressor\n",
    "* LightGBM\n",
    "\n",
    "3. In terms of prediction time, the situation is the same\n",
    "* Linear Regression\n",
    "* GradientBoostingRegressor\n",
    "* LightGBM\n",
    "\n",
    "I recommend using the LightGBM model even at the expense of speed, as it shows the result much better than other models."
   ]
  }
 ],
 "metadata": {
  "ExecuteTimeLog": [
   {
    "duration": 1515,
    "start_time": "2021-11-11T21:35:59.599Z"
   },
   {
    "duration": 1557,
    "start_time": "2021-11-11T21:36:52.084Z"
   },
   {
    "duration": 1515,
    "start_time": "2021-11-11T21:37:01.604Z"
   },
   {
    "duration": 111,
    "start_time": "2021-11-11T21:37:54.259Z"
   },
   {
    "duration": 31,
    "start_time": "2021-11-11T21:37:59.889Z"
   },
   {
    "duration": 127,
    "start_time": "2021-11-11T21:38:20.527Z"
   },
   {
    "duration": 43,
    "start_time": "2021-11-12T01:16:31.121Z"
   },
   {
    "duration": 4,
    "start_time": "2021-11-12T01:17:39.885Z"
   },
   {
    "duration": 513,
    "start_time": "2021-11-12T01:18:53.610Z"
   },
   {
    "duration": 379,
    "start_time": "2021-11-12T01:18:59.159Z"
   },
   {
    "duration": 571,
    "start_time": "2021-11-12T01:19:40.790Z"
   },
   {
    "duration": 6,
    "start_time": "2021-11-12T01:20:35.100Z"
   },
   {
    "duration": 1384,
    "start_time": "2021-11-12T01:20:35.109Z"
   },
   {
    "duration": 124,
    "start_time": "2021-11-12T01:20:36.496Z"
   },
   {
    "duration": 39,
    "start_time": "2021-11-12T01:20:36.624Z"
   },
   {
    "duration": 141,
    "start_time": "2021-11-12T01:20:36.666Z"
   },
   {
    "duration": 37,
    "start_time": "2021-11-12T01:20:36.809Z"
   },
   {
    "duration": 4,
    "start_time": "2021-11-12T01:20:36.849Z"
   },
   {
    "duration": 67363,
    "start_time": "2021-11-12T01:20:36.856Z"
   },
   {
    "duration": 7,
    "start_time": "2021-11-12T01:23:09.499Z"
   },
   {
    "duration": 1299,
    "start_time": "2021-11-12T01:23:09.508Z"
   },
   {
    "duration": 117,
    "start_time": "2021-11-12T01:23:10.810Z"
   },
   {
    "duration": 32,
    "start_time": "2021-11-12T01:23:10.930Z"
   },
   {
    "duration": 150,
    "start_time": "2021-11-12T01:23:10.964Z"
   },
   {
    "duration": 41,
    "start_time": "2021-11-12T01:23:11.116Z"
   },
   {
    "duration": 4,
    "start_time": "2021-11-12T01:23:11.159Z"
   },
   {
    "duration": 66810,
    "start_time": "2021-11-12T01:23:11.166Z"
   },
   {
    "duration": 254,
    "start_time": "2021-11-12T01:32:15.018Z"
   },
   {
    "duration": 384,
    "start_time": "2021-11-12T01:34:02.572Z"
   },
   {
    "duration": 440,
    "start_time": "2021-11-12T01:34:49.089Z"
   },
   {
    "duration": 383,
    "start_time": "2021-11-12T01:35:35.605Z"
   },
   {
    "duration": 471,
    "start_time": "2021-11-12T01:36:14.658Z"
   },
   {
    "duration": 366,
    "start_time": "2021-11-12T01:36:29.994Z"
   },
   {
    "duration": 357,
    "start_time": "2021-11-12T01:36:35.450Z"
   },
   {
    "duration": 355,
    "start_time": "2021-11-12T01:37:13.065Z"
   },
   {
    "duration": 5,
    "start_time": "2021-11-12T01:50:24.576Z"
   },
   {
    "duration": 377,
    "start_time": "2021-11-12T01:51:35.322Z"
   },
   {
    "duration": 404,
    "start_time": "2021-11-12T01:51:39.226Z"
   },
   {
    "duration": 16,
    "start_time": "2021-11-12T01:51:42.522Z"
   },
   {
    "duration": 398,
    "start_time": "2021-11-12T01:52:18.465Z"
   },
   {
    "duration": 55,
    "start_time": "2021-11-12T01:52:21.264Z"
   },
   {
    "duration": 377,
    "start_time": "2021-11-12T01:54:00.370Z"
   },
   {
    "duration": 405,
    "start_time": "2021-11-12T01:54:13.409Z"
   },
   {
    "duration": 32,
    "start_time": "2021-11-12T01:54:17.434Z"
   },
   {
    "duration": 60,
    "start_time": "2021-11-12T01:54:46.167Z"
   },
   {
    "duration": 407,
    "start_time": "2021-11-12T01:59:41.733Z"
   },
   {
    "duration": 19,
    "start_time": "2021-11-12T01:59:48.957Z"
   },
   {
    "duration": 107,
    "start_time": "2021-11-12T02:01:09.945Z"
   },
   {
    "duration": 360,
    "start_time": "2021-11-12T02:01:22.144Z"
   },
   {
    "duration": 437,
    "start_time": "2021-11-12T02:01:52.102Z"
   },
   {
    "duration": 331,
    "start_time": "2021-11-12T02:02:07.366Z"
   },
   {
    "duration": 385,
    "start_time": "2021-11-12T02:02:40.979Z"
   },
   {
    "duration": 5190,
    "start_time": "2021-11-12T02:02:46.154Z"
   },
   {
    "duration": 515,
    "start_time": "2021-11-12T02:05:39.937Z"
   },
   {
    "duration": 854,
    "start_time": "2021-11-12T02:05:43.936Z"
   },
   {
    "duration": 858,
    "start_time": "2021-11-12T02:07:19.045Z"
   },
   {
    "duration": 9056,
    "start_time": "2021-11-12T02:07:33.851Z"
   },
   {
    "duration": 385,
    "start_time": "2021-11-12T02:11:30.591Z"
   },
   {
    "duration": 1891,
    "start_time": "2021-11-12T02:11:46.830Z"
   },
   {
    "duration": 27,
    "start_time": "2021-11-12T02:12:46.599Z"
   },
   {
    "duration": 18,
    "start_time": "2021-11-12T02:14:18.171Z"
   },
   {
    "duration": 91,
    "start_time": "2021-11-12T02:14:27.064Z"
   },
   {
    "duration": 485,
    "start_time": "2021-11-12T02:18:43.347Z"
   },
   {
    "duration": 409,
    "start_time": "2021-11-12T02:19:13.280Z"
   },
   {
    "duration": 5,
    "start_time": "2021-11-12T02:22:03.317Z"
   },
   {
    "duration": 388,
    "start_time": "2021-11-12T02:22:33.957Z"
   },
   {
    "duration": 299,
    "start_time": "2021-11-12T02:23:01.130Z"
   },
   {
    "duration": 28,
    "start_time": "2021-11-12T02:24:00.110Z"
   },
   {
    "duration": 24,
    "start_time": "2021-11-12T02:24:03.128Z"
   },
   {
    "duration": 381,
    "start_time": "2021-11-12T02:31:31.955Z"
   },
   {
    "duration": 20,
    "start_time": "2021-11-12T02:31:43.403Z"
   },
   {
    "duration": 147,
    "start_time": "2021-11-12T02:32:28.769Z"
   },
   {
    "duration": 5,
    "start_time": "2021-11-12T02:34:07.697Z"
   },
   {
    "duration": 5,
    "start_time": "2021-11-12T02:34:36.562Z"
   },
   {
    "duration": 4,
    "start_time": "2021-11-12T02:34:52.169Z"
   },
   {
    "duration": 4,
    "start_time": "2021-11-12T02:35:14.222Z"
   },
   {
    "duration": 351,
    "start_time": "2021-11-12T02:36:49.487Z"
   },
   {
    "duration": 30,
    "start_time": "2021-11-12T02:37:11.760Z"
   },
   {
    "duration": 404,
    "start_time": "2021-11-12T02:51:01.703Z"
   },
   {
    "duration": 715,
    "start_time": "2021-11-12T02:51:09.437Z"
   },
   {
    "duration": 803,
    "start_time": "2021-11-12T02:51:20.581Z"
   },
   {
    "duration": 676,
    "start_time": "2021-11-12T02:52:02.547Z"
   },
   {
    "duration": 740,
    "start_time": "2021-11-12T02:52:21.402Z"
   },
   {
    "duration": 408,
    "start_time": "2021-11-12T02:56:00.341Z"
   },
   {
    "duration": 7,
    "start_time": "2021-11-12T02:56:04.020Z"
   },
   {
    "duration": 397,
    "start_time": "2021-11-12T02:56:09.300Z"
   },
   {
    "duration": 401,
    "start_time": "2021-11-12T02:57:22.775Z"
   },
   {
    "duration": 4,
    "start_time": "2021-11-12T02:58:20.635Z"
   },
   {
    "duration": 762,
    "start_time": "2021-11-12T02:58:22.460Z"
   },
   {
    "duration": 4,
    "start_time": "2021-11-12T02:59:42.232Z"
   },
   {
    "duration": 4,
    "start_time": "2021-11-12T02:59:44.302Z"
   },
   {
    "duration": 7,
    "start_time": "2021-11-12T03:00:16.326Z"
   },
   {
    "duration": 10,
    "start_time": "2021-11-12T03:00:20.533Z"
   },
   {
    "duration": 5,
    "start_time": "2021-11-12T03:00:30.508Z"
   },
   {
    "duration": 744,
    "start_time": "2021-11-12T03:00:37.853Z"
   },
   {
    "duration": 5,
    "start_time": "2021-11-12T03:00:54.257Z"
   },
   {
    "duration": 743,
    "start_time": "2021-11-12T03:00:56.154Z"
   },
   {
    "duration": 7,
    "start_time": "2021-11-12T03:01:27.417Z"
   },
   {
    "duration": 8,
    "start_time": "2021-11-12T03:01:31.866Z"
   },
   {
    "duration": 258,
    "start_time": "2021-11-12T03:05:20.548Z"
   },
   {
    "duration": 7,
    "start_time": "2021-11-12T03:05:51.200Z"
   },
   {
    "duration": 246,
    "start_time": "2021-11-12T03:05:55.792Z"
   },
   {
    "duration": 388,
    "start_time": "2021-11-12T03:08:34.407Z"
   },
   {
    "duration": 7,
    "start_time": "2021-11-12T03:09:03.704Z"
   },
   {
    "duration": 262,
    "start_time": "2021-11-12T03:10:35.655Z"
   },
   {
    "duration": 5393,
    "start_time": "2021-11-12T03:10:54.615Z"
   },
   {
    "duration": 6,
    "start_time": "2021-11-12T03:11:30.252Z"
   },
   {
    "duration": 257,
    "start_time": "2021-11-12T03:42:47.090Z"
   },
   {
    "duration": 8,
    "start_time": "2021-11-12T03:43:26.609Z"
   },
   {
    "duration": 7,
    "start_time": "2021-11-12T03:46:03.908Z"
   },
   {
    "duration": 1385,
    "start_time": "2021-11-12T03:46:03.917Z"
   },
   {
    "duration": 117,
    "start_time": "2021-11-12T03:46:05.305Z"
   },
   {
    "duration": 32,
    "start_time": "2021-11-12T03:46:05.424Z"
   },
   {
    "duration": 145,
    "start_time": "2021-11-12T03:46:05.459Z"
   },
   {
    "duration": 42,
    "start_time": "2021-11-12T03:46:05.608Z"
   },
   {
    "duration": 3,
    "start_time": "2021-11-12T03:46:05.654Z"
   },
   {
    "duration": 69845,
    "start_time": "2021-11-12T03:46:05.659Z"
   },
   {
    "duration": 270,
    "start_time": "2021-11-12T03:47:15.506Z"
   },
   {
    "duration": 726,
    "start_time": "2021-11-12T03:47:15.778Z"
   },
   {
    "duration": 15,
    "start_time": "2021-11-12T03:47:16.507Z"
   },
   {
    "duration": 76,
    "start_time": "2021-11-12T03:47:16.524Z"
   },
   {
    "duration": 30,
    "start_time": "2021-11-12T03:47:16.603Z"
   },
   {
    "duration": 74,
    "start_time": "2021-11-12T03:47:16.636Z"
   },
   {
    "duration": 17,
    "start_time": "2021-11-12T03:47:16.713Z"
   },
   {
    "duration": 122,
    "start_time": "2021-11-12T03:47:16.733Z"
   },
   {
    "duration": 482,
    "start_time": "2021-11-12T03:47:16.857Z"
   },
   {
    "duration": 5213,
    "start_time": "2021-11-12T03:47:17.341Z"
   },
   {
    "duration": 893,
    "start_time": "2021-11-12T03:47:22.556Z"
   },
   {
    "duration": 9415,
    "start_time": "2021-11-12T03:47:23.452Z"
   },
   {
    "duration": 1772,
    "start_time": "2021-11-12T03:47:32.872Z"
   },
   {
    "duration": 26,
    "start_time": "2021-11-12T03:47:34.647Z"
   },
   {
    "duration": 107,
    "start_time": "2021-11-12T03:47:34.675Z"
   },
   {
    "duration": 26,
    "start_time": "2021-11-12T03:47:34.785Z"
   },
   {
    "duration": 422,
    "start_time": "2021-11-12T03:47:34.813Z"
   },
   {
    "duration": 4,
    "start_time": "2021-11-12T03:47:35.237Z"
   },
   {
    "duration": 318,
    "start_time": "2021-11-12T03:47:35.243Z"
   },
   {
    "duration": 23,
    "start_time": "2021-11-12T03:47:35.564Z"
   },
   {
    "duration": 22,
    "start_time": "2021-11-12T03:47:35.600Z"
   },
   {
    "duration": 164,
    "start_time": "2021-11-12T03:47:35.624Z"
   },
   {
    "duration": 11,
    "start_time": "2021-11-12T03:47:35.791Z"
   },
   {
    "duration": 10,
    "start_time": "2021-11-12T03:47:35.805Z"
   },
   {
    "duration": 379,
    "start_time": "2021-11-12T03:47:35.817Z"
   },
   {
    "duration": 30,
    "start_time": "2021-11-12T03:47:36.200Z"
   },
   {
    "duration": 21,
    "start_time": "2021-11-12T03:47:36.233Z"
   },
   {
    "duration": 5549,
    "start_time": "2021-11-12T03:47:36.257Z"
   },
   {
    "duration": 95,
    "start_time": "2021-11-12T03:47:41.809Z"
   },
   {
    "duration": 1195,
    "start_time": "2021-11-12T03:47:41.907Z"
   },
   {
    "duration": 11,
    "start_time": "2021-11-12T03:47:43.105Z"
   },
   {
    "duration": 386,
    "start_time": "2021-11-12T03:47:43.203Z"
   },
   {
    "duration": -2745,
    "start_time": "2021-11-12T03:47:46.338Z"
   },
   {
    "duration": 7,
    "start_time": "2021-11-12T04:16:44.880Z"
   },
   {
    "duration": 6,
    "start_time": "2021-11-12T04:18:18.731Z"
   },
   {
    "duration": 149217,
    "start_time": "2021-11-12T04:18:30.665Z"
   },
   {
    "duration": 5,
    "start_time": "2021-11-12T04:22:33.555Z"
   },
   {
    "duration": 37963,
    "start_time": "2021-11-12T04:23:42.347Z"
   },
   {
    "duration": 37759,
    "start_time": "2021-11-12T04:24:55.618Z"
   },
   {
    "duration": 134,
    "start_time": "2021-11-12T04:26:07.207Z"
   },
   {
    "duration": 8,
    "start_time": "2021-11-12T04:26:47.475Z"
   },
   {
    "duration": 7,
    "start_time": "2021-11-12T04:27:03.131Z"
   },
   {
    "duration": 139,
    "start_time": "2021-11-12T04:27:42.913Z"
   },
   {
    "duration": 119,
    "start_time": "2021-11-12T04:27:51.360Z"
   },
   {
    "duration": 124,
    "start_time": "2021-11-12T04:28:10.960Z"
   },
   {
    "duration": 150430,
    "start_time": "2021-11-12T04:28:35.471Z"
   },
   {
    "duration": 5,
    "start_time": "2021-11-12T04:35:57.444Z"
   },
   {
    "duration": 38663,
    "start_time": "2021-11-12T04:35:59.204Z"
   },
   {
    "duration": 134,
    "start_time": "2021-11-12T04:36:48.153Z"
   },
   {
    "duration": 129,
    "start_time": "2021-11-12T04:36:50.632Z"
   },
   {
    "duration": 150,
    "start_time": "2021-11-12T04:37:17.897Z"
   },
   {
    "duration": 6,
    "start_time": "2021-11-12T04:37:26.111Z"
   },
   {
    "duration": 4,
    "start_time": "2021-11-12T04:39:51.390Z"
   },
   {
    "duration": 377,
    "start_time": "2021-11-12T04:40:33.556Z"
   },
   {
    "duration": 40,
    "start_time": "2021-11-12T04:40:38.587Z"
   },
   {
    "duration": 40,
    "start_time": "2021-11-12T04:42:33.670Z"
   },
   {
    "duration": 160,
    "start_time": "2021-11-12T04:42:49.901Z"
   },
   {
    "duration": 6,
    "start_time": "2021-11-12T04:43:01.074Z"
   },
   {
    "duration": 6,
    "start_time": "2021-11-12T04:43:20.500Z"
   },
   {
    "duration": 389,
    "start_time": "2021-11-12T04:43:31.490Z"
   },
   {
    "duration": 4,
    "start_time": "2021-11-12T04:43:37.016Z"
   },
   {
    "duration": 249,
    "start_time": "2021-11-12T04:44:02.983Z"
   },
   {
    "duration": 7,
    "start_time": "2021-11-12T04:44:34.703Z"
   },
   {
    "duration": 349014,
    "start_time": "2021-11-12T04:44:38.597Z"
   },
   {
    "duration": 5,
    "start_time": "2021-11-12T04:57:08.896Z"
   },
   {
    "duration": 5,
    "start_time": "2021-11-12T04:57:19.609Z"
   },
   {
    "duration": 526,
    "start_time": "2021-11-12T04:57:31.280Z"
   },
   {
    "duration": 7,
    "start_time": "2021-11-12T04:57:49.253Z"
   },
   {
    "duration": 8,
    "start_time": "2021-11-12T04:58:29.032Z"
   },
   {
    "duration": 1312,
    "start_time": "2021-11-12T04:58:29.043Z"
   },
   {
    "duration": 123,
    "start_time": "2021-11-12T04:58:30.358Z"
   },
   {
    "duration": 42,
    "start_time": "2021-11-12T04:58:30.484Z"
   },
   {
    "duration": 140,
    "start_time": "2021-11-12T04:58:30.529Z"
   },
   {
    "duration": 53,
    "start_time": "2021-11-12T04:58:30.672Z"
   },
   {
    "duration": 4,
    "start_time": "2021-11-12T04:58:30.727Z"
   },
   {
    "duration": 70433,
    "start_time": "2021-11-12T04:58:30.735Z"
   },
   {
    "duration": 274,
    "start_time": "2021-11-12T04:59:41.172Z"
   },
   {
    "duration": 723,
    "start_time": "2021-11-12T04:59:41.449Z"
   },
   {
    "duration": 34,
    "start_time": "2021-11-12T04:59:42.176Z"
   },
   {
    "duration": 55,
    "start_time": "2021-11-12T04:59:42.213Z"
   },
   {
    "duration": 49,
    "start_time": "2021-11-12T04:59:42.271Z"
   },
   {
    "duration": 87,
    "start_time": "2021-11-12T04:59:42.323Z"
   },
   {
    "duration": 21,
    "start_time": "2021-11-12T04:59:42.412Z"
   },
   {
    "duration": 138,
    "start_time": "2021-11-12T04:59:42.436Z"
   },
   {
    "duration": 499,
    "start_time": "2021-11-12T04:59:42.577Z"
   },
   {
    "duration": 5290,
    "start_time": "2021-11-12T04:59:43.079Z"
   },
   {
    "duration": 878,
    "start_time": "2021-11-12T04:59:48.371Z"
   },
   {
    "duration": 9577,
    "start_time": "2021-11-12T04:59:49.252Z"
   },
   {
    "duration": 1774,
    "start_time": "2021-11-12T04:59:58.831Z"
   },
   {
    "duration": 26,
    "start_time": "2021-11-12T05:00:00.607Z"
   },
   {
    "duration": 108,
    "start_time": "2021-11-12T05:00:00.639Z"
   },
   {
    "duration": 18,
    "start_time": "2021-11-12T05:00:00.751Z"
   },
   {
    "duration": 465,
    "start_time": "2021-11-12T05:00:00.771Z"
   },
   {
    "duration": 4,
    "start_time": "2021-11-12T05:00:01.238Z"
   },
   {
    "duration": 310,
    "start_time": "2021-11-12T05:00:01.244Z"
   },
   {
    "duration": 22,
    "start_time": "2021-11-12T05:00:01.557Z"
   },
   {
    "duration": 35,
    "start_time": "2021-11-12T05:00:01.581Z"
   },
   {
    "duration": 160,
    "start_time": "2021-11-12T05:00:01.619Z"
   },
   {
    "duration": 4,
    "start_time": "2021-11-12T05:00:01.782Z"
   },
   {
    "duration": 105,
    "start_time": "2021-11-12T05:00:01.789Z"
   },
   {
    "duration": 423,
    "start_time": "2021-11-12T05:00:01.897Z"
   },
   {
    "duration": 32,
    "start_time": "2021-11-12T05:00:02.322Z"
   },
   {
    "duration": 20,
    "start_time": "2021-11-12T05:00:02.356Z"
   },
   {
    "duration": 5639,
    "start_time": "2021-11-12T05:00:02.379Z"
   },
   {
    "duration": 8,
    "start_time": "2021-11-12T05:00:08.102Z"
   },
   {
    "duration": 1292,
    "start_time": "2021-11-12T05:00:08.113Z"
   },
   {
    "duration": 11,
    "start_time": "2021-11-12T05:00:09.407Z"
   },
   {
    "duration": 85,
    "start_time": "2021-11-12T05:00:09.422Z"
   },
   {
    "duration": 154345,
    "start_time": "2021-11-12T05:00:09.510Z"
   },
   {
    "duration": 7,
    "start_time": "2021-11-12T05:02:43.858Z"
   },
   {
    "duration": 38335,
    "start_time": "2021-11-12T05:02:43.868Z"
   },
   {
    "duration": 153,
    "start_time": "2021-11-12T05:03:22.206Z"
   },
   {
    "duration": 7,
    "start_time": "2021-11-12T05:03:22.361Z"
   },
   {
    "duration": 6,
    "start_time": "2021-11-12T05:03:22.370Z"
   },
   {
    "duration": 60,
    "start_time": "2021-11-12T05:03:22.378Z"
   },
   {
    "duration": 174,
    "start_time": "2021-11-12T05:03:22.440Z"
   },
   {
    "duration": 5,
    "start_time": "2021-11-12T05:03:22.617Z"
   },
   {
    "duration": 10,
    "start_time": "2021-11-12T05:03:22.624Z"
   },
   {
    "duration": 9,
    "start_time": "2021-11-12T05:03:22.636Z"
   },
   {
    "duration": 8,
    "start_time": "2021-11-12T05:10:26.305Z"
   },
   {
    "duration": 1349,
    "start_time": "2021-11-12T05:10:26.315Z"
   },
   {
    "duration": 115,
    "start_time": "2021-11-12T05:10:27.667Z"
   },
   {
    "duration": 41,
    "start_time": "2021-11-12T05:10:27.784Z"
   },
   {
    "duration": 141,
    "start_time": "2021-11-12T05:10:27.828Z"
   },
   {
    "duration": 55,
    "start_time": "2021-11-12T05:10:27.971Z"
   },
   {
    "duration": 4,
    "start_time": "2021-11-12T05:10:28.029Z"
   },
   {
    "duration": 69977,
    "start_time": "2021-11-12T05:10:28.035Z"
   },
   {
    "duration": 270,
    "start_time": "2021-11-12T05:11:38.015Z"
   },
   {
    "duration": 734,
    "start_time": "2021-11-12T05:11:38.287Z"
   },
   {
    "duration": 14,
    "start_time": "2021-11-12T05:11:39.023Z"
   },
   {
    "duration": 68,
    "start_time": "2021-11-12T05:11:39.039Z"
   },
   {
    "duration": 29,
    "start_time": "2021-11-12T05:11:39.110Z"
   },
   {
    "duration": 78,
    "start_time": "2021-11-12T05:11:39.142Z"
   },
   {
    "duration": 18,
    "start_time": "2021-11-12T05:11:39.222Z"
   },
   {
    "duration": 124,
    "start_time": "2021-11-12T05:11:39.242Z"
   },
   {
    "duration": 489,
    "start_time": "2021-11-12T05:11:39.368Z"
   },
   {
    "duration": 5018,
    "start_time": "2021-11-12T05:11:39.860Z"
   },
   {
    "duration": 911,
    "start_time": "2021-11-12T05:11:44.881Z"
   },
   {
    "duration": 9605,
    "start_time": "2021-11-12T05:11:45.800Z"
   },
   {
    "duration": 1904,
    "start_time": "2021-11-12T05:11:55.408Z"
   },
   {
    "duration": 27,
    "start_time": "2021-11-12T05:11:57.314Z"
   },
   {
    "duration": 108,
    "start_time": "2021-11-12T05:11:57.343Z"
   },
   {
    "duration": 20,
    "start_time": "2021-11-12T05:11:57.453Z"
   },
   {
    "duration": 473,
    "start_time": "2021-11-12T05:11:57.476Z"
   },
   {
    "duration": 6,
    "start_time": "2021-11-12T05:11:57.951Z"
   },
   {
    "duration": 303,
    "start_time": "2021-11-12T05:11:57.960Z"
   },
   {
    "duration": 39,
    "start_time": "2021-11-12T05:11:58.266Z"
   },
   {
    "duration": 21,
    "start_time": "2021-11-12T05:11:58.308Z"
   },
   {
    "duration": 167,
    "start_time": "2021-11-12T05:11:58.331Z"
   },
   {
    "duration": 5,
    "start_time": "2021-11-12T05:11:58.500Z"
   },
   {
    "duration": 6,
    "start_time": "2021-11-12T05:11:58.507Z"
   },
   {
    "duration": 376,
    "start_time": "2021-11-12T05:11:58.516Z"
   },
   {
    "duration": 32,
    "start_time": "2021-11-12T05:11:58.894Z"
   },
   {
    "duration": 8,
    "start_time": "2021-11-12T05:11:58.928Z"
   },
   {
    "duration": 5778,
    "start_time": "2021-11-12T05:11:58.938Z"
   },
   {
    "duration": 8,
    "start_time": "2021-11-12T05:12:04.803Z"
   },
   {
    "duration": 1208,
    "start_time": "2021-11-12T05:12:04.814Z"
   },
   {
    "duration": 85,
    "start_time": "2021-11-12T05:12:06.029Z"
   },
   {
    "duration": 99,
    "start_time": "2021-11-12T05:12:06.204Z"
   },
   {
    "duration": 151019,
    "start_time": "2021-11-12T05:12:06.306Z"
   },
   {
    "duration": 5,
    "start_time": "2021-11-12T05:14:37.328Z"
   },
   {
    "duration": 39311,
    "start_time": "2021-11-12T05:14:37.336Z"
   },
   {
    "duration": 152,
    "start_time": "2021-11-12T05:15:16.650Z"
   },
   {
    "duration": 7,
    "start_time": "2021-11-12T05:15:16.805Z"
   },
   {
    "duration": 4,
    "start_time": "2021-11-12T05:15:16.814Z"
   },
   {
    "duration": 50,
    "start_time": "2021-11-12T05:15:16.821Z"
   },
   {
    "duration": 187,
    "start_time": "2021-11-12T05:15:16.874Z"
   },
   {
    "duration": 5,
    "start_time": "2021-11-12T05:15:17.063Z"
   },
   {
    "duration": 10,
    "start_time": "2021-11-12T05:15:17.071Z"
   },
   {
    "duration": 3,
    "start_time": "2021-11-12T05:15:17.101Z"
   },
   {
    "duration": 308595,
    "start_time": "2021-11-12T05:15:17.107Z"
   },
   {
    "duration": 4,
    "start_time": "2021-11-12T05:20:25.704Z"
   },
   {
    "duration": 9,
    "start_time": "2021-11-12T05:20:25.710Z"
   },
   {
    "duration": 588,
    "start_time": "2021-11-12T05:20:25.721Z"
   },
   {
    "duration": 8,
    "start_time": "2021-11-12T05:20:26.312Z"
   },
   {
    "duration": 7,
    "start_time": "2021-11-12T05:55:36.506Z"
   },
   {
    "duration": 10,
    "start_time": "2021-11-12T05:55:41.190Z"
   },
   {
    "duration": 1357,
    "start_time": "2021-11-12T05:55:41.203Z"
   },
   {
    "duration": 125,
    "start_time": "2021-11-12T05:55:42.563Z"
   },
   {
    "duration": 38,
    "start_time": "2021-11-12T05:55:42.692Z"
   },
   {
    "duration": 140,
    "start_time": "2021-11-12T05:55:42.733Z"
   },
   {
    "duration": 46,
    "start_time": "2021-11-12T05:55:42.876Z"
   },
   {
    "duration": 4,
    "start_time": "2021-11-12T05:55:42.925Z"
   },
   {
    "duration": 70720,
    "start_time": "2021-11-12T05:55:42.933Z"
   },
   {
    "duration": 277,
    "start_time": "2021-11-12T05:56:53.657Z"
   },
   {
    "duration": 741,
    "start_time": "2021-11-12T05:56:53.937Z"
   },
   {
    "duration": 23,
    "start_time": "2021-11-12T05:56:54.681Z"
   },
   {
    "duration": 48,
    "start_time": "2021-11-12T05:56:54.707Z"
   },
   {
    "duration": 50,
    "start_time": "2021-11-12T05:56:54.758Z"
   },
   {
    "duration": 60,
    "start_time": "2021-11-12T05:56:54.810Z"
   },
   {
    "duration": 39,
    "start_time": "2021-11-12T05:56:54.872Z"
   },
   {
    "duration": 116,
    "start_time": "2021-11-12T05:56:54.913Z"
   },
   {
    "duration": 468,
    "start_time": "2021-11-12T05:56:55.032Z"
   },
   {
    "duration": 5005,
    "start_time": "2021-11-12T05:56:55.503Z"
   },
   {
    "duration": 933,
    "start_time": "2021-11-12T05:57:00.511Z"
   },
   {
    "duration": 9409,
    "start_time": "2021-11-12T05:57:01.447Z"
   },
   {
    "duration": 1735,
    "start_time": "2021-11-12T05:57:10.858Z"
   },
   {
    "duration": 25,
    "start_time": "2021-11-12T05:57:12.596Z"
   },
   {
    "duration": 108,
    "start_time": "2021-11-12T05:57:12.626Z"
   },
   {
    "duration": 18,
    "start_time": "2021-11-12T05:57:12.737Z"
   },
   {
    "duration": 579,
    "start_time": "2021-11-12T05:57:12.757Z"
   },
   {
    "duration": 4,
    "start_time": "2021-11-12T05:57:13.338Z"
   },
   {
    "duration": 303,
    "start_time": "2021-11-12T05:57:13.345Z"
   },
   {
    "duration": 25,
    "start_time": "2021-11-12T05:57:13.650Z"
   },
   {
    "duration": 38,
    "start_time": "2021-11-12T05:57:13.677Z"
   },
   {
    "duration": 162,
    "start_time": "2021-11-12T05:57:13.718Z"
   },
   {
    "duration": 5,
    "start_time": "2021-11-12T05:57:13.882Z"
   },
   {
    "duration": 11,
    "start_time": "2021-11-12T05:57:13.900Z"
   },
   {
    "duration": 352,
    "start_time": "2021-11-12T05:57:13.913Z"
   },
   {
    "duration": 39,
    "start_time": "2021-11-12T05:57:14.267Z"
   },
   {
    "duration": 6,
    "start_time": "2021-11-12T05:57:14.309Z"
   },
   {
    "duration": 5581,
    "start_time": "2021-11-12T05:57:14.318Z"
   },
   {
    "duration": 98,
    "start_time": "2021-11-12T05:57:19.903Z"
   },
   {
    "duration": 1103,
    "start_time": "2021-11-12T05:57:20.003Z"
   },
   {
    "duration": 98,
    "start_time": "2021-11-12T05:57:21.109Z"
   },
   {
    "duration": 91,
    "start_time": "2021-11-12T05:57:21.211Z"
   },
   {
    "duration": 147685,
    "start_time": "2021-11-12T05:57:21.304Z"
   },
   {
    "duration": 6,
    "start_time": "2021-11-12T05:59:48.999Z"
   },
   {
    "duration": 38147,
    "start_time": "2021-11-12T05:59:49.008Z"
   },
   {
    "duration": 151,
    "start_time": "2021-11-12T06:00:27.158Z"
   },
   {
    "duration": 7,
    "start_time": "2021-11-12T06:00:27.312Z"
   },
   {
    "duration": 7,
    "start_time": "2021-11-12T06:00:27.321Z"
   },
   {
    "duration": 71,
    "start_time": "2021-11-12T06:00:27.331Z"
   },
   {
    "duration": 164,
    "start_time": "2021-11-12T06:00:27.404Z"
   },
   {
    "duration": 5,
    "start_time": "2021-11-12T06:00:27.571Z"
   },
   {
    "duration": 24,
    "start_time": "2021-11-12T06:00:27.578Z"
   },
   {
    "duration": 12,
    "start_time": "2021-11-12T06:00:27.604Z"
   },
   {
    "duration": 316793,
    "start_time": "2021-11-12T06:00:27.618Z"
   },
   {
    "duration": 4,
    "start_time": "2021-11-12T06:05:44.414Z"
   },
   {
    "duration": 6,
    "start_time": "2021-11-12T06:05:44.421Z"
   },
   {
    "duration": 523,
    "start_time": "2021-11-12T06:05:44.501Z"
   },
   {
    "duration": 81,
    "start_time": "2021-11-12T06:05:45.026Z"
   }
  ],
  "kernelspec": {
   "display_name": "Python 3 (ipykernel)",
   "language": "python",
   "name": "python3"
  },
  "language_info": {
   "codemirror_mode": {
    "name": "ipython",
    "version": 3
   },
   "file_extension": ".py",
   "mimetype": "text/x-python",
   "name": "python",
   "nbconvert_exporter": "python",
   "pygments_lexer": "ipython3",
   "version": "3.9.10"
  },
  "toc": {
   "base_numbering": 1,
   "nav_menu": {},
   "number_sections": true,
   "sideBar": true,
   "skip_h1_title": true,
   "title_cell": "Table of Contents",
   "title_sidebar": "Contents",
   "toc_cell": false,
   "toc_position": {},
   "toc_section_display": true,
   "toc_window_display": false
  }
 },
 "nbformat": 4,
 "nbformat_minor": 2
}
