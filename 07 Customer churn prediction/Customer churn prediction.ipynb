{
 "cells": [
  {
   "cell_type": "markdown",
   "metadata": {},
   "source": [
    "# Customer churn prediction"
   ]
  },
  {
   "cell_type": "markdown",
   "metadata": {},
   "source": [
    "Customers began to leave Beta-Bank. A little, but noticeable. Banking marketers figured it was cheaper to keep current customers than to attract new ones.\n",
    "\n",
    "It is necessary to predict whether the client will leave the bank in the near future or not. You are provided with historical data on customer behavior and termination of agreements with the bank.\n",
    "\n",
    "Build a model with an extremely large *F1*-measure. To pass the project successfully, you need to bring the metric to 0.59. Check the *F1*-measure on the test set yourself.\n",
    "\n",
    "Additionally measure *AUC-ROC*, compare its value with *F1*-measure.\n",
    "\n",
    "Data source: [https://www.kaggle.com/barelydedicated/bank-customer-churn-modeling](https://www.kaggle.com/barelydedicated/bank-customer-churn-modeling)"
   ]
  },
  {
   "cell_type": "markdown",
   "metadata": {},
   "source": [
    "## Data preparation"
   ]
  },
  {
   "cell_type": "markdown",
   "metadata": {},
   "source": [
    "I download the necessary libraries."
   ]
  },
  {
   "cell_type": "code",
   "execution_count": 75,
   "metadata": {},
   "outputs": [],
   "source": [
    "import pandas as pd\n",
    "import numpy as np\n",
    "import matplotlib.pyplot as plt\n",
    "import seaborn as sns\n",
    "import itertools\n",
    "from sklearn.linear_model import LogisticRegression\n",
    "from sklearn.ensemble import RandomForestClassifier\n",
    "from sklearn.model_selection import train_test_split, KFold, cross_val_score, ShuffleSplit\n",
    "from sklearn.preprocessing import StandardScaler, OrdinalEncoder\n",
    "from sklearn.impute import SimpleImputer\n",
    "from sklearn.metrics import accuracy_score, confusion_matrix, f1_score, roc_curve, roc_auc_score\n",
    "from sklearn.utils import shuffle\n",
    "\n",
    "\n",
    "#disable warnings\n",
    "import warnings\n",
    "warnings.filterwarnings('ignore')"
   ]
  },
  {
   "cell_type": "markdown",
   "metadata": {},
   "source": [
    "Loading and evaluation of the dataset."
   ]
  },
  {
   "cell_type": "code",
   "execution_count": 76,
   "metadata": {
    "scrolled": true
   },
   "outputs": [
    {
     "data": {
      "text/html": [
       "<div>\n",
       "<style scoped>\n",
       "    .dataframe tbody tr th:only-of-type {\n",
       "        vertical-align: middle;\n",
       "    }\n",
       "\n",
       "    .dataframe tbody tr th {\n",
       "        vertical-align: top;\n",
       "    }\n",
       "\n",
       "    .dataframe thead th {\n",
       "        text-align: right;\n",
       "    }\n",
       "</style>\n",
       "<table border=\"1\" class=\"dataframe\">\n",
       "  <thead>\n",
       "    <tr style=\"text-align: right;\">\n",
       "      <th></th>\n",
       "      <th>RowNumber</th>\n",
       "      <th>CustomerId</th>\n",
       "      <th>Surname</th>\n",
       "      <th>CreditScore</th>\n",
       "      <th>Geography</th>\n",
       "      <th>Gender</th>\n",
       "      <th>Age</th>\n",
       "      <th>Tenure</th>\n",
       "      <th>Balance</th>\n",
       "      <th>NumOfProducts</th>\n",
       "      <th>HasCrCard</th>\n",
       "      <th>IsActiveMember</th>\n",
       "      <th>EstimatedSalary</th>\n",
       "      <th>Exited</th>\n",
       "    </tr>\n",
       "  </thead>\n",
       "  <tbody>\n",
       "    <tr>\n",
       "      <td>0</td>\n",
       "      <td>1</td>\n",
       "      <td>15634602</td>\n",
       "      <td>Hargrave</td>\n",
       "      <td>619</td>\n",
       "      <td>France</td>\n",
       "      <td>Female</td>\n",
       "      <td>42</td>\n",
       "      <td>2.0</td>\n",
       "      <td>0.00</td>\n",
       "      <td>1</td>\n",
       "      <td>1</td>\n",
       "      <td>1</td>\n",
       "      <td>101348.88</td>\n",
       "      <td>1</td>\n",
       "    </tr>\n",
       "    <tr>\n",
       "      <td>1</td>\n",
       "      <td>2</td>\n",
       "      <td>15647311</td>\n",
       "      <td>Hill</td>\n",
       "      <td>608</td>\n",
       "      <td>Spain</td>\n",
       "      <td>Female</td>\n",
       "      <td>41</td>\n",
       "      <td>1.0</td>\n",
       "      <td>83807.86</td>\n",
       "      <td>1</td>\n",
       "      <td>0</td>\n",
       "      <td>1</td>\n",
       "      <td>112542.58</td>\n",
       "      <td>0</td>\n",
       "    </tr>\n",
       "    <tr>\n",
       "      <td>2</td>\n",
       "      <td>3</td>\n",
       "      <td>15619304</td>\n",
       "      <td>Onio</td>\n",
       "      <td>502</td>\n",
       "      <td>France</td>\n",
       "      <td>Female</td>\n",
       "      <td>42</td>\n",
       "      <td>8.0</td>\n",
       "      <td>159660.80</td>\n",
       "      <td>3</td>\n",
       "      <td>1</td>\n",
       "      <td>0</td>\n",
       "      <td>113931.57</td>\n",
       "      <td>1</td>\n",
       "    </tr>\n",
       "    <tr>\n",
       "      <td>3</td>\n",
       "      <td>4</td>\n",
       "      <td>15701354</td>\n",
       "      <td>Boni</td>\n",
       "      <td>699</td>\n",
       "      <td>France</td>\n",
       "      <td>Female</td>\n",
       "      <td>39</td>\n",
       "      <td>1.0</td>\n",
       "      <td>0.00</td>\n",
       "      <td>2</td>\n",
       "      <td>0</td>\n",
       "      <td>0</td>\n",
       "      <td>93826.63</td>\n",
       "      <td>0</td>\n",
       "    </tr>\n",
       "    <tr>\n",
       "      <td>4</td>\n",
       "      <td>5</td>\n",
       "      <td>15737888</td>\n",
       "      <td>Mitchell</td>\n",
       "      <td>850</td>\n",
       "      <td>Spain</td>\n",
       "      <td>Female</td>\n",
       "      <td>43</td>\n",
       "      <td>2.0</td>\n",
       "      <td>125510.82</td>\n",
       "      <td>1</td>\n",
       "      <td>1</td>\n",
       "      <td>1</td>\n",
       "      <td>79084.10</td>\n",
       "      <td>0</td>\n",
       "    </tr>\n",
       "  </tbody>\n",
       "</table>\n",
       "</div>"
      ],
      "text/plain": [
       "   RowNumber  CustomerId   Surname  CreditScore Geography  Gender  Age  \\\n",
       "0          1    15634602  Hargrave          619    France  Female   42   \n",
       "1          2    15647311      Hill          608     Spain  Female   41   \n",
       "2          3    15619304      Onio          502    France  Female   42   \n",
       "3          4    15701354      Boni          699    France  Female   39   \n",
       "4          5    15737888  Mitchell          850     Spain  Female   43   \n",
       "\n",
       "   Tenure    Balance  NumOfProducts  HasCrCard  IsActiveMember  \\\n",
       "0     2.0       0.00              1          1               1   \n",
       "1     1.0   83807.86              1          0               1   \n",
       "2     8.0  159660.80              3          1               0   \n",
       "3     1.0       0.00              2          0               0   \n",
       "4     2.0  125510.82              1          1               1   \n",
       "\n",
       "   EstimatedSalary  Exited  \n",
       "0        101348.88       1  \n",
       "1        112542.58       0  \n",
       "2        113931.57       1  \n",
       "3         93826.63       0  \n",
       "4         79084.10       0  "
      ]
     },
     "metadata": {},
     "output_type": "display_data"
    },
    {
     "data": {
      "text/html": [
       "<div>\n",
       "<style scoped>\n",
       "    .dataframe tbody tr th:only-of-type {\n",
       "        vertical-align: middle;\n",
       "    }\n",
       "\n",
       "    .dataframe tbody tr th {\n",
       "        vertical-align: top;\n",
       "    }\n",
       "\n",
       "    .dataframe thead th {\n",
       "        text-align: right;\n",
       "    }\n",
       "</style>\n",
       "<table border=\"1\" class=\"dataframe\">\n",
       "  <thead>\n",
       "    <tr style=\"text-align: right;\">\n",
       "      <th></th>\n",
       "      <th>RowNumber</th>\n",
       "      <th>CustomerId</th>\n",
       "      <th>Surname</th>\n",
       "      <th>CreditScore</th>\n",
       "      <th>Geography</th>\n",
       "      <th>Gender</th>\n",
       "      <th>Age</th>\n",
       "      <th>Tenure</th>\n",
       "      <th>Balance</th>\n",
       "      <th>NumOfProducts</th>\n",
       "      <th>HasCrCard</th>\n",
       "      <th>IsActiveMember</th>\n",
       "      <th>EstimatedSalary</th>\n",
       "      <th>Exited</th>\n",
       "    </tr>\n",
       "  </thead>\n",
       "  <tbody>\n",
       "    <tr>\n",
       "      <td>9995</td>\n",
       "      <td>9996</td>\n",
       "      <td>15606229</td>\n",
       "      <td>Obijiaku</td>\n",
       "      <td>771</td>\n",
       "      <td>France</td>\n",
       "      <td>Male</td>\n",
       "      <td>39</td>\n",
       "      <td>5.0</td>\n",
       "      <td>0.00</td>\n",
       "      <td>2</td>\n",
       "      <td>1</td>\n",
       "      <td>0</td>\n",
       "      <td>96270.64</td>\n",
       "      <td>0</td>\n",
       "    </tr>\n",
       "    <tr>\n",
       "      <td>9996</td>\n",
       "      <td>9997</td>\n",
       "      <td>15569892</td>\n",
       "      <td>Johnstone</td>\n",
       "      <td>516</td>\n",
       "      <td>France</td>\n",
       "      <td>Male</td>\n",
       "      <td>35</td>\n",
       "      <td>10.0</td>\n",
       "      <td>57369.61</td>\n",
       "      <td>1</td>\n",
       "      <td>1</td>\n",
       "      <td>1</td>\n",
       "      <td>101699.77</td>\n",
       "      <td>0</td>\n",
       "    </tr>\n",
       "    <tr>\n",
       "      <td>9997</td>\n",
       "      <td>9998</td>\n",
       "      <td>15584532</td>\n",
       "      <td>Liu</td>\n",
       "      <td>709</td>\n",
       "      <td>France</td>\n",
       "      <td>Female</td>\n",
       "      <td>36</td>\n",
       "      <td>7.0</td>\n",
       "      <td>0.00</td>\n",
       "      <td>1</td>\n",
       "      <td>0</td>\n",
       "      <td>1</td>\n",
       "      <td>42085.58</td>\n",
       "      <td>1</td>\n",
       "    </tr>\n",
       "    <tr>\n",
       "      <td>9998</td>\n",
       "      <td>9999</td>\n",
       "      <td>15682355</td>\n",
       "      <td>Sabbatini</td>\n",
       "      <td>772</td>\n",
       "      <td>Germany</td>\n",
       "      <td>Male</td>\n",
       "      <td>42</td>\n",
       "      <td>3.0</td>\n",
       "      <td>75075.31</td>\n",
       "      <td>2</td>\n",
       "      <td>1</td>\n",
       "      <td>0</td>\n",
       "      <td>92888.52</td>\n",
       "      <td>1</td>\n",
       "    </tr>\n",
       "    <tr>\n",
       "      <td>9999</td>\n",
       "      <td>10000</td>\n",
       "      <td>15628319</td>\n",
       "      <td>Walker</td>\n",
       "      <td>792</td>\n",
       "      <td>France</td>\n",
       "      <td>Female</td>\n",
       "      <td>28</td>\n",
       "      <td>NaN</td>\n",
       "      <td>130142.79</td>\n",
       "      <td>1</td>\n",
       "      <td>1</td>\n",
       "      <td>0</td>\n",
       "      <td>38190.78</td>\n",
       "      <td>0</td>\n",
       "    </tr>\n",
       "  </tbody>\n",
       "</table>\n",
       "</div>"
      ],
      "text/plain": [
       "      RowNumber  CustomerId    Surname  CreditScore Geography  Gender  Age  \\\n",
       "9995       9996    15606229   Obijiaku          771    France    Male   39   \n",
       "9996       9997    15569892  Johnstone          516    France    Male   35   \n",
       "9997       9998    15584532        Liu          709    France  Female   36   \n",
       "9998       9999    15682355  Sabbatini          772   Germany    Male   42   \n",
       "9999      10000    15628319     Walker          792    France  Female   28   \n",
       "\n",
       "      Tenure    Balance  NumOfProducts  HasCrCard  IsActiveMember  \\\n",
       "9995     5.0       0.00              2          1               0   \n",
       "9996    10.0   57369.61              1          1               1   \n",
       "9997     7.0       0.00              1          0               1   \n",
       "9998     3.0   75075.31              2          1               0   \n",
       "9999     NaN  130142.79              1          1               0   \n",
       "\n",
       "      EstimatedSalary  Exited  \n",
       "9995         96270.64       0  \n",
       "9996        101699.77       0  \n",
       "9997         42085.58       1  \n",
       "9998         92888.52       1  \n",
       "9999         38190.78       0  "
      ]
     },
     "metadata": {},
     "output_type": "display_data"
    }
   ],
   "source": [
    "df = pd.read_csv('/datasets/Churn.csv')\n",
    "display(df.head(5))\n",
    "display(df.tail(5))"
   ]
  },
  {
   "cell_type": "markdown",
   "metadata": {},
   "source": [
    "Evaluation of columns and types of data presented."
   ]
  },
  {
   "cell_type": "code",
   "execution_count": 77,
   "metadata": {
    "scrolled": false
   },
   "outputs": [
    {
     "name": "stdout",
     "output_type": "stream",
     "text": [
      "<class 'pandas.core.frame.DataFrame'>\n",
      "RangeIndex: 10000 entries, 0 to 9999\n",
      "Data columns (total 14 columns):\n",
      "RowNumber          10000 non-null int64\n",
      "CustomerId         10000 non-null int64\n",
      "Surname            10000 non-null object\n",
      "CreditScore        10000 non-null int64\n",
      "Geography          10000 non-null object\n",
      "Gender             10000 non-null object\n",
      "Age                10000 non-null int64\n",
      "Tenure             9091 non-null float64\n",
      "Balance            10000 non-null float64\n",
      "NumOfProducts      10000 non-null int64\n",
      "HasCrCard          10000 non-null int64\n",
      "IsActiveMember     10000 non-null int64\n",
      "EstimatedSalary    10000 non-null float64\n",
      "Exited             10000 non-null int64\n",
      "dtypes: float64(3), int64(8), object(3)\n",
      "memory usage: 1.1+ MB\n"
     ]
    },
    {
     "data": {
      "text/html": [
       "<div>\n",
       "<style scoped>\n",
       "    .dataframe tbody tr th:only-of-type {\n",
       "        vertical-align: middle;\n",
       "    }\n",
       "\n",
       "    .dataframe tbody tr th {\n",
       "        vertical-align: top;\n",
       "    }\n",
       "\n",
       "    .dataframe thead th {\n",
       "        text-align: right;\n",
       "    }\n",
       "</style>\n",
       "<table border=\"1\" class=\"dataframe\">\n",
       "  <thead>\n",
       "    <tr style=\"text-align: right;\">\n",
       "      <th></th>\n",
       "      <th>RowNumber</th>\n",
       "      <th>CustomerId</th>\n",
       "      <th>CreditScore</th>\n",
       "      <th>Age</th>\n",
       "      <th>Tenure</th>\n",
       "      <th>Balance</th>\n",
       "      <th>NumOfProducts</th>\n",
       "      <th>HasCrCard</th>\n",
       "      <th>IsActiveMember</th>\n",
       "      <th>EstimatedSalary</th>\n",
       "      <th>Exited</th>\n",
       "    </tr>\n",
       "  </thead>\n",
       "  <tbody>\n",
       "    <tr>\n",
       "      <td>count</td>\n",
       "      <td>10000.00000</td>\n",
       "      <td>1.000000e+04</td>\n",
       "      <td>10000.000000</td>\n",
       "      <td>10000.000000</td>\n",
       "      <td>9091.000000</td>\n",
       "      <td>10000.000000</td>\n",
       "      <td>10000.000000</td>\n",
       "      <td>10000.00000</td>\n",
       "      <td>10000.000000</td>\n",
       "      <td>10000.000000</td>\n",
       "      <td>10000.000000</td>\n",
       "    </tr>\n",
       "    <tr>\n",
       "      <td>mean</td>\n",
       "      <td>5000.50000</td>\n",
       "      <td>1.569094e+07</td>\n",
       "      <td>650.528800</td>\n",
       "      <td>38.921800</td>\n",
       "      <td>4.997690</td>\n",
       "      <td>76485.889288</td>\n",
       "      <td>1.530200</td>\n",
       "      <td>0.70550</td>\n",
       "      <td>0.515100</td>\n",
       "      <td>100090.239881</td>\n",
       "      <td>0.203700</td>\n",
       "    </tr>\n",
       "    <tr>\n",
       "      <td>std</td>\n",
       "      <td>2886.89568</td>\n",
       "      <td>7.193619e+04</td>\n",
       "      <td>96.653299</td>\n",
       "      <td>10.487806</td>\n",
       "      <td>2.894723</td>\n",
       "      <td>62397.405202</td>\n",
       "      <td>0.581654</td>\n",
       "      <td>0.45584</td>\n",
       "      <td>0.499797</td>\n",
       "      <td>57510.492818</td>\n",
       "      <td>0.402769</td>\n",
       "    </tr>\n",
       "    <tr>\n",
       "      <td>min</td>\n",
       "      <td>1.00000</td>\n",
       "      <td>1.556570e+07</td>\n",
       "      <td>350.000000</td>\n",
       "      <td>18.000000</td>\n",
       "      <td>0.000000</td>\n",
       "      <td>0.000000</td>\n",
       "      <td>1.000000</td>\n",
       "      <td>0.00000</td>\n",
       "      <td>0.000000</td>\n",
       "      <td>11.580000</td>\n",
       "      <td>0.000000</td>\n",
       "    </tr>\n",
       "    <tr>\n",
       "      <td>25%</td>\n",
       "      <td>2500.75000</td>\n",
       "      <td>1.562853e+07</td>\n",
       "      <td>584.000000</td>\n",
       "      <td>32.000000</td>\n",
       "      <td>2.000000</td>\n",
       "      <td>0.000000</td>\n",
       "      <td>1.000000</td>\n",
       "      <td>0.00000</td>\n",
       "      <td>0.000000</td>\n",
       "      <td>51002.110000</td>\n",
       "      <td>0.000000</td>\n",
       "    </tr>\n",
       "    <tr>\n",
       "      <td>50%</td>\n",
       "      <td>5000.50000</td>\n",
       "      <td>1.569074e+07</td>\n",
       "      <td>652.000000</td>\n",
       "      <td>37.000000</td>\n",
       "      <td>5.000000</td>\n",
       "      <td>97198.540000</td>\n",
       "      <td>1.000000</td>\n",
       "      <td>1.00000</td>\n",
       "      <td>1.000000</td>\n",
       "      <td>100193.915000</td>\n",
       "      <td>0.000000</td>\n",
       "    </tr>\n",
       "    <tr>\n",
       "      <td>75%</td>\n",
       "      <td>7500.25000</td>\n",
       "      <td>1.575323e+07</td>\n",
       "      <td>718.000000</td>\n",
       "      <td>44.000000</td>\n",
       "      <td>7.000000</td>\n",
       "      <td>127644.240000</td>\n",
       "      <td>2.000000</td>\n",
       "      <td>1.00000</td>\n",
       "      <td>1.000000</td>\n",
       "      <td>149388.247500</td>\n",
       "      <td>0.000000</td>\n",
       "    </tr>\n",
       "    <tr>\n",
       "      <td>max</td>\n",
       "      <td>10000.00000</td>\n",
       "      <td>1.581569e+07</td>\n",
       "      <td>850.000000</td>\n",
       "      <td>92.000000</td>\n",
       "      <td>10.000000</td>\n",
       "      <td>250898.090000</td>\n",
       "      <td>4.000000</td>\n",
       "      <td>1.00000</td>\n",
       "      <td>1.000000</td>\n",
       "      <td>199992.480000</td>\n",
       "      <td>1.000000</td>\n",
       "    </tr>\n",
       "  </tbody>\n",
       "</table>\n",
       "</div>"
      ],
      "text/plain": [
       "         RowNumber    CustomerId   CreditScore           Age       Tenure  \\\n",
       "count  10000.00000  1.000000e+04  10000.000000  10000.000000  9091.000000   \n",
       "mean    5000.50000  1.569094e+07    650.528800     38.921800     4.997690   \n",
       "std     2886.89568  7.193619e+04     96.653299     10.487806     2.894723   \n",
       "min        1.00000  1.556570e+07    350.000000     18.000000     0.000000   \n",
       "25%     2500.75000  1.562853e+07    584.000000     32.000000     2.000000   \n",
       "50%     5000.50000  1.569074e+07    652.000000     37.000000     5.000000   \n",
       "75%     7500.25000  1.575323e+07    718.000000     44.000000     7.000000   \n",
       "max    10000.00000  1.581569e+07    850.000000     92.000000    10.000000   \n",
       "\n",
       "             Balance  NumOfProducts    HasCrCard  IsActiveMember  \\\n",
       "count   10000.000000   10000.000000  10000.00000    10000.000000   \n",
       "mean    76485.889288       1.530200      0.70550        0.515100   \n",
       "std     62397.405202       0.581654      0.45584        0.499797   \n",
       "min         0.000000       1.000000      0.00000        0.000000   \n",
       "25%         0.000000       1.000000      0.00000        0.000000   \n",
       "50%     97198.540000       1.000000      1.00000        1.000000   \n",
       "75%    127644.240000       2.000000      1.00000        1.000000   \n",
       "max    250898.090000       4.000000      1.00000        1.000000   \n",
       "\n",
       "       EstimatedSalary        Exited  \n",
       "count     10000.000000  10000.000000  \n",
       "mean     100090.239881      0.203700  \n",
       "std       57510.492818      0.402769  \n",
       "min          11.580000      0.000000  \n",
       "25%       51002.110000      0.000000  \n",
       "50%      100193.915000      0.000000  \n",
       "75%      149388.247500      0.000000  \n",
       "max      199992.480000      1.000000  "
      ]
     },
     "execution_count": 77,
     "metadata": {},
     "output_type": "execute_result"
    }
   ],
   "source": [
    "df.info()\n",
    "df.describe()"
   ]
  },
  {
   "cell_type": "markdown",
   "metadata": {},
   "source": [
    "Number of passes."
   ]
  },
  {
   "cell_type": "code",
   "execution_count": 78,
   "metadata": {
    "scrolled": true
   },
   "outputs": [
    {
     "data": {
      "text/plain": [
       "RowNumber            0\n",
       "CustomerId           0\n",
       "Surname              0\n",
       "CreditScore          0\n",
       "Geography            0\n",
       "Gender               0\n",
       "Age                  0\n",
       "Tenure             909\n",
       "Balance              0\n",
       "NumOfProducts        0\n",
       "HasCrCard            0\n",
       "IsActiveMember       0\n",
       "EstimatedSalary      0\n",
       "Exited               0\n",
       "dtype: int64"
      ]
     },
     "execution_count": 78,
     "metadata": {},
     "output_type": "execute_result"
    }
   ],
   "source": [
    "df.isnull().sum()"
   ]
  },
  {
   "cell_type": "markdown",
   "metadata": {},
   "source": [
    "Check for duplicates."
   ]
  },
  {
   "cell_type": "code",
   "execution_count": 79,
   "metadata": {},
   "outputs": [
    {
     "data": {
      "text/plain": [
       "0"
      ]
     },
     "execution_count": 79,
     "metadata": {},
     "output_type": "execute_result"
    }
   ],
   "source": [
    "df.duplicated().sum()"
   ]
  },
  {
   "cell_type": "markdown",
   "metadata": {},
   "source": [
    "Let's evaluate the correlation table."
   ]
  },
  {
   "cell_type": "code",
   "execution_count": 80,
   "metadata": {
    "scrolled": true
   },
   "outputs": [
    {
     "data": {
      "text/html": [
       "<div>\n",
       "<style scoped>\n",
       "    .dataframe tbody tr th:only-of-type {\n",
       "        vertical-align: middle;\n",
       "    }\n",
       "\n",
       "    .dataframe tbody tr th {\n",
       "        vertical-align: top;\n",
       "    }\n",
       "\n",
       "    .dataframe thead th {\n",
       "        text-align: right;\n",
       "    }\n",
       "</style>\n",
       "<table border=\"1\" class=\"dataframe\">\n",
       "  <thead>\n",
       "    <tr style=\"text-align: right;\">\n",
       "      <th></th>\n",
       "      <th>RowNumber</th>\n",
       "      <th>CustomerId</th>\n",
       "      <th>CreditScore</th>\n",
       "      <th>Age</th>\n",
       "      <th>Tenure</th>\n",
       "      <th>Balance</th>\n",
       "      <th>NumOfProducts</th>\n",
       "      <th>HasCrCard</th>\n",
       "      <th>IsActiveMember</th>\n",
       "      <th>EstimatedSalary</th>\n",
       "      <th>Exited</th>\n",
       "    </tr>\n",
       "  </thead>\n",
       "  <tbody>\n",
       "    <tr>\n",
       "      <td>RowNumber</td>\n",
       "      <td>1.000000</td>\n",
       "      <td>0.004202</td>\n",
       "      <td>0.005840</td>\n",
       "      <td>0.000783</td>\n",
       "      <td>-0.007322</td>\n",
       "      <td>-0.009067</td>\n",
       "      <td>0.007246</td>\n",
       "      <td>0.000599</td>\n",
       "      <td>0.012044</td>\n",
       "      <td>-0.005988</td>\n",
       "      <td>-0.016571</td>\n",
       "    </tr>\n",
       "    <tr>\n",
       "      <td>CustomerId</td>\n",
       "      <td>0.004202</td>\n",
       "      <td>1.000000</td>\n",
       "      <td>0.005308</td>\n",
       "      <td>0.009497</td>\n",
       "      <td>-0.021418</td>\n",
       "      <td>-0.012419</td>\n",
       "      <td>0.016972</td>\n",
       "      <td>-0.014025</td>\n",
       "      <td>0.001665</td>\n",
       "      <td>0.015271</td>\n",
       "      <td>-0.006248</td>\n",
       "    </tr>\n",
       "    <tr>\n",
       "      <td>CreditScore</td>\n",
       "      <td>0.005840</td>\n",
       "      <td>0.005308</td>\n",
       "      <td>1.000000</td>\n",
       "      <td>-0.003965</td>\n",
       "      <td>-0.000062</td>\n",
       "      <td>0.006268</td>\n",
       "      <td>0.012238</td>\n",
       "      <td>-0.005458</td>\n",
       "      <td>0.025651</td>\n",
       "      <td>-0.001384</td>\n",
       "      <td>-0.027094</td>\n",
       "    </tr>\n",
       "    <tr>\n",
       "      <td>Age</td>\n",
       "      <td>0.000783</td>\n",
       "      <td>0.009497</td>\n",
       "      <td>-0.003965</td>\n",
       "      <td>1.000000</td>\n",
       "      <td>-0.013134</td>\n",
       "      <td>0.028308</td>\n",
       "      <td>-0.030680</td>\n",
       "      <td>-0.011721</td>\n",
       "      <td>0.085472</td>\n",
       "      <td>-0.007201</td>\n",
       "      <td>0.285323</td>\n",
       "    </tr>\n",
       "    <tr>\n",
       "      <td>Tenure</td>\n",
       "      <td>-0.007322</td>\n",
       "      <td>-0.021418</td>\n",
       "      <td>-0.000062</td>\n",
       "      <td>-0.013134</td>\n",
       "      <td>1.000000</td>\n",
       "      <td>-0.007911</td>\n",
       "      <td>0.011979</td>\n",
       "      <td>0.027232</td>\n",
       "      <td>-0.032178</td>\n",
       "      <td>0.010520</td>\n",
       "      <td>-0.016761</td>\n",
       "    </tr>\n",
       "    <tr>\n",
       "      <td>Balance</td>\n",
       "      <td>-0.009067</td>\n",
       "      <td>-0.012419</td>\n",
       "      <td>0.006268</td>\n",
       "      <td>0.028308</td>\n",
       "      <td>-0.007911</td>\n",
       "      <td>1.000000</td>\n",
       "      <td>-0.304180</td>\n",
       "      <td>-0.014858</td>\n",
       "      <td>-0.010084</td>\n",
       "      <td>0.012797</td>\n",
       "      <td>0.118533</td>\n",
       "    </tr>\n",
       "    <tr>\n",
       "      <td>NumOfProducts</td>\n",
       "      <td>0.007246</td>\n",
       "      <td>0.016972</td>\n",
       "      <td>0.012238</td>\n",
       "      <td>-0.030680</td>\n",
       "      <td>0.011979</td>\n",
       "      <td>-0.304180</td>\n",
       "      <td>1.000000</td>\n",
       "      <td>0.003183</td>\n",
       "      <td>0.009612</td>\n",
       "      <td>0.014204</td>\n",
       "      <td>-0.047820</td>\n",
       "    </tr>\n",
       "    <tr>\n",
       "      <td>HasCrCard</td>\n",
       "      <td>0.000599</td>\n",
       "      <td>-0.014025</td>\n",
       "      <td>-0.005458</td>\n",
       "      <td>-0.011721</td>\n",
       "      <td>0.027232</td>\n",
       "      <td>-0.014858</td>\n",
       "      <td>0.003183</td>\n",
       "      <td>1.000000</td>\n",
       "      <td>-0.011866</td>\n",
       "      <td>-0.009933</td>\n",
       "      <td>-0.007138</td>\n",
       "    </tr>\n",
       "    <tr>\n",
       "      <td>IsActiveMember</td>\n",
       "      <td>0.012044</td>\n",
       "      <td>0.001665</td>\n",
       "      <td>0.025651</td>\n",
       "      <td>0.085472</td>\n",
       "      <td>-0.032178</td>\n",
       "      <td>-0.010084</td>\n",
       "      <td>0.009612</td>\n",
       "      <td>-0.011866</td>\n",
       "      <td>1.000000</td>\n",
       "      <td>-0.011421</td>\n",
       "      <td>-0.156128</td>\n",
       "    </tr>\n",
       "    <tr>\n",
       "      <td>EstimatedSalary</td>\n",
       "      <td>-0.005988</td>\n",
       "      <td>0.015271</td>\n",
       "      <td>-0.001384</td>\n",
       "      <td>-0.007201</td>\n",
       "      <td>0.010520</td>\n",
       "      <td>0.012797</td>\n",
       "      <td>0.014204</td>\n",
       "      <td>-0.009933</td>\n",
       "      <td>-0.011421</td>\n",
       "      <td>1.000000</td>\n",
       "      <td>0.012097</td>\n",
       "    </tr>\n",
       "    <tr>\n",
       "      <td>Exited</td>\n",
       "      <td>-0.016571</td>\n",
       "      <td>-0.006248</td>\n",
       "      <td>-0.027094</td>\n",
       "      <td>0.285323</td>\n",
       "      <td>-0.016761</td>\n",
       "      <td>0.118533</td>\n",
       "      <td>-0.047820</td>\n",
       "      <td>-0.007138</td>\n",
       "      <td>-0.156128</td>\n",
       "      <td>0.012097</td>\n",
       "      <td>1.000000</td>\n",
       "    </tr>\n",
       "  </tbody>\n",
       "</table>\n",
       "</div>"
      ],
      "text/plain": [
       "                 RowNumber  CustomerId  CreditScore       Age    Tenure  \\\n",
       "RowNumber         1.000000    0.004202     0.005840  0.000783 -0.007322   \n",
       "CustomerId        0.004202    1.000000     0.005308  0.009497 -0.021418   \n",
       "CreditScore       0.005840    0.005308     1.000000 -0.003965 -0.000062   \n",
       "Age               0.000783    0.009497    -0.003965  1.000000 -0.013134   \n",
       "Tenure           -0.007322   -0.021418    -0.000062 -0.013134  1.000000   \n",
       "Balance          -0.009067   -0.012419     0.006268  0.028308 -0.007911   \n",
       "NumOfProducts     0.007246    0.016972     0.012238 -0.030680  0.011979   \n",
       "HasCrCard         0.000599   -0.014025    -0.005458 -0.011721  0.027232   \n",
       "IsActiveMember    0.012044    0.001665     0.025651  0.085472 -0.032178   \n",
       "EstimatedSalary  -0.005988    0.015271    -0.001384 -0.007201  0.010520   \n",
       "Exited           -0.016571   -0.006248    -0.027094  0.285323 -0.016761   \n",
       "\n",
       "                  Balance  NumOfProducts  HasCrCard  IsActiveMember  \\\n",
       "RowNumber       -0.009067       0.007246   0.000599        0.012044   \n",
       "CustomerId      -0.012419       0.016972  -0.014025        0.001665   \n",
       "CreditScore      0.006268       0.012238  -0.005458        0.025651   \n",
       "Age              0.028308      -0.030680  -0.011721        0.085472   \n",
       "Tenure          -0.007911       0.011979   0.027232       -0.032178   \n",
       "Balance          1.000000      -0.304180  -0.014858       -0.010084   \n",
       "NumOfProducts   -0.304180       1.000000   0.003183        0.009612   \n",
       "HasCrCard       -0.014858       0.003183   1.000000       -0.011866   \n",
       "IsActiveMember  -0.010084       0.009612  -0.011866        1.000000   \n",
       "EstimatedSalary  0.012797       0.014204  -0.009933       -0.011421   \n",
       "Exited           0.118533      -0.047820  -0.007138       -0.156128   \n",
       "\n",
       "                 EstimatedSalary    Exited  \n",
       "RowNumber              -0.005988 -0.016571  \n",
       "CustomerId              0.015271 -0.006248  \n",
       "CreditScore            -0.001384 -0.027094  \n",
       "Age                    -0.007201  0.285323  \n",
       "Tenure                  0.010520 -0.016761  \n",
       "Balance                 0.012797  0.118533  \n",
       "NumOfProducts           0.014204 -0.047820  \n",
       "HasCrCard              -0.009933 -0.007138  \n",
       "IsActiveMember         -0.011421 -0.156128  \n",
       "EstimatedSalary         1.000000  0.012097  \n",
       "Exited                  0.012097  1.000000  "
      ]
     },
     "execution_count": 80,
     "metadata": {},
     "output_type": "execute_result"
    }
   ],
   "source": [
    "df.corr()"
   ]
  },
  {
   "cell_type": "markdown",
   "metadata": {},
   "source": [
    "Evaluate the correlation matrix."
   ]
  },
  {
   "cell_type": "code",
   "execution_count": 81,
   "metadata": {
    "scrolled": false
   },
   "outputs": [
    {
     "data": {
      "image/png": "[encoded data removed]",
      "text/plain": [
       "<Figure size 792x792 with 1 Axes>"
      ]
     },
     "metadata": {
      "needs_background": "light"
     },
     "output_type": "display_data"
    }
   ],
   "source": [
    "def plot_corr(df, size=11):\n",
    "  corr = df.corr()\n",
    "  fig, ax = plt.subplots(figsize=(size,size))\n",
    "  ax.matshow(corr)\n",
    "  plt.xticks(range(len(corr.columns)), corr.columns)\n",
    "  plt.yticks(range(len(corr.columns)), corr.columns)\n",
    "\n",
    "plot_corr(df)"
   ]
  },
  {
   "cell_type": "markdown",
   "metadata": {},
   "source": [
    "It is noticeable that there are no significant relationships. Great, the model will not encounter serious problems."
   ]
  },
  {
   "cell_type": "markdown",
   "metadata": {},
   "source": [
    "Let's remove the columns that have no meaning for the model."
   ]
  },
  {
   "cell_type": "code",
   "execution_count": 82,
   "metadata": {},
   "outputs": [],
   "source": [
    "df = df.drop(['RowNumber','CustomerId','Surname'], axis=1)"
   ]
  },
  {
   "cell_type": "markdown",
   "metadata": {},
   "source": [
    "Evaluate the distribution of men and women."
   ]
  },
  {
   "cell_type": "code",
   "execution_count": 83,
   "metadata": {},
   "outputs": [
    {
     "data": {
      "text/plain": [
       "Male      5457\n",
       "Female    4543\n",
       "Name: Gender, dtype: int64"
      ]
     },
     "execution_count": 83,
     "metadata": {},
     "output_type": "execute_result"
    }
   ],
   "source": [
    "df['Gender'].value_counts()"
   ]
  },
  {
   "cell_type": "markdown",
   "metadata": {},
   "source": [
    "I see some imbalance."
   ]
  },
  {
   "cell_type": "markdown",
   "metadata": {},
   "source": [
    "Estimation of geographical distribution."
   ]
  },
  {
   "cell_type": "code",
   "execution_count": 84,
   "metadata": {},
   "outputs": [
    {
     "data": {
      "text/plain": [
       "France     5014\n",
       "Germany    2509\n",
       "Spain      2477\n",
       "Name: Geography, dtype: int64"
      ]
     },
     "execution_count": 84,
     "metadata": {},
     "output_type": "execute_result"
    }
   ],
   "source": [
    "df['Geography'].value_counts()"
   ]
  },
  {
   "cell_type": "markdown",
   "metadata": {},
   "source": [
    "Replacing empty values in the column with the duration of cooperation with the bank using SimpleImputer from the sklearn library."
   ]
  },
  {
   "cell_type": "code",
   "execution_count": 85,
   "metadata": {},
   "outputs": [
    {
     "data": {
      "text/plain": [
       "0"
      ]
     },
     "execution_count": 85,
     "metadata": {},
     "output_type": "execute_result"
    }
   ],
   "source": [
    "df['Tenure'] = df['Tenure'].replace(np.NaN, None).astype(int,errors='ignore').astype(object)\n",
    "imputer = SimpleImputer(strategy='constant')\n",
    "imp_data = pd.DataFrame(imputer.fit_transform(df))\n",
    "imp_data.columns = df.columns\n",
    "\n",
    "#Проверка работоспособности\n",
    "df['Tenure'].isnull().sum()"
   ]
  },
  {
   "cell_type": "markdown",
   "metadata": {},
   "source": [
    "Converting categorical values."
   ]
  },
  {
   "cell_type": "code",
   "execution_count": 86,
   "metadata": {
    "scrolled": true
   },
   "outputs": [
    {
     "data": {
      "text/html": [
       "<div>\n",
       "<style scoped>\n",
       "    .dataframe tbody tr th:only-of-type {\n",
       "        vertical-align: middle;\n",
       "    }\n",
       "\n",
       "    .dataframe tbody tr th {\n",
       "        vertical-align: top;\n",
       "    }\n",
       "\n",
       "    .dataframe thead th {\n",
       "        text-align: right;\n",
       "    }\n",
       "</style>\n",
       "<table border=\"1\" class=\"dataframe\">\n",
       "  <thead>\n",
       "    <tr style=\"text-align: right;\">\n",
       "      <th></th>\n",
       "      <th>CreditScore</th>\n",
       "      <th>Age</th>\n",
       "      <th>Balance</th>\n",
       "      <th>NumOfProducts</th>\n",
       "      <th>HasCrCard</th>\n",
       "      <th>IsActiveMember</th>\n",
       "      <th>EstimatedSalary</th>\n",
       "      <th>Exited</th>\n",
       "      <th>Geography_Germany</th>\n",
       "      <th>Geography_Spain</th>\n",
       "      <th>...</th>\n",
       "      <th>Tenure_1</th>\n",
       "      <th>Tenure_2</th>\n",
       "      <th>Tenure_3</th>\n",
       "      <th>Tenure_4</th>\n",
       "      <th>Tenure_5</th>\n",
       "      <th>Tenure_6</th>\n",
       "      <th>Tenure_7</th>\n",
       "      <th>Tenure_8</th>\n",
       "      <th>Tenure_9</th>\n",
       "      <th>Tenure_10</th>\n",
       "    </tr>\n",
       "  </thead>\n",
       "  <tbody>\n",
       "    <tr>\n",
       "      <td>0</td>\n",
       "      <td>619</td>\n",
       "      <td>42</td>\n",
       "      <td>0.00</td>\n",
       "      <td>1</td>\n",
       "      <td>1</td>\n",
       "      <td>1</td>\n",
       "      <td>101348.88</td>\n",
       "      <td>1</td>\n",
       "      <td>0</td>\n",
       "      <td>0</td>\n",
       "      <td>...</td>\n",
       "      <td>0</td>\n",
       "      <td>1</td>\n",
       "      <td>0</td>\n",
       "      <td>0</td>\n",
       "      <td>0</td>\n",
       "      <td>0</td>\n",
       "      <td>0</td>\n",
       "      <td>0</td>\n",
       "      <td>0</td>\n",
       "      <td>0</td>\n",
       "    </tr>\n",
       "    <tr>\n",
       "      <td>1</td>\n",
       "      <td>608</td>\n",
       "      <td>41</td>\n",
       "      <td>83807.86</td>\n",
       "      <td>1</td>\n",
       "      <td>0</td>\n",
       "      <td>1</td>\n",
       "      <td>112542.58</td>\n",
       "      <td>0</td>\n",
       "      <td>0</td>\n",
       "      <td>1</td>\n",
       "      <td>...</td>\n",
       "      <td>1</td>\n",
       "      <td>0</td>\n",
       "      <td>0</td>\n",
       "      <td>0</td>\n",
       "      <td>0</td>\n",
       "      <td>0</td>\n",
       "      <td>0</td>\n",
       "      <td>0</td>\n",
       "      <td>0</td>\n",
       "      <td>0</td>\n",
       "    </tr>\n",
       "    <tr>\n",
       "      <td>2</td>\n",
       "      <td>502</td>\n",
       "      <td>42</td>\n",
       "      <td>159660.80</td>\n",
       "      <td>3</td>\n",
       "      <td>1</td>\n",
       "      <td>0</td>\n",
       "      <td>113931.57</td>\n",
       "      <td>1</td>\n",
       "      <td>0</td>\n",
       "      <td>0</td>\n",
       "      <td>...</td>\n",
       "      <td>0</td>\n",
       "      <td>0</td>\n",
       "      <td>0</td>\n",
       "      <td>0</td>\n",
       "      <td>0</td>\n",
       "      <td>0</td>\n",
       "      <td>0</td>\n",
       "      <td>1</td>\n",
       "      <td>0</td>\n",
       "      <td>0</td>\n",
       "    </tr>\n",
       "    <tr>\n",
       "      <td>3</td>\n",
       "      <td>699</td>\n",
       "      <td>39</td>\n",
       "      <td>0.00</td>\n",
       "      <td>2</td>\n",
       "      <td>0</td>\n",
       "      <td>0</td>\n",
       "      <td>93826.63</td>\n",
       "      <td>0</td>\n",
       "      <td>0</td>\n",
       "      <td>0</td>\n",
       "      <td>...</td>\n",
       "      <td>1</td>\n",
       "      <td>0</td>\n",
       "      <td>0</td>\n",
       "      <td>0</td>\n",
       "      <td>0</td>\n",
       "      <td>0</td>\n",
       "      <td>0</td>\n",
       "      <td>0</td>\n",
       "      <td>0</td>\n",
       "      <td>0</td>\n",
       "    </tr>\n",
       "    <tr>\n",
       "      <td>4</td>\n",
       "      <td>850</td>\n",
       "      <td>43</td>\n",
       "      <td>125510.82</td>\n",
       "      <td>1</td>\n",
       "      <td>1</td>\n",
       "      <td>1</td>\n",
       "      <td>79084.10</td>\n",
       "      <td>0</td>\n",
       "      <td>0</td>\n",
       "      <td>1</td>\n",
       "      <td>...</td>\n",
       "      <td>0</td>\n",
       "      <td>1</td>\n",
       "      <td>0</td>\n",
       "      <td>0</td>\n",
       "      <td>0</td>\n",
       "      <td>0</td>\n",
       "      <td>0</td>\n",
       "      <td>0</td>\n",
       "      <td>0</td>\n",
       "      <td>0</td>\n",
       "    </tr>\n",
       "    <tr>\n",
       "      <td>...</td>\n",
       "      <td>...</td>\n",
       "      <td>...</td>\n",
       "      <td>...</td>\n",
       "      <td>...</td>\n",
       "      <td>...</td>\n",
       "      <td>...</td>\n",
       "      <td>...</td>\n",
       "      <td>...</td>\n",
       "      <td>...</td>\n",
       "      <td>...</td>\n",
       "      <td>...</td>\n",
       "      <td>...</td>\n",
       "      <td>...</td>\n",
       "      <td>...</td>\n",
       "      <td>...</td>\n",
       "      <td>...</td>\n",
       "      <td>...</td>\n",
       "      <td>...</td>\n",
       "      <td>...</td>\n",
       "      <td>...</td>\n",
       "      <td>...</td>\n",
       "    </tr>\n",
       "    <tr>\n",
       "      <td>9995</td>\n",
       "      <td>771</td>\n",
       "      <td>39</td>\n",
       "      <td>0.00</td>\n",
       "      <td>2</td>\n",
       "      <td>1</td>\n",
       "      <td>0</td>\n",
       "      <td>96270.64</td>\n",
       "      <td>0</td>\n",
       "      <td>0</td>\n",
       "      <td>0</td>\n",
       "      <td>...</td>\n",
       "      <td>0</td>\n",
       "      <td>0</td>\n",
       "      <td>0</td>\n",
       "      <td>0</td>\n",
       "      <td>1</td>\n",
       "      <td>0</td>\n",
       "      <td>0</td>\n",
       "      <td>0</td>\n",
       "      <td>0</td>\n",
       "      <td>0</td>\n",
       "    </tr>\n",
       "    <tr>\n",
       "      <td>9996</td>\n",
       "      <td>516</td>\n",
       "      <td>35</td>\n",
       "      <td>57369.61</td>\n",
       "      <td>1</td>\n",
       "      <td>1</td>\n",
       "      <td>1</td>\n",
       "      <td>101699.77</td>\n",
       "      <td>0</td>\n",
       "      <td>0</td>\n",
       "      <td>0</td>\n",
       "      <td>...</td>\n",
       "      <td>0</td>\n",
       "      <td>0</td>\n",
       "      <td>0</td>\n",
       "      <td>0</td>\n",
       "      <td>0</td>\n",
       "      <td>0</td>\n",
       "      <td>0</td>\n",
       "      <td>0</td>\n",
       "      <td>0</td>\n",
       "      <td>1</td>\n",
       "    </tr>\n",
       "    <tr>\n",
       "      <td>9997</td>\n",
       "      <td>709</td>\n",
       "      <td>36</td>\n",
       "      <td>0.00</td>\n",
       "      <td>1</td>\n",
       "      <td>0</td>\n",
       "      <td>1</td>\n",
       "      <td>42085.58</td>\n",
       "      <td>1</td>\n",
       "      <td>0</td>\n",
       "      <td>0</td>\n",
       "      <td>...</td>\n",
       "      <td>0</td>\n",
       "      <td>0</td>\n",
       "      <td>0</td>\n",
       "      <td>0</td>\n",
       "      <td>0</td>\n",
       "      <td>0</td>\n",
       "      <td>1</td>\n",
       "      <td>0</td>\n",
       "      <td>0</td>\n",
       "      <td>0</td>\n",
       "    </tr>\n",
       "    <tr>\n",
       "      <td>9998</td>\n",
       "      <td>772</td>\n",
       "      <td>42</td>\n",
       "      <td>75075.31</td>\n",
       "      <td>2</td>\n",
       "      <td>1</td>\n",
       "      <td>0</td>\n",
       "      <td>92888.52</td>\n",
       "      <td>1</td>\n",
       "      <td>1</td>\n",
       "      <td>0</td>\n",
       "      <td>...</td>\n",
       "      <td>0</td>\n",
       "      <td>0</td>\n",
       "      <td>1</td>\n",
       "      <td>0</td>\n",
       "      <td>0</td>\n",
       "      <td>0</td>\n",
       "      <td>0</td>\n",
       "      <td>0</td>\n",
       "      <td>0</td>\n",
       "      <td>0</td>\n",
       "    </tr>\n",
       "    <tr>\n",
       "      <td>9999</td>\n",
       "      <td>792</td>\n",
       "      <td>28</td>\n",
       "      <td>130142.79</td>\n",
       "      <td>1</td>\n",
       "      <td>1</td>\n",
       "      <td>0</td>\n",
       "      <td>38190.78</td>\n",
       "      <td>0</td>\n",
       "      <td>0</td>\n",
       "      <td>0</td>\n",
       "      <td>...</td>\n",
       "      <td>0</td>\n",
       "      <td>0</td>\n",
       "      <td>1</td>\n",
       "      <td>0</td>\n",
       "      <td>0</td>\n",
       "      <td>0</td>\n",
       "      <td>0</td>\n",
       "      <td>0</td>\n",
       "      <td>0</td>\n",
       "      <td>0</td>\n",
       "    </tr>\n",
       "  </tbody>\n",
       "</table>\n",
       "<p>10000 rows × 21 columns</p>\n",
       "</div>"
      ],
      "text/plain": [
       "      CreditScore  Age    Balance  NumOfProducts  HasCrCard  IsActiveMember  \\\n",
       "0             619   42       0.00              1          1               1   \n",
       "1             608   41   83807.86              1          0               1   \n",
       "2             502   42  159660.80              3          1               0   \n",
       "3             699   39       0.00              2          0               0   \n",
       "4             850   43  125510.82              1          1               1   \n",
       "...           ...  ...        ...            ...        ...             ...   \n",
       "9995          771   39       0.00              2          1               0   \n",
       "9996          516   35   57369.61              1          1               1   \n",
       "9997          709   36       0.00              1          0               1   \n",
       "9998          772   42   75075.31              2          1               0   \n",
       "9999          792   28  130142.79              1          1               0   \n",
       "\n",
       "      EstimatedSalary  Exited  Geography_Germany  Geography_Spain  ...  \\\n",
       "0           101348.88       1                  0                0  ...   \n",
       "1           112542.58       0                  0                1  ...   \n",
       "2           113931.57       1                  0                0  ...   \n",
       "3            93826.63       0                  0                0  ...   \n",
       "4            79084.10       0                  0                1  ...   \n",
       "...               ...     ...                ...              ...  ...   \n",
       "9995         96270.64       0                  0                0  ...   \n",
       "9996        101699.77       0                  0                0  ...   \n",
       "9997         42085.58       1                  0                0  ...   \n",
       "9998         92888.52       1                  1                0  ...   \n",
       "9999         38190.78       0                  0                0  ...   \n",
       "\n",
       "      Tenure_1  Tenure_2  Tenure_3  Tenure_4  Tenure_5  Tenure_6  Tenure_7  \\\n",
       "0            0         1         0         0         0         0         0   \n",
       "1            1         0         0         0         0         0         0   \n",
       "2            0         0         0         0         0         0         0   \n",
       "3            1         0         0         0         0         0         0   \n",
       "4            0         1         0         0         0         0         0   \n",
       "...        ...       ...       ...       ...       ...       ...       ...   \n",
       "9995         0         0         0         0         1         0         0   \n",
       "9996         0         0         0         0         0         0         0   \n",
       "9997         0         0         0         0         0         0         1   \n",
       "9998         0         0         1         0         0         0         0   \n",
       "9999         0         0         1         0         0         0         0   \n",
       "\n",
       "      Tenure_8  Tenure_9  Tenure_10  \n",
       "0            0         0          0  \n",
       "1            0         0          0  \n",
       "2            1         0          0  \n",
       "3            0         0          0  \n",
       "4            0         0          0  \n",
       "...        ...       ...        ...  \n",
       "9995         0         0          0  \n",
       "9996         0         0          1  \n",
       "9997         0         0          0  \n",
       "9998         0         0          0  \n",
       "9999         0         0          0  \n",
       "\n",
       "[10000 rows x 21 columns]"
      ]
     },
     "execution_count": 86,
     "metadata": {},
     "output_type": "execute_result"
    }
   ],
   "source": [
    "df = pd.get_dummies(df, drop_first=True)\n",
    "df"
   ]
  },
  {
   "cell_type": "markdown",
   "metadata": {},
   "source": [
    "I divide the sample into training, validation and test samples in proportion 0.6 + 0.2 + 0.2."
   ]
  },
  {
   "cell_type": "code",
   "execution_count": 87,
   "metadata": {},
   "outputs": [
    {
     "name": "stdout",
     "output_type": "stream",
     "text": [
      "Training set size: 6000\n",
      "Validating set size: 2000\n",
      "Test set size: 2000\n"
     ]
    }
   ],
   "source": [
    "X = df.drop(['Exited'], axis=1)\n",
    "y = df['Exited']\n",
    "\n",
    "X_train, X_valid, y_train, y_valid = train_test_split(X, y, train_size=0.6, test_size=0.4, random_state=12345)\n",
    "X_test, X_valid, y_test, y_valid = train_test_split(X_valid, y_valid, test_size=0.5, random_state=12345)\n",
    "\n",
    "print('Training set size:', X_train.shape[0])\n",
    "print('Validating set size:', X_valid.shape[0])\n",
    "print('Test set size:',X_test.shape[0])"
   ]
  },
  {
   "cell_type": "code",
   "execution_count": 88,
   "metadata": {},
   "outputs": [],
   "source": [
    "sc = StandardScaler()\n",
    "numeric = ['CreditScore', 'Age', 'Balance', 'EstimatedSalary']\n",
    "sc.fit(X_train[numeric])\n",
    "\n",
    "X_train[numeric] = sc.transform(X_train[numeric])\n",
    "X_valid[numeric] = sc.transform(X_valid[numeric])\n",
    "X_test[numeric] = sc.transform(X_test[numeric])"
   ]
  },
  {
   "cell_type": "markdown",
   "metadata": {},
   "source": [
    "###### Conclusion:"
   ]
  },
  {
   "cell_type": "markdown",
   "metadata": {},
   "source": [
    "At the moment, the dataset has been researched, a number of empty values were found in the Tenure column (they were filled using SimpleImputer), no duplicates were found, the correlation matrix did not reveal any serious relationships, the features were coded and standardized using the StandardScaler, the sample was divided into training, validation and testing."
   ]
  },
  {
   "cell_type": "markdown",
   "metadata": {},
   "source": [
    "## Task research"
   ]
  },
  {
   "cell_type": "markdown",
   "metadata": {},
   "source": [
    "Let's see which model is best for solving the problem. Let's start with a random forest with standard parameters, evaluate the akurasi and the F1 metric."
   ]
  },
  {
   "cell_type": "code",
   "execution_count": 89,
   "metadata": {},
   "outputs": [
    {
     "name": "stdout",
     "output_type": "stream",
     "text": [
      "Accuracy is: 0.838\n",
      "F1_Score is: 0.49845201238390097\n"
     ]
    },
    {
     "data": {
      "text/plain": [
       "array([[1515,   62],\n",
       "       [ 262,  161]])"
      ]
     },
     "execution_count": 89,
     "metadata": {},
     "output_type": "execute_result"
    }
   ],
   "source": [
    "model = RandomForestClassifier(random_state=12345)\n",
    "model.fit(X_train, y_train)\n",
    "predicted_valid = model.predict(X_valid)\n",
    "accuracy_valid = accuracy_score(predicted_valid, y_valid)\n",
    "print('Accuracy is:', accuracy_valid)\n",
    "print('F1_Score is:', f1_score(y_valid, predicted_valid))\n",
    "confusion_matrix(y_valid, predicted_valid)"
   ]
  },
  {
   "cell_type": "markdown",
   "metadata": {},
   "source": [
    "The accuracy is at a high level, F1 does not reach the required values. Let's test logistic regression."
   ]
  },
  {
   "cell_type": "code",
   "execution_count": 90,
   "metadata": {},
   "outputs": [
    {
     "name": "stdout",
     "output_type": "stream",
     "text": [
      "Accuracy is: 0.789\n",
      "F1_Score is: 0.2673611111111111\n"
     ]
    },
    {
     "data": {
      "text/plain": [
       "array([[1501,   76],\n",
       "       [ 346,   77]])"
      ]
     },
     "execution_count": 90,
     "metadata": {},
     "output_type": "execute_result"
    }
   ],
   "source": [
    "model = LogisticRegression(random_state=12345, solver='liblinear')\n",
    "model.fit(X_train, y_train)\n",
    "predicted_valid = model.predict(X_valid)\n",
    "accuracy_valid = accuracy_score(predicted_valid, y_valid)\n",
    "print('Accuracy is:', accuracy_valid)\n",
    "print('F1_Score is:', f1_score(y_valid, predicted_valid))\n",
    "\n",
    "confusion_matrix(y_valid, predicted_valid)"
   ]
  },
  {
   "cell_type": "markdown",
   "metadata": {},
   "source": [
    "###### Conclusion:"
   ]
  },
  {
   "cell_type": "markdown",
   "metadata": {},
   "source": [
    "As you can see, the random forest model shows the best results. We will improve our results."
   ]
  },
  {
   "cell_type": "markdown",
   "metadata": {},
   "source": [
    "## Struggling with imbalance"
   ]
  },
  {
   "cell_type": "markdown",
   "metadata": {},
   "source": [
    "Let's explore through the loop the most appropriate values for the random forest."
   ]
  },
  {
   "cell_type": "code",
   "execution_count": 91,
   "metadata": {},
   "outputs": [
    {
     "name": "stdout",
     "output_type": "stream",
     "text": [
      "Depth:     1       |   Estimators:     1\n",
      "Accuracy: 0.6785   |   F1_Score: 0.4819\n",
      "------------------------------------------------------\n",
      "Depth:     1       |   Estimators:    51\n",
      "Accuracy: 0.7375   |   F1_Score: 0.4937\n",
      "------------------------------------------------------\n",
      "Depth:     1       |   Estimators:   101\n",
      "Accuracy: 0.7345   |   F1_Score: 0.5238\n",
      "------------------------------------------------------\n",
      "Depth:    11       |   Estimators:     1\n",
      "Accuracy: 0.7665   |   F1_Score: 0.5353\n",
      "------------------------------------------------------\n",
      "Depth:    11       |   Estimators:    51\n",
      "Accuracy: 0.8345   |   F1_Score: 0.6026\n",
      "------------------------------------------------------\n",
      "Depth:    11       |   Estimators:   101\n",
      "Accuracy: 0.8365   |   F1_Score: 0.5998\n",
      "------------------------------------------------------\n",
      "Depth:    21       |   Estimators:     1\n",
      "Accuracy: 0.7610   |   F1_Score: 0.4442\n",
      "------------------------------------------------------\n",
      "Depth:    21       |   Estimators:    51\n",
      "Accuracy: 0.8420   |   F1_Score: 0.5108\n",
      "------------------------------------------------------\n",
      "Depth:    21       |   Estimators:   101\n",
      "Accuracy: 0.8425   |   F1_Score: 0.5116\n",
      "------------------------------------------------------\n"
     ]
    }
   ],
   "source": [
    "for depth,estimator in itertools.product(range(1,30,10), range(1,151,50)):\n",
    "    model = RandomForestClassifier(random_state=12345, max_depth=depth, n_estimators=estimator, class_weight='balanced')\n",
    "    model.fit(X_train, y_train)\n",
    "    predictions = model.predict(X_valid)\n",
    "    score = accuracy_score(predictions, y_valid)\n",
    "    fscore = f1_score(y_valid, predictions)\n",
    "    print('Depth: {: >5.0f}       |   Estimators: {:>5.0f}'.format(depth, estimator))\n",
    "    print('Accuracy: {: >5.4f}   |   F1_Score: {: >5.4f}'.format(score,fscore))\n",
    "    print('------------------------------------------------------')"
   ]
  },
  {
   "cell_type": "markdown",
   "metadata": {},
   "source": [
    "Excellent, with a maximum tree depth of 11 and a maximum number of trees of 51, the F1 metric reached a value of 0.6034."
   ]
  },
  {
   "cell_type": "markdown",
   "metadata": {},
   "source": [
    "Perhaps the indicators can be optimized by increasing or decreasing the sample."
   ]
  },
  {
   "cell_type": "markdown",
   "metadata": {},
   "source": [
    "Let's start with upsampling."
   ]
  },
  {
   "cell_type": "code",
   "execution_count": 92,
   "metadata": {},
   "outputs": [
    {
     "name": "stdout",
     "output_type": "stream",
     "text": [
      "F1_Score: 0.498  |   Repeats :     1\n",
      "F1_Score: 0.528  |   Repeats :     2\n",
      "F1_Score: 0.508  |   Repeats :     3\n",
      "F1_Score: 0.548  |   Repeats :     4\n",
      "F1_Score: 0.533  |   Repeats :     5\n",
      "F1_Score: 0.502  |   Repeats :     6\n",
      "F1_Score: 0.524  |   Repeats :     7\n",
      "F1_Score: 0.526  |   Repeats :     8\n",
      "F1_Score: 0.532  |   Repeats :     9\n"
     ]
    }
   ],
   "source": [
    "def upsampling(features, target, repeat):\n",
    "    X_zeros = X_train[y_train == 0]\n",
    "    X_ones = X_train[y_train == 1]\n",
    "    y_zeros = y_train[y_train == 0]\n",
    "    y_ones = y_train[y_train == 1]\n",
    "\n",
    "    X_upsampled = pd.concat([X_zeros] + [X_ones] * repeat)\n",
    "    y_upsampled = pd.concat([y_zeros] + [y_ones] * repeat)\n",
    "    \n",
    "    X_upsampled, y_upsampled = shuffle(X_upsampled, y_upsampled, random_state=12345)\n",
    "    \n",
    "    return X_upsampled, y_upsampled\n",
    "\n",
    "\n",
    "for repeat in range(1,10,1):\n",
    "    X_upsampled, y_upsampled = upsampling(X_train, y_train, repeat)\n",
    "\n",
    "    model = RandomForestClassifier(random_state=12345)\n",
    "    model.fit(X_upsampled, y_upsampled)\n",
    "    predictions = model.predict(X_valid)\n",
    "    print(\"F1_Score: {: >5.3f}  |   Repeats : {: >5.0f}\".format(f1_score(y_valid, predictions),repeat))"
   ]
  },
  {
   "cell_type": "markdown",
   "metadata": {},
   "source": [
    "Increasing the sample did not improve the results. Let's try to reduce it."
   ]
  },
  {
   "cell_type": "code",
   "execution_count": 93,
   "metadata": {},
   "outputs": [
    {
     "name": "stdout",
     "output_type": "stream",
     "text": [
      "F1_Score: 0.375  |  Fractions : 0.030\n",
      "F1_Score: 0.440  |  Fractions : 0.060\n",
      "F1_Score: 0.472  |  Fractions : 0.090\n",
      "F1_Score: 0.488  |  Fractions : 0.120\n",
      "F1_Score: 0.505  |  Fractions : 0.150\n",
      "F1_Score: 0.541  |  Fractions : 0.180\n",
      "F1_Score: 0.535  |  Fractions : 0.210\n",
      "F1_Score: 0.558  |  Fractions : 0.240\n",
      "F1_Score: 0.533  |  Fractions : 0.270\n",
      "F1_Score: 0.566  |  Fractions : 0.300\n"
     ]
    }
   ],
   "source": [
    "def downsampling(X, y, fraction):\n",
    "    X_zeros = X[y == 0]\n",
    "    X_ones = X[y == 1]\n",
    "    y_zeros = y[y == 0]\n",
    "    y_ones = y[y == 1]\n",
    "\n",
    "    X_downsampled = pd.concat(\n",
    "        [X_zeros.sample(frac=fraction, random_state=12345)] + [X_ones])\n",
    "    y_downsampled = pd.concat(\n",
    "        [y_zeros.sample(frac=fraction, random_state=12345)] + [y_ones])\n",
    "    \n",
    "    X_downsampled, y_downsampled = shuffle(\n",
    "        X_downsampled, y_downsampled, random_state=12345)\n",
    "    \n",
    "    return X_downsampled, y_downsampled\n",
    "\n",
    "for i in np.arange(0.03, 0.31, 0.03):\n",
    "    X_downsampled, y_downsampled = downsampling(X_train, y_train, i)\n",
    "    model = RandomForestClassifier(random_state=12345)\n",
    "    model.fit(X_downsampled, y_downsampled)\n",
    "    predictions = model.predict(X_valid)\n",
    "    print(\"F1_Score: {: >5.3f}  |  Fractions : {: >5.3f}\".format(f1_score(y_valid, predictions), i))"
   ]
  },
  {
   "cell_type": "markdown",
   "metadata": {},
   "source": [
    "###### Conclusion:"
   ]
  },
  {
   "cell_type": "markdown",
   "metadata": {},
   "source": [
    "With the maximum tree depth - 11 and the maximum number of trees - 51, the F1 metric was brought to the desired level. Metric optimization cannot be achieved by upsampling or downsampling."
   ]
  },
  {
   "cell_type": "markdown",
   "metadata": {},
   "source": [
    "## Model testing"
   ]
  },
  {
   "cell_type": "markdown",
   "metadata": {},
   "source": [
    "Testing the best model on a test set."
   ]
  },
  {
   "cell_type": "code",
   "execution_count": 94,
   "metadata": {},
   "outputs": [
    {
     "name": "stdout",
     "output_type": "stream",
     "text": [
      "Accuracy is: 0.843\n",
      "F1_Score is: 0.6244019138755981\n"
     ]
    }
   ],
   "source": [
    "model = RandomForestClassifier(n_estimators = 51, max_depth=11, class_weight='balanced', random_state=12345)\n",
    "model.fit(X_train, y_train)\n",
    "predicted_valid = model.predict(X_test)\n",
    "\n",
    "accuracy_valid = accuracy_score(predicted_valid, y_test)\n",
    "print('Accuracy is:', accuracy_valid)\n",
    "print('F1_Score is:', f1_score(y_test, predicted_valid))"
   ]
  },
  {
   "cell_type": "markdown",
   "metadata": {},
   "source": [
    "Remarkably, the value of F1 has grown even more. Let's study the ROC curve."
   ]
  },
  {
   "cell_type": "code",
   "execution_count": 95,
   "metadata": {},
   "outputs": [
    {
     "data": {
      "image/png": "[encoded data removed]",
      "text/plain": [
       "<Figure size 432x288 with 1 Axes>"
      ]
     },
     "metadata": {
      "needs_background": "light"
     },
     "output_type": "display_data"
    }
   ],
   "source": [
    "probabilities_test = model.predict_proba(X_test)\n",
    "probabilities_one_test = probabilities_test[:, 1]\n",
    "fpr, tpr, thresholds = roc_curve(y_test, probabilities_one_test)\n",
    "\n",
    "plt.figure()\n",
    "plt.plot(fpr, tpr)\n",
    "plt.xlim([0.0, 1.0])\n",
    "plt.ylim([0.0, 1.0])\n",
    "plt.xlabel('False Positive Rate')\n",
    "plt.ylabel('True Positive Rate')\n",
    "plt.title('ROC-кривая')\n",
    "plt.plot([0, 1], [0, 1], linestyle='--')\n",
    "plt.show()"
   ]
  },
  {
   "cell_type": "code",
   "execution_count": 96,
   "metadata": {},
   "outputs": [
    {
     "name": "stdout",
     "output_type": "stream",
     "text": [
      "Значение AUC-ROC: 0.8470336138011965\n"
     ]
    }
   ],
   "source": [
    "auc_roc = roc_auc_score(y_test, probabilities_one_test)\n",
    "\n",
    "print('Значение AUC-ROC:', auc_roc)"
   ]
  },
  {
   "cell_type": "markdown",
   "metadata": {},
   "source": [
    "###### Conclusion:"
   ]
  },
  {
   "cell_type": "markdown",
   "metadata": {},
   "source": [
    "The value of AUC-ROC quite strongly exceeds the level of 0.5, which means that the resulting model is significantly different from the random model for the better."
   ]
  },
  {
   "cell_type": "markdown",
   "metadata": {},
   "source": [
    "## General conclusion:"
   ]
  },
  {
   "cell_type": "markdown",
   "metadata": {},
   "source": [
    "The presented dataset was studied and prepared to create the desired model. Random forest and logistic regression models were studied, as a result of which it was revealed that the random forest model is the most suitable for this task. As a result of the enumeration of the parameters, it was possible to achieve the F1 indicator, which exceeds the threshold value. On the test sample, the F1 value increased even more, and the AUC-ROC value significantly exceeded 0.5 (the level of the random model). The model has proven to be excellent."
   ]
  }
 ],
 "metadata": {
  "ExecuteTimeLog": [
   {
    "duration": 242,
    "start_time": "2021-09-21T05:23:25.340Z"
   },
   {
    "duration": 91,
    "start_time": "2021-09-21T05:24:29.762Z"
   },
   {
    "duration": 268,
    "start_time": "2021-09-21T05:24:37.601Z"
   },
   {
    "duration": 710,
    "start_time": "2021-09-21T05:24:45.149Z"
   },
   {
    "duration": 240,
    "start_time": "2021-09-21T05:24:49.659Z"
   },
   {
    "duration": 3,
    "start_time": "2021-09-21T05:25:34.120Z"
   },
   {
    "duration": 4,
    "start_time": "2021-09-21T05:25:43.677Z"
   },
   {
    "duration": 47,
    "start_time": "2021-09-21T05:26:26.786Z"
   },
   {
    "duration": 42,
    "start_time": "2021-09-21T05:27:09.668Z"
   },
   {
    "duration": 37,
    "start_time": "2021-09-21T05:27:24.925Z"
   },
   {
    "duration": 7,
    "start_time": "2021-09-21T05:27:58.252Z"
   },
   {
    "duration": 10,
    "start_time": "2021-09-21T05:28:38.929Z"
   },
   {
    "duration": 15,
    "start_time": "2021-09-21T05:29:13.216Z"
   },
   {
    "duration": 266,
    "start_time": "2021-09-21T05:30:03.713Z"
   },
   {
    "duration": 6,
    "start_time": "2021-09-21T05:32:14.550Z"
   },
   {
    "duration": 6,
    "start_time": "2021-09-21T05:32:44.069Z"
   },
   {
    "duration": 4,
    "start_time": "2021-09-21T05:34:00.001Z"
   },
   {
    "duration": 7,
    "start_time": "2021-09-21T05:34:02.397Z"
   },
   {
    "duration": 6,
    "start_time": "2021-09-21T05:34:04.935Z"
   },
   {
    "duration": 21,
    "start_time": "2021-09-21T05:36:13.669Z"
   },
   {
    "duration": 39,
    "start_time": "2021-09-21T05:38:40.595Z"
   },
   {
    "duration": 12,
    "start_time": "2021-09-21T05:40:44.279Z"
   },
   {
    "duration": 69,
    "start_time": "2021-09-21T05:48:40.947Z"
   },
   {
    "duration": 98,
    "start_time": "2021-09-21T05:50:16.849Z"
   },
   {
    "duration": 1757,
    "start_time": "2021-09-21T05:52:43.562Z"
   },
   {
    "duration": 860,
    "start_time": "2021-09-21T06:00:21.862Z"
   },
   {
    "duration": 363,
    "start_time": "2021-09-21T06:01:00.746Z"
   },
   {
    "duration": 227,
    "start_time": "2021-09-21T06:05:10.182Z"
   },
   {
    "duration": 1444,
    "start_time": "2021-09-21T06:05:56.105Z"
   },
   {
    "duration": 259,
    "start_time": "2021-09-21T06:11:17.633Z"
   },
   {
    "duration": 93,
    "start_time": "2021-09-21T06:15:50.260Z"
   },
   {
    "duration": 252,
    "start_time": "2021-09-21T06:15:56.182Z"
   },
   {
    "duration": 352,
    "start_time": "2021-09-21T06:45:44.720Z"
   },
   {
    "duration": 22,
    "start_time": "2021-09-21T06:45:52.586Z"
   },
   {
    "duration": 142,
    "start_time": "2021-09-21T06:47:52.877Z"
   },
   {
    "duration": 154,
    "start_time": "2021-09-21T06:48:13.739Z"
   },
   {
    "duration": 5,
    "start_time": "2021-09-21T06:48:24.484Z"
   },
   {
    "duration": 79,
    "start_time": "2021-09-21T06:48:54.685Z"
   },
   {
    "duration": 5,
    "start_time": "2021-09-21T06:49:01.090Z"
   },
   {
    "duration": 4,
    "start_time": "2021-09-21T06:58:37.515Z"
   },
   {
    "duration": 43,
    "start_time": "2021-09-21T06:58:37.523Z"
   },
   {
    "duration": 38,
    "start_time": "2021-09-21T06:58:37.567Z"
   },
   {
    "duration": 6,
    "start_time": "2021-09-21T06:58:37.607Z"
   },
   {
    "duration": 32,
    "start_time": "2021-09-21T06:58:37.615Z"
   },
   {
    "duration": 14,
    "start_time": "2021-09-21T06:58:37.648Z"
   },
   {
    "duration": 280,
    "start_time": "2021-09-21T06:58:37.664Z"
   },
   {
    "duration": 4,
    "start_time": "2021-09-21T06:58:37.945Z"
   },
   {
    "duration": 8,
    "start_time": "2021-09-21T06:58:37.951Z"
   },
   {
    "duration": 6,
    "start_time": "2021-09-21T06:58:37.961Z"
   },
   {
    "duration": 21,
    "start_time": "2021-09-21T06:58:37.968Z"
   },
   {
    "duration": 60,
    "start_time": "2021-09-21T06:58:37.991Z"
   },
   {
    "duration": 12,
    "start_time": "2021-09-21T06:58:38.052Z"
   },
   {
    "duration": 84,
    "start_time": "2021-09-21T06:58:38.065Z"
   },
   {
    "duration": 100,
    "start_time": "2021-09-21T06:58:38.151Z"
   },
   {
    "duration": 1891,
    "start_time": "2021-09-21T06:58:38.253Z"
   },
   {
    "duration": 851,
    "start_time": "2021-09-21T06:58:40.145Z"
   },
   {
    "duration": 367,
    "start_time": "2021-09-21T06:58:40.997Z"
   },
   {
    "duration": 238,
    "start_time": "2021-09-21T06:58:41.366Z"
   },
   {
    "duration": 159,
    "start_time": "2021-09-21T06:58:41.605Z"
   },
   {
    "duration": 5,
    "start_time": "2021-09-21T06:58:41.766Z"
   },
   {
    "duration": 1567,
    "start_time": "2021-09-23T03:50:43.813Z"
   },
   {
    "duration": 533,
    "start_time": "2021-09-23T03:50:52.592Z"
   },
   {
    "duration": 1417,
    "start_time": "2021-09-23T03:50:59.284Z"
   },
   {
    "duration": 51,
    "start_time": "2021-09-23T03:51:00.703Z"
   },
   {
    "duration": 48,
    "start_time": "2021-09-23T03:51:00.756Z"
   },
   {
    "duration": 7,
    "start_time": "2021-09-23T03:51:00.806Z"
   },
   {
    "duration": 16,
    "start_time": "2021-09-23T03:51:00.814Z"
   },
   {
    "duration": 28,
    "start_time": "2021-09-23T03:51:00.832Z"
   },
   {
    "duration": 331,
    "start_time": "2021-09-23T03:51:00.862Z"
   },
   {
    "duration": 5,
    "start_time": "2021-09-23T03:51:01.196Z"
   },
   {
    "duration": 31,
    "start_time": "2021-09-23T03:51:01.203Z"
   },
   {
    "duration": 19,
    "start_time": "2021-09-23T03:51:01.236Z"
   },
   {
    "duration": 34,
    "start_time": "2021-09-23T03:51:01.257Z"
   },
   {
    "duration": 37,
    "start_time": "2021-09-23T03:51:01.292Z"
   },
   {
    "duration": 12,
    "start_time": "2021-09-23T03:51:01.331Z"
   },
   {
    "duration": 52,
    "start_time": "2021-09-23T03:51:01.345Z"
   },
   {
    "duration": 84,
    "start_time": "2021-09-23T03:51:01.399Z"
   },
   {
    "duration": 194,
    "start_time": "2021-09-23T03:51:01.485Z"
   },
   {
    "duration": 2047,
    "start_time": "2021-09-23T03:51:01.682Z"
   },
   {
    "duration": 998,
    "start_time": "2021-09-23T03:51:03.731Z"
   },
   {
    "duration": 431,
    "start_time": "2021-09-23T03:51:04.731Z"
   },
   {
    "duration": 268,
    "start_time": "2021-09-23T03:51:05.164Z"
   },
   {
    "duration": 187,
    "start_time": "2021-09-23T03:51:05.435Z"
   },
   {
    "duration": 7,
    "start_time": "2021-09-23T03:51:05.625Z"
   },
   {
    "duration": 12,
    "start_time": "2021-09-23T03:52:01.932Z"
   },
   {
    "duration": 410,
    "start_time": "2021-09-23T03:59:05.138Z"
   },
   {
    "duration": 363,
    "start_time": "2021-09-23T04:01:48.452Z"
   },
   {
    "duration": 373,
    "start_time": "2021-09-23T04:02:05.059Z"
   },
   {
    "duration": 394,
    "start_time": "2021-09-23T04:02:17.130Z"
   },
   {
    "duration": 1133,
    "start_time": "2021-09-23T04:07:51.198Z"
   },
   {
    "duration": 4,
    "start_time": "2021-09-23T04:17:11.118Z"
   },
   {
    "duration": 47,
    "start_time": "2021-09-23T04:17:11.129Z"
   },
   {
    "duration": 44,
    "start_time": "2021-09-23T04:17:11.178Z"
   },
   {
    "duration": 8,
    "start_time": "2021-09-23T04:17:11.224Z"
   },
   {
    "duration": 11,
    "start_time": "2021-09-23T04:17:11.234Z"
   },
   {
    "duration": 17,
    "start_time": "2021-09-23T04:17:11.276Z"
   },
   {
    "duration": 324,
    "start_time": "2021-09-23T04:17:11.295Z"
   },
   {
    "duration": 5,
    "start_time": "2021-09-23T04:17:11.621Z"
   },
   {
    "duration": 11,
    "start_time": "2021-09-23T04:17:11.628Z"
   },
   {
    "duration": 16,
    "start_time": "2021-09-23T04:17:11.642Z"
   },
   {
    "duration": 33,
    "start_time": "2021-09-23T04:17:11.659Z"
   },
   {
    "duration": 2,
    "start_time": "2021-09-23T04:17:11.694Z"
   },
   {
    "duration": 12,
    "start_time": "2021-09-23T04:17:11.698Z"
   },
   {
    "duration": 20,
    "start_time": "2021-09-23T04:17:11.711Z"
   },
   {
    "duration": 406,
    "start_time": "2021-09-23T04:17:11.732Z"
   },
   {
    "duration": 12165,
    "start_time": "2021-09-23T04:16:59.976Z"
   },
   {
    "duration": 12155,
    "start_time": "2021-09-23T04:16:59.987Z"
   },
   {
    "duration": 12146,
    "start_time": "2021-09-23T04:16:59.997Z"
   },
   {
    "duration": 12136,
    "start_time": "2021-09-23T04:17:00.009Z"
   },
   {
    "duration": 12101,
    "start_time": "2021-09-23T04:17:00.045Z"
   },
   {
    "duration": 12085,
    "start_time": "2021-09-23T04:17:00.062Z"
   },
   {
    "duration": 12076,
    "start_time": "2021-09-23T04:17:00.073Z"
   },
   {
    "duration": 20,
    "start_time": "2021-09-23T04:17:28.461Z"
   },
   {
    "duration": 362,
    "start_time": "2021-09-23T04:18:00.767Z"
   },
   {
    "duration": 36,
    "start_time": "2021-09-23T04:18:11.176Z"
   },
   {
    "duration": 36,
    "start_time": "2021-09-23T04:18:38.682Z"
   },
   {
    "duration": 16,
    "start_time": "2021-09-23T04:18:40.714Z"
   },
   {
    "duration": 20,
    "start_time": "2021-09-23T04:18:43.687Z"
   },
   {
    "duration": 77,
    "start_time": "2021-09-23T04:18:46.601Z"
   },
   {
    "duration": 4,
    "start_time": "2021-09-23T04:18:52.823Z"
   },
   {
    "duration": 51,
    "start_time": "2021-09-23T04:18:52.833Z"
   },
   {
    "duration": 44,
    "start_time": "2021-09-23T04:18:52.886Z"
   },
   {
    "duration": 7,
    "start_time": "2021-09-23T04:18:52.932Z"
   },
   {
    "duration": 37,
    "start_time": "2021-09-23T04:18:52.941Z"
   },
   {
    "duration": 17,
    "start_time": "2021-09-23T04:18:52.979Z"
   },
   {
    "duration": 318,
    "start_time": "2021-09-23T04:18:52.997Z"
   },
   {
    "duration": 4,
    "start_time": "2021-09-23T04:18:53.317Z"
   },
   {
    "duration": 8,
    "start_time": "2021-09-23T04:18:53.324Z"
   },
   {
    "duration": 8,
    "start_time": "2021-09-23T04:18:53.334Z"
   },
   {
    "duration": 49,
    "start_time": "2021-09-23T04:18:53.343Z"
   },
   {
    "duration": 36,
    "start_time": "2021-09-23T04:18:53.394Z"
   },
   {
    "duration": 14,
    "start_time": "2021-09-23T04:18:53.431Z"
   },
   {
    "duration": 45,
    "start_time": "2021-09-23T04:18:53.446Z"
   },
   {
    "duration": 152,
    "start_time": "2021-09-23T04:18:53.493Z"
   },
   {
    "duration": 131,
    "start_time": "2021-09-23T04:18:53.647Z"
   },
   {
    "duration": 2195,
    "start_time": "2021-09-23T04:18:53.781Z"
   },
   {
    "duration": 981,
    "start_time": "2021-09-23T04:18:55.978Z"
   },
   {
    "duration": 437,
    "start_time": "2021-09-23T04:18:56.960Z"
   },
   {
    "duration": 270,
    "start_time": "2021-09-23T04:18:57.399Z"
   },
   {
    "duration": 176,
    "start_time": "2021-09-23T04:18:57.676Z"
   },
   {
    "duration": 5,
    "start_time": "2021-09-23T04:18:57.853Z"
   },
   {
    "duration": 4,
    "start_time": "2021-09-23T04:24:59.364Z"
   },
   {
    "duration": 47,
    "start_time": "2021-09-23T04:24:59.374Z"
   },
   {
    "duration": 56,
    "start_time": "2021-09-23T04:24:59.423Z"
   },
   {
    "duration": 7,
    "start_time": "2021-09-23T04:24:59.481Z"
   },
   {
    "duration": 11,
    "start_time": "2021-09-23T04:24:59.490Z"
   },
   {
    "duration": 17,
    "start_time": "2021-09-23T04:24:59.503Z"
   },
   {
    "duration": 331,
    "start_time": "2021-09-23T04:24:59.522Z"
   },
   {
    "duration": 4,
    "start_time": "2021-09-23T04:24:59.855Z"
   },
   {
    "duration": 17,
    "start_time": "2021-09-23T04:24:59.862Z"
   },
   {
    "duration": 6,
    "start_time": "2021-09-23T04:24:59.881Z"
   },
   {
    "duration": 22,
    "start_time": "2021-09-23T04:24:59.889Z"
   },
   {
    "duration": 35,
    "start_time": "2021-09-23T04:24:59.913Z"
   },
   {
    "duration": 39,
    "start_time": "2021-09-23T04:24:59.950Z"
   },
   {
    "duration": 19,
    "start_time": "2021-09-23T04:24:59.991Z"
   },
   {
    "duration": 100,
    "start_time": "2021-09-23T04:25:00.012Z"
   },
   {
    "duration": 72,
    "start_time": "2021-09-23T04:25:00.113Z"
   },
   {
    "duration": 2082,
    "start_time": "2021-09-23T04:25:00.277Z"
   },
   {
    "duration": 1000,
    "start_time": "2021-09-23T04:25:02.360Z"
   },
   {
    "duration": 420,
    "start_time": "2021-09-23T04:25:03.362Z"
   },
   {
    "duration": 272,
    "start_time": "2021-09-23T04:25:03.784Z"
   },
   {
    "duration": 186,
    "start_time": "2021-09-23T04:25:04.058Z"
   },
   {
    "duration": 7,
    "start_time": "2021-09-23T04:25:04.247Z"
   }
  ],
  "kernelspec": {
   "display_name": "Python 3 (ipykernel)",
   "language": "python",
   "name": "python3"
  },
  "language_info": {
   "codemirror_mode": {
    "name": "ipython",
    "version": 3
   },
   "file_extension": ".py",
   "mimetype": "text/x-python",
   "name": "python",
   "nbconvert_exporter": "python",
   "pygments_lexer": "ipython3",
   "version": "3.9.10"
  },
  "toc": {
   "base_numbering": 1,
   "nav_menu": {},
   "number_sections": true,
   "sideBar": true,
   "skip_h1_title": true,
   "title_cell": "Содержание",
   "title_sidebar": "Contents",
   "toc_cell": true,
   "toc_position": {},
   "toc_section_display": true,
   "toc_window_display": false
  }
 },
 "nbformat": 4,
 "nbformat_minor": 2
}
