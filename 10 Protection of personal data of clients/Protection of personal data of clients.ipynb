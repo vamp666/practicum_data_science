{
 "cells": [
  {
   "cell_type": "markdown",
   "metadata": {},
   "source": [
    "# Protection of clients personal data"
   ]
  },
  {
   "cell_type": "markdown",
   "metadata": {},
   "source": [
    "I need to protect the data of clients of the insurance company \"Хоть Потоп\". I will develop a data transformation method that makes it difficult to recover personal information from them.\n",
    "\n",
    "You need to protect the data so that the quality of the machine learning models does not deteriorate during the transformation."
   ]
  },
  {
   "cell_type": "markdown",
   "metadata": {},
   "source": [
    "## Loading data"
   ]
  },
  {
   "cell_type": "markdown",
   "metadata": {},
   "source": [
    "I load the necessary libraries for data processing."
   ]
  },
  {
   "cell_type": "code",
   "execution_count": 256,
   "metadata": {},
   "outputs": [],
   "source": [
    "import pandas as pd\n",
    "import numpy as np\n",
    "import seaborn as sns\n",
    "import matplotlib.pyplot as plt\n",
    "colormap = plt.cm.GnBu_r\n",
    "SEED = 12345\n",
    "from sklearn.linear_model import LinearRegression\n",
    "from sklearn.metrics import r2_score\n",
    "from sklearn.model_selection import train_test_split\n",
    "from sklearn.base import BaseEstimator, TransformerMixin"
   ]
  },
  {
   "cell_type": "markdown",
   "metadata": {},
   "source": [
    "I load the dataframe for work."
   ]
  },
  {
   "cell_type": "code",
   "execution_count": 257,
   "metadata": {},
   "outputs": [],
   "source": [
    "df = pd.read_csv('/datasets/insurance.csv')"
   ]
  },
  {
   "cell_type": "markdown",
   "metadata": {},
   "source": [
    "I proceed to the primary analysis of the data \"at a glance\"."
   ]
  },
  {
   "cell_type": "code",
   "execution_count": 258,
   "metadata": {},
   "outputs": [
    {
     "data": {
      "text/html": [
       "<div>\n",
       "<style scoped>\n",
       "    .dataframe tbody tr th:only-of-type {\n",
       "        vertical-align: middle;\n",
       "    }\n",
       "\n",
       "    .dataframe tbody tr th {\n",
       "        vertical-align: top;\n",
       "    }\n",
       "\n",
       "    .dataframe thead th {\n",
       "        text-align: right;\n",
       "    }\n",
       "</style>\n",
       "<table border=\"1\" class=\"dataframe\">\n",
       "  <thead>\n",
       "    <tr style=\"text-align: right;\">\n",
       "      <th></th>\n",
       "      <th>Пол</th>\n",
       "      <th>Возраст</th>\n",
       "      <th>Зарплата</th>\n",
       "      <th>Члены семьи</th>\n",
       "      <th>Страховые выплаты</th>\n",
       "    </tr>\n",
       "  </thead>\n",
       "  <tbody>\n",
       "    <tr>\n",
       "      <td>4256</td>\n",
       "      <td>1</td>\n",
       "      <td>19.0</td>\n",
       "      <td>52100.0</td>\n",
       "      <td>0</td>\n",
       "      <td>0</td>\n",
       "    </tr>\n",
       "    <tr>\n",
       "      <td>861</td>\n",
       "      <td>0</td>\n",
       "      <td>39.0</td>\n",
       "      <td>29600.0</td>\n",
       "      <td>1</td>\n",
       "      <td>0</td>\n",
       "    </tr>\n",
       "    <tr>\n",
       "      <td>2277</td>\n",
       "      <td>1</td>\n",
       "      <td>33.0</td>\n",
       "      <td>37100.0</td>\n",
       "      <td>0</td>\n",
       "      <td>0</td>\n",
       "    </tr>\n",
       "    <tr>\n",
       "      <td>2018</td>\n",
       "      <td>0</td>\n",
       "      <td>23.0</td>\n",
       "      <td>29900.0</td>\n",
       "      <td>3</td>\n",
       "      <td>0</td>\n",
       "    </tr>\n",
       "    <tr>\n",
       "      <td>29</td>\n",
       "      <td>0</td>\n",
       "      <td>21.0</td>\n",
       "      <td>42200.0</td>\n",
       "      <td>2</td>\n",
       "      <td>0</td>\n",
       "    </tr>\n",
       "    <tr>\n",
       "      <td>3066</td>\n",
       "      <td>0</td>\n",
       "      <td>21.0</td>\n",
       "      <td>45800.0</td>\n",
       "      <td>3</td>\n",
       "      <td>0</td>\n",
       "    </tr>\n",
       "    <tr>\n",
       "      <td>3324</td>\n",
       "      <td>0</td>\n",
       "      <td>27.0</td>\n",
       "      <td>48200.0</td>\n",
       "      <td>1</td>\n",
       "      <td>0</td>\n",
       "    </tr>\n",
       "    <tr>\n",
       "      <td>971</td>\n",
       "      <td>0</td>\n",
       "      <td>30.0</td>\n",
       "      <td>59100.0</td>\n",
       "      <td>1</td>\n",
       "      <td>0</td>\n",
       "    </tr>\n",
       "    <tr>\n",
       "      <td>3455</td>\n",
       "      <td>1</td>\n",
       "      <td>25.0</td>\n",
       "      <td>46100.0</td>\n",
       "      <td>1</td>\n",
       "      <td>0</td>\n",
       "    </tr>\n",
       "    <tr>\n",
       "      <td>4677</td>\n",
       "      <td>1</td>\n",
       "      <td>36.0</td>\n",
       "      <td>34800.0</td>\n",
       "      <td>2</td>\n",
       "      <td>0</td>\n",
       "    </tr>\n",
       "  </tbody>\n",
       "</table>\n",
       "</div>"
      ],
      "text/plain": [
       "      Пол  Возраст  Зарплата  Члены семьи  Страховые выплаты\n",
       "4256    1     19.0   52100.0            0                  0\n",
       "861     0     39.0   29600.0            1                  0\n",
       "2277    1     33.0   37100.0            0                  0\n",
       "2018    0     23.0   29900.0            3                  0\n",
       "29      0     21.0   42200.0            2                  0\n",
       "3066    0     21.0   45800.0            3                  0\n",
       "3324    0     27.0   48200.0            1                  0\n",
       "971     0     30.0   59100.0            1                  0\n",
       "3455    1     25.0   46100.0            1                  0\n",
       "4677    1     36.0   34800.0            2                  0"
      ]
     },
     "execution_count": 258,
     "metadata": {},
     "output_type": "execute_result"
    }
   ],
   "source": [
    "df.sample(10)"
   ]
  },
  {
   "cell_type": "markdown",
   "metadata": {},
   "source": [
    "Checking for null values and evaluating data types."
   ]
  },
  {
   "cell_type": "code",
   "execution_count": 259,
   "metadata": {},
   "outputs": [
    {
     "name": "stdout",
     "output_type": "stream",
     "text": [
      "<class 'pandas.core.frame.DataFrame'>\n",
      "RangeIndex: 5000 entries, 0 to 4999\n",
      "Data columns (total 5 columns):\n",
      "Пол                  5000 non-null int64\n",
      "Возраст              5000 non-null float64\n",
      "Зарплата             5000 non-null float64\n",
      "Члены семьи          5000 non-null int64\n",
      "Страховые выплаты    5000 non-null int64\n",
      "dtypes: float64(2), int64(3)\n",
      "memory usage: 195.4 KB\n"
     ]
    }
   ],
   "source": [
    "df.info()"
   ]
  },
  {
   "cell_type": "markdown",
   "metadata": {},
   "source": [
    "I translate columns into English."
   ]
  },
  {
   "cell_type": "code",
   "execution_count": 260,
   "metadata": {},
   "outputs": [],
   "source": [
    "df.columns = ['sex', 'age', 'income', 'family_members', 'insurance_benefits']"
   ]
  },
  {
   "cell_type": "markdown",
   "metadata": {},
   "source": [
    "Converting age values to integers."
   ]
  },
  {
   "cell_type": "code",
   "execution_count": 261,
   "metadata": {},
   "outputs": [],
   "source": [
    "df['age'] = df['age'].astype('int')"
   ]
  },
  {
   "cell_type": "markdown",
   "metadata": {},
   "source": [
    "Check for duplicates."
   ]
  },
  {
   "cell_type": "code",
   "execution_count": 262,
   "metadata": {},
   "outputs": [
    {
     "data": {
      "text/plain": [
       "153"
      ]
     },
     "execution_count": 262,
     "metadata": {},
     "output_type": "execute_result"
    }
   ],
   "source": [
    "df.duplicated().sum()"
   ]
  },
  {
   "cell_type": "markdown",
   "metadata": {},
   "source": [
    "Removing duplicates."
   ]
  },
  {
   "cell_type": "code",
   "execution_count": 263,
   "metadata": {},
   "outputs": [
    {
     "name": "stdout",
     "output_type": "stream",
     "text": [
      "(5000, 5)\n",
      "(4847, 5)\n"
     ]
    }
   ],
   "source": [
    "print(df.shape)\n",
    "df = df.drop_duplicates().reset_index(drop=True)\n",
    "print(df.shape)"
   ]
  },
  {
   "cell_type": "markdown",
   "metadata": {},
   "source": [
    "Evaluate measures of central tendency, measures of variability, etc. at this stage of preprocessing."
   ]
  },
  {
   "cell_type": "code",
   "execution_count": 264,
   "metadata": {},
   "outputs": [
    {
     "data": {
      "text/html": [
       "<div>\n",
       "<style scoped>\n",
       "    .dataframe tbody tr th:only-of-type {\n",
       "        vertical-align: middle;\n",
       "    }\n",
       "\n",
       "    .dataframe tbody tr th {\n",
       "        vertical-align: top;\n",
       "    }\n",
       "\n",
       "    .dataframe thead th {\n",
       "        text-align: right;\n",
       "    }\n",
       "</style>\n",
       "<table border=\"1\" class=\"dataframe\">\n",
       "  <thead>\n",
       "    <tr style=\"text-align: right;\">\n",
       "      <th></th>\n",
       "      <th>sex</th>\n",
       "      <th>age</th>\n",
       "      <th>income</th>\n",
       "      <th>family_members</th>\n",
       "      <th>insurance_benefits</th>\n",
       "    </tr>\n",
       "  </thead>\n",
       "  <tbody>\n",
       "    <tr>\n",
       "      <td>count</td>\n",
       "      <td>4847.000000</td>\n",
       "      <td>4847.000000</td>\n",
       "      <td>4847.000000</td>\n",
       "      <td>4847.000000</td>\n",
       "      <td>4847.000000</td>\n",
       "    </tr>\n",
       "    <tr>\n",
       "      <td>mean</td>\n",
       "      <td>0.498453</td>\n",
       "      <td>31.023932</td>\n",
       "      <td>39895.811842</td>\n",
       "      <td>1.203425</td>\n",
       "      <td>0.152259</td>\n",
       "    </tr>\n",
       "    <tr>\n",
       "      <td>std</td>\n",
       "      <td>0.500049</td>\n",
       "      <td>8.487995</td>\n",
       "      <td>9972.953985</td>\n",
       "      <td>1.098664</td>\n",
       "      <td>0.468934</td>\n",
       "    </tr>\n",
       "    <tr>\n",
       "      <td>min</td>\n",
       "      <td>0.000000</td>\n",
       "      <td>18.000000</td>\n",
       "      <td>5300.000000</td>\n",
       "      <td>0.000000</td>\n",
       "      <td>0.000000</td>\n",
       "    </tr>\n",
       "    <tr>\n",
       "      <td>25%</td>\n",
       "      <td>0.000000</td>\n",
       "      <td>24.000000</td>\n",
       "      <td>33200.000000</td>\n",
       "      <td>0.000000</td>\n",
       "      <td>0.000000</td>\n",
       "    </tr>\n",
       "    <tr>\n",
       "      <td>50%</td>\n",
       "      <td>0.000000</td>\n",
       "      <td>30.000000</td>\n",
       "      <td>40200.000000</td>\n",
       "      <td>1.000000</td>\n",
       "      <td>0.000000</td>\n",
       "    </tr>\n",
       "    <tr>\n",
       "      <td>75%</td>\n",
       "      <td>1.000000</td>\n",
       "      <td>37.000000</td>\n",
       "      <td>46600.000000</td>\n",
       "      <td>2.000000</td>\n",
       "      <td>0.000000</td>\n",
       "    </tr>\n",
       "    <tr>\n",
       "      <td>max</td>\n",
       "      <td>1.000000</td>\n",
       "      <td>65.000000</td>\n",
       "      <td>79000.000000</td>\n",
       "      <td>6.000000</td>\n",
       "      <td>5.000000</td>\n",
       "    </tr>\n",
       "  </tbody>\n",
       "</table>\n",
       "</div>"
      ],
      "text/plain": [
       "               sex          age        income  family_members  \\\n",
       "count  4847.000000  4847.000000   4847.000000     4847.000000   \n",
       "mean      0.498453    31.023932  39895.811842        1.203425   \n",
       "std       0.500049     8.487995   9972.953985        1.098664   \n",
       "min       0.000000    18.000000   5300.000000        0.000000   \n",
       "25%       0.000000    24.000000  33200.000000        0.000000   \n",
       "50%       0.000000    30.000000  40200.000000        1.000000   \n",
       "75%       1.000000    37.000000  46600.000000        2.000000   \n",
       "max       1.000000    65.000000  79000.000000        6.000000   \n",
       "\n",
       "       insurance_benefits  \n",
       "count         4847.000000  \n",
       "mean             0.152259  \n",
       "std              0.468934  \n",
       "min              0.000000  \n",
       "25%              0.000000  \n",
       "50%              0.000000  \n",
       "75%              0.000000  \n",
       "max              5.000000  "
      ]
     },
     "execution_count": 264,
     "metadata": {},
     "output_type": "execute_result"
    }
   ],
   "source": [
    "df.describe()"
   ]
  },
  {
   "cell_type": "markdown",
   "metadata": {},
   "source": [
    "Let's build graphs to evaluate data by columns."
   ]
  },
  {
   "cell_type": "code",
   "execution_count": 265,
   "metadata": {},
   "outputs": [
    {
     "data": {
      "image/png": "[encoded data removed]",
      "text/plain": [
       "<Figure size 720x432 with 1 Axes>"
      ]
     },
     "metadata": {
      "needs_background": "light"
     },
     "output_type": "display_data"
    },
    {
     "data": {
      "image/png": "[encoded data removed]",
      "text/plain": [
       "<Figure size 720x432 with 1 Axes>"
      ]
     },
     "metadata": {
      "needs_background": "light"
     },
     "output_type": "display_data"
    },
    {
     "data": {
      "image/png": "[encoded data removed]",
      "text/plain": [
       "<Figure size 720x432 with 1 Axes>"
      ]
     },
     "metadata": {
      "needs_background": "light"
     },
     "output_type": "display_data"
    },
    {
     "data": {
      "image/png": "[encoded data removed]",
      "text/plain": [
       "<Figure size 720x432 with 1 Axes>"
      ]
     },
     "metadata": {
      "needs_background": "light"
     },
     "output_type": "display_data"
    },
    {
     "data": {
      "image/png": "[encoded data removed]",
      "text/plain": [
       "<Figure size 720x432 with 1 Axes>"
      ]
     },
     "metadata": {
      "needs_background": "light"
     },
     "output_type": "display_data"
    }
   ],
   "source": [
    "countplot = ['sex', 'age', 'family_members', 'insurance_benefits']\n",
    "displot = ['income']\n",
    "\n",
    "for col in countplot:\n",
    "    values = df[col].value_counts()\n",
    "    plt.figure(figsize=(10,6))\n",
    "    values.plot(kind = 'bar', cmap = colormap)\n",
    "    plt.xticks(rotation=0)\n",
    "    plt.title(col)\n",
    "    plt.show( )\n",
    "    \n",
    "for col in displot:\n",
    "    plt.figure(figsize=(10,6))\n",
    "    sns.distplot(df[col])\n",
    "    plt.title(col)\n",
    "    plt.show( )"
   ]
  },
  {
   "cell_type": "markdown",
   "metadata": {},
   "source": [
    "- Clients of both sexes meet in equal proportions\n",
    "- The services are mainly used by young people\n",
    "- Mostly there are people with 1 child or without them\n",
    "- The vast majority of clients have never received payments, which indicates the success of the business\n",
    "- Client salaries are distributed close to the normal distribution, most clients have a salary of about 40 thousand"
   ]
  },
  {
   "cell_type": "markdown",
   "metadata": {},
   "source": [
    "Let us evaluate the correlations of features."
   ]
  },
  {
   "cell_type": "code",
   "execution_count": 266,
   "metadata": {},
   "outputs": [
    {
     "data": {
      "text/plain": [
       "<matplotlib.axes._subplots.AxesSubplot at 0x7ff9a03d7a10>"
      ]
     },
     "execution_count": 266,
     "metadata": {},
     "output_type": "execute_result"
    },
    {
     "data": {
      "image/png": "[encoded data removed]",
      "text/plain": [
       "<Figure size 432x432 with 2 Axes>"
      ]
     },
     "metadata": {
      "needs_background": "light"
     },
     "output_type": "display_data"
    }
   ],
   "source": [
    "plt.figure(figsize = (6,6))\n",
    "plt.title('Корреляции признаков', size=14)\n",
    "sns.heatmap(df.corr(), annot = True, square=True, cmap = colormap)"
   ]
  },
  {
   "cell_type": "markdown",
   "metadata": {},
   "source": [
    "It seems that there is a certain correlation between the age feature and the availability of insurance payments. This is probably due to the fact that older people had a proportionally greater amount of time (and hence probabilities) for making insured events."
   ]
  },
  {
   "cell_type": "markdown",
   "metadata": {},
   "source": [
    "###### Conclusion:"
   ]
  },
  {
   "cell_type": "markdown",
   "metadata": {},
   "source": [
    "During this stage of the work, I loaded the libraries necessary for the work and the dataframe under researching, evaluated the data \"at a glance\", carried out pre-processing (checking for duplicates, for omissions, etc.), renamed the Russian-language column names to their English versions for standardization purposes, changed the format of values in the age column to integers, evaluated the distributions of values in all columns and evaluated their correlations. At this point, this stage of work is completed. I turn to the creation of an algorithm and its argumentation."
   ]
  },
  {
   "cell_type": "markdown",
   "metadata": {},
   "source": [
    "## Matrix multiplication"
   ]
  },
  {
   "cell_type": "markdown",
   "metadata": {},
   "source": [
    "Designations:\n",
    "\n",
    "- $X$ - feature matrix (zero column consists of ones)\n",
    "\n",
    "- $y$ — target feature vector\n",
    "\n",
    "- $P$ is the matrix by which features are multiplied\n",
    "\n",
    "- $w$ — vector of linear regression weights (zero element equals shift)"
   ]
  },
  {
   "cell_type": "markdown",
   "metadata": {},
   "source": [
    "Predictions:\n",
    "\n",
    "$$\n",
    "a = Xw\n",
    "$$\n",
    "\n",
    "Learning objective:\n",
    "\n",
    "$$\n",
    "w = \\arg\\min_w MSE(Xw, y)\n",
    "$$\n",
    "\n",
    "Learning formula:\n",
    "\n",
    "$$\n",
    "w = (X^T X)^{-1} X^T y\n",
    "$$"
   ]
  },
  {
   "cell_type": "markdown",
   "metadata": {},
   "source": [
    "**Answer:**\n",
    "\n",
    "When multiplying the features by an invertible matrix, the quality of the linear regression **_does not change_**.\n",
    "\n",
    "**Rationale:**\n",
    "\n",
    "The new feature matrix is calculated as follows:\n",
    "\n",
    "$$X' = XP$$\n",
    "Therefore, the formula for the new weight vector $w'$ will be:\n",
    "\n",
    "$$w' = ((XP)^{T} XP)^{-1} (XP)^{T} y = \\\\ \n",
    "     = (X^{T} P^{T}XP)^{-1}X^{T}P^{T}y  = \\\\ \n",
    "     = P^{-1} (X^{T} X)^{-1} (P^{T})^{-1} P^{T}X^{T}y = \\\\ \n",
    "     = P^{-1} w, $$\n",
    "\n",
    "because\n",
    "\n",
    "$$\n",
    "w = (X^T X)^{-1} X^T y\n",
    "$$\n",
    "\n",
    "It is known that\n",
    "\n",
    "$$(P^{T})^{-1} P^{T} = Е = 1$$\n",
    "(E - identity matrix)\n",
    "\n",
    "In this way:\n",
    "\n",
    "$$ a' = X'w' = XPP^{-1}w = XEw = Xw= a $$\n",
    "\n",
    "since the product of a matrix and the identity matrix is equal to the same matrix.\n",
    "Accordingly, the indicators of linear regression will not change."
   ]
  },
  {
   "cell_type": "markdown",
   "metadata": {},
   "source": [
    "## Conversion algorithm"
   ]
  },
  {
   "cell_type": "markdown",
   "metadata": {},
   "source": [
    "**Algorithm**\n",
    "\n",
    "The algorithm must include a matrix by which data will be multiplied for encryption, and an inverse matrix for decryption. Accordingly, in the next step, I will create an object that takes data from the dataframe as input, multiplies them by a matrix that has passed the check for the possibility of its reversibility, and returns the data to its original state by multiplying them by the inverse matrix."
   ]
  },
  {
   "cell_type": "markdown",
   "metadata": {},
   "source": [
    "**Rationale**\n",
    "\n",
    "Multiplying data by a matrix during training does not affect the quality of linear regression prediction, provided that the features for which the prediction is made were also multiplied by this matrix. Theoretical confirmation of what we received at the previous stage of work."
   ]
  },
  {
   "cell_type": "markdown",
   "metadata": {},
   "source": [
    "## Algorithm check"
   ]
  },
  {
   "cell_type": "markdown",
   "metadata": {},
   "source": [
    "Select the target feature insurance_benefits from the dataframe"
   ]
  },
  {
   "cell_type": "code",
   "execution_count": 267,
   "metadata": {},
   "outputs": [
    {
     "data": {
      "text/plain": [
       "((4847, 4), (4847,))"
      ]
     },
     "execution_count": 267,
     "metadata": {},
     "output_type": "execute_result"
    }
   ],
   "source": [
    "X = df.drop(columns='insurance_benefits')\n",
    "y = df['insurance_benefits']\n",
    "\n",
    "X.shape, y.shape"
   ]
  },
  {
   "cell_type": "markdown",
   "metadata": {},
   "source": [
    "I start creating the object described in the previous step."
   ]
  },
  {
   "cell_type": "code",
   "execution_count": 268,
   "metadata": {},
   "outputs": [],
   "source": [
    "class Encoder(TransformerMixin, BaseEstimator):\n",
    "    \n",
    "    \n",
    "    def fit(self, X, y=None, random_state=None):\n",
    "        if random_state:\n",
    "            np.random.seed(random_state)\n",
    "            \n",
    "        X_dim = X.shape[1]\n",
    "        Z = np.random.normal(size=(X_dim, X_dim))\n",
    "        \n",
    "        \n",
    "        self.Z = Z\n",
    "        self.X = X\n",
    "        return self\n",
    "    \n",
    "    def check(self):\n",
    "        ch = self.Z\n",
    "        Z_rev = np.linalg.inv(ch)\n",
    "        if np.allclose(np.dot(ch, Z_rev), np.eye(ch.shape[0])) is True:\n",
    "            ans = \"Матрица обратима\"\n",
    "        else:\n",
    "            ans = \"Матрица необратима\"\n",
    "        return ans\n",
    "        \n",
    "    \n",
    "    def transform(self, X, y=None):  \n",
    "        return X.dot(self.Z)"
   ]
  },
  {
   "cell_type": "code",
   "execution_count": 269,
   "metadata": {},
   "outputs": [
    {
     "name": "stdout",
     "output_type": "stream",
     "text": [
      "Матрица обратима\n"
     ]
    }
   ],
   "source": [
    "preparer = Encoder()\n",
    "X_new = preparer.fit_transform(X, random_state=SEED)\n",
    "print(preparer.check())"
   ]
  },
  {
   "cell_type": "code",
   "execution_count": 270,
   "metadata": {},
   "outputs": [
    {
     "data": {
      "text/plain": [
       "((4847, 4), (4847, 4))"
      ]
     },
     "execution_count": 270,
     "metadata": {},
     "output_type": "execute_result"
    }
   ],
   "source": [
    "X.shape, X_new.shape"
   ]
  },
  {
   "cell_type": "markdown",
   "metadata": {},
   "source": [
    "Let's compare the transformed sample and the original one."
   ]
  },
  {
   "cell_type": "code",
   "execution_count": 271,
   "metadata": {},
   "outputs": [
    {
     "data": {
      "text/html": [
       "<div>\n",
       "<style scoped>\n",
       "    .dataframe tbody tr th:only-of-type {\n",
       "        vertical-align: middle;\n",
       "    }\n",
       "\n",
       "    .dataframe tbody tr th {\n",
       "        vertical-align: top;\n",
       "    }\n",
       "\n",
       "    .dataframe thead th {\n",
       "        text-align: right;\n",
       "    }\n",
       "</style>\n",
       "<table border=\"1\" class=\"dataframe\">\n",
       "  <thead>\n",
       "    <tr style=\"text-align: right;\">\n",
       "      <th></th>\n",
       "      <th>sex</th>\n",
       "      <th>age</th>\n",
       "      <th>income</th>\n",
       "      <th>family_members</th>\n",
       "    </tr>\n",
       "  </thead>\n",
       "  <tbody>\n",
       "    <tr>\n",
       "      <td>0</td>\n",
       "      <td>1</td>\n",
       "      <td>41</td>\n",
       "      <td>49600.0</td>\n",
       "      <td>1</td>\n",
       "    </tr>\n",
       "    <tr>\n",
       "      <td>1</td>\n",
       "      <td>0</td>\n",
       "      <td>46</td>\n",
       "      <td>38000.0</td>\n",
       "      <td>1</td>\n",
       "    </tr>\n",
       "    <tr>\n",
       "      <td>2</td>\n",
       "      <td>0</td>\n",
       "      <td>29</td>\n",
       "      <td>21000.0</td>\n",
       "      <td>0</td>\n",
       "    </tr>\n",
       "    <tr>\n",
       "      <td>3</td>\n",
       "      <td>0</td>\n",
       "      <td>21</td>\n",
       "      <td>41700.0</td>\n",
       "      <td>2</td>\n",
       "    </tr>\n",
       "    <tr>\n",
       "      <td>4</td>\n",
       "      <td>1</td>\n",
       "      <td>28</td>\n",
       "      <td>26100.0</td>\n",
       "      <td>0</td>\n",
       "    </tr>\n",
       "  </tbody>\n",
       "</table>\n",
       "</div>"
      ],
      "text/plain": [
       "   sex  age   income  family_members\n",
       "0    1   41  49600.0               1\n",
       "1    0   46  38000.0               1\n",
       "2    0   29  21000.0               0\n",
       "3    0   21  41700.0               2\n",
       "4    1   28  26100.0               0"
      ]
     },
     "execution_count": 271,
     "metadata": {},
     "output_type": "execute_result"
    }
   ],
   "source": [
    "X.head(5)"
   ]
  },
  {
   "cell_type": "code",
   "execution_count": 272,
   "metadata": {},
   "outputs": [
    {
     "data": {
      "text/html": [
       "<div>\n",
       "<style scoped>\n",
       "    .dataframe tbody tr th:only-of-type {\n",
       "        vertical-align: middle;\n",
       "    }\n",
       "\n",
       "    .dataframe tbody tr th {\n",
       "        vertical-align: top;\n",
       "    }\n",
       "\n",
       "    .dataframe thead th {\n",
       "        text-align: right;\n",
       "    }\n",
       "</style>\n",
       "<table border=\"1\" class=\"dataframe\">\n",
       "  <thead>\n",
       "    <tr style=\"text-align: right;\">\n",
       "      <th></th>\n",
       "      <th>0</th>\n",
       "      <th>1</th>\n",
       "      <th>2</th>\n",
       "      <th>3</th>\n",
       "    </tr>\n",
       "  </thead>\n",
       "  <tbody>\n",
       "    <tr>\n",
       "      <td>0</td>\n",
       "      <td>38224.186641</td>\n",
       "      <td>61881.000420</td>\n",
       "      <td>49961.234837</td>\n",
       "      <td>-64280.684721</td>\n",
       "    </tr>\n",
       "    <tr>\n",
       "      <td>1</td>\n",
       "      <td>29313.558467</td>\n",
       "      <td>47428.845564</td>\n",
       "      <td>38278.822267</td>\n",
       "      <td>-49242.555394</td>\n",
       "    </tr>\n",
       "    <tr>\n",
       "      <td>2</td>\n",
       "      <td>16206.481556</td>\n",
       "      <td>26215.538233</td>\n",
       "      <td>21153.670838</td>\n",
       "      <td>-27212.472653</td>\n",
       "    </tr>\n",
       "    <tr>\n",
       "      <td>3</td>\n",
       "      <td>32110.072445</td>\n",
       "      <td>52006.047856</td>\n",
       "      <td>42004.453110</td>\n",
       "      <td>-54044.730722</td>\n",
       "    </tr>\n",
       "    <tr>\n",
       "      <td>4</td>\n",
       "      <td>20126.326163</td>\n",
       "      <td>32571.440926</td>\n",
       "      <td>26289.724215</td>\n",
       "      <td>-33824.037786</td>\n",
       "    </tr>\n",
       "  </tbody>\n",
       "</table>\n",
       "</div>"
      ],
      "text/plain": [
       "              0             1             2             3\n",
       "0  38224.186641  61881.000420  49961.234837 -64280.684721\n",
       "1  29313.558467  47428.845564  38278.822267 -49242.555394\n",
       "2  16206.481556  26215.538233  21153.670838 -27212.472653\n",
       "3  32110.072445  52006.047856  42004.453110 -54044.730722\n",
       "4  20126.326163  32571.440926  26289.724215 -33824.037786"
      ]
     },
     "execution_count": 272,
     "metadata": {},
     "output_type": "execute_result"
    }
   ],
   "source": [
    "X_new.head(5)"
   ]
  },
  {
   "cell_type": "markdown",
   "metadata": {},
   "source": [
    "Great, the original data is impossible to know."
   ]
  },
  {
   "cell_type": "markdown",
   "metadata": {},
   "source": [
    "Model training and evaluation of their differences based on the r2 metric."
   ]
  },
  {
   "cell_type": "code",
   "execution_count": 273,
   "metadata": {},
   "outputs": [
    {
     "name": "stdout",
     "output_type": "stream",
     "text": [
      "Метрика R2 до преобразования данных: 0.4302010044852067\n",
      "Метрика R2 после преобразования данных: 0.4302010044852057\n",
      "\n",
      "Значения метрики r2 на практике не отличается\n"
     ]
    }
   ],
   "source": [
    "linreg = LinearRegression()\n",
    "\n",
    "linreg.fit(X, y)\n",
    "predict1 = linreg.predict(X)\n",
    "\n",
    "linreg.fit(X_new, y)\n",
    "predict2 = linreg.predict(X_new)\n",
    "\n",
    "r2_x = r2_score(y, predict1)\n",
    "r2_y = r2_score(y, predict2)\n",
    "\n",
    "print('Метрика R2 до преобразования данных:', r2_x)\n",
    "print('Метрика R2 после преобразования данных:', r2_y)\n",
    "print()\n",
    "if np.isclose(r2_x, r2_y) == True:\n",
    "    print('Значения метрики r2 на практике не отличается')\n",
    "else:\n",
    "    print('Значения метрики r2 на практике отличается, необходимо провести дополнительные исследования')\n",
    "    \n"
   ]
  },
  {
   "cell_type": "markdown",
   "metadata": {},
   "source": [
    "## General Conclusion"
   ]
  },
  {
   "cell_type": "markdown",
   "metadata": {},
   "source": [
    "I made a researching of the possibility to encode a dataframe using matrices and without loss of the required information:\n",
    "- Pre-preparation of initial data\n",
    "- Theoretically confirmed the possibility of using matrices for lossless encoding and decoding\n",
    "- Described data conversion algorithm\n",
    "- The algorithm is tested in practice using the metric r2\n",
    "\n",
    "Thus, such a method of data conversion has been developed so that it is difficult to recover personal information from them. The correctness of its work is substantiated.\n",
    "The data is protected so that the quality of machine learning models is not degraded during transformation.\n",
    "**Data of customers of the insurance company \"Хоть Потоп\" is under reliable protection.**"
   ]
  }
 ],
 "metadata": {
  "ExecuteTimeLog": [
   {
    "duration": 426,
    "start_time": "2021-10-31T20:42:57.874Z"
   },
   {
    "duration": 1416,
    "start_time": "2021-10-31T20:43:01.115Z"
   },
   {
    "duration": 2852,
    "start_time": "2021-10-31T20:43:03.844Z"
   },
   {
    "duration": 19,
    "start_time": "2021-10-31T20:43:28.707Z"
   },
   {
    "duration": 418,
    "start_time": "2021-10-31T20:44:12.071Z"
   },
   {
    "duration": 22,
    "start_time": "2021-10-31T20:44:16.623Z"
   },
   {
    "duration": 12,
    "start_time": "2021-10-31T20:44:27.862Z"
   },
   {
    "duration": 14,
    "start_time": "2021-10-31T20:44:31.743Z"
   },
   {
    "duration": 14,
    "start_time": "2021-10-31T20:44:38.821Z"
   },
   {
    "duration": 9,
    "start_time": "2021-10-31T20:46:52.453Z"
   },
   {
    "duration": 8,
    "start_time": "2021-10-31T20:47:25.868Z"
   },
   {
    "duration": 10,
    "start_time": "2021-10-31T20:48:12.505Z"
   },
   {
    "duration": 4,
    "start_time": "2021-10-31T21:00:49.652Z"
   },
   {
    "duration": 367,
    "start_time": "2021-10-31T21:02:46.901Z"
   },
   {
    "duration": 11,
    "start_time": "2021-10-31T21:02:55.834Z"
   },
   {
    "duration": 8898,
    "start_time": "2021-10-31T21:05:03.684Z"
   },
   {
    "duration": 5,
    "start_time": "2021-10-31T21:06:18.681Z"
   },
   {
    "duration": 447,
    "start_time": "2021-10-31T21:14:14.644Z"
   },
   {
    "duration": 35,
    "start_time": "2021-10-31T21:14:18.658Z"
   },
   {
    "duration": 33,
    "start_time": "2021-10-31T21:15:51.996Z"
   },
   {
    "duration": 351,
    "start_time": "2021-10-31T21:18:33.165Z"
   },
   {
    "duration": 362,
    "start_time": "2021-10-31T21:26:16.696Z"
   },
   {
    "duration": 587,
    "start_time": "2021-10-31T21:26:30.474Z"
   },
   {
    "duration": -1169,
    "start_time": "2021-10-31T21:26:32.234Z"
   },
   {
    "duration": -1175,
    "start_time": "2021-10-31T21:26:32.242Z"
   },
   {
    "duration": -1175,
    "start_time": "2021-10-31T21:26:32.244Z"
   },
   {
    "duration": -1176,
    "start_time": "2021-10-31T21:26:32.247Z"
   },
   {
    "duration": -1177,
    "start_time": "2021-10-31T21:26:32.250Z"
   },
   {
    "duration": -1176,
    "start_time": "2021-10-31T21:26:32.251Z"
   },
   {
    "duration": -1177,
    "start_time": "2021-10-31T21:26:32.254Z"
   },
   {
    "duration": -1183,
    "start_time": "2021-10-31T21:26:32.262Z"
   },
   {
    "duration": -1182,
    "start_time": "2021-10-31T21:26:32.263Z"
   },
   {
    "duration": 6,
    "start_time": "2021-10-31T21:27:06.694Z"
   },
   {
    "duration": 28,
    "start_time": "2021-10-31T21:27:06.703Z"
   },
   {
    "duration": 14,
    "start_time": "2021-10-31T21:27:06.734Z"
   },
   {
    "duration": 12,
    "start_time": "2021-10-31T21:27:06.751Z"
   },
   {
    "duration": 4,
    "start_time": "2021-10-31T21:27:06.765Z"
   },
   {
    "duration": 29,
    "start_time": "2021-10-31T21:27:06.771Z"
   },
   {
    "duration": 10,
    "start_time": "2021-10-31T21:27:06.803Z"
   },
   {
    "duration": 9,
    "start_time": "2021-10-31T21:27:06.816Z"
   },
   {
    "duration": 75,
    "start_time": "2021-10-31T21:27:06.827Z"
   },
   {
    "duration": 373,
    "start_time": "2021-10-31T21:27:06.905Z"
   },
   {
    "duration": 5,
    "start_time": "2021-10-31T21:30:46.694Z"
   },
   {
    "duration": 4,
    "start_time": "2021-10-31T21:30:49.909Z"
   },
   {
    "duration": 23,
    "start_time": "2021-10-31T21:30:49.916Z"
   },
   {
    "duration": 13,
    "start_time": "2021-10-31T21:30:49.942Z"
   },
   {
    "duration": 9,
    "start_time": "2021-10-31T21:30:49.958Z"
   },
   {
    "duration": 3,
    "start_time": "2021-10-31T21:30:49.970Z"
   },
   {
    "duration": 5,
    "start_time": "2021-10-31T21:30:50.000Z"
   },
   {
    "duration": 12,
    "start_time": "2021-10-31T21:30:50.009Z"
   },
   {
    "duration": 9,
    "start_time": "2021-10-31T21:30:50.024Z"
   },
   {
    "duration": 88,
    "start_time": "2021-10-31T21:30:50.036Z"
   },
   {
    "duration": 12406,
    "start_time": "2021-10-31T21:30:50.126Z"
   },
   {
    "duration": 11038,
    "start_time": "2021-10-31T21:34:06.966Z"
   },
   {
    "duration": 11908,
    "start_time": "2021-10-31T21:34:23.228Z"
   },
   {
    "duration": 2146,
    "start_time": "2021-10-31T21:35:22.873Z"
   },
   {
    "duration": 2329,
    "start_time": "2021-10-31T21:36:01.143Z"
   },
   {
    "duration": 2217,
    "start_time": "2021-10-31T21:36:09.173Z"
   },
   {
    "duration": 2884,
    "start_time": "2021-10-31T21:36:42.347Z"
   },
   {
    "duration": 2163,
    "start_time": "2021-10-31T21:36:50.963Z"
   },
   {
    "duration": 6,
    "start_time": "2021-10-31T21:41:43.637Z"
   },
   {
    "duration": 7,
    "start_time": "2021-10-31T21:41:43.718Z"
   },
   {
    "duration": 60,
    "start_time": "2021-10-31T21:41:43.753Z"
   },
   {
    "duration": 59,
    "start_time": "2021-10-31T21:41:43.844Z"
   },
   {
    "duration": 6,
    "start_time": "2021-10-31T21:41:43.931Z"
   },
   {
    "duration": 8,
    "start_time": "2021-10-31T21:41:44.005Z"
   },
   {
    "duration": 7,
    "start_time": "2021-10-31T21:41:44.106Z"
   },
   {
    "duration": 9,
    "start_time": "2021-10-31T21:41:46.303Z"
   },
   {
    "duration": 34,
    "start_time": "2021-10-31T21:43:24.125Z"
   },
   {
    "duration": 2171,
    "start_time": "2021-10-31T21:43:24.162Z"
   },
   {
    "duration": 97482,
    "start_time": "2021-10-31T21:43:28.458Z"
   },
   {
    "duration": 542,
    "start_time": "2021-10-31T21:48:41.047Z"
   },
   {
    "duration": 517,
    "start_time": "2021-10-31T22:04:20.574Z"
   },
   {
    "duration": 570,
    "start_time": "2021-10-31T22:04:24.945Z"
   },
   {
    "duration": 360,
    "start_time": "2021-11-01T01:06:30.379Z"
   },
   {
    "duration": 4,
    "start_time": "2021-11-01T01:06:51.545Z"
   },
   {
    "duration": 6,
    "start_time": "2021-11-01T01:06:57.249Z"
   },
   {
    "duration": 50445,
    "start_time": "2021-11-01T01:07:15.383Z"
   },
   {
    "duration": 382,
    "start_time": "2021-11-01T01:08:58.233Z"
   },
   {
    "duration": 364,
    "start_time": "2021-11-01T01:09:15.040Z"
   },
   {
    "duration": 375,
    "start_time": "2021-11-01T02:35:33.331Z"
   },
   {
    "duration": 8,
    "start_time": "2021-11-01T02:36:12.743Z"
   },
   {
    "duration": 6,
    "start_time": "2021-11-01T02:36:15.613Z"
   },
   {
    "duration": 375,
    "start_time": "2021-11-01T02:36:19.656Z"
   },
   {
    "duration": 8,
    "start_time": "2021-11-01T02:36:24.146Z"
   },
   {
    "duration": 24,
    "start_time": "2021-11-01T02:36:24.157Z"
   },
   {
    "duration": 15,
    "start_time": "2021-11-01T02:36:24.184Z"
   },
   {
    "duration": 13,
    "start_time": "2021-11-01T02:36:24.203Z"
   },
   {
    "duration": 4,
    "start_time": "2021-11-01T02:36:24.220Z"
   },
   {
    "duration": 8,
    "start_time": "2021-11-01T02:36:24.227Z"
   },
   {
    "duration": 66,
    "start_time": "2021-11-01T02:36:24.238Z"
   },
   {
    "duration": 13,
    "start_time": "2021-11-01T02:36:24.309Z"
   },
   {
    "duration": 83,
    "start_time": "2021-11-01T02:36:24.325Z"
   },
   {
    "duration": 2293,
    "start_time": "2021-11-01T02:36:24.411Z"
   },
   {
    "duration": 505,
    "start_time": "2021-11-01T02:36:26.707Z"
   },
   {
    "duration": 7,
    "start_time": "2021-11-01T02:36:27.215Z"
   },
   {
    "duration": 6,
    "start_time": "2021-11-01T02:36:27.224Z"
   },
   {
    "duration": 54668,
    "start_time": "2021-11-01T02:36:27.232Z"
   },
   {
    "duration": 7,
    "start_time": "2021-11-01T02:37:21.902Z"
   },
   {
    "duration": 91,
    "start_time": "2021-11-01T02:37:21.912Z"
   },
   {
    "duration": 6,
    "start_time": "2021-11-01T02:41:22.176Z"
   },
   {
    "duration": 29,
    "start_time": "2021-11-01T02:41:22.185Z"
   },
   {
    "duration": 14,
    "start_time": "2021-11-01T02:41:22.218Z"
   },
   {
    "duration": 12,
    "start_time": "2021-11-01T02:41:22.235Z"
   },
   {
    "duration": 4,
    "start_time": "2021-11-01T02:41:22.251Z"
   },
   {
    "duration": 43,
    "start_time": "2021-11-01T02:41:22.258Z"
   },
   {
    "duration": 8,
    "start_time": "2021-11-01T02:41:22.303Z"
   },
   {
    "duration": 11,
    "start_time": "2021-11-01T02:41:22.313Z"
   },
   {
    "duration": 78,
    "start_time": "2021-11-01T02:41:22.327Z"
   },
   {
    "duration": 2166,
    "start_time": "2021-11-01T02:41:22.408Z"
   },
   {
    "duration": 544,
    "start_time": "2021-11-01T02:41:24.577Z"
   },
   {
    "duration": 7,
    "start_time": "2021-11-01T02:41:25.123Z"
   },
   {
    "duration": 5,
    "start_time": "2021-11-01T02:41:25.133Z"
   },
   {
    "duration": 10,
    "start_time": "2021-11-01T02:41:25.141Z"
   },
   {
    "duration": 149,
    "start_time": "2021-11-01T02:41:25.153Z"
   },
   {
    "duration": 68,
    "start_time": "2021-11-01T02:43:17.644Z"
   },
   {
    "duration": 12,
    "start_time": "2021-11-01T02:46:27.164Z"
   },
   {
    "duration": 10,
    "start_time": "2021-11-01T02:46:35.108Z"
   },
   {
    "duration": 8,
    "start_time": "2021-11-01T02:48:05.231Z"
   },
   {
    "duration": 1945,
    "start_time": "2021-11-01T11:47:01.778Z"
   },
   {
    "duration": 23,
    "start_time": "2021-11-01T11:47:03.726Z"
   },
   {
    "duration": 25,
    "start_time": "2021-11-01T11:47:03.752Z"
   },
   {
    "duration": 24,
    "start_time": "2021-11-01T11:47:03.780Z"
   },
   {
    "duration": 9,
    "start_time": "2021-11-01T11:47:03.807Z"
   },
   {
    "duration": 7,
    "start_time": "2021-11-01T11:47:03.819Z"
   },
   {
    "duration": 13,
    "start_time": "2021-11-01T11:47:03.828Z"
   },
   {
    "duration": 12,
    "start_time": "2021-11-01T11:47:03.845Z"
   },
   {
    "duration": 74,
    "start_time": "2021-11-01T11:47:03.860Z"
   },
   {
    "duration": 2262,
    "start_time": "2021-11-01T11:47:03.938Z"
   },
   {
    "duration": 499,
    "start_time": "2021-11-01T11:47:06.202Z"
   },
   {
    "duration": 10,
    "start_time": "2021-11-01T11:47:06.704Z"
   },
   {
    "duration": 7,
    "start_time": "2021-11-01T11:47:06.717Z"
   },
   {
    "duration": 8,
    "start_time": "2021-11-01T11:47:06.727Z"
   },
   {
    "duration": 13,
    "start_time": "2021-11-01T11:47:06.738Z"
   },
   {
    "duration": 56,
    "start_time": "2021-11-01T11:47:06.753Z"
   },
   {
    "duration": 88,
    "start_time": "2021-11-01T11:47:06.812Z"
   },
   {
    "duration": 7,
    "start_time": "2021-11-01T12:13:20.891Z"
   },
   {
    "duration": 8,
    "start_time": "2021-11-01T12:13:30.000Z"
   },
   {
    "duration": 1248,
    "start_time": "2021-11-09T21:38:48.410Z"
   },
   {
    "duration": 19,
    "start_time": "2021-11-09T21:38:49.660Z"
   },
   {
    "duration": 13,
    "start_time": "2021-11-09T21:38:49.681Z"
   },
   {
    "duration": 12,
    "start_time": "2021-11-09T21:38:49.696Z"
   },
   {
    "duration": 2,
    "start_time": "2021-11-09T21:38:49.710Z"
   },
   {
    "duration": 6,
    "start_time": "2021-11-09T21:38:49.714Z"
   },
   {
    "duration": 9,
    "start_time": "2021-11-09T21:38:49.721Z"
   },
   {
    "duration": 7,
    "start_time": "2021-11-09T21:38:49.731Z"
   },
   {
    "duration": 44,
    "start_time": "2021-11-09T21:38:49.740Z"
   },
   {
    "duration": 1422,
    "start_time": "2021-11-09T21:38:49.786Z"
   },
   {
    "duration": 394,
    "start_time": "2021-11-09T21:38:51.209Z"
   },
   {
    "duration": 6,
    "start_time": "2021-11-09T21:38:51.606Z"
   },
   {
    "duration": 6,
    "start_time": "2021-11-09T21:38:51.614Z"
   },
   {
    "duration": 579,
    "start_time": "2021-11-09T21:38:51.622Z"
   },
   {
    "duration": -1277,
    "start_time": "2021-11-09T21:38:53.481Z"
   },
   {
    "duration": -1292,
    "start_time": "2021-11-09T21:38:53.498Z"
   },
   {
    "duration": -1293,
    "start_time": "2021-11-09T21:38:53.500Z"
   },
   {
    "duration": 5,
    "start_time": "2021-11-09T21:39:25.093Z"
   },
   {
    "duration": 622,
    "start_time": "2021-11-09T21:39:27.229Z"
   },
   {
    "duration": 4,
    "start_time": "2021-11-09T21:40:49.172Z"
   },
   {
    "duration": 23,
    "start_time": "2021-11-09T21:40:49.178Z"
   },
   {
    "duration": 11,
    "start_time": "2021-11-09T21:40:49.204Z"
   },
   {
    "duration": 12,
    "start_time": "2021-11-09T21:40:49.218Z"
   },
   {
    "duration": 4,
    "start_time": "2021-11-09T21:40:49.232Z"
   },
   {
    "duration": 11,
    "start_time": "2021-11-09T21:40:49.238Z"
   },
   {
    "duration": 8,
    "start_time": "2021-11-09T21:40:49.263Z"
   },
   {
    "duration": 7,
    "start_time": "2021-11-09T21:40:49.275Z"
   },
   {
    "duration": 25,
    "start_time": "2021-11-09T21:40:49.285Z"
   },
   {
    "duration": 1254,
    "start_time": "2021-11-09T21:40:49.312Z"
   },
   {
    "duration": 362,
    "start_time": "2021-11-09T21:40:50.568Z"
   },
   {
    "duration": 5,
    "start_time": "2021-11-09T21:40:50.932Z"
   },
   {
    "duration": 15,
    "start_time": "2021-11-09T21:40:50.939Z"
   },
   {
    "duration": -1338,
    "start_time": "2021-11-09T21:45:07.924Z"
   },
   {
    "duration": -1339,
    "start_time": "2021-11-09T21:45:07.927Z"
   },
   {
    "duration": -1339,
    "start_time": "2021-11-09T21:45:07.929Z"
   },
   {
    "duration": -1339,
    "start_time": "2021-11-09T21:45:07.931Z"
   },
   {
    "duration": -1338,
    "start_time": "2021-11-09T21:45:07.932Z"
   },
   {
    "duration": -1336,
    "start_time": "2021-11-09T21:45:07.933Z"
   },
   {
    "duration": -1335,
    "start_time": "2021-11-09T21:45:07.934Z"
   },
   {
    "duration": -1334,
    "start_time": "2021-11-09T21:45:07.935Z"
   },
   {
    "duration": -1334,
    "start_time": "2021-11-09T21:45:07.936Z"
   },
   {
    "duration": -1334,
    "start_time": "2021-11-09T21:45:07.938Z"
   },
   {
    "duration": -1333,
    "start_time": "2021-11-09T21:45:07.939Z"
   },
   {
    "duration": -1331,
    "start_time": "2021-11-09T21:45:07.940Z"
   },
   {
    "duration": -1331,
    "start_time": "2021-11-09T21:45:07.942Z"
   },
   {
    "duration": -1303,
    "start_time": "2021-11-09T21:45:07.966Z"
   },
   {
    "duration": -1304,
    "start_time": "2021-11-09T21:45:07.969Z"
   },
   {
    "duration": -1304,
    "start_time": "2021-11-09T21:45:07.970Z"
   },
   {
    "duration": -1304,
    "start_time": "2021-11-09T21:45:07.971Z"
   },
   {
    "duration": 318,
    "start_time": "2021-11-09T21:53:20.117Z"
   },
   {
    "duration": 4,
    "start_time": "2021-11-09T21:53:46.523Z"
   },
   {
    "duration": 22,
    "start_time": "2021-11-09T21:53:46.529Z"
   },
   {
    "duration": 9,
    "start_time": "2021-11-09T21:53:46.554Z"
   },
   {
    "duration": 6,
    "start_time": "2021-11-09T21:53:46.565Z"
   },
   {
    "duration": 6,
    "start_time": "2021-11-09T21:53:46.573Z"
   },
   {
    "duration": 6,
    "start_time": "2021-11-09T21:53:46.581Z"
   },
   {
    "duration": 9,
    "start_time": "2021-11-09T21:53:46.589Z"
   },
   {
    "duration": 8,
    "start_time": "2021-11-09T21:53:46.600Z"
   },
   {
    "duration": 23,
    "start_time": "2021-11-09T21:53:46.610Z"
   },
   {
    "duration": 1241,
    "start_time": "2021-11-09T21:53:46.635Z"
   },
   {
    "duration": 360,
    "start_time": "2021-11-09T21:53:47.878Z"
   },
   {
    "duration": 5,
    "start_time": "2021-11-09T21:53:48.240Z"
   },
   {
    "duration": 17,
    "start_time": "2021-11-09T21:53:48.246Z"
   },
   {
    "duration": -1365,
    "start_time": "2021-11-09T21:58:04.553Z"
   },
   {
    "duration": -1366,
    "start_time": "2021-11-09T21:58:04.556Z"
   },
   {
    "duration": -1366,
    "start_time": "2021-11-09T21:58:04.558Z"
   },
   {
    "duration": -1366,
    "start_time": "2021-11-09T21:58:04.560Z"
   },
   {
    "duration": -1365,
    "start_time": "2021-11-09T21:58:04.561Z"
   },
   {
    "duration": -1366,
    "start_time": "2021-11-09T21:58:04.563Z"
   },
   {
    "duration": -1366,
    "start_time": "2021-11-09T21:58:04.565Z"
   },
   {
    "duration": -1365,
    "start_time": "2021-11-09T21:58:04.566Z"
   },
   {
    "duration": -1366,
    "start_time": "2021-11-09T21:58:04.569Z"
   },
   {
    "duration": -1367,
    "start_time": "2021-11-09T21:58:04.571Z"
   },
   {
    "duration": -1367,
    "start_time": "2021-11-09T21:58:04.573Z"
   },
   {
    "duration": -1367,
    "start_time": "2021-11-09T21:58:04.575Z"
   },
   {
    "duration": -1366,
    "start_time": "2021-11-09T21:58:04.576Z"
   },
   {
    "duration": -1367,
    "start_time": "2021-11-09T21:58:04.578Z"
   },
   {
    "duration": -1367,
    "start_time": "2021-11-09T21:58:04.580Z"
   },
   {
    "duration": -1367,
    "start_time": "2021-11-09T21:58:04.581Z"
   },
   {
    "duration": -1393,
    "start_time": "2021-11-09T21:58:04.608Z"
   },
   {
    "duration": 4,
    "start_time": "2021-11-09T21:59:23.377Z"
   },
   {
    "duration": 24,
    "start_time": "2021-11-09T21:59:23.383Z"
   },
   {
    "duration": 9,
    "start_time": "2021-11-09T21:59:23.410Z"
   },
   {
    "duration": 10,
    "start_time": "2021-11-09T21:59:23.421Z"
   },
   {
    "duration": 3,
    "start_time": "2021-11-09T21:59:23.433Z"
   },
   {
    "duration": 6,
    "start_time": "2021-11-09T21:59:23.438Z"
   },
   {
    "duration": 22,
    "start_time": "2021-11-09T21:59:23.445Z"
   },
   {
    "duration": 7,
    "start_time": "2021-11-09T21:59:23.469Z"
   },
   {
    "duration": 28,
    "start_time": "2021-11-09T21:59:23.478Z"
   },
   {
    "duration": 1217,
    "start_time": "2021-11-09T21:59:23.507Z"
   },
   {
    "duration": 384,
    "start_time": "2021-11-09T21:59:24.726Z"
   },
   {
    "duration": 6,
    "start_time": "2021-11-09T21:59:25.112Z"
   },
   {
    "duration": 15,
    "start_time": "2021-11-09T21:59:25.119Z"
   },
   {
    "duration": -1388,
    "start_time": "2021-11-09T22:03:49.891Z"
   },
   {
    "duration": -1390,
    "start_time": "2021-11-09T22:03:49.894Z"
   },
   {
    "duration": -1390,
    "start_time": "2021-11-09T22:03:49.895Z"
   },
   {
    "duration": -1391,
    "start_time": "2021-11-09T22:03:49.897Z"
   },
   {
    "duration": -1392,
    "start_time": "2021-11-09T22:03:49.899Z"
   },
   {
    "duration": -1392,
    "start_time": "2021-11-09T22:03:49.900Z"
   },
   {
    "duration": -1394,
    "start_time": "2021-11-09T22:03:49.902Z"
   },
   {
    "duration": -1394,
    "start_time": "2021-11-09T22:03:49.903Z"
   },
   {
    "duration": -1394,
    "start_time": "2021-11-09T22:03:49.905Z"
   },
   {
    "duration": -1395,
    "start_time": "2021-11-09T22:03:49.906Z"
   },
   {
    "duration": -1396,
    "start_time": "2021-11-09T22:03:49.908Z"
   },
   {
    "duration": -1397,
    "start_time": "2021-11-09T22:03:49.910Z"
   },
   {
    "duration": -1398,
    "start_time": "2021-11-09T22:03:49.912Z"
   },
   {
    "duration": -1398,
    "start_time": "2021-11-09T22:03:49.913Z"
   },
   {
    "duration": -1398,
    "start_time": "2021-11-09T22:03:49.914Z"
   },
   {
    "duration": -1399,
    "start_time": "2021-11-09T22:03:49.916Z"
   },
   {
    "duration": -1399,
    "start_time": "2021-11-09T22:03:49.917Z"
   },
   {
    "duration": 4,
    "start_time": "2021-11-09T22:04:39.372Z"
   },
   {
    "duration": 25,
    "start_time": "2021-11-09T22:04:39.378Z"
   },
   {
    "duration": 12,
    "start_time": "2021-11-09T22:04:39.405Z"
   },
   {
    "duration": 9,
    "start_time": "2021-11-09T22:04:39.419Z"
   },
   {
    "duration": 4,
    "start_time": "2021-11-09T22:04:39.429Z"
   },
   {
    "duration": 12,
    "start_time": "2021-11-09T22:04:39.434Z"
   },
   {
    "duration": 17,
    "start_time": "2021-11-09T22:04:39.447Z"
   },
   {
    "duration": 7,
    "start_time": "2021-11-09T22:04:39.466Z"
   },
   {
    "duration": 21,
    "start_time": "2021-11-09T22:04:39.476Z"
   },
   {
    "duration": 1211,
    "start_time": "2021-11-09T22:04:39.499Z"
   },
   {
    "duration": 359,
    "start_time": "2021-11-09T22:04:40.712Z"
   },
   {
    "duration": 6,
    "start_time": "2021-11-09T22:04:41.072Z"
   },
   {
    "duration": 5,
    "start_time": "2021-11-09T22:04:41.080Z"
   },
   {
    "duration": 4,
    "start_time": "2021-11-09T22:44:11.849Z"
   },
   {
    "duration": 29,
    "start_time": "2021-11-09T22:44:11.855Z"
   },
   {
    "duration": 14,
    "start_time": "2021-11-09T22:44:11.886Z"
   },
   {
    "duration": 22,
    "start_time": "2021-11-09T22:44:11.902Z"
   },
   {
    "duration": 19,
    "start_time": "2021-11-09T22:44:11.926Z"
   },
   {
    "duration": 12,
    "start_time": "2021-11-09T22:44:11.947Z"
   },
   {
    "duration": 12,
    "start_time": "2021-11-09T22:44:11.961Z"
   },
   {
    "duration": 8,
    "start_time": "2021-11-09T22:44:11.976Z"
   },
   {
    "duration": 37,
    "start_time": "2021-11-09T22:44:11.986Z"
   },
   {
    "duration": 1351,
    "start_time": "2021-11-09T22:44:12.025Z"
   },
   {
    "duration": 363,
    "start_time": "2021-11-09T22:44:13.378Z"
   },
   {
    "duration": 6,
    "start_time": "2021-11-09T22:44:13.743Z"
   },
   {
    "duration": 14,
    "start_time": "2021-11-09T22:44:13.751Z"
   },
   {
    "duration": -1523,
    "start_time": "2021-11-09T22:48:28.196Z"
   },
   {
    "duration": -1523,
    "start_time": "2021-11-09T22:48:28.199Z"
   },
   {
    "duration": -1523,
    "start_time": "2021-11-09T22:48:28.202Z"
   },
   {
    "duration": -1522,
    "start_time": "2021-11-09T22:48:28.204Z"
   },
   {
    "duration": -1519,
    "start_time": "2021-11-09T22:48:28.205Z"
   },
   {
    "duration": -1518,
    "start_time": "2021-11-09T22:48:28.207Z"
   },
   {
    "duration": -1520,
    "start_time": "2021-11-09T22:48:28.212Z"
   },
   {
    "duration": -1518,
    "start_time": "2021-11-09T22:48:28.214Z"
   },
   {
    "duration": -1515,
    "start_time": "2021-11-09T22:48:28.215Z"
   },
   {
    "duration": -1517,
    "start_time": "2021-11-09T22:48:28.280Z"
   },
   {
    "duration": -1516,
    "start_time": "2021-11-09T22:48:28.283Z"
   },
   {
    "duration": -1515,
    "start_time": "2021-11-09T22:48:28.285Z"
   },
   {
    "duration": -1515,
    "start_time": "2021-11-09T22:48:28.289Z"
   },
   {
    "duration": -1516,
    "start_time": "2021-11-09T22:48:28.293Z"
   },
   {
    "duration": -1516,
    "start_time": "2021-11-09T22:48:28.297Z"
   },
   {
    "duration": -1517,
    "start_time": "2021-11-09T22:48:28.299Z"
   },
   {
    "duration": -1516,
    "start_time": "2021-11-09T22:48:28.301Z"
   },
   {
    "duration": 4,
    "start_time": "2021-11-10T00:28:46.407Z"
   },
   {
    "duration": 23,
    "start_time": "2021-11-10T00:28:46.412Z"
   },
   {
    "duration": 9,
    "start_time": "2021-11-10T00:28:46.437Z"
   },
   {
    "duration": 8,
    "start_time": "2021-11-10T00:28:46.448Z"
   },
   {
    "duration": 3,
    "start_time": "2021-11-10T00:28:46.457Z"
   },
   {
    "duration": 5,
    "start_time": "2021-11-10T00:28:46.462Z"
   },
   {
    "duration": 10,
    "start_time": "2021-11-10T00:28:46.469Z"
   },
   {
    "duration": 8,
    "start_time": "2021-11-10T00:28:46.480Z"
   },
   {
    "duration": 22,
    "start_time": "2021-11-10T00:28:46.491Z"
   },
   {
    "duration": 1326,
    "start_time": "2021-11-10T00:28:46.515Z"
   },
   {
    "duration": 395,
    "start_time": "2021-11-10T00:28:47.842Z"
   },
   {
    "duration": 5,
    "start_time": "2021-11-10T00:28:48.239Z"
   },
   {
    "duration": 10,
    "start_time": "2021-11-10T00:28:48.245Z"
   },
   {
    "duration": -1913,
    "start_time": "2021-11-10T00:33:11.343Z"
   },
   {
    "duration": -1914,
    "start_time": "2021-11-10T00:33:11.346Z"
   },
   {
    "duration": -1915,
    "start_time": "2021-11-10T00:33:11.349Z"
   },
   {
    "duration": -1914,
    "start_time": "2021-11-10T00:33:11.350Z"
   },
   {
    "duration": -1914,
    "start_time": "2021-11-10T00:33:11.352Z"
   },
   {
    "duration": -1921,
    "start_time": "2021-11-10T00:33:11.361Z"
   },
   {
    "duration": -1921,
    "start_time": "2021-11-10T00:33:11.363Z"
   },
   {
    "duration": -1921,
    "start_time": "2021-11-10T00:33:11.365Z"
   },
   {
    "duration": -1924,
    "start_time": "2021-11-10T00:33:11.370Z"
   },
   {
    "duration": -1924,
    "start_time": "2021-11-10T00:33:11.372Z"
   },
   {
    "duration": -1924,
    "start_time": "2021-11-10T00:33:11.374Z"
   },
   {
    "duration": -1923,
    "start_time": "2021-11-10T00:33:11.375Z"
   },
   {
    "duration": -1923,
    "start_time": "2021-11-10T00:33:11.377Z"
   },
   {
    "duration": -1935,
    "start_time": "2021-11-10T00:33:11.390Z"
   },
   {
    "duration": -1934,
    "start_time": "2021-11-10T00:33:11.391Z"
   },
   {
    "duration": -1931,
    "start_time": "2021-11-10T00:33:11.393Z"
   },
   {
    "duration": -1930,
    "start_time": "2021-11-10T00:33:11.394Z"
   },
   {
    "duration": -1930,
    "start_time": "2021-11-10T00:33:11.396Z"
   },
   {
    "duration": 4,
    "start_time": "2021-11-10T00:33:17.542Z"
   },
   {
    "duration": 22,
    "start_time": "2021-11-10T00:33:17.548Z"
   },
   {
    "duration": 9,
    "start_time": "2021-11-10T00:33:17.572Z"
   },
   {
    "duration": 15,
    "start_time": "2021-11-10T00:33:17.583Z"
   },
   {
    "duration": 6,
    "start_time": "2021-11-10T00:33:17.600Z"
   },
   {
    "duration": 14,
    "start_time": "2021-11-10T00:33:17.608Z"
   },
   {
    "duration": 16,
    "start_time": "2021-11-10T00:33:17.623Z"
   },
   {
    "duration": 12,
    "start_time": "2021-11-10T00:33:17.641Z"
   },
   {
    "duration": 21,
    "start_time": "2021-11-10T00:33:17.656Z"
   },
   {
    "duration": 1326,
    "start_time": "2021-11-10T00:33:17.679Z"
   },
   {
    "duration": 361,
    "start_time": "2021-11-10T00:33:19.007Z"
   },
   {
    "duration": 6,
    "start_time": "2021-11-10T00:33:19.369Z"
   },
   {
    "duration": 10,
    "start_time": "2021-11-10T00:33:19.376Z"
   },
   {
    "duration": 496,
    "start_time": "2021-11-10T00:33:19.388Z"
   },
   {
    "duration": -1915,
    "start_time": "2021-11-10T00:33:21.801Z"
   },
   {
    "duration": -1917,
    "start_time": "2021-11-10T00:33:21.804Z"
   },
   {
    "duration": -1918,
    "start_time": "2021-11-10T00:33:21.806Z"
   },
   {
    "duration": -1919,
    "start_time": "2021-11-10T00:33:21.808Z"
   },
   {
    "duration": 4,
    "start_time": "2021-11-10T01:06:35.236Z"
   },
   {
    "duration": 26,
    "start_time": "2021-11-10T01:06:35.242Z"
   },
   {
    "duration": 12,
    "start_time": "2021-11-10T01:06:35.270Z"
   },
   {
    "duration": 9,
    "start_time": "2021-11-10T01:06:35.284Z"
   },
   {
    "duration": 3,
    "start_time": "2021-11-10T01:06:35.295Z"
   },
   {
    "duration": 5,
    "start_time": "2021-11-10T01:06:35.300Z"
   },
   {
    "duration": 9,
    "start_time": "2021-11-10T01:06:35.307Z"
   },
   {
    "duration": 11,
    "start_time": "2021-11-10T01:06:35.317Z"
   },
   {
    "duration": 43,
    "start_time": "2021-11-10T01:06:35.330Z"
   },
   {
    "duration": 1204,
    "start_time": "2021-11-10T01:06:35.374Z"
   },
   {
    "duration": 524,
    "start_time": "2021-11-10T01:06:36.580Z"
   },
   {
    "duration": 5,
    "start_time": "2021-11-10T01:06:37.106Z"
   },
   {
    "duration": 6,
    "start_time": "2021-11-10T01:06:37.112Z"
   },
   {
    "duration": 11,
    "start_time": "2021-11-10T01:06:37.119Z"
   },
   {
    "duration": 36,
    "start_time": "2021-11-10T01:06:37.132Z"
   },
   {
    "duration": 11,
    "start_time": "2021-11-10T01:06:37.171Z"
   },
   {
    "duration": 8,
    "start_time": "2021-11-10T01:06:37.264Z"
   },
   {
    "duration": 89,
    "start_time": "2021-11-10T01:06:37.274Z"
   },
   {
    "duration": 5,
    "start_time": "2021-11-10T01:07:22.769Z"
   },
   {
    "duration": 21,
    "start_time": "2021-11-10T01:07:22.776Z"
   },
   {
    "duration": 10,
    "start_time": "2021-11-10T01:07:22.799Z"
   },
   {
    "duration": 13,
    "start_time": "2021-11-10T01:07:22.811Z"
   },
   {
    "duration": 4,
    "start_time": "2021-11-10T01:07:22.826Z"
   },
   {
    "duration": 8,
    "start_time": "2021-11-10T01:07:22.831Z"
   },
   {
    "duration": 8,
    "start_time": "2021-11-10T01:07:22.840Z"
   },
   {
    "duration": 20,
    "start_time": "2021-11-10T01:07:22.850Z"
   },
   {
    "duration": 24,
    "start_time": "2021-11-10T01:07:22.872Z"
   },
   {
    "duration": 1209,
    "start_time": "2021-11-10T01:07:22.897Z"
   },
   {
    "duration": 366,
    "start_time": "2021-11-10T01:07:24.108Z"
   },
   {
    "duration": 6,
    "start_time": "2021-11-10T01:07:24.477Z"
   },
   {
    "duration": 8,
    "start_time": "2021-11-10T01:07:24.485Z"
   },
   {
    "duration": 7,
    "start_time": "2021-11-10T01:07:24.495Z"
   },
   {
    "duration": 63,
    "start_time": "2021-11-10T01:07:24.504Z"
   },
   {
    "duration": 9,
    "start_time": "2021-11-10T01:07:24.569Z"
   },
   {
    "duration": 86,
    "start_time": "2021-11-10T01:07:24.580Z"
   },
   {
    "duration": 15,
    "start_time": "2021-11-10T01:07:24.668Z"
   },
   {
    "duration": 4,
    "start_time": "2021-11-10T01:07:40.018Z"
   },
   {
    "duration": 22,
    "start_time": "2021-11-10T01:07:40.024Z"
   },
   {
    "duration": 15,
    "start_time": "2021-11-10T01:07:40.049Z"
   },
   {
    "duration": 12,
    "start_time": "2021-11-10T01:07:40.066Z"
   },
   {
    "duration": 8,
    "start_time": "2021-11-10T01:07:40.080Z"
   },
   {
    "duration": 7,
    "start_time": "2021-11-10T01:07:40.090Z"
   },
   {
    "duration": 17,
    "start_time": "2021-11-10T01:07:40.099Z"
   },
   {
    "duration": 11,
    "start_time": "2021-11-10T01:07:40.118Z"
   },
   {
    "duration": 34,
    "start_time": "2021-11-10T01:07:40.132Z"
   },
   {
    "duration": 1316,
    "start_time": "2021-11-10T01:07:40.169Z"
   },
   {
    "duration": 349,
    "start_time": "2021-11-10T01:07:41.487Z"
   },
   {
    "duration": 5,
    "start_time": "2021-11-10T01:07:41.838Z"
   },
   {
    "duration": 18,
    "start_time": "2021-11-10T01:07:41.845Z"
   },
   {
    "duration": 5,
    "start_time": "2021-11-10T01:07:41.865Z"
   },
   {
    "duration": 8,
    "start_time": "2021-11-10T01:07:41.871Z"
   },
   {
    "duration": 90,
    "start_time": "2021-11-10T01:07:41.881Z"
   },
   {
    "duration": 9,
    "start_time": "2021-11-10T01:07:41.973Z"
   },
   {
    "duration": 199,
    "start_time": "2021-11-10T01:07:42.064Z"
   },
   {
    "duration": 4,
    "start_time": "2021-11-10T01:08:29.598Z"
   },
   {
    "duration": 25,
    "start_time": "2021-11-10T01:08:29.603Z"
   },
   {
    "duration": 10,
    "start_time": "2021-11-10T01:08:29.630Z"
   },
   {
    "duration": 8,
    "start_time": "2021-11-10T01:08:29.642Z"
   },
   {
    "duration": 6,
    "start_time": "2021-11-10T01:08:29.651Z"
   },
   {
    "duration": 8,
    "start_time": "2021-11-10T01:08:29.658Z"
   },
   {
    "duration": 11,
    "start_time": "2021-11-10T01:08:29.667Z"
   },
   {
    "duration": 12,
    "start_time": "2021-11-10T01:08:29.680Z"
   },
   {
    "duration": 26,
    "start_time": "2021-11-10T01:08:29.694Z"
   },
   {
    "duration": 1211,
    "start_time": "2021-11-10T01:08:29.722Z"
   },
   {
    "duration": 380,
    "start_time": "2021-11-10T01:08:30.935Z"
   },
   {
    "duration": 5,
    "start_time": "2021-11-10T01:08:31.317Z"
   },
   {
    "duration": 9,
    "start_time": "2021-11-10T01:08:31.324Z"
   },
   {
    "duration": 12,
    "start_time": "2021-11-10T01:08:31.335Z"
   },
   {
    "duration": 8,
    "start_time": "2021-11-10T01:08:31.364Z"
   },
   {
    "duration": 90,
    "start_time": "2021-11-10T01:08:31.374Z"
   },
   {
    "duration": 12,
    "start_time": "2021-11-10T01:08:31.466Z"
   },
   {
    "duration": 184,
    "start_time": "2021-11-10T01:08:31.479Z"
   },
   {
    "duration": 4,
    "start_time": "2021-11-10T01:09:11.659Z"
   },
   {
    "duration": 32,
    "start_time": "2021-11-10T01:09:11.665Z"
   },
   {
    "duration": 12,
    "start_time": "2021-11-10T01:09:11.700Z"
   },
   {
    "duration": 7,
    "start_time": "2021-11-10T01:09:11.714Z"
   },
   {
    "duration": 12,
    "start_time": "2021-11-10T01:09:11.723Z"
   },
   {
    "duration": 6,
    "start_time": "2021-11-10T01:09:11.737Z"
   },
   {
    "duration": 20,
    "start_time": "2021-11-10T01:09:11.745Z"
   },
   {
    "duration": 8,
    "start_time": "2021-11-10T01:09:11.768Z"
   },
   {
    "duration": 24,
    "start_time": "2021-11-10T01:09:11.779Z"
   },
   {
    "duration": 1401,
    "start_time": "2021-11-10T01:09:11.804Z"
   },
   {
    "duration": 377,
    "start_time": "2021-11-10T01:09:13.207Z"
   },
   {
    "duration": 6,
    "start_time": "2021-11-10T01:09:13.586Z"
   },
   {
    "duration": 13,
    "start_time": "2021-11-10T01:09:13.593Z"
   },
   {
    "duration": 14,
    "start_time": "2021-11-10T01:09:13.607Z"
   },
   {
    "duration": 41,
    "start_time": "2021-11-10T01:09:13.624Z"
   },
   {
    "duration": 12,
    "start_time": "2021-11-10T01:09:13.668Z"
   },
   {
    "duration": 85,
    "start_time": "2021-11-10T01:09:13.681Z"
   },
   {
    "duration": 97,
    "start_time": "2021-11-10T01:09:13.767Z"
   },
   {
    "duration": 3,
    "start_time": "2021-11-10T01:10:08.623Z"
   },
   {
    "duration": 41,
    "start_time": "2021-11-10T01:10:08.628Z"
   },
   {
    "duration": 13,
    "start_time": "2021-11-10T01:10:08.671Z"
   },
   {
    "duration": 10,
    "start_time": "2021-11-10T01:10:08.687Z"
   },
   {
    "duration": 6,
    "start_time": "2021-11-10T01:10:08.699Z"
   },
   {
    "duration": 13,
    "start_time": "2021-11-10T01:10:08.707Z"
   },
   {
    "duration": 10,
    "start_time": "2021-11-10T01:10:08.722Z"
   },
   {
    "duration": 8,
    "start_time": "2021-11-10T01:10:08.736Z"
   },
   {
    "duration": 22,
    "start_time": "2021-11-10T01:10:08.764Z"
   },
   {
    "duration": 1224,
    "start_time": "2021-11-10T01:10:08.788Z"
   },
   {
    "duration": 361,
    "start_time": "2021-11-10T01:10:10.014Z"
   },
   {
    "duration": 6,
    "start_time": "2021-11-10T01:10:10.376Z"
   },
   {
    "duration": 7,
    "start_time": "2021-11-10T01:10:10.383Z"
   },
   {
    "duration": 11,
    "start_time": "2021-11-10T01:10:10.392Z"
   },
   {
    "duration": 6,
    "start_time": "2021-11-10T01:10:10.405Z"
   },
   {
    "duration": 8,
    "start_time": "2021-11-10T01:10:10.464Z"
   },
   {
    "duration": 95,
    "start_time": "2021-11-10T01:10:10.474Z"
   },
   {
    "duration": 292,
    "start_time": "2021-11-10T01:10:10.572Z"
   },
   {
    "duration": 4,
    "start_time": "2021-11-10T01:11:26.324Z"
   },
   {
    "duration": 20,
    "start_time": "2021-11-10T01:11:26.330Z"
   },
   {
    "duration": 10,
    "start_time": "2021-11-10T01:11:26.352Z"
   },
   {
    "duration": 9,
    "start_time": "2021-11-10T01:11:26.364Z"
   },
   {
    "duration": 5,
    "start_time": "2021-11-10T01:11:26.375Z"
   },
   {
    "duration": 6,
    "start_time": "2021-11-10T01:11:26.381Z"
   },
   {
    "duration": 15,
    "start_time": "2021-11-10T01:11:26.389Z"
   },
   {
    "duration": 8,
    "start_time": "2021-11-10T01:11:26.406Z"
   },
   {
    "duration": 24,
    "start_time": "2021-11-10T01:11:26.416Z"
   },
   {
    "duration": 1200,
    "start_time": "2021-11-10T01:11:26.442Z"
   },
   {
    "duration": 397,
    "start_time": "2021-11-10T01:11:27.644Z"
   },
   {
    "duration": 5,
    "start_time": "2021-11-10T01:11:28.043Z"
   },
   {
    "duration": 16,
    "start_time": "2021-11-10T01:11:28.049Z"
   },
   {
    "duration": 10,
    "start_time": "2021-11-10T01:11:28.068Z"
   },
   {
    "duration": 12,
    "start_time": "2021-11-10T01:11:28.080Z"
   },
   {
    "duration": 83,
    "start_time": "2021-11-10T01:11:28.094Z"
   },
   {
    "duration": 88,
    "start_time": "2021-11-10T01:11:28.179Z"
   },
   {
    "duration": 96,
    "start_time": "2021-11-10T01:11:28.268Z"
   },
   {
    "duration": 4,
    "start_time": "2021-11-10T01:12:06.737Z"
   },
   {
    "duration": 21,
    "start_time": "2021-11-10T01:12:06.742Z"
   },
   {
    "duration": 9,
    "start_time": "2021-11-10T01:12:06.766Z"
   },
   {
    "duration": 8,
    "start_time": "2021-11-10T01:12:06.776Z"
   },
   {
    "duration": 3,
    "start_time": "2021-11-10T01:12:06.785Z"
   },
   {
    "duration": 8,
    "start_time": "2021-11-10T01:12:06.790Z"
   },
   {
    "duration": 9,
    "start_time": "2021-11-10T01:12:06.799Z"
   },
   {
    "duration": 9,
    "start_time": "2021-11-10T01:12:06.810Z"
   },
   {
    "duration": 42,
    "start_time": "2021-11-10T01:12:06.822Z"
   },
   {
    "duration": 1197,
    "start_time": "2021-11-10T01:12:06.866Z"
   },
   {
    "duration": 514,
    "start_time": "2021-11-10T01:12:08.064Z"
   },
   {
    "duration": 6,
    "start_time": "2021-11-10T01:12:08.580Z"
   },
   {
    "duration": 7,
    "start_time": "2021-11-10T01:12:08.588Z"
   },
   {
    "duration": 9,
    "start_time": "2021-11-10T01:12:08.596Z"
   },
   {
    "duration": 58,
    "start_time": "2021-11-10T01:12:08.607Z"
   },
   {
    "duration": 12,
    "start_time": "2021-11-10T01:12:08.668Z"
   },
   {
    "duration": 86,
    "start_time": "2021-11-10T01:12:08.682Z"
   },
   {
    "duration": 95,
    "start_time": "2021-11-10T01:12:08.769Z"
   }
  ],
  "kernelspec": {
   "display_name": "Python 3 (ipykernel)",
   "language": "python",
   "name": "python3"
  },
  "language_info": {
   "codemirror_mode": {
    "name": "ipython",
    "version": 3
   },
   "file_extension": ".py",
   "mimetype": "text/x-python",
   "name": "python",
   "nbconvert_exporter": "python",
   "pygments_lexer": "ipython3",
   "version": "3.9.10"
  },
  "toc": {
   "base_numbering": 1,
   "nav_menu": {},
   "number_sections": true,
   "sideBar": true,
   "skip_h1_title": true,
   "title_cell": "Содержание",
   "title_sidebar": "Contents",
   "toc_cell": true,
   "toc_position": {},
   "toc_section_display": true,
   "toc_window_display": true
  }
 },
 "nbformat": 4,
 "nbformat_minor": 2
}
