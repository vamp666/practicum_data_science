{
 "cells": [
  {
   "cell_type": "markdown",
   "metadata": {},
   "source": [
    "# Game market analysis"
   ]
  },
  {
   "cell_type": "markdown",
   "metadata": {},
   "source": [
    "## Введение"
   ]
  },
  {
   "cell_type": "markdown",
   "metadata": {},
   "source": [
    "I have game sales data, user and expert ratings, genres and platforms. It is necessary to identify the patterns that determine the success of the game and plan the company for 2017. Pre-processing will be carried out, sales by platform will be analyzed, the impact of reviews from critics and users on sales will be assessed, a portrait of users in each region (NA, EU, JP) will be compiled, Action and Sports genre ratings are different."
   ]
  },
  {
   "cell_type": "markdown",
   "metadata": {},
   "source": [
    "## Loading the necessary libraries and getting to know the data"
   ]
  },
  {
   "cell_type": "markdown",
   "metadata": {},
   "source": [
    "At this stage, we will prepare the libraries necessary for the work and the dataframe used."
   ]
  },
  {
   "cell_type": "code",
   "execution_count": 1,
   "metadata": {},
   "outputs": [],
   "source": [
    "import pandas as pd\n",
    "pd.set_option('display.float_format', '{:,.2f}'.format)\n",
    "import numpy as np\n",
    "import seaborn as sns\n",
    "sns.set(color_codes=True)\n",
    "from scipy import stats as st\n",
    "import math as mt\n",
    "import datetime as dt \n",
    "import matplotlib.pyplot as plt\n",
    "from functools import reduce\n",
    "idx = pd.IndexSlice\n",
    "\n",
    "#required libraries loaded"
   ]
  },
  {
   "cell_type": "code",
   "execution_count": 40,
   "metadata": {},
   "outputs": [],
   "source": [
    "font = {'family': 'sans-serif',\n",
    "        'color':  '#a72693',\n",
    "        'weight': 'normal',\n",
    "        'size': 20,\n",
    "        }"
   ]
  },
  {
   "cell_type": "code",
   "execution_count": 41,
   "metadata": {},
   "outputs": [
    {
     "name": "stdout",
     "output_type": "stream",
     "text": [
      "<class 'pandas.core.frame.DataFrame'>\n",
      "RangeIndex: 16715 entries, 0 to 16714\n",
      "Data columns (total 11 columns):\n",
      "Name               16713 non-null object\n",
      "Platform           16715 non-null object\n",
      "Year_of_Release    16446 non-null float64\n",
      "Genre              16713 non-null object\n",
      "NA_sales           16715 non-null float64\n",
      "EU_sales           16715 non-null float64\n",
      "JP_sales           16715 non-null float64\n",
      "Other_sales        16715 non-null float64\n",
      "Critic_Score       8137 non-null float64\n",
      "User_Score         10014 non-null object\n",
      "Rating             9949 non-null object\n",
      "dtypes: float64(6), object(5)\n",
      "memory usage: 1.4+ MB\n"
     ]
    }
   ],
   "source": [
    "games = pd.read_csv('/datasets/games.csv', sep = ',') \n",
    "games.info() #dataset loaded and researched"
   ]
  },
  {
   "cell_type": "markdown",
   "metadata": {},
   "source": [
    "Critical reviews are missing for 8,000 games, and user reviews are missing for 6,000 games. The rating is not available for almost 7 thousand games. Let's see what we can do with it."
   ]
  },
  {
   "cell_type": "code",
   "execution_count": 42,
   "metadata": {
    "scrolled": true
   },
   "outputs": [
    {
     "data": {
      "text/html": [
       "<div>\n",
       "<style scoped>\n",
       "    .dataframe tbody tr th:only-of-type {\n",
       "        vertical-align: middle;\n",
       "    }\n",
       "\n",
       "    .dataframe tbody tr th {\n",
       "        vertical-align: top;\n",
       "    }\n",
       "\n",
       "    .dataframe thead th {\n",
       "        text-align: right;\n",
       "    }\n",
       "</style>\n",
       "<table border=\"1\" class=\"dataframe\">\n",
       "  <thead>\n",
       "    <tr style=\"text-align: right;\">\n",
       "      <th></th>\n",
       "      <th>Name</th>\n",
       "      <th>Platform</th>\n",
       "      <th>Year_of_Release</th>\n",
       "      <th>Genre</th>\n",
       "      <th>NA_sales</th>\n",
       "      <th>EU_sales</th>\n",
       "      <th>JP_sales</th>\n",
       "      <th>Other_sales</th>\n",
       "      <th>Critic_Score</th>\n",
       "      <th>User_Score</th>\n",
       "      <th>Rating</th>\n",
       "    </tr>\n",
       "  </thead>\n",
       "  <tbody>\n",
       "    <tr>\n",
       "      <td>975</td>\n",
       "      <td>Forza Motorsport 6</td>\n",
       "      <td>XOne</td>\n",
       "      <td>2,015.00</td>\n",
       "      <td>Racing</td>\n",
       "      <td>0.73</td>\n",
       "      <td>0.90</td>\n",
       "      <td>0.03</td>\n",
       "      <td>0.14</td>\n",
       "      <td>87.00</td>\n",
       "      <td>7.9</td>\n",
       "      <td>E</td>\n",
       "    </tr>\n",
       "    <tr>\n",
       "      <td>7718</td>\n",
       "      <td>Tom Clancy's Splinter Cell: Essentials</td>\n",
       "      <td>PSP</td>\n",
       "      <td>2,006.00</td>\n",
       "      <td>Shooter</td>\n",
       "      <td>0.17</td>\n",
       "      <td>0.01</td>\n",
       "      <td>0.00</td>\n",
       "      <td>0.02</td>\n",
       "      <td>58.00</td>\n",
       "      <td>7.5</td>\n",
       "      <td>M</td>\n",
       "    </tr>\n",
       "    <tr>\n",
       "      <td>4685</td>\n",
       "      <td>Terraria</td>\n",
       "      <td>PS3</td>\n",
       "      <td>2,013.00</td>\n",
       "      <td>Action</td>\n",
       "      <td>0.07</td>\n",
       "      <td>0.20</td>\n",
       "      <td>0.09</td>\n",
       "      <td>0.05</td>\n",
       "      <td>81.00</td>\n",
       "      <td>7.9</td>\n",
       "      <td>T</td>\n",
       "    </tr>\n",
       "    <tr>\n",
       "      <td>14578</td>\n",
       "      <td>Boot Camp Academy</td>\n",
       "      <td>Wii</td>\n",
       "      <td>2,010.00</td>\n",
       "      <td>Action</td>\n",
       "      <td>0.03</td>\n",
       "      <td>0.00</td>\n",
       "      <td>0.00</td>\n",
       "      <td>0.00</td>\n",
       "      <td>nan</td>\n",
       "      <td>tbd</td>\n",
       "      <td>E10+</td>\n",
       "    </tr>\n",
       "    <tr>\n",
       "      <td>10936</td>\n",
       "      <td>Scooby-Doo! Who's Watching Who?</td>\n",
       "      <td>DS</td>\n",
       "      <td>2,006.00</td>\n",
       "      <td>Adventure</td>\n",
       "      <td>0.08</td>\n",
       "      <td>0.01</td>\n",
       "      <td>0.00</td>\n",
       "      <td>0.01</td>\n",
       "      <td>nan</td>\n",
       "      <td>NaN</td>\n",
       "      <td>NaN</td>\n",
       "    </tr>\n",
       "    <tr>\n",
       "      <td>1720</td>\n",
       "      <td>Ty the Tasmanian Tiger</td>\n",
       "      <td>PS2</td>\n",
       "      <td>2,002.00</td>\n",
       "      <td>Platform</td>\n",
       "      <td>0.57</td>\n",
       "      <td>0.45</td>\n",
       "      <td>0.00</td>\n",
       "      <td>0.15</td>\n",
       "      <td>70.00</td>\n",
       "      <td>8.8</td>\n",
       "      <td>E</td>\n",
       "    </tr>\n",
       "    <tr>\n",
       "      <td>252</td>\n",
       "      <td>Zelda II: The Adventure of Link</td>\n",
       "      <td>NES</td>\n",
       "      <td>1,987.00</td>\n",
       "      <td>Adventure</td>\n",
       "      <td>2.19</td>\n",
       "      <td>0.50</td>\n",
       "      <td>1.61</td>\n",
       "      <td>0.08</td>\n",
       "      <td>nan</td>\n",
       "      <td>NaN</td>\n",
       "      <td>NaN</td>\n",
       "    </tr>\n",
       "    <tr>\n",
       "      <td>6278</td>\n",
       "      <td>Dead Rising 2: Off the Record</td>\n",
       "      <td>X360</td>\n",
       "      <td>2,011.00</td>\n",
       "      <td>Action</td>\n",
       "      <td>0.17</td>\n",
       "      <td>0.08</td>\n",
       "      <td>0.00</td>\n",
       "      <td>0.02</td>\n",
       "      <td>72.00</td>\n",
       "      <td>7.5</td>\n",
       "      <td>M</td>\n",
       "    </tr>\n",
       "    <tr>\n",
       "      <td>6260</td>\n",
       "      <td>M&amp;M's Blast!</td>\n",
       "      <td>GBA</td>\n",
       "      <td>2,001.00</td>\n",
       "      <td>Puzzle</td>\n",
       "      <td>0.20</td>\n",
       "      <td>0.07</td>\n",
       "      <td>0.00</td>\n",
       "      <td>0.00</td>\n",
       "      <td>nan</td>\n",
       "      <td>NaN</td>\n",
       "      <td>NaN</td>\n",
       "    </tr>\n",
       "    <tr>\n",
       "      <td>2977</td>\n",
       "      <td>Mortal Kombat Mythologies: Sub-Zero</td>\n",
       "      <td>PS</td>\n",
       "      <td>1,997.00</td>\n",
       "      <td>Fighting</td>\n",
       "      <td>0.38</td>\n",
       "      <td>0.26</td>\n",
       "      <td>0.00</td>\n",
       "      <td>0.04</td>\n",
       "      <td>nan</td>\n",
       "      <td>NaN</td>\n",
       "      <td>NaN</td>\n",
       "    </tr>\n",
       "  </tbody>\n",
       "</table>\n",
       "</div>"
      ],
      "text/plain": [
       "                                         Name Platform  Year_of_Release  \\\n",
       "975                        Forza Motorsport 6     XOne         2,015.00   \n",
       "7718   Tom Clancy's Splinter Cell: Essentials      PSP         2,006.00   \n",
       "4685                                 Terraria      PS3         2,013.00   \n",
       "14578                       Boot Camp Academy      Wii         2,010.00   \n",
       "10936         Scooby-Doo! Who's Watching Who?       DS         2,006.00   \n",
       "1720                   Ty the Tasmanian Tiger      PS2         2,002.00   \n",
       "252           Zelda II: The Adventure of Link      NES         1,987.00   \n",
       "6278            Dead Rising 2: Off the Record     X360         2,011.00   \n",
       "6260                             M&M's Blast!      GBA         2,001.00   \n",
       "2977      Mortal Kombat Mythologies: Sub-Zero       PS         1,997.00   \n",
       "\n",
       "           Genre  NA_sales  EU_sales  JP_sales  Other_sales  Critic_Score  \\\n",
       "975       Racing      0.73      0.90      0.03         0.14         87.00   \n",
       "7718     Shooter      0.17      0.01      0.00         0.02         58.00   \n",
       "4685      Action      0.07      0.20      0.09         0.05         81.00   \n",
       "14578     Action      0.03      0.00      0.00         0.00           nan   \n",
       "10936  Adventure      0.08      0.01      0.00         0.01           nan   \n",
       "1720    Platform      0.57      0.45      0.00         0.15         70.00   \n",
       "252    Adventure      2.19      0.50      1.61         0.08           nan   \n",
       "6278      Action      0.17      0.08      0.00         0.02         72.00   \n",
       "6260      Puzzle      0.20      0.07      0.00         0.00           nan   \n",
       "2977    Fighting      0.38      0.26      0.00         0.04           nan   \n",
       "\n",
       "      User_Score Rating  \n",
       "975          7.9      E  \n",
       "7718         7.5      M  \n",
       "4685         7.9      T  \n",
       "14578        tbd   E10+  \n",
       "10936        NaN    NaN  \n",
       "1720         8.8      E  \n",
       "252          NaN    NaN  \n",
       "6278         7.5      M  \n",
       "6260         NaN    NaN  \n",
       "2977         NaN    NaN  "
      ]
     },
     "execution_count": 42,
     "metadata": {},
     "output_type": "execute_result"
    }
   ],
   "source": [
    "games.sample(10)"
   ]
  },
  {
   "cell_type": "markdown",
   "metadata": {},
   "source": [
    "### Conclusion"
   ]
  },
  {
   "cell_type": "markdown",
   "metadata": {},
   "source": [
    "Immediately discovered a large number of missing values ​​with information about the ratings of critics, users and age rating. The release year is not in a valid format."
   ]
  },
  {
   "cell_type": "markdown",
   "metadata": {},
   "source": [
    "## Data preparation"
   ]
  },
  {
   "cell_type": "markdown",
   "metadata": {},
   "source": [
    "The lower case is set in the naming of the columns, the name of the column \"Rating\" is replaced by \"ersb\". The values ​​of the column with the year the games were released are given as integers."
   ]
  },
  {
   "cell_type": "code",
   "execution_count": 43,
   "metadata": {
    "scrolled": true
   },
   "outputs": [
    {
     "data": {
      "text/html": [
       "<div>\n",
       "<style scoped>\n",
       "    .dataframe tbody tr th:only-of-type {\n",
       "        vertical-align: middle;\n",
       "    }\n",
       "\n",
       "    .dataframe tbody tr th {\n",
       "        vertical-align: top;\n",
       "    }\n",
       "\n",
       "    .dataframe thead th {\n",
       "        text-align: right;\n",
       "    }\n",
       "</style>\n",
       "<table border=\"1\" class=\"dataframe\">\n",
       "  <thead>\n",
       "    <tr style=\"text-align: right;\">\n",
       "      <th></th>\n",
       "      <th>name</th>\n",
       "      <th>platform</th>\n",
       "      <th>year_of_release</th>\n",
       "      <th>genre</th>\n",
       "      <th>na_sales</th>\n",
       "      <th>eu_sales</th>\n",
       "      <th>jp_sales</th>\n",
       "      <th>other_sales</th>\n",
       "      <th>critic_score</th>\n",
       "      <th>user_score</th>\n",
       "      <th>esrb</th>\n",
       "    </tr>\n",
       "  </thead>\n",
       "  <tbody>\n",
       "    <tr>\n",
       "      <td>5439</td>\n",
       "      <td>World of Final Fantasy</td>\n",
       "      <td>PS4</td>\n",
       "      <td>2016</td>\n",
       "      <td>Role-Playing</td>\n",
       "      <td>0.08</td>\n",
       "      <td>0.14</td>\n",
       "      <td>0.08</td>\n",
       "      <td>0.04</td>\n",
       "      <td>77.00</td>\n",
       "      <td>8.3</td>\n",
       "      <td>E10+</td>\n",
       "    </tr>\n",
       "    <tr>\n",
       "      <td>2123</td>\n",
       "      <td>Disney Tangled</td>\n",
       "      <td>DS</td>\n",
       "      <td>2010</td>\n",
       "      <td>Action</td>\n",
       "      <td>0.53</td>\n",
       "      <td>0.35</td>\n",
       "      <td>0.00</td>\n",
       "      <td>0.09</td>\n",
       "      <td>nan</td>\n",
       "      <td>NaN</td>\n",
       "      <td>NaN</td>\n",
       "    </tr>\n",
       "    <tr>\n",
       "      <td>13109</td>\n",
       "      <td>The Typing of the Dead</td>\n",
       "      <td>DC</td>\n",
       "      <td>2000</td>\n",
       "      <td>Shooter</td>\n",
       "      <td>0.00</td>\n",
       "      <td>0.00</td>\n",
       "      <td>0.05</td>\n",
       "      <td>0.00</td>\n",
       "      <td>83.00</td>\n",
       "      <td>7.8</td>\n",
       "      <td>M</td>\n",
       "    </tr>\n",
       "    <tr>\n",
       "      <td>4044</td>\n",
       "      <td>Kane &amp; Lynch 2: Dog Days</td>\n",
       "      <td>X360</td>\n",
       "      <td>2010</td>\n",
       "      <td>Shooter</td>\n",
       "      <td>0.20</td>\n",
       "      <td>0.22</td>\n",
       "      <td>0.01</td>\n",
       "      <td>0.05</td>\n",
       "      <td>nan</td>\n",
       "      <td>NaN</td>\n",
       "      <td>NaN</td>\n",
       "    </tr>\n",
       "    <tr>\n",
       "      <td>2198</td>\n",
       "      <td>WWE SmackDown vs. Raw 2009</td>\n",
       "      <td>PS3</td>\n",
       "      <td>2008</td>\n",
       "      <td>Fighting</td>\n",
       "      <td>0.51</td>\n",
       "      <td>0.30</td>\n",
       "      <td>0.01</td>\n",
       "      <td>0.12</td>\n",
       "      <td>78.00</td>\n",
       "      <td>7</td>\n",
       "      <td>T</td>\n",
       "    </tr>\n",
       "    <tr>\n",
       "      <td>83</td>\n",
       "      <td>Pokemon Black 2/Pokemon White 2</td>\n",
       "      <td>DS</td>\n",
       "      <td>2012</td>\n",
       "      <td>Role-Playing</td>\n",
       "      <td>2.79</td>\n",
       "      <td>1.72</td>\n",
       "      <td>3.14</td>\n",
       "      <td>0.41</td>\n",
       "      <td>nan</td>\n",
       "      <td>NaN</td>\n",
       "      <td>NaN</td>\n",
       "    </tr>\n",
       "    <tr>\n",
       "      <td>4467</td>\n",
       "      <td>Nicktoons: Attack of the Toybots</td>\n",
       "      <td>Wii</td>\n",
       "      <td>2007</td>\n",
       "      <td>Platform</td>\n",
       "      <td>0.40</td>\n",
       "      <td>0.00</td>\n",
       "      <td>0.00</td>\n",
       "      <td>0.03</td>\n",
       "      <td>60.00</td>\n",
       "      <td>6</td>\n",
       "      <td>E</td>\n",
       "    </tr>\n",
       "    <tr>\n",
       "      <td>6221</td>\n",
       "      <td>Puyo Puyo! 15th Anniversary</td>\n",
       "      <td>DS</td>\n",
       "      <td>2006</td>\n",
       "      <td>Puzzle</td>\n",
       "      <td>0.00</td>\n",
       "      <td>0.00</td>\n",
       "      <td>0.28</td>\n",
       "      <td>0.00</td>\n",
       "      <td>nan</td>\n",
       "      <td>NaN</td>\n",
       "      <td>NaN</td>\n",
       "    </tr>\n",
       "    <tr>\n",
       "      <td>8612</td>\n",
       "      <td>NBA 2K12</td>\n",
       "      <td>PC</td>\n",
       "      <td>2011</td>\n",
       "      <td>Sports</td>\n",
       "      <td>0.09</td>\n",
       "      <td>0.05</td>\n",
       "      <td>0.00</td>\n",
       "      <td>0.02</td>\n",
       "      <td>86.00</td>\n",
       "      <td>7.1</td>\n",
       "      <td>E</td>\n",
       "    </tr>\n",
       "    <tr>\n",
       "      <td>4927</td>\n",
       "      <td>Condemned 2: Bloodshot</td>\n",
       "      <td>PS3</td>\n",
       "      <td>2008</td>\n",
       "      <td>Action</td>\n",
       "      <td>0.17</td>\n",
       "      <td>0.16</td>\n",
       "      <td>0.00</td>\n",
       "      <td>0.06</td>\n",
       "      <td>82.00</td>\n",
       "      <td>8.1</td>\n",
       "      <td>M</td>\n",
       "    </tr>\n",
       "  </tbody>\n",
       "</table>\n",
       "</div>"
      ],
      "text/plain": [
       "                                   name platform  year_of_release  \\\n",
       "5439             World of Final Fantasy      PS4             2016   \n",
       "2123                     Disney Tangled       DS             2010   \n",
       "13109            The Typing of the Dead       DC             2000   \n",
       "4044           Kane & Lynch 2: Dog Days     X360             2010   \n",
       "2198         WWE SmackDown vs. Raw 2009      PS3             2008   \n",
       "83      Pokemon Black 2/Pokemon White 2       DS             2012   \n",
       "4467   Nicktoons: Attack of the Toybots      Wii             2007   \n",
       "6221        Puyo Puyo! 15th Anniversary       DS             2006   \n",
       "8612                           NBA 2K12       PC             2011   \n",
       "4927             Condemned 2: Bloodshot      PS3             2008   \n",
       "\n",
       "              genre  na_sales  eu_sales  jp_sales  other_sales  critic_score  \\\n",
       "5439   Role-Playing      0.08      0.14      0.08         0.04         77.00   \n",
       "2123         Action      0.53      0.35      0.00         0.09           nan   \n",
       "13109       Shooter      0.00      0.00      0.05         0.00         83.00   \n",
       "4044        Shooter      0.20      0.22      0.01         0.05           nan   \n",
       "2198       Fighting      0.51      0.30      0.01         0.12         78.00   \n",
       "83     Role-Playing      2.79      1.72      3.14         0.41           nan   \n",
       "4467       Platform      0.40      0.00      0.00         0.03         60.00   \n",
       "6221         Puzzle      0.00      0.00      0.28         0.00           nan   \n",
       "8612         Sports      0.09      0.05      0.00         0.02         86.00   \n",
       "4927         Action      0.17      0.16      0.00         0.06         82.00   \n",
       "\n",
       "      user_score  esrb  \n",
       "5439         8.3  E10+  \n",
       "2123         NaN   NaN  \n",
       "13109        7.8     M  \n",
       "4044         NaN   NaN  \n",
       "2198           7     T  \n",
       "83           NaN   NaN  \n",
       "4467           6     E  \n",
       "6221         NaN   NaN  \n",
       "8612         7.1     E  \n",
       "4927         8.1     M  "
      ]
     },
     "execution_count": 43,
     "metadata": {},
     "output_type": "execute_result"
    }
   ],
   "source": [
    "games.columns=['name','platform','year_of_release','genre','na_sales', 'eu_sales', 'jp_sales', 'other_sales', 'critic_score', 'user_score', 'esrb']\n",
    "\n",
    "\n",
    "games.dropna(subset=['year_of_release'], inplace=True)\n",
    "games['year_of_release'] = games['year_of_release'].astype(int)\n",
    "games.sample(10)"
   ]
  },
  {
   "cell_type": "markdown",
   "metadata": {},
   "source": [
    "Let's replace the \"tbd\" values ​​in the user reviews column with nan."
   ]
  },
  {
   "cell_type": "code",
   "execution_count": 44,
   "metadata": {},
   "outputs": [
    {
     "name": "stdout",
     "output_type": "stream",
     "text": [
      "<class 'pandas.core.frame.DataFrame'>\n",
      "Int64Index: 16446 entries, 0 to 16714\n",
      "Data columns (total 11 columns):\n",
      "name               16444 non-null object\n",
      "platform           16446 non-null object\n",
      "year_of_release    16446 non-null int64\n",
      "genre              16444 non-null object\n",
      "na_sales           16446 non-null float64\n",
      "eu_sales           16446 non-null float64\n",
      "jp_sales           16446 non-null float64\n",
      "other_sales        16446 non-null float64\n",
      "critic_score       7983 non-null float64\n",
      "user_score         7463 non-null float64\n",
      "esrb               9768 non-null object\n",
      "dtypes: float64(6), int64(1), object(4)\n",
      "memory usage: 1.5+ MB\n"
     ]
    }
   ],
   "source": [
    "#games['user_score'].unique()\n",
    "# games.loc[games['user_score'] == 'tbd','user_score'] = np.nan\n",
    "games['user_score'] = pd.to_numeric(games['user_score'], errors='coerce')\n",
    "games.info()"
   ]
  },
  {
   "cell_type": "code",
   "execution_count": 45,
   "metadata": {},
   "outputs": [
    {
     "data": {
      "text/plain": [
       "array([8. , nan, 8.3, 8.5, 6.6, 8.4, 8.6, 7.7, 6.3, 7.4, 8.2, 9. , 7.9,\n",
       "       8.1, 8.7, 7.1, 3.4, 5.3, 4.8, 3.2, 8.9, 6.4, 7.8, 7.5, 2.6, 7.2,\n",
       "       9.2, 7. , 7.3, 4.3, 7.6, 5.7, 5. , 9.1, 6.5, 8.8, 6.9, 9.4, 6.8,\n",
       "       6.1, 6.7, 5.4, 4. , 4.9, 4.5, 9.3, 6.2, 4.2, 6. , 3.7, 4.1, 5.8,\n",
       "       5.6, 5.5, 4.4, 4.6, 5.9, 3.9, 3.1, 2.9, 5.2, 3.3, 4.7, 5.1, 3.5,\n",
       "       2.5, 1.9, 3. , 2.7, 2.2, 2. , 9.5, 2.1, 3.6, 2.8, 1.8, 3.8, 0. ,\n",
       "       1.6, 9.6, 2.4, 1.7, 1.1, 0.3, 1.5, 0.7, 1.2, 2.3, 0.5, 1.3, 0.2,\n",
       "       0.6, 1.4, 0.9, 1. , 9.7])"
      ]
     },
     "execution_count": 45,
     "metadata": {},
     "output_type": "execute_result"
    }
   ],
   "source": [
    "games['user_score'].unique()"
   ]
  },
  {
   "cell_type": "markdown",
   "metadata": {},
   "source": [
    "And let's bring them to the float format."
   ]
  },
  {
   "cell_type": "code",
   "execution_count": 46,
   "metadata": {
    "scrolled": true
   },
   "outputs": [
    {
     "name": "stdout",
     "output_type": "stream",
     "text": [
      "<class 'pandas.core.frame.DataFrame'>\n",
      "Int64Index: 16446 entries, 0 to 16714\n",
      "Data columns (total 11 columns):\n",
      "name               16444 non-null object\n",
      "platform           16446 non-null object\n",
      "year_of_release    16446 non-null int64\n",
      "genre              16444 non-null object\n",
      "na_sales           16446 non-null float64\n",
      "eu_sales           16446 non-null float64\n",
      "jp_sales           16446 non-null float64\n",
      "other_sales        16446 non-null float64\n",
      "critic_score       7983 non-null float64\n",
      "user_score         7463 non-null float64\n",
      "esrb               9768 non-null object\n",
      "dtypes: float64(6), int64(1), object(4)\n",
      "memory usage: 1.5+ MB\n"
     ]
    }
   ],
   "source": [
    "games['user_score'] = games['user_score'].astype('float')\n",
    "games.info()"
   ]
  },
  {
   "cell_type": "markdown",
   "metadata": {},
   "source": [
    "A column is created with the cumulative amount of sales in millions."
   ]
  },
  {
   "cell_type": "code",
   "execution_count": 47,
   "metadata": {},
   "outputs": [],
   "source": [
    "games['sum_sales'] = games['na_sales'] + games['eu_sales'] + games['jp_sales'] + games['other_sales'] "
   ]
  },
  {
   "cell_type": "markdown",
   "metadata": {},
   "source": [
    "I lowercase the values ​​of the columns with the name and genre of the game, as well as with the name of the platform."
   ]
  },
  {
   "cell_type": "code",
   "execution_count": 48,
   "metadata": {
    "scrolled": true
   },
   "outputs": [
    {
     "data": {
      "text/html": [
       "<div>\n",
       "<style scoped>\n",
       "    .dataframe tbody tr th:only-of-type {\n",
       "        vertical-align: middle;\n",
       "    }\n",
       "\n",
       "    .dataframe tbody tr th {\n",
       "        vertical-align: top;\n",
       "    }\n",
       "\n",
       "    .dataframe thead th {\n",
       "        text-align: right;\n",
       "    }\n",
       "</style>\n",
       "<table border=\"1\" class=\"dataframe\">\n",
       "  <thead>\n",
       "    <tr style=\"text-align: right;\">\n",
       "      <th></th>\n",
       "      <th>name</th>\n",
       "      <th>platform</th>\n",
       "      <th>year_of_release</th>\n",
       "      <th>genre</th>\n",
       "      <th>na_sales</th>\n",
       "      <th>eu_sales</th>\n",
       "      <th>jp_sales</th>\n",
       "      <th>other_sales</th>\n",
       "      <th>critic_score</th>\n",
       "      <th>user_score</th>\n",
       "      <th>esrb</th>\n",
       "      <th>sum_sales</th>\n",
       "    </tr>\n",
       "  </thead>\n",
       "  <tbody>\n",
       "    <tr>\n",
       "      <td>5196</td>\n",
       "      <td>kirby's dream land 3</td>\n",
       "      <td>snes</td>\n",
       "      <td>1997</td>\n",
       "      <td>platform</td>\n",
       "      <td>0.00</td>\n",
       "      <td>0.00</td>\n",
       "      <td>0.36</td>\n",
       "      <td>0.00</td>\n",
       "      <td>nan</td>\n",
       "      <td>nan</td>\n",
       "      <td>NaN</td>\n",
       "      <td>0.36</td>\n",
       "    </tr>\n",
       "    <tr>\n",
       "      <td>13092</td>\n",
       "      <td>the bureau: xcom declassified</td>\n",
       "      <td>pc</td>\n",
       "      <td>2013</td>\n",
       "      <td>shooter</td>\n",
       "      <td>0.00</td>\n",
       "      <td>0.05</td>\n",
       "      <td>0.00</td>\n",
       "      <td>0.00</td>\n",
       "      <td>66.00</td>\n",
       "      <td>6.50</td>\n",
       "      <td>M</td>\n",
       "      <td>0.05</td>\n",
       "    </tr>\n",
       "    <tr>\n",
       "      <td>5613</td>\n",
       "      <td>fortress</td>\n",
       "      <td>gba</td>\n",
       "      <td>2001</td>\n",
       "      <td>action</td>\n",
       "      <td>0.23</td>\n",
       "      <td>0.08</td>\n",
       "      <td>0.00</td>\n",
       "      <td>0.01</td>\n",
       "      <td>64.00</td>\n",
       "      <td>nan</td>\n",
       "      <td>E</td>\n",
       "      <td>0.32</td>\n",
       "    </tr>\n",
       "    <tr>\n",
       "      <td>11259</td>\n",
       "      <td>wing commander iv: the price of freedom</td>\n",
       "      <td>ps</td>\n",
       "      <td>1997</td>\n",
       "      <td>simulation</td>\n",
       "      <td>0.05</td>\n",
       "      <td>0.03</td>\n",
       "      <td>0.00</td>\n",
       "      <td>0.01</td>\n",
       "      <td>nan</td>\n",
       "      <td>nan</td>\n",
       "      <td>NaN</td>\n",
       "      <td>0.09</td>\n",
       "    </tr>\n",
       "    <tr>\n",
       "      <td>9713</td>\n",
       "      <td>the king of fighters '98 ultimate match</td>\n",
       "      <td>ps2</td>\n",
       "      <td>2008</td>\n",
       "      <td>fighting</td>\n",
       "      <td>0.04</td>\n",
       "      <td>0.03</td>\n",
       "      <td>0.03</td>\n",
       "      <td>0.01</td>\n",
       "      <td>nan</td>\n",
       "      <td>nan</td>\n",
       "      <td>NaN</td>\n",
       "      <td>0.11</td>\n",
       "    </tr>\n",
       "    <tr>\n",
       "      <td>8038</td>\n",
       "      <td>csi: fatal conspiracy</td>\n",
       "      <td>ps3</td>\n",
       "      <td>2010</td>\n",
       "      <td>adventure</td>\n",
       "      <td>0.11</td>\n",
       "      <td>0.05</td>\n",
       "      <td>0.00</td>\n",
       "      <td>0.02</td>\n",
       "      <td>39.00</td>\n",
       "      <td>5.60</td>\n",
       "      <td>M</td>\n",
       "      <td>0.18</td>\n",
       "    </tr>\n",
       "    <tr>\n",
       "      <td>11482</td>\n",
       "      <td>pop'n music</td>\n",
       "      <td>wii</td>\n",
       "      <td>2009</td>\n",
       "      <td>misc</td>\n",
       "      <td>0.07</td>\n",
       "      <td>0.00</td>\n",
       "      <td>0.00</td>\n",
       "      <td>0.01</td>\n",
       "      <td>nan</td>\n",
       "      <td>nan</td>\n",
       "      <td>E</td>\n",
       "      <td>0.08</td>\n",
       "    </tr>\n",
       "    <tr>\n",
       "      <td>12808</td>\n",
       "      <td>kimikiss (ebkore+)</td>\n",
       "      <td>ps2</td>\n",
       "      <td>2008</td>\n",
       "      <td>adventure</td>\n",
       "      <td>0.00</td>\n",
       "      <td>0.00</td>\n",
       "      <td>0.06</td>\n",
       "      <td>0.00</td>\n",
       "      <td>nan</td>\n",
       "      <td>nan</td>\n",
       "      <td>NaN</td>\n",
       "      <td>0.06</td>\n",
       "    </tr>\n",
       "    <tr>\n",
       "      <td>8954</td>\n",
       "      <td>tamagotchi collection</td>\n",
       "      <td>ds</td>\n",
       "      <td>2011</td>\n",
       "      <td>misc</td>\n",
       "      <td>0.00</td>\n",
       "      <td>0.00</td>\n",
       "      <td>0.15</td>\n",
       "      <td>0.00</td>\n",
       "      <td>nan</td>\n",
       "      <td>nan</td>\n",
       "      <td>NaN</td>\n",
       "      <td>0.15</td>\n",
       "    </tr>\n",
       "    <tr>\n",
       "      <td>12660</td>\n",
       "      <td>imagine: resort owner</td>\n",
       "      <td>ds</td>\n",
       "      <td>2010</td>\n",
       "      <td>strategy</td>\n",
       "      <td>0.05</td>\n",
       "      <td>0.00</td>\n",
       "      <td>0.00</td>\n",
       "      <td>0.00</td>\n",
       "      <td>nan</td>\n",
       "      <td>nan</td>\n",
       "      <td>E</td>\n",
       "      <td>0.05</td>\n",
       "    </tr>\n",
       "  </tbody>\n",
       "</table>\n",
       "</div>"
      ],
      "text/plain": [
       "                                          name platform  year_of_release  \\\n",
       "5196                      kirby's dream land 3     snes             1997   \n",
       "13092            the bureau: xcom declassified       pc             2013   \n",
       "5613                                  fortress      gba             2001   \n",
       "11259  wing commander iv: the price of freedom       ps             1997   \n",
       "9713   the king of fighters '98 ultimate match      ps2             2008   \n",
       "8038                     csi: fatal conspiracy      ps3             2010   \n",
       "11482                              pop'n music      wii             2009   \n",
       "12808                       kimikiss (ebkore+)      ps2             2008   \n",
       "8954                     tamagotchi collection       ds             2011   \n",
       "12660                    imagine: resort owner       ds             2010   \n",
       "\n",
       "            genre  na_sales  eu_sales  jp_sales  other_sales  critic_score  \\\n",
       "5196     platform      0.00      0.00      0.36         0.00           nan   \n",
       "13092     shooter      0.00      0.05      0.00         0.00         66.00   \n",
       "5613       action      0.23      0.08      0.00         0.01         64.00   \n",
       "11259  simulation      0.05      0.03      0.00         0.01           nan   \n",
       "9713     fighting      0.04      0.03      0.03         0.01           nan   \n",
       "8038    adventure      0.11      0.05      0.00         0.02         39.00   \n",
       "11482        misc      0.07      0.00      0.00         0.01           nan   \n",
       "12808   adventure      0.00      0.00      0.06         0.00           nan   \n",
       "8954         misc      0.00      0.00      0.15         0.00           nan   \n",
       "12660    strategy      0.05      0.00      0.00         0.00           nan   \n",
       "\n",
       "       user_score esrb  sum_sales  \n",
       "5196          nan  NaN       0.36  \n",
       "13092        6.50    M       0.05  \n",
       "5613          nan    E       0.32  \n",
       "11259         nan  NaN       0.09  \n",
       "9713          nan  NaN       0.11  \n",
       "8038         5.60    M       0.18  \n",
       "11482         nan    E       0.08  \n",
       "12808         nan  NaN       0.06  \n",
       "8954          nan  NaN       0.15  \n",
       "12660         nan    E       0.05  "
      ]
     },
     "execution_count": 48,
     "metadata": {},
     "output_type": "execute_result"
    }
   ],
   "source": [
    "games['name'] = games['name'].str.lower()\n",
    "games['platform'] = games['platform'].str.lower()\n",
    "games['genre'] = games['genre'].str.lower()\n",
    "games.sample(10)"
   ]
  },
  {
   "cell_type": "code",
   "execution_count": 49,
   "metadata": {},
   "outputs": [
    {
     "data": {
      "text/plain": [
       "0"
      ]
     },
     "execution_count": 49,
     "metadata": {},
     "output_type": "execute_result"
    }
   ],
   "source": [
    "games.duplicated().sum() #check for duplicates"
   ]
  },
  {
   "cell_type": "markdown",
   "metadata": {},
   "source": [
    "Checking for the number of unknown values by columns."
   ]
  },
  {
   "cell_type": "code",
   "execution_count": 50,
   "metadata": {},
   "outputs": [
    {
     "data": {
      "text/plain": [
       "name               0.01\n",
       "platform           0.00\n",
       "year_of_release    0.00\n",
       "genre              0.01\n",
       "na_sales           0.00\n",
       "eu_sales           0.00\n",
       "jp_sales           0.00\n",
       "other_sales        0.00\n",
       "critic_score      51.46\n",
       "user_score        54.62\n",
       "esrb              40.61\n",
       "sum_sales          0.00\n",
       "dtype: float64"
      ]
     },
     "execution_count": 50,
     "metadata": {},
     "output_type": "execute_result"
    }
   ],
   "source": [
    "#games.isnull().sum().sort_values(ascending = False) / games.shape[0] * 100\n",
    "games.isnull().mean() * 100"
   ]
  },
  {
   "cell_type": "markdown",
   "metadata": {},
   "source": [
    "The missing values are mainly related to information about the various ratings. The lack of ratings from users and critics is probably due to the mechanism of obtaining these data from various sources. Many values with ESRB scores are omitted due to the fact that the ESRB itself was only founded in 1994."
   ]
  },
  {
   "cell_type": "markdown",
   "metadata": {},
   "source": [
    "Filling unknown values in the columns name, genre, esrb with values with a string notification of the absence of data, since even in the absence of this data, it will be possible to judge the rest of the indicators."
   ]
  },
  {
   "cell_type": "code",
   "execution_count": 51,
   "metadata": {},
   "outputs": [
    {
     "data": {
      "text/plain": [
       "array(['E', 'unknown', 'M', 'T', 'E10+', 'AO', 'EC', 'RP'], dtype=object)"
      ]
     },
     "execution_count": 51,
     "metadata": {},
     "output_type": "execute_result"
    }
   ],
   "source": [
    "games['esrb'] = games['esrb'].fillna('unknown')\n",
    "games['genre'] = games['genre'].fillna('no genre')\n",
    "games['name'] = games['name'].fillna('noname')\n",
    "\n",
    "games.loc[games['esrb'] == 'K-A', 'esrb'] = 'E' #также заменим устаревшее значение K-A рейтинга ESRB на сходное новое E\n",
    "games['esrb'].unique()"
   ]
  },
  {
   "cell_type": "code",
   "execution_count": 52,
   "metadata": {},
   "outputs": [
    {
     "data": {
      "text/html": [
       "<div>\n",
       "<style scoped>\n",
       "    .dataframe tbody tr th:only-of-type {\n",
       "        vertical-align: middle;\n",
       "    }\n",
       "\n",
       "    .dataframe tbody tr th {\n",
       "        vertical-align: top;\n",
       "    }\n",
       "\n",
       "    .dataframe thead th {\n",
       "        text-align: right;\n",
       "    }\n",
       "</style>\n",
       "<table border=\"1\" class=\"dataframe\">\n",
       "  <thead>\n",
       "    <tr style=\"text-align: right;\">\n",
       "      <th></th>\n",
       "      <th>name</th>\n",
       "      <th>platform</th>\n",
       "      <th>year_of_release</th>\n",
       "      <th>genre</th>\n",
       "      <th>na_sales</th>\n",
       "      <th>eu_sales</th>\n",
       "      <th>jp_sales</th>\n",
       "      <th>other_sales</th>\n",
       "      <th>critic_score</th>\n",
       "      <th>user_score</th>\n",
       "      <th>esrb</th>\n",
       "      <th>sum_sales</th>\n",
       "    </tr>\n",
       "  </thead>\n",
       "  <tbody>\n",
       "    <tr>\n",
       "      <td>7447</td>\n",
       "      <td>de blob 2</td>\n",
       "      <td>ps3</td>\n",
       "      <td>2011</td>\n",
       "      <td>platform</td>\n",
       "      <td>0.11</td>\n",
       "      <td>0.07</td>\n",
       "      <td>0.00</td>\n",
       "      <td>0.03</td>\n",
       "      <td>74.00</td>\n",
       "      <td>7.10</td>\n",
       "      <td>E10+</td>\n",
       "      <td>0.21</td>\n",
       "    </tr>\n",
       "    <tr>\n",
       "      <td>11594</td>\n",
       "      <td>far cry vengeance</td>\n",
       "      <td>wii</td>\n",
       "      <td>2006</td>\n",
       "      <td>shooter</td>\n",
       "      <td>0.06</td>\n",
       "      <td>0.01</td>\n",
       "      <td>0.00</td>\n",
       "      <td>0.01</td>\n",
       "      <td>38.00</td>\n",
       "      <td>5.30</td>\n",
       "      <td>M</td>\n",
       "      <td>0.08</td>\n",
       "    </tr>\n",
       "    <tr>\n",
       "      <td>6156</td>\n",
       "      <td>mission: impossible - operation surma</td>\n",
       "      <td>ps2</td>\n",
       "      <td>2003</td>\n",
       "      <td>platform</td>\n",
       "      <td>0.14</td>\n",
       "      <td>0.11</td>\n",
       "      <td>0.00</td>\n",
       "      <td>0.04</td>\n",
       "      <td>64.00</td>\n",
       "      <td>7.80</td>\n",
       "      <td>T</td>\n",
       "      <td>0.29</td>\n",
       "    </tr>\n",
       "    <tr>\n",
       "      <td>9737</td>\n",
       "      <td>break 'em all</td>\n",
       "      <td>ds</td>\n",
       "      <td>2005</td>\n",
       "      <td>puzzle</td>\n",
       "      <td>0.11</td>\n",
       "      <td>0.00</td>\n",
       "      <td>0.00</td>\n",
       "      <td>0.01</td>\n",
       "      <td>68.00</td>\n",
       "      <td>nan</td>\n",
       "      <td>E</td>\n",
       "      <td>0.12</td>\n",
       "    </tr>\n",
       "    <tr>\n",
       "      <td>15004</td>\n",
       "      <td>room zoom: race for impact</td>\n",
       "      <td>xb</td>\n",
       "      <td>2004</td>\n",
       "      <td>racing</td>\n",
       "      <td>0.02</td>\n",
       "      <td>0.01</td>\n",
       "      <td>0.00</td>\n",
       "      <td>0.00</td>\n",
       "      <td>nan</td>\n",
       "      <td>nan</td>\n",
       "      <td>unknown</td>\n",
       "      <td>0.03</td>\n",
       "    </tr>\n",
       "    <tr>\n",
       "      <td>14027</td>\n",
       "      <td>steambot chronicles</td>\n",
       "      <td>ps2</td>\n",
       "      <td>2005</td>\n",
       "      <td>role-playing</td>\n",
       "      <td>0.02</td>\n",
       "      <td>0.01</td>\n",
       "      <td>0.00</td>\n",
       "      <td>0.00</td>\n",
       "      <td>74.00</td>\n",
       "      <td>8.20</td>\n",
       "      <td>T</td>\n",
       "      <td>0.03</td>\n",
       "    </tr>\n",
       "    <tr>\n",
       "      <td>7650</td>\n",
       "      <td>zone of the enders hd collection</td>\n",
       "      <td>x360</td>\n",
       "      <td>2012</td>\n",
       "      <td>simulation</td>\n",
       "      <td>0.14</td>\n",
       "      <td>0.03</td>\n",
       "      <td>0.01</td>\n",
       "      <td>0.02</td>\n",
       "      <td>75.00</td>\n",
       "      <td>8.80</td>\n",
       "      <td>M</td>\n",
       "      <td>0.20</td>\n",
       "    </tr>\n",
       "    <tr>\n",
       "      <td>5757</td>\n",
       "      <td>gold's gym: cardio workout (others sales)</td>\n",
       "      <td>wii</td>\n",
       "      <td>2008</td>\n",
       "      <td>sports</td>\n",
       "      <td>0.00</td>\n",
       "      <td>0.29</td>\n",
       "      <td>0.00</td>\n",
       "      <td>0.02</td>\n",
       "      <td>nan</td>\n",
       "      <td>nan</td>\n",
       "      <td>unknown</td>\n",
       "      <td>0.31</td>\n",
       "    </tr>\n",
       "    <tr>\n",
       "      <td>11792</td>\n",
       "      <td>famicom mini: hikari shinwa: palutena no kagami</td>\n",
       "      <td>gba</td>\n",
       "      <td>2004</td>\n",
       "      <td>platform</td>\n",
       "      <td>0.00</td>\n",
       "      <td>0.00</td>\n",
       "      <td>0.07</td>\n",
       "      <td>0.00</td>\n",
       "      <td>nan</td>\n",
       "      <td>nan</td>\n",
       "      <td>unknown</td>\n",
       "      <td>0.07</td>\n",
       "    </tr>\n",
       "    <tr>\n",
       "      <td>7061</td>\n",
       "      <td>final fantasy xi: treasures of aht urhgan</td>\n",
       "      <td>ps2</td>\n",
       "      <td>2006</td>\n",
       "      <td>role-playing</td>\n",
       "      <td>0.06</td>\n",
       "      <td>0.05</td>\n",
       "      <td>0.10</td>\n",
       "      <td>0.02</td>\n",
       "      <td>87.00</td>\n",
       "      <td>7.10</td>\n",
       "      <td>T</td>\n",
       "      <td>0.23</td>\n",
       "    </tr>\n",
       "  </tbody>\n",
       "</table>\n",
       "</div>"
      ],
      "text/plain": [
       "                                                  name platform  \\\n",
       "7447                                         de blob 2      ps3   \n",
       "11594                                far cry vengeance      wii   \n",
       "6156             mission: impossible - operation surma      ps2   \n",
       "9737                                     break 'em all       ds   \n",
       "15004                       room zoom: race for impact       xb   \n",
       "14027                              steambot chronicles      ps2   \n",
       "7650                  zone of the enders hd collection     x360   \n",
       "5757         gold's gym: cardio workout (others sales)      wii   \n",
       "11792  famicom mini: hikari shinwa: palutena no kagami      gba   \n",
       "7061         final fantasy xi: treasures of aht urhgan      ps2   \n",
       "\n",
       "       year_of_release         genre  na_sales  eu_sales  jp_sales  \\\n",
       "7447              2011      platform      0.11      0.07      0.00   \n",
       "11594             2006       shooter      0.06      0.01      0.00   \n",
       "6156              2003      platform      0.14      0.11      0.00   \n",
       "9737              2005        puzzle      0.11      0.00      0.00   \n",
       "15004             2004        racing      0.02      0.01      0.00   \n",
       "14027             2005  role-playing      0.02      0.01      0.00   \n",
       "7650              2012    simulation      0.14      0.03      0.01   \n",
       "5757              2008        sports      0.00      0.29      0.00   \n",
       "11792             2004      platform      0.00      0.00      0.07   \n",
       "7061              2006  role-playing      0.06      0.05      0.10   \n",
       "\n",
       "       other_sales  critic_score  user_score     esrb  sum_sales  \n",
       "7447          0.03         74.00        7.10     E10+       0.21  \n",
       "11594         0.01         38.00        5.30        M       0.08  \n",
       "6156          0.04         64.00        7.80        T       0.29  \n",
       "9737          0.01         68.00         nan        E       0.12  \n",
       "15004         0.00           nan         nan  unknown       0.03  \n",
       "14027         0.00         74.00        8.20        T       0.03  \n",
       "7650          0.02         75.00        8.80        M       0.20  \n",
       "5757          0.02           nan         nan  unknown       0.31  \n",
       "11792         0.00           nan         nan  unknown       0.07  \n",
       "7061          0.02         87.00        7.10        T       0.23  "
      ]
     },
     "execution_count": 52,
     "metadata": {},
     "output_type": "execute_result"
    }
   ],
   "source": [
    "games.sample(10)"
   ]
  },
  {
   "cell_type": "markdown",
   "metadata": {},
   "source": [
    "### Conclusion"
   ]
  },
  {
   "cell_type": "markdown",
   "metadata": {},
   "source": [
    "All possible data and column names are reduced to lower case. Release year column corrected. Introduced a column for the amount of sales. Numerical data formats have been corrected. Lost values are standardized and given their name in the genre, age limit, and game name columns. Some outdated values of the column with age ratings have been corrected for the corresponding modern ones."
   ]
  },
  {
   "cell_type": "markdown",
   "metadata": {},
   "source": [
    "## Exploratory data analysis"
   ]
  },
  {
   "cell_type": "markdown",
   "metadata": {},
   "source": [
    "Automated function for creating graphs."
   ]
  },
  {
   "cell_type": "code",
   "execution_count": 53,
   "metadata": {},
   "outputs": [],
   "source": [
    "def create_any_bar(dfr, graph_title, groupby_column, func, y='name'):\n",
    "    plt.style.use('seaborn-pastel')\n",
    "    plt.title(graph_title)\n",
    "    df_to_plot = dfr.groupby(groupby_column)[y]\n",
    "    if func == 'count':\n",
    "        df_to_plot_calculated = df_to_plot.count()\n",
    "        figsize = (15,5)\n",
    "        plot = df_to_plot_calculated.plot(kind='bar', y=y, figsize=figsize, ec='black')\n",
    "    elif func == 'sum':\n",
    "        df_to_plot_calculated = df_to_plot.sum().sort_values()\n",
    "        figsize = (15,10)\n",
    "        plot = df_to_plot_calculated.plot(kind='barh', y=y, figsize=figsize, ec='black')"
   ]
  },
  {
   "cell_type": "markdown",
   "metadata": {},
   "source": [
    "### Game releases by year"
   ]
  },
  {
   "cell_type": "code",
   "execution_count": 54,
   "metadata": {},
   "outputs": [
    {
     "data": {
      "image/png": "[encoded data removed]",
      "text/plain": [
       "<Figure size 1080x360 with 1 Axes>"
      ]
     },
     "metadata": {},
     "output_type": "display_data"
    }
   ],
   "source": [
    "create_any_bar(games,'Выпуск игр по годам', 'year_of_release', 'count')"
   ]
  },
  {
   "cell_type": "markdown",
   "metadata": {},
   "source": [
    "The first stage can be periodized from 1980 to 1993. During this period, the gaming industry was forming, the release of games was at a consistently low level. From 1993 to 1998, there was a steady growth, followed by a slight decline and a sharp exit from the crisis in 2002. The cycle repeated itself and until 2004 there was a slight decline in productivity and an increase in the peak value by 2008-2008. With the rise in popularity of mobile apps, the release of games on platforms plummeted and stagnated by 2013."
   ]
  },
  {
   "cell_type": "markdown",
   "metadata": {},
   "source": [
    "### Sales by platform"
   ]
  },
  {
   "cell_type": "code",
   "execution_count": 55,
   "metadata": {},
   "outputs": [
    {
     "data": {
      "image/png": "[encoded data removed]",
      "text/plain": [
       "<Figure size 1080x720 with 1 Axes>"
      ]
     },
     "metadata": {},
     "output_type": "display_data"
    }
   ],
   "source": [
    "create_any_bar(games, 'Продажи по платформам', 'platform', 'sum', 'sum_sales')"
   ]
  },
  {
   "cell_type": "markdown",
   "metadata": {},
   "source": [
    "PS2 games have been the most successful in the market, leading by a wide margin. They are followed by direct competitor Xbox360. In third place is a more modern model of the favorite - PS3, probably lower figures due to the fact that the PS2 had much more time to gain sales."
   ]
  },
  {
   "cell_type": "markdown",
   "metadata": {},
   "source": [
    "#### PS2"
   ]
  },
  {
   "cell_type": "code",
   "execution_count": 56,
   "metadata": {},
   "outputs": [
    {
     "data": {
      "image/png": "[encoded data removed]",
      "text/plain": [
       "<Figure size 1080x360 with 1 Axes>"
      ]
     },
     "metadata": {},
     "output_type": "display_data"
    }
   ],
   "source": [
    "ps2 = games.loc[games['platform'] == 'ps2']\n",
    "create_any_bar(ps2, 'PS2', 'year_of_release', 'count', 'sum_sales')"
   ]
  },
  {
   "cell_type": "markdown",
   "metadata": {},
   "source": [
    "From the release date in 2000, growth in sales until 2002, consistently high sales in a five-year span (until 2006) and a gradual decline until 2011."
   ]
  },
  {
   "cell_type": "markdown",
   "metadata": {},
   "source": [
    "#### x360"
   ]
  },
  {
   "cell_type": "code",
   "execution_count": 57,
   "metadata": {},
   "outputs": [
    {
     "data": {
      "image/png": "[encoded data removed]",
      "text/plain": [
       "<Figure size 1080x360 with 1 Axes>"
      ]
     },
     "metadata": {},
     "output_type": "display_data"
    }
   ],
   "source": [
    "x360 = games.loc[games['platform'] == 'x360']\n",
    "create_any_bar(x360, 'x360', 'year_of_release', 'count', 'sum_sales')"
   ]
  },
  {
   "cell_type": "markdown",
   "metadata": {},
   "source": [
    "The launch of the platform in 2005 and a sharp increase in growth by 2006, followed by a period of steady five-year growth until 2011. In 2012, sales fell and declined until 2016."
   ]
  },
  {
   "cell_type": "markdown",
   "metadata": {},
   "source": [
    "#### PS3"
   ]
  },
  {
   "cell_type": "code",
   "execution_count": 58,
   "metadata": {},
   "outputs": [
    {
     "data": {
      "image/png": "[encoded data removed]",
      "text/plain": [
       "<Figure size 1080x360 with 1 Axes>"
      ]
     },
     "metadata": {},
     "output_type": "display_data"
    }
   ],
   "source": [
    "ps3 = games.loc[games['platform'] == 'ps3']\n",
    "create_any_bar(ps3, 'PS3', 'year_of_release', 'count', 'sum_sales')"
   ]
  },
  {
   "cell_type": "markdown",
   "metadata": {},
   "source": [
    "It can be seen that in 2006 the console was released, from 2007 to the peak value in 2011, there has been a steady growth for 5 years. From 2012 to 2016, there has been a steady decline."
   ]
  },
  {
   "cell_type": "markdown",
   "metadata": {},
   "source": [
    "#### Wii"
   ]
  },
  {
   "cell_type": "code",
   "execution_count": 59,
   "metadata": {},
   "outputs": [
    {
     "data": {
      "image/png": "[encoded data removed]",
      "text/plain": [
       "<Figure size 1080x360 with 1 Axes>"
      ]
     },
     "metadata": {},
     "output_type": "display_data"
    }
   ],
   "source": [
    "wii = games.loc[games['platform'] == 'wii']\n",
    "create_any_bar(wii, 'Wii', 'year_of_release', 'count', 'sum_sales')"
   ]
  },
  {
   "cell_type": "markdown",
   "metadata": {},
   "source": [
    "The release of the console is fixed in 2006. For this console, the five-year period spans the entire cycle of up and down sales, with a peak in 2009. From 2012 to 2016, sales of this console occupy an absolutely insignificant market share."
   ]
  },
  {
   "cell_type": "markdown",
   "metadata": {},
   "source": [
    "#### DS"
   ]
  },
  {
   "cell_type": "code",
   "execution_count": 60,
   "metadata": {},
   "outputs": [
    {
     "data": {
      "image/png": "[encoded data removed]",
      "text/plain": [
       "<Figure size 1080x360 with 1 Axes>"
      ]
     },
     "metadata": {},
     "output_type": "display_data"
    }
   ],
   "source": [
    "ds = games.loc[games['platform'] == 'ds']\n",
    "create_any_bar(ds, 'DS', 'year_of_release', 'count', 'sum_sales')"
   ]
  },
  {
   "cell_type": "markdown",
   "metadata": {},
   "source": [
    "By the time the sales started in 2004, the promotional campaign was not successful, but in the period from 2004 to 2008, significant growth cannot be denied, as well as a five-year decline from 2008 to 2012, after which the values are kept at an absolutely insignificant level."
   ]
  },
  {
   "cell_type": "code",
   "execution_count": 61,
   "metadata": {},
   "outputs": [
    {
     "data": {
      "text/plain": [
       "7.67741935483871"
      ]
     },
     "execution_count": 61,
     "metadata": {},
     "output_type": "execute_result"
    }
   ],
   "source": [
    "pivot2 = games.groupby('platform').nunique().mean()\n",
    "pivot2['year_of_release']"
   ]
  },
  {
   "cell_type": "markdown",
   "metadata": {},
   "source": [
    "In general, the cycle of appearance and disappearance of the new console is concluded in the interval of about 10 years."
   ]
  },
  {
   "cell_type": "markdown",
   "metadata": {},
   "source": [
    "### Actual period"
   ]
  },
  {
   "cell_type": "markdown",
   "metadata": {},
   "source": [
    "I propose to consider the current period as a five-year period. As can be seen from the data for this time for top platforms, depending on the success of sales during this time, both the entire cycle of growth and decline in sales, and the period of growth of this cycle can go through. For the best-selling platform, PS2, the five-year period was only a period of holding the maximum level of sales. Thus, using this time frame, you can be sure that a new game will be on sale during a period that affects the peak popularity of the console, or overlaps with its growth period."
   ]
  },
  {
   "cell_type": "code",
   "execution_count": 62,
   "metadata": {},
   "outputs": [],
   "source": [
    "df = games.loc[games['year_of_release'] >= 2012] #we take into account in the work only games that have been sold for the last five years from 2012 to 2016"
   ]
  },
  {
   "cell_type": "code",
   "execution_count": 63,
   "metadata": {},
   "outputs": [
    {
     "name": "stdout",
     "output_type": "stream",
     "text": [
      "<class 'pandas.core.frame.DataFrame'>\n",
      "Int64Index: 2886 entries, 16 to 16714\n",
      "Data columns (total 12 columns):\n",
      "name               2886 non-null object\n",
      "platform           2886 non-null object\n",
      "year_of_release    2886 non-null int64\n",
      "genre              2886 non-null object\n",
      "na_sales           2886 non-null float64\n",
      "eu_sales           2886 non-null float64\n",
      "jp_sales           2886 non-null float64\n",
      "other_sales        2886 non-null float64\n",
      "critic_score       1312 non-null float64\n",
      "user_score         1531 non-null float64\n",
      "esrb               2886 non-null object\n",
      "sum_sales          2886 non-null float64\n",
      "dtypes: float64(7), int64(1), object(4)\n",
      "memory usage: 293.1+ KB\n"
     ]
    }
   ],
   "source": [
    "df.info()"
   ]
  },
  {
   "cell_type": "code",
   "execution_count": 64,
   "metadata": {},
   "outputs": [
    {
     "data": {
      "text/html": [
       "<div>\n",
       "<style scoped>\n",
       "    .dataframe tbody tr th:only-of-type {\n",
       "        vertical-align: middle;\n",
       "    }\n",
       "\n",
       "    .dataframe tbody tr th {\n",
       "        vertical-align: top;\n",
       "    }\n",
       "\n",
       "    .dataframe thead th {\n",
       "        text-align: right;\n",
       "    }\n",
       "</style>\n",
       "<table border=\"1\" class=\"dataframe\">\n",
       "  <thead>\n",
       "    <tr style=\"text-align: right;\">\n",
       "      <th></th>\n",
       "      <th>name</th>\n",
       "      <th>platform</th>\n",
       "      <th>year_of_release</th>\n",
       "      <th>genre</th>\n",
       "      <th>na_sales</th>\n",
       "      <th>eu_sales</th>\n",
       "      <th>jp_sales</th>\n",
       "      <th>other_sales</th>\n",
       "      <th>critic_score</th>\n",
       "      <th>user_score</th>\n",
       "      <th>esrb</th>\n",
       "      <th>sum_sales</th>\n",
       "    </tr>\n",
       "  </thead>\n",
       "  <tbody>\n",
       "    <tr>\n",
       "      <td>16</td>\n",
       "      <td>grand theft auto v</td>\n",
       "      <td>ps3</td>\n",
       "      <td>2013</td>\n",
       "      <td>action</td>\n",
       "      <td>7.02</td>\n",
       "      <td>9.09</td>\n",
       "      <td>0.98</td>\n",
       "      <td>3.96</td>\n",
       "      <td>97.00</td>\n",
       "      <td>8.20</td>\n",
       "      <td>M</td>\n",
       "      <td>21.05</td>\n",
       "    </tr>\n",
       "    <tr>\n",
       "      <td>23</td>\n",
       "      <td>grand theft auto v</td>\n",
       "      <td>x360</td>\n",
       "      <td>2013</td>\n",
       "      <td>action</td>\n",
       "      <td>9.66</td>\n",
       "      <td>5.14</td>\n",
       "      <td>0.06</td>\n",
       "      <td>1.41</td>\n",
       "      <td>97.00</td>\n",
       "      <td>8.10</td>\n",
       "      <td>M</td>\n",
       "      <td>16.27</td>\n",
       "    </tr>\n",
       "    <tr>\n",
       "      <td>31</td>\n",
       "      <td>call of duty: black ops 3</td>\n",
       "      <td>ps4</td>\n",
       "      <td>2015</td>\n",
       "      <td>shooter</td>\n",
       "      <td>6.03</td>\n",
       "      <td>5.86</td>\n",
       "      <td>0.36</td>\n",
       "      <td>2.38</td>\n",
       "      <td>nan</td>\n",
       "      <td>nan</td>\n",
       "      <td>unknown</td>\n",
       "      <td>14.63</td>\n",
       "    </tr>\n",
       "    <tr>\n",
       "      <td>33</td>\n",
       "      <td>pokemon x/pokemon y</td>\n",
       "      <td>3ds</td>\n",
       "      <td>2013</td>\n",
       "      <td>role-playing</td>\n",
       "      <td>5.28</td>\n",
       "      <td>4.19</td>\n",
       "      <td>4.35</td>\n",
       "      <td>0.78</td>\n",
       "      <td>nan</td>\n",
       "      <td>nan</td>\n",
       "      <td>unknown</td>\n",
       "      <td>14.60</td>\n",
       "    </tr>\n",
       "    <tr>\n",
       "      <td>34</td>\n",
       "      <td>call of duty: black ops ii</td>\n",
       "      <td>ps3</td>\n",
       "      <td>2012</td>\n",
       "      <td>shooter</td>\n",
       "      <td>4.99</td>\n",
       "      <td>5.73</td>\n",
       "      <td>0.65</td>\n",
       "      <td>2.42</td>\n",
       "      <td>83.00</td>\n",
       "      <td>5.30</td>\n",
       "      <td>M</td>\n",
       "      <td>13.79</td>\n",
       "    </tr>\n",
       "    <tr>\n",
       "      <td>...</td>\n",
       "      <td>...</td>\n",
       "      <td>...</td>\n",
       "      <td>...</td>\n",
       "      <td>...</td>\n",
       "      <td>...</td>\n",
       "      <td>...</td>\n",
       "      <td>...</td>\n",
       "      <td>...</td>\n",
       "      <td>...</td>\n",
       "      <td>...</td>\n",
       "      <td>...</td>\n",
       "      <td>...</td>\n",
       "    </tr>\n",
       "    <tr>\n",
       "      <td>16703</td>\n",
       "      <td>strawberry nauts</td>\n",
       "      <td>psv</td>\n",
       "      <td>2016</td>\n",
       "      <td>adventure</td>\n",
       "      <td>0.00</td>\n",
       "      <td>0.00</td>\n",
       "      <td>0.01</td>\n",
       "      <td>0.00</td>\n",
       "      <td>nan</td>\n",
       "      <td>nan</td>\n",
       "      <td>unknown</td>\n",
       "      <td>0.01</td>\n",
       "    </tr>\n",
       "    <tr>\n",
       "      <td>16707</td>\n",
       "      <td>aiyoku no eustia</td>\n",
       "      <td>psv</td>\n",
       "      <td>2014</td>\n",
       "      <td>misc</td>\n",
       "      <td>0.00</td>\n",
       "      <td>0.00</td>\n",
       "      <td>0.01</td>\n",
       "      <td>0.00</td>\n",
       "      <td>nan</td>\n",
       "      <td>nan</td>\n",
       "      <td>unknown</td>\n",
       "      <td>0.01</td>\n",
       "    </tr>\n",
       "    <tr>\n",
       "      <td>16710</td>\n",
       "      <td>samurai warriors: sanada maru</td>\n",
       "      <td>ps3</td>\n",
       "      <td>2016</td>\n",
       "      <td>action</td>\n",
       "      <td>0.00</td>\n",
       "      <td>0.00</td>\n",
       "      <td>0.01</td>\n",
       "      <td>0.00</td>\n",
       "      <td>nan</td>\n",
       "      <td>nan</td>\n",
       "      <td>unknown</td>\n",
       "      <td>0.01</td>\n",
       "    </tr>\n",
       "    <tr>\n",
       "      <td>16712</td>\n",
       "      <td>haitaka no psychedelica</td>\n",
       "      <td>psv</td>\n",
       "      <td>2016</td>\n",
       "      <td>adventure</td>\n",
       "      <td>0.00</td>\n",
       "      <td>0.00</td>\n",
       "      <td>0.01</td>\n",
       "      <td>0.00</td>\n",
       "      <td>nan</td>\n",
       "      <td>nan</td>\n",
       "      <td>unknown</td>\n",
       "      <td>0.01</td>\n",
       "    </tr>\n",
       "    <tr>\n",
       "      <td>16714</td>\n",
       "      <td>winning post 8 2016</td>\n",
       "      <td>psv</td>\n",
       "      <td>2016</td>\n",
       "      <td>simulation</td>\n",
       "      <td>0.00</td>\n",
       "      <td>0.00</td>\n",
       "      <td>0.01</td>\n",
       "      <td>0.00</td>\n",
       "      <td>nan</td>\n",
       "      <td>nan</td>\n",
       "      <td>unknown</td>\n",
       "      <td>0.01</td>\n",
       "    </tr>\n",
       "  </tbody>\n",
       "</table>\n",
       "<p>2886 rows × 12 columns</p>\n",
       "</div>"
      ],
      "text/plain": [
       "                                name platform  year_of_release         genre  \\\n",
       "16                grand theft auto v      ps3             2013        action   \n",
       "23                grand theft auto v     x360             2013        action   \n",
       "31         call of duty: black ops 3      ps4             2015       shooter   \n",
       "33               pokemon x/pokemon y      3ds             2013  role-playing   \n",
       "34        call of duty: black ops ii      ps3             2012       shooter   \n",
       "...                              ...      ...              ...           ...   \n",
       "16703               strawberry nauts      psv             2016     adventure   \n",
       "16707               aiyoku no eustia      psv             2014          misc   \n",
       "16710  samurai warriors: sanada maru      ps3             2016        action   \n",
       "16712        haitaka no psychedelica      psv             2016     adventure   \n",
       "16714            winning post 8 2016      psv             2016    simulation   \n",
       "\n",
       "       na_sales  eu_sales  jp_sales  other_sales  critic_score  user_score  \\\n",
       "16         7.02      9.09      0.98         3.96         97.00        8.20   \n",
       "23         9.66      5.14      0.06         1.41         97.00        8.10   \n",
       "31         6.03      5.86      0.36         2.38           nan         nan   \n",
       "33         5.28      4.19      4.35         0.78           nan         nan   \n",
       "34         4.99      5.73      0.65         2.42         83.00        5.30   \n",
       "...         ...       ...       ...          ...           ...         ...   \n",
       "16703      0.00      0.00      0.01         0.00           nan         nan   \n",
       "16707      0.00      0.00      0.01         0.00           nan         nan   \n",
       "16710      0.00      0.00      0.01         0.00           nan         nan   \n",
       "16712      0.00      0.00      0.01         0.00           nan         nan   \n",
       "16714      0.00      0.00      0.01         0.00           nan         nan   \n",
       "\n",
       "          esrb  sum_sales  \n",
       "16           M      21.05  \n",
       "23           M      16.27  \n",
       "31     unknown      14.63  \n",
       "33     unknown      14.60  \n",
       "34           M      13.79  \n",
       "...        ...        ...  \n",
       "16703  unknown       0.01  \n",
       "16707  unknown       0.01  \n",
       "16710  unknown       0.01  \n",
       "16712  unknown       0.01  \n",
       "16714  unknown       0.01  \n",
       "\n",
       "[2886 rows x 12 columns]"
      ]
     },
     "execution_count": 64,
     "metadata": {},
     "output_type": "execute_result"
    }
   ],
   "source": [
    "df"
   ]
  },
  {
   "cell_type": "markdown",
   "metadata": {},
   "source": [
    "### Potentially profitable platforms"
   ]
  },
  {
   "cell_type": "code",
   "execution_count": 65,
   "metadata": {},
   "outputs": [
    {
     "data": {
      "image/png": "[encoded data removed]",
      "text/plain": [
       "<Figure size 1080x720 with 1 Axes>"
      ]
     },
     "metadata": {},
     "output_type": "display_data"
    }
   ],
   "source": [
    "create_any_bar(df, 'Потенциально выгодные платформы', 'platform', 'sum', 'sum_sales')"
   ]
  },
  {
   "cell_type": "markdown",
   "metadata": {},
   "source": [
    "Over the past five years, PS4 games, the heir to the all-time favorite, the PS2, have been the biggest sellers. They are followed by PS3 games. One can judge the dominance of Sony in the gaming industry in recent years. This is followed by X360, 3DS and XOne. However, it is known that support for X360 was discontinued in early 2016, which means that I will not use games for this platform in my selection, since it cannot guarantee the highest profit. The next ranking position, WiiU, will be used instead."
   ]
  },
  {
   "cell_type": "markdown",
   "metadata": {},
   "source": [
    "For subsequent calculations, we will use data associated exclusively with these five platforms."
   ]
  },
  {
   "cell_type": "code",
   "execution_count": 66,
   "metadata": {},
   "outputs": [
    {
     "name": "stdout",
     "output_type": "stream",
     "text": [
      "<class 'pandas.core.frame.DataFrame'>\n",
      "Int64Index: 1675 entries, 16 to 16710\n",
      "Data columns (total 12 columns):\n",
      "name               1675 non-null object\n",
      "platform           1675 non-null object\n",
      "year_of_release    1675 non-null int64\n",
      "genre              1675 non-null object\n",
      "na_sales           1675 non-null float64\n",
      "eu_sales           1675 non-null float64\n",
      "jp_sales           1675 non-null float64\n",
      "other_sales        1675 non-null float64\n",
      "critic_score       829 non-null float64\n",
      "user_score         936 non-null float64\n",
      "esrb               1675 non-null object\n",
      "sum_sales          1675 non-null float64\n",
      "dtypes: float64(7), int64(1), object(4)\n",
      "memory usage: 170.1+ KB\n"
     ]
    }
   ],
   "source": [
    "potent_benefic = df[df['platform'].isin(['ps4', 'ps3', '3ds', 'xone', 'wiiu'])] \n",
    "potent_benefic.info()"
   ]
  },
  {
   "cell_type": "markdown",
   "metadata": {},
   "source": [
    "### Box and mustache chart of global game sales by platform"
   ]
  },
  {
   "cell_type": "code",
   "execution_count": 67,
   "metadata": {
    "scrolled": true
   },
   "outputs": [
    {
     "data": {
      "image/png": "[encoded data removed]",
      "text/plain": [
       "<Figure size 360x360 with 1 Axes>"
      ]
     },
     "metadata": {},
     "output_type": "display_data"
    }
   ],
   "source": [
    "_ = sns.catplot(x=\"platform\", y='sum_sales', kind=\"box\", data=potent_benefic, orient='v', showfliers = False)"
   ]
  },
  {
   "cell_type": "markdown",
   "metadata": {},
   "source": [
    "The median value of the total fees for all the best-selling platforms of the current time period is approximately equal. Only the 3DS platform is out of line and shows worse results. It is probably not possible to bet on this console."
   ]
  },
  {
   "cell_type": "markdown",
   "metadata": {},
   "source": [
    "### Scatterplot and correlation between reviews and sales"
   ]
  },
  {
   "cell_type": "markdown",
   "metadata": {},
   "source": [
    "I save information about games for which information about the rating of users and critics is known."
   ]
  },
  {
   "cell_type": "code",
   "execution_count": 68,
   "metadata": {},
   "outputs": [],
   "source": [
    "df_corr = df[(df['critic_score'] > 0) & (df['user_score'] > 0)].copy() "
   ]
  },
  {
   "cell_type": "code",
   "execution_count": 69,
   "metadata": {},
   "outputs": [
    {
     "data": {
      "image/png": "[encoded data removed]",
      "text/plain": [
       "<Figure size 720x720 with 9 Axes>"
      ]
     },
     "metadata": {},
     "output_type": "display_data"
    }
   ],
   "source": [
    "pd.plotting.scatter_matrix(df_corr[['critic_score', 'user_score', 'sum_sales']], alpha = 0.3, figsize = (10,10), cmap = 'GnBu')\n",
    "plt.show()"
   ]
  },
  {
   "cell_type": "markdown",
   "metadata": {},
   "source": [
    "Higher User Ratings and Critics Ratings show more profit. Recommended by users and critics games are expected to have more commercial success."
   ]
  },
  {
   "cell_type": "code",
   "execution_count": 70,
   "metadata": {},
   "outputs": [
    {
     "data": {
      "image/png": "[encoded data removed]",
      "text/plain": [
       "<Figure size 648x648 with 2 Axes>"
      ]
     },
     "metadata": {},
     "output_type": "display_data"
    }
   ],
   "source": [
    "plt.figure(figsize=(9,9))\n",
    "sns.heatmap(df_corr[['critic_score', 'user_score', 'sum_sales']].corr(), annot=True, cmap=\"GnBu\", fmt='.2f', annot_kws={'size':16})\n",
    "plt.show()"
   ]
  },
  {
   "cell_type": "markdown",
   "metadata": {},
   "source": [
    "The correlation between total earnings and critical acclaim is indeed significant. But user ratings are not significant for profit. At the same time, it can be noted that user ratings are extremely dependent on critic ratings. Probably, users are guided by it when giving their rating, as well as when choosing a game."
   ]
  },
  {
   "cell_type": "markdown",
   "metadata": {},
   "source": [
    "### Ratio of withdrawals to sales of games on other platforms"
   ]
  },
  {
   "cell_type": "markdown",
   "metadata": {},
   "source": [
    "Let's form a dataframe with information about all platforms, excluding the most sold ones in the current period."
   ]
  },
  {
   "cell_type": "code",
   "execution_count": 71,
   "metadata": {},
   "outputs": [],
   "source": [
    "other_platforms = df[~df['platform'].isin(['ps4', 'ps3', '3ds', 'xone', 'wiiu'])] \n",
    "#other_platforms.sample(5)"
   ]
  },
  {
   "cell_type": "code",
   "execution_count": 72,
   "metadata": {},
   "outputs": [
    {
     "data": {
      "image/png": "[encoded data removed]",
      "text/plain": [
       "<Figure size 720x720 with 9 Axes>"
      ]
     },
     "metadata": {},
     "output_type": "display_data"
    }
   ],
   "source": [
    "pd.plotting.scatter_matrix(other_platforms[['critic_score', 'user_score', 'sum_sales']], alpha = 0.3, figsize = (10,10))\n",
    "plt.show()"
   ]
  },
  {
   "cell_type": "code",
   "execution_count": 73,
   "metadata": {},
   "outputs": [
    {
     "data": {
      "image/png": "[encoded data removed]",
      "text/plain": [
       "<Figure size 720x720 with 2 Axes>"
      ]
     },
     "metadata": {},
     "output_type": "display_data"
    }
   ],
   "source": [
    "plt.figure(figsize=(10,10))\n",
    "sns.heatmap(other_platforms[['critic_score', 'user_score', 'sum_sales']].corr(), annot=True, cmap=\"GnBu\", fmt='.2f', annot_kws={'size':16})\n",
    "plt.show()"
   ]
  },
  {
   "cell_type": "markdown",
   "metadata": {},
   "source": [
    "The correlation of profit and rating scores for the top platforms and for all other market representatives are approximately equal. The conclusions were confirmed."
   ]
  },
  {
   "cell_type": "markdown",
   "metadata": {},
   "source": [
    "### General distribution of games by genre"
   ]
  },
  {
   "cell_type": "code",
   "execution_count": 74,
   "metadata": {},
   "outputs": [
    {
     "data": {
      "image/png": "[encoded data removed]",
      "text/plain": [
       "<Figure size 1080x360 with 1 Axes>"
      ]
     },
     "metadata": {},
     "output_type": "display_data"
    }
   ],
   "source": [
    "ax = plt.gca()\n",
    "\n",
    "pivot = games.groupby('genre').agg({'name': 'count', 'sum_sales': 'sum'}).sort_values(by='name', ascending=False)\n",
    "\n",
    "plot1 = pivot['name']\n",
    "plot1.plot(kind='bar', figsize=(15,5), ec='black', ax=ax, width=0.2, position=1)\n",
    "\n",
    "plot2 = pivot['sum_sales']\n",
    "plot2.plot(kind='bar', figsize=(15,5), ec='black', ax=ax, width=0.2, color='#97F0AA', position=0)\n",
    "\n",
    "ax.legend(['Количество продаж', 'Общая сумма продаж'])\n",
    "plt.show()"
   ]
  },
  {
   "cell_type": "markdown",
   "metadata": {},
   "source": [
    "The most popular genres are Action and Sport. They lead in terms of both quantity and total sales. At the same time, the number of sales of games in the Sports genre is significantly less than Action games, and the total amount of sales differs less significantly. It can be assumed that the cost of sports games is higher. This is followed by Misc, RPG and shooter genres. The least commercially successful genres are related to intellectual activity - Strategy and Puzzle."
   ]
  },
  {
   "cell_type": "markdown",
   "metadata": {},
   "source": [
    "### Conclusion"
   ]
  },
  {
   "cell_type": "markdown",
   "metadata": {},
   "source": [
    "The total release of games for different years was estimated, periodization was carried out. The platforms with the highest sales were identified, and the distribution by years was built on them. The cycle of appearance and disappearance of the platform in 10 years is determined. The current period for assessing the popularity of platforms is 5 years. The data is filtered, values ​​are left in the range of 2012-2016 of the year of release. The most potentially profitable platforms were selected and the global sales of games by platform in the current period were estimated. The influence of user ratings and critics' ratings was assessed, the correlation was calculated. The findings were confirmed on all other data. The most profitable genres of games and genres that are not popular are highlighted."
   ]
  },
  {
   "cell_type": "markdown",
   "metadata": {},
   "source": [
    "## User portrait of each region"
   ]
  },
  {
   "cell_type": "markdown",
   "metadata": {},
   "source": [
    "### Function to compose the graphs"
   ]
  },
  {
   "cell_type": "code",
   "execution_count": 75,
   "metadata": {},
   "outputs": [],
   "source": [
    "def top_in_regions_plot(dfr, groupby, region_sales, ax):\n",
    "    pivot = dfr.groupby(groupby).agg({region_sales: 'sum'}).sort_values(by=region_sales, ascending=False)[:5]\n",
    "    title_dict = {'na_sales': 'North America Sales', 'eu_sales': 'Europe Sales', 'jp_sales': 'Japan Sales'}\n",
    "    color_dict = {'na_sales': None, 'eu_sales': 'gray', 'jp_sales': 'forestgreen'}\n",
    "    plot = pivot.plot(kind='bar', ec='black', title=title_dict[region_sales], ax=axes[ax], \n",
    "                   fontsize=18, color=color_dict[region_sales], rot=20)\n",
    "    plot.legend(prop={'size':17})\n",
    "    plot.set_xlabel('')\n",
    "    plot.title.set_size(20)"
   ]
  },
  {
   "cell_type": "markdown",
   "metadata": {},
   "source": [
    "### Most Popular Platforms by Region"
   ]
  },
  {
   "cell_type": "code",
   "execution_count": 76,
   "metadata": {},
   "outputs": [
    {
     "data": {
      "image/png": "[encoded data removed]",
      "text/plain": [
       "<Figure size 1800x432 with 3 Axes>"
      ]
     },
     "metadata": {},
     "output_type": "display_data"
    }
   ],
   "source": [
    "fig, axes = plt.subplots(1, 3, figsize=(25,6))\n",
    "top_in_regions_plot(games, 'platform', 'na_sales', 0)\n",
    "top_in_regions_plot(games, 'platform', 'eu_sales', 1)\n",
    "top_in_regions_plot(games, 'platform', 'jp_sales', 2)"
   ]
  },
  {
   "cell_type": "markdown",
   "metadata": {},
   "source": [
    "In North America, the X360 and PS2 compete for leadership. Also popular platforms are Wii, PS3 and DS. In Europe, popularity was won by the PS series consoles. PS2 and PS3 are in the first two places, and PS is also in the top five. X360 and Wii are still in the TOP. In Japan, the situation is completely different - DS is in the lead, followed by PS and PS2, then snes and 3DS. Sony products are successful in all markets, but Microsoft can seriously compete for the championship only in North America. In Japan, Nintendo products are a big success."
   ]
  },
  {
   "cell_type": "markdown",
   "metadata": {},
   "source": [
    "### Most Popular Genres by Region"
   ]
  },
  {
   "cell_type": "code",
   "execution_count": 77,
   "metadata": {},
   "outputs": [
    {
     "data": {
      "image/png": "[encoded data removed]",
      "text/plain": [
       "<Figure size 1800x432 with 3 Axes>"
      ]
     },
     "metadata": {},
     "output_type": "display_data"
    }
   ],
   "source": [
    "fig, axes = plt.subplots(1, 3, figsize=(25,6))\n",
    "\n",
    "top_in_regions_plot(games, 'genre', 'na_sales', 0)\n",
    "top_in_regions_plot(games, 'genre', 'eu_sales', 1)\n",
    "top_in_regions_plot(games, 'genre', 'jp_sales', 2)"
   ]
  },
  {
   "cell_type": "markdown",
   "metadata": {},
   "source": [
    "The top three places in North America and Europe are occupied by the same leaders - games of the genre Action, Sports and Shooter. Action and Sports are also successful in Japan, but there is an undisputed champion - RPG."
   ]
  },
  {
   "cell_type": "markdown",
   "metadata": {},
   "source": [
    "### The impact of the ESRB rating on sales in a particular region"
   ]
  },
  {
   "cell_type": "code",
   "execution_count": 78,
   "metadata": {},
   "outputs": [
    {
     "data": {
      "image/png": "[encoded data removed]",
      "text/plain": [
       "<Figure size 1800x432 with 3 Axes>"
      ]
     },
     "metadata": {},
     "output_type": "display_data"
    }
   ],
   "source": [
    "fig, axes = plt.subplots(1, 3, figsize=(25,6))\n",
    "\n",
    "top_in_regions_plot(games, 'esrb', 'na_sales', 0)\n",
    "top_in_regions_plot(games, 'esrb', 'eu_sales', 1)\n",
    "top_in_regions_plot(games, 'esrb', 'jp_sales', 2)"
   ]
  },
  {
   "cell_type": "markdown",
   "metadata": {},
   "source": [
    "Unknown values have too much influence on graphs. They should be removed."
   ]
  },
  {
   "cell_type": "code",
   "execution_count": 79,
   "metadata": {},
   "outputs": [
    {
     "data": {
      "image/png": "[encoded data removed]",
      "text/plain": [
       "<Figure size 1800x432 with 3 Axes>"
      ]
     },
     "metadata": {},
     "output_type": "display_data"
    }
   ],
   "source": [
    "without_esrb = games[~games['esrb'].isin(['unknown'])] \n",
    "fig, axes = plt.subplots(1, 3, figsize=(25,6))\n",
    "\n",
    "top_in_regions_plot(games, 'esrb', 'na_sales', 0)\n",
    "top_in_regions_plot(games, 'esrb', 'eu_sales', 1)\n",
    "top_in_regions_plot(games, 'esrb', 'jp_sales', 2)"
   ]
  },
  {
   "cell_type": "markdown",
   "metadata": {},
   "source": [
    "«EC» («Early childhood») — «Для детей младшего возраста»\n",
    "<br>\n",
    "«E» («Everyone») — «Для всех» \n",
    "<br>\n",
    "«T» («Teen») — «Подросткам» (от 13)\n",
    "<br>\n",
    "«E10+» («Everyone 10 and older») — «Для всех от 10 лет и старше»\n",
    "<br>\n",
    "«M» («Mature») — «Для взрослых» (от 17 лет)\n",
    "<br>\n",
    "«AO» («Adults Only 18+») — «Только для взрослых\n",
    "<br>\n",
    "<br>\n",
    "Games without age restrictions consistently lead in all regions. Teenage games follow in Japan and North America, while adult games sell well in Europe. The situation is generally more or less the same for all regions, however, adult games are less popular in Japan."
   ]
  },
  {
   "cell_type": "markdown",
   "metadata": {},
   "source": [
    "### Conclusion"
   ]
  },
  {
   "cell_type": "markdown",
   "metadata": {},
   "source": [
    "The TOP-5 most profitable platforms of the current time were compiled, the differences in sales shares were described. The TOP-5 most popular genres were identified and the impact of the ESRB rating on sales was assessed."
   ]
  },
  {
   "cell_type": "markdown",
   "metadata": {},
   "source": [
    "## Testing hypotheses"
   ]
  },
  {
   "cell_type": "markdown",
   "metadata": {},
   "source": [
    "To test both hypotheses, we will use the Student's t-test (ttest_ind with equal_var=False), the samples are independent, the variance is different. The critical significance level alpha = 0.01."
   ]
  },
  {
   "cell_type": "markdown",
   "metadata": {},
   "source": [
    "### Average user ratings for Xbox One and PC platforms are the same"
   ]
  },
  {
   "cell_type": "markdown",
   "metadata": {},
   "source": [
    "H0 (null hypothesis) would state that the average user ratings of the Xbox One and PC platforms are the same.\n",
    "<br>\n",
    "H1 (alternative hypothesis), on the contrary, will say that the average user ratings of the Xbox One and PC platforms differ from each other."
   ]
  },
  {
   "cell_type": "code",
   "execution_count": 80,
   "metadata": {},
   "outputs": [],
   "source": [
    "xbox_one = df[(df['platform'] == 'xone') & (df['user_score'] > 0)]\n",
    "pc = df[(df['platform'] == 'pc') & (df['user_score'] > 0)]"
   ]
  },
  {
   "cell_type": "code",
   "execution_count": 81,
   "metadata": {},
   "outputs": [
    {
     "name": "stdout",
     "output_type": "stream",
     "text": [
      "p-значение: 0.5489537965134912\n",
      "Не получилось отвергнуть нулевую гипотезу\n"
     ]
    }
   ],
   "source": [
    "alpha = 0.01\n",
    "\n",
    "results = st.ttest_ind(xbox_one['user_score'], pc['user_score'], equal_var=False)\n",
    "\n",
    "print('p-значение:', results.pvalue)\n",
    "\n",
    "if (results.pvalue < alpha):\n",
    "    print(\"Отвергаем нулевую гипотезу\")\n",
    "else:\n",
    "    print(\"Не получилось отвергнуть нулевую гипотезу\")"
   ]
  },
  {
   "cell_type": "markdown",
   "metadata": {},
   "source": [
    "We cannot judge that the average user ratings of the Xbox One and PC platforms are the same. Let's look at the distributions of these two quantities."
   ]
  },
  {
   "cell_type": "code",
   "execution_count": 82,
   "metadata": {},
   "outputs": [
    {
     "data": {
      "image/png": "[encoded data removed]",
      "text/plain": [
       "<Figure size 432x288 with 1 Axes>"
      ]
     },
     "metadata": {},
     "output_type": "display_data"
    }
   ],
   "source": [
    "xbox_one.boxplot(column=['user_score'], showfliers = False)\n",
    "plt.show()"
   ]
  },
  {
   "cell_type": "code",
   "execution_count": 83,
   "metadata": {},
   "outputs": [
    {
     "data": {
      "image/png": "[encoded data removed]",
      "text/plain": [
       "<Figure size 432x288 with 1 Axes>"
      ]
     },
     "metadata": {},
     "output_type": "display_data"
    }
   ],
   "source": [
    "pc.boxplot(column=['user_score'], showfliers = False)\n",
    "plt.show()"
   ]
  },
  {
   "cell_type": "markdown",
   "metadata": {},
   "source": [
    "As you can see, the median score of PC users is slightly higher."
   ]
  },
  {
   "cell_type": "markdown",
   "metadata": {},
   "source": [
    "### Average user ratings for Action and Sports are different"
   ]
  },
  {
   "cell_type": "markdown",
   "metadata": {},
   "source": [
    "H0 (null hypothesis) would state that the average user ratings of the Action and Sports genres are the same.\n",
    "<br>H1 (alternative hypothesis), on the contrary, will say that the average user ratings of Action and Sports genres differ from each other."
   ]
  },
  {
   "cell_type": "code",
   "execution_count": 84,
   "metadata": {},
   "outputs": [],
   "source": [
    "action = df[(df['genre'] == 'action') & (df['user_score'] > 0)]\n",
    "sports = df[(df['genre'] == 'sports') & (df['user_score'] > 0)]"
   ]
  },
  {
   "cell_type": "code",
   "execution_count": 85,
   "metadata": {},
   "outputs": [
    {
     "name": "stdout",
     "output_type": "stream",
     "text": [
      "p-значение: 4.24307776572644e-20\n",
      "Отвергаем нулевую гипотезу\n"
     ]
    }
   ],
   "source": [
    "alpha = 0.01\n",
    "\n",
    "results = st.ttest_ind(action['user_score'], sports['user_score'], equal_var=False)\n",
    "\n",
    "print('p-значение:', results.pvalue)\n",
    "\n",
    "if (results.pvalue < alpha):\n",
    "    print(\"Отвергаем нулевую гипотезу\")\n",
    "else:\n",
    "    print(\"Не получилось отвергнуть нулевую гипотезу\")"
   ]
  },
  {
   "cell_type": "markdown",
   "metadata": {},
   "source": [
    "Great, chances are that the average user rating for the Action and Sports genres is the same. Let's refine the data by looking at their distribution."
   ]
  },
  {
   "cell_type": "code",
   "execution_count": 86,
   "metadata": {},
   "outputs": [
    {
     "data": {
      "image/png": "[encoded data removed]",
      "text/plain": [
       "<Figure size 432x288 with 1 Axes>"
      ]
     },
     "metadata": {},
     "output_type": "display_data"
    }
   ],
   "source": [
    "action.boxplot(column=['user_score'], showfliers = False)\n",
    "plt.show()"
   ]
  },
  {
   "cell_type": "code",
   "execution_count": 87,
   "metadata": {},
   "outputs": [
    {
     "data": {
      "image/png": "[encoded data removed]",
      "text/plain": [
       "<Figure size 432x288 with 1 Axes>"
      ]
     },
     "metadata": {},
     "output_type": "display_data"
    }
   ],
   "source": [
    "sports.boxplot(column=['user_score'], showfliers = False)\n",
    "plt.show()"
   ]
  },
  {
   "cell_type": "markdown",
   "metadata": {},
   "source": [
    "Yes, the medians look the same."
   ]
  },
  {
   "cell_type": "markdown",
   "metadata": {},
   "source": [
    "## General Conclusion"
   ]
  },
  {
   "cell_type": "markdown",
   "metadata": {},
   "source": [
    "Based on information received up to 2016 and updated for the current period, investments in games for PS4 and PS3, as well as Xbox One and 3DS, seem to be the most promising.\n",
    "<br>The most popular and profitable games will be Action and Sports games, as well as RPG for Japan. Ideally, this should be a game with an age limit of E.\n",
    "<br>A game's profitability is significantly affected by critics' ratings, but the user rating has no such influence, moreover, it is largely determined by critics' reviews.\n",
    "<br>Average user ratings for Xbox One and PC games are different, with a margin in favor of PC.\n",
    "<br>Average user ratings for Action and Sports games are probably the same."
   ]
  }
 ],
 "metadata": {
  "ExecuteTimeLog": [
   {
    "duration": 1535,
    "start_time": "2021-08-06T05:54:43.134Z"
   },
   {
    "duration": 64,
    "start_time": "2021-08-06T05:55:19.624Z"
   },
   {
    "duration": 26,
    "start_time": "2021-08-06T06:03:11.367Z"
   },
   {
    "duration": 65,
    "start_time": "2021-08-06T06:10:05.200Z"
   },
   {
    "duration": 20,
    "start_time": "2021-08-06T06:13:30.125Z"
   },
   {
    "duration": 401,
    "start_time": "2021-08-06T06:17:24.579Z"
   },
   {
    "duration": 290,
    "start_time": "2021-08-06T06:20:40.899Z"
   },
   {
    "duration": 24,
    "start_time": "2021-08-06T06:21:04.276Z"
   },
   {
    "duration": 20,
    "start_time": "2021-08-06T06:21:16.964Z"
   },
   {
    "duration": 297,
    "start_time": "2021-08-06T06:21:39.572Z"
   },
   {
    "duration": 283,
    "start_time": "2021-08-06T06:21:57.579Z"
   },
   {
    "duration": 290,
    "start_time": "2021-08-06T06:22:02.604Z"
   },
   {
    "duration": 24,
    "start_time": "2021-08-06T06:22:46.133Z"
   },
   {
    "duration": 18,
    "start_time": "2021-08-06T06:22:59.124Z"
   },
   {
    "duration": 23,
    "start_time": "2021-08-06T06:23:06.044Z"
   },
   {
    "duration": 18,
    "start_time": "2021-08-06T06:23:37.741Z"
   },
   {
    "duration": 18,
    "start_time": "2021-08-06T06:23:42.684Z"
   },
   {
    "duration": 7,
    "start_time": "2021-08-06T06:23:49.005Z"
   },
   {
    "duration": 60,
    "start_time": "2021-08-06T06:23:49.014Z"
   },
   {
    "duration": 19,
    "start_time": "2021-08-06T06:23:49.077Z"
   },
   {
    "duration": 288,
    "start_time": "2021-08-06T06:23:49.100Z"
   },
   {
    "duration": 16,
    "start_time": "2021-08-06T06:23:55.525Z"
   },
   {
    "duration": 27,
    "start_time": "2021-08-06T06:24:13.076Z"
   },
   {
    "duration": 27,
    "start_time": "2021-08-06T06:24:17.932Z"
   },
   {
    "duration": 6,
    "start_time": "2021-08-06T06:25:47.064Z"
   },
   {
    "duration": 6,
    "start_time": "2021-08-06T06:25:53.222Z"
   },
   {
    "duration": 7,
    "start_time": "2021-08-06T06:26:08.182Z"
   },
   {
    "duration": 8,
    "start_time": "2021-08-06T06:26:27.077Z"
   },
   {
    "duration": 28,
    "start_time": "2021-08-06T06:27:26.213Z"
   },
   {
    "duration": 26,
    "start_time": "2021-08-06T06:28:49.091Z"
   },
   {
    "duration": 8,
    "start_time": "2021-08-06T06:30:38.461Z"
   },
   {
    "duration": 7,
    "start_time": "2021-08-06T06:30:55.461Z"
   },
   {
    "duration": 7,
    "start_time": "2021-08-06T06:31:06.251Z"
   },
   {
    "duration": 15,
    "start_time": "2021-08-06T06:41:59.176Z"
   },
   {
    "duration": 8,
    "start_time": "2021-08-06T06:42:03.288Z"
   },
   {
    "duration": 17,
    "start_time": "2021-08-06T06:49:37.616Z"
   },
   {
    "duration": 19,
    "start_time": "2021-08-06T06:50:02.167Z"
   },
   {
    "duration": 7,
    "start_time": "2021-08-06T06:50:19.239Z"
   },
   {
    "duration": 7,
    "start_time": "2021-08-06T06:50:32.783Z"
   },
   {
    "duration": 59,
    "start_time": "2021-08-06T06:50:32.793Z"
   },
   {
    "duration": 23,
    "start_time": "2021-08-06T06:50:32.860Z"
   },
   {
    "duration": 34,
    "start_time": "2021-08-06T06:50:32.885Z"
   },
   {
    "duration": 7,
    "start_time": "2021-08-06T06:50:32.921Z"
   },
   {
    "duration": 31,
    "start_time": "2021-08-06T06:50:32.930Z"
   },
   {
    "duration": 10,
    "start_time": "2021-08-06T06:50:32.964Z"
   },
   {
    "duration": 7,
    "start_time": "2021-08-06T06:50:44.840Z"
   },
   {
    "duration": 57,
    "start_time": "2021-08-06T06:50:44.851Z"
   },
   {
    "duration": 18,
    "start_time": "2021-08-06T06:50:44.911Z"
   },
   {
    "duration": 46,
    "start_time": "2021-08-06T06:50:44.931Z"
   },
   {
    "duration": 19,
    "start_time": "2021-08-06T06:50:44.980Z"
   },
   {
    "duration": 25,
    "start_time": "2021-08-06T06:50:45.002Z"
   },
   {
    "duration": 17,
    "start_time": "2021-08-06T06:50:45.030Z"
   },
   {
    "duration": 18,
    "start_time": "2021-08-06T06:52:28.143Z"
   },
   {
    "duration": 7159,
    "start_time": "2021-08-06T06:53:42.439Z"
   },
   {
    "duration": 7659,
    "start_time": "2021-08-06T06:53:51.489Z"
   },
   {
    "duration": 68,
    "start_time": "2021-08-06T06:54:07.463Z"
   },
   {
    "duration": 30,
    "start_time": "2021-08-06T06:54:45.960Z"
   },
   {
    "duration": 14,
    "start_time": "2021-08-06T06:55:32.175Z"
   },
   {
    "duration": 13,
    "start_time": "2021-08-06T06:57:51.143Z"
   },
   {
    "duration": 19,
    "start_time": "2021-08-06T06:57:58.895Z"
   },
   {
    "duration": 10,
    "start_time": "2021-08-06T06:58:45.199Z"
   },
   {
    "duration": 7,
    "start_time": "2021-08-06T06:58:50.693Z"
   },
   {
    "duration": 57,
    "start_time": "2021-08-06T06:58:50.728Z"
   },
   {
    "duration": 22,
    "start_time": "2021-08-06T06:58:50.788Z"
   },
   {
    "duration": 56,
    "start_time": "2021-08-06T06:58:50.814Z"
   },
   {
    "duration": 20,
    "start_time": "2021-08-06T06:58:50.873Z"
   },
   {
    "duration": 7,
    "start_time": "2021-08-06T06:58:50.896Z"
   },
   {
    "duration": 59,
    "start_time": "2021-08-06T06:58:50.906Z"
   },
   {
    "duration": 5,
    "start_time": "2021-08-06T06:58:50.968Z"
   },
   {
    "duration": 48,
    "start_time": "2021-08-06T06:58:50.975Z"
   },
   {
    "duration": 51,
    "start_time": "2021-08-06T06:58:51.026Z"
   },
   {
    "duration": 13,
    "start_time": "2021-08-06T06:58:51.080Z"
   },
   {
    "duration": 19,
    "start_time": "2021-08-06T06:58:51.096Z"
   },
   {
    "duration": 46,
    "start_time": "2021-08-06T06:58:51.118Z"
   },
   {
    "duration": 972,
    "start_time": "2021-08-06T07:01:04.095Z"
   },
   {
    "duration": 4,
    "start_time": "2021-08-06T07:01:50.759Z"
   },
   {
    "duration": 1049,
    "start_time": "2021-08-06T07:01:55.999Z"
   },
   {
    "duration": 6,
    "start_time": "2021-08-06T07:33:40.767Z"
   },
   {
    "duration": 831,
    "start_time": "2021-08-06T07:33:55.750Z"
   },
   {
    "duration": 25,
    "start_time": "2021-08-06T08:16:18.826Z"
   },
   {
    "duration": 590,
    "start_time": "2021-08-06T08:24:50.754Z"
   },
   {
    "duration": 760,
    "start_time": "2021-08-06T08:25:39.986Z"
   },
   {
    "duration": 7,
    "start_time": "2021-08-06T08:26:52.073Z"
   },
   {
    "duration": 599,
    "start_time": "2021-08-06T08:26:53.744Z"
   },
   {
    "duration": 7,
    "start_time": "2021-08-06T08:27:04.465Z"
   },
   {
    "duration": 1252,
    "start_time": "2021-08-06T08:27:07.354Z"
   },
   {
    "duration": 6,
    "start_time": "2021-08-06T08:27:24.184Z"
   },
   {
    "duration": 851,
    "start_time": "2021-08-06T08:27:25.977Z"
   },
   {
    "duration": 821,
    "start_time": "2021-08-06T08:27:35.664Z"
   },
   {
    "duration": 6,
    "start_time": "2021-08-06T08:55:34.054Z"
   },
   {
    "duration": 6,
    "start_time": "2021-08-06T08:55:38.198Z"
   },
   {
    "duration": 5,
    "start_time": "2021-08-06T08:56:01.614Z"
   },
   {
    "duration": 953,
    "start_time": "2021-08-06T08:56:36.745Z"
   },
   {
    "duration": 104,
    "start_time": "2021-08-06T08:56:41.426Z"
   },
   {
    "duration": 7,
    "start_time": "2021-08-06T08:56:48.767Z"
   },
   {
    "duration": 6,
    "start_time": "2021-08-06T08:56:50.304Z"
   },
   {
    "duration": 646,
    "start_time": "2021-08-06T08:56:51.614Z"
   },
   {
    "duration": 464,
    "start_time": "2021-08-06T08:57:13.756Z"
   },
   {
    "duration": 691,
    "start_time": "2021-08-06T08:58:57.126Z"
   },
   {
    "duration": 653,
    "start_time": "2021-08-06T08:59:16.463Z"
   },
   {
    "duration": 704,
    "start_time": "2021-08-06T09:00:45.066Z"
   },
   {
    "duration": 6,
    "start_time": "2021-08-06T09:00:53.264Z"
   },
   {
    "duration": 7,
    "start_time": "2021-08-06T09:00:55.465Z"
   },
   {
    "duration": 794,
    "start_time": "2021-08-06T09:01:11.129Z"
   },
   {
    "duration": 761,
    "start_time": "2021-08-06T09:01:32.841Z"
   },
   {
    "duration": 279,
    "start_time": "2021-08-06T09:01:53.616Z"
   },
   {
    "duration": 446,
    "start_time": "2021-08-06T09:02:00.880Z"
   },
   {
    "duration": 549,
    "start_time": "2021-08-06T09:02:29.098Z"
   },
   {
    "duration": 660,
    "start_time": "2021-08-06T09:02:42.777Z"
   },
   {
    "duration": 659,
    "start_time": "2021-08-06T09:02:56.578Z"
   },
   {
    "duration": 463,
    "start_time": "2021-08-06T09:03:06.457Z"
   },
   {
    "duration": 656,
    "start_time": "2021-08-06T09:03:14.368Z"
   },
   {
    "duration": 459,
    "start_time": "2021-08-06T09:03:25.738Z"
   },
   {
    "duration": 650,
    "start_time": "2021-08-06T09:03:47.161Z"
   },
   {
    "duration": 463,
    "start_time": "2021-08-06T09:03:52.727Z"
   },
   {
    "duration": 442,
    "start_time": "2021-08-06T09:03:59.560Z"
   },
   {
    "duration": 426,
    "start_time": "2021-08-06T09:04:29.016Z"
   },
   {
    "duration": 449,
    "start_time": "2021-08-06T09:04:56.760Z"
   },
   {
    "duration": 541,
    "start_time": "2021-08-06T09:05:23.921Z"
   },
   {
    "duration": 441,
    "start_time": "2021-08-06T09:11:20.104Z"
   },
   {
    "duration": 281,
    "start_time": "2021-08-06T09:12:21.095Z"
   },
   {
    "duration": 7,
    "start_time": "2021-08-06T09:12:41.535Z"
   },
   {
    "duration": 8,
    "start_time": "2021-08-06T09:12:56.768Z"
   },
   {
    "duration": 28,
    "start_time": "2021-08-06T09:13:11.976Z"
   },
   {
    "duration": 12,
    "start_time": "2021-08-06T09:13:18.967Z"
   },
   {
    "duration": 11,
    "start_time": "2021-08-06T09:13:33.069Z"
   },
   {
    "duration": 27,
    "start_time": "2021-08-06T09:13:35.174Z"
   },
   {
    "duration": 205,
    "start_time": "2021-08-07T04:57:29.817Z"
   },
   {
    "duration": 1096,
    "start_time": "2021-08-07T04:58:20.203Z"
   },
   {
    "duration": 3,
    "start_time": "2021-08-07T04:58:21.301Z"
   },
   {
    "duration": 50,
    "start_time": "2021-08-07T04:58:21.306Z"
   },
   {
    "duration": 14,
    "start_time": "2021-08-07T04:58:21.358Z"
   },
   {
    "duration": 26,
    "start_time": "2021-08-07T04:58:21.373Z"
   },
   {
    "duration": 12,
    "start_time": "2021-08-07T04:58:21.400Z"
   },
   {
    "duration": 5,
    "start_time": "2021-08-07T04:58:21.414Z"
   },
   {
    "duration": 10,
    "start_time": "2021-08-07T04:58:21.421Z"
   },
   {
    "duration": 4,
    "start_time": "2021-08-07T04:58:21.434Z"
   },
   {
    "duration": 69,
    "start_time": "2021-08-07T04:58:21.440Z"
   },
   {
    "duration": 17,
    "start_time": "2021-08-07T04:58:21.511Z"
   },
   {
    "duration": 9,
    "start_time": "2021-08-07T04:58:21.529Z"
   },
   {
    "duration": 8,
    "start_time": "2021-08-07T04:58:21.540Z"
   },
   {
    "duration": 11,
    "start_time": "2021-08-07T04:58:21.585Z"
   },
   {
    "duration": 5,
    "start_time": "2021-08-07T04:58:21.598Z"
   },
   {
    "duration": 509,
    "start_time": "2021-08-07T04:58:21.604Z"
   },
   {
    "duration": 489,
    "start_time": "2021-08-07T04:58:22.115Z"
   },
   {
    "duration": 291,
    "start_time": "2021-08-07T04:58:22.606Z"
   },
   {
    "duration": 306,
    "start_time": "2021-08-07T04:58:22.899Z"
   },
   {
    "duration": 280,
    "start_time": "2021-08-07T04:58:23.207Z"
   },
   {
    "duration": 339,
    "start_time": "2021-08-07T04:58:23.489Z"
   },
   {
    "duration": 280,
    "start_time": "2021-08-07T04:58:23.829Z"
   },
   {
    "duration": 5,
    "start_time": "2021-08-07T04:58:24.111Z"
   },
   {
    "duration": 9,
    "start_time": "2021-08-07T04:58:24.117Z"
   },
   {
    "duration": 16,
    "start_time": "2021-08-07T04:58:24.128Z"
   },
   {
    "duration": 419,
    "start_time": "2021-08-07T04:58:24.145Z"
   },
   {
    "duration": 6,
    "start_time": "2021-08-07T04:59:21.819Z"
   },
   {
    "duration": 378,
    "start_time": "2021-08-07T04:59:25.010Z"
   },
   {
    "duration": 372,
    "start_time": "2021-08-07T04:59:28.587Z"
   },
   {
    "duration": 7,
    "start_time": "2021-08-07T04:59:40.689Z"
   },
   {
    "duration": 378,
    "start_time": "2021-08-07T04:59:43.890Z"
   },
   {
    "duration": 5,
    "start_time": "2021-08-07T04:59:52.530Z"
   },
   {
    "duration": 391,
    "start_time": "2021-08-07T04:59:55.402Z"
   },
   {
    "duration": 6,
    "start_time": "2021-08-07T05:00:00.667Z"
   },
   {
    "duration": 376,
    "start_time": "2021-08-07T05:00:02.949Z"
   },
   {
    "duration": 5,
    "start_time": "2021-08-07T05:00:08.610Z"
   },
   {
    "duration": 377,
    "start_time": "2021-08-07T05:00:14.730Z"
   },
   {
    "duration": 531,
    "start_time": "2021-08-07T05:08:28.882Z"
   },
   {
    "duration": 226,
    "start_time": "2021-08-07T05:16:46.914Z"
   },
   {
    "duration": 270,
    "start_time": "2021-08-07T05:17:00.482Z"
   },
   {
    "duration": 5,
    "start_time": "2021-08-07T05:17:17.467Z"
   },
   {
    "duration": 5,
    "start_time": "2021-08-07T05:17:21.082Z"
   },
   {
    "duration": 185,
    "start_time": "2021-08-07T05:17:27.296Z"
   },
   {
    "duration": 8,
    "start_time": "2021-08-07T05:18:49.669Z"
   },
   {
    "duration": 199,
    "start_time": "2021-08-07T05:19:35.171Z"
   },
   {
    "duration": 11,
    "start_time": "2021-08-07T05:31:24.890Z"
   },
   {
    "duration": 519,
    "start_time": "2021-08-07T05:31:32.249Z"
   },
   {
    "duration": 136,
    "start_time": "2021-08-07T05:34:38.305Z"
   },
   {
    "duration": 404,
    "start_time": "2021-08-07T05:44:56.970Z"
   },
   {
    "duration": 587,
    "start_time": "2021-08-07T05:45:49.347Z"
   },
   {
    "duration": 600,
    "start_time": "2021-08-07T05:45:57.339Z"
   },
   {
    "duration": 453,
    "start_time": "2021-08-07T05:46:04.922Z"
   },
   {
    "duration": 8,
    "start_time": "2021-08-07T05:50:44.882Z"
   },
   {
    "duration": 67,
    "start_time": "2021-08-07T05:52:16.987Z"
   },
   {
    "duration": 1265,
    "start_time": "2021-08-07T05:52:22.138Z"
   },
   {
    "duration": 4638,
    "start_time": "2021-08-07T05:53:17.017Z"
   },
   {
    "duration": 1208,
    "start_time": "2021-08-07T05:53:37.349Z"
   },
   {
    "duration": 10,
    "start_time": "2021-08-07T06:00:39.450Z"
   },
   {
    "duration": 9,
    "start_time": "2021-08-07T06:01:01.090Z"
   },
   {
    "duration": 10,
    "start_time": "2021-08-07T06:01:21.609Z"
   },
   {
    "duration": 11,
    "start_time": "2021-08-07T06:01:26.489Z"
   },
   {
    "duration": 9,
    "start_time": "2021-08-07T06:02:17.810Z"
   },
   {
    "duration": 10,
    "start_time": "2021-08-07T06:02:21.886Z"
   },
   {
    "duration": 354,
    "start_time": "2021-08-07T06:06:54.682Z"
   },
   {
    "duration": 7,
    "start_time": "2021-08-07T06:10:02.858Z"
   },
   {
    "duration": 367,
    "start_time": "2021-08-07T06:10:04.770Z"
   },
   {
    "duration": 5,
    "start_time": "2021-08-07T06:10:14.537Z"
   },
   {
    "duration": 6,
    "start_time": "2021-08-07T06:10:14.544Z"
   },
   {
    "duration": 45,
    "start_time": "2021-08-07T06:10:14.552Z"
   },
   {
    "duration": 12,
    "start_time": "2021-08-07T06:10:14.599Z"
   },
   {
    "duration": 16,
    "start_time": "2021-08-07T06:10:14.613Z"
   },
   {
    "duration": 12,
    "start_time": "2021-08-07T06:10:14.630Z"
   },
   {
    "duration": 42,
    "start_time": "2021-08-07T06:10:14.644Z"
   },
   {
    "duration": 11,
    "start_time": "2021-08-07T06:10:14.688Z"
   },
   {
    "duration": 4,
    "start_time": "2021-08-07T06:10:14.701Z"
   },
   {
    "duration": 29,
    "start_time": "2021-08-07T06:10:14.706Z"
   },
   {
    "duration": 58,
    "start_time": "2021-08-07T06:10:14.737Z"
   },
   {
    "duration": 10,
    "start_time": "2021-08-07T06:10:14.796Z"
   },
   {
    "duration": 8,
    "start_time": "2021-08-07T06:10:14.807Z"
   },
   {
    "duration": 11,
    "start_time": "2021-08-07T06:10:14.816Z"
   },
   {
    "duration": 4,
    "start_time": "2021-08-07T06:10:14.829Z"
   },
   {
    "duration": 518,
    "start_time": "2021-08-07T06:10:14.834Z"
   },
   {
    "duration": 609,
    "start_time": "2021-08-07T06:10:15.354Z"
   },
   {
    "duration": 286,
    "start_time": "2021-08-07T06:10:15.965Z"
   },
   {
    "duration": 292,
    "start_time": "2021-08-07T06:10:16.252Z"
   },
   {
    "duration": 268,
    "start_time": "2021-08-07T06:10:16.545Z"
   },
   {
    "duration": 278,
    "start_time": "2021-08-07T06:10:16.814Z"
   },
   {
    "duration": 275,
    "start_time": "2021-08-07T06:10:17.095Z"
   },
   {
    "duration": 13,
    "start_time": "2021-08-07T06:10:17.372Z"
   },
   {
    "duration": 10,
    "start_time": "2021-08-07T06:10:17.386Z"
   },
   {
    "duration": 16,
    "start_time": "2021-08-07T06:10:17.397Z"
   },
   {
    "duration": 383,
    "start_time": "2021-08-07T06:10:17.415Z"
   },
   {
    "duration": 9,
    "start_time": "2021-08-07T06:10:17.800Z"
   },
   {
    "duration": 457,
    "start_time": "2021-08-07T06:10:17.811Z"
   },
   {
    "duration": 7,
    "start_time": "2021-08-07T06:10:18.269Z"
   },
   {
    "duration": 1340,
    "start_time": "2021-08-07T06:10:18.285Z"
   },
   {
    "duration": 8,
    "start_time": "2021-08-07T06:10:19.627Z"
   },
   {
    "duration": 7,
    "start_time": "2021-08-07T06:10:19.637Z"
   },
   {
    "duration": 427,
    "start_time": "2021-08-07T06:10:19.645Z"
   },
   {
    "duration": 6,
    "start_time": "2021-08-07T06:11:09.107Z"
   },
   {
    "duration": 1212,
    "start_time": "2021-08-07T06:11:11.138Z"
   },
   {
    "duration": 344,
    "start_time": "2021-08-07T06:11:19.731Z"
   },
   {
    "duration": 369,
    "start_time": "2021-08-07T06:14:55.539Z"
   },
   {
    "duration": 187,
    "start_time": "2021-08-07T06:15:07.610Z"
   },
   {
    "duration": 184,
    "start_time": "2021-08-07T06:15:12.487Z"
   },
   {
    "duration": 339,
    "start_time": "2021-08-07T06:15:17.907Z"
   },
   {
    "duration": 450,
    "start_time": "2021-08-07T06:16:04.709Z"
   },
   {
    "duration": 1234,
    "start_time": "2021-08-07T06:21:01.810Z"
   },
   {
    "duration": 1237,
    "start_time": "2021-08-07T06:21:08.481Z"
   },
   {
    "duration": 732,
    "start_time": "2021-08-07T06:21:18.282Z"
   },
   {
    "duration": 435,
    "start_time": "2021-08-07T06:21:24.042Z"
   },
   {
    "duration": 10,
    "start_time": "2021-08-07T06:22:57.930Z"
   },
   {
    "duration": 13,
    "start_time": "2021-08-07T06:23:04.549Z"
   },
   {
    "duration": 14,
    "start_time": "2021-08-07T06:23:09.962Z"
   },
   {
    "duration": 1326,
    "start_time": "2021-08-07T06:24:22.508Z"
   },
   {
    "duration": 368,
    "start_time": "2021-08-07T06:24:47.582Z"
   },
   {
    "duration": 8264,
    "start_time": "2021-08-07T06:26:56.002Z"
   },
   {
    "duration": 4673,
    "start_time": "2021-08-07T06:27:07.050Z"
   },
   {
    "duration": 4515,
    "start_time": "2021-08-07T06:27:40.570Z"
   },
   {
    "duration": 359,
    "start_time": "2021-08-07T06:27:59.067Z"
   },
   {
    "duration": 10,
    "start_time": "2021-08-07T06:33:14.529Z"
   },
   {
    "duration": 4,
    "start_time": "2021-08-07T06:33:28.788Z"
   },
   {
    "duration": 5,
    "start_time": "2021-08-07T06:33:30.619Z"
   },
   {
    "duration": 607,
    "start_time": "2021-08-07T06:33:42.531Z"
   },
   {
    "duration": 712,
    "start_time": "2021-08-07T06:35:11.429Z"
   },
   {
    "duration": 591,
    "start_time": "2021-08-07T06:36:28.602Z"
   },
   {
    "duration": 612,
    "start_time": "2021-08-07T06:39:05.749Z"
   },
   {
    "duration": 669,
    "start_time": "2021-08-07T06:39:22.644Z"
   },
   {
    "duration": 185,
    "start_time": "2021-08-07T06:45:52.097Z"
   },
   {
    "duration": 11,
    "start_time": "2021-08-07T06:47:10.067Z"
   },
   {
    "duration": 6,
    "start_time": "2021-08-07T06:47:30.042Z"
   },
   {
    "duration": 186,
    "start_time": "2021-08-07T06:51:37.467Z"
   },
   {
    "duration": 197,
    "start_time": "2021-08-07T06:52:03.579Z"
   },
   {
    "duration": 11,
    "start_time": "2021-08-07T06:52:49.498Z"
   },
   {
    "duration": 5,
    "start_time": "2021-08-07T06:52:51.017Z"
   },
   {
    "duration": 141,
    "start_time": "2021-08-07T06:52:55.331Z"
   },
   {
    "duration": 130,
    "start_time": "2021-08-07T06:53:30.819Z"
   },
   {
    "duration": 137,
    "start_time": "2021-08-07T06:53:44.402Z"
   },
   {
    "duration": 9,
    "start_time": "2021-08-07T06:57:36.570Z"
   },
   {
    "duration": 7,
    "start_time": "2021-08-07T06:57:56.601Z"
   },
   {
    "duration": 5,
    "start_time": "2021-08-07T06:58:06.898Z"
   },
   {
    "duration": 307,
    "start_time": "2021-08-07T06:58:39.090Z"
   },
   {
    "duration": 382,
    "start_time": "2021-08-07T07:00:48.148Z"
   },
   {
    "duration": 5,
    "start_time": "2021-08-07T07:00:59.787Z"
   },
   {
    "duration": 5,
    "start_time": "2021-08-07T07:01:02.618Z"
   },
   {
    "duration": 10,
    "start_time": "2021-08-07T07:01:06.908Z"
   },
   {
    "duration": 5,
    "start_time": "2021-08-07T07:01:08.889Z"
   },
   {
    "duration": 137,
    "start_time": "2021-08-07T07:01:22.178Z"
   },
   {
    "duration": 242,
    "start_time": "2021-08-07T07:01:34.050Z"
   },
   {
    "duration": 6,
    "start_time": "2021-08-07T07:44:36.542Z"
   },
   {
    "duration": 5,
    "start_time": "2021-08-07T07:44:44.398Z"
   },
   {
    "duration": 6,
    "start_time": "2021-08-07T07:44:50.011Z"
   },
   {
    "duration": 5,
    "start_time": "2021-08-07T07:54:53.733Z"
   },
   {
    "duration": 13,
    "start_time": "2021-08-07T07:54:53.740Z"
   },
   {
    "duration": 54,
    "start_time": "2021-08-07T07:54:53.755Z"
   },
   {
    "duration": 11,
    "start_time": "2021-08-07T07:54:53.811Z"
   },
   {
    "duration": 25,
    "start_time": "2021-08-07T07:54:53.824Z"
   },
   {
    "duration": 17,
    "start_time": "2021-08-07T07:54:53.851Z"
   },
   {
    "duration": 17,
    "start_time": "2021-08-07T07:54:53.869Z"
   },
   {
    "duration": 13,
    "start_time": "2021-08-07T07:54:53.888Z"
   },
   {
    "duration": 8,
    "start_time": "2021-08-07T07:54:53.903Z"
   },
   {
    "duration": 40,
    "start_time": "2021-08-07T07:54:53.912Z"
   },
   {
    "duration": 37,
    "start_time": "2021-08-07T07:54:53.954Z"
   },
   {
    "duration": 10,
    "start_time": "2021-08-07T07:54:53.993Z"
   },
   {
    "duration": 20,
    "start_time": "2021-08-07T07:54:54.004Z"
   },
   {
    "duration": 20,
    "start_time": "2021-08-07T07:54:54.026Z"
   },
   {
    "duration": 11,
    "start_time": "2021-08-07T07:54:54.048Z"
   },
   {
    "duration": 515,
    "start_time": "2021-08-07T07:54:54.060Z"
   },
   {
    "duration": 471,
    "start_time": "2021-08-07T07:54:54.584Z"
   },
   {
    "duration": 291,
    "start_time": "2021-08-07T07:54:55.057Z"
   },
   {
    "duration": 289,
    "start_time": "2021-08-07T07:54:55.349Z"
   },
   {
    "duration": 279,
    "start_time": "2021-08-07T07:54:55.640Z"
   },
   {
    "duration": 295,
    "start_time": "2021-08-07T07:54:55.921Z"
   },
   {
    "duration": 267,
    "start_time": "2021-08-07T07:54:56.218Z"
   },
   {
    "duration": 5,
    "start_time": "2021-08-07T07:54:56.487Z"
   },
   {
    "duration": 8,
    "start_time": "2021-08-07T07:54:56.494Z"
   },
   {
    "duration": 15,
    "start_time": "2021-08-07T07:54:56.504Z"
   },
   {
    "duration": 412,
    "start_time": "2021-08-07T07:54:56.521Z"
   },
   {
    "duration": 9,
    "start_time": "2021-08-07T07:54:56.935Z"
   },
   {
    "duration": 460,
    "start_time": "2021-08-07T07:54:56.945Z"
   },
   {
    "duration": 8,
    "start_time": "2021-08-07T07:54:57.407Z"
   },
   {
    "duration": 6,
    "start_time": "2021-08-07T07:54:57.416Z"
   },
   {
    "duration": 1416,
    "start_time": "2021-08-07T07:54:57.423Z"
   },
   {
    "duration": 393,
    "start_time": "2021-08-07T07:54:58.841Z"
   },
   {
    "duration": 12,
    "start_time": "2021-08-07T07:54:59.236Z"
   },
   {
    "duration": 1177,
    "start_time": "2021-08-07T07:54:59.250Z"
   },
   {
    "duration": 368,
    "start_time": "2021-08-07T07:55:00.429Z"
   },
   {
    "duration": 388,
    "start_time": "2021-08-07T07:55:00.799Z"
   },
   {
    "duration": 5,
    "start_time": "2021-08-07T07:55:01.189Z"
   },
   {
    "duration": 793,
    "start_time": "2021-08-07T07:55:01.195Z"
   },
   {
    "duration": 638,
    "start_time": "2021-08-07T07:55:01.990Z"
   },
   {
    "duration": 660,
    "start_time": "2021-08-07T07:55:02.630Z"
   },
   {
    "duration": 619,
    "start_time": "2021-08-07T07:55:03.292Z"
   },
   {
    "duration": 11,
    "start_time": "2021-08-07T07:55:03.912Z"
   },
   {
    "duration": 6,
    "start_time": "2021-08-07T07:55:03.924Z"
   },
   {
    "duration": 165,
    "start_time": "2021-08-07T07:55:03.931Z"
   },
   {
    "duration": 154,
    "start_time": "2021-08-07T07:55:04.098Z"
   },
   {
    "duration": 11,
    "start_time": "2021-08-07T07:55:04.253Z"
   },
   {
    "duration": 5,
    "start_time": "2021-08-07T07:55:04.265Z"
   },
   {
    "duration": 149,
    "start_time": "2021-08-07T07:55:04.284Z"
   },
   {
    "duration": 148,
    "start_time": "2021-08-07T07:55:04.435Z"
   },
   {
    "duration": 240,
    "start_time": "2021-08-07T07:59:07.172Z"
   },
   {
    "duration": 7,
    "start_time": "2021-08-07T08:37:29.040Z"
   },
   {
    "duration": 1298,
    "start_time": "2021-08-07T08:48:33.765Z"
   },
   {
    "duration": 1211,
    "start_time": "2021-08-07T08:48:44.461Z"
   },
   {
    "duration": 2066,
    "start_time": "2021-08-07T08:48:53.678Z"
   },
   {
    "duration": 1253,
    "start_time": "2021-08-07T08:48:57.421Z"
   },
   {
    "duration": 1233,
    "start_time": "2021-08-07T08:49:14.103Z"
   },
   {
    "duration": 1358,
    "start_time": "2021-08-07T08:51:53.343Z"
   },
   {
    "duration": 1253,
    "start_time": "2021-08-07T08:53:54.296Z"
   },
   {
    "duration": 1219,
    "start_time": "2021-08-07T08:54:52.879Z"
   },
   {
    "duration": 1354,
    "start_time": "2021-08-07T08:59:13.518Z"
   },
   {
    "duration": 1276,
    "start_time": "2021-08-07T08:59:28.886Z"
   },
   {
    "duration": 1268,
    "start_time": "2021-08-07T09:04:49.399Z"
   },
   {
    "duration": 531,
    "start_time": "2021-08-07T09:05:05.904Z"
   },
   {
    "duration": 361,
    "start_time": "2021-08-07T09:05:12.944Z"
   },
   {
    "duration": 1234,
    "start_time": "2021-08-07T09:05:21.374Z"
   },
   {
    "duration": 361,
    "start_time": "2021-08-07T09:19:36.498Z"
   },
   {
    "duration": 389,
    "start_time": "2021-08-07T09:19:58.943Z"
   },
   {
    "duration": 6,
    "start_time": "2021-08-07T09:20:18.395Z"
   },
   {
    "duration": 451,
    "start_time": "2021-08-07T09:22:41.724Z"
   },
   {
    "duration": 6,
    "start_time": "2021-08-07T09:23:15.541Z"
   },
   {
    "duration": 1308,
    "start_time": "2021-08-07T09:23:17.213Z"
   },
   {
    "duration": 366,
    "start_time": "2021-08-07T09:23:21.812Z"
   },
   {
    "duration": 459,
    "start_time": "2021-08-07T09:23:28.322Z"
   },
   {
    "duration": 351,
    "start_time": "2021-08-07T09:26:37.395Z"
   },
   {
    "duration": 354,
    "start_time": "2021-08-07T09:28:59.100Z"
   },
   {
    "duration": 520,
    "start_time": "2021-08-07T09:34:13.604Z"
   },
   {
    "duration": 465,
    "start_time": "2021-08-07T09:34:21.623Z"
   },
   {
    "duration": 184,
    "start_time": "2021-08-07T09:37:43.423Z"
   },
   {
    "duration": 201,
    "start_time": "2021-08-07T09:37:59.644Z"
   },
   {
    "duration": 5,
    "start_time": "2021-08-07T09:38:05.004Z"
   },
   {
    "duration": 5,
    "start_time": "2021-08-07T09:38:07.898Z"
   },
   {
    "duration": 3,
    "start_time": "2021-08-07T09:38:10.942Z"
   },
   {
    "duration": 13,
    "start_time": "2021-08-07T10:13:43.006Z"
   },
   {
    "duration": 5,
    "start_time": "2021-08-07T10:14:04.358Z"
   },
   {
    "duration": 5,
    "start_time": "2021-08-07T10:14:17.726Z"
   },
   {
    "duration": 5,
    "start_time": "2021-08-07T10:14:17.734Z"
   },
   {
    "duration": 46,
    "start_time": "2021-08-07T10:14:17.741Z"
   },
   {
    "duration": 14,
    "start_time": "2021-08-07T10:14:18.007Z"
   },
   {
    "duration": 19,
    "start_time": "2021-08-07T10:14:18.024Z"
   },
   {
    "duration": 14,
    "start_time": "2021-08-07T10:14:18.045Z"
   },
   {
    "duration": 5,
    "start_time": "2021-08-07T10:14:18.061Z"
   },
   {
    "duration": 13,
    "start_time": "2021-08-07T10:14:18.085Z"
   },
   {
    "duration": 5,
    "start_time": "2021-08-07T10:14:18.101Z"
   },
   {
    "duration": 31,
    "start_time": "2021-08-07T10:14:18.108Z"
   },
   {
    "duration": 60,
    "start_time": "2021-08-07T10:14:18.141Z"
   },
   {
    "duration": 12,
    "start_time": "2021-08-07T10:14:18.204Z"
   },
   {
    "duration": 6,
    "start_time": "2021-08-07T10:14:18.218Z"
   },
   {
    "duration": 59,
    "start_time": "2021-08-07T10:14:18.226Z"
   },
   {
    "duration": 13,
    "start_time": "2021-08-07T10:14:18.287Z"
   },
   {
    "duration": 5,
    "start_time": "2021-08-07T10:14:18.302Z"
   },
   {
    "duration": 523,
    "start_time": "2021-08-07T10:14:18.311Z"
   },
   {
    "duration": 486,
    "start_time": "2021-08-07T10:14:18.836Z"
   },
   {
    "duration": 291,
    "start_time": "2021-08-07T10:14:19.325Z"
   },
   {
    "duration": 301,
    "start_time": "2021-08-07T10:14:19.618Z"
   },
   {
    "duration": 283,
    "start_time": "2021-08-07T10:14:19.921Z"
   },
   {
    "duration": 435,
    "start_time": "2021-08-07T10:14:20.205Z"
   },
   {
    "duration": 290,
    "start_time": "2021-08-07T10:14:20.641Z"
   },
   {
    "duration": 5,
    "start_time": "2021-08-07T10:14:20.933Z"
   },
   {
    "duration": 10,
    "start_time": "2021-08-07T10:14:20.940Z"
   },
   {
    "duration": 38,
    "start_time": "2021-08-07T10:14:20.952Z"
   },
   {
    "duration": 401,
    "start_time": "2021-08-07T10:14:20.992Z"
   },
   {
    "duration": 12,
    "start_time": "2021-08-07T10:14:21.395Z"
   },
   {
    "duration": 456,
    "start_time": "2021-08-07T10:14:21.409Z"
   },
   {
    "duration": 16,
    "start_time": "2021-08-07T10:14:21.868Z"
   },
   {
    "duration": 1300,
    "start_time": "2021-08-07T10:14:21.888Z"
   },
   {
    "duration": 384,
    "start_time": "2021-08-07T10:14:23.190Z"
   },
   {
    "duration": 5,
    "start_time": "2021-08-07T10:14:23.575Z"
   },
   {
    "duration": 1413,
    "start_time": "2021-08-07T10:14:23.585Z"
   },
   {
    "duration": 390,
    "start_time": "2021-08-07T10:14:24.999Z"
   },
   {
    "duration": 383,
    "start_time": "2021-08-07T10:14:25.390Z"
   },
   {
    "duration": 10,
    "start_time": "2021-08-07T10:14:25.774Z"
   },
   {
    "duration": 655,
    "start_time": "2021-08-07T10:14:25.786Z"
   },
   {
    "duration": 651,
    "start_time": "2021-08-07T10:14:26.442Z"
   },
   {
    "duration": 649,
    "start_time": "2021-08-07T10:14:27.095Z"
   },
   {
    "duration": 636,
    "start_time": "2021-08-07T10:14:27.746Z"
   },
   {
    "duration": 10,
    "start_time": "2021-08-07T10:14:28.385Z"
   },
   {
    "duration": 17,
    "start_time": "2021-08-07T10:14:28.397Z"
   },
   {
    "duration": 140,
    "start_time": "2021-08-07T10:14:28.421Z"
   },
   {
    "duration": 148,
    "start_time": "2021-08-07T10:14:28.562Z"
   },
   {
    "duration": 10,
    "start_time": "2021-08-07T10:14:28.712Z"
   },
   {
    "duration": 5,
    "start_time": "2021-08-07T10:14:28.724Z"
   },
   {
    "duration": 154,
    "start_time": "2021-08-07T10:14:28.731Z"
   },
   {
    "duration": 144,
    "start_time": "2021-08-07T10:14:28.886Z"
   },
   {
    "duration": 1558,
    "start_time": "2021-08-07T12:44:33.715Z"
   },
   {
    "duration": 7,
    "start_time": "2021-08-07T12:44:43.092Z"
   },
   {
    "duration": 20,
    "start_time": "2021-08-07T12:44:43.101Z"
   },
   {
    "duration": 59,
    "start_time": "2021-08-07T12:44:43.123Z"
   },
   {
    "duration": 18,
    "start_time": "2021-08-07T12:44:43.184Z"
   },
   {
    "duration": 37,
    "start_time": "2021-08-07T12:44:43.204Z"
   },
   {
    "duration": 15,
    "start_time": "2021-08-07T12:44:43.244Z"
   },
   {
    "duration": 27,
    "start_time": "2021-08-07T12:44:43.262Z"
   },
   {
    "duration": 19,
    "start_time": "2021-08-07T12:44:43.291Z"
   },
   {
    "duration": 10,
    "start_time": "2021-08-07T12:44:43.313Z"
   },
   {
    "duration": 39,
    "start_time": "2021-08-07T12:44:43.325Z"
   },
   {
    "duration": 41,
    "start_time": "2021-08-07T12:44:43.366Z"
   },
   {
    "duration": 12,
    "start_time": "2021-08-07T12:44:43.410Z"
   },
   {
    "duration": 24,
    "start_time": "2021-08-07T12:44:43.424Z"
   },
   {
    "duration": 47,
    "start_time": "2021-08-07T12:44:43.451Z"
   },
   {
    "duration": 6,
    "start_time": "2021-08-07T12:44:43.501Z"
   },
   {
    "duration": 522,
    "start_time": "2021-08-07T12:44:43.509Z"
   },
   {
    "duration": 502,
    "start_time": "2021-08-07T12:44:44.032Z"
   },
   {
    "duration": 314,
    "start_time": "2021-08-07T12:44:44.536Z"
   },
   {
    "duration": 324,
    "start_time": "2021-08-07T12:44:44.851Z"
   },
   {
    "duration": 293,
    "start_time": "2021-08-07T12:44:45.177Z"
   },
   {
    "duration": 288,
    "start_time": "2021-08-07T12:44:45.472Z"
   },
   {
    "duration": 298,
    "start_time": "2021-08-07T12:44:45.762Z"
   },
   {
    "duration": 5,
    "start_time": "2021-08-07T12:44:46.062Z"
   },
   {
    "duration": 21,
    "start_time": "2021-08-07T12:44:46.069Z"
   },
   {
    "duration": 33,
    "start_time": "2021-08-07T12:44:46.092Z"
   },
   {
    "duration": 435,
    "start_time": "2021-08-07T12:44:46.126Z"
   },
   {
    "duration": 10,
    "start_time": "2021-08-07T12:44:46.563Z"
   },
   {
    "duration": 501,
    "start_time": "2021-08-07T12:44:46.585Z"
   },
   {
    "duration": 9,
    "start_time": "2021-08-07T12:44:47.087Z"
   },
   {
    "duration": 1568,
    "start_time": "2021-08-07T12:44:47.099Z"
   },
   {
    "duration": 420,
    "start_time": "2021-08-07T12:44:48.668Z"
   },
   {
    "duration": 8,
    "start_time": "2021-08-07T12:44:49.091Z"
   },
   {
    "duration": 1326,
    "start_time": "2021-08-07T12:44:49.101Z"
   },
   {
    "duration": 418,
    "start_time": "2021-08-07T12:44:50.429Z"
   },
   {
    "duration": 407,
    "start_time": "2021-08-07T12:44:50.849Z"
   },
   {
    "duration": 5,
    "start_time": "2021-08-07T12:44:51.257Z"
   },
   {
    "duration": 849,
    "start_time": "2021-08-07T12:44:51.264Z"
   },
   {
    "duration": 695,
    "start_time": "2021-08-07T12:44:52.116Z"
   },
   {
    "duration": 738,
    "start_time": "2021-08-07T12:44:52.813Z"
   },
   {
    "duration": 701,
    "start_time": "2021-08-07T12:44:53.553Z"
   },
   {
    "duration": 11,
    "start_time": "2021-08-07T12:44:54.256Z"
   },
   {
    "duration": 20,
    "start_time": "2021-08-07T12:44:54.268Z"
   },
   {
    "duration": 169,
    "start_time": "2021-08-07T12:44:54.295Z"
   },
   {
    "duration": 174,
    "start_time": "2021-08-07T12:44:54.466Z"
   },
   {
    "duration": 13,
    "start_time": "2021-08-07T12:44:54.642Z"
   },
   {
    "duration": 5,
    "start_time": "2021-08-07T12:44:54.657Z"
   },
   {
    "duration": 180,
    "start_time": "2021-08-07T12:44:54.664Z"
   },
   {
    "duration": 168,
    "start_time": "2021-08-07T12:44:54.846Z"
   },
   {
    "duration": 6,
    "start_time": "2021-08-07T12:45:21.597Z"
   },
   {
    "duration": 5,
    "start_time": "2021-08-07T12:45:21.606Z"
   },
   {
    "duration": 45,
    "start_time": "2021-08-07T12:45:21.619Z"
   },
   {
    "duration": 21,
    "start_time": "2021-08-07T12:45:21.666Z"
   },
   {
    "duration": 24,
    "start_time": "2021-08-07T12:45:21.690Z"
   },
   {
    "duration": 17,
    "start_time": "2021-08-07T12:45:21.717Z"
   },
   {
    "duration": 5,
    "start_time": "2021-08-07T12:45:21.736Z"
   },
   {
    "duration": 56,
    "start_time": "2021-08-07T12:45:21.742Z"
   },
   {
    "duration": 7,
    "start_time": "2021-08-07T12:45:21.801Z"
   },
   {
    "duration": 34,
    "start_time": "2021-08-07T12:45:21.810Z"
   },
   {
    "duration": 56,
    "start_time": "2021-08-07T12:45:21.847Z"
   },
   {
    "duration": 12,
    "start_time": "2021-08-07T12:45:21.906Z"
   },
   {
    "duration": 16,
    "start_time": "2021-08-07T12:45:21.920Z"
   },
   {
    "duration": 58,
    "start_time": "2021-08-07T12:45:21.937Z"
   },
   {
    "duration": 5,
    "start_time": "2021-08-07T12:45:21.997Z"
   },
   {
    "duration": 740,
    "start_time": "2021-08-07T12:45:22.005Z"
   },
   {
    "duration": 582,
    "start_time": "2021-08-07T12:45:22.747Z"
   },
   {
    "duration": 330,
    "start_time": "2021-08-07T12:45:23.331Z"
   },
   {
    "duration": 347,
    "start_time": "2021-08-07T12:45:23.662Z"
   },
   {
    "duration": 305,
    "start_time": "2021-08-07T12:45:24.011Z"
   },
   {
    "duration": 326,
    "start_time": "2021-08-07T12:45:24.318Z"
   },
   {
    "duration": 307,
    "start_time": "2021-08-07T12:45:24.646Z"
   },
   {
    "duration": 5,
    "start_time": "2021-08-07T12:45:24.955Z"
   },
   {
    "duration": 23,
    "start_time": "2021-08-07T12:45:24.962Z"
   },
   {
    "duration": 25,
    "start_time": "2021-08-07T12:45:24.987Z"
   },
   {
    "duration": 450,
    "start_time": "2021-08-07T12:45:25.013Z"
   },
   {
    "duration": 20,
    "start_time": "2021-08-07T12:45:25.465Z"
   },
   {
    "duration": 506,
    "start_time": "2021-08-07T12:45:25.487Z"
   },
   {
    "duration": 8,
    "start_time": "2021-08-07T12:45:25.997Z"
   },
   {
    "duration": 1556,
    "start_time": "2021-08-07T12:45:26.008Z"
   },
   {
    "duration": 383,
    "start_time": "2021-08-07T12:45:27.565Z"
   },
   {
    "duration": 6,
    "start_time": "2021-08-07T12:45:27.949Z"
   },
   {
    "duration": 1259,
    "start_time": "2021-08-07T12:45:27.956Z"
   },
   {
    "duration": 405,
    "start_time": "2021-08-07T12:45:29.217Z"
   },
   {
    "duration": 402,
    "start_time": "2021-08-07T12:45:29.624Z"
   },
   {
    "duration": 5,
    "start_time": "2021-08-07T12:45:30.027Z"
   },
   {
    "duration": 690,
    "start_time": "2021-08-07T12:45:30.033Z"
   },
   {
    "duration": 692,
    "start_time": "2021-08-07T12:45:30.724Z"
   },
   {
    "duration": 848,
    "start_time": "2021-08-07T12:45:31.417Z"
   },
   {
    "duration": 656,
    "start_time": "2021-08-07T12:45:32.267Z"
   },
   {
    "duration": 11,
    "start_time": "2021-08-07T12:45:32.925Z"
   },
   {
    "duration": 11,
    "start_time": "2021-08-07T12:45:32.937Z"
   },
   {
    "duration": 151,
    "start_time": "2021-08-07T12:45:32.949Z"
   },
   {
    "duration": 155,
    "start_time": "2021-08-07T12:45:33.102Z"
   },
   {
    "duration": 11,
    "start_time": "2021-08-07T12:45:33.259Z"
   },
   {
    "duration": 15,
    "start_time": "2021-08-07T12:45:33.272Z"
   },
   {
    "duration": 162,
    "start_time": "2021-08-07T12:45:33.290Z"
   },
   {
    "duration": 159,
    "start_time": "2021-08-07T12:45:33.455Z"
   },
   {
    "duration": 121,
    "start_time": "2021-08-07T15:47:36.409Z"
   },
   {
    "duration": 417,
    "start_time": "2021-08-08T07:52:31.622Z"
   },
   {
    "duration": 1414,
    "start_time": "2021-08-08T07:52:38.155Z"
   },
   {
    "duration": 4,
    "start_time": "2021-08-08T07:52:39.571Z"
   },
   {
    "duration": 76,
    "start_time": "2021-08-08T07:52:39.577Z"
   },
   {
    "duration": 22,
    "start_time": "2021-08-08T07:52:39.655Z"
   },
   {
    "duration": 43,
    "start_time": "2021-08-08T07:52:39.679Z"
   },
   {
    "duration": 433,
    "start_time": "2021-08-08T07:52:39.724Z"
   },
   {
    "duration": -1069,
    "start_time": "2021-08-08T07:52:41.231Z"
   },
   {
    "duration": -1085,
    "start_time": "2021-08-08T07:52:41.248Z"
   },
   {
    "duration": -1089,
    "start_time": "2021-08-08T07:52:41.254Z"
   },
   {
    "duration": -1093,
    "start_time": "2021-08-08T07:52:41.259Z"
   },
   {
    "duration": -1096,
    "start_time": "2021-08-08T07:52:41.264Z"
   },
   {
    "duration": -1101,
    "start_time": "2021-08-08T07:52:41.270Z"
   },
   {
    "duration": -1104,
    "start_time": "2021-08-08T07:52:41.275Z"
   },
   {
    "duration": -1109,
    "start_time": "2021-08-08T07:52:41.281Z"
   },
   {
    "duration": -1113,
    "start_time": "2021-08-08T07:52:41.286Z"
   },
   {
    "duration": -1117,
    "start_time": "2021-08-08T07:52:41.292Z"
   },
   {
    "duration": -1121,
    "start_time": "2021-08-08T07:52:41.297Z"
   },
   {
    "duration": -1125,
    "start_time": "2021-08-08T07:52:41.302Z"
   },
   {
    "duration": -1128,
    "start_time": "2021-08-08T07:52:41.307Z"
   },
   {
    "duration": -1134,
    "start_time": "2021-08-08T07:52:41.314Z"
   },
   {
    "duration": -1137,
    "start_time": "2021-08-08T07:52:41.319Z"
   },
   {
    "duration": -1142,
    "start_time": "2021-08-08T07:52:41.325Z"
   },
   {
    "duration": -1146,
    "start_time": "2021-08-08T07:52:41.330Z"
   },
   {
    "duration": -1149,
    "start_time": "2021-08-08T07:52:41.335Z"
   },
   {
    "duration": -1153,
    "start_time": "2021-08-08T07:52:41.340Z"
   },
   {
    "duration": -1157,
    "start_time": "2021-08-08T07:52:41.346Z"
   },
   {
    "duration": -1170,
    "start_time": "2021-08-08T07:52:41.360Z"
   },
   {
    "duration": -1174,
    "start_time": "2021-08-08T07:52:41.366Z"
   },
   {
    "duration": -1178,
    "start_time": "2021-08-08T07:52:41.371Z"
   },
   {
    "duration": -1181,
    "start_time": "2021-08-08T07:52:41.376Z"
   },
   {
    "duration": -1185,
    "start_time": "2021-08-08T07:52:41.381Z"
   },
   {
    "duration": -1189,
    "start_time": "2021-08-08T07:52:41.387Z"
   },
   {
    "duration": -1193,
    "start_time": "2021-08-08T07:52:41.392Z"
   },
   {
    "duration": -1196,
    "start_time": "2021-08-08T07:52:41.396Z"
   },
   {
    "duration": -1200,
    "start_time": "2021-08-08T07:52:41.402Z"
   },
   {
    "duration": -1204,
    "start_time": "2021-08-08T07:52:41.407Z"
   },
   {
    "duration": -1207,
    "start_time": "2021-08-08T07:52:41.411Z"
   },
   {
    "duration": -1210,
    "start_time": "2021-08-08T07:52:41.416Z"
   },
   {
    "duration": -1214,
    "start_time": "2021-08-08T07:52:41.421Z"
   },
   {
    "duration": -1217,
    "start_time": "2021-08-08T07:52:41.425Z"
   },
   {
    "duration": -1220,
    "start_time": "2021-08-08T07:52:41.430Z"
   },
   {
    "duration": -1224,
    "start_time": "2021-08-08T07:52:41.435Z"
   },
   {
    "duration": -1226,
    "start_time": "2021-08-08T07:52:41.439Z"
   },
   {
    "duration": -1230,
    "start_time": "2021-08-08T07:52:41.444Z"
   },
   {
    "duration": -1233,
    "start_time": "2021-08-08T07:52:41.448Z"
   },
   {
    "duration": -1236,
    "start_time": "2021-08-08T07:52:41.453Z"
   },
   {
    "duration": -1239,
    "start_time": "2021-08-08T07:52:41.457Z"
   },
   {
    "duration": -1252,
    "start_time": "2021-08-08T07:52:41.472Z"
   },
   {
    "duration": 6,
    "start_time": "2021-08-08T07:53:20.546Z"
   },
   {
    "duration": 8,
    "start_time": "2021-08-08T07:53:20.555Z"
   },
   {
    "duration": 65,
    "start_time": "2021-08-08T07:53:20.566Z"
   },
   {
    "duration": 18,
    "start_time": "2021-08-08T07:53:20.633Z"
   },
   {
    "duration": 57,
    "start_time": "2021-08-08T07:53:20.654Z"
   },
   {
    "duration": 18,
    "start_time": "2021-08-08T07:53:20.714Z"
   },
   {
    "duration": 7,
    "start_time": "2021-08-08T07:53:20.735Z"
   },
   {
    "duration": 57,
    "start_time": "2021-08-08T07:53:20.745Z"
   },
   {
    "duration": 12,
    "start_time": "2021-08-08T07:53:20.805Z"
   },
   {
    "duration": 44,
    "start_time": "2021-08-08T07:53:20.820Z"
   },
   {
    "duration": 45,
    "start_time": "2021-08-08T07:53:20.867Z"
   },
   {
    "duration": 13,
    "start_time": "2021-08-08T07:53:20.914Z"
   },
   {
    "duration": 21,
    "start_time": "2021-08-08T07:53:20.929Z"
   },
   {
    "duration": 52,
    "start_time": "2021-08-08T07:53:20.953Z"
   },
   {
    "duration": 9,
    "start_time": "2021-08-08T07:53:21.007Z"
   },
   {
    "duration": 869,
    "start_time": "2021-08-08T07:53:21.018Z"
   },
   {
    "duration": 783,
    "start_time": "2021-08-08T07:53:21.889Z"
   },
   {
    "duration": 457,
    "start_time": "2021-08-08T07:53:22.675Z"
   },
   {
    "duration": 459,
    "start_time": "2021-08-08T07:53:23.134Z"
   },
   {
    "duration": 438,
    "start_time": "2021-08-08T07:53:23.595Z"
   },
   {
    "duration": 505,
    "start_time": "2021-08-08T07:53:24.036Z"
   },
   {
    "duration": 417,
    "start_time": "2021-08-08T07:53:24.543Z"
   },
   {
    "duration": 8,
    "start_time": "2021-08-08T07:53:24.962Z"
   },
   {
    "duration": 30,
    "start_time": "2021-08-08T07:53:24.972Z"
   },
   {
    "duration": 25,
    "start_time": "2021-08-08T07:53:25.004Z"
   },
   {
    "duration": 622,
    "start_time": "2021-08-08T07:53:25.031Z"
   },
   {
    "duration": 13,
    "start_time": "2021-08-08T07:53:25.658Z"
   },
   {
    "duration": 630,
    "start_time": "2021-08-08T07:53:25.674Z"
   },
   {
    "duration": 8,
    "start_time": "2021-08-08T07:53:26.307Z"
   },
   {
    "duration": 1959,
    "start_time": "2021-08-08T07:53:26.317Z"
   },
   {
    "duration": 622,
    "start_time": "2021-08-08T07:53:28.278Z"
   },
   {
    "duration": 7,
    "start_time": "2021-08-08T07:53:28.902Z"
   },
   {
    "duration": 1907,
    "start_time": "2021-08-08T07:53:28.911Z"
   },
   {
    "duration": 598,
    "start_time": "2021-08-08T07:53:30.821Z"
   },
   {
    "duration": 570,
    "start_time": "2021-08-08T07:53:31.422Z"
   },
   {
    "duration": 10,
    "start_time": "2021-08-08T07:53:31.995Z"
   },
   {
    "duration": 960,
    "start_time": "2021-08-08T07:53:32.008Z"
   },
   {
    "duration": 957,
    "start_time": "2021-08-08T07:53:32.971Z"
   },
   {
    "duration": 986,
    "start_time": "2021-08-08T07:53:33.931Z"
   },
   {
    "duration": 1183,
    "start_time": "2021-08-08T07:53:34.920Z"
   },
   {
    "duration": 13,
    "start_time": "2021-08-08T07:53:36.106Z"
   },
   {
    "duration": 16,
    "start_time": "2021-08-08T07:53:36.122Z"
   },
   {
    "duration": 236,
    "start_time": "2021-08-08T07:53:36.141Z"
   },
   {
    "duration": 227,
    "start_time": "2021-08-08T07:53:36.379Z"
   },
   {
    "duration": 13,
    "start_time": "2021-08-08T07:53:36.608Z"
   },
   {
    "duration": 12,
    "start_time": "2021-08-08T07:53:36.623Z"
   },
   {
    "duration": 240,
    "start_time": "2021-08-08T07:53:36.638Z"
   },
   {
    "duration": 218,
    "start_time": "2021-08-08T07:53:36.882Z"
   },
   {
    "duration": 13,
    "start_time": "2021-08-08T07:55:15.644Z"
   },
   {
    "duration": 8,
    "start_time": "2021-08-08T07:55:20.485Z"
   },
   {
    "duration": 7,
    "start_time": "2021-08-08T07:55:31.048Z"
   },
   {
    "duration": 18,
    "start_time": "2021-08-08T07:55:31.058Z"
   },
   {
    "duration": 87,
    "start_time": "2021-08-08T07:55:31.078Z"
   },
   {
    "duration": 20,
    "start_time": "2021-08-08T07:55:31.168Z"
   },
   {
    "duration": 36,
    "start_time": "2021-08-08T07:55:31.191Z"
   },
   {
    "duration": 22,
    "start_time": "2021-08-08T07:55:31.230Z"
   },
   {
    "duration": 47,
    "start_time": "2021-08-08T07:55:31.255Z"
   },
   {
    "duration": 364,
    "start_time": "2021-08-08T07:55:31.308Z"
   },
   {
    "duration": -1137,
    "start_time": "2021-08-08T07:55:32.815Z"
   },
   {
    "duration": -1141,
    "start_time": "2021-08-08T07:55:32.822Z"
   },
   {
    "duration": -1145,
    "start_time": "2021-08-08T07:55:32.828Z"
   },
   {
    "duration": -1149,
    "start_time": "2021-08-08T07:55:32.834Z"
   },
   {
    "duration": -1151,
    "start_time": "2021-08-08T07:55:32.839Z"
   },
   {
    "duration": -1154,
    "start_time": "2021-08-08T07:55:32.844Z"
   },
   {
    "duration": -1156,
    "start_time": "2021-08-08T07:55:32.849Z"
   },
   {
    "duration": -1159,
    "start_time": "2021-08-08T07:55:32.854Z"
   },
   {
    "duration": -1162,
    "start_time": "2021-08-08T07:55:32.859Z"
   },
   {
    "duration": -1164,
    "start_time": "2021-08-08T07:55:32.864Z"
   },
   {
    "duration": -1168,
    "start_time": "2021-08-08T07:55:32.870Z"
   },
   {
    "duration": -1172,
    "start_time": "2021-08-08T07:55:32.876Z"
   },
   {
    "duration": -1175,
    "start_time": "2021-08-08T07:55:32.881Z"
   },
   {
    "duration": -1178,
    "start_time": "2021-08-08T07:55:32.886Z"
   },
   {
    "duration": -1181,
    "start_time": "2021-08-08T07:55:32.891Z"
   },
   {
    "duration": -1183,
    "start_time": "2021-08-08T07:55:32.895Z"
   },
   {
    "duration": -1186,
    "start_time": "2021-08-08T07:55:32.900Z"
   },
   {
    "duration": -1215,
    "start_time": "2021-08-08T07:55:32.932Z"
   },
   {
    "duration": -1221,
    "start_time": "2021-08-08T07:55:32.940Z"
   },
   {
    "duration": -1223,
    "start_time": "2021-08-08T07:55:32.944Z"
   },
   {
    "duration": -1226,
    "start_time": "2021-08-08T07:55:32.950Z"
   },
   {
    "duration": -1229,
    "start_time": "2021-08-08T07:55:32.954Z"
   },
   {
    "duration": -1231,
    "start_time": "2021-08-08T07:55:32.959Z"
   },
   {
    "duration": -1234,
    "start_time": "2021-08-08T07:55:32.964Z"
   },
   {
    "duration": -1236,
    "start_time": "2021-08-08T07:55:32.969Z"
   },
   {
    "duration": -1238,
    "start_time": "2021-08-08T07:55:32.973Z"
   },
   {
    "duration": -1241,
    "start_time": "2021-08-08T07:55:32.978Z"
   },
   {
    "duration": -1244,
    "start_time": "2021-08-08T07:55:32.983Z"
   },
   {
    "duration": -1247,
    "start_time": "2021-08-08T07:55:32.987Z"
   },
   {
    "duration": -1191,
    "start_time": "2021-08-08T07:55:32.992Z"
   },
   {
    "duration": -1192,
    "start_time": "2021-08-08T07:55:32.996Z"
   },
   {
    "duration": -1195,
    "start_time": "2021-08-08T07:55:33.001Z"
   },
   {
    "duration": -1196,
    "start_time": "2021-08-08T07:55:33.005Z"
   },
   {
    "duration": -1198,
    "start_time": "2021-08-08T07:55:33.009Z"
   },
   {
    "duration": -1201,
    "start_time": "2021-08-08T07:55:33.014Z"
   },
   {
    "duration": -1203,
    "start_time": "2021-08-08T07:55:33.018Z"
   },
   {
    "duration": -1204,
    "start_time": "2021-08-08T07:55:33.022Z"
   },
   {
    "duration": -1206,
    "start_time": "2021-08-08T07:55:33.026Z"
   },
   {
    "duration": -1219,
    "start_time": "2021-08-08T07:55:33.041Z"
   },
   {
    "duration": -1220,
    "start_time": "2021-08-08T07:55:33.045Z"
   },
   {
    "duration": 21,
    "start_time": "2021-08-08T07:56:28.668Z"
   },
   {
    "duration": 8,
    "start_time": "2021-08-08T07:56:34.049Z"
   },
   {
    "duration": 18,
    "start_time": "2021-08-08T07:56:49.549Z"
   },
   {
    "duration": 7,
    "start_time": "2021-08-08T07:56:53.687Z"
   },
   {
    "duration": 16,
    "start_time": "2021-08-08T07:57:41.075Z"
   },
   {
    "duration": 347,
    "start_time": "2021-08-08T08:00:38.251Z"
   },
   {
    "duration": 17,
    "start_time": "2021-08-08T08:00:51.035Z"
   },
   {
    "duration": 16,
    "start_time": "2021-08-08T08:00:53.927Z"
   },
   {
    "duration": 7,
    "start_time": "2021-08-08T08:00:56.224Z"
   },
   {
    "duration": 14,
    "start_time": "2021-08-08T08:04:36.766Z"
   },
   {
    "duration": 12,
    "start_time": "2021-08-08T08:05:08.188Z"
   },
   {
    "duration": 15,
    "start_time": "2021-08-08T08:05:21.535Z"
   },
   {
    "duration": 7,
    "start_time": "2021-08-08T10:16:18.317Z"
   },
   {
    "duration": 7,
    "start_time": "2021-08-08T10:16:18.329Z"
   },
   {
    "duration": 66,
    "start_time": "2021-08-08T10:16:18.339Z"
   },
   {
    "duration": 20,
    "start_time": "2021-08-08T10:16:18.408Z"
   },
   {
    "duration": 32,
    "start_time": "2021-08-08T10:16:18.431Z"
   },
   {
    "duration": 43,
    "start_time": "2021-08-08T10:16:18.466Z"
   },
   {
    "duration": 8,
    "start_time": "2021-08-08T10:16:18.511Z"
   },
   {
    "duration": 26,
    "start_time": "2021-08-08T10:16:18.522Z"
   },
   {
    "duration": 6,
    "start_time": "2021-08-08T10:16:18.551Z"
   },
   {
    "duration": 81,
    "start_time": "2021-08-08T10:16:18.559Z"
   },
   {
    "duration": 27,
    "start_time": "2021-08-08T10:16:18.643Z"
   },
   {
    "duration": 36,
    "start_time": "2021-08-08T10:16:18.673Z"
   },
   {
    "duration": 34,
    "start_time": "2021-08-08T10:16:18.711Z"
   },
   {
    "duration": 24,
    "start_time": "2021-08-08T10:16:18.747Z"
   },
   {
    "duration": 8,
    "start_time": "2021-08-08T10:16:18.774Z"
   },
   {
    "duration": 786,
    "start_time": "2021-08-08T10:16:18.806Z"
   },
   {
    "duration": 768,
    "start_time": "2021-08-08T10:16:19.600Z"
   },
   {
    "duration": 453,
    "start_time": "2021-08-08T10:16:20.371Z"
   },
   {
    "duration": 467,
    "start_time": "2021-08-08T10:16:20.827Z"
   },
   {
    "duration": 530,
    "start_time": "2021-08-08T10:16:21.296Z"
   },
   {
    "duration": 445,
    "start_time": "2021-08-08T10:16:21.829Z"
   },
   {
    "duration": 451,
    "start_time": "2021-08-08T10:16:22.276Z"
   },
   {
    "duration": 6,
    "start_time": "2021-08-08T10:16:22.730Z"
   },
   {
    "duration": 18,
    "start_time": "2021-08-08T10:16:22.738Z"
   },
   {
    "duration": 47,
    "start_time": "2021-08-08T10:16:22.758Z"
   },
   {
    "duration": 630,
    "start_time": "2021-08-08T10:16:22.807Z"
   },
   {
    "duration": 13,
    "start_time": "2021-08-08T10:16:23.439Z"
   },
   {
    "duration": 656,
    "start_time": "2021-08-08T10:16:23.454Z"
   },
   {
    "duration": 7,
    "start_time": "2021-08-08T10:16:24.113Z"
   },
   {
    "duration": 1851,
    "start_time": "2021-08-08T10:16:24.122Z"
   },
   {
    "duration": 572,
    "start_time": "2021-08-08T10:16:25.975Z"
   },
   {
    "duration": 6,
    "start_time": "2021-08-08T10:16:26.550Z"
   },
   {
    "duration": 1870,
    "start_time": "2021-08-08T10:16:26.558Z"
   },
   {
    "duration": 573,
    "start_time": "2021-08-08T10:16:28.431Z"
   },
   {
    "duration": 636,
    "start_time": "2021-08-08T10:16:29.006Z"
   },
   {
    "duration": 8,
    "start_time": "2021-08-08T10:16:29.645Z"
   },
   {
    "duration": 1027,
    "start_time": "2021-08-08T10:16:29.658Z"
   },
   {
    "duration": 1015,
    "start_time": "2021-08-08T10:16:30.688Z"
   },
   {
    "duration": 1004,
    "start_time": "2021-08-08T10:16:31.706Z"
   },
   {
    "duration": 1103,
    "start_time": "2021-08-08T10:16:32.712Z"
   },
   {
    "duration": 18,
    "start_time": "2021-08-08T10:16:33.818Z"
   },
   {
    "duration": 10,
    "start_time": "2021-08-08T10:16:33.839Z"
   },
   {
    "duration": 253,
    "start_time": "2021-08-08T10:16:33.852Z"
   },
   {
    "duration": 230,
    "start_time": "2021-08-08T10:16:34.107Z"
   },
   {
    "duration": 13,
    "start_time": "2021-08-08T10:16:34.340Z"
   },
   {
    "duration": 12,
    "start_time": "2021-08-08T10:16:34.356Z"
   },
   {
    "duration": 246,
    "start_time": "2021-08-08T10:16:34.371Z"
   },
   {
    "duration": 233,
    "start_time": "2021-08-08T10:16:34.619Z"
   },
   {
    "duration": 1141,
    "start_time": "2021-08-09T06:44:21.059Z"
   },
   {
    "duration": 3,
    "start_time": "2021-08-09T06:44:22.202Z"
   },
   {
    "duration": 56,
    "start_time": "2021-08-09T06:44:22.207Z"
   },
   {
    "duration": 15,
    "start_time": "2021-08-09T06:44:22.265Z"
   },
   {
    "duration": 19,
    "start_time": "2021-08-09T06:44:22.283Z"
   },
   {
    "duration": 15,
    "start_time": "2021-08-09T06:44:22.304Z"
   },
   {
    "duration": 5,
    "start_time": "2021-08-09T06:44:22.321Z"
   },
   {
    "duration": 12,
    "start_time": "2021-08-09T06:44:22.327Z"
   },
   {
    "duration": 5,
    "start_time": "2021-08-09T06:44:22.341Z"
   },
   {
    "duration": 65,
    "start_time": "2021-08-09T06:44:22.348Z"
   },
   {
    "duration": 18,
    "start_time": "2021-08-09T06:44:22.414Z"
   },
   {
    "duration": 8,
    "start_time": "2021-08-09T06:44:22.433Z"
   },
   {
    "duration": 43,
    "start_time": "2021-08-09T06:44:22.443Z"
   },
   {
    "duration": 13,
    "start_time": "2021-08-09T06:44:22.487Z"
   },
   {
    "duration": 5,
    "start_time": "2021-08-09T06:44:22.501Z"
   },
   {
    "duration": 508,
    "start_time": "2021-08-09T06:44:22.508Z"
   },
   {
    "duration": 525,
    "start_time": "2021-08-09T06:44:23.018Z"
   },
   {
    "duration": 279,
    "start_time": "2021-08-09T06:44:23.545Z"
   },
   {
    "duration": 290,
    "start_time": "2021-08-09T06:44:23.826Z"
   },
   {
    "duration": 274,
    "start_time": "2021-08-09T06:44:24.118Z"
   },
   {
    "duration": 355,
    "start_time": "2021-08-09T06:44:24.394Z"
   },
   {
    "duration": 277,
    "start_time": "2021-08-09T06:44:24.751Z"
   },
   {
    "duration": 5,
    "start_time": "2021-08-09T06:44:25.030Z"
   },
   {
    "duration": 12,
    "start_time": "2021-08-09T06:44:25.037Z"
   },
   {
    "duration": 19,
    "start_time": "2021-08-09T06:44:25.051Z"
   },
   {
    "duration": 396,
    "start_time": "2021-08-09T06:44:25.072Z"
   },
   {
    "duration": 14,
    "start_time": "2021-08-09T06:44:25.471Z"
   },
   {
    "duration": 401,
    "start_time": "2021-08-09T06:44:25.487Z"
   },
   {
    "duration": 5,
    "start_time": "2021-08-09T06:44:25.890Z"
   },
   {
    "duration": 1221,
    "start_time": "2021-08-09T06:44:25.897Z"
   },
   {
    "duration": 335,
    "start_time": "2021-08-09T06:44:27.120Z"
   },
   {
    "duration": 5,
    "start_time": "2021-08-09T06:44:27.456Z"
   },
   {
    "duration": 1212,
    "start_time": "2021-08-09T06:44:27.463Z"
   },
   {
    "duration": 379,
    "start_time": "2021-08-09T06:44:28.677Z"
   },
   {
    "duration": 350,
    "start_time": "2021-08-09T06:44:29.057Z"
   },
   {
    "duration": 4,
    "start_time": "2021-08-09T06:44:29.408Z"
   },
   {
    "duration": 598,
    "start_time": "2021-08-09T06:44:29.414Z"
   },
   {
    "duration": 613,
    "start_time": "2021-08-09T06:44:30.014Z"
   },
   {
    "duration": 605,
    "start_time": "2021-08-09T06:44:30.629Z"
   },
   {
    "duration": 683,
    "start_time": "2021-08-09T06:44:31.235Z"
   },
   {
    "duration": 7,
    "start_time": "2021-08-09T06:44:31.920Z"
   },
   {
    "duration": 10,
    "start_time": "2021-08-09T06:44:31.929Z"
   },
   {
    "duration": 141,
    "start_time": "2021-08-09T06:44:31.940Z"
   },
   {
    "duration": 147,
    "start_time": "2021-08-09T06:44:32.082Z"
   },
   {
    "duration": 8,
    "start_time": "2021-08-09T06:44:32.231Z"
   },
   {
    "duration": 17,
    "start_time": "2021-08-09T06:44:32.241Z"
   },
   {
    "duration": 141,
    "start_time": "2021-08-09T06:44:32.259Z"
   },
   {
    "duration": 139,
    "start_time": "2021-08-09T06:44:32.402Z"
   },
   {
    "duration": 5,
    "start_time": "2021-08-09T06:45:12.115Z"
   },
   {
    "duration": 5,
    "start_time": "2021-08-09T06:45:12.122Z"
   },
   {
    "duration": 50,
    "start_time": "2021-08-09T06:45:12.129Z"
   },
   {
    "duration": 12,
    "start_time": "2021-08-09T06:45:12.182Z"
   },
   {
    "duration": 19,
    "start_time": "2021-08-09T06:45:12.195Z"
   },
   {
    "duration": 14,
    "start_time": "2021-08-09T06:45:12.216Z"
   },
   {
    "duration": 4,
    "start_time": "2021-08-09T06:45:12.232Z"
   },
   {
    "duration": 13,
    "start_time": "2021-08-09T06:45:12.238Z"
   },
   {
    "duration": 34,
    "start_time": "2021-08-09T06:45:12.253Z"
   },
   {
    "duration": 29,
    "start_time": "2021-08-09T06:45:12.289Z"
   },
   {
    "duration": 18,
    "start_time": "2021-08-09T06:45:12.319Z"
   },
   {
    "duration": 9,
    "start_time": "2021-08-09T06:45:12.338Z"
   },
   {
    "duration": 42,
    "start_time": "2021-08-09T06:45:12.349Z"
   },
   {
    "duration": 11,
    "start_time": "2021-08-09T06:45:12.394Z"
   },
   {
    "duration": 5,
    "start_time": "2021-08-09T06:45:12.407Z"
   },
   {
    "duration": 502,
    "start_time": "2021-08-09T06:45:12.413Z"
   },
   {
    "duration": 472,
    "start_time": "2021-08-09T06:45:12.917Z"
   },
   {
    "duration": 281,
    "start_time": "2021-08-09T06:45:13.391Z"
   },
   {
    "duration": 292,
    "start_time": "2021-08-09T06:45:13.674Z"
   },
   {
    "duration": 349,
    "start_time": "2021-08-09T06:45:13.967Z"
   },
   {
    "duration": 288,
    "start_time": "2021-08-09T06:45:14.318Z"
   },
   {
    "duration": 272,
    "start_time": "2021-08-09T06:45:14.608Z"
   },
   {
    "duration": 5,
    "start_time": "2021-08-09T06:45:14.885Z"
   },
   {
    "duration": 10,
    "start_time": "2021-08-09T06:45:14.891Z"
   },
   {
    "duration": 16,
    "start_time": "2021-08-09T06:45:14.903Z"
   },
   {
    "duration": 402,
    "start_time": "2021-08-09T06:45:14.920Z"
   },
   {
    "duration": 9,
    "start_time": "2021-08-09T06:45:15.324Z"
   },
   {
    "duration": 434,
    "start_time": "2021-08-09T06:45:15.334Z"
   },
   {
    "duration": 5,
    "start_time": "2021-08-09T06:45:15.770Z"
   },
   {
    "duration": 1368,
    "start_time": "2021-08-09T06:45:15.777Z"
   },
   {
    "duration": 420,
    "start_time": "2021-08-09T06:45:17.146Z"
   },
   {
    "duration": 5,
    "start_time": "2021-08-09T06:45:17.567Z"
   },
   {
    "duration": 1211,
    "start_time": "2021-08-09T06:45:17.574Z"
   },
   {
    "duration": 377,
    "start_time": "2021-08-09T06:45:18.786Z"
   },
   {
    "duration": 357,
    "start_time": "2021-08-09T06:45:19.164Z"
   },
   {
    "duration": 4,
    "start_time": "2021-08-09T06:45:19.523Z"
   },
   {
    "duration": 630,
    "start_time": "2021-08-09T06:45:19.529Z"
   },
   {
    "duration": 634,
    "start_time": "2021-08-09T06:45:20.164Z"
   },
   {
    "duration": 630,
    "start_time": "2021-08-09T06:45:20.800Z"
   },
   {
    "duration": 739,
    "start_time": "2021-08-09T06:45:21.432Z"
   },
   {
    "duration": 14,
    "start_time": "2021-08-09T06:45:22.174Z"
   },
   {
    "duration": 8,
    "start_time": "2021-08-09T06:45:22.190Z"
   },
   {
    "duration": 145,
    "start_time": "2021-08-09T06:45:22.200Z"
   },
   {
    "duration": 149,
    "start_time": "2021-08-09T06:45:22.347Z"
   },
   {
    "duration": 8,
    "start_time": "2021-08-09T06:45:22.498Z"
   },
   {
    "duration": 5,
    "start_time": "2021-08-09T06:45:22.507Z"
   },
   {
    "duration": 159,
    "start_time": "2021-08-09T06:45:22.513Z"
   },
   {
    "duration": 164,
    "start_time": "2021-08-09T06:45:22.674Z"
   },
   {
    "duration": 5,
    "start_time": "2021-08-09T08:06:13.037Z"
   },
   {
    "duration": 60,
    "start_time": "2021-08-09T08:11:03.810Z"
   },
   {
    "duration": 5,
    "start_time": "2021-08-09T08:11:08.424Z"
   },
   {
    "duration": 77,
    "start_time": "2021-08-09T08:11:10.867Z"
   },
   {
    "duration": 4,
    "start_time": "2021-08-09T08:12:53.358Z"
   },
   {
    "duration": 59,
    "start_time": "2021-08-09T08:13:06.106Z"
   },
   {
    "duration": 5,
    "start_time": "2021-08-09T08:13:38.730Z"
   },
   {
    "duration": 5,
    "start_time": "2021-08-09T08:13:38.736Z"
   },
   {
    "duration": 46,
    "start_time": "2021-08-09T08:13:38.743Z"
   },
   {
    "duration": 11,
    "start_time": "2021-08-09T08:13:38.791Z"
   },
   {
    "duration": 17,
    "start_time": "2021-08-09T08:13:38.804Z"
   },
   {
    "duration": 12,
    "start_time": "2021-08-09T08:13:38.823Z"
   },
   {
    "duration": 4,
    "start_time": "2021-08-09T08:13:38.837Z"
   },
   {
    "duration": 44,
    "start_time": "2021-08-09T08:13:38.843Z"
   },
   {
    "duration": 4,
    "start_time": "2021-08-09T08:13:38.889Z"
   },
   {
    "duration": 36,
    "start_time": "2021-08-09T08:13:38.894Z"
   },
   {
    "duration": 17,
    "start_time": "2021-08-09T08:13:38.932Z"
   },
   {
    "duration": 36,
    "start_time": "2021-08-09T08:13:38.950Z"
   },
   {
    "duration": 15,
    "start_time": "2021-08-09T08:13:38.988Z"
   },
   {
    "duration": 12,
    "start_time": "2021-08-09T08:13:39.004Z"
   },
   {
    "duration": 5,
    "start_time": "2021-08-09T08:13:39.017Z"
   },
   {
    "duration": 505,
    "start_time": "2021-08-09T08:13:39.023Z"
   },
   {
    "duration": 467,
    "start_time": "2021-08-09T08:13:39.531Z"
   },
   {
    "duration": 562,
    "start_time": "2021-08-09T08:13:40.002Z"
   },
   {
    "duration": 290,
    "start_time": "2021-08-09T08:13:40.567Z"
   },
   {
    "duration": 283,
    "start_time": "2021-08-09T08:13:40.859Z"
   },
   {
    "duration": 265,
    "start_time": "2021-08-09T08:13:41.145Z"
   },
   {
    "duration": 275,
    "start_time": "2021-08-09T08:13:41.412Z"
   },
   {
    "duration": 277,
    "start_time": "2021-08-09T08:13:41.689Z"
   },
   {
    "duration": 16,
    "start_time": "2021-08-09T08:13:41.969Z"
   },
   {
    "duration": 12,
    "start_time": "2021-08-09T08:13:41.986Z"
   },
   {
    "duration": 16,
    "start_time": "2021-08-09T08:13:41.999Z"
   },
   {
    "duration": 385,
    "start_time": "2021-08-09T08:13:42.017Z"
   },
   {
    "duration": 9,
    "start_time": "2021-08-09T08:13:42.404Z"
   },
   {
    "duration": 445,
    "start_time": "2021-08-09T08:13:42.414Z"
   },
   {
    "duration": 5,
    "start_time": "2021-08-09T08:13:42.861Z"
   },
   {
    "duration": 1344,
    "start_time": "2021-08-09T08:13:42.868Z"
   },
   {
    "duration": 347,
    "start_time": "2021-08-09T08:13:44.214Z"
   },
   {
    "duration": 6,
    "start_time": "2021-08-09T08:13:44.563Z"
   },
   {
    "duration": 1141,
    "start_time": "2021-08-09T08:13:44.571Z"
   },
   {
    "duration": 370,
    "start_time": "2021-08-09T08:13:45.714Z"
   },
   {
    "duration": 370,
    "start_time": "2021-08-09T08:13:46.086Z"
   },
   {
    "duration": 5,
    "start_time": "2021-08-09T08:13:46.457Z"
   },
   {
    "duration": 626,
    "start_time": "2021-08-09T08:13:46.464Z"
   },
   {
    "duration": 728,
    "start_time": "2021-08-09T08:13:47.092Z"
   },
   {
    "duration": 612,
    "start_time": "2021-08-09T08:13:47.823Z"
   },
   {
    "duration": 630,
    "start_time": "2021-08-09T08:13:48.437Z"
   },
   {
    "duration": 15,
    "start_time": "2021-08-09T08:13:49.070Z"
   },
   {
    "duration": 7,
    "start_time": "2021-08-09T08:13:49.086Z"
   },
   {
    "duration": 142,
    "start_time": "2021-08-09T08:13:49.095Z"
   },
   {
    "duration": 153,
    "start_time": "2021-08-09T08:13:49.239Z"
   },
   {
    "duration": 8,
    "start_time": "2021-08-09T08:13:49.394Z"
   },
   {
    "duration": 6,
    "start_time": "2021-08-09T08:13:49.404Z"
   },
   {
    "duration": 155,
    "start_time": "2021-08-09T08:13:49.412Z"
   },
   {
    "duration": 143,
    "start_time": "2021-08-09T08:13:49.569Z"
   },
   {
    "duration": 1470,
    "start_time": "2021-08-09T08:14:03.897Z"
   },
   {
    "duration": 186,
    "start_time": "2021-08-09T08:14:10.795Z"
   },
   {
    "duration": 486,
    "start_time": "2021-08-09T08:14:14.338Z"
   },
   {
    "duration": 190,
    "start_time": "2021-08-09T08:21:05.658Z"
   },
   {
    "duration": 689,
    "start_time": "2021-08-09T08:22:55.690Z"
   },
   {
    "duration": 649,
    "start_time": "2021-08-09T08:25:15.745Z"
   },
   {
    "duration": 895,
    "start_time": "2021-08-09T08:25:54.210Z"
   },
   {
    "duration": 5,
    "start_time": "2021-08-09T08:25:59.490Z"
   },
   {
    "duration": 590,
    "start_time": "2021-08-09T08:26:01.626Z"
   },
   {
    "duration": 607,
    "start_time": "2021-08-09T08:26:11.865Z"
   },
   {
    "duration": 702,
    "start_time": "2021-08-09T08:26:26.930Z"
   },
   {
    "duration": 598,
    "start_time": "2021-08-09T08:26:33.785Z"
   },
   {
    "duration": 602,
    "start_time": "2021-08-09T08:26:39.754Z"
   },
   {
    "duration": 5,
    "start_time": "2021-08-09T08:26:47.259Z"
   },
   {
    "duration": 8,
    "start_time": "2021-08-09T08:26:47.266Z"
   },
   {
    "duration": 48,
    "start_time": "2021-08-09T08:26:47.275Z"
   },
   {
    "duration": 12,
    "start_time": "2021-08-09T08:26:47.325Z"
   },
   {
    "duration": 18,
    "start_time": "2021-08-09T08:26:47.339Z"
   },
   {
    "duration": 29,
    "start_time": "2021-08-09T08:26:47.358Z"
   },
   {
    "duration": 5,
    "start_time": "2021-08-09T08:26:47.389Z"
   },
   {
    "duration": 11,
    "start_time": "2021-08-09T08:26:47.396Z"
   },
   {
    "duration": 3,
    "start_time": "2021-08-09T08:26:47.409Z"
   },
   {
    "duration": 32,
    "start_time": "2021-08-09T08:26:47.414Z"
   },
   {
    "duration": 46,
    "start_time": "2021-08-09T08:26:47.447Z"
   },
   {
    "duration": 9,
    "start_time": "2021-08-09T08:26:47.495Z"
   },
   {
    "duration": 17,
    "start_time": "2021-08-09T08:26:47.506Z"
   },
   {
    "duration": 13,
    "start_time": "2021-08-09T08:26:47.525Z"
   },
   {
    "duration": 4,
    "start_time": "2021-08-09T08:26:47.540Z"
   },
   {
    "duration": 538,
    "start_time": "2021-08-09T08:26:47.546Z"
   },
   {
    "duration": 480,
    "start_time": "2021-08-09T08:26:48.087Z"
   },
   {
    "duration": 460,
    "start_time": "2021-08-09T08:26:48.569Z"
   },
   {
    "duration": 356,
    "start_time": "2021-08-09T08:26:49.031Z"
   },
   {
    "duration": 294,
    "start_time": "2021-08-09T08:26:49.389Z"
   },
   {
    "duration": 263,
    "start_time": "2021-08-09T08:26:49.685Z"
   },
   {
    "duration": 276,
    "start_time": "2021-08-09T08:26:49.950Z"
   },
   {
    "duration": 270,
    "start_time": "2021-08-09T08:26:50.228Z"
   },
   {
    "duration": 5,
    "start_time": "2021-08-09T08:26:50.500Z"
   },
   {
    "duration": 14,
    "start_time": "2021-08-09T08:26:50.507Z"
   },
   {
    "duration": 22,
    "start_time": "2021-08-09T08:26:50.523Z"
   },
   {
    "duration": 391,
    "start_time": "2021-08-09T08:26:50.547Z"
   },
   {
    "duration": 10,
    "start_time": "2021-08-09T08:26:50.940Z"
   },
   {
    "duration": 428,
    "start_time": "2021-08-09T08:26:50.951Z"
   },
   {
    "duration": 7,
    "start_time": "2021-08-09T08:26:51.380Z"
   },
   {
    "duration": 1233,
    "start_time": "2021-08-09T08:26:51.388Z"
   },
   {
    "duration": 451,
    "start_time": "2021-08-09T08:26:52.623Z"
   },
   {
    "duration": 11,
    "start_time": "2021-08-09T08:26:53.076Z"
   },
   {
    "duration": 1197,
    "start_time": "2021-08-09T08:26:53.090Z"
   },
   {
    "duration": 381,
    "start_time": "2021-08-09T08:26:54.289Z"
   },
   {
    "duration": 370,
    "start_time": "2021-08-09T08:26:54.672Z"
   },
   {
    "duration": 5,
    "start_time": "2021-08-09T08:26:55.043Z"
   },
   {
    "duration": 620,
    "start_time": "2021-08-09T08:26:55.050Z"
   },
   {
    "duration": 638,
    "start_time": "2021-08-09T08:26:55.672Z"
   },
   {
    "duration": 697,
    "start_time": "2021-08-09T08:26:56.312Z"
   },
   {
    "duration": 609,
    "start_time": "2021-08-09T08:26:57.011Z"
   },
   {
    "duration": 8,
    "start_time": "2021-08-09T08:26:57.621Z"
   },
   {
    "duration": 8,
    "start_time": "2021-08-09T08:26:57.631Z"
   },
   {
    "duration": 153,
    "start_time": "2021-08-09T08:26:57.641Z"
   },
   {
    "duration": 155,
    "start_time": "2021-08-09T08:26:57.796Z"
   },
   {
    "duration": 7,
    "start_time": "2021-08-09T08:26:57.953Z"
   },
   {
    "duration": 5,
    "start_time": "2021-08-09T08:26:57.962Z"
   },
   {
    "duration": 154,
    "start_time": "2021-08-09T08:26:57.968Z"
   },
   {
    "duration": 146,
    "start_time": "2021-08-09T08:26:58.123Z"
   },
   {
    "duration": 729,
    "start_time": "2021-08-09T08:27:56.195Z"
   },
   {
    "duration": 4,
    "start_time": "2021-08-09T08:28:04.385Z"
   },
   {
    "duration": 9,
    "start_time": "2021-08-09T08:28:08.265Z"
   },
   {
    "duration": 57,
    "start_time": "2021-08-09T08:28:23.155Z"
   },
   {
    "duration": 50,
    "start_time": "2021-08-09T08:28:30.155Z"
   },
   {
    "duration": 855,
    "start_time": "2021-08-09T08:28:32.890Z"
   },
   {
    "duration": 589,
    "start_time": "2021-08-09T08:28:43.665Z"
   },
   {
    "duration": 5,
    "start_time": "2021-08-09T08:29:00.173Z"
   },
   {
    "duration": 610,
    "start_time": "2021-08-09T08:29:02.346Z"
   },
   {
    "duration": 463,
    "start_time": "2021-08-09T09:15:20.767Z"
   },
   {
    "duration": 202,
    "start_time": "2021-08-09T09:15:31.409Z"
   },
   {
    "duration": 5,
    "start_time": "2021-08-09T09:15:41.887Z"
   },
   {
    "duration": 364,
    "start_time": "2021-08-09T09:23:52.846Z"
   },
   {
    "duration": 375,
    "start_time": "2021-08-09T09:24:10.343Z"
   },
   {
    "duration": 226,
    "start_time": "2021-08-09T09:24:26.886Z"
   },
   {
    "duration": 785,
    "start_time": "2021-08-09T09:24:38.902Z"
   },
   {
    "duration": 881,
    "start_time": "2021-08-09T09:29:44.378Z"
   },
   {
    "duration": 578,
    "start_time": "2021-08-09T09:29:51.802Z"
   },
   {
    "duration": 5,
    "start_time": "2021-08-09T09:29:58.219Z"
   },
   {
    "duration": 573,
    "start_time": "2021-08-09T09:30:01.563Z"
   },
   {
    "duration": 4,
    "start_time": "2021-08-09T09:30:10.924Z"
   },
   {
    "duration": 517,
    "start_time": "2021-08-09T09:30:13.243Z"
   },
   {
    "duration": 4,
    "start_time": "2021-08-09T09:32:16.379Z"
   },
   {
    "duration": 493,
    "start_time": "2021-08-09T09:32:28.779Z"
   },
   {
    "duration": 488,
    "start_time": "2021-08-09T09:32:44.851Z"
   },
   {
    "duration": 623,
    "start_time": "2021-08-09T09:33:15.139Z"
   },
   {
    "duration": 289,
    "start_time": "2021-08-09T09:33:29.098Z"
   },
   {
    "duration": 666,
    "start_time": "2021-08-09T09:33:43.154Z"
   },
   {
    "duration": 632,
    "start_time": "2021-08-09T09:33:57.154Z"
   },
   {
    "duration": 5,
    "start_time": "2021-08-09T09:34:04.962Z"
   },
   {
    "duration": 9,
    "start_time": "2021-08-09T09:34:04.970Z"
   },
   {
    "duration": 67,
    "start_time": "2021-08-09T09:34:04.981Z"
   },
   {
    "duration": 12,
    "start_time": "2021-08-09T09:34:05.050Z"
   },
   {
    "duration": 35,
    "start_time": "2021-08-09T09:34:05.064Z"
   },
   {
    "duration": 18,
    "start_time": "2021-08-09T09:34:05.101Z"
   },
   {
    "duration": 5,
    "start_time": "2021-08-09T09:34:05.121Z"
   },
   {
    "duration": 13,
    "start_time": "2021-08-09T09:34:05.127Z"
   },
   {
    "duration": 4,
    "start_time": "2021-08-09T09:34:05.142Z"
   },
   {
    "duration": 62,
    "start_time": "2021-08-09T09:34:05.147Z"
   },
   {
    "duration": 18,
    "start_time": "2021-08-09T09:34:05.211Z"
   },
   {
    "duration": 9,
    "start_time": "2021-08-09T09:34:05.231Z"
   },
   {
    "duration": 17,
    "start_time": "2021-08-09T09:34:05.241Z"
   },
   {
    "duration": 11,
    "start_time": "2021-08-09T09:34:05.284Z"
   },
   {
    "duration": 5,
    "start_time": "2021-08-09T09:34:05.298Z"
   },
   {
    "duration": 522,
    "start_time": "2021-08-09T09:34:05.305Z"
   },
   {
    "duration": 511,
    "start_time": "2021-08-09T09:34:05.830Z"
   },
   {
    "duration": 288,
    "start_time": "2021-08-09T09:34:06.343Z"
   },
   {
    "duration": 645,
    "start_time": "2021-08-09T09:34:06.633Z"
   },
   {
    "duration": 21914,
    "start_time": "2021-08-09T09:33:45.367Z"
   },
   {
    "duration": 21913,
    "start_time": "2021-08-09T09:33:45.371Z"
   },
   {
    "duration": 21906,
    "start_time": "2021-08-09T09:33:45.379Z"
   },
   {
    "duration": 21904,
    "start_time": "2021-08-09T09:33:45.382Z"
   },
   {
    "duration": 21903,
    "start_time": "2021-08-09T09:33:45.384Z"
   },
   {
    "duration": 21901,
    "start_time": "2021-08-09T09:33:45.387Z"
   },
   {
    "duration": 21895,
    "start_time": "2021-08-09T09:33:45.395Z"
   },
   {
    "duration": 21894,
    "start_time": "2021-08-09T09:33:45.397Z"
   },
   {
    "duration": 21893,
    "start_time": "2021-08-09T09:33:45.399Z"
   },
   {
    "duration": 21892,
    "start_time": "2021-08-09T09:33:45.401Z"
   },
   {
    "duration": 21891,
    "start_time": "2021-08-09T09:33:45.403Z"
   },
   {
    "duration": 21889,
    "start_time": "2021-08-09T09:33:45.407Z"
   },
   {
    "duration": 21883,
    "start_time": "2021-08-09T09:33:45.414Z"
   },
   {
    "duration": 21883,
    "start_time": "2021-08-09T09:33:45.416Z"
   },
   {
    "duration": 21882,
    "start_time": "2021-08-09T09:33:45.418Z"
   },
   {
    "duration": 21882,
    "start_time": "2021-08-09T09:33:45.420Z"
   },
   {
    "duration": 21876,
    "start_time": "2021-08-09T09:33:45.428Z"
   },
   {
    "duration": 21874,
    "start_time": "2021-08-09T09:33:45.431Z"
   },
   {
    "duration": 21873,
    "start_time": "2021-08-09T09:33:45.433Z"
   },
   {
    "duration": 21872,
    "start_time": "2021-08-09T09:33:45.436Z"
   },
   {
    "duration": 21868,
    "start_time": "2021-08-09T09:33:45.441Z"
   },
   {
    "duration": 21863,
    "start_time": "2021-08-09T09:33:45.447Z"
   },
   {
    "duration": 21861,
    "start_time": "2021-08-09T09:33:45.450Z"
   },
   {
    "duration": 21860,
    "start_time": "2021-08-09T09:33:45.452Z"
   },
   {
    "duration": 21859,
    "start_time": "2021-08-09T09:33:45.454Z"
   },
   {
    "duration": 21806,
    "start_time": "2021-08-09T09:33:45.508Z"
   },
   {
    "duration": 21985,
    "start_time": "2021-08-09T09:33:45.515Z"
   },
   {
    "duration": 21267,
    "start_time": "2021-08-09T09:33:46.234Z"
   },
   {
    "duration": 21262,
    "start_time": "2021-08-09T09:33:46.240Z"
   },
   {
    "duration": 1472,
    "start_time": "2021-08-09T09:34:18.282Z"
   },
   {
    "duration": 280,
    "start_time": "2021-08-09T09:35:15.329Z"
   },
   {
    "duration": 322,
    "start_time": "2021-08-09T09:35:33.042Z"
   },
   {
    "duration": 302,
    "start_time": "2021-08-09T09:35:38.530Z"
   },
   {
    "duration": 602,
    "start_time": "2021-08-09T09:35:49.642Z"
   },
   {
    "duration": 272,
    "start_time": "2021-08-09T09:36:03.874Z"
   },
   {
    "duration": 291,
    "start_time": "2021-08-09T09:36:14.922Z"
   },
   {
    "duration": 284,
    "start_time": "2021-08-09T09:36:23.162Z"
   },
   {
    "duration": 5,
    "start_time": "2021-08-09T09:37:47.292Z"
   },
   {
    "duration": 7,
    "start_time": "2021-08-09T09:37:47.299Z"
   },
   {
    "duration": 57,
    "start_time": "2021-08-09T09:37:47.308Z"
   },
   {
    "duration": 12,
    "start_time": "2021-08-09T09:37:47.367Z"
   },
   {
    "duration": 16,
    "start_time": "2021-08-09T09:37:47.381Z"
   },
   {
    "duration": 12,
    "start_time": "2021-08-09T09:37:47.399Z"
   },
   {
    "duration": 4,
    "start_time": "2021-08-09T09:37:47.413Z"
   },
   {
    "duration": 12,
    "start_time": "2021-08-09T09:37:47.418Z"
   },
   {
    "duration": 4,
    "start_time": "2021-08-09T09:37:47.432Z"
   },
   {
    "duration": 73,
    "start_time": "2021-08-09T09:37:47.438Z"
   },
   {
    "duration": 20,
    "start_time": "2021-08-09T09:37:47.512Z"
   },
   {
    "duration": 10,
    "start_time": "2021-08-09T09:37:47.534Z"
   },
   {
    "duration": 38,
    "start_time": "2021-08-09T09:37:47.546Z"
   },
   {
    "duration": 12,
    "start_time": "2021-08-09T09:37:47.586Z"
   },
   {
    "duration": 5,
    "start_time": "2021-08-09T09:37:47.599Z"
   },
   {
    "duration": 502,
    "start_time": "2021-08-09T09:37:47.605Z"
   },
   {
    "duration": 605,
    "start_time": "2021-08-09T09:37:48.109Z"
   },
   {
    "duration": 295,
    "start_time": "2021-08-09T09:37:48.716Z"
   },
   {
    "duration": 297,
    "start_time": "2021-08-09T09:37:49.012Z"
   },
   {
    "duration": 276,
    "start_time": "2021-08-09T09:37:49.311Z"
   },
   {
    "duration": 287,
    "start_time": "2021-08-09T09:37:49.589Z"
   },
   {
    "duration": 282,
    "start_time": "2021-08-09T09:37:49.877Z"
   },
   {
    "duration": 5,
    "start_time": "2021-08-09T09:37:50.161Z"
   },
   {
    "duration": 19,
    "start_time": "2021-08-09T09:37:50.168Z"
   },
   {
    "duration": 17,
    "start_time": "2021-08-09T09:37:50.188Z"
   },
   {
    "duration": 630,
    "start_time": "2021-08-09T09:37:50.206Z"
   },
   {
    "duration": 22847,
    "start_time": "2021-08-09T09:37:27.991Z"
   },
   {
    "duration": 22846,
    "start_time": "2021-08-09T09:37:27.993Z"
   },
   {
    "duration": 22845,
    "start_time": "2021-08-09T09:37:27.995Z"
   },
   {
    "duration": 22844,
    "start_time": "2021-08-09T09:37:27.997Z"
   },
   {
    "duration": 22841,
    "start_time": "2021-08-09T09:37:28.001Z"
   },
   {
    "duration": 22840,
    "start_time": "2021-08-09T09:37:28.003Z"
   },
   {
    "duration": 22835,
    "start_time": "2021-08-09T09:37:28.009Z"
   },
   {
    "duration": 22833,
    "start_time": "2021-08-09T09:37:28.012Z"
   },
   {
    "duration": 22832,
    "start_time": "2021-08-09T09:37:28.014Z"
   },
   {
    "duration": 22830,
    "start_time": "2021-08-09T09:37:28.017Z"
   },
   {
    "duration": 22828,
    "start_time": "2021-08-09T09:37:28.020Z"
   },
   {
    "duration": 22827,
    "start_time": "2021-08-09T09:37:28.022Z"
   },
   {
    "duration": 22826,
    "start_time": "2021-08-09T09:37:28.024Z"
   },
   {
    "duration": 22825,
    "start_time": "2021-08-09T09:37:28.026Z"
   },
   {
    "duration": 22819,
    "start_time": "2021-08-09T09:37:28.033Z"
   },
   {
    "duration": 22817,
    "start_time": "2021-08-09T09:37:28.036Z"
   },
   {
    "duration": 22816,
    "start_time": "2021-08-09T09:37:28.038Z"
   },
   {
    "duration": 22815,
    "start_time": "2021-08-09T09:37:28.040Z"
   },
   {
    "duration": 22843,
    "start_time": "2021-08-09T09:37:28.042Z"
   },
   {
    "duration": 22841,
    "start_time": "2021-08-09T09:37:28.045Z"
   },
   {
    "duration": 22840,
    "start_time": "2021-08-09T09:37:28.047Z"
   },
   {
    "duration": 22838,
    "start_time": "2021-08-09T09:37:28.050Z"
   },
   {
    "duration": 398,
    "start_time": "2021-08-09T09:38:33.793Z"
   },
   {
    "duration": 13,
    "start_time": "2021-08-09T09:38:48.418Z"
   },
   {
    "duration": 498,
    "start_time": "2021-08-09T09:38:50.579Z"
   },
   {
    "duration": 6,
    "start_time": "2021-08-09T09:38:59.043Z"
   },
   {
    "duration": 1402,
    "start_time": "2021-08-09T09:39:02.578Z"
   },
   {
    "duration": 366,
    "start_time": "2021-08-09T09:39:13.483Z"
   },
   {
    "duration": 6,
    "start_time": "2021-08-09T09:39:19.298Z"
   },
   {
    "duration": 1145,
    "start_time": "2021-08-09T09:39:21.082Z"
   },
   {
    "duration": 350,
    "start_time": "2021-08-09T09:39:26.619Z"
   },
   {
    "duration": 361,
    "start_time": "2021-08-09T09:39:31.178Z"
   },
   {
    "duration": 4,
    "start_time": "2021-08-09T09:39:41.811Z"
   },
   {
    "duration": 620,
    "start_time": "2021-08-09T09:39:44.802Z"
   },
   {
    "duration": 4,
    "start_time": "2021-08-09T09:39:50.612Z"
   },
   {
    "duration": 10,
    "start_time": "2021-08-09T09:39:50.618Z"
   },
   {
    "duration": 55,
    "start_time": "2021-08-09T09:39:50.630Z"
   },
   {
    "duration": 11,
    "start_time": "2021-08-09T09:39:50.687Z"
   },
   {
    "duration": 19,
    "start_time": "2021-08-09T09:39:50.699Z"
   },
   {
    "duration": 150,
    "start_time": "2021-08-09T09:39:50.720Z"
   },
   {
    "duration": 13,
    "start_time": "2021-08-09T09:39:50.872Z"
   },
   {
    "duration": 11,
    "start_time": "2021-08-09T09:39:50.887Z"
   },
   {
    "duration": 4,
    "start_time": "2021-08-09T09:39:50.900Z"
   },
   {
    "duration": 35,
    "start_time": "2021-08-09T09:39:50.906Z"
   },
   {
    "duration": 48,
    "start_time": "2021-08-09T09:39:50.943Z"
   },
   {
    "duration": 10,
    "start_time": "2021-08-09T09:39:50.992Z"
   },
   {
    "duration": 15,
    "start_time": "2021-08-09T09:39:51.004Z"
   },
   {
    "duration": 11,
    "start_time": "2021-08-09T09:39:51.021Z"
   },
   {
    "duration": 5,
    "start_time": "2021-08-09T09:39:51.033Z"
   },
   {
    "duration": 523,
    "start_time": "2021-08-09T09:39:51.039Z"
   },
   {
    "duration": 488,
    "start_time": "2021-08-09T09:39:51.564Z"
   },
   {
    "duration": 294,
    "start_time": "2021-08-09T09:39:52.054Z"
   },
   {
    "duration": 290,
    "start_time": "2021-08-09T09:39:52.350Z"
   },
   {
    "duration": 267,
    "start_time": "2021-08-09T09:39:52.642Z"
   },
   {
    "duration": 284,
    "start_time": "2021-08-09T09:39:52.910Z"
   },
   {
    "duration": 283,
    "start_time": "2021-08-09T09:39:53.195Z"
   },
   {
    "duration": 8,
    "start_time": "2021-08-09T09:39:53.479Z"
   },
   {
    "duration": 9,
    "start_time": "2021-08-09T09:39:53.489Z"
   },
   {
    "duration": 16,
    "start_time": "2021-08-09T09:39:53.500Z"
   },
   {
    "duration": 417,
    "start_time": "2021-08-09T09:39:53.518Z"
   },
   {
    "duration": 10,
    "start_time": "2021-08-09T09:39:53.939Z"
   },
   {
    "duration": 433,
    "start_time": "2021-08-09T09:39:53.951Z"
   },
   {
    "duration": 6,
    "start_time": "2021-08-09T09:39:54.386Z"
   },
   {
    "duration": 1391,
    "start_time": "2021-08-09T09:39:54.393Z"
   },
   {
    "duration": 367,
    "start_time": "2021-08-09T09:39:55.786Z"
   },
   {
    "duration": 6,
    "start_time": "2021-08-09T09:39:56.154Z"
   },
   {
    "duration": 1142,
    "start_time": "2021-08-09T09:39:56.161Z"
   },
   {
    "duration": 371,
    "start_time": "2021-08-09T09:39:57.305Z"
   },
   {
    "duration": 367,
    "start_time": "2021-08-09T09:39:57.684Z"
   },
   {
    "duration": 4,
    "start_time": "2021-08-09T09:39:58.053Z"
   },
   {
    "duration": 710,
    "start_time": "2021-08-09T09:39:58.058Z"
   },
   {
    "duration": 652,
    "start_time": "2021-08-09T09:39:58.770Z"
   },
   {
    "duration": 616,
    "start_time": "2021-08-09T09:39:59.424Z"
   },
   {
    "duration": 633,
    "start_time": "2021-08-09T09:40:00.042Z"
   },
   {
    "duration": 13,
    "start_time": "2021-08-09T09:40:00.676Z"
   },
   {
    "duration": 28,
    "start_time": "2021-08-09T09:40:00.690Z"
   },
   {
    "duration": 151,
    "start_time": "2021-08-09T09:40:00.720Z"
   },
   {
    "duration": 146,
    "start_time": "2021-08-09T09:40:00.873Z"
   },
   {
    "duration": 8,
    "start_time": "2021-08-09T09:40:01.021Z"
   },
   {
    "duration": 15,
    "start_time": "2021-08-09T09:40:01.030Z"
   },
   {
    "duration": 150,
    "start_time": "2021-08-09T09:40:01.046Z"
   },
   {
    "duration": 250,
    "start_time": "2021-08-09T09:40:01.198Z"
   },
   {
    "duration": 60,
    "start_time": "2021-08-09T09:52:55.322Z"
   },
   {
    "duration": 60,
    "start_time": "2021-08-09T09:53:17.484Z"
   },
   {
    "duration": 718,
    "start_time": "2021-08-09T09:56:12.554Z"
   },
   {
    "duration": 64,
    "start_time": "2021-08-09T09:56:23.101Z"
   },
   {
    "duration": 219,
    "start_time": "2021-08-09T09:57:25.041Z"
   },
   {
    "duration": 60,
    "start_time": "2021-08-09T09:57:34.114Z"
   },
   {
    "duration": 64,
    "start_time": "2021-08-09T09:58:07.163Z"
   },
   {
    "duration": 60,
    "start_time": "2021-08-09T09:58:17.354Z"
   },
   {
    "duration": 412,
    "start_time": "2021-08-09T10:09:45.411Z"
   },
   {
    "duration": 371,
    "start_time": "2021-08-09T10:10:00.434Z"
   },
   {
    "duration": 372,
    "start_time": "2021-08-09T10:10:04.817Z"
   },
   {
    "duration": 401,
    "start_time": "2021-08-09T10:10:35.975Z"
   },
   {
    "duration": 637,
    "start_time": "2021-08-09T10:10:40.693Z"
   },
   {
    "duration": 542,
    "start_time": "2021-08-09T10:11:10.922Z"
   },
   {
    "duration": 369,
    "start_time": "2021-08-09T10:11:31.179Z"
   },
   {
    "duration": 391,
    "start_time": "2021-08-09T10:15:40.602Z"
   },
   {
    "duration": 373,
    "start_time": "2021-08-09T10:16:04.449Z"
   },
   {
    "duration": 1525,
    "start_time": "2021-08-09T19:32:40.522Z"
   },
   {
    "duration": 11,
    "start_time": "2021-08-09T19:32:42.050Z"
   },
   {
    "duration": 78,
    "start_time": "2021-08-09T19:32:42.065Z"
   },
   {
    "duration": 27,
    "start_time": "2021-08-09T19:32:42.146Z"
   },
   {
    "duration": 27,
    "start_time": "2021-08-09T19:32:42.175Z"
   },
   {
    "duration": 21,
    "start_time": "2021-08-09T19:32:42.205Z"
   },
   {
    "duration": 7,
    "start_time": "2021-08-09T19:32:42.263Z"
   },
   {
    "duration": 24,
    "start_time": "2021-08-09T19:32:42.273Z"
   },
   {
    "duration": 7,
    "start_time": "2021-08-09T19:32:42.301Z"
   },
   {
    "duration": 76,
    "start_time": "2021-08-09T19:32:42.311Z"
   },
   {
    "duration": 38,
    "start_time": "2021-08-09T19:32:42.390Z"
   },
   {
    "duration": 49,
    "start_time": "2021-08-09T19:32:42.432Z"
   },
   {
    "duration": 27,
    "start_time": "2021-08-09T19:32:42.484Z"
   },
   {
    "duration": 54,
    "start_time": "2021-08-09T19:32:42.515Z"
   },
   {
    "duration": 10,
    "start_time": "2021-08-09T19:32:42.572Z"
   },
   {
    "duration": 935,
    "start_time": "2021-08-09T19:32:42.584Z"
   },
   {
    "duration": 812,
    "start_time": "2021-08-09T19:32:43.522Z"
   },
   {
    "duration": 578,
    "start_time": "2021-08-09T19:32:44.337Z"
   },
   {
    "duration": 482,
    "start_time": "2021-08-09T19:32:44.918Z"
   },
   {
    "duration": 444,
    "start_time": "2021-08-09T19:32:45.403Z"
   },
   {
    "duration": 532,
    "start_time": "2021-08-09T19:32:45.850Z"
   },
   {
    "duration": 464,
    "start_time": "2021-08-09T19:32:46.385Z"
   },
   {
    "duration": 87,
    "start_time": "2021-08-09T19:32:46.852Z"
   },
   {
    "duration": 23,
    "start_time": "2021-08-09T19:32:46.942Z"
   },
   {
    "duration": 12,
    "start_time": "2021-08-09T19:32:46.968Z"
   },
   {
    "duration": 26,
    "start_time": "2021-08-09T19:32:46.983Z"
   },
   {
    "duration": 688,
    "start_time": "2021-08-09T19:32:47.015Z"
   },
   {
    "duration": 13,
    "start_time": "2021-08-09T19:32:47.706Z"
   },
   {
    "duration": 649,
    "start_time": "2021-08-09T19:32:47.722Z"
   },
   {
    "duration": 8,
    "start_time": "2021-08-09T19:32:48.373Z"
   },
   {
    "duration": 2067,
    "start_time": "2021-08-09T19:32:48.383Z"
   },
   {
    "duration": 512,
    "start_time": "2021-08-09T19:32:50.453Z"
   },
   {
    "duration": 6,
    "start_time": "2021-08-09T19:32:50.968Z"
   },
   {
    "duration": 1907,
    "start_time": "2021-08-09T19:32:50.976Z"
   },
   {
    "duration": 540,
    "start_time": "2021-08-09T19:32:52.886Z"
   },
   {
    "duration": 603,
    "start_time": "2021-08-09T19:32:53.428Z"
   },
   {
    "duration": 7,
    "start_time": "2021-08-09T19:32:54.033Z"
   },
   {
    "duration": 2027,
    "start_time": "2021-08-09T19:32:54.042Z"
   },
   {
    "duration": -5902,
    "start_time": "2021-08-09T19:33:01.974Z"
   },
   {
    "duration": -5903,
    "start_time": "2021-08-09T19:33:01.977Z"
   },
   {
    "duration": -5904,
    "start_time": "2021-08-09T19:33:01.979Z"
   },
   {
    "duration": -5905,
    "start_time": "2021-08-09T19:33:01.982Z"
   },
   {
    "duration": -5906,
    "start_time": "2021-08-09T19:33:01.984Z"
   },
   {
    "duration": -5908,
    "start_time": "2021-08-09T19:33:01.988Z"
   },
   {
    "duration": -5910,
    "start_time": "2021-08-09T19:33:01.991Z"
   },
   {
    "duration": -5912,
    "start_time": "2021-08-09T19:33:01.994Z"
   },
   {
    "duration": -5913,
    "start_time": "2021-08-09T19:33:01.996Z"
   },
   {
    "duration": -5913,
    "start_time": "2021-08-09T19:33:01.999Z"
   },
   {
    "duration": -5914,
    "start_time": "2021-08-09T19:33:02.001Z"
   },
   {
    "duration": 7,
    "start_time": "2021-08-09T19:36:25.207Z"
   },
   {
    "duration": 12,
    "start_time": "2021-08-09T19:36:25.216Z"
   },
   {
    "duration": 61,
    "start_time": "2021-08-09T19:36:25.231Z"
   },
   {
    "duration": 19,
    "start_time": "2021-08-09T19:36:25.295Z"
   },
   {
    "duration": 67,
    "start_time": "2021-08-09T19:36:25.317Z"
   },
   {
    "duration": 22,
    "start_time": "2021-08-09T19:36:25.386Z"
   },
   {
    "duration": 7,
    "start_time": "2021-08-09T19:36:25.410Z"
   },
   {
    "duration": 14,
    "start_time": "2021-08-09T19:36:25.464Z"
   },
   {
    "duration": 6,
    "start_time": "2021-08-09T19:36:25.481Z"
   },
   {
    "duration": 80,
    "start_time": "2021-08-09T19:36:25.489Z"
   },
   {
    "duration": 25,
    "start_time": "2021-08-09T19:36:25.571Z"
   },
   {
    "duration": 11,
    "start_time": "2021-08-09T19:36:25.598Z"
   },
   {
    "duration": 57,
    "start_time": "2021-08-09T19:36:25.611Z"
   },
   {
    "duration": 22,
    "start_time": "2021-08-09T19:36:25.670Z"
   },
   {
    "duration": 16,
    "start_time": "2021-08-09T19:36:25.694Z"
   },
   {
    "duration": 844,
    "start_time": "2021-08-09T19:36:25.712Z"
   },
   {
    "duration": 807,
    "start_time": "2021-08-09T19:36:26.561Z"
   },
   {
    "duration": 467,
    "start_time": "2021-08-09T19:36:27.370Z"
   },
   {
    "duration": 562,
    "start_time": "2021-08-09T19:36:27.840Z"
   },
   {
    "duration": 535,
    "start_time": "2021-08-09T19:36:28.405Z"
   },
   {
    "duration": 448,
    "start_time": "2021-08-09T19:36:28.943Z"
   },
   {
    "duration": 441,
    "start_time": "2021-08-09T19:36:29.393Z"
   },
   {
    "duration": 89,
    "start_time": "2021-08-09T19:36:29.839Z"
   },
   {
    "duration": 5,
    "start_time": "2021-08-09T19:36:29.931Z"
   },
   {
    "duration": 29,
    "start_time": "2021-08-09T19:36:29.939Z"
   },
   {
    "duration": 25,
    "start_time": "2021-08-09T19:36:29.970Z"
   },
   {
    "duration": 660,
    "start_time": "2021-08-09T19:36:29.997Z"
   },
   {
    "duration": 19,
    "start_time": "2021-08-09T19:36:30.663Z"
   },
   {
    "duration": 889,
    "start_time": "2021-08-09T19:36:30.685Z"
   },
   {
    "duration": 11,
    "start_time": "2021-08-09T19:36:31.577Z"
   },
   {
    "duration": 3005,
    "start_time": "2021-08-09T19:36:31.591Z"
   },
   {
    "duration": 701,
    "start_time": "2021-08-09T19:36:34.599Z"
   },
   {
    "duration": 9,
    "start_time": "2021-08-09T19:36:35.303Z"
   },
   {
    "duration": 2000,
    "start_time": "2021-08-09T19:36:35.316Z"
   },
   {
    "duration": 596,
    "start_time": "2021-08-09T19:36:37.319Z"
   },
   {
    "duration": 576,
    "start_time": "2021-08-09T19:36:37.917Z"
   },
   {
    "duration": 6,
    "start_time": "2021-08-09T19:36:38.495Z"
   },
   {
    "duration": 995,
    "start_time": "2021-08-09T19:36:38.504Z"
   },
   {
    "duration": 987,
    "start_time": "2021-08-09T19:36:39.502Z"
   },
   {
    "duration": 1231,
    "start_time": "2021-08-09T19:36:40.491Z"
   },
   {
    "duration": 1064,
    "start_time": "2021-08-09T19:36:41.725Z"
   },
   {
    "duration": 11,
    "start_time": "2021-08-09T19:36:42.792Z"
   },
   {
    "duration": 13,
    "start_time": "2021-08-09T19:36:42.805Z"
   },
   {
    "duration": 244,
    "start_time": "2021-08-09T19:36:42.820Z"
   },
   {
    "duration": 236,
    "start_time": "2021-08-09T19:36:43.067Z"
   },
   {
    "duration": 10,
    "start_time": "2021-08-09T19:36:43.306Z"
   },
   {
    "duration": 10,
    "start_time": "2021-08-09T19:36:43.318Z"
   },
   {
    "duration": 271,
    "start_time": "2021-08-09T19:36:43.330Z"
   },
   {
    "duration": 246,
    "start_time": "2021-08-09T19:36:43.604Z"
   },
   {
    "duration": 115,
    "start_time": "2021-08-09T19:38:12.563Z"
   }
  ],
  "kernelspec": {
   "display_name": "Python 3 (ipykernel)",
   "language": "python",
   "name": "python3"
  },
  "language_info": {
   "codemirror_mode": {
    "name": "ipython",
    "version": 3
   },
   "file_extension": ".py",
   "mimetype": "text/x-python",
   "name": "python",
   "nbconvert_exporter": "python",
   "pygments_lexer": "ipython3",
   "version": "3.9.10"
  },
  "toc": {
   "base_numbering": 1,
   "nav_menu": {},
   "number_sections": true,
   "sideBar": true,
   "skip_h1_title": true,
   "title_cell": "Table of Contents",
   "title_sidebar": "Contents",
   "toc_cell": false,
   "toc_position": {
    "height": "calc(100% - 180px)",
    "left": "10px",
    "top": "150px",
    "width": "366.4px"
   },
   "toc_section_display": true,
   "toc_window_display": true
  }
 },
 "nbformat": 4,
 "nbformat_minor": 2
}
