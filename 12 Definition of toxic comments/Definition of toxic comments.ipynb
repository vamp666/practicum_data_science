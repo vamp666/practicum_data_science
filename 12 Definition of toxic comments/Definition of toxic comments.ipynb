{
 "cells": [
  {
   "cell_type": "markdown",
   "metadata": {},
   "source": [
    "# Definition of toxic comments"
   ]
  },
  {
   "cell_type": "markdown",
   "metadata": {},
   "source": [
    "Online store \"Wikishop\" launches a new service. Now users can edit and supplement product descriptions, just like in wiki communities. That is, clients propose their edits and comment on the changes of others. The store needs a tool that will look for toxic comments and submit them for moderation.\n",
    "\n",
    "I will train the model to classify comments into positive and negative. I have a data set with markup on the toxicity of edits.\n",
    "\n",
    "It is necessary to build a model with the value of the quality metric *F1* not less than 0.75.\n",
    "\n",
    "**Project steps**\n",
    "\n",
    "1. Download and prepare data.\n",
    "2. Train different models.\n",
    "3. Draw conclusions.\n",
    "\n",
    "**Data Description**\n",
    "\n",
    "The data is in the `toxic_comments.csv` file. The *text* column contains the text of the comment, and *toxic* is the target attribute."
   ]
  },
  {
   "cell_type": "markdown",
   "metadata": {},
   "source": [
    "## Preprocessing"
   ]
  },
  {
   "cell_type": "markdown",
   "metadata": {},
   "source": [
    "Loading the necessary libraries."
   ]
  },
  {
   "cell_type": "code",
   "execution_count": 1,
   "metadata": {},
   "outputs": [
    {
     "name": "stderr",
     "output_type": "stream",
     "text": [
      "[nltk_data] Downloading package stopwords to /home/jovyan/nltk_data...\n",
      "[nltk_data]   Package stopwords is already up-to-date!\n"
     ]
    }
   ],
   "source": [
    "import pandas as pd\n",
    "import numpy as np\n",
    "import nltk\n",
    "nltk.download('stopwords')\n",
    "import re\n",
    "import torch\n",
    "import transformers\n",
    "from nltk.corpus import stopwords as nltk_stopwords\n",
    "from nltk.stem.snowball import EnglishStemmer\n",
    "from sklearn.feature_extraction.text import TfidfVectorizer\n",
    "from sklearn.linear_model import LogisticRegression\n",
    "from catboost import CatBoostClassifier\n",
    "from sklearn.metrics import accuracy_score, f1_score\n",
    "from sklearn.model_selection import KFold\n",
    "from sklearn.linear_model import LinearRegression\n",
    "from sklearn.model_selection import train_test_split, cross_val_score\n",
    "from sklearn.feature_selection import RFE\n",
    "from sklearn.ensemble import RandomForestClassifier"
   ]
  },
  {
   "cell_type": "code",
   "execution_count": 2,
   "metadata": {},
   "outputs": [
    {
     "data": {
      "text/html": [
       "<div>\n",
       "<style scoped>\n",
       "    .dataframe tbody tr th:only-of-type {\n",
       "        vertical-align: middle;\n",
       "    }\n",
       "\n",
       "    .dataframe tbody tr th {\n",
       "        vertical-align: top;\n",
       "    }\n",
       "\n",
       "    .dataframe thead th {\n",
       "        text-align: right;\n",
       "    }\n",
       "</style>\n",
       "<table border=\"1\" class=\"dataframe\">\n",
       "  <thead>\n",
       "    <tr style=\"text-align: right;\">\n",
       "      <th></th>\n",
       "      <th>text</th>\n",
       "      <th>toxic</th>\n",
       "    </tr>\n",
       "  </thead>\n",
       "  <tbody>\n",
       "    <tr>\n",
       "      <td>0</td>\n",
       "      <td>Explanation\\nWhy the edits made under my usern...</td>\n",
       "      <td>0</td>\n",
       "    </tr>\n",
       "    <tr>\n",
       "      <td>1</td>\n",
       "      <td>D'aww! He matches this background colour I'm s...</td>\n",
       "      <td>0</td>\n",
       "    </tr>\n",
       "    <tr>\n",
       "      <td>2</td>\n",
       "      <td>Hey man, I'm really not trying to edit war. It...</td>\n",
       "      <td>0</td>\n",
       "    </tr>\n",
       "    <tr>\n",
       "      <td>3</td>\n",
       "      <td>\"\\nMore\\nI can't make any real suggestions on ...</td>\n",
       "      <td>0</td>\n",
       "    </tr>\n",
       "    <tr>\n",
       "      <td>4</td>\n",
       "      <td>You, sir, are my hero. Any chance you remember...</td>\n",
       "      <td>0</td>\n",
       "    </tr>\n",
       "  </tbody>\n",
       "</table>\n",
       "</div>"
      ],
      "text/plain": [
       "                                                text  toxic\n",
       "0  Explanation\\nWhy the edits made under my usern...      0\n",
       "1  D'aww! He matches this background colour I'm s...      0\n",
       "2  Hey man, I'm really not trying to edit war. It...      0\n",
       "3  \"\\nMore\\nI can't make any real suggestions on ...      0\n",
       "4  You, sir, are my hero. Any chance you remember...      0"
      ]
     },
     "execution_count": 2,
     "metadata": {},
     "output_type": "execute_result"
    }
   ],
   "source": [
    "df = pd.read_csv('/datasets/toxic_comments.csv')\n",
    "df.head()"
   ]
  },
  {
   "cell_type": "code",
   "execution_count": 3,
   "metadata": {},
   "outputs": [
    {
     "name": "stdout",
     "output_type": "stream",
     "text": [
      "<class 'pandas.core.frame.DataFrame'>\n",
      "RangeIndex: 159571 entries, 0 to 159570\n",
      "Data columns (total 2 columns):\n",
      "text     159571 non-null object\n",
      "toxic    159571 non-null int64\n",
      "dtypes: int64(1), object(1)\n",
      "memory usage: 2.4+ MB\n"
     ]
    }
   ],
   "source": [
    "df.info()"
   ]
  },
  {
   "cell_type": "markdown",
   "metadata": {},
   "source": [
    "Remarkably, the data is presented in full, without omissions.\n",
    "\n",
    "Separate the target feature."
   ]
  },
  {
   "cell_type": "code",
   "execution_count": 4,
   "metadata": {},
   "outputs": [],
   "source": [
    "target = df['toxic']\n",
    "features = df['text']"
   ]
  },
  {
   "cell_type": "markdown",
   "metadata": {},
   "source": [
    "The division into training and test samples is 70% by 30%."
   ]
  },
  {
   "cell_type": "code",
   "execution_count": 5,
   "metadata": {},
   "outputs": [],
   "source": [
    "features_train, features_test, target_train, target_test = train_test_split(features, target, test_size=.3, shuffle=False)"
   ]
  },
  {
   "cell_type": "markdown",
   "metadata": {},
   "source": [
    "Data type conversion."
   ]
  },
  {
   "cell_type": "code",
   "execution_count": 6,
   "metadata": {},
   "outputs": [],
   "source": [
    "corpus_train = features_train.values.astype('U')"
   ]
  },
  {
   "cell_type": "code",
   "execution_count": 7,
   "metadata": {},
   "outputs": [],
   "source": [
    "corpus_test = features_test.values.astype('U')"
   ]
  },
  {
   "cell_type": "markdown",
   "metadata": {},
   "source": [
    "I clear the dataframe and leave only regular expressions."
   ]
  },
  {
   "cell_type": "code",
   "execution_count": 8,
   "metadata": {},
   "outputs": [],
   "source": [
    "def clear_text(text):\n",
    "    text_lem = re.sub(r'[^a-zA-Z]', ' ', text)\n",
    "    return text_lem"
   ]
  },
  {
   "cell_type": "code",
   "execution_count": 9,
   "metadata": {},
   "outputs": [],
   "source": [
    "for i in range(len(corpus_train)):\n",
    "    corpus_train[i] = clear_text(corpus_train[i])"
   ]
  },
  {
   "cell_type": "code",
   "execution_count": 10,
   "metadata": {},
   "outputs": [],
   "source": [
    "for i in range(len(corpus_test)):\n",
    "    corpus_test[i] = clear_text(corpus_test[i])"
   ]
  },
  {
   "cell_type": "markdown",
   "metadata": {},
   "source": [
    "I bring the words to the main form using stemming from the nltk library."
   ]
  },
  {
   "cell_type": "code",
   "execution_count": 11,
   "metadata": {},
   "outputs": [],
   "source": [
    "stemmer = EnglishStemmer(ignore_stopwords=False)"
   ]
  },
  {
   "cell_type": "code",
   "execution_count": 12,
   "metadata": {},
   "outputs": [
    {
     "name": "stdout",
     "output_type": "stream",
     "text": [
      "CPU times: user 1min 41s, sys: 48.8 ms, total: 1min 41s\n",
      "Wall time: 1min 44s\n"
     ]
    }
   ],
   "source": [
    "%%time\n",
    "for i in range(len(corpus_train)):\n",
    "    word_list = nltk.word_tokenize(corpus_train[i])\n",
    "    corpus_train[i] = ' '.join([stemmer.stem(w) for w in word_list])"
   ]
  },
  {
   "cell_type": "code",
   "execution_count": 13,
   "metadata": {},
   "outputs": [
    {
     "name": "stdout",
     "output_type": "stream",
     "text": [
      "CPU times: user 42.9 s, sys: 7.77 ms, total: 42.9 s\n",
      "Wall time: 43.7 s\n"
     ]
    }
   ],
   "source": [
    "%%time\n",
    "for i in range(len(corpus_test)):\n",
    "    word_list = nltk.word_tokenize(corpus_test[i])\n",
    "    corpus_test[i] = ' '.join([stemmer.stem(w) for w in word_list])"
   ]
  },
  {
   "cell_type": "markdown",
   "metadata": {},
   "source": [
    "The stopwords variable is loaded with the base of stopwords."
   ]
  },
  {
   "cell_type": "code",
   "execution_count": 14,
   "metadata": {},
   "outputs": [],
   "source": [
    "stopwords = set(nltk_stopwords.words('english'))"
   ]
  },
  {
   "cell_type": "markdown",
   "metadata": {},
   "source": [
    "Data vectorization."
   ]
  },
  {
   "cell_type": "code",
   "execution_count": 15,
   "metadata": {},
   "outputs": [],
   "source": [
    "count_tf_idf = TfidfVectorizer(stop_words=stopwords)\n",
    "tf_idf = count_tf_idf.fit(corpus_train)"
   ]
  },
  {
   "cell_type": "code",
   "execution_count": 16,
   "metadata": {},
   "outputs": [],
   "source": [
    "train_x = tf_idf.transform(corpus_train)"
   ]
  },
  {
   "cell_type": "code",
   "execution_count": 17,
   "metadata": {},
   "outputs": [],
   "source": [
    "test_x = tf_idf.transform(corpus_test)"
   ]
  },
  {
   "cell_type": "markdown",
   "metadata": {},
   "source": [
    "###### Conclusion"
   ]
  },
  {
   "cell_type": "markdown",
   "metadata": {},
   "source": [
    "The data are prepared, transformed and divided into samples. Everything is ready to train the models."
   ]
  },
  {
   "cell_type": "markdown",
   "metadata": {},
   "source": [
    "## Training"
   ]
  },
  {
   "cell_type": "markdown",
   "metadata": {},
   "source": [
    "### Logistic regression"
   ]
  },
  {
   "cell_type": "markdown",
   "metadata": {},
   "source": [
    "First I will train logistic regression. After that, F1 will be measured."
   ]
  },
  {
   "cell_type": "code",
   "execution_count": 18,
   "metadata": {},
   "outputs": [],
   "source": [
    "model = LogisticRegression(random_state=12345, solver = 'liblinear', class_weight='balanced')"
   ]
  },
  {
   "cell_type": "code",
   "execution_count": 19,
   "metadata": {},
   "outputs": [
    {
     "data": {
      "text/plain": [
       "LogisticRegression(C=1.0, class_weight='balanced', dual=False,\n",
       "                   fit_intercept=True, intercept_scaling=1, l1_ratio=None,\n",
       "                   max_iter=100, multi_class='warn', n_jobs=None, penalty='l2',\n",
       "                   random_state=12345, solver='liblinear', tol=0.0001,\n",
       "                   verbose=0, warm_start=False)"
      ]
     },
     "execution_count": 19,
     "metadata": {},
     "output_type": "execute_result"
    }
   ],
   "source": [
    "model.fit(train_x, target_train)"
   ]
  },
  {
   "cell_type": "code",
   "execution_count": 20,
   "metadata": {},
   "outputs": [],
   "source": [
    "predicted = pd.Series(model.predict(test_x))"
   ]
  },
  {
   "cell_type": "code",
   "execution_count": 21,
   "metadata": {},
   "outputs": [
    {
     "data": {
      "text/plain": [
       "0.75"
      ]
     },
     "execution_count": 21,
     "metadata": {},
     "output_type": "execute_result"
    }
   ],
   "source": [
    "f1_score(predicted, target_test).round(2)"
   ]
  },
  {
   "cell_type": "markdown",
   "metadata": {},
   "source": [
    "### Random Forest"
   ]
  },
  {
   "cell_type": "markdown",
   "metadata": {},
   "source": [
    "Next, I will test the random forest model using cross-validation."
   ]
  },
  {
   "cell_type": "code",
   "execution_count": 22,
   "metadata": {},
   "outputs": [
    {
     "name": "stdout",
     "output_type": "stream",
     "text": [
      "Score при max_depth = 5 : [0.61846699 0.64037279 0.61906425]\n",
      "Score mean = 0.625968008641557\n",
      "\n",
      "Score при max_depth = 10 : [0.69218993 0.68393629 0.69974753]\n",
      "Score mean = 0.6919579186706691\n",
      "\n",
      "Score при max_depth = 15 : [0.73575227 0.75083931 0.71003438]\n",
      "Score mean = 0.7322086525583004\n",
      "\n",
      "Score при max_depth = 20 : [0.75425686 0.7384041  0.7372153 ]\n",
      "Score mean = 0.7432920881873307\n",
      "\n",
      "Score при max_depth = 25 : [0.77969061 0.76547686 0.75580146]\n",
      "Score mean = 0.7669896427976592\n",
      "\n"
     ]
    }
   ],
   "source": [
    "for max_depth in range(5, 26, 5):\n",
    "    rf_model = RandomForestClassifier(class_weight = 'balanced', max_depth = max_depth, n_estimators = 100)\n",
    "    rf_cv = cross_val_score(rf_model, train_x, target_train, cv=3)\n",
    "    print(\"Score при max_depth =\", max_depth, \":\", rf_cv)\n",
    "    print(\"Score mean =\", sum(rf_cv)/len(rf_cv))\n",
    "    print()"
   ]
  },
  {
   "cell_type": "code",
   "execution_count": 23,
   "metadata": {},
   "outputs": [
    {
     "name": "stdout",
     "output_type": "stream",
     "text": [
      "Score при n_estimators = 50 : [0.62942472 0.61936991 0.67756231]\n",
      "Score mean = 0.6421189817061267\n",
      "\n",
      "Score при n_estimators = 100 : [0.67156362 0.64273628 0.64412333]\n",
      "Score mean = 0.6528077472467088\n",
      "\n",
      "Score при n_estimators = 150 : [0.62638986 0.66215454 0.65545767]\n",
      "Score mean = 0.6480006899597318\n",
      "\n",
      "Score при n_estimators = 200 : [0.67191277 0.68603121 0.63308444]\n",
      "Score mean = 0.6636761400878753\n",
      "\n"
     ]
    }
   ],
   "source": [
    "for estim in range(50, 201, 50):\n",
    "    rf_model = RandomForestClassifier(class_weight = 'balanced', max_depth = 5, n_estimators = estim)\n",
    "    rf_cv = cross_val_score(rf_model, train_x, target_train, cv=3)\n",
    "    print(\"Score при n_estimators =\", estim, \":\", rf_cv)\n",
    "    print(\"Score mean =\", sum(rf_cv)/len(rf_cv))\n",
    "    print()"
   ]
  },
  {
   "cell_type": "code",
   "execution_count": 28,
   "metadata": {},
   "outputs": [],
   "source": [
    "model_1 = RandomForestClassifier(class_weight = 'balanced',\n",
    "                    max_depth = 25,\n",
    "                    n_estimators = 200)"
   ]
  },
  {
   "cell_type": "code",
   "execution_count": 29,
   "metadata": {},
   "outputs": [
    {
     "data": {
      "text/plain": [
       "RandomForestClassifier(bootstrap=True, class_weight='balanced',\n",
       "                       criterion='gini', max_depth=25, max_features='auto',\n",
       "                       max_leaf_nodes=None, min_impurity_decrease=0.0,\n",
       "                       min_impurity_split=None, min_samples_leaf=1,\n",
       "                       min_samples_split=2, min_weight_fraction_leaf=0.0,\n",
       "                       n_estimators=200, n_jobs=None, oob_score=False,\n",
       "                       random_state=None, verbose=0, warm_start=False)"
      ]
     },
     "execution_count": 29,
     "metadata": {},
     "output_type": "execute_result"
    }
   ],
   "source": [
    "model_1.fit(train_x, target_train)"
   ]
  },
  {
   "cell_type": "code",
   "execution_count": 30,
   "metadata": {},
   "outputs": [],
   "source": [
    "predicted_1 = pd.Series(model_1.predict(test_x))"
   ]
  },
  {
   "cell_type": "code",
   "execution_count": 31,
   "metadata": {},
   "outputs": [
    {
     "data": {
      "text/plain": [
       "0.42"
      ]
     },
     "execution_count": 31,
     "metadata": {},
     "output_type": "execute_result"
    }
   ],
   "source": [
    "f1_score(predicted_1, target_test).round(2)"
   ]
  },
  {
   "cell_type": "markdown",
   "metadata": {},
   "source": [
    "## General Conclusion"
   ]
  },
  {
   "cell_type": "markdown",
   "metadata": {},
   "source": [
    "As a result, for now:\n",
    "\n",
    "* Data researched.\n",
    "* Divided into training and test sets.\n",
    "* Data types converted (most of the kernel bugs happened at this stage)\n",
    "* Only regular expressions are selected.\n",
    "* Stemming done with nltk.\n",
    "* Data cleared of stop words.\n",
    "* Data is vectorized.\n",
    "* Trained logistic regression that reaches the value of the target metric (f1)\n",
    "* The random forest model has not proven itself for these purposes and has not reached the required mark of the target metric."
   ]
  }
 ],
 "metadata": {
  "ExecuteTimeLog": [
   {
    "duration": 3109,
    "start_time": "2021-12-07T06:41:53.609Z"
   },
   {
    "duration": -41,
    "start_time": "2021-12-07T06:41:56.762Z"
   },
   {
    "duration": -40,
    "start_time": "2021-12-07T06:41:56.763Z"
   },
   {
    "duration": -48,
    "start_time": "2021-12-07T06:41:56.773Z"
   },
   {
    "duration": -48,
    "start_time": "2021-12-07T06:41:56.774Z"
   },
   {
    "duration": -47,
    "start_time": "2021-12-07T06:41:56.775Z"
   },
   {
    "duration": -47,
    "start_time": "2021-12-07T06:41:56.776Z"
   },
   {
    "duration": -46,
    "start_time": "2021-12-07T06:41:56.777Z"
   },
   {
    "duration": -46,
    "start_time": "2021-12-07T06:41:56.778Z"
   },
   {
    "duration": -46,
    "start_time": "2021-12-07T06:41:56.780Z"
   },
   {
    "duration": -46,
    "start_time": "2021-12-07T06:41:56.781Z"
   },
   {
    "duration": -48,
    "start_time": "2021-12-07T06:41:56.784Z"
   },
   {
    "duration": -47,
    "start_time": "2021-12-07T06:41:56.785Z"
   },
   {
    "duration": -47,
    "start_time": "2021-12-07T06:41:56.786Z"
   },
   {
    "duration": -47,
    "start_time": "2021-12-07T06:41:56.787Z"
   },
   {
    "duration": -46,
    "start_time": "2021-12-07T06:41:56.788Z"
   },
   {
    "duration": -52,
    "start_time": "2021-12-07T06:41:56.795Z"
   },
   {
    "duration": -53,
    "start_time": "2021-12-07T06:41:56.798Z"
   },
   {
    "duration": 1836,
    "start_time": "2021-12-07T08:47:24.040Z"
   },
   {
    "duration": 768,
    "start_time": "2021-12-07T08:47:47.369Z"
   },
   {
    "duration": 10623,
    "start_time": "2021-12-07T09:35:15.417Z"
   },
   {
    "duration": 7,
    "start_time": "2021-12-07T09:35:39.875Z"
   },
   {
    "duration": 1227,
    "start_time": "2021-12-07T09:35:49.017Z"
   },
   {
    "duration": 33,
    "start_time": "2021-12-07T09:36:02.818Z"
   },
   {
    "duration": 4,
    "start_time": "2021-12-07T09:39:21.202Z"
   },
   {
    "duration": 29,
    "start_time": "2021-12-07T09:39:49.954Z"
   },
   {
    "duration": 1351,
    "start_time": "2021-12-07T09:40:42.057Z"
   },
   {
    "duration": 10947,
    "start_time": "2021-12-07T09:43:55.765Z"
   },
   {
    "duration": 770,
    "start_time": "2021-12-07T09:44:06.715Z"
   },
   {
    "duration": 31,
    "start_time": "2021-12-07T09:44:07.488Z"
   },
   {
    "duration": 4,
    "start_time": "2021-12-07T09:44:07.521Z"
   },
   {
    "duration": 51,
    "start_time": "2021-12-07T09:44:07.528Z"
   },
   {
    "duration": 1362,
    "start_time": "2021-12-07T09:44:07.582Z"
   },
   {
    "duration": 432,
    "start_time": "2021-12-07T09:48:06.222Z"
   },
   {
    "duration": 11027,
    "start_time": "2021-12-07T09:50:39.856Z"
   },
   {
    "duration": 785,
    "start_time": "2021-12-07T09:50:50.887Z"
   },
   {
    "duration": 32,
    "start_time": "2021-12-07T09:50:51.677Z"
   },
   {
    "duration": 3,
    "start_time": "2021-12-07T09:50:51.712Z"
   },
   {
    "duration": 50,
    "start_time": "2021-12-07T09:50:51.717Z"
   },
   {
    "duration": 1440,
    "start_time": "2021-12-07T09:50:51.771Z"
   },
   {
    "duration": 11628,
    "start_time": "2021-12-07T09:56:10.682Z"
   },
   {
    "duration": 805,
    "start_time": "2021-12-07T09:56:22.314Z"
   },
   {
    "duration": 37,
    "start_time": "2021-12-07T09:56:23.122Z"
   },
   {
    "duration": 4,
    "start_time": "2021-12-07T09:56:23.162Z"
   },
   {
    "duration": 30,
    "start_time": "2021-12-07T09:56:23.168Z"
   },
   {
    "duration": 1409,
    "start_time": "2021-12-07T09:56:23.201Z"
   },
   {
    "duration": 9,
    "start_time": "2021-12-07T09:56:24.613Z"
   },
   {
    "duration": 14,
    "start_time": "2021-12-07T09:56:24.624Z"
   },
   {
    "duration": 4350,
    "start_time": "2021-12-07T09:56:24.641Z"
   },
   {
    "duration": 1030,
    "start_time": "2021-12-07T09:56:28.993Z"
   },
   {
    "duration": -41,
    "start_time": "2021-12-07T09:56:30.067Z"
   },
   {
    "duration": -41,
    "start_time": "2021-12-07T09:56:30.069Z"
   },
   {
    "duration": -47,
    "start_time": "2021-12-07T09:56:30.077Z"
   },
   {
    "duration": -46,
    "start_time": "2021-12-07T09:56:30.078Z"
   },
   {
    "duration": -46,
    "start_time": "2021-12-07T09:56:30.079Z"
   },
   {
    "duration": -45,
    "start_time": "2021-12-07T09:56:30.080Z"
   },
   {
    "duration": -44,
    "start_time": "2021-12-07T09:56:30.081Z"
   },
   {
    "duration": 10,
    "start_time": "2021-12-07T09:57:18.356Z"
   },
   {
    "duration": 809,
    "start_time": "2021-12-07T09:57:18.370Z"
   },
   {
    "duration": 38,
    "start_time": "2021-12-07T09:57:19.183Z"
   },
   {
    "duration": 3,
    "start_time": "2021-12-07T09:57:19.224Z"
   },
   {
    "duration": 55,
    "start_time": "2021-12-07T09:57:19.230Z"
   },
   {
    "duration": 11196,
    "start_time": "2021-12-07T09:58:08.479Z"
   },
   {
    "duration": 1171,
    "start_time": "2021-12-07T09:58:19.680Z"
   },
   {
    "duration": 42,
    "start_time": "2021-12-07T09:58:20.854Z"
   },
   {
    "duration": 8394,
    "start_time": "2021-12-08T18:26:32.859Z"
   },
   {
    "duration": 557,
    "start_time": "2021-12-08T18:26:41.255Z"
   },
   {
    "duration": 18,
    "start_time": "2021-12-08T18:26:41.814Z"
   },
   {
    "duration": 1907,
    "start_time": "2021-12-08T18:26:41.834Z"
   },
   {
    "duration": 9453,
    "start_time": "2021-12-08T18:28:21.358Z"
   },
   {
    "duration": 562,
    "start_time": "2021-12-08T18:28:30.813Z"
   },
   {
    "duration": 20,
    "start_time": "2021-12-08T18:28:31.377Z"
   },
   {
    "duration": 2,
    "start_time": "2021-12-08T18:28:31.399Z"
   },
   {
    "duration": 20,
    "start_time": "2021-12-08T18:28:31.402Z"
   },
   {
    "duration": 1019,
    "start_time": "2021-12-08T18:28:31.423Z"
   },
   {
    "duration": 956,
    "start_time": "2021-12-08T18:28:32.444Z"
   },
   {
    "duration": 4,
    "start_time": "2021-12-08T18:28:33.403Z"
   },
   {
    "duration": 2424,
    "start_time": "2021-12-08T18:28:33.409Z"
   },
   {
    "duration": 4255,
    "start_time": "2021-12-08T18:28:35.835Z"
   },
   {
    "duration": 2,
    "start_time": "2021-12-08T18:28:40.092Z"
   },
   {
    "duration": 65176,
    "start_time": "2021-12-08T18:28:40.096Z"
   },
   {
    "duration": 73001,
    "start_time": "2021-12-08T18:29:45.274Z"
   },
   {
    "duration": 11,
    "start_time": "2021-12-08T18:30:58.276Z"
   },
   {
    "duration": 4028,
    "start_time": "2021-12-08T18:30:58.289Z"
   },
   {
    "duration": 3722,
    "start_time": "2021-12-08T18:31:02.319Z"
   },
   {
    "duration": 3754,
    "start_time": "2021-12-08T18:31:06.042Z"
   },
   {
    "duration": 3,
    "start_time": "2021-12-08T18:31:09.797Z"
   },
   {
    "duration": 10200,
    "start_time": "2021-12-08T18:31:09.801Z"
   },
   {
    "duration": 9,
    "start_time": "2021-12-08T18:31:20.003Z"
   },
   {
    "duration": 29,
    "start_time": "2021-12-08T18:31:20.013Z"
   },
   {
    "duration": 558,
    "start_time": "2021-12-08T18:41:09.370Z"
   },
   {
    "duration": 1278,
    "start_time": "2021-12-08T18:41:32.169Z"
   },
   {
    "duration": 110,
    "start_time": "2021-12-08T18:43:17.249Z"
   },
   {
    "duration": 8711,
    "start_time": "2021-12-08T18:43:34.149Z"
   },
   {
    "duration": 567,
    "start_time": "2021-12-08T18:43:42.862Z"
   },
   {
    "duration": 19,
    "start_time": "2021-12-08T18:43:43.432Z"
   },
   {
    "duration": 2062,
    "start_time": "2021-12-08T18:43:43.452Z"
   },
   {
    "duration": -366,
    "start_time": "2021-12-08T18:43:45.883Z"
   },
   {
    "duration": -366,
    "start_time": "2021-12-08T18:43:45.884Z"
   },
   {
    "duration": -366,
    "start_time": "2021-12-08T18:43:45.885Z"
   },
   {
    "duration": -366,
    "start_time": "2021-12-08T18:43:45.886Z"
   },
   {
    "duration": -367,
    "start_time": "2021-12-08T18:43:45.887Z"
   },
   {
    "duration": -367,
    "start_time": "2021-12-08T18:43:45.888Z"
   },
   {
    "duration": -375,
    "start_time": "2021-12-08T18:43:45.898Z"
   },
   {
    "duration": -376,
    "start_time": "2021-12-08T18:43:45.899Z"
   },
   {
    "duration": -376,
    "start_time": "2021-12-08T18:43:45.900Z"
   },
   {
    "duration": -376,
    "start_time": "2021-12-08T18:43:45.901Z"
   },
   {
    "duration": -376,
    "start_time": "2021-12-08T18:43:45.902Z"
   },
   {
    "duration": -377,
    "start_time": "2021-12-08T18:43:45.904Z"
   },
   {
    "duration": -377,
    "start_time": "2021-12-08T18:43:45.905Z"
   },
   {
    "duration": -377,
    "start_time": "2021-12-08T18:43:45.906Z"
   },
   {
    "duration": -377,
    "start_time": "2021-12-08T18:43:45.907Z"
   },
   {
    "duration": -378,
    "start_time": "2021-12-08T18:43:45.909Z"
   },
   {
    "duration": -378,
    "start_time": "2021-12-08T18:43:45.910Z"
   },
   {
    "duration": -378,
    "start_time": "2021-12-08T18:43:45.911Z"
   },
   {
    "duration": 360,
    "start_time": "2021-12-08T18:44:18.222Z"
   },
   {
    "duration": -332,
    "start_time": "2021-12-08T18:44:18.917Z"
   },
   {
    "duration": -341,
    "start_time": "2021-12-08T18:44:18.926Z"
   },
   {
    "duration": -343,
    "start_time": "2021-12-08T18:44:18.930Z"
   },
   {
    "duration": -344,
    "start_time": "2021-12-08T18:44:18.931Z"
   },
   {
    "duration": -343,
    "start_time": "2021-12-08T18:44:18.932Z"
   },
   {
    "duration": -343,
    "start_time": "2021-12-08T18:44:18.933Z"
   },
   {
    "duration": -342,
    "start_time": "2021-12-08T18:44:18.934Z"
   },
   {
    "duration": -342,
    "start_time": "2021-12-08T18:44:18.935Z"
   },
   {
    "duration": -342,
    "start_time": "2021-12-08T18:44:18.936Z"
   },
   {
    "duration": -343,
    "start_time": "2021-12-08T18:44:18.937Z"
   },
   {
    "duration": -343,
    "start_time": "2021-12-08T18:44:18.938Z"
   },
   {
    "duration": -343,
    "start_time": "2021-12-08T18:44:18.939Z"
   },
   {
    "duration": -344,
    "start_time": "2021-12-08T18:44:18.941Z"
   },
   {
    "duration": -344,
    "start_time": "2021-12-08T18:44:18.942Z"
   },
   {
    "duration": -348,
    "start_time": "2021-12-08T18:44:18.947Z"
   },
   {
    "duration": -349,
    "start_time": "2021-12-08T18:44:18.948Z"
   },
   {
    "duration": -349,
    "start_time": "2021-12-08T18:44:18.949Z"
   },
   {
    "duration": -349,
    "start_time": "2021-12-08T18:44:18.950Z"
   },
   {
    "duration": -350,
    "start_time": "2021-12-08T18:44:18.952Z"
   },
   {
    "duration": -350,
    "start_time": "2021-12-08T18:44:18.953Z"
   },
   {
    "duration": -350,
    "start_time": "2021-12-08T18:44:18.954Z"
   },
   {
    "duration": 4,
    "start_time": "2021-12-08T18:44:33.934Z"
   },
   {
    "duration": 5,
    "start_time": "2021-12-08T18:44:43.884Z"
   },
   {
    "duration": 561,
    "start_time": "2021-12-08T18:44:44.636Z"
   },
   {
    "duration": 23,
    "start_time": "2021-12-08T18:44:46.080Z"
   },
   {
    "duration": 5,
    "start_time": "2021-12-08T18:44:49.268Z"
   },
   {
    "duration": 568,
    "start_time": "2021-12-08T18:44:49.275Z"
   },
   {
    "duration": 19,
    "start_time": "2021-12-08T18:44:49.845Z"
   },
   {
    "duration": 4,
    "start_time": "2021-12-08T18:44:49.865Z"
   },
   {
    "duration": 27,
    "start_time": "2021-12-08T18:44:49.870Z"
   },
   {
    "duration": 946,
    "start_time": "2021-12-08T18:44:49.898Z"
   },
   {
    "duration": 9390,
    "start_time": "2021-12-08T18:45:14.032Z"
   },
   {
    "duration": 560,
    "start_time": "2021-12-08T18:45:23.424Z"
   },
   {
    "duration": 17,
    "start_time": "2021-12-08T18:45:23.988Z"
   },
   {
    "duration": 3,
    "start_time": "2021-12-08T18:45:24.007Z"
   },
   {
    "duration": 16,
    "start_time": "2021-12-08T18:45:24.012Z"
   },
   {
    "duration": 1052,
    "start_time": "2021-12-08T18:45:24.029Z"
   },
   {
    "duration": 945,
    "start_time": "2021-12-08T18:45:25.082Z"
   },
   {
    "duration": 5,
    "start_time": "2021-12-08T18:45:26.028Z"
   },
   {
    "duration": 2281,
    "start_time": "2021-12-08T18:45:26.036Z"
   },
   {
    "duration": 2331,
    "start_time": "2021-12-08T18:45:28.319Z"
   },
   {
    "duration": 3,
    "start_time": "2021-12-08T18:45:30.652Z"
   },
   {
    "duration": 63606,
    "start_time": "2021-12-08T18:45:30.656Z"
   },
   {
    "duration": 63207,
    "start_time": "2021-12-08T18:46:34.264Z"
   },
   {
    "duration": 4,
    "start_time": "2021-12-08T18:47:37.473Z"
   },
   {
    "duration": 3773,
    "start_time": "2021-12-08T18:47:37.487Z"
   },
   {
    "duration": 3715,
    "start_time": "2021-12-08T18:47:41.262Z"
   },
   {
    "duration": 3813,
    "start_time": "2021-12-08T18:47:44.979Z"
   },
   {
    "duration": 3,
    "start_time": "2021-12-08T18:47:48.793Z"
   },
   {
    "duration": 10410,
    "start_time": "2021-12-08T18:47:48.797Z"
   },
   {
    "duration": 9,
    "start_time": "2021-12-08T18:47:59.209Z"
   },
   {
    "duration": 28,
    "start_time": "2021-12-08T18:47:59.219Z"
   },
   {
    "duration": 279,
    "start_time": "2021-12-08T19:08:52.086Z"
   },
   {
    "duration": 7961,
    "start_time": "2021-12-08T19:09:01.455Z"
   },
   {
    "duration": 671,
    "start_time": "2021-12-08T19:09:09.418Z"
   },
   {
    "duration": 25,
    "start_time": "2021-12-08T19:09:10.091Z"
   },
   {
    "duration": 12,
    "start_time": "2021-12-08T19:09:10.117Z"
   },
   {
    "duration": 28,
    "start_time": "2021-12-08T19:09:10.130Z"
   },
   {
    "duration": 1050,
    "start_time": "2021-12-08T19:09:10.160Z"
   },
   {
    "duration": 1020,
    "start_time": "2021-12-08T19:09:11.211Z"
   },
   {
    "duration": 17,
    "start_time": "2021-12-08T19:09:12.233Z"
   },
   {
    "duration": 2881,
    "start_time": "2021-12-08T19:09:12.253Z"
   },
   {
    "duration": 2661,
    "start_time": "2021-12-08T19:09:15.135Z"
   },
   {
    "duration": 3,
    "start_time": "2021-12-08T19:09:17.797Z"
   },
   {
    "duration": 80902,
    "start_time": "2021-12-08T19:09:17.802Z"
   },
   {
    "duration": 69772,
    "start_time": "2021-12-08T19:10:38.705Z"
   },
   {
    "duration": 4,
    "start_time": "2021-12-08T19:11:48.479Z"
   },
   {
    "duration": 4109,
    "start_time": "2021-12-08T19:11:48.484Z"
   },
   {
    "duration": 4070,
    "start_time": "2021-12-08T19:11:52.595Z"
   },
   {
    "duration": 4118,
    "start_time": "2021-12-08T19:11:56.667Z"
   },
   {
    "duration": 2,
    "start_time": "2021-12-08T19:12:00.787Z"
   },
   {
    "duration": 11568,
    "start_time": "2021-12-08T19:12:00.791Z"
   },
   {
    "duration": 9,
    "start_time": "2021-12-08T19:12:12.361Z"
   },
   {
    "duration": 33,
    "start_time": "2021-12-08T19:12:12.372Z"
   },
   {
    "duration": 5,
    "start_time": "2021-12-08T19:12:20.731Z"
   },
   {
    "duration": 4,
    "start_time": "2021-12-08T19:12:34.038Z"
   },
   {
    "duration": 9,
    "start_time": "2021-12-08T19:12:47.407Z"
   },
   {
    "duration": 5,
    "start_time": "2021-12-08T19:12:56.843Z"
   },
   {
    "duration": 165,
    "start_time": "2021-12-08T19:14:00.105Z"
   },
   {
    "duration": 7577,
    "start_time": "2021-12-09T18:34:09.364Z"
   },
   {
    "duration": 1004,
    "start_time": "2021-12-09T18:45:26.847Z"
   },
   {
    "duration": 8,
    "start_time": "2021-12-09T18:47:05.068Z"
   },
   {
    "duration": 322,
    "start_time": "2021-12-09T18:47:11.137Z"
   },
   {
    "duration": 7,
    "start_time": "2021-12-09T18:47:42.690Z"
   },
   {
    "duration": 382,
    "start_time": "2021-12-09T18:47:47.463Z"
   },
   {
    "duration": 8,
    "start_time": "2021-12-09T18:48:18.507Z"
   },
   {
    "duration": 303,
    "start_time": "2021-12-09T18:48:21.989Z"
   },
   {
    "duration": 7,
    "start_time": "2021-12-09T18:48:32.807Z"
   },
   {
    "duration": 1427,
    "start_time": "2021-12-09T18:48:32.817Z"
   },
   {
    "duration": 39,
    "start_time": "2021-12-09T18:48:34.247Z"
   },
   {
    "duration": 11,
    "start_time": "2021-12-09T18:48:34.289Z"
   },
   {
    "duration": 39,
    "start_time": "2021-12-09T18:48:34.302Z"
   },
   {
    "duration": 1986,
    "start_time": "2021-12-09T18:48:34.344Z"
   },
   {
    "duration": 830,
    "start_time": "2021-12-09T18:48:36.333Z"
   },
   {
    "duration": 5,
    "start_time": "2021-12-09T18:48:37.168Z"
   },
   {
    "duration": 5503,
    "start_time": "2021-12-09T18:48:37.175Z"
   },
   {
    "duration": 2686,
    "start_time": "2021-12-09T18:48:42.681Z"
   },
   {
    "duration": 4,
    "start_time": "2021-12-09T18:48:45.369Z"
   },
   {
    "duration": 171673,
    "start_time": "2021-12-09T18:48:45.375Z"
   },
   {
    "duration": 72289,
    "start_time": "2021-12-09T18:51:37.050Z"
   },
   {
    "duration": 5,
    "start_time": "2021-12-09T18:52:49.342Z"
   },
   {
    "duration": 9260,
    "start_time": "2021-12-09T18:52:49.349Z"
   },
   {
    "duration": 9540,
    "start_time": "2021-12-09T18:52:58.611Z"
   },
   {
    "duration": 3998,
    "start_time": "2021-12-09T18:53:08.154Z"
   },
   {
    "duration": 12,
    "start_time": "2021-12-09T18:53:12.155Z"
   },
   {
    "duration": 15621,
    "start_time": "2021-12-09T18:53:12.171Z"
   },
   {
    "duration": 10,
    "start_time": "2021-12-09T18:53:27.794Z"
   },
   {
    "duration": 36,
    "start_time": "2021-12-09T18:53:27.807Z"
   },
   {
    "duration": 86403220,
    "start_time": "2021-12-08T19:08:14.253Z"
   },
   {
    "duration": -583,
    "start_time": "2021-12-09T19:46:16.104Z"
   },
   {
    "duration": -581,
    "start_time": "2021-12-09T19:46:16.149Z"
   },
   {
    "duration": -582,
    "start_time": "2021-12-09T19:46:16.157Z"
   },
   {
    "duration": -581,
    "start_time": "2021-12-09T19:46:16.163Z"
   },
   {
    "duration": -579,
    "start_time": "2021-12-09T19:46:16.167Z"
   },
   {
    "duration": -582,
    "start_time": "2021-12-09T19:46:16.176Z"
   },
   {
    "duration": -579,
    "start_time": "2021-12-09T19:46:16.179Z"
   },
   {
    "duration": -640,
    "start_time": "2021-12-09T19:46:16.247Z"
   },
   {
    "duration": -581,
    "start_time": "2021-12-09T19:46:16.248Z"
   },
   {
    "duration": -584,
    "start_time": "2021-12-09T19:46:16.262Z"
   },
   {
    "duration": -581,
    "start_time": "2021-12-09T19:46:16.267Z"
   },
   {
    "duration": -583,
    "start_time": "2021-12-09T19:46:16.276Z"
   },
   {
    "duration": -582,
    "start_time": "2021-12-09T19:46:16.282Z"
   },
   {
    "duration": -583,
    "start_time": "2021-12-09T19:46:16.351Z"
   },
   {
    "duration": -579,
    "start_time": "2021-12-09T19:46:16.354Z"
   },
   {
    "duration": -580,
    "start_time": "2021-12-09T19:46:16.361Z"
   },
   {
    "duration": -581,
    "start_time": "2021-12-09T19:46:16.369Z"
   },
   {
    "duration": -581,
    "start_time": "2021-12-09T19:46:16.376Z"
   },
   {
    "duration": -582,
    "start_time": "2021-12-09T19:46:16.384Z"
   },
   {
    "duration": -583,
    "start_time": "2021-12-09T19:46:16.454Z"
   },
   {
    "duration": -583,
    "start_time": "2021-12-09T19:46:16.460Z"
   },
   {
    "duration": -581,
    "start_time": "2021-12-09T19:46:16.463Z"
   },
   {
    "duration": -580,
    "start_time": "2021-12-09T19:46:16.467Z"
   },
   {
    "duration": -579,
    "start_time": "2021-12-09T19:46:16.473Z"
   },
   {
    "duration": -581,
    "start_time": "2021-12-09T19:46:16.481Z"
   },
   {
    "duration": -585,
    "start_time": "2021-12-09T19:46:16.559Z"
   },
   {
    "duration": 6304,
    "start_time": "2021-12-09T19:46:30.251Z"
   },
   {
    "duration": 817,
    "start_time": "2021-12-09T19:46:36.557Z"
   },
   {
    "duration": 35,
    "start_time": "2021-12-09T19:46:37.379Z"
   },
   {
    "duration": 4,
    "start_time": "2021-12-09T19:46:37.418Z"
   },
   {
    "duration": 67,
    "start_time": "2021-12-09T19:46:37.426Z"
   },
   {
    "duration": 2160,
    "start_time": "2021-12-09T19:46:37.496Z"
   },
   {
    "duration": 850,
    "start_time": "2021-12-09T19:46:39.658Z"
   },
   {
    "duration": 13,
    "start_time": "2021-12-09T19:46:40.510Z"
   },
   {
    "duration": 5738,
    "start_time": "2021-12-09T19:46:40.529Z"
   },
   {
    "duration": 2325,
    "start_time": "2021-12-09T19:46:46.270Z"
   },
   {
    "duration": 4,
    "start_time": "2021-12-09T19:46:48.597Z"
   },
   {
    "duration": 177544,
    "start_time": "2021-12-09T19:46:48.603Z"
   },
   {
    "duration": 93492,
    "start_time": "2021-12-09T19:49:46.149Z"
   },
   {
    "duration": 6,
    "start_time": "2021-12-09T19:51:19.644Z"
   },
   {
    "duration": 13406,
    "start_time": "2021-12-09T19:51:19.653Z"
   },
   {
    "duration": 14209,
    "start_time": "2021-12-09T19:51:33.061Z"
   },
   {
    "duration": 6049,
    "start_time": "2021-12-09T19:51:47.273Z"
   },
   {
    "duration": 4,
    "start_time": "2021-12-09T19:51:53.325Z"
   },
   {
    "duration": 16742,
    "start_time": "2021-12-09T19:51:53.369Z"
   },
   {
    "duration": 11,
    "start_time": "2021-12-09T19:52:10.114Z"
   },
   {
    "duration": 53,
    "start_time": "2021-12-09T19:52:10.128Z"
   },
   {
    "duration": 4,
    "start_time": "2021-12-09T19:52:10.184Z"
   },
   {
    "duration": 17,
    "start_time": "2021-12-09T19:52:10.191Z"
   },
   {
    "duration": 5928,
    "start_time": "2021-12-09T20:11:37.609Z"
   },
   {
    "duration": 848,
    "start_time": "2021-12-09T20:11:43.540Z"
   },
   {
    "duration": 35,
    "start_time": "2021-12-09T20:11:44.393Z"
   },
   {
    "duration": 19,
    "start_time": "2021-12-09T20:11:44.431Z"
   },
   {
    "duration": 24,
    "start_time": "2021-12-09T20:11:44.467Z"
   },
   {
    "duration": 2123,
    "start_time": "2021-12-09T20:11:44.493Z"
   },
   {
    "duration": 1069,
    "start_time": "2021-12-09T20:11:46.619Z"
   },
   {
    "duration": 14,
    "start_time": "2021-12-09T20:11:47.691Z"
   },
   {
    "duration": 5352,
    "start_time": "2021-12-09T20:11:47.709Z"
   },
   {
    "duration": 2360,
    "start_time": "2021-12-09T20:11:53.069Z"
   },
   {
    "duration": 3,
    "start_time": "2021-12-09T20:11:55.432Z"
   },
   {
    "duration": 174917,
    "start_time": "2021-12-09T20:11:55.438Z"
   },
   {
    "duration": 72876,
    "start_time": "2021-12-09T20:14:50.358Z"
   },
   {
    "duration": 5,
    "start_time": "2021-12-09T20:16:03.237Z"
   },
   {
    "duration": 9315,
    "start_time": "2021-12-09T20:16:03.245Z"
   },
   {
    "duration": 9517,
    "start_time": "2021-12-09T20:16:12.563Z"
   },
   {
    "duration": 3962,
    "start_time": "2021-12-09T20:16:22.082Z"
   },
   {
    "duration": 4,
    "start_time": "2021-12-09T20:16:26.046Z"
   },
   {
    "duration": 14864,
    "start_time": "2021-12-09T20:16:26.052Z"
   },
   {
    "duration": 10,
    "start_time": "2021-12-09T20:16:40.919Z"
   },
   {
    "duration": 51,
    "start_time": "2021-12-09T20:16:40.932Z"
   },
   {
    "duration": 3,
    "start_time": "2021-12-09T20:16:40.986Z"
   },
   {
    "duration": 6,
    "start_time": "2021-12-09T20:16:40.992Z"
   },
   {
    "duration": 6,
    "start_time": "2021-12-09T20:16:41.000Z"
   },
   {
    "duration": 6,
    "start_time": "2021-12-09T20:16:41.008Z"
   },
   {
    "duration": 843,
    "start_time": "2021-12-09T20:16:41.016Z"
   },
   {
    "duration": -697,
    "start_time": "2021-12-09T20:16:42.559Z"
   },
   {
    "duration": -697,
    "start_time": "2021-12-09T20:16:42.561Z"
   },
   {
    "duration": -698,
    "start_time": "2021-12-09T20:16:42.563Z"
   },
   {
    "duration": -698,
    "start_time": "2021-12-09T20:16:42.564Z"
   },
   {
    "duration": 312,
    "start_time": "2021-12-09T20:19:41.972Z"
   },
   {
    "duration": 25,
    "start_time": "2021-12-09T20:19:46.954Z"
   },
   {
    "duration": 4,
    "start_time": "2021-12-09T20:19:53.114Z"
   },
   {
    "duration": 297,
    "start_time": "2021-12-09T20:19:54.682Z"
   },
   {
    "duration": 143,
    "start_time": "2021-12-09T20:20:29.769Z"
   },
   {
    "duration": 7,
    "start_time": "2021-12-09T20:20:35.496Z"
   },
   {
    "duration": 4,
    "start_time": "2021-12-09T20:20:40.617Z"
   },
   {
    "duration": 4,
    "start_time": "2021-12-09T20:20:43.735Z"
   },
   {
    "duration": 5470,
    "start_time": "2021-12-10T06:18:01.054Z"
   },
   {
    "duration": 3239,
    "start_time": "2021-12-10T06:18:06.527Z"
   },
   {
    "duration": 29,
    "start_time": "2021-12-10T06:18:09.768Z"
   },
   {
    "duration": 2,
    "start_time": "2021-12-10T06:18:09.799Z"
   },
   {
    "duration": 17,
    "start_time": "2021-12-10T06:18:09.802Z"
   },
   {
    "duration": 1359,
    "start_time": "2021-12-10T06:18:09.821Z"
   },
   {
    "duration": 601,
    "start_time": "2021-12-10T06:18:11.181Z"
   },
   {
    "duration": 2,
    "start_time": "2021-12-10T06:18:11.788Z"
   },
   {
    "duration": 3047,
    "start_time": "2021-12-10T06:18:11.792Z"
   },
   {
    "duration": 1297,
    "start_time": "2021-12-10T06:18:14.841Z"
   },
   {
    "duration": 2,
    "start_time": "2021-12-10T06:18:16.140Z"
   },
   {
    "duration": 90952,
    "start_time": "2021-12-10T06:18:16.143Z"
   },
   {
    "duration": 37198,
    "start_time": "2021-12-10T06:19:47.097Z"
   },
   {
    "duration": 3,
    "start_time": "2021-12-10T06:20:24.296Z"
   },
   {
    "duration": 5628,
    "start_time": "2021-12-10T06:20:24.301Z"
   },
   {
    "duration": 5581,
    "start_time": "2021-12-10T06:20:29.930Z"
   },
   {
    "duration": 2400,
    "start_time": "2021-12-10T06:20:35.513Z"
   },
   {
    "duration": 3,
    "start_time": "2021-12-10T06:20:37.914Z"
   },
   {
    "duration": 14591,
    "start_time": "2021-12-10T06:20:37.919Z"
   },
   {
    "duration": 6,
    "start_time": "2021-12-10T06:20:52.512Z"
   },
   {
    "duration": 18,
    "start_time": "2021-12-10T06:20:52.520Z"
   },
   {
    "duration": 2,
    "start_time": "2021-12-10T06:20:52.540Z"
   },
   {
    "duration": 5,
    "start_time": "2021-12-10T06:20:52.543Z"
   },
   {
    "duration": 4,
    "start_time": "2021-12-10T06:20:52.549Z"
   },
   {
    "duration": 6,
    "start_time": "2021-12-10T06:20:52.555Z"
   },
   {
    "duration": 2,
    "start_time": "2021-12-10T06:20:52.588Z"
   },
   {
    "duration": 3,
    "start_time": "2021-12-10T06:20:52.593Z"
   },
   {
    "duration": 4538,
    "start_time": "2021-12-10T06:35:57.471Z"
   },
   {
    "duration": 561,
    "start_time": "2021-12-10T06:36:02.011Z"
   },
   {
    "duration": 25,
    "start_time": "2021-12-10T06:36:02.574Z"
   },
   {
    "duration": 4,
    "start_time": "2021-12-10T06:36:02.601Z"
   },
   {
    "duration": 25,
    "start_time": "2021-12-10T06:36:02.607Z"
   },
   {
    "duration": 1401,
    "start_time": "2021-12-10T06:36:02.634Z"
   },
   {
    "duration": 593,
    "start_time": "2021-12-10T06:36:04.037Z"
   },
   {
    "duration": 6,
    "start_time": "2021-12-10T06:36:04.632Z"
   },
   {
    "duration": 3422,
    "start_time": "2021-12-10T06:36:04.641Z"
   },
   {
    "duration": 1402,
    "start_time": "2021-12-10T06:36:08.065Z"
   },
   {
    "duration": 2,
    "start_time": "2021-12-10T06:36:09.469Z"
   },
   {
    "duration": 94619,
    "start_time": "2021-12-10T06:36:09.473Z"
   },
   {
    "duration": 38471,
    "start_time": "2021-12-10T06:37:44.094Z"
   },
   {
    "duration": 4,
    "start_time": "2021-12-10T06:38:22.566Z"
   },
   {
    "duration": 5416,
    "start_time": "2021-12-10T06:38:22.572Z"
   },
   {
    "duration": 5372,
    "start_time": "2021-12-10T06:38:27.990Z"
   },
   {
    "duration": 2287,
    "start_time": "2021-12-10T06:38:33.364Z"
   },
   {
    "duration": 2,
    "start_time": "2021-12-10T06:38:35.655Z"
   },
   {
    "duration": 14652,
    "start_time": "2021-12-10T06:38:35.659Z"
   },
   {
    "duration": 8,
    "start_time": "2021-12-10T06:38:50.313Z"
   },
   {
    "duration": 19,
    "start_time": "2021-12-10T06:38:50.323Z"
   },
   {
    "duration": 3,
    "start_time": "2021-12-10T06:38:50.343Z"
   },
   {
    "duration": 5,
    "start_time": "2021-12-10T06:38:50.348Z"
   },
   {
    "duration": 4,
    "start_time": "2021-12-10T06:38:50.354Z"
   },
   {
    "duration": 8903203,
    "start_time": "2021-12-10T06:38:50.388Z"
   },
   {
    "duration": 3,
    "start_time": "2021-12-10T09:07:13.593Z"
   },
   {
    "duration": 3,
    "start_time": "2021-12-10T09:07:13.691Z"
   },
   {
    "duration": 11075,
    "start_time": "2021-12-13T16:42:47.275Z"
   },
   {
    "duration": 9946,
    "start_time": "2021-12-13T16:42:58.352Z"
   },
   {
    "duration": 29,
    "start_time": "2021-12-13T16:43:08.300Z"
   },
   {
    "duration": 3,
    "start_time": "2021-12-13T16:43:08.332Z"
   },
   {
    "duration": 19,
    "start_time": "2021-12-13T16:43:08.337Z"
   },
   {
    "duration": 1649,
    "start_time": "2021-12-13T16:43:08.358Z"
   },
   {
    "duration": 630,
    "start_time": "2021-12-13T16:43:10.009Z"
   },
   {
    "duration": 3,
    "start_time": "2021-12-13T16:43:10.642Z"
   },
   {
    "duration": 3733,
    "start_time": "2021-12-13T16:43:10.647Z"
   },
   {
    "duration": 1595,
    "start_time": "2021-12-13T16:43:14.382Z"
   },
   {
    "duration": 2,
    "start_time": "2021-12-13T16:43:15.979Z"
   },
   {
    "duration": 105834,
    "start_time": "2021-12-13T16:43:15.983Z"
   },
   {
    "duration": 48534,
    "start_time": "2021-12-13T16:45:01.819Z"
   },
   {
    "duration": 4,
    "start_time": "2021-12-13T16:45:50.355Z"
   },
   {
    "duration": 6292,
    "start_time": "2021-12-13T16:45:50.361Z"
   },
   {
    "duration": 6083,
    "start_time": "2021-12-13T16:45:56.654Z"
   },
   {
    "duration": 2615,
    "start_time": "2021-12-13T16:46:02.739Z"
   },
   {
    "duration": 3,
    "start_time": "2021-12-13T16:46:05.355Z"
   },
   {
    "duration": 14675,
    "start_time": "2021-12-13T16:46:05.360Z"
   },
   {
    "duration": 7,
    "start_time": "2021-12-13T16:46:20.037Z"
   },
   {
    "duration": 24,
    "start_time": "2021-12-13T16:46:20.046Z"
   },
   {
    "duration": 3,
    "start_time": "2021-12-13T16:46:20.072Z"
   },
   {
    "duration": 28,
    "start_time": "2021-12-13T16:46:20.078Z"
   },
   {
    "duration": 5,
    "start_time": "2021-12-13T16:46:20.109Z"
   },
   {
    "duration": 1608970,
    "start_time": "2021-12-13T16:46:20.116Z"
   },
   {
    "duration": 86400407,
    "start_time": "2021-12-12T17:13:08.681Z"
   },
   {
    "duration": 86400401,
    "start_time": "2021-12-12T17:13:08.688Z"
   },
   {
    "duration": 86400398,
    "start_time": "2021-12-12T17:13:08.693Z"
   },
   {
    "duration": 86400389,
    "start_time": "2021-12-12T17:13:08.703Z"
   },
   {
    "duration": 86400383,
    "start_time": "2021-12-12T17:13:08.710Z"
   },
   {
    "duration": 356,
    "start_time": "2021-12-13T17:17:35.592Z"
   },
   {
    "duration": 20,
    "start_time": "2021-12-13T17:19:01.104Z"
   },
   {
    "duration": 605,
    "start_time": "2021-12-13T17:19:01.126Z"
   },
   {
    "duration": 24,
    "start_time": "2021-12-13T17:19:01.732Z"
   },
   {
    "duration": 4,
    "start_time": "2021-12-13T17:19:01.758Z"
   },
   {
    "duration": 28,
    "start_time": "2021-12-13T17:19:01.763Z"
   },
   {
    "duration": 10599,
    "start_time": "2021-12-13T17:19:26.209Z"
   },
   {
    "duration": 10007,
    "start_time": "2021-12-13T17:19:36.810Z"
   },
   {
    "duration": 23,
    "start_time": "2021-12-13T17:19:46.819Z"
   },
   {
    "duration": 2,
    "start_time": "2021-12-13T17:19:46.844Z"
   },
   {
    "duration": 17,
    "start_time": "2021-12-13T17:19:46.848Z"
   },
   {
    "duration": 1465,
    "start_time": "2021-12-13T17:19:46.867Z"
   },
   {
    "duration": 624,
    "start_time": "2021-12-13T17:19:48.334Z"
   },
   {
    "duration": 5,
    "start_time": "2021-12-13T17:19:48.961Z"
   },
   {
    "duration": 3417,
    "start_time": "2021-12-13T17:19:48.968Z"
   },
   {
    "duration": 1497,
    "start_time": "2021-12-13T17:19:52.387Z"
   },
   {
    "duration": 2,
    "start_time": "2021-12-13T17:19:53.886Z"
   },
   {
    "duration": 104136,
    "start_time": "2021-12-13T17:19:53.890Z"
   },
   {
    "duration": 43687,
    "start_time": "2021-12-13T17:21:38.028Z"
   },
   {
    "duration": 7,
    "start_time": "2021-12-13T17:22:21.717Z"
   },
   {
    "duration": 6480,
    "start_time": "2021-12-13T17:22:21.726Z"
   },
   {
    "duration": 6145,
    "start_time": "2021-12-13T17:22:28.208Z"
   },
   {
    "duration": 3185,
    "start_time": "2021-12-13T17:22:34.355Z"
   },
   {
    "duration": 3,
    "start_time": "2021-12-13T17:22:37.542Z"
   },
   {
    "duration": 14592,
    "start_time": "2021-12-13T17:22:37.547Z"
   },
   {
    "duration": 8,
    "start_time": "2021-12-13T17:22:52.140Z"
   },
   {
    "duration": 20,
    "start_time": "2021-12-13T17:22:52.150Z"
   },
   {
    "duration": 348218,
    "start_time": "2021-12-13T17:22:52.172Z"
   },
   {
    "duration": 116435,
    "start_time": "2021-12-13T17:28:40.394Z"
   },
   {
    "duration": 3,
    "start_time": "2021-12-13T17:30:36.832Z"
   },
   {
    "duration": 5050,
    "start_time": "2021-12-13T17:30:36.838Z"
   },
   {
    "duration": 502,
    "start_time": "2021-12-13T17:30:41.889Z"
   },
   {
    "duration": 30,
    "start_time": "2021-12-13T17:30:42.393Z"
   },
   {
    "duration": 3,
    "start_time": "2021-12-13T17:39:13.503Z"
   },
   {
    "duration": 23671,
    "start_time": "2021-12-13T17:39:16.025Z"
   },
   {
    "duration": 1698,
    "start_time": "2021-12-13T17:40:13.544Z"
   },
   {
    "duration": 26,
    "start_time": "2021-12-13T17:40:16.417Z"
   }
  ],
  "kernelspec": {
   "display_name": "Python 3 (ipykernel)",
   "language": "python",
   "name": "python3"
  },
  "language_info": {
   "codemirror_mode": {
    "name": "ipython",
    "version": 3
   },
   "file_extension": ".py",
   "mimetype": "text/x-python",
   "name": "python",
   "nbconvert_exporter": "python",
   "pygments_lexer": "ipython3",
   "version": "3.9.10"
  },
  "toc": {
   "base_numbering": 1,
   "nav_menu": {},
   "number_sections": true,
   "sideBar": true,
   "skip_h1_title": true,
   "title_cell": "Содержание",
   "title_sidebar": "Contents",
   "toc_cell": true,
   "toc_position": {
    "height": "calc(100% - 180px)",
    "left": "10px",
    "top": "150px",
    "width": "302.391px"
   },
   "toc_section_display": true,
   "toc_window_display": false
  }
 },
 "nbformat": 4,
 "nbformat_minor": 2
}
