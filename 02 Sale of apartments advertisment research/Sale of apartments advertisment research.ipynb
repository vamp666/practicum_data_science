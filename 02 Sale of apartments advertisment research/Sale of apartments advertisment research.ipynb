{
 "cells": [
  {
   "cell_type": "markdown",
   "metadata": {},
   "source": [
    "# Sale of apartments advertisment research\n",
    "\n",
    "\n",
    "\n",
    "I was given data from the Yandex.Realty service - an archive of ads for the sale of apartments in St. Petersburg and neighboring settlements for several years. I will determine the market value of properties. At this stage, my task is to set the parameters. This is necessary to build an automated model to track anomalies and fraudulent activity.\n",
    "\n",
    "There are various types of data. Some are entered by the user, others are obtained automatically based on cartographic data. For example, the distance to the center, airport, nearest park and reservoir."
   ]
  },
  {
   "cell_type": "markdown",
   "metadata": {
    "toc": true
   },
   "source": [
    "<h1>Сontent<span class=\"tocSkip\"></span></h1>\n",
    "<div class=\"toc\"><ul class=\"toc-item\"><li><span><a href=\"#Изучение-данных-из-файла\" data-toc-modified-id=\"Изучение-данных-из-файла-1\"><span class=\"toc-item-num\">1&nbsp;&nbsp;</span>Изучение данных из файла</a></span><ul class=\"toc-item\"><li><span><a href=\"#Вывод\" data-toc-modified-id=\"Вывод-1.1\"><span class=\"toc-item-num\">1.1&nbsp;&nbsp;</span>Вывод</a></span></li></ul></li><li><span><a href=\"#Предобработка-данных\" data-toc-modified-id=\"Предобработка-данных-2\"><span class=\"toc-item-num\">2&nbsp;&nbsp;</span>Предобработка данных</a></span><ul class=\"toc-item\"><li><span><a href=\"#Вывод\" data-toc-modified-id=\"Вывод-2.1\"><span class=\"toc-item-num\">2.1&nbsp;&nbsp;</span>Вывод</a></span></li></ul></li><li><span><a href=\"#Расчёты-и-добавление-результатов-в-таблицу\" data-toc-modified-id=\"Расчёты-и-добавление-результатов-в-таблицу-3\"><span class=\"toc-item-num\">3&nbsp;&nbsp;</span>Расчёты и добавление результатов в таблицу</a></span><ul class=\"toc-item\"><li><span><a href=\"#Вывод\" data-toc-modified-id=\"Вывод-3.1\"><span class=\"toc-item-num\">3.1&nbsp;&nbsp;</span>Вывод</a></span></li></ul></li><li><span><a href=\"#Исследовательский-анализ-данных\" data-toc-modified-id=\"Исследовательский-анализ-данных-4\"><span class=\"toc-item-num\">4&nbsp;&nbsp;</span>Исследовательский анализ данных</a></span><ul class=\"toc-item\"><li><span><a href=\"#Изучение-необходимых-параметров\" data-toc-modified-id=\"Изучение-необходимых-параметров-4.1\"><span class=\"toc-item-num\">4.1&nbsp;&nbsp;</span>Изучение необходимых параметров</a></span><ul class=\"toc-item\"><li><span><a href=\"#Цена\" data-toc-modified-id=\"Цена-4.1.1\"><span class=\"toc-item-num\">4.1.1&nbsp;&nbsp;</span>Цена</a></span></li><li><span><a href=\"#Площадь\" data-toc-modified-id=\"Площадь-4.1.2\"><span class=\"toc-item-num\">4.1.2&nbsp;&nbsp;</span>Площадь</a></span></li><li><span><a href=\"#Количество-комнат\" data-toc-modified-id=\"Количество-комнат-4.1.3\"><span class=\"toc-item-num\">4.1.3&nbsp;&nbsp;</span>Количество комнат</a></span></li><li><span><a href=\"#Высота-потолков\" data-toc-modified-id=\"Высота-потолков-4.1.4\"><span class=\"toc-item-num\">4.1.4&nbsp;&nbsp;</span>Высота потолков</a></span></li><li><span><a href=\"#Вывод\" data-toc-modified-id=\"Вывод-4.1.5\"><span class=\"toc-item-num\">4.1.5&nbsp;&nbsp;</span>Вывод</a></span></li></ul></li><li><span><a href=\"#Изучение-времение-продажи-квартиры\" data-toc-modified-id=\"Изучение-времение-продажи-квартиры-4.2\"><span class=\"toc-item-num\">4.2&nbsp;&nbsp;</span>Изучение времение продажи квартиры</a></span><ul class=\"toc-item\"><li><span><a href=\"#Вывод\" data-toc-modified-id=\"Вывод-4.2.1\"><span class=\"toc-item-num\">4.2.1&nbsp;&nbsp;</span>Вывод</a></span></li></ul></li><li><span><a href=\"#Удаление-редких-и-выбивающихся-значений\" data-toc-modified-id=\"Удаление-редких-и-выбивающихся-значений-4.3\"><span class=\"toc-item-num\">4.3&nbsp;&nbsp;</span>Удаление редких и выбивающихся значений</a></span><ul class=\"toc-item\"><li><span><a href=\"#Вывод\" data-toc-modified-id=\"Вывод-4.3.1\"><span class=\"toc-item-num\">4.3.1&nbsp;&nbsp;</span>Вывод</a></span></li></ul></li><li><span><a href=\"#Определение-наиболее-влияющие-факторы\" data-toc-modified-id=\"Определение-наиболее-влияющие-факторы-4.4\"><span class=\"toc-item-num\">4.4&nbsp;&nbsp;</span>Определение наиболее влияющие факторы</a></span><ul class=\"toc-item\"><li><span><a href=\"#Вывод\" data-toc-modified-id=\"Вывод-4.4.1\"><span class=\"toc-item-num\">4.4.1&nbsp;&nbsp;</span>Вывод</a></span></li></ul></li><li><span><a href=\"#10-населенных-пунктов-с-наибольшим-числом-объявлений\" data-toc-modified-id=\"10-населенных-пунктов-с-наибольшим-числом-объявлений-4.5\"><span class=\"toc-item-num\">4.5&nbsp;&nbsp;</span>10 населенных пунктов с наибольшим числом объявлений</a></span><ul class=\"toc-item\"><li><span><a href=\"#Вывод\" data-toc-modified-id=\"Вывод-4.5.1\"><span class=\"toc-item-num\">4.5.1&nbsp;&nbsp;</span>Вывод</a></span></li></ul></li><li><span><a href=\"#Область,-входящая-в-центр\" data-toc-modified-id=\"Область,-входящая-в-центр-4.6\"><span class=\"toc-item-num\">4.6&nbsp;&nbsp;</span>Область, входящая в центр</a></span><ul class=\"toc-item\"><li><span><a href=\"#Вывод\" data-toc-modified-id=\"Вывод-4.6.1\"><span class=\"toc-item-num\">4.6.1&nbsp;&nbsp;</span>Вывод</a></span></li></ul></li><li><span><a href=\"#Сегмент-квартиры-в-центре\" data-toc-modified-id=\"Сегмент-квартиры-в-центре-4.7\"><span class=\"toc-item-num\">4.7&nbsp;&nbsp;</span>Сегмент квартиры в центре</a></span><ul class=\"toc-item\"><li><span><a href=\"#Влияние-количества-комнат\" data-toc-modified-id=\"Влияние-количества-комнат-4.7.1\"><span class=\"toc-item-num\">4.7.1&nbsp;&nbsp;</span>Влияние количества комнат</a></span></li><li><span><a href=\"#Влияние-этажа\" data-toc-modified-id=\"Влияние-этажа-4.7.2\"><span class=\"toc-item-num\">4.7.2&nbsp;&nbsp;</span>Влияние этажа</a></span></li><li><span><a href=\"#Влияние-удаленности-от-центра\" data-toc-modified-id=\"Влияние-удаленности-от-центра-4.7.3\"><span class=\"toc-item-num\">4.7.3&nbsp;&nbsp;</span>Влияние удаленности от центра</a></span></li><li><span><a href=\"#Влияние--дня-опубликования\" data-toc-modified-id=\"Влияние--дня-опубликования-4.7.4\"><span class=\"toc-item-num\">4.7.4&nbsp;&nbsp;</span>Влияние  дня опубликования</a></span></li><li><span><a href=\"#Влияние-от-месяца-опубликования\" data-toc-modified-id=\"Влияние-от-месяца-опубликования-4.7.5\"><span class=\"toc-item-num\">4.7.5&nbsp;&nbsp;</span>Влияние от месяца опубликования</a></span></li><li><span><a href=\"#Влияние-от-года-опубликования\" data-toc-modified-id=\"Влияние-от-года-опубликования-4.7.6\"><span class=\"toc-item-num\">4.7.6&nbsp;&nbsp;</span>Влияние от года опубликования</a></span></li></ul></li></ul></li><li><span><a href=\"#Общий-вывод\" data-toc-modified-id=\"Общий-вывод-5\"><span class=\"toc-item-num\">5&nbsp;&nbsp;</span>Общий вывод</a></span></li><li><span><a href=\"#Чек-лист-готовности-проекта\" data-toc-modified-id=\"Чек-лист-готовности-проекта-6\"><span class=\"toc-item-num\">6&nbsp;&nbsp;</span>Чек-лист готовности проекта</a></span><ul class=\"toc-item\"><li><span><a href=\"#Чек-лист-доработок-\" data-toc-modified-id=\"Чек-лист-доработок--6.1\"><span class=\"toc-item-num\">6.1&nbsp;&nbsp;</span>Чек-лист доработок </a></span></li><li><span><a href=\"#Чек-лист-доработок-v2\" data-toc-modified-id=\"Чек-лист-доработок-v2-6.2\"><span class=\"toc-item-num\">6.2&nbsp;&nbsp;</span>Чек-лист доработок v2</a></span></li></ul></li></ul></div>"
   ]
  },
  {
   "cell_type": "markdown",
   "metadata": {},
   "source": [
    "## Data analysis"
   ]
  },
  {
   "cell_type": "code",
   "execution_count": 1,
   "metadata": {
    "scrolled": true
   },
   "outputs": [
    {
     "name": "stdout",
     "output_type": "stream",
     "text": [
      "   total_images  last_price  total_area first_day_exposition  rooms  \\\n",
      "0            20  13000000.0      108.00  2019-03-07T00:00:00      3   \n",
      "1             7   3350000.0       40.40  2018-12-04T00:00:00      1   \n",
      "2            10   5196000.0       56.00  2015-08-20T00:00:00      2   \n",
      "3             0  64900000.0      159.00  2015-07-24T00:00:00      3   \n",
      "4             2  10000000.0      100.00  2018-06-19T00:00:00      2   \n",
      "5            10   2890000.0       30.40  2018-09-10T00:00:00      1   \n",
      "6             6   3700000.0       37.30  2017-11-02T00:00:00      1   \n",
      "7             5   7915000.0       71.60  2019-04-18T00:00:00      2   \n",
      "8            20   2900000.0       33.16  2018-05-23T00:00:00      1   \n",
      "9            18   5400000.0       61.00  2017-02-26T00:00:00      3   \n",
      "\n",
      "   ceiling_height  floors_total  living_area  floor is_apartment  ...  \\\n",
      "0            2.70          16.0        51.00      8          NaN  ...   \n",
      "1             NaN          11.0        18.60      1          NaN  ...   \n",
      "2             NaN           5.0        34.30      4          NaN  ...   \n",
      "3             NaN          14.0          NaN      9          NaN  ...   \n",
      "4            3.03          14.0        32.00     13          NaN  ...   \n",
      "5             NaN          12.0        14.40      5          NaN  ...   \n",
      "6             NaN          26.0        10.60      6          NaN  ...   \n",
      "7             NaN          24.0          NaN     22          NaN  ...   \n",
      "8             NaN          27.0        15.43     26          NaN  ...   \n",
      "9            2.50           9.0        43.60      7          NaN  ...   \n",
      "\n",
      "   kitchen_area  balcony              locality_name  airports_nearest  \\\n",
      "0         25.00      NaN            Санкт-Петербург           18863.0   \n",
      "1         11.00      2.0             посёлок Шушары           12817.0   \n",
      "2          8.30      0.0            Санкт-Петербург           21741.0   \n",
      "3           NaN      0.0            Санкт-Петербург           28098.0   \n",
      "4         41.00      NaN            Санкт-Петербург           31856.0   \n",
      "5          9.10      NaN  городской посёлок Янино-1               NaN   \n",
      "6         14.40      1.0          посёлок Парголово           52996.0   \n",
      "7         18.90      2.0            Санкт-Петербург           23982.0   \n",
      "8          8.81      NaN             посёлок Мурино               NaN   \n",
      "9          6.50      2.0            Санкт-Петербург           50898.0   \n",
      "\n",
      "  cityCenters_nearest  parks_around3000  parks_nearest  ponds_around3000  \\\n",
      "0             16028.0               1.0          482.0               2.0   \n",
      "1             18603.0               0.0            NaN               0.0   \n",
      "2             13933.0               1.0           90.0               2.0   \n",
      "3              6800.0               2.0           84.0               3.0   \n",
      "4              8098.0               2.0          112.0               1.0   \n",
      "5                 NaN               NaN            NaN               NaN   \n",
      "6             19143.0               0.0            NaN               0.0   \n",
      "7             11634.0               0.0            NaN               0.0   \n",
      "8                 NaN               NaN            NaN               NaN   \n",
      "9             15008.0               0.0            NaN               0.0   \n",
      "\n",
      "   ponds_nearest  days_exposition  \n",
      "0          755.0              NaN  \n",
      "1            NaN             81.0  \n",
      "2          574.0            558.0  \n",
      "3          234.0            424.0  \n",
      "4           48.0            121.0  \n",
      "5            NaN             55.0  \n",
      "6            NaN            155.0  \n",
      "7            NaN              NaN  \n",
      "8            NaN            189.0  \n",
      "9            NaN            289.0  \n",
      "\n",
      "[10 rows x 22 columns]\n",
      "<class 'pandas.core.frame.DataFrame'>\n",
      "RangeIndex: 23699 entries, 0 to 23698\n",
      "Data columns (total 22 columns):\n",
      "total_images            23699 non-null int64\n",
      "last_price              23699 non-null float64\n",
      "total_area              23699 non-null float64\n",
      "first_day_exposition    23699 non-null object\n",
      "rooms                   23699 non-null int64\n",
      "ceiling_height          14504 non-null float64\n",
      "floors_total            23613 non-null float64\n",
      "living_area             21796 non-null float64\n",
      "floor                   23699 non-null int64\n",
      "is_apartment            2775 non-null object\n",
      "studio                  23699 non-null bool\n",
      "open_plan               23699 non-null bool\n",
      "kitchen_area            21421 non-null float64\n",
      "balcony                 12180 non-null float64\n",
      "locality_name           23650 non-null object\n",
      "airports_nearest        18157 non-null float64\n",
      "cityCenters_nearest     18180 non-null float64\n",
      "parks_around3000        18181 non-null float64\n",
      "parks_nearest           8079 non-null float64\n",
      "ponds_around3000        18181 non-null float64\n",
      "ponds_nearest           9110 non-null float64\n",
      "days_exposition         20518 non-null float64\n",
      "dtypes: bool(2), float64(14), int64(3), object(3)\n",
      "memory usage: 3.7+ MB\n"
     ]
    }
   ],
   "source": [
    "import pandas as pd\n",
    "import datetime as dt\n",
    "import seaborn as sns\n",
    "import numpy as np\n",
    "import matplotlib\n",
    "import matplotlib.pyplot as plt\n",
    "df = pd.read_csv('/datasets/real_estate_data.csv', sep = '\\t')\n",
    "print(df.head(10))\n",
    "df.info()"
   ]
  },
  {
   "cell_type": "markdown",
   "metadata": {},
   "source": [
    "### Output"
   ]
  },
  {
   "cell_type": "markdown",
   "metadata": {},
   "source": [
    "First of all, a large number of gaps is noticeable. In the column of ceiling height (ceiling_height), living area (living_area), number of floors in the house (floors_total), apartments or not (is_apartment), kitchen area (kitchen_area), number of balconies (balcony), distance to the nearest airport (airports_nearest), distance to the city center (cityCenters_nearest), number of parks within a 3 km radius (parks_around3000), distance to the nearest park (parks_nearest), distance to the nearest body of water (parks_nearest),\n",
    "the number of bodies of water within a radius of 3 km (ponds_around3000), how many days the ad was placed (days_exposition). In addition, the is_apartment column must be of boolean type. "
   ]
  },
  {
   "cell_type": "markdown",
   "metadata": {},
   "source": [
    "## Preprocessing"
   ]
  },
  {
   "cell_type": "markdown",
   "metadata": {},
   "source": [
    "Starting preprocessing."
   ]
  },
  {
   "cell_type": "code",
   "execution_count": 2,
   "metadata": {
    "scrolled": true
   },
   "outputs": [
    {
     "name": "stdout",
     "output_type": "stream",
     "text": [
      "<class 'pandas.core.frame.DataFrame'>\n",
      "Int64Index: 23650 entries, 0 to 23698\n",
      "Data columns (total 22 columns):\n",
      "total_images            23650 non-null int64\n",
      "last_price              23650 non-null float64\n",
      "total_area              23650 non-null float64\n",
      "first_day_exposition    23650 non-null object\n",
      "rooms                   23650 non-null int64\n",
      "ceiling_height          23256 non-null float64\n",
      "floors_total            23650 non-null int64\n",
      "living_area             23650 non-null float64\n",
      "floor                   23650 non-null int64\n",
      "is_apartment            23650 non-null bool\n",
      "studio                  23650 non-null bool\n",
      "open_plan               23650 non-null bool\n",
      "kitchen_area            23631 non-null float64\n",
      "balcony                 23650 non-null int64\n",
      "locality_name           23650 non-null object\n",
      "airports_nearest        18786 non-null float64\n",
      "city_centers_nearest    18786 non-null float64\n",
      "parks_around3000        18786 non-null float64\n",
      "parks_nearest           17652 non-null float64\n",
      "ponds_around3000        18786 non-null float64\n",
      "ponds_nearest           18678 non-null float64\n",
      "days_exposition         22736 non-null float64\n",
      "dtypes: bool(3), float64(12), int64(5), object(2)\n",
      "memory usage: 3.7+ MB\n"
     ]
    }
   ],
   "source": [
    "#df.duplicated().sum()         #no duplicates found in the dataframe\n",
    "#df.columns.tolist()           #convert the cityCenters_nearest column to snake_case\n",
    "new_columns = ['total_images', #set new column names\n",
    " 'last_price',\n",
    " 'total_area',\n",
    " 'first_day_exposition',\n",
    " 'rooms',\n",
    " 'ceiling_height',\n",
    " 'floors_total',\n",
    " 'living_area',\n",
    " 'floor',\n",
    " 'is_apartment',\n",
    " 'studio',\n",
    " 'open_plan',\n",
    " 'kitchen_area',\n",
    " 'balcony',\n",
    " 'locality_name',\n",
    " 'airports_nearest',\n",
    " 'city_centers_nearest',\n",
    " 'parks_around3000',\n",
    " 'parks_nearest',\n",
    " 'ponds_around3000',\n",
    " 'ponds_nearest',\n",
    " 'days_exposition']\n",
    "\n",
    "df.set_axis(new_columns, axis='columns', inplace=True)\n",
    "#df.columns.tolist()  \n",
    "\n",
    "#df.isnull().sum().sort_values()/df.shape[0]*100    #fix the number of gaps as a percentage\n",
    "#in most cases, passes are not dangerous, information about the distance to parks or airports\n",
    "#may not be known to residents. Information about whether the object is an apartment is probably missing in all cases,\n",
    "#when it is not.\n",
    "\n",
    "\n",
    "df['is_apartment']=df['is_apartment'].fillna(False)     #fill in the missing \"apartment/none\" values with negative values\n",
    "#df['is_apartment'].unique()\n",
    "\n",
    "#data that affect the cost, regardless of the location of the object, fill in the median value\n",
    "\n",
    "df['floors_total'] = df['floors_total'].fillna(df.groupby(['locality_name'])['floors_total'].transform('median'))\n",
    "\n",
    "df['living_area'] = df['living_area'].fillna(df.groupby(['locality_name'])['living_area'].transform('median'))\n",
    "df['living_area'] = df['living_area'].fillna(df['living_area'].median())\n",
    "\n",
    "df['kitchen_area'] = df['kitchen_area'].fillna(df.groupby(['locality_name'])['kitchen_area'].transform('median'))\n",
    "\n",
    "df['days_exposition'] = df['days_exposition'].fillna(df.groupby(['locality_name', 'last_price'])['days_exposition'].transform('median'))\n",
    "\n",
    "df['ceiling_height'] = df['ceiling_height'].fillna(df.groupby(['locality_name', 'floors_total'])['ceiling_height'].transform('median'))\n",
    "df['balcony'] = df['balcony'].fillna(df.groupby(['locality_name', 'floors_total'])['balcony'].transform('median'))\n",
    "df['balcony'] = df['balcony'].fillna(df['balcony'].median())\n",
    "     \n",
    "#df.isnull().sum().sort_values()/df.shape[0]*100\n",
    "\n",
    "len(df['locality_name'].unique())                             #format the list of settlements\n",
    "df['locality_name'] = df['locality_name'].str.lower()         #keep only lower case\n",
    "df['locality_name'] = df['locality_name'].str.replace('ё', 'е', regex=True)   #replace the letters е with ё\n",
    "df = df.dropna(subset=['locality_name'])                      #and delete the lines where even the location of the object is unknown\n",
    "\n",
    "\n",
    "#Trying to replace missing values ​​associated with location with median value by location\n",
    "df['parks_around3000'] = df['parks_around3000'].fillna(df.groupby(['locality_name'])['parks_around3000'].transform('median'))\n",
    "df['ponds_around3000'] = df['ponds_around3000'].fillna(df.groupby(['locality_name'])['ponds_around3000'].transform('median'))\n",
    "df['city_centers_nearest'] = df['city_centers_nearest'].fillna(df.groupby(['locality_name'])['city_centers_nearest'].transform('median'))\n",
    "df['airports_nearest'] = df['airports_nearest'].fillna(df.groupby(['locality_name'])['airports_nearest'].transform('median'))\n",
    "df['ponds_nearest'] = df['ponds_nearest'].fillna(df.groupby(['locality_name'])['ponds_nearest'].transform('median'))\n",
    "df['parks_nearest'] = df['parks_nearest'].fillna(df.groupby(['locality_name'])['parks_nearest'].transform('median'))\n",
    "# It is not very efficient, but filling with the median value of the column does not make sense. All territories must have different\n",
    "#indicators. Such averaging can adversely affect the output.\n",
    "\n",
    "df['floors_total'] = df['floors_total'].astype('int64') #for a logical reason, the number of floors should be an integer\n",
    "df['balcony'] = df['balcony'].astype('int64')           #as well as the number of balconies\n",
    "\n",
    "df.info()"
   ]
  },
  {
   "cell_type": "markdown",
   "metadata": {},
   "source": [
    "### Output"
   ]
  },
  {
   "cell_type": "markdown",
   "metadata": {},
   "source": [
    "The dataframe has been checked for duplicates. Filled in the missing apartment/none values ​​with negative values. The number of floors, living area and kitchen area are filled with median values for the city. The missing values ​​in the column with the number of days spent on the sale are filled with median values grouped by city and final price, since these parameters will greatly affect the speed of the sale. The columns for ceiling height and number of balconies are populated with median values ​​grouped by city and number of floors, which refines the figures, especially for residential areas. The number of floors and balconies was also reduced to integer values."
   ]
  },
  {
   "cell_type": "markdown",
   "metadata": {},
   "source": [
    "## Calculations and adding results to the table"
   ]
  },
  {
   "cell_type": "code",
   "execution_count": 3,
   "metadata": {
    "scrolled": false
   },
   "outputs": [
    {
     "name": "stdout",
     "output_type": "stream",
     "text": [
      "<class 'pandas.core.frame.DataFrame'>\n",
      "Int64Index: 23650 entries, 0 to 23698\n",
      "Data columns (total 29 columns):\n",
      "total_images              23650 non-null int64\n",
      "last_price                23650 non-null float64\n",
      "total_area                23650 non-null float64\n",
      "first_day_exposition      23650 non-null datetime64[ns]\n",
      "rooms                     23650 non-null int64\n",
      "ceiling_height            23256 non-null float64\n",
      "floors_total              23650 non-null int64\n",
      "living_area               23650 non-null float64\n",
      "floor                     23650 non-null int64\n",
      "is_apartment              23650 non-null bool\n",
      "studio                    23650 non-null bool\n",
      "open_plan                 23650 non-null bool\n",
      "kitchen_area              23631 non-null float64\n",
      "balcony                   23650 non-null int64\n",
      "locality_name             23650 non-null object\n",
      "airports_nearest          18786 non-null float64\n",
      "city_centers_nearest      18786 non-null float64\n",
      "parks_around3000          18786 non-null float64\n",
      "parks_nearest             17652 non-null float64\n",
      "ponds_around3000          18786 non-null float64\n",
      "ponds_nearest             18678 non-null float64\n",
      "days_exposition           22736 non-null float64\n",
      "price_per_m2              23650 non-null int64\n",
      "day_of_week_exposition    23650 non-null object\n",
      "month_exposition          23650 non-null object\n",
      "year_exposition           23650 non-null int64\n",
      "floor_number              23650 non-null object\n",
      "living_area_ratio         23650 non-null float64\n",
      "kitchen_area_ratio        23650 non-null float64\n",
      "dtypes: bool(3), datetime64[ns](1), float64(14), int64(7), object(4)\n",
      "memory usage: 4.9+ MB\n"
     ]
    },
    {
     "data": {
      "text/html": [
       "<div>\n",
       "<style scoped>\n",
       "    .dataframe tbody tr th:only-of-type {\n",
       "        vertical-align: middle;\n",
       "    }\n",
       "\n",
       "    .dataframe tbody tr th {\n",
       "        vertical-align: top;\n",
       "    }\n",
       "\n",
       "    .dataframe thead th {\n",
       "        text-align: right;\n",
       "    }\n",
       "</style>\n",
       "<table border=\"1\" class=\"dataframe\">\n",
       "  <thead>\n",
       "    <tr style=\"text-align: right;\">\n",
       "      <th></th>\n",
       "      <th>total_images</th>\n",
       "      <th>last_price</th>\n",
       "      <th>total_area</th>\n",
       "      <th>first_day_exposition</th>\n",
       "      <th>rooms</th>\n",
       "      <th>ceiling_height</th>\n",
       "      <th>floors_total</th>\n",
       "      <th>living_area</th>\n",
       "      <th>floor</th>\n",
       "      <th>is_apartment</th>\n",
       "      <th>...</th>\n",
       "      <th>ponds_around3000</th>\n",
       "      <th>ponds_nearest</th>\n",
       "      <th>days_exposition</th>\n",
       "      <th>price_per_m2</th>\n",
       "      <th>day_of_week_exposition</th>\n",
       "      <th>month_exposition</th>\n",
       "      <th>year_exposition</th>\n",
       "      <th>floor_number</th>\n",
       "      <th>living_area_ratio</th>\n",
       "      <th>kitchen_area_ratio</th>\n",
       "    </tr>\n",
       "  </thead>\n",
       "  <tbody>\n",
       "    <tr>\n",
       "      <td>6553</td>\n",
       "      <td>2</td>\n",
       "      <td>3331500.0</td>\n",
       "      <td>33.07</td>\n",
       "      <td>2018-07-26</td>\n",
       "      <td>1</td>\n",
       "      <td>2.65</td>\n",
       "      <td>19</td>\n",
       "      <td>11.38</td>\n",
       "      <td>4</td>\n",
       "      <td>False</td>\n",
       "      <td>...</td>\n",
       "      <td>2.0</td>\n",
       "      <td>133.0</td>\n",
       "      <td>267.0</td>\n",
       "      <td>100740</td>\n",
       "      <td>Thursday</td>\n",
       "      <td>July</td>\n",
       "      <td>2018</td>\n",
       "      <td>другой</td>\n",
       "      <td>0.34</td>\n",
       "      <td>0.42</td>\n",
       "    </tr>\n",
       "    <tr>\n",
       "      <td>20021</td>\n",
       "      <td>11</td>\n",
       "      <td>5000000.0</td>\n",
       "      <td>40.10</td>\n",
       "      <td>2018-11-14</td>\n",
       "      <td>1</td>\n",
       "      <td>2.65</td>\n",
       "      <td>10</td>\n",
       "      <td>20.10</td>\n",
       "      <td>6</td>\n",
       "      <td>False</td>\n",
       "      <td>...</td>\n",
       "      <td>0.0</td>\n",
       "      <td>503.0</td>\n",
       "      <td>82.0</td>\n",
       "      <td>124688</td>\n",
       "      <td>Wednesday</td>\n",
       "      <td>November</td>\n",
       "      <td>2018</td>\n",
       "      <td>другой</td>\n",
       "      <td>0.50</td>\n",
       "      <td>0.27</td>\n",
       "    </tr>\n",
       "    <tr>\n",
       "      <td>188</td>\n",
       "      <td>15</td>\n",
       "      <td>4600000.0</td>\n",
       "      <td>38.50</td>\n",
       "      <td>2019-04-16</td>\n",
       "      <td>1</td>\n",
       "      <td>2.50</td>\n",
       "      <td>12</td>\n",
       "      <td>18.50</td>\n",
       "      <td>5</td>\n",
       "      <td>False</td>\n",
       "      <td>...</td>\n",
       "      <td>0.0</td>\n",
       "      <td>503.0</td>\n",
       "      <td>68.0</td>\n",
       "      <td>119480</td>\n",
       "      <td>Tuesday</td>\n",
       "      <td>April</td>\n",
       "      <td>2019</td>\n",
       "      <td>другой</td>\n",
       "      <td>0.48</td>\n",
       "      <td>0.26</td>\n",
       "    </tr>\n",
       "    <tr>\n",
       "      <td>8477</td>\n",
       "      <td>7</td>\n",
       "      <td>9500000.0</td>\n",
       "      <td>93.00</td>\n",
       "      <td>2017-01-23</td>\n",
       "      <td>3</td>\n",
       "      <td>3.05</td>\n",
       "      <td>15</td>\n",
       "      <td>56.80</td>\n",
       "      <td>3</td>\n",
       "      <td>False</td>\n",
       "      <td>...</td>\n",
       "      <td>0.0</td>\n",
       "      <td>503.0</td>\n",
       "      <td>149.0</td>\n",
       "      <td>102150</td>\n",
       "      <td>Monday</td>\n",
       "      <td>January</td>\n",
       "      <td>2017</td>\n",
       "      <td>другой</td>\n",
       "      <td>0.61</td>\n",
       "      <td>0.11</td>\n",
       "    </tr>\n",
       "    <tr>\n",
       "      <td>22147</td>\n",
       "      <td>7</td>\n",
       "      <td>3450000.0</td>\n",
       "      <td>30.00</td>\n",
       "      <td>2019-03-07</td>\n",
       "      <td>1</td>\n",
       "      <td>2.60</td>\n",
       "      <td>9</td>\n",
       "      <td>15.20</td>\n",
       "      <td>4</td>\n",
       "      <td>False</td>\n",
       "      <td>...</td>\n",
       "      <td>0.0</td>\n",
       "      <td>503.0</td>\n",
       "      <td>37.0</td>\n",
       "      <td>115000</td>\n",
       "      <td>Thursday</td>\n",
       "      <td>March</td>\n",
       "      <td>2019</td>\n",
       "      <td>другой</td>\n",
       "      <td>0.51</td>\n",
       "      <td>0.22</td>\n",
       "    </tr>\n",
       "    <tr>\n",
       "      <td>6582</td>\n",
       "      <td>9</td>\n",
       "      <td>3600000.0</td>\n",
       "      <td>56.20</td>\n",
       "      <td>2018-02-15</td>\n",
       "      <td>3</td>\n",
       "      <td>2.50</td>\n",
       "      <td>4</td>\n",
       "      <td>42.00</td>\n",
       "      <td>1</td>\n",
       "      <td>False</td>\n",
       "      <td>...</td>\n",
       "      <td>0.0</td>\n",
       "      <td>509.0</td>\n",
       "      <td>39.0</td>\n",
       "      <td>64056</td>\n",
       "      <td>Thursday</td>\n",
       "      <td>February</td>\n",
       "      <td>2018</td>\n",
       "      <td>первый</td>\n",
       "      <td>0.75</td>\n",
       "      <td>0.10</td>\n",
       "    </tr>\n",
       "    <tr>\n",
       "      <td>9852</td>\n",
       "      <td>6</td>\n",
       "      <td>9900000.0</td>\n",
       "      <td>82.00</td>\n",
       "      <td>2019-03-11</td>\n",
       "      <td>3</td>\n",
       "      <td>2.80</td>\n",
       "      <td>27</td>\n",
       "      <td>43.00</td>\n",
       "      <td>19</td>\n",
       "      <td>False</td>\n",
       "      <td>...</td>\n",
       "      <td>0.0</td>\n",
       "      <td>503.0</td>\n",
       "      <td>155.0</td>\n",
       "      <td>120731</td>\n",
       "      <td>Monday</td>\n",
       "      <td>March</td>\n",
       "      <td>2019</td>\n",
       "      <td>другой</td>\n",
       "      <td>0.52</td>\n",
       "      <td>0.15</td>\n",
       "    </tr>\n",
       "    <tr>\n",
       "      <td>11767</td>\n",
       "      <td>18</td>\n",
       "      <td>6050000.0</td>\n",
       "      <td>54.50</td>\n",
       "      <td>2018-07-11</td>\n",
       "      <td>2</td>\n",
       "      <td>2.85</td>\n",
       "      <td>24</td>\n",
       "      <td>30.30</td>\n",
       "      <td>2</td>\n",
       "      <td>False</td>\n",
       "      <td>...</td>\n",
       "      <td>0.0</td>\n",
       "      <td>503.0</td>\n",
       "      <td>91.0</td>\n",
       "      <td>111009</td>\n",
       "      <td>Wednesday</td>\n",
       "      <td>July</td>\n",
       "      <td>2018</td>\n",
       "      <td>другой</td>\n",
       "      <td>0.56</td>\n",
       "      <td>0.22</td>\n",
       "    </tr>\n",
       "    <tr>\n",
       "      <td>345</td>\n",
       "      <td>11</td>\n",
       "      <td>3300000.0</td>\n",
       "      <td>33.00</td>\n",
       "      <td>2017-12-26</td>\n",
       "      <td>1</td>\n",
       "      <td>2.50</td>\n",
       "      <td>15</td>\n",
       "      <td>18.60</td>\n",
       "      <td>1</td>\n",
       "      <td>False</td>\n",
       "      <td>...</td>\n",
       "      <td>0.0</td>\n",
       "      <td>503.0</td>\n",
       "      <td>17.0</td>\n",
       "      <td>100000</td>\n",
       "      <td>Tuesday</td>\n",
       "      <td>December</td>\n",
       "      <td>2017</td>\n",
       "      <td>первый</td>\n",
       "      <td>0.56</td>\n",
       "      <td>0.19</td>\n",
       "    </tr>\n",
       "    <tr>\n",
       "      <td>17374</td>\n",
       "      <td>19</td>\n",
       "      <td>4900000.0</td>\n",
       "      <td>95.00</td>\n",
       "      <td>2017-06-22</td>\n",
       "      <td>3</td>\n",
       "      <td>2.50</td>\n",
       "      <td>5</td>\n",
       "      <td>53.50</td>\n",
       "      <td>3</td>\n",
       "      <td>False</td>\n",
       "      <td>...</td>\n",
       "      <td>NaN</td>\n",
       "      <td>NaN</td>\n",
       "      <td>131.0</td>\n",
       "      <td>51578</td>\n",
       "      <td>Thursday</td>\n",
       "      <td>June</td>\n",
       "      <td>2017</td>\n",
       "      <td>другой</td>\n",
       "      <td>0.56</td>\n",
       "      <td>0.11</td>\n",
       "    </tr>\n",
       "  </tbody>\n",
       "</table>\n",
       "<p>10 rows × 29 columns</p>\n",
       "</div>"
      ],
      "text/plain": [
       "       total_images  last_price  total_area first_day_exposition  rooms  \\\n",
       "6553              2   3331500.0       33.07           2018-07-26      1   \n",
       "20021            11   5000000.0       40.10           2018-11-14      1   \n",
       "188              15   4600000.0       38.50           2019-04-16      1   \n",
       "8477              7   9500000.0       93.00           2017-01-23      3   \n",
       "22147             7   3450000.0       30.00           2019-03-07      1   \n",
       "6582              9   3600000.0       56.20           2018-02-15      3   \n",
       "9852              6   9900000.0       82.00           2019-03-11      3   \n",
       "11767            18   6050000.0       54.50           2018-07-11      2   \n",
       "345              11   3300000.0       33.00           2017-12-26      1   \n",
       "17374            19   4900000.0       95.00           2017-06-22      3   \n",
       "\n",
       "       ceiling_height  floors_total  living_area  floor  is_apartment  ...  \\\n",
       "6553             2.65            19        11.38      4         False  ...   \n",
       "20021            2.65            10        20.10      6         False  ...   \n",
       "188              2.50            12        18.50      5         False  ...   \n",
       "8477             3.05            15        56.80      3         False  ...   \n",
       "22147            2.60             9        15.20      4         False  ...   \n",
       "6582             2.50             4        42.00      1         False  ...   \n",
       "9852             2.80            27        43.00     19         False  ...   \n",
       "11767            2.85            24        30.30      2         False  ...   \n",
       "345              2.50            15        18.60      1         False  ...   \n",
       "17374            2.50             5        53.50      3         False  ...   \n",
       "\n",
       "       ponds_around3000  ponds_nearest  days_exposition  price_per_m2  \\\n",
       "6553                2.0          133.0            267.0        100740   \n",
       "20021               0.0          503.0             82.0        124688   \n",
       "188                 0.0          503.0             68.0        119480   \n",
       "8477                0.0          503.0            149.0        102150   \n",
       "22147               0.0          503.0             37.0        115000   \n",
       "6582                0.0          509.0             39.0         64056   \n",
       "9852                0.0          503.0            155.0        120731   \n",
       "11767               0.0          503.0             91.0        111009   \n",
       "345                 0.0          503.0             17.0        100000   \n",
       "17374               NaN            NaN            131.0         51578   \n",
       "\n",
       "      day_of_week_exposition  month_exposition  year_exposition  floor_number  \\\n",
       "6553                Thursday              July             2018        другой   \n",
       "20021              Wednesday          November             2018        другой   \n",
       "188                  Tuesday             April             2019        другой   \n",
       "8477                  Monday           January             2017        другой   \n",
       "22147               Thursday             March             2019        другой   \n",
       "6582                Thursday          February             2018        первый   \n",
       "9852                  Monday             March             2019        другой   \n",
       "11767              Wednesday              July             2018        другой   \n",
       "345                  Tuesday          December             2017        первый   \n",
       "17374               Thursday              June             2017        другой   \n",
       "\n",
       "       living_area_ratio  kitchen_area_ratio  \n",
       "6553                0.34                0.42  \n",
       "20021               0.50                0.27  \n",
       "188                 0.48                0.26  \n",
       "8477                0.61                0.11  \n",
       "22147               0.51                0.22  \n",
       "6582                0.75                0.10  \n",
       "9852                0.52                0.15  \n",
       "11767               0.56                0.22  \n",
       "345                 0.56                0.19  \n",
       "17374               0.56                0.11  \n",
       "\n",
       "[10 rows x 29 columns]"
      ]
     },
     "execution_count": 3,
     "metadata": {},
     "output_type": "execute_result"
    }
   ],
   "source": [
    "df['price_per_m2'] = df['last_price'] / df['total_area'] #added price per m2 column\n",
    "df['price_per_m2'] = df['price_per_m2'].astype('int64')  #rounded to the nearest whole number to make it easier to understand\n",
    "\n",
    "df['first_day_exposition'] = pd.to_datetime(df['first_day_exposition'], format=\"%Y-%m-%dT%H:%M:%S\") #translate date to datetime format\n",
    "#df.info()\n",
    "df['day_of_week_exposition'] = df['first_day_exposition'].dt.day_name() #added a column with the day of the week\n",
    "df['month_exposition'] = df['first_day_exposition'].dt.month_name()     #added a column with the name of the month\n",
    "df['year_exposition'] = df['first_day_exposition'].dt.year              #added column with year\n",
    "#df.sample(10)\n",
    "\n",
    "def floor_number(row):                                #function to determine the floor number\n",
    "    if row['floor'] == 1:\n",
    "        return 'первый'\n",
    "    elif row['floor'] == row['floors_total']:\n",
    "        return 'последний'\n",
    "    else:\n",
    "        return 'другой'\n",
    "    \n",
    "df['floor_number'] = df.apply(floor_number, axis=1)   #adding a column with information about the \"quality\" of the floor (first/last/other)\n",
    "\n",
    "df['living_area_ratio'] = df['living_area'] / df['total_area']       #added a column with the ratio of living area to total\n",
    "df['kitchen_area_ratio'] = df['kitchen_area'] / df['total_area']     # and a column of the ratio of the area of ​​​​the kitchen to the total\n",
    "df['living_area_ratio'] = df['living_area_ratio'].round(decimals=2)  #columns rounded to 2 decimal places for readability\n",
    "df['kitchen_area_ratio'] = df['kitchen_area_ratio'].round(decimals=2)\n",
    "df['kitchen_area_ratio'] = df['kitchen_area_ratio'].fillna(df['kitchen_area_ratio'].median())\n",
    "\n",
    "df.info()\n",
    "df.sample(10)"
   ]
  },
  {
   "cell_type": "markdown",
   "metadata": {},
   "source": [
    "### Output"
   ]
  },
  {
   "cell_type": "markdown",
   "metadata": {},
   "source": [
    "I have added a price per square meter column. It is rounded to an integer value. Date converted to datetime format and split into columns. A function has been compiled to determine the floor - whether it is the last one, the first one or another. The corresponding column has been added. Columns with the ratio of living area to total and kitchen area to total were also added, after which the values of the ratios were rounded to two decimal places."
   ]
  },
  {
   "cell_type": "markdown",
   "metadata": {},
   "source": [
    "## Exploratory data analysis"
   ]
  },
  {
   "cell_type": "markdown",
   "metadata": {},
   "source": [
    "### Research of the necessary parameters"
   ]
  },
  {
   "cell_type": "markdown",
   "metadata": {},
   "source": [
    "#### Price"
   ]
  },
  {
   "cell_type": "code",
   "execution_count": 4,
   "metadata": {
    "scrolled": true
   },
   "outputs": [
    {
     "data": {
      "text/plain": [
       "count    2.365000e+04\n",
       "mean     6.541127e+06\n",
       "std      1.089640e+07\n",
       "min      1.219000e+04\n",
       "25%      3.400000e+06\n",
       "50%      4.650000e+06\n",
       "75%      6.799000e+06\n",
       "max      7.630000e+08\n",
       "Name: last_price, dtype: float64"
      ]
     },
     "execution_count": 4,
     "metadata": {},
     "output_type": "execute_result"
    }
   ],
   "source": [
    "df['last_price'].describe()\n",
    "#df.query('last_price < 400000')['last_price']\n"
   ]
  },
  {
   "cell_type": "code",
   "execution_count": 5,
   "metadata": {
    "scrolled": false
   },
   "outputs": [
    {
     "data": {
      "text/plain": [
       "Text(0, 0.5, 'Частота')"
      ]
     },
     "execution_count": 5,
     "metadata": {},
     "output_type": "execute_result"
    },
    {
     "data": {
      "image/png": "[encoded data removed]",
      "text/plain": [
       "<Figure size 720x360 with 1 Axes>"
      ]
     },
     "metadata": {
      "needs_background": "light"
     },
     "output_type": "display_data"
    }
   ],
   "source": [
    "df['last_price_m'] = df['last_price'] / 1000000 #для удобства переведу стоимость квартир в миллионы\n",
    "lpm_plot = df['last_price_m'].plot(kind = 'hist', bins = 1000,figsize = (10,5), legend = True, grid = True, xlim = (0, 20));\n",
    "lpm_plot.set_xlabel('Стоимость (млн.)')\n",
    "lpm_plot.set_ylabel('Частота')"
   ]
  },
  {
   "cell_type": "markdown",
   "metadata": {},
   "source": [
    "The data is ok. Normal distribution."
   ]
  },
  {
   "cell_type": "markdown",
   "metadata": {},
   "source": [
    "#### Area"
   ]
  },
  {
   "cell_type": "code",
   "execution_count": 6,
   "metadata": {
    "scrolled": false
   },
   "outputs": [
    {
     "data": {
      "text/plain": [
       "count    23650.000000\n",
       "mean        60.329069\n",
       "std         35.661808\n",
       "min         12.000000\n",
       "25%         40.000000\n",
       "50%         52.000000\n",
       "75%         69.700000\n",
       "max        900.000000\n",
       "Name: total_area, dtype: float64"
      ]
     },
     "execution_count": 6,
     "metadata": {},
     "output_type": "execute_result"
    },
    {
     "data": {
      "image/png": "[encoded data removed]",
      "text/plain": [
       "<Figure size 720x360 with 1 Axes>"
      ]
     },
     "metadata": {
      "needs_background": "light"
     },
     "output_type": "display_data"
    }
   ],
   "source": [
    "ta_plot = df['total_area'].plot(kind = 'hist', bins = 100, figsize = (10,5), legend = True, grid = True, range = (0, 500));\n",
    "ta_plot.set_xlabel('Площадь (м2)')\n",
    "ta_plot.set_ylabel('Частота')\n",
    "df['total_area'].describe()"
   ]
  },
  {
   "cell_type": "markdown",
   "metadata": {},
   "source": [
    "Gaussian distribution."
   ]
  },
  {
   "cell_type": "markdown",
   "metadata": {},
   "source": [
    "#### Number of rooms"
   ]
  },
  {
   "cell_type": "code",
   "execution_count": 7,
   "metadata": {},
   "outputs": [
    {
     "data": {
      "text/plain": [
       "count    23650.000000\n",
       "mean         2.070106\n",
       "std          1.078620\n",
       "min          0.000000\n",
       "25%          1.000000\n",
       "50%          2.000000\n",
       "75%          3.000000\n",
       "max         19.000000\n",
       "Name: rooms, dtype: float64"
      ]
     },
     "execution_count": 7,
     "metadata": {},
     "output_type": "execute_result"
    }
   ],
   "source": [
    "df['rooms'].describe()"
   ]
  },
  {
   "cell_type": "code",
   "execution_count": 8,
   "metadata": {
    "scrolled": true
   },
   "outputs": [
    {
     "data": {
      "image/png": "[encoded data removed]",
      "text/plain": [
       "<Figure size 720x360 with 1 Axes>"
      ]
     },
     "metadata": {
      "needs_background": "light"
     },
     "output_type": "display_data"
    }
   ],
   "source": [
    "r_count = df['rooms'].plot(kind = 'hist', bins = 30,figsize = (10,5), legend = True, grid = True, xlim = (1,10));\n",
    "r_count.set_xlabel('Количество комнат')\n",
    "r_count.set_ylabel('Частота')\n",
    "plt.show( )"
   ]
  },
  {
   "cell_type": "markdown",
   "metadata": {},
   "source": [
    "Most of the one-room and two-room apartments are represented on the market. There are slightly fewer three-room apartments. Sometimes there are extreme values. For example - eight-room apartments, but their number is small and insignificant."
   ]
  },
  {
   "cell_type": "markdown",
   "metadata": {},
   "source": [
    "#### Ceiling height"
   ]
  },
  {
   "cell_type": "code",
   "execution_count": 9,
   "metadata": {},
   "outputs": [
    {
     "data": {
      "text/plain": [
       "count    23256.000000\n",
       "mean         2.738894\n",
       "std          1.015849\n",
       "min          1.000000\n",
       "25%          2.550000\n",
       "50%          2.650000\n",
       "75%          2.750000\n",
       "max        100.000000\n",
       "Name: ceiling_height, dtype: float64"
      ]
     },
     "execution_count": 9,
     "metadata": {},
     "output_type": "execute_result"
    }
   ],
   "source": [
    "df['ceiling_height'].describe()"
   ]
  },
  {
   "cell_type": "code",
   "execution_count": 10,
   "metadata": {},
   "outputs": [
    {
     "data": {
      "image/png": "[encoded data removed]",
      "text/plain": [
       "<Figure size 720x360 with 1 Axes>"
      ]
     },
     "metadata": {
      "needs_background": "light"
     },
     "output_type": "display_data"
    }
   ],
   "source": [
    "cel_height_count = df.plot(y = 'ceiling_height', kind = 'hist', bins = 30, range = (2,5), grid=True, figsize = (10,5));\n",
    "cel_height_count.set_xlabel('Высота потолков (м)')\n",
    "cel_height_count.set_ylabel('Частота')\n",
    "plt.show( )"
   ]
  },
  {
   "cell_type": "markdown",
   "metadata": {},
   "source": [
    "Most often there are \"normal\" ceilings with a height of 2.5m. There are also values below this value, but their number is insignificant. Three-meter ceilings are also quite common (probably Stalinist buildings)."
   ]
  },
  {
   "cell_type": "markdown",
   "metadata": {},
   "source": [
    "#### Output"
   ]
  },
  {
   "cell_type": "markdown",
   "metadata": {},
   "source": [
    "The bulk of the ads are apartments with an area of 40 to 70 sq.m. The last price of most ads is from 3,400,000 to 6,700,000 rubles. Mostly one-room and two-room apartments are sold, three-room apartments are slightly less. 2.6 - 2.7 m - the approximate height of the ceilings in most apartments."
   ]
  },
  {
   "cell_type": "markdown",
   "metadata": {},
   "source": [
    "Added labels for chart axes."
   ]
  },
  {
   "cell_type": "markdown",
   "metadata": {},
   "source": [
    "### Researching the time of selling an apartment"
   ]
  },
  {
   "cell_type": "code",
   "execution_count": 11,
   "metadata": {},
   "outputs": [
    {
     "data": {
      "image/png": "[encoded data removed]",
      "text/plain": [
       "<Figure size 720x360 with 1 Axes>"
      ]
     },
     "metadata": {
      "needs_background": "light"
     },
     "output_type": "display_data"
    }
   ],
   "source": [
    "time_sell = df['days_exposition'].plot(kind = 'hist', bins = 100,figsize = (10,5), legend = True, grid = True);\n",
    "time_sell.set_xlabel('Время продажи квартиры (дни)')\n",
    "time_sell.set_ylabel('Частота')\n",
    "plt.show( )"
   ]
  },
  {
   "cell_type": "code",
   "execution_count": 12,
   "metadata": {},
   "outputs": [
    {
     "data": {
      "text/plain": [
       "count    22736.000000\n",
       "mean       175.821363\n",
       "std        212.506329\n",
       "min          1.000000\n",
       "25%         45.000000\n",
       "50%         96.000000\n",
       "75%        217.000000\n",
       "max       1580.000000\n",
       "Name: days_exposition, dtype: float64"
      ]
     },
     "execution_count": 12,
     "metadata": {},
     "output_type": "execute_result"
    }
   ],
   "source": [
    "df['days_exposition'].describe()"
   ]
  },
  {
   "cell_type": "code",
   "execution_count": 13,
   "metadata": {},
   "outputs": [
    {
     "data": {
      "image/png": "[encoded data removed]",
      "text/plain": [
       "<Figure size 720x360 with 1 Axes>"
      ]
     },
     "metadata": {
      "needs_background": "light"
     },
     "output_type": "display_data"
    }
   ],
   "source": [
    "time_sell2 = df['days_exposition'].plot(kind = 'hist', bins = 500,figsize = (10,5), legend = True, grid = True, xlim = (1, 600));\n",
    "time_sell2.set_xlabel('Время продажи квартиры (дни)')\n",
    "time_sell2.set_ylabel('Частота')\n",
    "plt.show( )"
   ]
  },
  {
   "cell_type": "code",
   "execution_count": 14,
   "metadata": {},
   "outputs": [
    {
     "data": {
      "text/plain": [
       "175.82136259676284"
      ]
     },
     "execution_count": 14,
     "metadata": {},
     "output_type": "execute_result"
    }
   ],
   "source": [
    "df['days_exposition'].mean() #average"
   ]
  },
  {
   "cell_type": "code",
   "execution_count": 15,
   "metadata": {},
   "outputs": [
    {
     "data": {
      "text/plain": [
       "96.0"
      ]
     },
     "execution_count": 15,
     "metadata": {},
     "output_type": "execute_result"
    }
   ],
   "source": [
    "df['days_exposition'].median() #median"
   ]
  },
  {
   "cell_type": "code",
   "execution_count": 16,
   "metadata": {},
   "outputs": [
    {
     "data": {
      "text/plain": [
       "45.0      901\n",
       "60.0      554\n",
       "90.0      240\n",
       "7.0       235\n",
       "30.0      211\n",
       "         ... \n",
       "162.5       1\n",
       "1090.0      1\n",
       "1315.0      1\n",
       "1313.0      1\n",
       "773.0       1\n",
       "Name: days_exposition, Length: 1304, dtype: int64"
      ]
     },
     "execution_count": 16,
     "metadata": {},
     "output_type": "execute_result"
    }
   ],
   "source": [
    "#df[df['days_exposition']!=0]['days_exposition'].describe()\n",
    "df[df['days_exposition']!=0]['days_exposition'].value_counts()"
   ]
  },
  {
   "cell_type": "markdown",
   "metadata": {},
   "source": [
    "Abnormally large values ​​were revealed - 45 days, 60 days, 90 days, 7 days and 30 days. These values ​​look reasonable and may contain an upload error. And indeed - Yandex.Help says that these terms exactly coincide with the terms for automatically removing ads from sites. These values ​​should be removed."
   ]
  },
  {
   "cell_type": "markdown",
   "metadata": {},
   "source": [
    "#### Output"
   ]
  },
  {
   "cell_type": "markdown",
   "metadata": {},
   "source": [
    "The average time to sell an apartment is 176 days, while the median time is 96 days. Usually the sale lasts from 45 to 213 days. Accordingly, I propose to consider a quick sale one that was completed in less than 45 days, and an unusually slow one that was completed in more than 213 days."
   ]
  },
  {
   "cell_type": "markdown",
   "metadata": {},
   "source": [
    "### Removing rare and outliers"
   ]
  },
  {
   "cell_type": "code",
   "execution_count": 17,
   "metadata": {},
   "outputs": [
    {
     "data": {
      "text/plain": [
       "Index(['total_images', 'last_price', 'total_area', 'first_day_exposition',\n",
       "       'rooms', 'ceiling_height', 'floors_total', 'living_area', 'floor',\n",
       "       'is_apartment', 'studio', 'open_plan', 'kitchen_area', 'balcony',\n",
       "       'locality_name', 'airports_nearest', 'city_centers_nearest',\n",
       "       'parks_around3000', 'parks_nearest', 'ponds_around3000',\n",
       "       'ponds_nearest', 'days_exposition', 'price_per_m2',\n",
       "       'day_of_week_exposition', 'month_exposition', 'year_exposition',\n",
       "       'floor_number', 'living_area_ratio', 'kitchen_area_ratio',\n",
       "       'last_price_m'],\n",
       "      dtype='object')"
      ]
     },
     "execution_count": 17,
     "metadata": {},
     "output_type": "execute_result"
    }
   ],
   "source": [
    "df.columns"
   ]
  },
  {
   "cell_type": "code",
   "execution_count": 18,
   "metadata": {},
   "outputs": [],
   "source": [
    "#print(len(df[df['floors_total'] < df['floor']])) #обнаружено 32 значения, где количество этажей было меньше заявленного этажа продающейся квартиры\n",
    "df.loc[df[\"floors_total\"] < df[\"floor\"], \"floor\"] = df['floors_total']   #заменим их на максимальное значение этажа в этом доме\n",
    "#print(len(df[df['floors_total'] < df['floor']]))"
   ]
  },
  {
   "cell_type": "markdown",
   "metadata": {},
   "source": [
    "Changed 32 values, where the number of floors was less than the number of the floor of the apartment listed for sale."
   ]
  },
  {
   "cell_type": "code",
   "execution_count": 19,
   "metadata": {},
   "outputs": [],
   "source": [
    "clear_df = df.query('days_exposition != 45 and days_exposition != 30 and days_exposition != 60 and days_exposition != 90 and days_exposition != 7 and days_exposition != 0')"
   ]
  },
  {
   "cell_type": "markdown",
   "metadata": {},
   "source": [
    "Clearing errors when unloading in the column with the timing of the sale. Create a new date frame."
   ]
  },
  {
   "cell_type": "code",
   "execution_count": 20,
   "metadata": {},
   "outputs": [
    {
     "data": {
      "text/plain": [
       "<bound method IndexOpsMixin.value_counts of 0        141.5\n",
       "1         81.0\n",
       "2        558.0\n",
       "3        424.0\n",
       "4        121.0\n",
       "         ...  \n",
       "23694    145.0\n",
       "23695     45.0\n",
       "23696      NaN\n",
       "23697    602.0\n",
       "23698      NaN\n",
       "Name: days_exposition, Length: 22649, dtype: float64>"
      ]
     },
     "execution_count": 20,
     "metadata": {},
     "output_type": "execute_result"
    }
   ],
   "source": [
    "clear_df['days_exposition'].value_counts"
   ]
  },
  {
   "cell_type": "code",
   "execution_count": 21,
   "metadata": {},
   "outputs": [
    {
     "data": {
      "image/png": "[encoded data removed]",
      "text/plain": [
       "<Figure size 432x288 with 1 Axes>"
      ]
     },
     "metadata": {
      "needs_background": "light"
     },
     "output_type": "display_data"
    }
   ],
   "source": [
    "time_sell3 = clear_df.plot(y = 'days_exposition', kind = 'hist', bins = 30, grid = True, range = (1,1600));\n",
    "time_sell3.set_xlabel('Время продажи квартиры (дни)')\n",
    "time_sell3.set_ylabel('Частота')\n",
    "plt.show( )"
   ]
  },
  {
   "cell_type": "code",
   "execution_count": 22,
   "metadata": {},
   "outputs": [
    {
     "name": "stdout",
     "output_type": "stream",
     "text": [
      "<class 'pandas.core.frame.DataFrame'>\n",
      "Int64Index: 22649 entries, 0 to 23698\n",
      "Data columns (total 30 columns):\n",
      "total_images              22649 non-null int64\n",
      "last_price                22649 non-null float64\n",
      "total_area                22649 non-null float64\n",
      "first_day_exposition      22649 non-null datetime64[ns]\n",
      "rooms                     22649 non-null int64\n",
      "ceiling_height            22266 non-null float64\n",
      "floors_total              22649 non-null int64\n",
      "living_area               22649 non-null float64\n",
      "floor                     22649 non-null int64\n",
      "is_apartment              22649 non-null bool\n",
      "studio                    22649 non-null bool\n",
      "open_plan                 22649 non-null bool\n",
      "kitchen_area              22631 non-null float64\n",
      "balcony                   22649 non-null int64\n",
      "locality_name             22649 non-null object\n",
      "airports_nearest          17906 non-null float64\n",
      "city_centers_nearest      17906 non-null float64\n",
      "parks_around3000          17906 non-null float64\n",
      "parks_nearest             16824 non-null float64\n",
      "ponds_around3000          17906 non-null float64\n",
      "ponds_nearest             17803 non-null float64\n",
      "days_exposition           21735 non-null float64\n",
      "price_per_m2              22649 non-null int64\n",
      "day_of_week_exposition    22649 non-null object\n",
      "month_exposition          22649 non-null object\n",
      "year_exposition           22649 non-null int64\n",
      "floor_number              22649 non-null object\n",
      "living_area_ratio         22649 non-null float64\n",
      "kitchen_area_ratio        22649 non-null float64\n",
      "last_price_m              22649 non-null float64\n",
      "dtypes: bool(3), datetime64[ns](1), float64(15), int64(7), object(4)\n",
      "memory usage: 4.9+ MB\n"
     ]
    }
   ],
   "source": [
    "clear_df.info()"
   ]
  },
  {
   "cell_type": "code",
   "execution_count": 23,
   "metadata": {},
   "outputs": [
    {
     "data": {
      "image/png": "[encoded data removed]",
      "text/plain": [
       "<Figure size 432x288 with 1 Axes>"
      ]
     },
     "metadata": {
      "needs_background": "light"
     },
     "output_type": "display_data"
    }
   ],
   "source": [
    "time_sell4 = clear_df.plot(y = 'days_exposition', kind = 'hist', bins = 30, grid = True, range = (1,600));\n",
    "time_sell4.set_xlabel('Время продажи квартиры (дни)')\n",
    "time_sell4.set_ylabel('Частота')\n",
    "plt.show( )"
   ]
  },
  {
   "cell_type": "code",
   "execution_count": 24,
   "metadata": {},
   "outputs": [
    {
     "data": {
      "text/plain": [
       "count    17906.000000\n",
       "mean     29510.905311\n",
       "std      13029.836542\n",
       "min       6450.000000\n",
       "25%      18852.000000\n",
       "50%      27154.000000\n",
       "75%      38617.500000\n",
       "max      84869.000000\n",
       "Name: airports_nearest, dtype: float64"
      ]
     },
     "execution_count": 24,
     "metadata": {},
     "output_type": "execute_result"
    }
   ],
   "source": [
    "clear_df['airports_nearest'].describe()"
   ]
  },
  {
   "cell_type": "code",
   "execution_count": 25,
   "metadata": {},
   "outputs": [
    {
     "data": {
      "text/plain": [
       "0"
      ]
     },
     "metadata": {},
     "output_type": "display_data"
    }
   ],
   "source": [
    "display(clear_df.query('airports_nearest == 0')['airports_nearest'].count())\n",
    "clear_df = clear_df.query('airports_nearest > 0')"
   ]
  },
  {
   "cell_type": "markdown",
   "metadata": {},
   "source": [
    "#### Output"
   ]
  },
  {
   "cell_type": "markdown",
   "metadata": {},
   "source": [
    "Fixed some outliers. Such as apartments in which the declared floor was less than the number of storeys of the building itself. Or data about ads removed by an automated system. Buildings located 0 kilometers from the airport were checked, which is impossible in accordance with the legislation of the Russian Federation."
   ]
  },
  {
   "cell_type": "markdown",
   "metadata": {},
   "source": [
    "### Determination of the most influencing factors"
   ]
  },
  {
   "cell_type": "code",
   "execution_count": 26,
   "metadata": {},
   "outputs": [
    {
     "data": {
      "text/plain": [
       "Index(['total_images', 'last_price', 'total_area', 'first_day_exposition',\n",
       "       'rooms', 'ceiling_height', 'floors_total', 'living_area', 'floor',\n",
       "       'is_apartment', 'studio', 'open_plan', 'kitchen_area', 'balcony',\n",
       "       'locality_name', 'airports_nearest', 'city_centers_nearest',\n",
       "       'parks_around3000', 'parks_nearest', 'ponds_around3000',\n",
       "       'ponds_nearest', 'days_exposition', 'price_per_m2',\n",
       "       'day_of_week_exposition', 'month_exposition', 'year_exposition',\n",
       "       'floor_number', 'living_area_ratio', 'kitchen_area_ratio',\n",
       "       'last_price_m'],\n",
       "      dtype='object')"
      ]
     },
     "execution_count": 26,
     "metadata": {},
     "output_type": "execute_result"
    }
   ],
   "source": [
    "df.columns"
   ]
  },
  {
   "cell_type": "code",
   "execution_count": 27,
   "metadata": {},
   "outputs": [
    {
     "data": {
      "text/html": [
       "<style  type=\"text/css\" >\n",
       "    #T_af4b6e64_e17c_11eb_9132_02420a397acbrow0_col0 {\n",
       "            background-color:  #b40426;\n",
       "            color:  #f1f1f1;\n",
       "        }    #T_af4b6e64_e17c_11eb_9132_02420a397acbrow0_col1 {\n",
       "            background-color:  #f6a586;\n",
       "            color:  #000000;\n",
       "        }    #T_af4b6e64_e17c_11eb_9132_02420a397acbrow0_col2 {\n",
       "            background-color:  #d4dbe6;\n",
       "            color:  #000000;\n",
       "        }    #T_af4b6e64_e17c_11eb_9132_02420a397acbrow0_col3 {\n",
       "            background-color:  #445acc;\n",
       "            color:  #f1f1f1;\n",
       "        }    #T_af4b6e64_e17c_11eb_9132_02420a397acbrow0_col4 {\n",
       "            background-color:  #4055c8;\n",
       "            color:  #f1f1f1;\n",
       "        }    #T_af4b6e64_e17c_11eb_9132_02420a397acbrow1_col0 {\n",
       "            background-color:  #f7a889;\n",
       "            color:  #000000;\n",
       "        }    #T_af4b6e64_e17c_11eb_9132_02420a397acbrow1_col1 {\n",
       "            background-color:  #b40426;\n",
       "            color:  #f1f1f1;\n",
       "        }    #T_af4b6e64_e17c_11eb_9132_02420a397acbrow1_col2 {\n",
       "            background-color:  #ee8468;\n",
       "            color:  #000000;\n",
       "        }    #T_af4b6e64_e17c_11eb_9132_02420a397acbrow1_col3 {\n",
       "            background-color:  #3b4cc0;\n",
       "            color:  #f1f1f1;\n",
       "        }    #T_af4b6e64_e17c_11eb_9132_02420a397acbrow1_col4 {\n",
       "            background-color:  #3b4cc0;\n",
       "            color:  #f1f1f1;\n",
       "        }    #T_af4b6e64_e17c_11eb_9132_02420a397acbrow2_col0 {\n",
       "            background-color:  #d6dce4;\n",
       "            color:  #000000;\n",
       "        }    #T_af4b6e64_e17c_11eb_9132_02420a397acbrow2_col1 {\n",
       "            background-color:  #ec8165;\n",
       "            color:  #000000;\n",
       "        }    #T_af4b6e64_e17c_11eb_9132_02420a397acbrow2_col2 {\n",
       "            background-color:  #b40426;\n",
       "            color:  #f1f1f1;\n",
       "        }    #T_af4b6e64_e17c_11eb_9132_02420a397acbrow2_col3 {\n",
       "            background-color:  #4055c8;\n",
       "            color:  #f1f1f1;\n",
       "        }    #T_af4b6e64_e17c_11eb_9132_02420a397acbrow2_col4 {\n",
       "            background-color:  #445acc;\n",
       "            color:  #f1f1f1;\n",
       "        }    #T_af4b6e64_e17c_11eb_9132_02420a397acbrow3_col0 {\n",
       "            background-color:  #6687ed;\n",
       "            color:  #000000;\n",
       "        }    #T_af4b6e64_e17c_11eb_9132_02420a397acbrow3_col1 {\n",
       "            background-color:  #6384eb;\n",
       "            color:  #000000;\n",
       "        }    #T_af4b6e64_e17c_11eb_9132_02420a397acbrow3_col2 {\n",
       "            background-color:  #5f7fe8;\n",
       "            color:  #000000;\n",
       "        }    #T_af4b6e64_e17c_11eb_9132_02420a397acbrow3_col3 {\n",
       "            background-color:  #b40426;\n",
       "            color:  #f1f1f1;\n",
       "        }    #T_af4b6e64_e17c_11eb_9132_02420a397acbrow3_col4 {\n",
       "            background-color:  #82a6fb;\n",
       "            color:  #000000;\n",
       "        }    #T_af4b6e64_e17c_11eb_9132_02420a397acbrow4_col0 {\n",
       "            background-color:  #3b4cc0;\n",
       "            color:  #f1f1f1;\n",
       "        }    #T_af4b6e64_e17c_11eb_9132_02420a397acbrow4_col1 {\n",
       "            background-color:  #3b4cc0;\n",
       "            color:  #f1f1f1;\n",
       "        }    #T_af4b6e64_e17c_11eb_9132_02420a397acbrow4_col2 {\n",
       "            background-color:  #3b4cc0;\n",
       "            color:  #f1f1f1;\n",
       "        }    #T_af4b6e64_e17c_11eb_9132_02420a397acbrow4_col3 {\n",
       "            background-color:  #5a78e4;\n",
       "            color:  #000000;\n",
       "        }    #T_af4b6e64_e17c_11eb_9132_02420a397acbrow4_col4 {\n",
       "            background-color:  #b40426;\n",
       "            color:  #f1f1f1;\n",
       "        }</style><table id=\"T_af4b6e64_e17c_11eb_9132_02420a397acb\" ><thead>    <tr>        <th class=\"blank level0\" ></th>        <th class=\"col_heading level0 col0\" >last_price</th>        <th class=\"col_heading level0 col1\" >total_area</th>        <th class=\"col_heading level0 col2\" >rooms</th>        <th class=\"col_heading level0 col3\" >year_exposition</th>        <th class=\"col_heading level0 col4\" >city_centers_nearest</th>    </tr></thead><tbody>\n",
       "                <tr>\n",
       "                        <th id=\"T_af4b6e64_e17c_11eb_9132_02420a397acblevel0_row0\" class=\"row_heading level0 row0\" >last_price</th>\n",
       "                        <td id=\"T_af4b6e64_e17c_11eb_9132_02420a397acbrow0_col0\" class=\"data row0 col0\" >1</td>\n",
       "                        <td id=\"T_af4b6e64_e17c_11eb_9132_02420a397acbrow0_col1\" class=\"data row0 col1\" >0.653743</td>\n",
       "                        <td id=\"T_af4b6e64_e17c_11eb_9132_02420a397acbrow0_col2\" class=\"data row0 col2\" >0.363421</td>\n",
       "                        <td id=\"T_af4b6e64_e17c_11eb_9132_02420a397acbrow0_col3\" class=\"data row0 col3\" >-0.0429271</td>\n",
       "                        <td id=\"T_af4b6e64_e17c_11eb_9132_02420a397acbrow0_col4\" class=\"data row0 col4\" >-0.212417</td>\n",
       "            </tr>\n",
       "            <tr>\n",
       "                        <th id=\"T_af4b6e64_e17c_11eb_9132_02420a397acblevel0_row1\" class=\"row_heading level0 row1\" >total_area</th>\n",
       "                        <td id=\"T_af4b6e64_e17c_11eb_9132_02420a397acbrow1_col0\" class=\"data row1 col0\" >0.653743</td>\n",
       "                        <td id=\"T_af4b6e64_e17c_11eb_9132_02420a397acbrow1_col1\" class=\"data row1 col1\" >1</td>\n",
       "                        <td id=\"T_af4b6e64_e17c_11eb_9132_02420a397acbrow1_col2\" class=\"data row1 col2\" >0.758745</td>\n",
       "                        <td id=\"T_af4b6e64_e17c_11eb_9132_02420a397acbrow1_col3\" class=\"data row1 col3\" >-0.0794957</td>\n",
       "                        <td id=\"T_af4b6e64_e17c_11eb_9132_02420a397acbrow1_col4\" class=\"data row1 col4\" >-0.240095</td>\n",
       "            </tr>\n",
       "            <tr>\n",
       "                        <th id=\"T_af4b6e64_e17c_11eb_9132_02420a397acblevel0_row2\" class=\"row_heading level0 row2\" >rooms</th>\n",
       "                        <td id=\"T_af4b6e64_e17c_11eb_9132_02420a397acbrow2_col0\" class=\"data row2 col0\" >0.363421</td>\n",
       "                        <td id=\"T_af4b6e64_e17c_11eb_9132_02420a397acbrow2_col1\" class=\"data row2 col1\" >0.758745</td>\n",
       "                        <td id=\"T_af4b6e64_e17c_11eb_9132_02420a397acbrow2_col2\" class=\"data row2 col2\" >1</td>\n",
       "                        <td id=\"T_af4b6e64_e17c_11eb_9132_02420a397acbrow2_col3\" class=\"data row2 col3\" >-0.0546411</td>\n",
       "                        <td id=\"T_af4b6e64_e17c_11eb_9132_02420a397acbrow2_col4\" class=\"data row2 col4\" >-0.197111</td>\n",
       "            </tr>\n",
       "            <tr>\n",
       "                        <th id=\"T_af4b6e64_e17c_11eb_9132_02420a397acblevel0_row3\" class=\"row_heading level0 row3\" >year_exposition</th>\n",
       "                        <td id=\"T_af4b6e64_e17c_11eb_9132_02420a397acbrow3_col0\" class=\"data row3 col0\" >-0.0429271</td>\n",
       "                        <td id=\"T_af4b6e64_e17c_11eb_9132_02420a397acbrow3_col1\" class=\"data row3 col1\" >-0.0794957</td>\n",
       "                        <td id=\"T_af4b6e64_e17c_11eb_9132_02420a397acbrow3_col2\" class=\"data row3 col2\" >-0.0546411</td>\n",
       "                        <td id=\"T_af4b6e64_e17c_11eb_9132_02420a397acbrow3_col3\" class=\"data row3 col3\" >1</td>\n",
       "                        <td id=\"T_af4b6e64_e17c_11eb_9132_02420a397acbrow3_col4\" class=\"data row3 col4\" >0.0315127</td>\n",
       "            </tr>\n",
       "            <tr>\n",
       "                        <th id=\"T_af4b6e64_e17c_11eb_9132_02420a397acblevel0_row4\" class=\"row_heading level0 row4\" >city_centers_nearest</th>\n",
       "                        <td id=\"T_af4b6e64_e17c_11eb_9132_02420a397acbrow4_col0\" class=\"data row4 col0\" >-0.212417</td>\n",
       "                        <td id=\"T_af4b6e64_e17c_11eb_9132_02420a397acbrow4_col1\" class=\"data row4 col1\" >-0.240095</td>\n",
       "                        <td id=\"T_af4b6e64_e17c_11eb_9132_02420a397acbrow4_col2\" class=\"data row4 col2\" >-0.197111</td>\n",
       "                        <td id=\"T_af4b6e64_e17c_11eb_9132_02420a397acbrow4_col3\" class=\"data row4 col3\" >0.0315127</td>\n",
       "                        <td id=\"T_af4b6e64_e17c_11eb_9132_02420a397acbrow4_col4\" class=\"data row4 col4\" >1</td>\n",
       "            </tr>\n",
       "    </tbody></table>"
      ],
      "text/plain": [
       "<pandas.io.formats.style.Styler at 0x7fb40ccc2390>"
      ]
     },
     "execution_count": 27,
     "metadata": {},
     "output_type": "execute_result"
    }
   ],
   "source": [
    "corr = df[['last_price',\\\n",
    "           'total_area',\\\n",
    "           'rooms',\\\n",
    "           'day_of_week_exposition',\\\n",
    "           'month_exposition',\\\n",
    "           'year_exposition',\\\n",
    "           'city_centers_nearest',\\\n",
    "           'floor_number']].corr()\n",
    "corr.style.background_gradient(cmap='coolwarm')"
   ]
  },
  {
   "cell_type": "code",
   "execution_count": 28,
   "metadata": {},
   "outputs": [
    {
     "data": {
      "image/png": "[encoded data removed]",
      "text/plain": [
       "<Figure size 648x648 with 25 Axes>"
      ]
     },
     "metadata": {
      "needs_background": "light"
     },
     "output_type": "display_data"
    }
   ],
   "source": [
    "corr_matrix = df[['last_price',\\\n",
    "           'total_area',\\\n",
    "           'rooms',\\\n",
    "           'day_of_week_exposition',\\\n",
    "           'month_exposition',\\\n",
    "           'year_exposition',\\\n",
    "           'city_centers_nearest',\\\n",
    "           'floor_number']]\n",
    "pd.plotting.scatter_matrix(corr_matrix, figsize=(9,9))\n",
    "plt.show( )"
   ]
  },
  {
   "cell_type": "markdown",
   "metadata": {},
   "source": [
    "A correlation matrix of last_price values has been built."
   ]
  },
  {
   "cell_type": "code",
   "execution_count": 29,
   "metadata": {},
   "outputs": [
    {
     "name": "stderr",
     "output_type": "stream",
     "text": [
      "/opt/conda/lib/python3.7/site-packages/numpy/core/_asarray.py:83: VisibleDeprecationWarning: Creating an ndarray from ragged nested sequences (which is a list-or-tuple of lists-or-tuples-or ndarrays with different lengths or shapes) is deprecated. If you meant to do this, you must specify 'dtype=object' when creating the ndarray\n",
      "  return array(a, dtype, copy=False, order=order)\n"
     ]
    },
    {
     "data": {
      "image/png": "[encoded data removed]",
      "text/plain": [
       "<Figure size 720x720 with 1 Axes>"
      ]
     },
     "metadata": {
      "needs_background": "light"
     },
     "output_type": "display_data"
    }
   ],
   "source": [
    "df.boxplot('price_per_m2', by='day_of_week_exposition',figsize=(10,10)).set_ylim(0,200000);"
   ]
  },
  {
   "cell_type": "markdown",
   "metadata": {},
   "source": [
    "Prices do not change depending on the day of the week."
   ]
  },
  {
   "cell_type": "code",
   "execution_count": 30,
   "metadata": {},
   "outputs": [
    {
     "name": "stderr",
     "output_type": "stream",
     "text": [
      "/opt/conda/lib/python3.7/site-packages/numpy/core/_asarray.py:83: VisibleDeprecationWarning: Creating an ndarray from ragged nested sequences (which is a list-or-tuple of lists-or-tuples-or ndarrays with different lengths or shapes) is deprecated. If you meant to do this, you must specify 'dtype=object' when creating the ndarray\n",
      "  return array(a, dtype, copy=False, order=order)\n"
     ]
    },
    {
     "data": {
      "image/png": "[encoded data removed]",
      "text/plain": [
       "<Figure size 720x720 with 1 Axes>"
      ]
     },
     "metadata": {
      "needs_background": "light"
     },
     "output_type": "display_data"
    }
   ],
   "source": [
    "df.boxplot('price_per_m2', by='month_exposition',figsize=(10,10)).set_ylim(0,200000);"
   ]
  },
  {
   "cell_type": "markdown",
   "metadata": {},
   "source": [
    "Prices also do not change depending on the month of sale."
   ]
  },
  {
   "cell_type": "code",
   "execution_count": 31,
   "metadata": {},
   "outputs": [
    {
     "name": "stderr",
     "output_type": "stream",
     "text": [
      "/opt/conda/lib/python3.7/site-packages/numpy/core/_asarray.py:83: VisibleDeprecationWarning: Creating an ndarray from ragged nested sequences (which is a list-or-tuple of lists-or-tuples-or ndarrays with different lengths or shapes) is deprecated. If you meant to do this, you must specify 'dtype=object' when creating the ndarray\n",
      "  return array(a, dtype, copy=False, order=order)\n"
     ]
    },
    {
     "data": {
      "text/plain": [
       "(0, 200000)"
      ]
     },
     "execution_count": 31,
     "metadata": {},
     "output_type": "execute_result"
    },
    {
     "data": {
      "image/png": "[encoded data removed]",
      "text/plain": [
       "<Figure size 720x720 with 1 Axes>"
      ]
     },
     "metadata": {
      "needs_background": "light"
     },
     "output_type": "display_data"
    }
   ],
   "source": [
    "df.boxplot('price_per_m2', by='year_exposition',figsize=(10,10)).set_ylim(0,200000)"
   ]
  },
  {
   "cell_type": "markdown",
   "metadata": {},
   "source": [
    "As well as depending on the year. In 2014 prices were slightly higher. Probably due to the depreciation of the ruble."
   ]
  },
  {
   "cell_type": "code",
   "execution_count": 32,
   "metadata": {
    "scrolled": false
   },
   "outputs": [
    {
     "name": "stderr",
     "output_type": "stream",
     "text": [
      "/opt/conda/lib/python3.7/site-packages/numpy/core/_asarray.py:83: VisibleDeprecationWarning: Creating an ndarray from ragged nested sequences (which is a list-or-tuple of lists-or-tuples-or ndarrays with different lengths or shapes) is deprecated. If you meant to do this, you must specify 'dtype=object' when creating the ndarray\n",
      "  return array(a, dtype, copy=False, order=order)\n"
     ]
    },
    {
     "data": {
      "text/plain": [
       "(0, 200000)"
      ]
     },
     "execution_count": 32,
     "metadata": {},
     "output_type": "execute_result"
    },
    {
     "data": {
      "image/png": "[encoded data removed]",
      "text/plain": [
       "<Figure size 720x720 with 1 Axes>"
      ]
     },
     "metadata": {
      "needs_background": "light"
     },
     "output_type": "display_data"
    }
   ],
   "source": [
    "df.boxplot('price_per_m2', by='floor_number',figsize=(10,10)).set_ylim(0,200000)"
   ]
  },
  {
   "cell_type": "markdown",
   "metadata": {},
   "source": [
    "#### Output"
   ]
  },
  {
   "cell_type": "markdown",
   "metadata": {},
   "source": [
    "No interesting relationships were found. Of course, the price is most affected by the number of rooms, the total area and the floor (the price for the first floor is lower)."
   ]
  },
  {
   "cell_type": "markdown",
   "metadata": {},
   "source": [
    "### Top 10 locations with the most listings"
   ]
  },
  {
   "cell_type": "code",
   "execution_count": 33,
   "metadata": {},
   "outputs": [
    {
     "data": {
      "text/html": [
       "<div>\n",
       "<style scoped>\n",
       "    .dataframe tbody tr th:only-of-type {\n",
       "        vertical-align: middle;\n",
       "    }\n",
       "\n",
       "    .dataframe tbody tr th {\n",
       "        vertical-align: top;\n",
       "    }\n",
       "\n",
       "    .dataframe thead th {\n",
       "        text-align: right;\n",
       "    }\n",
       "</style>\n",
       "<table border=\"1\" class=\"dataframe\">\n",
       "  <thead>\n",
       "    <tr style=\"text-align: right;\">\n",
       "      <th></th>\n",
       "      <th>total_images</th>\n",
       "      <th>last_price</th>\n",
       "      <th>total_area</th>\n",
       "      <th>first_day_exposition</th>\n",
       "      <th>rooms</th>\n",
       "      <th>ceiling_height</th>\n",
       "      <th>floors_total</th>\n",
       "      <th>living_area</th>\n",
       "      <th>floor</th>\n",
       "      <th>is_apartment</th>\n",
       "      <th>...</th>\n",
       "      <th>ponds_nearest</th>\n",
       "      <th>days_exposition</th>\n",
       "      <th>price_per_m2</th>\n",
       "      <th>day_of_week_exposition</th>\n",
       "      <th>month_exposition</th>\n",
       "      <th>year_exposition</th>\n",
       "      <th>floor_number</th>\n",
       "      <th>living_area_ratio</th>\n",
       "      <th>kitchen_area_ratio</th>\n",
       "      <th>last_price_m</th>\n",
       "    </tr>\n",
       "  </thead>\n",
       "  <tbody>\n",
       "    <tr>\n",
       "      <td>0</td>\n",
       "      <td>20</td>\n",
       "      <td>13000000.0</td>\n",
       "      <td>108.0</td>\n",
       "      <td>2019-03-07</td>\n",
       "      <td>3</td>\n",
       "      <td>2.70</td>\n",
       "      <td>16</td>\n",
       "      <td>51.0</td>\n",
       "      <td>8</td>\n",
       "      <td>False</td>\n",
       "      <td>...</td>\n",
       "      <td>755.0</td>\n",
       "      <td>141.5</td>\n",
       "      <td>120370</td>\n",
       "      <td>Thursday</td>\n",
       "      <td>March</td>\n",
       "      <td>2019</td>\n",
       "      <td>другой</td>\n",
       "      <td>0.47</td>\n",
       "      <td>0.23</td>\n",
       "      <td>13.000</td>\n",
       "    </tr>\n",
       "    <tr>\n",
       "      <td>1</td>\n",
       "      <td>7</td>\n",
       "      <td>3350000.0</td>\n",
       "      <td>40.4</td>\n",
       "      <td>2018-12-04</td>\n",
       "      <td>1</td>\n",
       "      <td>NaN</td>\n",
       "      <td>11</td>\n",
       "      <td>18.6</td>\n",
       "      <td>1</td>\n",
       "      <td>False</td>\n",
       "      <td>...</td>\n",
       "      <td>584.5</td>\n",
       "      <td>81.0</td>\n",
       "      <td>82920</td>\n",
       "      <td>Tuesday</td>\n",
       "      <td>December</td>\n",
       "      <td>2018</td>\n",
       "      <td>первый</td>\n",
       "      <td>0.46</td>\n",
       "      <td>0.27</td>\n",
       "      <td>3.350</td>\n",
       "    </tr>\n",
       "    <tr>\n",
       "      <td>2</td>\n",
       "      <td>10</td>\n",
       "      <td>5196000.0</td>\n",
       "      <td>56.0</td>\n",
       "      <td>2015-08-20</td>\n",
       "      <td>2</td>\n",
       "      <td>2.60</td>\n",
       "      <td>5</td>\n",
       "      <td>34.3</td>\n",
       "      <td>4</td>\n",
       "      <td>False</td>\n",
       "      <td>...</td>\n",
       "      <td>574.0</td>\n",
       "      <td>558.0</td>\n",
       "      <td>92785</td>\n",
       "      <td>Thursday</td>\n",
       "      <td>August</td>\n",
       "      <td>2015</td>\n",
       "      <td>другой</td>\n",
       "      <td>0.61</td>\n",
       "      <td>0.15</td>\n",
       "      <td>5.196</td>\n",
       "    </tr>\n",
       "    <tr>\n",
       "      <td>3</td>\n",
       "      <td>0</td>\n",
       "      <td>64900000.0</td>\n",
       "      <td>159.0</td>\n",
       "      <td>2015-07-24</td>\n",
       "      <td>3</td>\n",
       "      <td>2.60</td>\n",
       "      <td>14</td>\n",
       "      <td>31.3</td>\n",
       "      <td>9</td>\n",
       "      <td>False</td>\n",
       "      <td>...</td>\n",
       "      <td>234.0</td>\n",
       "      <td>424.0</td>\n",
       "      <td>408176</td>\n",
       "      <td>Friday</td>\n",
       "      <td>July</td>\n",
       "      <td>2015</td>\n",
       "      <td>другой</td>\n",
       "      <td>0.20</td>\n",
       "      <td>0.06</td>\n",
       "      <td>64.900</td>\n",
       "    </tr>\n",
       "    <tr>\n",
       "      <td>4</td>\n",
       "      <td>2</td>\n",
       "      <td>10000000.0</td>\n",
       "      <td>100.0</td>\n",
       "      <td>2018-06-19</td>\n",
       "      <td>2</td>\n",
       "      <td>3.03</td>\n",
       "      <td>14</td>\n",
       "      <td>32.0</td>\n",
       "      <td>13</td>\n",
       "      <td>False</td>\n",
       "      <td>...</td>\n",
       "      <td>48.0</td>\n",
       "      <td>121.0</td>\n",
       "      <td>100000</td>\n",
       "      <td>Tuesday</td>\n",
       "      <td>June</td>\n",
       "      <td>2018</td>\n",
       "      <td>другой</td>\n",
       "      <td>0.32</td>\n",
       "      <td>0.41</td>\n",
       "      <td>10.000</td>\n",
       "    </tr>\n",
       "  </tbody>\n",
       "</table>\n",
       "<p>5 rows × 30 columns</p>\n",
       "</div>"
      ],
      "text/plain": [
       "   total_images  last_price  total_area first_day_exposition  rooms  \\\n",
       "0            20  13000000.0       108.0           2019-03-07      3   \n",
       "1             7   3350000.0        40.4           2018-12-04      1   \n",
       "2            10   5196000.0        56.0           2015-08-20      2   \n",
       "3             0  64900000.0       159.0           2015-07-24      3   \n",
       "4             2  10000000.0       100.0           2018-06-19      2   \n",
       "\n",
       "   ceiling_height  floors_total  living_area  floor  is_apartment  ...  \\\n",
       "0            2.70            16         51.0      8         False  ...   \n",
       "1             NaN            11         18.6      1         False  ...   \n",
       "2            2.60             5         34.3      4         False  ...   \n",
       "3            2.60            14         31.3      9         False  ...   \n",
       "4            3.03            14         32.0     13         False  ...   \n",
       "\n",
       "   ponds_nearest  days_exposition  price_per_m2  day_of_week_exposition  \\\n",
       "0          755.0            141.5        120370                Thursday   \n",
       "1          584.5             81.0         82920                 Tuesday   \n",
       "2          574.0            558.0         92785                Thursday   \n",
       "3          234.0            424.0        408176                  Friday   \n",
       "4           48.0            121.0        100000                 Tuesday   \n",
       "\n",
       "  month_exposition  year_exposition  floor_number  living_area_ratio  \\\n",
       "0            March             2019        другой               0.47   \n",
       "1         December             2018        первый               0.46   \n",
       "2           August             2015        другой               0.61   \n",
       "3             July             2015        другой               0.20   \n",
       "4             June             2018        другой               0.32   \n",
       "\n",
       "   kitchen_area_ratio  last_price_m  \n",
       "0                0.23        13.000  \n",
       "1                0.27         3.350  \n",
       "2                0.15         5.196  \n",
       "3                0.06        64.900  \n",
       "4                0.41        10.000  \n",
       "\n",
       "[5 rows x 30 columns]"
      ]
     },
     "execution_count": 33,
     "metadata": {},
     "output_type": "execute_result"
    }
   ],
   "source": [
    "df.head()"
   ]
  },
  {
   "cell_type": "code",
   "execution_count": 34,
   "metadata": {},
   "outputs": [
    {
     "data": {
      "text/plain": [
       "санкт-петербург      66.473573\n",
       "поселок мурино        2.350951\n",
       "поселок шушары        1.860465\n",
       "всеволожск            1.682875\n",
       "пушкин                1.560254\n",
       "колпино               1.429175\n",
       "поселок парголово     1.382664\n",
       "гатчина               1.298097\n",
       "деревня кудрово       1.264271\n",
       "выборг                1.002114\n",
       "петергоф              0.849894\n",
       "Name: locality_name, dtype: float64"
      ]
     },
     "execution_count": 34,
     "metadata": {},
     "output_type": "execute_result"
    }
   ],
   "source": [
    "(df['locality_name'].value_counts() / df.shape[0] * 100).head(11)"
   ]
  },
  {
   "cell_type": "code",
   "execution_count": 35,
   "metadata": {
    "scrolled": false
   },
   "outputs": [
    {
     "data": {
      "text/html": [
       "<div>\n",
       "<style scoped>\n",
       "    .dataframe tbody tr th:only-of-type {\n",
       "        vertical-align: middle;\n",
       "    }\n",
       "\n",
       "    .dataframe tbody tr th {\n",
       "        vertical-align: top;\n",
       "    }\n",
       "\n",
       "    .dataframe thead th {\n",
       "        text-align: right;\n",
       "    }\n",
       "</style>\n",
       "<table border=\"1\" class=\"dataframe\">\n",
       "  <thead>\n",
       "    <tr style=\"text-align: right;\">\n",
       "      <th></th>\n",
       "      <th>count</th>\n",
       "      <th>mean</th>\n",
       "    </tr>\n",
       "    <tr>\n",
       "      <th>locality_name</th>\n",
       "      <th></th>\n",
       "      <th></th>\n",
       "    </tr>\n",
       "  </thead>\n",
       "  <tbody>\n",
       "    <tr>\n",
       "      <td>санкт-петербург</td>\n",
       "      <td>15721</td>\n",
       "      <td>114848.565231</td>\n",
       "    </tr>\n",
       "    <tr>\n",
       "      <td>поселок мурино</td>\n",
       "      <td>556</td>\n",
       "      <td>85681.305755</td>\n",
       "    </tr>\n",
       "    <tr>\n",
       "      <td>поселок шушары</td>\n",
       "      <td>440</td>\n",
       "      <td>78676.904545</td>\n",
       "    </tr>\n",
       "    <tr>\n",
       "      <td>всеволожск</td>\n",
       "      <td>398</td>\n",
       "      <td>68654.007538</td>\n",
       "    </tr>\n",
       "    <tr>\n",
       "      <td>пушкин</td>\n",
       "      <td>369</td>\n",
       "      <td>103125.373984</td>\n",
       "    </tr>\n",
       "    <tr>\n",
       "      <td>колпино</td>\n",
       "      <td>338</td>\n",
       "      <td>75424.150888</td>\n",
       "    </tr>\n",
       "    <tr>\n",
       "      <td>поселок парголово</td>\n",
       "      <td>327</td>\n",
       "      <td>90175.489297</td>\n",
       "    </tr>\n",
       "    <tr>\n",
       "      <td>гатчина</td>\n",
       "      <td>307</td>\n",
       "      <td>68745.693811</td>\n",
       "    </tr>\n",
       "    <tr>\n",
       "      <td>деревня кудрово</td>\n",
       "      <td>299</td>\n",
       "      <td>92473.086957</td>\n",
       "    </tr>\n",
       "    <tr>\n",
       "      <td>выборг</td>\n",
       "      <td>237</td>\n",
       "      <td>58141.489451</td>\n",
       "    </tr>\n",
       "    <tr>\n",
       "      <td>петергоф</td>\n",
       "      <td>201</td>\n",
       "      <td>84757.104478</td>\n",
       "    </tr>\n",
       "  </tbody>\n",
       "</table>\n",
       "</div>"
      ],
      "text/plain": [
       "                   count           mean\n",
       "locality_name                          \n",
       "санкт-петербург    15721  114848.565231\n",
       "поселок мурино       556   85681.305755\n",
       "поселок шушары       440   78676.904545\n",
       "всеволожск           398   68654.007538\n",
       "пушкин               369  103125.373984\n",
       "колпино              338   75424.150888\n",
       "поселок парголово    327   90175.489297\n",
       "гатчина              307   68745.693811\n",
       "деревня кудрово      299   92473.086957\n",
       "выборг               237   58141.489451\n",
       "петергоф             201   84757.104478"
      ]
     },
     "execution_count": 35,
     "metadata": {},
     "output_type": "execute_result"
    }
   ],
   "source": [
    "locality_pivot_table = df.pivot_table(index = 'locality_name', values = 'price_per_m2', aggfunc=['count', 'mean'])\n",
    "locality_pivot_table.columns = ['count', 'mean']\n",
    "locality_pivot_table = locality_pivot_table.sort_values('count', ascending = False).head(11)\n",
    "locality_pivot_table\n",
    "#самая высокая стоимость\n",
    "#locality_pivot_table[locality_pivot_table['mean']==locality_pivot_table['mean'].max()] #санкт-петербург\t15720\t114843.038486\n",
    "#самая низкая стоимость\n",
    "#locality_pivot_table[locality_pivot_table['mean']==locality_pivot_table['mean'].min()] #красное село\t178\t72148.11236"
   ]
  },
  {
   "cell_type": "markdown",
   "metadata": {},
   "source": [
    "#### Output"
   ]
  },
  {
   "cell_type": "markdown",
   "metadata": {},
   "source": [
    "In addition to St. Petersburg (15720 ads with an average price per square meter of 114,843 rubles), the largest number of ads in the village of Murino (556 ads with an average price per square meter of 85,681 rubles). The smallest number of ads in the TOP10 is in Peterhof (201 ads with an average price per square meter of 84,757 rubles). The smallest number of ads in all cities in Krasnoye Selo (178 ads with an average price per square meter of 72,148 rubles)."
   ]
  },
  {
   "cell_type": "markdown",
   "metadata": {},
   "source": [
    "### Area included in the center"
   ]
  },
  {
   "cell_type": "code",
   "execution_count": 36,
   "metadata": {},
   "outputs": [
    {
     "name": "stdout",
     "output_type": "stream",
     "text": [
      "<class 'pandas.core.frame.DataFrame'>\n",
      "Int64Index: 15721 entries, 0 to 23697\n",
      "Data columns (total 31 columns):\n",
      "total_images               15721 non-null int64\n",
      "last_price                 15721 non-null float64\n",
      "total_area                 15721 non-null float64\n",
      "first_day_exposition       15721 non-null datetime64[ns]\n",
      "rooms                      15721 non-null int64\n",
      "ceiling_height             15720 non-null float64\n",
      "floors_total               15721 non-null int64\n",
      "living_area                15721 non-null float64\n",
      "floor                      15721 non-null int64\n",
      "is_apartment               15721 non-null bool\n",
      "studio                     15721 non-null bool\n",
      "open_plan                  15721 non-null bool\n",
      "kitchen_area               15721 non-null float64\n",
      "balcony                    15721 non-null int64\n",
      "locality_name              15721 non-null object\n",
      "airports_nearest           15721 non-null float64\n",
      "city_centers_nearest       15721 non-null float64\n",
      "parks_around3000           15721 non-null float64\n",
      "parks_nearest              15721 non-null float64\n",
      "ponds_around3000           15721 non-null float64\n",
      "ponds_nearest              15721 non-null float64\n",
      "days_exposition            15458 non-null float64\n",
      "price_per_m2               15721 non-null int64\n",
      "day_of_week_exposition     15721 non-null object\n",
      "month_exposition           15721 non-null object\n",
      "year_exposition            15721 non-null int64\n",
      "floor_number               15721 non-null object\n",
      "living_area_ratio          15721 non-null float64\n",
      "kitchen_area_ratio         15721 non-null float64\n",
      "last_price_m               15721 non-null float64\n",
      "city_centers_nearest_km    15721 non-null int64\n",
      "dtypes: bool(3), datetime64[ns](1), float64(15), int64(8), object(4)\n",
      "memory usage: 3.5+ MB\n"
     ]
    },
    {
     "name": "stderr",
     "output_type": "stream",
     "text": [
      "/opt/conda/lib/python3.7/site-packages/ipykernel_launcher.py:4: SettingWithCopyWarning: \n",
      "A value is trying to be set on a copy of a slice from a DataFrame.\n",
      "Try using .loc[row_indexer,col_indexer] = value instead\n",
      "\n",
      "See the caveats in the documentation: http://pandas.pydata.org/pandas-docs/stable/user_guide/indexing.html#returning-a-view-versus-a-copy\n",
      "  after removing the cwd from sys.path.\n"
     ]
    }
   ],
   "source": [
    "df['city_centers_nearest_km'] = df['city_centers_nearest']/1000\n",
    "city_center_df = df\n",
    "city_center_df = df.dropna(subset=['city_centers_nearest_km'])\n",
    "city_center_df['city_centers_nearest_km'] = city_center_df['city_centers_nearest_km'].astype('int')\n",
    "city_center_df = city_center_df.loc[city_center_df['locality_name'] == 'санкт-петербург']\n",
    "city_center_df.info()\n"
   ]
  },
  {
   "cell_type": "markdown",
   "metadata": {},
   "source": [
    "Converted the distance to the center in kilometers. Converted values to integers."
   ]
  },
  {
   "cell_type": "code",
   "execution_count": 37,
   "metadata": {},
   "outputs": [
    {
     "data": {
      "text/plain": [
       "0        16\n",
       "2        13\n",
       "3         6\n",
       "4         8\n",
       "7        11\n",
       "         ..\n",
       "23689    16\n",
       "23690     6\n",
       "23691     4\n",
       "23694     4\n",
       "23697    10\n",
       "Name: city_centers_nearest_km, Length: 15721, dtype: int64"
      ]
     },
     "execution_count": 37,
     "metadata": {},
     "output_type": "execute_result"
    }
   ],
   "source": [
    "city_center_df['city_centers_nearest_km']"
   ]
  },
  {
   "cell_type": "code",
   "execution_count": 38,
   "metadata": {},
   "outputs": [
    {
     "data": {
      "text/plain": [
       "count    15721.000000\n",
       "mean        11.107372\n",
       "std          4.832860\n",
       "min          0.000000\n",
       "25%          8.000000\n",
       "50%         12.000000\n",
       "75%         14.000000\n",
       "max         29.000000\n",
       "Name: city_centers_nearest_km, dtype: float64"
      ]
     },
     "execution_count": 38,
     "metadata": {},
     "output_type": "execute_result"
    }
   ],
   "source": [
    "city_center_df['city_centers_nearest_km'].describe()"
   ]
  },
  {
   "cell_type": "code",
   "execution_count": 39,
   "metadata": {},
   "outputs": [],
   "source": [
    "center_df = city_center_df.query('city_centers_nearest_km <= 29')"
   ]
  },
  {
   "cell_type": "code",
   "execution_count": 40,
   "metadata": {
    "scrolled": true
   },
   "outputs": [
    {
     "data": {
      "text/html": [
       "<div>\n",
       "<style scoped>\n",
       "    .dataframe tbody tr th:only-of-type {\n",
       "        vertical-align: middle;\n",
       "    }\n",
       "\n",
       "    .dataframe tbody tr th {\n",
       "        vertical-align: top;\n",
       "    }\n",
       "\n",
       "    .dataframe thead th {\n",
       "        text-align: right;\n",
       "    }\n",
       "</style>\n",
       "<table border=\"1\" class=\"dataframe\">\n",
       "  <thead>\n",
       "    <tr style=\"text-align: right;\">\n",
       "      <th></th>\n",
       "      <th>price_per_m2</th>\n",
       "    </tr>\n",
       "    <tr>\n",
       "      <th>city_centers_nearest_km</th>\n",
       "      <th></th>\n",
       "    </tr>\n",
       "  </thead>\n",
       "  <tbody>\n",
       "    <tr>\n",
       "      <td>0</td>\n",
       "      <td>187323.674419</td>\n",
       "    </tr>\n",
       "    <tr>\n",
       "      <td>1</td>\n",
       "      <td>166603.312500</td>\n",
       "    </tr>\n",
       "    <tr>\n",
       "      <td>2</td>\n",
       "      <td>146662.420195</td>\n",
       "    </tr>\n",
       "    <tr>\n",
       "      <td>3</td>\n",
       "      <td>129415.891635</td>\n",
       "    </tr>\n",
       "    <tr>\n",
       "      <td>4</td>\n",
       "      <td>137475.039691</td>\n",
       "    </tr>\n",
       "    <tr>\n",
       "      <td>5</td>\n",
       "      <td>146978.789337</td>\n",
       "    </tr>\n",
       "    <tr>\n",
       "      <td>6</td>\n",
       "      <td>152277.455319</td>\n",
       "    </tr>\n",
       "    <tr>\n",
       "      <td>7</td>\n",
       "      <td>141399.287469</td>\n",
       "    </tr>\n",
       "    <tr>\n",
       "      <td>8</td>\n",
       "      <td>120580.929851</td>\n",
       "    </tr>\n",
       "    <tr>\n",
       "      <td>9</td>\n",
       "      <td>110012.108696</td>\n",
       "    </tr>\n",
       "    <tr>\n",
       "      <td>10</td>\n",
       "      <td>111640.850877</td>\n",
       "    </tr>\n",
       "    <tr>\n",
       "      <td>11</td>\n",
       "      <td>106790.438163</td>\n",
       "    </tr>\n",
       "    <tr>\n",
       "      <td>12</td>\n",
       "      <td>110148.853426</td>\n",
       "    </tr>\n",
       "    <tr>\n",
       "      <td>13</td>\n",
       "      <td>107208.716120</td>\n",
       "    </tr>\n",
       "    <tr>\n",
       "      <td>14</td>\n",
       "      <td>104986.032407</td>\n",
       "    </tr>\n",
       "    <tr>\n",
       "      <td>15</td>\n",
       "      <td>101882.678077</td>\n",
       "    </tr>\n",
       "    <tr>\n",
       "      <td>16</td>\n",
       "      <td>100085.150995</td>\n",
       "    </tr>\n",
       "    <tr>\n",
       "      <td>17</td>\n",
       "      <td>94095.434457</td>\n",
       "    </tr>\n",
       "    <tr>\n",
       "      <td>18</td>\n",
       "      <td>94831.528736</td>\n",
       "    </tr>\n",
       "    <tr>\n",
       "      <td>19</td>\n",
       "      <td>95433.951220</td>\n",
       "    </tr>\n",
       "    <tr>\n",
       "      <td>20</td>\n",
       "      <td>107045.773810</td>\n",
       "    </tr>\n",
       "    <tr>\n",
       "      <td>21</td>\n",
       "      <td>91492.220513</td>\n",
       "    </tr>\n",
       "    <tr>\n",
       "      <td>22</td>\n",
       "      <td>88714.237410</td>\n",
       "    </tr>\n",
       "    <tr>\n",
       "      <td>23</td>\n",
       "      <td>92720.233333</td>\n",
       "    </tr>\n",
       "    <tr>\n",
       "      <td>24</td>\n",
       "      <td>82439.909091</td>\n",
       "    </tr>\n",
       "    <tr>\n",
       "      <td>25</td>\n",
       "      <td>91135.600000</td>\n",
       "    </tr>\n",
       "    <tr>\n",
       "      <td>26</td>\n",
       "      <td>75171.333333</td>\n",
       "    </tr>\n",
       "    <tr>\n",
       "      <td>27</td>\n",
       "      <td>132115.000000</td>\n",
       "    </tr>\n",
       "    <tr>\n",
       "      <td>28</td>\n",
       "      <td>81840.200000</td>\n",
       "    </tr>\n",
       "    <tr>\n",
       "      <td>29</td>\n",
       "      <td>62481.666667</td>\n",
       "    </tr>\n",
       "  </tbody>\n",
       "</table>\n",
       "</div>"
      ],
      "text/plain": [
       "                          price_per_m2\n",
       "city_centers_nearest_km               \n",
       "0                        187323.674419\n",
       "1                        166603.312500\n",
       "2                        146662.420195\n",
       "3                        129415.891635\n",
       "4                        137475.039691\n",
       "5                        146978.789337\n",
       "6                        152277.455319\n",
       "7                        141399.287469\n",
       "8                        120580.929851\n",
       "9                        110012.108696\n",
       "10                       111640.850877\n",
       "11                       106790.438163\n",
       "12                       110148.853426\n",
       "13                       107208.716120\n",
       "14                       104986.032407\n",
       "15                       101882.678077\n",
       "16                       100085.150995\n",
       "17                        94095.434457\n",
       "18                        94831.528736\n",
       "19                        95433.951220\n",
       "20                       107045.773810\n",
       "21                        91492.220513\n",
       "22                        88714.237410\n",
       "23                        92720.233333\n",
       "24                        82439.909091\n",
       "25                        91135.600000\n",
       "26                        75171.333333\n",
       "27                       132115.000000\n",
       "28                        81840.200000\n",
       "29                        62481.666667"
      ]
     },
     "execution_count": 40,
     "metadata": {},
     "output_type": "execute_result"
    }
   ],
   "source": [
    "pivot_center = center_df.pivot_table(index = 'city_centers_nearest_km', values = 'price_per_m2', aggfunc = 'mean')\n",
    "pivot_center"
   ]
  },
  {
   "cell_type": "code",
   "execution_count": 41,
   "metadata": {},
   "outputs": [
    {
     "data": {
      "image/png": "[encoded data removed]",
      "text/plain": [
       "<Figure size 432x288 with 1 Axes>"
      ]
     },
     "metadata": {
      "needs_background": "light"
     },
     "output_type": "display_data"
    }
   ],
   "source": [
    "pivot_center.plot();"
   ]
  },
  {
   "cell_type": "code",
   "execution_count": 42,
   "metadata": {},
   "outputs": [
    {
     "data": {
      "image/png": "[encoded data removed]",
      "text/plain": [
       "<Figure size 432x288 with 1 Axes>"
      ]
     },
     "metadata": {
      "needs_background": "light"
     },
     "output_type": "display_data"
    }
   ],
   "source": [
    "pivot_center.plot(xlim=(0,9));"
   ]
  },
  {
   "cell_type": "markdown",
   "metadata": {},
   "source": [
    "#### Output"
   ]
  },
  {
   "cell_type": "markdown",
   "metadata": {},
   "source": [
    "After three kilometers, the price begins to rise sharply. I conclude that the center is considered to be a radius within 3 kilometers."
   ]
  },
  {
   "cell_type": "markdown",
   "metadata": {},
   "source": [
    "### Apartment segment in the center"
   ]
  },
  {
   "cell_type": "code",
   "execution_count": 43,
   "metadata": {},
   "outputs": [
    {
     "name": "stdout",
     "output_type": "stream",
     "text": [
      "<class 'pandas.core.frame.DataFrame'>\n",
      "Int64Index: 1159 entries, 24 to 23648\n",
      "Data columns (total 31 columns):\n",
      "total_images               1159 non-null int64\n",
      "last_price                 1159 non-null float64\n",
      "total_area                 1159 non-null float64\n",
      "first_day_exposition       1159 non-null datetime64[ns]\n",
      "rooms                      1159 non-null int64\n",
      "ceiling_height             1159 non-null float64\n",
      "floors_total               1159 non-null int64\n",
      "living_area                1159 non-null float64\n",
      "floor                      1159 non-null int64\n",
      "is_apartment               1159 non-null bool\n",
      "studio                     1159 non-null bool\n",
      "open_plan                  1159 non-null bool\n",
      "kitchen_area               1159 non-null float64\n",
      "balcony                    1159 non-null int64\n",
      "locality_name              1159 non-null object\n",
      "airports_nearest           1159 non-null float64\n",
      "city_centers_nearest       1159 non-null float64\n",
      "parks_around3000           1159 non-null float64\n",
      "parks_nearest              1159 non-null float64\n",
      "ponds_around3000           1159 non-null float64\n",
      "ponds_nearest              1159 non-null float64\n",
      "days_exposition            1128 non-null float64\n",
      "price_per_m2               1159 non-null int64\n",
      "day_of_week_exposition     1159 non-null object\n",
      "month_exposition           1159 non-null object\n",
      "year_exposition            1159 non-null int64\n",
      "floor_number               1159 non-null object\n",
      "living_area_ratio          1159 non-null float64\n",
      "kitchen_area_ratio         1159 non-null float64\n",
      "last_price_m               1159 non-null float64\n",
      "city_centers_nearest_km    1159 non-null int64\n",
      "dtypes: bool(3), datetime64[ns](1), float64(15), int64(8), object(4)\n",
      "memory usage: 266.0+ KB\n"
     ]
    }
   ],
   "source": [
    "spb_center = center_df.query('city_centers_nearest_km <= 3')\n",
    "spb_center.info()"
   ]
  },
  {
   "cell_type": "code",
   "execution_count": 44,
   "metadata": {},
   "outputs": [
    {
     "data": {
      "text/plain": [
       "count    1159.000000\n",
       "mean       97.399172\n",
       "std        55.772422\n",
       "min        12.000000\n",
       "25%        62.000000\n",
       "50%        84.100000\n",
       "75%       115.250000\n",
       "max       517.000000\n",
       "Name: total_area, dtype: float64"
      ]
     },
     "execution_count": 44,
     "metadata": {},
     "output_type": "execute_result"
    }
   ],
   "source": [
    "spb_center['total_area'].describe()"
   ]
  },
  {
   "cell_type": "code",
   "execution_count": 45,
   "metadata": {},
   "outputs": [
    {
     "data": {
      "text/plain": [
       "count    1.159000e+03\n",
       "mean     1.602257e+07\n",
       "std      3.292117e+07\n",
       "min      2.100000e+06\n",
       "25%      7.000000e+06\n",
       "50%      9.500000e+06\n",
       "75%      1.447000e+07\n",
       "max      7.630000e+08\n",
       "Name: last_price, dtype: float64"
      ]
     },
     "execution_count": 45,
     "metadata": {},
     "output_type": "execute_result"
    }
   ],
   "source": [
    "spb_center['last_price'].describe()"
   ]
  },
  {
   "cell_type": "code",
   "execution_count": 46,
   "metadata": {},
   "outputs": [
    {
     "data": {
      "text/plain": [
       "count    1159.000000\n",
       "mean        3.104400\n",
       "std         1.558964\n",
       "min         0.000000\n",
       "25%         2.000000\n",
       "50%         3.000000\n",
       "75%         4.000000\n",
       "max        19.000000\n",
       "Name: rooms, dtype: float64"
      ]
     },
     "execution_count": 46,
     "metadata": {},
     "output_type": "execute_result"
    }
   ],
   "source": [
    "spb_center['rooms'].describe()"
   ]
  },
  {
   "cell_type": "code",
   "execution_count": 47,
   "metadata": {},
   "outputs": [
    {
     "data": {
      "text/plain": [
       "count    1159.000000\n",
       "mean        3.140682\n",
       "std         1.161292\n",
       "min         2.450000\n",
       "25%         2.900000\n",
       "50%         3.000000\n",
       "75%         3.300000\n",
       "max        32.000000\n",
       "Name: ceiling_height, dtype: float64"
      ]
     },
     "execution_count": 47,
     "metadata": {},
     "output_type": "execute_result"
    }
   ],
   "source": [
    "spb_center['ceiling_height'].describe()"
   ]
  },
  {
   "cell_type": "markdown",
   "metadata": {},
   "source": [
    "I limited the dataframe within 3 km from the center of St. Petersburg and analyzed the necessary parameters."
   ]
  },
  {
   "cell_type": "markdown",
   "metadata": {},
   "source": [
    "#### Influence of the number of rooms"
   ]
  },
  {
   "cell_type": "code",
   "execution_count": 48,
   "metadata": {},
   "outputs": [
    {
     "data": {
      "text/plain": [
       "count    1159.000000\n",
       "mean        3.104400\n",
       "std         1.558964\n",
       "min         0.000000\n",
       "25%         2.000000\n",
       "50%         3.000000\n",
       "75%         4.000000\n",
       "max        19.000000\n",
       "Name: rooms, dtype: float64"
      ]
     },
     "execution_count": 48,
     "metadata": {},
     "output_type": "execute_result"
    }
   ],
   "source": [
    "spb_center['rooms'].describe()"
   ]
  },
  {
   "cell_type": "code",
   "execution_count": 49,
   "metadata": {},
   "outputs": [
    {
     "data": {
      "image/png": "[encoded data removed]",
      "text/plain": [
       "<Figure size 432x288 with 1 Axes>"
      ]
     },
     "metadata": {
      "needs_background": "light"
     },
     "output_type": "display_data"
    }
   ],
   "source": [
    "spb_center_rooms = spb_center.pivot_table(index = 'rooms', values = 'price_per_m2', aggfunc = ['mean', 'count', 'median'])\n",
    "spb_center_rooms.columns = ['mean', 'count', 'median']\n",
    "spb_center_rooms.query('count > 50').plot(y = 'median');"
   ]
  },
  {
   "cell_type": "code",
   "execution_count": 50,
   "metadata": {
    "scrolled": true
   },
   "outputs": [
    {
     "data": {
      "text/html": [
       "<div>\n",
       "<style scoped>\n",
       "    .dataframe tbody tr th:only-of-type {\n",
       "        vertical-align: middle;\n",
       "    }\n",
       "\n",
       "    .dataframe tbody tr th {\n",
       "        vertical-align: top;\n",
       "    }\n",
       "\n",
       "    .dataframe thead th {\n",
       "        text-align: right;\n",
       "    }\n",
       "</style>\n",
       "<table border=\"1\" class=\"dataframe\">\n",
       "  <thead>\n",
       "    <tr style=\"text-align: right;\">\n",
       "      <th></th>\n",
       "      <th>mean</th>\n",
       "      <th>count</th>\n",
       "      <th>median</th>\n",
       "    </tr>\n",
       "    <tr>\n",
       "      <th>rooms</th>\n",
       "      <th></th>\n",
       "      <th></th>\n",
       "      <th></th>\n",
       "    </tr>\n",
       "  </thead>\n",
       "  <tbody>\n",
       "    <tr>\n",
       "      <td>1</td>\n",
       "      <td>165103.918182</td>\n",
       "      <td>110</td>\n",
       "      <td>133397.5</td>\n",
       "    </tr>\n",
       "    <tr>\n",
       "      <td>2</td>\n",
       "      <td>146599.469697</td>\n",
       "      <td>330</td>\n",
       "      <td>122193.5</td>\n",
       "    </tr>\n",
       "    <tr>\n",
       "      <td>3</td>\n",
       "      <td>137132.602305</td>\n",
       "      <td>347</td>\n",
       "      <td>111764.0</td>\n",
       "    </tr>\n",
       "    <tr>\n",
       "      <td>4</td>\n",
       "      <td>143546.805263</td>\n",
       "      <td>190</td>\n",
       "      <td>105883.0</td>\n",
       "    </tr>\n",
       "    <tr>\n",
       "      <td>5</td>\n",
       "      <td>147109.932039</td>\n",
       "      <td>103</td>\n",
       "      <td>101798.0</td>\n",
       "    </tr>\n",
       "  </tbody>\n",
       "</table>\n",
       "</div>"
      ],
      "text/plain": [
       "                mean  count    median\n",
       "rooms                                \n",
       "1      165103.918182    110  133397.5\n",
       "2      146599.469697    330  122193.5\n",
       "3      137132.602305    347  111764.0\n",
       "4      143546.805263    190  105883.0\n",
       "5      147109.932039    103  101798.0"
      ]
     },
     "execution_count": 50,
     "metadata": {},
     "output_type": "execute_result"
    }
   ],
   "source": [
    "#center_spb_rooms\n",
    "spb_center_rooms.query('count > 50').sort_values('median', ascending = False)"
   ]
  },
  {
   "cell_type": "code",
   "execution_count": 60,
   "metadata": {
    "scrolled": true
   },
   "outputs": [
    {
     "data": {
      "text/plain": [
       "0.0017673487141106456"
      ]
     },
     "execution_count": 60,
     "metadata": {},
     "output_type": "execute_result"
    }
   ],
   "source": [
    "spb_center['rooms'].corr(spb_center['price_per_m2'])"
   ]
  },
  {
   "cell_type": "markdown",
   "metadata": {},
   "source": [
    "Strangely, the median cost per square meter increases as the number of rooms in the center decreases, in contrast to the entire sample. The correlation is extremely small."
   ]
  },
  {
   "cell_type": "markdown",
   "metadata": {},
   "source": [
    "#### Floor influence"
   ]
  },
  {
   "cell_type": "code",
   "execution_count": 52,
   "metadata": {},
   "outputs": [
    {
     "data": {
      "image/png": "[encoded data removed]",
      "text/plain": [
       "<Figure size 432x288 with 1 Axes>"
      ]
     },
     "metadata": {
      "needs_background": "light"
     },
     "output_type": "display_data"
    }
   ],
   "source": [
    "spb_center_floor_category = spb_center.pivot_table(index = 'floor_number', values = 'price_per_m2', aggfunc = ['mean', 'count', 'median'])\n",
    "spb_center_floor_category.columns = ['mean', 'count', 'median']\n",
    "spb_center_floor_category.plot(y = 'median');"
   ]
  },
  {
   "cell_type": "code",
   "execution_count": 53,
   "metadata": {},
   "outputs": [
    {
     "data": {
      "text/html": [
       "<div>\n",
       "<style scoped>\n",
       "    .dataframe tbody tr th:only-of-type {\n",
       "        vertical-align: middle;\n",
       "    }\n",
       "\n",
       "    .dataframe tbody tr th {\n",
       "        vertical-align: top;\n",
       "    }\n",
       "\n",
       "    .dataframe thead th {\n",
       "        text-align: right;\n",
       "    }\n",
       "</style>\n",
       "<table border=\"1\" class=\"dataframe\">\n",
       "  <thead>\n",
       "    <tr style=\"text-align: right;\">\n",
       "      <th></th>\n",
       "      <th>mean</th>\n",
       "      <th>count</th>\n",
       "      <th>median</th>\n",
       "    </tr>\n",
       "    <tr>\n",
       "      <th>floor_number</th>\n",
       "      <th></th>\n",
       "      <th></th>\n",
       "      <th></th>\n",
       "    </tr>\n",
       "  </thead>\n",
       "  <tbody>\n",
       "    <tr>\n",
       "      <td>другой</td>\n",
       "      <td>150676.189821</td>\n",
       "      <td>727</td>\n",
       "      <td>119148.0</td>\n",
       "    </tr>\n",
       "    <tr>\n",
       "      <td>первый</td>\n",
       "      <td>123509.146341</td>\n",
       "      <td>164</td>\n",
       "      <td>107508.5</td>\n",
       "    </tr>\n",
       "    <tr>\n",
       "      <td>последний</td>\n",
       "      <td>146998.742537</td>\n",
       "      <td>268</td>\n",
       "      <td>114432.0</td>\n",
       "    </tr>\n",
       "  </tbody>\n",
       "</table>\n",
       "</div>"
      ],
      "text/plain": [
       "                       mean  count    median\n",
       "floor_number                                \n",
       "другой        150676.189821    727  119148.0\n",
       "первый        123509.146341    164  107508.5\n",
       "последний     146998.742537    268  114432.0"
      ]
     },
     "execution_count": 53,
     "metadata": {},
     "output_type": "execute_result"
    }
   ],
   "source": [
    "spb_center_floor_category"
   ]
  },
  {
   "cell_type": "markdown",
   "metadata": {},
   "source": [
    "Everything is exactly the same as in other areas - the first floor is cheaper than the rest."
   ]
  },
  {
   "cell_type": "markdown",
   "metadata": {},
   "source": [
    "#### Influence of distance from the center"
   ]
  },
  {
   "cell_type": "code",
   "execution_count": 54,
   "metadata": {},
   "outputs": [
    {
     "data": {
      "image/png": "[encoded data removed]",
      "text/plain": [
       "<Figure size 432x288 with 1 Axes>"
      ]
     },
     "metadata": {
      "needs_background": "light"
     },
     "output_type": "display_data"
    }
   ],
   "source": [
    "spb_center_nearest = spb_center.pivot_table(index = 'city_centers_nearest_km', values = 'price_per_m2', aggfunc = ['mean', 'count', 'median'])\n",
    "spb_center_nearest.columns = ['mean', 'count', 'median']\n",
    "spb_center_nearest.plot(y = 'median');"
   ]
  },
  {
   "cell_type": "markdown",
   "metadata": {},
   "source": [
    "Everything is as expected. Within a radius of 1 km from the center, the cost per square meter begins to grow even faster."
   ]
  },
  {
   "cell_type": "code",
   "execution_count": 62,
   "metadata": {
    "scrolled": true
   },
   "outputs": [
    {
     "data": {
      "text/plain": [
       "-0.14742491156014706"
      ]
     },
     "execution_count": 62,
     "metadata": {},
     "output_type": "execute_result"
    }
   ],
   "source": [
    "spb_center['city_centers_nearest_km'].corr(spb_center['price_per_m2'])"
   ]
  },
  {
   "cell_type": "markdown",
   "metadata": {},
   "source": [
    "However, in general, the correlation is generally negative, although insignificant."
   ]
  },
  {
   "cell_type": "markdown",
   "metadata": {},
   "source": [
    "#### Effect of publication day"
   ]
  },
  {
   "cell_type": "code",
   "execution_count": 55,
   "metadata": {},
   "outputs": [
    {
     "data": {
      "image/png": "[encoded data removed]",
      "text/plain": [
       "<Figure size 432x288 with 1 Axes>"
      ]
     },
     "metadata": {
      "needs_background": "light"
     },
     "output_type": "display_data"
    }
   ],
   "source": [
    "spb_center_day = spb_center.pivot_table(index = 'day_of_week_exposition', values = 'price_per_m2', aggfunc = ['mean', 'count', 'median'])\n",
    "spb_center_day.columns = ['mean', 'count', 'median']\n",
    "spb_center_day.plot(y = 'median');"
   ]
  },
  {
   "cell_type": "markdown",
   "metadata": {},
   "source": [
    "On Friday, Monday and Saturday apartments are sold much more expensive."
   ]
  },
  {
   "cell_type": "markdown",
   "metadata": {},
   "source": [
    "#### Impact from publication month"
   ]
  },
  {
   "cell_type": "code",
   "execution_count": 56,
   "metadata": {},
   "outputs": [
    {
     "data": {
      "image/png": "[encoded data removed]",
      "text/plain": [
       "<Figure size 432x288 with 1 Axes>"
      ]
     },
     "metadata": {
      "needs_background": "light"
     },
     "output_type": "display_data"
    }
   ],
   "source": [
    "spb_center_month = spb_center.pivot_table(index = 'month_exposition', values = 'price_per_m2', aggfunc = ['mean', 'count', 'median'])\n",
    "spb_center_month.columns = ['mean', 'count', 'median']\n",
    "spb_center_month.plot(y = 'median');"
   ]
  },
  {
   "cell_type": "code",
   "execution_count": 57,
   "metadata": {},
   "outputs": [
    {
     "data": {
      "text/html": [
       "<div>\n",
       "<style scoped>\n",
       "    .dataframe tbody tr th:only-of-type {\n",
       "        vertical-align: middle;\n",
       "    }\n",
       "\n",
       "    .dataframe tbody tr th {\n",
       "        vertical-align: top;\n",
       "    }\n",
       "\n",
       "    .dataframe thead th {\n",
       "        text-align: right;\n",
       "    }\n",
       "</style>\n",
       "<table border=\"1\" class=\"dataframe\">\n",
       "  <thead>\n",
       "    <tr style=\"text-align: right;\">\n",
       "      <th></th>\n",
       "      <th>mean</th>\n",
       "      <th>count</th>\n",
       "      <th>median</th>\n",
       "    </tr>\n",
       "    <tr>\n",
       "      <th>month_exposition</th>\n",
       "      <th></th>\n",
       "      <th></th>\n",
       "      <th></th>\n",
       "    </tr>\n",
       "  </thead>\n",
       "  <tbody>\n",
       "    <tr>\n",
       "      <td>April</td>\n",
       "      <td>168982.870690</td>\n",
       "      <td>116</td>\n",
       "      <td>123094.5</td>\n",
       "    </tr>\n",
       "    <tr>\n",
       "      <td>October</td>\n",
       "      <td>143129.021277</td>\n",
       "      <td>94</td>\n",
       "      <td>121978.0</td>\n",
       "    </tr>\n",
       "    <tr>\n",
       "      <td>December</td>\n",
       "      <td>162849.843373</td>\n",
       "      <td>83</td>\n",
       "      <td>121568.0</td>\n",
       "    </tr>\n",
       "    <tr>\n",
       "      <td>March</td>\n",
       "      <td>149574.508475</td>\n",
       "      <td>118</td>\n",
       "      <td>117409.0</td>\n",
       "    </tr>\n",
       "    <tr>\n",
       "      <td>January</td>\n",
       "      <td>147760.090909</td>\n",
       "      <td>77</td>\n",
       "      <td>117244.0</td>\n",
       "    </tr>\n",
       "    <tr>\n",
       "      <td>February</td>\n",
       "      <td>141960.713178</td>\n",
       "      <td>129</td>\n",
       "      <td>116406.0</td>\n",
       "    </tr>\n",
       "    <tr>\n",
       "      <td>September</td>\n",
       "      <td>155581.594059</td>\n",
       "      <td>101</td>\n",
       "      <td>116054.0</td>\n",
       "    </tr>\n",
       "    <tr>\n",
       "      <td>November</td>\n",
       "      <td>136308.390244</td>\n",
       "      <td>123</td>\n",
       "      <td>112639.0</td>\n",
       "    </tr>\n",
       "    <tr>\n",
       "      <td>July</td>\n",
       "      <td>137694.565657</td>\n",
       "      <td>99</td>\n",
       "      <td>112195.0</td>\n",
       "    </tr>\n",
       "    <tr>\n",
       "      <td>August</td>\n",
       "      <td>142370.175676</td>\n",
       "      <td>74</td>\n",
       "      <td>110491.0</td>\n",
       "    </tr>\n",
       "    <tr>\n",
       "      <td>June</td>\n",
       "      <td>131927.364706</td>\n",
       "      <td>85</td>\n",
       "      <td>110081.0</td>\n",
       "    </tr>\n",
       "    <tr>\n",
       "      <td>May</td>\n",
       "      <td>123652.833333</td>\n",
       "      <td>60</td>\n",
       "      <td>107799.0</td>\n",
       "    </tr>\n",
       "  </tbody>\n",
       "</table>\n",
       "</div>"
      ],
      "text/plain": [
       "                           mean  count    median\n",
       "month_exposition                                \n",
       "April             168982.870690    116  123094.5\n",
       "October           143129.021277     94  121978.0\n",
       "December          162849.843373     83  121568.0\n",
       "March             149574.508475    118  117409.0\n",
       "January           147760.090909     77  117244.0\n",
       "February          141960.713178    129  116406.0\n",
       "September         155581.594059    101  116054.0\n",
       "November          136308.390244    123  112639.0\n",
       "July              137694.565657     99  112195.0\n",
       "August            142370.175676     74  110491.0\n",
       "June              131927.364706     85  110081.0\n",
       "May               123652.833333     60  107799.0"
      ]
     },
     "execution_count": 57,
     "metadata": {},
     "output_type": "execute_result"
    }
   ],
   "source": [
    "spb_center_month.sort_values('median', ascending = False)"
   ]
  },
  {
   "cell_type": "markdown",
   "metadata": {},
   "source": [
    "Prices are about the same every month."
   ]
  },
  {
   "cell_type": "markdown",
   "metadata": {},
   "source": [
    "#### Influence by year of publication"
   ]
  },
  {
   "cell_type": "code",
   "execution_count": 58,
   "metadata": {},
   "outputs": [
    {
     "data": {
      "text/html": [
       "<div>\n",
       "<style scoped>\n",
       "    .dataframe tbody tr th:only-of-type {\n",
       "        vertical-align: middle;\n",
       "    }\n",
       "\n",
       "    .dataframe tbody tr th {\n",
       "        vertical-align: top;\n",
       "    }\n",
       "\n",
       "    .dataframe thead th {\n",
       "        text-align: right;\n",
       "    }\n",
       "</style>\n",
       "<table border=\"1\" class=\"dataframe\">\n",
       "  <thead>\n",
       "    <tr style=\"text-align: right;\">\n",
       "      <th></th>\n",
       "      <th>mean</th>\n",
       "      <th>count</th>\n",
       "      <th>median</th>\n",
       "    </tr>\n",
       "    <tr>\n",
       "      <th>year_exposition</th>\n",
       "      <th></th>\n",
       "      <th></th>\n",
       "      <th></th>\n",
       "    </tr>\n",
       "  </thead>\n",
       "  <tbody>\n",
       "    <tr>\n",
       "      <td>2019</td>\n",
       "      <td>173593.070866</td>\n",
       "      <td>127</td>\n",
       "      <td>131432</td>\n",
       "    </tr>\n",
       "    <tr>\n",
       "      <td>2018</td>\n",
       "      <td>140129.402941</td>\n",
       "      <td>340</td>\n",
       "      <td>117898</td>\n",
       "    </tr>\n",
       "    <tr>\n",
       "      <td>2017</td>\n",
       "      <td>141410.263158</td>\n",
       "      <td>418</td>\n",
       "      <td>114579</td>\n",
       "    </tr>\n",
       "    <tr>\n",
       "      <td>2016</td>\n",
       "      <td>135592.863946</td>\n",
       "      <td>147</td>\n",
       "      <td>109090</td>\n",
       "    </tr>\n",
       "    <tr>\n",
       "      <td>2015</td>\n",
       "      <td>154054.330508</td>\n",
       "      <td>118</td>\n",
       "      <td>107055</td>\n",
       "    </tr>\n",
       "  </tbody>\n",
       "</table>\n",
       "</div>"
      ],
      "text/plain": [
       "                          mean  count  median\n",
       "year_exposition                              \n",
       "2019             173593.070866    127  131432\n",
       "2018             140129.402941    340  117898\n",
       "2017             141410.263158    418  114579\n",
       "2016             135592.863946    147  109090\n",
       "2015             154054.330508    118  107055"
      ]
     },
     "execution_count": 58,
     "metadata": {},
     "output_type": "execute_result"
    },
    {
     "data": {
      "image/png": "[encoded data removed]",
      "text/plain": [
       "<Figure size 432x288 with 1 Axes>"
      ]
     },
     "metadata": {
      "needs_background": "light"
     },
     "output_type": "display_data"
    }
   ],
   "source": [
    "spb_center_year = spb_center.pivot_table(index = 'year_exposition', values = 'price_per_m2', aggfunc = ['mean', 'count', 'median'])\n",
    "spb_center_year.columns = ['mean', 'count', 'median']\n",
    "spb_center_year.query('count > 30').plot(y = 'median')\n",
    "\n",
    "spb_center_year.query('count > 30').sort_values('median', ascending = False)"
   ]
  },
  {
   "cell_type": "markdown",
   "metadata": {},
   "source": [
    "Prices are rising every year. As expected from real estate prices. However, in other areas since 2014, it has been falling."
   ]
  },
  {
   "cell_type": "markdown",
   "metadata": {},
   "source": [
    "## General conclusion"
   ]
  },
  {
   "cell_type": "markdown",
   "metadata": {},
   "source": [
    "The dataset has been processed. Pre-processing done: missing values ​​filled in, anomalous and rare ones removed, data types and names of some columns replaced for convenience. Some additional data columns have been added, date indicators have been formatted. A number of necessary parameters have been studied. Removed anomalous values ​​that appear due to unloading data by algorithms. Identified normal, slow and fast terms for the sale of apartments. The parameters most affecting the cost were identified: floor, number of rooms, proximity to the center. The impact of the announcement date is negligible. The TOP10 cities were identified, in which the sale of real estate was developing most actively, and the cost indicators in these cities were calculated. The year had a negative effect, but this is a general problem of the economy (however, no such influence was found in the center of St. Petersburg - prices were constantly growing). The radius of the center of the city of St. Petersburg is 3 km."
   ]
  }
 ],
 "metadata": {
  "ExecuteTimeLog": [
   {
    "duration": 1723,
    "start_time": "2021-06-10T12:16:19.185Z"
   },
   {
    "duration": 135,
    "start_time": "2021-06-10T12:16:26.883Z"
   },
   {
    "duration": 1272,
    "start_time": "2021-06-10T12:16:29.319Z"
   },
   {
    "duration": 1700,
    "start_time": "2021-06-10T12:16:36.150Z"
   },
   {
    "duration": 151,
    "start_time": "2021-06-10T12:16:37.854Z"
   },
   {
    "duration": 1210,
    "start_time": "2021-06-10T12:16:38.008Z"
   },
   {
    "duration": 729,
    "start_time": "2021-06-10T12:16:39.222Z"
   },
   {
    "duration": 22,
    "start_time": "2021-06-10T12:16:39.962Z"
   },
   {
    "duration": 16,
    "start_time": "2021-06-10T12:16:39.987Z"
   },
   {
    "duration": 17,
    "start_time": "2021-06-10T12:16:40.005Z"
   },
   {
    "duration": 3460,
    "start_time": "2021-06-10T12:16:40.026Z"
   },
   {
    "duration": 11,
    "start_time": "2021-06-10T12:16:43.489Z"
   },
   {
    "duration": 20,
    "start_time": "2021-06-10T12:16:43.502Z"
   },
   {
    "duration": 86,
    "start_time": "2021-06-10T12:16:43.525Z"
   },
   {
    "duration": 17,
    "start_time": "2021-06-10T12:16:43.613Z"
   },
   {
    "duration": 1575,
    "start_time": "2021-06-10T12:16:43.632Z"
   },
   {
    "duration": 13,
    "start_time": "2021-06-10T12:16:45.210Z"
   },
   {
    "duration": 11,
    "start_time": "2021-06-10T12:16:45.226Z"
   },
   {
    "duration": 600,
    "start_time": "2021-06-10T12:16:45.264Z"
   },
   {
    "duration": 15,
    "start_time": "2021-06-10T12:16:45.873Z"
   },
   {
    "duration": 35,
    "start_time": "2021-06-10T12:16:45.892Z"
   },
   {
    "duration": 433,
    "start_time": "2021-06-10T12:16:45.929Z"
   },
   {
    "duration": 18,
    "start_time": "2021-06-10T12:16:46.366Z"
   },
   {
    "duration": 734,
    "start_time": "2021-06-10T12:16:46.390Z"
   },
   {
    "duration": 741,
    "start_time": "2021-06-10T12:16:47.127Z"
   },
   {
    "duration": 18,
    "start_time": "2021-06-10T12:16:47.875Z"
   },
   {
    "duration": 5,
    "start_time": "2021-06-10T12:16:47.897Z"
   },
   {
    "duration": 6,
    "start_time": "2021-06-10T12:16:47.904Z"
   },
   {
    "duration": 1120,
    "start_time": "2021-06-10T12:16:47.913Z"
   },
   {
    "duration": 10,
    "start_time": "2021-06-10T12:16:49.035Z"
   },
   {
    "duration": 60,
    "start_time": "2021-06-10T12:16:49.047Z"
   },
   {
    "duration": 59,
    "start_time": "2021-06-10T12:16:49.109Z"
   },
   {
    "duration": 21,
    "start_time": "2021-06-10T12:16:49.171Z"
   },
   {
    "duration": 18,
    "start_time": "2021-06-10T12:16:49.195Z"
   },
   {
    "duration": 6,
    "start_time": "2021-06-10T12:16:49.215Z"
   },
   {
    "duration": 764,
    "start_time": "2021-06-10T12:16:49.223Z"
   },
   {
    "duration": 640,
    "start_time": "2021-06-10T12:16:49.991Z"
   },
   {
    "duration": 777,
    "start_time": "2021-06-10T12:16:50.634Z"
   },
   {
    "duration": 535,
    "start_time": "2021-06-10T12:16:51.413Z"
   },
   {
    "duration": 452,
    "start_time": "2021-06-10T12:16:51.950Z"
   },
   {
    "duration": 37,
    "start_time": "2021-06-10T12:16:52.404Z"
   },
   {
    "duration": 32,
    "start_time": "2021-06-10T12:16:52.443Z"
   },
   {
    "duration": 42,
    "start_time": "2021-06-10T12:16:52.477Z"
   },
   {
    "duration": 43,
    "start_time": "2021-06-10T12:16:52.522Z"
   },
   {
    "duration": 564,
    "start_time": "2021-06-10T12:17:01.142Z"
   },
   {
    "duration": 21,
    "start_time": "2021-06-10T12:17:07.896Z"
   },
   {
    "duration": 1499,
    "start_time": "2021-06-10T12:22:11.272Z"
   },
   {
    "duration": 1367,
    "start_time": "2021-06-10T12:22:27.877Z"
   },
   {
    "duration": 136,
    "start_time": "2021-06-10T12:22:57.951Z"
   },
   {
    "duration": 391,
    "start_time": "2021-06-10T12:23:01.178Z"
   },
   {
    "duration": 360,
    "start_time": "2021-06-10T12:23:27.371Z"
   },
   {
    "duration": 573,
    "start_time": "2021-06-10T12:23:41.422Z"
   },
   {
    "duration": 152,
    "start_time": "2021-06-10T12:24:10.565Z"
   },
   {
    "duration": 147,
    "start_time": "2021-06-10T12:24:13.466Z"
   },
   {
    "duration": 162,
    "start_time": "2021-06-10T12:24:50.656Z"
   },
   {
    "duration": 147,
    "start_time": "2021-06-10T12:26:12.344Z"
   },
   {
    "duration": 204,
    "start_time": "2021-06-10T12:26:43.853Z"
   },
   {
    "duration": 140,
    "start_time": "2021-06-10T12:27:11.823Z"
   },
   {
    "duration": 149,
    "start_time": "2021-06-10T12:27:58.521Z"
   },
   {
    "duration": 180,
    "start_time": "2021-06-10T12:28:31.164Z"
   },
   {
    "duration": 162,
    "start_time": "2021-06-10T12:29:02.482Z"
   },
   {
    "duration": 175,
    "start_time": "2021-06-10T12:29:20.759Z"
   },
   {
    "duration": 173,
    "start_time": "2021-06-10T12:29:56.936Z"
   },
   {
    "duration": 165,
    "start_time": "2021-06-10T12:30:32.624Z"
   },
   {
    "duration": 206,
    "start_time": "2021-06-10T12:49:35.536Z"
   },
   {
    "duration": 565,
    "start_time": "2021-06-10T12:50:56.386Z"
   },
   {
    "duration": 256,
    "start_time": "2021-06-10T12:56:39.747Z"
   },
   {
    "duration": 161,
    "start_time": "2021-06-10T12:57:32.030Z"
   },
   {
    "duration": 175,
    "start_time": "2021-06-10T12:57:48.167Z"
   },
   {
    "duration": 175,
    "start_time": "2021-06-10T13:12:47.859Z"
   },
   {
    "duration": -15229,
    "start_time": "2021-06-10T13:13:20.897Z"
   },
   {
    "duration": 170,
    "start_time": "2021-06-10T13:13:18.658Z"
   },
   {
    "duration": 242,
    "start_time": "2021-06-10T13:18:18.602Z"
   },
   {
    "duration": 244,
    "start_time": "2021-06-10T13:18:30.210Z"
   },
   {
    "duration": 244,
    "start_time": "2021-06-10T13:19:06.323Z"
   },
   {
    "duration": 160,
    "start_time": "2021-06-10T13:19:15.710Z"
   },
   {
    "duration": 258,
    "start_time": "2021-06-10T13:21:37.497Z"
   },
   {
    "duration": 1152,
    "start_time": "2021-06-10T13:23:09.810Z"
   },
   {
    "duration": 1112,
    "start_time": "2021-06-10T13:27:08.480Z"
   },
   {
    "duration": 1054,
    "start_time": "2021-06-10T16:22:38.857Z"
   },
   {
    "duration": 38,
    "start_time": "2021-06-10T16:30:06.698Z"
   },
   {
    "duration": 10,
    "start_time": "2021-06-10T16:30:25.337Z"
   },
   {
    "duration": 11,
    "start_time": "2021-06-10T16:30:38.393Z"
   },
   {
    "duration": 32,
    "start_time": "2021-06-10T16:31:18.725Z"
   },
   {
    "duration": 10,
    "start_time": "2021-06-10T16:31:36.841Z"
   },
   {
    "duration": 1261,
    "start_time": "2021-06-10T16:45:30.041Z"
   },
   {
    "duration": 725,
    "start_time": "2021-06-10T16:45:35.697Z"
   },
   {
    "duration": 571,
    "start_time": "2021-06-10T16:45:46.675Z"
   },
   {
    "duration": 1142,
    "start_time": "2021-06-10T16:46:50.488Z"
   },
   {
    "duration": 3706,
    "start_time": "2021-06-10T16:52:05.460Z"
   },
   {
    "duration": 321,
    "start_time": "2021-06-10T16:57:32.958Z"
   },
   {
    "duration": 508,
    "start_time": "2021-06-10T16:57:37.188Z"
   },
   {
    "duration": 116,
    "start_time": "2021-06-10T16:57:42.432Z"
   },
   {
    "duration": 517,
    "start_time": "2021-06-10T16:57:46.510Z"
   },
   {
    "duration": 169,
    "start_time": "2021-06-10T16:58:43.330Z"
   },
   {
    "duration": 169,
    "start_time": "2021-06-10T16:59:33.246Z"
   },
   {
    "duration": 165,
    "start_time": "2021-06-10T17:00:15.365Z"
   },
   {
    "duration": 164,
    "start_time": "2021-06-10T17:00:24.174Z"
   },
   {
    "duration": 186,
    "start_time": "2021-06-10T17:01:08.184Z"
   },
   {
    "duration": 118,
    "start_time": "2021-06-10T17:01:32.216Z"
   },
   {
    "duration": 484,
    "start_time": "2021-06-10T17:01:35.302Z"
   },
   {
    "duration": 198,
    "start_time": "2021-06-10T17:01:45.444Z"
   },
   {
    "duration": 1821,
    "start_time": "2021-06-10T17:02:08.374Z"
   },
   {
    "duration": 205,
    "start_time": "2021-06-10T17:02:10.199Z"
   },
   {
    "duration": 1219,
    "start_time": "2021-06-10T17:02:10.408Z"
   },
   {
    "duration": 35,
    "start_time": "2021-06-10T17:02:11.631Z"
   },
   {
    "duration": 18,
    "start_time": "2021-06-10T17:02:11.669Z"
   },
   {
    "duration": 3654,
    "start_time": "2021-06-10T17:02:11.690Z"
   },
   {
    "duration": 21,
    "start_time": "2021-06-10T17:02:15.347Z"
   },
   {
    "duration": 696,
    "start_time": "2021-06-10T17:02:15.372Z"
   },
   {
    "duration": 20,
    "start_time": "2021-06-10T17:02:16.072Z"
   },
   {
    "duration": 440,
    "start_time": "2021-06-10T17:02:16.095Z"
   },
   {
    "duration": 11,
    "start_time": "2021-06-10T17:02:16.538Z"
   },
   {
    "duration": 19,
    "start_time": "2021-06-10T17:02:16.563Z"
   },
   {
    "duration": 573,
    "start_time": "2021-06-10T17:02:16.584Z"
   },
   {
    "duration": 12,
    "start_time": "2021-06-10T17:02:17.162Z"
   },
   {
    "duration": 689,
    "start_time": "2021-06-10T17:02:17.177Z"
   },
   {
    "duration": 1193,
    "start_time": "2021-06-10T17:02:17.869Z"
   },
   {
    "duration": 18,
    "start_time": "2021-06-10T17:02:19.066Z"
   },
   {
    "duration": 8,
    "start_time": "2021-06-10T17:02:19.087Z"
   },
   {
    "duration": 8,
    "start_time": "2021-06-10T17:02:19.099Z"
   },
   {
    "duration": 1881,
    "start_time": "2021-06-10T17:02:19.110Z"
   },
   {
    "duration": 15,
    "start_time": "2021-06-10T17:02:20.994Z"
   },
   {
    "duration": 96,
    "start_time": "2021-06-10T17:02:21.012Z"
   },
   {
    "duration": 66,
    "start_time": "2021-06-10T17:02:21.113Z"
   },
   {
    "duration": 12,
    "start_time": "2021-06-10T17:02:21.182Z"
   },
   {
    "duration": 24,
    "start_time": "2021-06-10T17:02:21.197Z"
   },
   {
    "duration": 41,
    "start_time": "2021-06-10T17:02:21.224Z"
   },
   {
    "duration": 712,
    "start_time": "2021-06-10T17:02:21.268Z"
   },
   {
    "duration": 727,
    "start_time": "2021-06-10T17:02:21.983Z"
   },
   {
    "duration": 766,
    "start_time": "2021-06-10T17:02:22.712Z"
   },
   {
    "duration": 668,
    "start_time": "2021-06-10T17:02:23.481Z"
   },
   {
    "duration": 496,
    "start_time": "2021-06-10T17:02:24.151Z"
   },
   {
    "duration": 73,
    "start_time": "2021-06-10T17:02:24.649Z"
   },
   {
    "duration": 17,
    "start_time": "2021-06-10T17:02:24.724Z"
   },
   {
    "duration": 59,
    "start_time": "2021-06-10T17:02:24.763Z"
   },
   {
    "duration": 61,
    "start_time": "2021-06-10T17:02:24.826Z"
   },
   {
    "duration": 177,
    "start_time": "2021-06-10T17:03:08.439Z"
   },
   {
    "duration": 196,
    "start_time": "2021-06-10T17:03:11.231Z"
   },
   {
    "duration": 1152,
    "start_time": "2021-06-10T17:03:13.723Z"
   },
   {
    "duration": 17,
    "start_time": "2021-06-10T17:03:21.875Z"
   },
   {
    "duration": 10,
    "start_time": "2021-06-10T17:03:30.247Z"
   },
   {
    "duration": 12,
    "start_time": "2021-06-10T17:03:34.936Z"
   },
   {
    "duration": 9,
    "start_time": "2021-06-10T17:05:49.396Z"
   },
   {
    "duration": 3861,
    "start_time": "2021-06-10T17:05:51.516Z"
   },
   {
    "duration": 786,
    "start_time": "2021-06-10T17:06:29.986Z"
   },
   {
    "duration": 14,
    "start_time": "2021-06-10T17:06:35.002Z"
   },
   {
    "duration": 9,
    "start_time": "2021-06-10T17:06:57.643Z"
   },
   {
    "duration": 14,
    "start_time": "2021-06-10T17:07:17.820Z"
   },
   {
    "duration": 14,
    "start_time": "2021-06-10T17:07:21.658Z"
   },
   {
    "duration": 1829,
    "start_time": "2021-06-10T17:07:38.710Z"
   },
   {
    "duration": 117,
    "start_time": "2021-06-10T17:07:45.836Z"
   },
   {
    "duration": 191,
    "start_time": "2021-06-10T17:07:48.688Z"
   },
   {
    "duration": 1120,
    "start_time": "2021-06-10T17:07:54.019Z"
   },
   {
    "duration": 12,
    "start_time": "2021-06-10T17:08:17.145Z"
   },
   {
    "duration": 10,
    "start_time": "2021-06-10T17:08:19.754Z"
   },
   {
    "duration": 3831,
    "start_time": "2021-06-10T17:08:22.019Z"
   },
   {
    "duration": 12,
    "start_time": "2021-06-10T17:08:28.506Z"
   },
   {
    "duration": 450,
    "start_time": "2021-06-10T17:08:49.625Z"
   },
   {
    "duration": 479,
    "start_time": "2021-06-10T17:08:59.655Z"
   },
   {
    "duration": 397,
    "start_time": "2021-06-10T17:09:09.907Z"
   },
   {
    "duration": 498,
    "start_time": "2021-06-10T17:09:17.893Z"
   },
   {
    "duration": 490,
    "start_time": "2021-06-10T17:09:23.777Z"
   },
   {
    "duration": 577,
    "start_time": "2021-06-10T17:09:28.997Z"
   },
   {
    "duration": 373,
    "start_time": "2021-06-10T17:11:27.595Z"
   },
   {
    "duration": 821,
    "start_time": "2021-06-10T17:11:46.344Z"
   },
   {
    "duration": 456,
    "start_time": "2021-06-10T17:11:56.187Z"
   },
   {
    "duration": 415,
    "start_time": "2021-06-10T17:12:02.265Z"
   },
   {
    "duration": 1023,
    "start_time": "2021-06-10T17:12:36.923Z"
   },
   {
    "duration": 1028,
    "start_time": "2021-06-10T17:12:42.316Z"
   },
   {
    "duration": 1025,
    "start_time": "2021-06-10T17:12:49.029Z"
   },
   {
    "duration": 15,
    "start_time": "2021-06-10T17:12:56.114Z"
   },
   {
    "duration": 29,
    "start_time": "2021-06-10T17:12:58.844Z"
   },
   {
    "duration": 571,
    "start_time": "2021-06-10T17:13:22.679Z"
   },
   {
    "duration": 548,
    "start_time": "2021-06-10T17:13:37.524Z"
   },
   {
    "duration": 551,
    "start_time": "2021-06-10T17:13:43.073Z"
   },
   {
    "duration": 439,
    "start_time": "2021-06-10T17:13:46.726Z"
   },
   {
    "duration": 416,
    "start_time": "2021-06-10T17:13:55.266Z"
   },
   {
    "duration": 424,
    "start_time": "2021-06-10T17:13:59.642Z"
   },
   {
    "duration": 408,
    "start_time": "2021-06-10T17:14:05.592Z"
   },
   {
    "duration": 399,
    "start_time": "2021-06-10T17:14:10.908Z"
   },
   {
    "duration": 1156,
    "start_time": "2021-06-10T17:16:04.045Z"
   },
   {
    "duration": 4609,
    "start_time": "2021-06-10T17:16:09.246Z"
   },
   {
    "duration": 763,
    "start_time": "2021-06-10T17:16:19.625Z"
   },
   {
    "duration": 6233,
    "start_time": "2021-06-10T17:16:35.700Z"
   },
   {
    "duration": 41944,
    "start_time": "2021-06-10T17:17:02.893Z"
   },
   {
    "duration": 4890,
    "start_time": "2021-06-10T17:17:54.794Z"
   },
   {
    "duration": 2277,
    "start_time": "2021-06-10T17:18:04.659Z"
   },
   {
    "duration": 723,
    "start_time": "2021-06-10T17:18:09.853Z"
   },
   {
    "duration": 16,
    "start_time": "2021-06-10T17:18:15.297Z"
   },
   {
    "duration": 19,
    "start_time": "2021-06-10T17:18:16.983Z"
   },
   {
    "duration": 19,
    "start_time": "2021-06-10T17:18:18.450Z"
   },
   {
    "duration": 13,
    "start_time": "2021-06-10T17:18:22.331Z"
   },
   {
    "duration": 20,
    "start_time": "2021-06-10T17:18:23.908Z"
   },
   {
    "duration": 17,
    "start_time": "2021-06-10T17:18:25.214Z"
   },
   {
    "duration": 759,
    "start_time": "2021-06-10T17:18:27.744Z"
   },
   {
    "duration": 1946,
    "start_time": "2021-06-10T17:18:50.287Z"
   },
   {
    "duration": 298,
    "start_time": "2021-06-10T17:18:52.237Z"
   },
   {
    "duration": 1556,
    "start_time": "2021-06-10T17:18:52.540Z"
   },
   {
    "duration": 16,
    "start_time": "2021-06-10T17:18:54.099Z"
   },
   {
    "duration": 11,
    "start_time": "2021-06-10T17:18:54.117Z"
   },
   {
    "duration": 4137,
    "start_time": "2021-06-10T17:18:54.131Z"
   },
   {
    "duration": 4251,
    "start_time": "2021-06-10T17:18:58.272Z"
   },
   {
    "duration": 12,
    "start_time": "2021-06-10T17:19:02.527Z"
   },
   {
    "duration": 1185,
    "start_time": "2021-06-10T17:19:02.561Z"
   },
   {
    "duration": 29,
    "start_time": "2021-06-10T17:19:03.749Z"
   },
   {
    "duration": 32,
    "start_time": "2021-06-10T17:19:03.781Z"
   },
   {
    "duration": 49,
    "start_time": "2021-06-10T17:19:03.815Z"
   },
   {
    "duration": 1040,
    "start_time": "2021-06-10T17:19:03.866Z"
   },
   {
    "duration": 848,
    "start_time": "2021-06-10T17:19:04.909Z"
   },
   {
    "duration": 717,
    "start_time": "2021-06-10T17:19:05.763Z"
   },
   {
    "duration": 12,
    "start_time": "2021-06-10T17:19:06.483Z"
   },
   {
    "duration": 14,
    "start_time": "2021-06-10T17:19:06.499Z"
   },
   {
    "duration": 59,
    "start_time": "2021-06-10T17:19:06.516Z"
   },
   {
    "duration": 65,
    "start_time": "2021-06-10T17:19:06.578Z"
   },
   {
    "duration": 22,
    "start_time": "2021-06-10T17:19:06.664Z"
   },
   {
    "duration": 1409,
    "start_time": "2021-06-10T17:19:06.690Z"
   },
   {
    "duration": 8,
    "start_time": "2021-06-10T17:19:08.102Z"
   },
   {
    "duration": 6,
    "start_time": "2021-06-10T17:19:08.117Z"
   },
   {
    "duration": 1086,
    "start_time": "2021-06-10T17:19:08.127Z"
   },
   {
    "duration": 12,
    "start_time": "2021-06-10T17:19:09.215Z"
   },
   {
    "duration": 71,
    "start_time": "2021-06-10T17:19:09.230Z"
   },
   {
    "duration": 65,
    "start_time": "2021-06-10T17:19:09.304Z"
   },
   {
    "duration": 20,
    "start_time": "2021-06-10T17:19:09.372Z"
   },
   {
    "duration": 27,
    "start_time": "2021-06-10T17:19:09.396Z"
   },
   {
    "duration": 39,
    "start_time": "2021-06-10T17:19:09.427Z"
   },
   {
    "duration": 927,
    "start_time": "2021-06-10T17:19:09.469Z"
   },
   {
    "duration": 644,
    "start_time": "2021-06-10T17:19:10.400Z"
   },
   {
    "duration": 972,
    "start_time": "2021-06-10T17:19:11.047Z"
   },
   {
    "duration": 911,
    "start_time": "2021-06-10T17:19:12.022Z"
   },
   {
    "duration": 654,
    "start_time": "2021-06-10T17:19:12.936Z"
   },
   {
    "duration": 72,
    "start_time": "2021-06-10T17:19:13.592Z"
   },
   {
    "duration": 23,
    "start_time": "2021-06-10T17:19:13.667Z"
   },
   {
    "duration": 75,
    "start_time": "2021-06-10T17:19:13.693Z"
   },
   {
    "duration": 26,
    "start_time": "2021-06-10T17:19:13.775Z"
   },
   {
    "duration": 877,
    "start_time": "2021-06-10T17:20:15.641Z"
   },
   {
    "duration": 3886,
    "start_time": "2021-06-10T17:20:23.977Z"
   },
   {
    "duration": 22,
    "start_time": "2021-06-10T17:22:04.004Z"
   },
   {
    "duration": 12,
    "start_time": "2021-06-10T17:22:11.237Z"
   },
   {
    "duration": 790,
    "start_time": "2021-06-10T17:22:13.521Z"
   },
   {
    "duration": 768,
    "start_time": "2021-06-10T17:22:27.299Z"
   },
   {
    "duration": 2164,
    "start_time": "2021-06-10T17:22:52.931Z"
   },
   {
    "duration": 11,
    "start_time": "2021-06-10T17:23:05.507Z"
   },
   {
    "duration": 12,
    "start_time": "2021-06-10T17:23:07.167Z"
   },
   {
    "duration": 11,
    "start_time": "2021-06-10T17:23:37.333Z"
   },
   {
    "duration": 22,
    "start_time": "2021-06-10T17:23:52.977Z"
   },
   {
    "duration": 14,
    "start_time": "2021-06-10T17:24:02.683Z"
   },
   {
    "duration": 11,
    "start_time": "2021-06-10T17:24:09.685Z"
   },
   {
    "duration": 6,
    "start_time": "2021-06-10T17:50:20.559Z"
   },
   {
    "duration": 8,
    "start_time": "2021-06-10T17:50:34.972Z"
   },
   {
    "duration": 7,
    "start_time": "2021-06-10T17:50:45.400Z"
   },
   {
    "duration": 489,
    "start_time": "2021-06-10T17:51:02.541Z"
   },
   {
    "duration": 2164,
    "start_time": "2021-06-10T17:51:14.235Z"
   },
   {
    "duration": 12,
    "start_time": "2021-06-10T17:51:44.168Z"
   },
   {
    "duration": 13467,
    "start_time": "2021-06-10T17:56:06.861Z"
   },
   {
    "duration": 2091,
    "start_time": "2021-06-10T17:59:41.136Z"
   },
   {
    "duration": 2377,
    "start_time": "2021-06-10T18:00:58.205Z"
   },
   {
    "duration": 8,
    "start_time": "2021-06-10T18:01:43.031Z"
   },
   {
    "duration": 7,
    "start_time": "2021-06-10T18:01:46.364Z"
   },
   {
    "duration": 17,
    "start_time": "2021-06-10T18:02:58.575Z"
   },
   {
    "duration": 117,
    "start_time": "2021-06-10T18:03:11.326Z"
   },
   {
    "duration": 178,
    "start_time": "2021-06-10T18:03:15.991Z"
   },
   {
    "duration": 1755,
    "start_time": "2021-06-10T18:03:22.647Z"
   },
   {
    "duration": 12,
    "start_time": "2021-06-10T18:03:28.422Z"
   },
   {
    "duration": 10,
    "start_time": "2021-06-10T18:03:31.852Z"
   },
   {
    "duration": 3743,
    "start_time": "2021-06-10T18:03:34.660Z"
   },
   {
    "duration": 4151,
    "start_time": "2021-06-10T18:03:40.794Z"
   },
   {
    "duration": 24,
    "start_time": "2021-06-10T18:03:44.949Z"
   },
   {
    "duration": 15,
    "start_time": "2021-06-10T18:03:51.480Z"
   },
   {
    "duration": 1086,
    "start_time": "2021-06-10T18:03:53.394Z"
   },
   {
    "duration": 17,
    "start_time": "2021-06-10T18:03:56.109Z"
   },
   {
    "duration": 1155,
    "start_time": "2021-06-10T18:03:58.722Z"
   },
   {
    "duration": 1045,
    "start_time": "2021-06-10T18:04:04.608Z"
   },
   {
    "duration": 508,
    "start_time": "2021-06-10T18:04:19.749Z"
   },
   {
    "duration": 484,
    "start_time": "2021-06-10T18:04:26.508Z"
   },
   {
    "duration": 482,
    "start_time": "2021-06-10T18:04:50.022Z"
   },
   {
    "duration": 484,
    "start_time": "2021-06-10T18:04:58.900Z"
   },
   {
    "duration": 486,
    "start_time": "2021-06-10T18:05:02.735Z"
   },
   {
    "duration": 335,
    "start_time": "2021-06-10T18:05:07.960Z"
   },
   {
    "duration": 342,
    "start_time": "2021-06-10T18:05:19.843Z"
   },
   {
    "duration": 329,
    "start_time": "2021-06-10T18:05:24.015Z"
   },
   {
    "duration": 353,
    "start_time": "2021-06-10T18:05:34.982Z"
   },
   {
    "duration": 336,
    "start_time": "2021-06-10T18:05:39.828Z"
   },
   {
    "duration": 3692,
    "start_time": "2021-06-10T18:06:23.287Z"
   },
   {
    "duration": 4176,
    "start_time": "2021-06-10T18:06:29.777Z"
   },
   {
    "duration": 12,
    "start_time": "2021-06-10T18:06:33.961Z"
   },
   {
    "duration": 11,
    "start_time": "2021-06-10T18:06:42.440Z"
   },
   {
    "duration": 701,
    "start_time": "2021-06-10T18:06:44.388Z"
   },
   {
    "duration": 4266,
    "start_time": "2021-06-10T18:07:03.504Z"
   },
   {
    "duration": 685,
    "start_time": "2021-06-10T18:07:23.282Z"
   },
   {
    "duration": 471,
    "start_time": "2021-06-10T18:07:27.760Z"
   },
   {
    "duration": 684,
    "start_time": "2021-06-10T18:07:44.164Z"
   },
   {
    "duration": 13,
    "start_time": "2021-06-10T18:07:47.382Z"
   },
   {
    "duration": 2168,
    "start_time": "2021-06-10T18:07:48.676Z"
   },
   {
    "duration": 7,
    "start_time": "2021-06-10T18:07:59.422Z"
   },
   {
    "duration": 7,
    "start_time": "2021-06-10T18:08:01.953Z"
   },
   {
    "duration": 19,
    "start_time": "2021-06-10T18:08:11.489Z"
   },
   {
    "duration": 18,
    "start_time": "2021-06-10T18:52:59.809Z"
   },
   {
    "duration": 6,
    "start_time": "2021-06-10T18:53:11.372Z"
   },
   {
    "duration": 6,
    "start_time": "2021-06-10T18:53:13.251Z"
   },
   {
    "duration": 113,
    "start_time": "2021-06-10T18:56:11.907Z"
   },
   {
    "duration": 165,
    "start_time": "2021-06-10T18:56:15.397Z"
   },
   {
    "duration": 1041,
    "start_time": "2021-06-10T18:56:17.595Z"
   },
   {
    "duration": 12,
    "start_time": "2021-06-10T18:56:22.009Z"
   },
   {
    "duration": 10,
    "start_time": "2021-06-10T18:56:23.975Z"
   },
   {
    "duration": 4179,
    "start_time": "2021-06-10T18:56:25.476Z"
   },
   {
    "duration": 3617,
    "start_time": "2021-06-10T18:56:34.198Z"
   },
   {
    "duration": 12,
    "start_time": "2021-06-10T18:56:37.818Z"
   },
   {
    "duration": 12,
    "start_time": "2021-06-10T18:56:42.835Z"
   },
   {
    "duration": 691,
    "start_time": "2021-06-10T18:56:44.994Z"
   },
   {
    "duration": 12,
    "start_time": "2021-06-10T18:56:48.017Z"
   },
   {
    "duration": 355,
    "start_time": "2021-06-10T18:56:49.865Z"
   },
   {
    "duration": 412,
    "start_time": "2021-06-10T19:00:18.290Z"
   },
   {
    "duration": 567,
    "start_time": "2021-06-10T19:02:57.827Z"
   },
   {
    "duration": 557,
    "start_time": "2021-06-10T19:03:08.252Z"
   },
   {
    "duration": 546,
    "start_time": "2021-06-10T19:03:22.120Z"
   },
   {
    "duration": 554,
    "start_time": "2021-06-10T19:03:32.648Z"
   },
   {
    "duration": 4122,
    "start_time": "2021-06-10T19:03:43.546Z"
   },
   {
    "duration": 3626,
    "start_time": "2021-06-10T19:04:56.523Z"
   },
   {
    "duration": 4558,
    "start_time": "2021-06-10T19:05:08.687Z"
   },
   {
    "duration": 455,
    "start_time": "2021-06-10T19:05:28.616Z"
   },
   {
    "duration": 446,
    "start_time": "2021-06-10T19:05:35.401Z"
   },
   {
    "duration": 5,
    "start_time": "2021-06-10T19:06:17.677Z"
   },
   {
    "duration": 19,
    "start_time": "2021-06-10T19:06:24.208Z"
   },
   {
    "duration": 5,
    "start_time": "2021-06-10T19:06:31.579Z"
   },
   {
    "duration": 3219,
    "start_time": "2021-06-10T19:09:51.373Z"
   },
   {
    "duration": 3164,
    "start_time": "2021-06-10T19:09:59.050Z"
   },
   {
    "duration": 7072,
    "start_time": "2021-06-10T19:13:51.554Z"
   },
   {
    "duration": 4279,
    "start_time": "2021-06-10T19:14:05.545Z"
   },
   {
    "duration": 431,
    "start_time": "2021-06-10T19:14:20.961Z"
   },
   {
    "duration": 649,
    "start_time": "2021-06-10T19:14:44.296Z"
   },
   {
    "duration": 144,
    "start_time": "2021-06-10T19:15:41.776Z"
   },
   {
    "duration": 694,
    "start_time": "2021-06-10T19:15:47.761Z"
   },
   {
    "duration": 486,
    "start_time": "2021-06-10T19:16:24.162Z"
   },
   {
    "duration": 340,
    "start_time": "2021-06-10T19:26:08.679Z"
   },
   {
    "duration": 19,
    "start_time": "2021-06-10T19:26:17.088Z"
   },
   {
    "duration": 27,
    "start_time": "2021-06-10T19:26:25.397Z"
   },
   {
    "duration": 19,
    "start_time": "2021-06-10T19:26:43.227Z"
   },
   {
    "duration": 17,
    "start_time": "2021-06-10T19:26:50.552Z"
   },
   {
    "duration": 38,
    "start_time": "2021-06-10T19:30:14.804Z"
   },
   {
    "duration": 25,
    "start_time": "2021-06-10T19:30:24.967Z"
   },
   {
    "duration": 36,
    "start_time": "2021-06-10T19:30:29.912Z"
   },
   {
    "duration": 10,
    "start_time": "2021-06-10T19:33:42.465Z"
   },
   {
    "duration": 126,
    "start_time": "2021-06-10T19:34:03.817Z"
   },
   {
    "duration": 9,
    "start_time": "2021-06-10T19:34:13.012Z"
   },
   {
    "duration": 18,
    "start_time": "2021-06-10T19:38:14.983Z"
   },
   {
    "duration": 919,
    "start_time": "2021-06-10T19:39:03.999Z"
   },
   {
    "duration": 19,
    "start_time": "2021-06-10T19:39:35.619Z"
   },
   {
    "duration": 812,
    "start_time": "2021-06-10T19:40:32.167Z"
   },
   {
    "duration": 22,
    "start_time": "2021-06-10T19:40:37.443Z"
   },
   {
    "duration": 888,
    "start_time": "2021-06-10T19:40:40.131Z"
   },
   {
    "duration": 841,
    "start_time": "2021-06-10T19:40:57.734Z"
   },
   {
    "duration": 1432,
    "start_time": "2021-06-10T19:42:09.581Z"
   },
   {
    "duration": 1819,
    "start_time": "2021-06-10T19:43:56.763Z"
   },
   {
    "duration": 1602,
    "start_time": "2021-06-10T19:44:20.796Z"
   },
   {
    "duration": 2492,
    "start_time": "2021-06-10T19:45:11.633Z"
   },
   {
    "duration": 268,
    "start_time": "2021-06-10T19:45:14.128Z"
   },
   {
    "duration": 2013,
    "start_time": "2021-06-10T19:45:14.401Z"
   },
   {
    "duration": 15,
    "start_time": "2021-06-10T19:45:16.418Z"
   },
   {
    "duration": 6058,
    "start_time": "2021-06-10T19:45:16.436Z"
   },
   {
    "duration": 1066,
    "start_time": "2021-06-10T19:45:22.497Z"
   },
   {
    "duration": 16,
    "start_time": "2021-06-10T19:45:23.566Z"
   },
   {
    "duration": 707,
    "start_time": "2021-06-10T19:45:23.587Z"
   },
   {
    "duration": 16,
    "start_time": "2021-06-10T19:45:24.298Z"
   },
   {
    "duration": 894,
    "start_time": "2021-06-10T19:45:24.317Z"
   },
   {
    "duration": 1064,
    "start_time": "2021-06-10T19:45:25.215Z"
   },
   {
    "duration": 15,
    "start_time": "2021-06-10T19:45:26.282Z"
   },
   {
    "duration": 3273,
    "start_time": "2021-06-10T19:45:26.300Z"
   },
   {
    "duration": 6,
    "start_time": "2021-06-10T19:45:29.576Z"
   },
   {
    "duration": 11,
    "start_time": "2021-06-10T19:45:29.585Z"
   },
   {
    "duration": 20,
    "start_time": "2021-06-10T19:45:29.599Z"
   },
   {
    "duration": 43,
    "start_time": "2021-06-10T19:45:29.621Z"
   },
   {
    "duration": 19,
    "start_time": "2021-06-10T19:45:29.666Z"
   },
   {
    "duration": 9,
    "start_time": "2021-06-10T19:45:29.688Z"
   },
   {
    "duration": 22,
    "start_time": "2021-06-10T19:45:29.699Z"
   },
   {
    "duration": 114,
    "start_time": "2021-06-10T19:45:29.723Z"
   },
   {
    "duration": -14457,
    "start_time": "2021-06-10T19:45:44.297Z"
   },
   {
    "duration": -14465,
    "start_time": "2021-06-10T19:45:44.307Z"
   },
   {
    "duration": -14471,
    "start_time": "2021-06-10T19:45:44.314Z"
   },
   {
    "duration": -14478,
    "start_time": "2021-06-10T19:45:44.323Z"
   },
   {
    "duration": -14483,
    "start_time": "2021-06-10T19:45:44.329Z"
   },
   {
    "duration": -14489,
    "start_time": "2021-06-10T19:45:44.337Z"
   },
   {
    "duration": -14494,
    "start_time": "2021-06-10T19:45:44.343Z"
   },
   {
    "duration": -14499,
    "start_time": "2021-06-10T19:45:44.350Z"
   },
   {
    "duration": -14501,
    "start_time": "2021-06-10T19:45:44.355Z"
   },
   {
    "duration": -14506,
    "start_time": "2021-06-10T19:45:44.362Z"
   },
   {
    "duration": -14511,
    "start_time": "2021-06-10T19:45:44.368Z"
   },
   {
    "duration": -14516,
    "start_time": "2021-06-10T19:45:44.375Z"
   },
   {
    "duration": -14521,
    "start_time": "2021-06-10T19:45:44.381Z"
   },
   {
    "duration": -14527,
    "start_time": "2021-06-10T19:45:44.388Z"
   },
   {
    "duration": -14531,
    "start_time": "2021-06-10T19:45:44.394Z"
   },
   {
    "duration": 165,
    "start_time": "2021-06-10T20:06:40.224Z"
   },
   {
    "duration": 123,
    "start_time": "2021-06-10T20:07:16.181Z"
   },
   {
    "duration": 121,
    "start_time": "2021-06-10T20:07:23.529Z"
   },
   {
    "duration": 118,
    "start_time": "2021-06-10T20:08:10.927Z"
   },
   {
    "duration": 101,
    "start_time": "2021-06-10T20:08:15.809Z"
   },
   {
    "duration": 108,
    "start_time": "2021-06-10T20:08:19.875Z"
   },
   {
    "duration": 486,
    "start_time": "2021-06-10T20:08:40.399Z"
   },
   {
    "duration": 307,
    "start_time": "2021-06-10T20:08:54.537Z"
   },
   {
    "duration": 17,
    "start_time": "2021-06-10T20:10:52.878Z"
   },
   {
    "duration": 364,
    "start_time": "2021-06-10T20:10:55.020Z"
   },
   {
    "duration": 1570,
    "start_time": "2021-06-10T20:20:01.511Z"
   },
   {
    "duration": 188,
    "start_time": "2021-06-10T20:20:03.084Z"
   },
   {
    "duration": 1086,
    "start_time": "2021-06-10T20:20:03.276Z"
   },
   {
    "duration": 13,
    "start_time": "2021-06-10T20:20:04.366Z"
   },
   {
    "duration": 3713,
    "start_time": "2021-06-10T20:20:04.382Z"
   },
   {
    "duration": 685,
    "start_time": "2021-06-10T20:20:08.098Z"
   },
   {
    "duration": 10,
    "start_time": "2021-06-10T20:20:08.786Z"
   },
   {
    "duration": 465,
    "start_time": "2021-06-10T20:20:08.799Z"
   },
   {
    "duration": 11,
    "start_time": "2021-06-10T20:20:09.267Z"
   },
   {
    "duration": 590,
    "start_time": "2021-06-10T20:20:09.280Z"
   },
   {
    "duration": 871,
    "start_time": "2021-06-10T20:20:09.873Z"
   },
   {
    "duration": 20,
    "start_time": "2021-06-10T20:20:10.747Z"
   },
   {
    "duration": 1972,
    "start_time": "2021-06-10T20:20:10.770Z"
   },
   {
    "duration": 18,
    "start_time": "2021-06-10T20:20:12.744Z"
   },
   {
    "duration": 7,
    "start_time": "2021-06-10T20:20:12.765Z"
   },
   {
    "duration": 19,
    "start_time": "2021-06-10T20:20:12.775Z"
   },
   {
    "duration": 6,
    "start_time": "2021-06-10T20:20:12.796Z"
   },
   {
    "duration": 14,
    "start_time": "2021-06-10T20:20:12.804Z"
   },
   {
    "duration": 46,
    "start_time": "2021-06-10T20:20:12.821Z"
   },
   {
    "duration": 18,
    "start_time": "2021-06-10T20:20:12.870Z"
   },
   {
    "duration": 19,
    "start_time": "2021-06-10T20:20:12.891Z"
   },
   {
    "duration": 148,
    "start_time": "2021-06-10T20:20:12.912Z"
   },
   {
    "duration": -14420,
    "start_time": "2021-06-10T20:20:27.484Z"
   },
   {
    "duration": -14426,
    "start_time": "2021-06-10T20:20:27.492Z"
   },
   {
    "duration": -14437,
    "start_time": "2021-06-10T20:20:27.505Z"
   },
   {
    "duration": -14453,
    "start_time": "2021-06-10T20:20:27.523Z"
   },
   {
    "duration": -14460,
    "start_time": "2021-06-10T20:20:27.532Z"
   },
   {
    "duration": -14473,
    "start_time": "2021-06-10T20:20:27.546Z"
   },
   {
    "duration": -14479,
    "start_time": "2021-06-10T20:20:27.554Z"
   },
   {
    "duration": -14492,
    "start_time": "2021-06-10T20:20:27.568Z"
   },
   {
    "duration": -14499,
    "start_time": "2021-06-10T20:20:27.576Z"
   },
   {
    "duration": -14503,
    "start_time": "2021-06-10T20:20:27.584Z"
   },
   {
    "duration": -14508,
    "start_time": "2021-06-10T20:20:27.591Z"
   },
   {
    "duration": -14516,
    "start_time": "2021-06-10T20:20:27.601Z"
   },
   {
    "duration": -14520,
    "start_time": "2021-06-10T20:20:27.607Z"
   },
   {
    "duration": -14528,
    "start_time": "2021-06-10T20:20:27.616Z"
   },
   {
    "duration": -14532,
    "start_time": "2021-06-10T20:20:27.622Z"
   },
   {
    "duration": 521,
    "start_time": "2021-06-10T20:20:55.229Z"
   },
   {
    "duration": 1681,
    "start_time": "2021-06-10T20:21:23.843Z"
   },
   {
    "duration": 184,
    "start_time": "2021-06-10T20:21:25.527Z"
   },
   {
    "duration": 1188,
    "start_time": "2021-06-10T20:21:25.714Z"
   },
   {
    "duration": 12,
    "start_time": "2021-06-10T20:21:26.905Z"
   },
   {
    "duration": 3796,
    "start_time": "2021-06-10T20:21:26.920Z"
   },
   {
    "duration": 706,
    "start_time": "2021-06-10T20:21:30.719Z"
   },
   {
    "duration": 32,
    "start_time": "2021-06-10T20:21:31.429Z"
   },
   {
    "duration": 468,
    "start_time": "2021-06-10T20:21:31.466Z"
   },
   {
    "duration": 30,
    "start_time": "2021-06-10T20:21:31.938Z"
   },
   {
    "duration": 601,
    "start_time": "2021-06-10T20:21:31.971Z"
   },
   {
    "duration": 685,
    "start_time": "2021-06-10T20:21:32.576Z"
   },
   {
    "duration": 14,
    "start_time": "2021-06-10T20:21:33.264Z"
   },
   {
    "duration": 1929,
    "start_time": "2021-06-10T20:21:33.281Z"
   },
   {
    "duration": 8,
    "start_time": "2021-06-10T20:21:35.213Z"
   },
   {
    "duration": 8,
    "start_time": "2021-06-10T20:21:35.224Z"
   },
   {
    "duration": 20,
    "start_time": "2021-06-10T20:21:35.263Z"
   },
   {
    "duration": 6,
    "start_time": "2021-06-10T20:21:35.286Z"
   },
   {
    "duration": 16,
    "start_time": "2021-06-10T20:21:35.295Z"
   },
   {
    "duration": 49,
    "start_time": "2021-06-10T20:21:35.314Z"
   },
   {
    "duration": 18,
    "start_time": "2021-06-10T20:21:35.366Z"
   },
   {
    "duration": 16,
    "start_time": "2021-06-10T20:21:35.388Z"
   },
   {
    "duration": 496,
    "start_time": "2021-06-10T20:21:35.407Z"
   },
   {
    "duration": -14452,
    "start_time": "2021-06-10T20:21:50.359Z"
   },
   {
    "duration": -14462,
    "start_time": "2021-06-10T20:21:50.371Z"
   },
   {
    "duration": -14468,
    "start_time": "2021-06-10T20:21:50.380Z"
   },
   {
    "duration": -14473,
    "start_time": "2021-06-10T20:21:50.387Z"
   },
   {
    "duration": -14479,
    "start_time": "2021-06-10T20:21:50.395Z"
   },
   {
    "duration": -14483,
    "start_time": "2021-06-10T20:21:50.401Z"
   },
   {
    "duration": -14497,
    "start_time": "2021-06-10T20:21:50.418Z"
   },
   {
    "duration": -14502,
    "start_time": "2021-06-10T20:21:50.425Z"
   },
   {
    "duration": -14507,
    "start_time": "2021-06-10T20:21:50.432Z"
   },
   {
    "duration": -14511,
    "start_time": "2021-06-10T20:21:50.438Z"
   },
   {
    "duration": -14539,
    "start_time": "2021-06-10T20:21:50.468Z"
   },
   {
    "duration": -14548,
    "start_time": "2021-06-10T20:21:50.480Z"
   },
   {
    "duration": -14560,
    "start_time": "2021-06-10T20:21:50.494Z"
   },
   {
    "duration": -14566,
    "start_time": "2021-06-10T20:21:50.502Z"
   },
   {
    "duration": -14572,
    "start_time": "2021-06-10T20:21:50.511Z"
   },
   {
    "duration": 342,
    "start_time": "2021-06-10T20:21:58.868Z"
   },
   {
    "duration": 4,
    "start_time": "2021-06-10T20:22:09.963Z"
   },
   {
    "duration": 350,
    "start_time": "2021-06-10T20:22:26.214Z"
   },
   {
    "duration": 321,
    "start_time": "2021-06-10T20:22:30.702Z"
   },
   {
    "duration": 120,
    "start_time": "2021-06-10T20:22:35.664Z"
   },
   {
    "duration": 173,
    "start_time": "2021-06-10T20:22:39.315Z"
   },
   {
    "duration": 1185,
    "start_time": "2021-06-10T20:22:42.616Z"
   },
   {
    "duration": 12,
    "start_time": "2021-06-10T20:22:50.317Z"
   },
   {
    "duration": 3632,
    "start_time": "2021-06-10T20:22:52.301Z"
   },
   {
    "duration": 673,
    "start_time": "2021-06-10T20:22:58.610Z"
   },
   {
    "duration": 14,
    "start_time": "2021-06-10T20:23:01.688Z"
   },
   {
    "duration": 698,
    "start_time": "2021-06-10T20:23:03.006Z"
   },
   {
    "duration": 13,
    "start_time": "2021-06-10T20:23:05.955Z"
   },
   {
    "duration": 450,
    "start_time": "2021-06-10T20:23:09.295Z"
   },
   {
    "duration": 1092,
    "start_time": "2021-06-10T20:23:14.313Z"
   },
   {
    "duration": 14,
    "start_time": "2021-06-10T20:23:17.900Z"
   },
   {
    "duration": 2103,
    "start_time": "2021-06-10T20:23:19.547Z"
   },
   {
    "duration": 7,
    "start_time": "2021-06-10T20:23:26.523Z"
   },
   {
    "duration": 6,
    "start_time": "2021-06-10T20:23:29.082Z"
   },
   {
    "duration": 16,
    "start_time": "2021-06-10T20:23:30.535Z"
   },
   {
    "duration": 6,
    "start_time": "2021-06-10T20:23:33.419Z"
   },
   {
    "duration": 9,
    "start_time": "2021-06-10T20:23:36.265Z"
   },
   {
    "duration": 9,
    "start_time": "2021-06-10T20:23:39.477Z"
   },
   {
    "duration": 18,
    "start_time": "2021-06-10T20:23:55.080Z"
   },
   {
    "duration": 14,
    "start_time": "2021-06-10T20:23:58.199Z"
   },
   {
    "duration": 5,
    "start_time": "2021-06-10T20:24:00.966Z"
   },
   {
    "duration": 349,
    "start_time": "2021-06-10T20:24:04.619Z"
   },
   {
    "duration": 369,
    "start_time": "2021-06-10T20:24:17.298Z"
   },
   {
    "duration": 1581,
    "start_time": "2021-06-10T20:24:35.779Z"
   },
   {
    "duration": 180,
    "start_time": "2021-06-10T20:24:37.362Z"
   },
   {
    "duration": 1052,
    "start_time": "2021-06-10T20:24:37.545Z"
   },
   {
    "duration": 15,
    "start_time": "2021-06-10T20:24:38.600Z"
   },
   {
    "duration": 5267,
    "start_time": "2021-06-10T20:24:38.618Z"
   },
   {
    "duration": 688,
    "start_time": "2021-06-10T20:24:43.887Z"
   },
   {
    "duration": 11,
    "start_time": "2021-06-10T20:24:44.578Z"
   },
   {
    "duration": 472,
    "start_time": "2021-06-10T20:24:44.593Z"
   },
   {
    "duration": 12,
    "start_time": "2021-06-10T20:24:45.068Z"
   },
   {
    "duration": 700,
    "start_time": "2021-06-10T20:24:45.083Z"
   },
   {
    "duration": 679,
    "start_time": "2021-06-10T20:24:45.785Z"
   },
   {
    "duration": 12,
    "start_time": "2021-06-10T20:24:46.467Z"
   },
   {
    "duration": 1946,
    "start_time": "2021-06-10T20:24:46.481Z"
   },
   {
    "duration": 7,
    "start_time": "2021-06-10T20:24:48.430Z"
   },
   {
    "duration": 25,
    "start_time": "2021-06-10T20:24:48.439Z"
   },
   {
    "duration": 18,
    "start_time": "2021-06-10T20:24:48.467Z"
   },
   {
    "duration": 6,
    "start_time": "2021-06-10T20:24:48.488Z"
   },
   {
    "duration": 11,
    "start_time": "2021-06-10T20:24:48.497Z"
   },
   {
    "duration": 54,
    "start_time": "2021-06-10T20:24:48.510Z"
   },
   {
    "duration": 17,
    "start_time": "2021-06-10T20:24:48.566Z"
   },
   {
    "duration": 45,
    "start_time": "2021-06-10T20:24:48.585Z"
   },
   {
    "duration": 16,
    "start_time": "2021-06-10T20:24:48.633Z"
   },
   {
    "duration": 60,
    "start_time": "2021-06-10T20:24:48.661Z"
   },
   {
    "duration": 72,
    "start_time": "2021-06-10T20:24:48.723Z"
   },
   {
    "duration": 12,
    "start_time": "2021-06-10T20:24:48.798Z"
   },
   {
    "duration": 15,
    "start_time": "2021-06-10T20:24:48.813Z"
   },
   {
    "duration": 33,
    "start_time": "2021-06-10T20:24:48.831Z"
   },
   {
    "duration": 914,
    "start_time": "2021-06-10T20:24:48.867Z"
   },
   {
    "duration": 585,
    "start_time": "2021-06-10T20:24:49.784Z"
   },
   {
    "duration": 1040,
    "start_time": "2021-06-10T20:24:50.371Z"
   },
   {
    "duration": 800,
    "start_time": "2021-06-10T20:24:51.414Z"
   },
   {
    "duration": 649,
    "start_time": "2021-06-10T20:24:52.217Z"
   },
   {
    "duration": 57,
    "start_time": "2021-06-10T20:24:52.869Z"
   },
   {
    "duration": 42,
    "start_time": "2021-06-10T20:24:52.929Z"
   },
   {
    "duration": 52,
    "start_time": "2021-06-10T20:24:52.975Z"
   },
   {
    "duration": 60,
    "start_time": "2021-06-10T20:24:53.030Z"
   },
   {
    "duration": 491,
    "start_time": "2021-06-10T20:31:56.774Z"
   },
   {
    "duration": 348,
    "start_time": "2021-06-10T20:36:01.674Z"
   },
   {
    "duration": 19,
    "start_time": "2021-06-10T20:36:05.358Z"
   },
   {
    "duration": 20,
    "start_time": "2021-06-10T20:36:13.115Z"
   },
   {
    "duration": 19,
    "start_time": "2021-06-10T20:36:28.464Z"
   },
   {
    "duration": 244,
    "start_time": "2021-06-10T20:37:42.128Z"
   },
   {
    "duration": 1684,
    "start_time": "2021-06-10T20:38:01.731Z"
   },
   {
    "duration": 190,
    "start_time": "2021-06-10T20:38:03.418Z"
   },
   {
    "duration": 1164,
    "start_time": "2021-06-10T20:38:03.610Z"
   },
   {
    "duration": 12,
    "start_time": "2021-06-10T20:38:04.778Z"
   },
   {
    "duration": 3963,
    "start_time": "2021-06-10T20:38:04.793Z"
   },
   {
    "duration": 749,
    "start_time": "2021-06-10T20:38:08.763Z"
   },
   {
    "duration": 11,
    "start_time": "2021-06-10T20:38:09.515Z"
   },
   {
    "duration": 524,
    "start_time": "2021-06-10T20:38:09.530Z"
   },
   {
    "duration": 17,
    "start_time": "2021-06-10T20:38:10.063Z"
   },
   {
    "duration": 622,
    "start_time": "2021-06-10T20:38:10.082Z"
   },
   {
    "duration": 764,
    "start_time": "2021-06-10T20:38:10.707Z"
   },
   {
    "duration": 13,
    "start_time": "2021-06-10T20:38:11.475Z"
   },
   {
    "duration": 2105,
    "start_time": "2021-06-10T20:38:11.491Z"
   },
   {
    "duration": 6,
    "start_time": "2021-06-10T20:38:13.599Z"
   },
   {
    "duration": 10,
    "start_time": "2021-06-10T20:38:13.607Z"
   },
   {
    "duration": 45,
    "start_time": "2021-06-10T20:38:13.619Z"
   },
   {
    "duration": 8,
    "start_time": "2021-06-10T20:38:13.667Z"
   },
   {
    "duration": 32,
    "start_time": "2021-06-10T20:38:13.679Z"
   },
   {
    "duration": 22,
    "start_time": "2021-06-10T20:38:13.713Z"
   },
   {
    "duration": 242,
    "start_time": "2021-06-10T20:38:13.738Z"
   },
   {
    "duration": 13,
    "start_time": "2021-06-10T20:38:13.982Z"
   },
   {
    "duration": 18,
    "start_time": "2021-06-10T20:38:13.998Z"
   },
   {
    "duration": 41,
    "start_time": "2021-06-10T20:38:14.020Z"
   },
   {
    "duration": 811,
    "start_time": "2021-06-10T20:38:14.068Z"
   },
   {
    "duration": 650,
    "start_time": "2021-06-10T20:38:14.881Z"
   },
   {
    "duration": 803,
    "start_time": "2021-06-10T20:38:15.534Z"
   },
   {
    "duration": 603,
    "start_time": "2021-06-10T20:38:16.340Z"
   },
   {
    "duration": 503,
    "start_time": "2021-06-10T20:38:16.945Z"
   },
   {
    "duration": 50,
    "start_time": "2021-06-10T20:38:17.451Z"
   },
   {
    "duration": 17,
    "start_time": "2021-06-10T20:38:17.504Z"
   },
   {
    "duration": 75,
    "start_time": "2021-06-10T20:38:17.523Z"
   },
   {
    "duration": 26,
    "start_time": "2021-06-10T20:38:17.600Z"
   },
   {
    "duration": 29,
    "start_time": "2021-06-10T20:46:30.325Z"
   },
   {
    "duration": 28,
    "start_time": "2021-06-10T20:46:35.255Z"
   },
   {
    "duration": 575,
    "start_time": "2021-06-10T20:46:44.290Z"
   },
   {
    "duration": 285,
    "start_time": "2021-06-10T20:46:52.477Z"
   },
   {
    "duration": 351,
    "start_time": "2021-06-10T20:47:12.199Z"
   },
   {
    "duration": 1166,
    "start_time": "2021-06-10T20:47:17.719Z"
   },
   {
    "duration": 1372,
    "start_time": "2021-06-10T20:47:23.893Z"
   },
   {
    "duration": 19,
    "start_time": "2021-06-10T20:48:11.286Z"
   },
   {
    "duration": 22,
    "start_time": "2021-06-10T20:48:15.368Z"
   },
   {
    "duration": 1142,
    "start_time": "2021-06-10T20:48:17.519Z"
   },
   {
    "duration": 1125,
    "start_time": "2021-06-10T20:49:30.019Z"
   },
   {
    "duration": 11,
    "start_time": "2021-06-10T20:50:02.191Z"
   },
   {
    "duration": 7,
    "start_time": "2021-06-10T20:50:47.010Z"
   },
   {
    "duration": 7,
    "start_time": "2021-06-10T20:51:24.225Z"
   },
   {
    "duration": 12,
    "start_time": "2021-06-10T20:51:58.685Z"
   },
   {
    "duration": 7,
    "start_time": "2021-06-10T20:52:21.955Z"
   },
   {
    "duration": 6,
    "start_time": "2021-06-10T20:52:32.093Z"
   },
   {
    "duration": 1181,
    "start_time": "2021-06-10T20:52:44.515Z"
   },
   {
    "duration": 1044,
    "start_time": "2021-06-10T20:52:53.948Z"
   },
   {
    "duration": 1035,
    "start_time": "2021-06-10T20:53:02.268Z"
   },
   {
    "duration": 1054,
    "start_time": "2021-06-10T20:53:13.173Z"
   },
   {
    "duration": 401,
    "start_time": "2021-06-10T20:53:51.418Z"
   },
   {
    "duration": 19,
    "start_time": "2021-06-10T20:54:42.935Z"
   },
   {
    "duration": 12,
    "start_time": "2021-06-10T21:50:54.797Z"
   },
   {
    "duration": 15,
    "start_time": "2021-06-10T21:51:06.377Z"
   },
   {
    "duration": 2067,
    "start_time": "2021-06-10T21:51:59.328Z"
   },
   {
    "duration": 402,
    "start_time": "2021-06-10T21:52:51.049Z"
   },
   {
    "duration": 2205,
    "start_time": "2021-06-10T21:53:12.334Z"
   },
   {
    "duration": 400,
    "start_time": "2021-06-10T21:53:27.108Z"
   },
   {
    "duration": 2108,
    "start_time": "2021-06-10T21:53:33.563Z"
   },
   {
    "duration": 652,
    "start_time": "2021-06-10T21:53:39.499Z"
   },
   {
    "duration": 405,
    "start_time": "2021-06-10T21:53:45.025Z"
   },
   {
    "duration": 412,
    "start_time": "2021-06-10T21:53:51.240Z"
   },
   {
    "duration": 35,
    "start_time": "2021-06-10T21:57:23.562Z"
   },
   {
    "duration": 637,
    "start_time": "2021-06-10T21:57:26.857Z"
   },
   {
    "duration": 716,
    "start_time": "2021-06-10T21:57:32.136Z"
   },
   {
    "duration": 718,
    "start_time": "2021-06-10T22:00:26.605Z"
   },
   {
    "duration": 756,
    "start_time": "2021-06-10T22:00:36.774Z"
   },
   {
    "duration": 556,
    "start_time": "2021-06-10T22:01:00.550Z"
   },
   {
    "duration": 117,
    "start_time": "2021-06-10T22:01:24.864Z"
   },
   {
    "duration": 725,
    "start_time": "2021-06-10T22:01:29.603Z"
   },
   {
    "duration": 616,
    "start_time": "2021-06-10T22:01:40.355Z"
   },
   {
    "duration": 604,
    "start_time": "2021-06-10T22:01:57.162Z"
   },
   {
    "duration": 679,
    "start_time": "2021-06-10T22:02:14.307Z"
   },
   {
    "duration": 57,
    "start_time": "2021-06-10T22:06:12.370Z"
   },
   {
    "duration": 18,
    "start_time": "2021-06-10T22:06:14.302Z"
   },
   {
    "duration": 53,
    "start_time": "2021-06-10T22:06:16.548Z"
   },
   {
    "duration": 41,
    "start_time": "2021-06-10T22:08:10.250Z"
   },
   {
    "duration": 51,
    "start_time": "2021-06-10T22:08:14.095Z"
   },
   {
    "duration": 56,
    "start_time": "2021-06-10T22:08:20.147Z"
   },
   {
    "duration": 37,
    "start_time": "2021-06-10T22:08:41.461Z"
   },
   {
    "duration": 24,
    "start_time": "2021-06-10T22:13:35.826Z"
   },
   {
    "duration": 16,
    "start_time": "2021-06-10T22:14:55.751Z"
   },
   {
    "duration": 1572,
    "start_time": "2021-06-10T22:15:09.363Z"
   },
   {
    "duration": 173,
    "start_time": "2021-06-10T22:15:10.938Z"
   },
   {
    "duration": 1096,
    "start_time": "2021-06-10T22:15:11.114Z"
   },
   {
    "duration": 10,
    "start_time": "2021-06-10T22:15:12.213Z"
   },
   {
    "duration": 3851,
    "start_time": "2021-06-10T22:15:12.226Z"
   },
   {
    "duration": 912,
    "start_time": "2021-06-10T22:15:16.080Z"
   },
   {
    "duration": 13,
    "start_time": "2021-06-10T22:15:16.995Z"
   },
   {
    "duration": 488,
    "start_time": "2021-06-10T22:15:17.011Z"
   },
   {
    "duration": 12,
    "start_time": "2021-06-10T22:15:17.502Z"
   },
   {
    "duration": 611,
    "start_time": "2021-06-10T22:15:17.516Z"
   },
   {
    "duration": 690,
    "start_time": "2021-06-10T22:15:18.130Z"
   },
   {
    "duration": 12,
    "start_time": "2021-06-10T22:15:18.822Z"
   },
   {
    "duration": 2008,
    "start_time": "2021-06-10T22:15:18.836Z"
   },
   {
    "duration": 6,
    "start_time": "2021-06-10T22:15:20.846Z"
   },
   {
    "duration": 16,
    "start_time": "2021-06-10T22:15:20.862Z"
   },
   {
    "duration": 16,
    "start_time": "2021-06-10T22:15:20.880Z"
   },
   {
    "duration": 5,
    "start_time": "2021-06-10T22:15:20.899Z"
   },
   {
    "duration": 10,
    "start_time": "2021-06-10T22:15:20.906Z"
   },
   {
    "duration": 54,
    "start_time": "2021-06-10T22:15:20.919Z"
   },
   {
    "duration": 7,
    "start_time": "2021-06-10T22:15:20.975Z"
   },
   {
    "duration": 457,
    "start_time": "2021-06-10T22:15:20.984Z"
   },
   {
    "duration": 37,
    "start_time": "2021-06-10T22:15:21.444Z"
   },
   {
    "duration": 509,
    "start_time": "2021-06-10T22:15:21.486Z"
   },
   {
    "duration": 12,
    "start_time": "2021-06-10T22:15:21.997Z"
   },
   {
    "duration": 15,
    "start_time": "2021-06-10T22:15:22.011Z"
   },
   {
    "duration": 33,
    "start_time": "2021-06-10T22:15:22.029Z"
   },
   {
    "duration": 737,
    "start_time": "2021-06-10T22:15:22.064Z"
   },
   {
    "duration": 610,
    "start_time": "2021-06-10T22:15:22.804Z"
   },
   {
    "duration": 741,
    "start_time": "2021-06-10T22:15:23.417Z"
   },
   {
    "duration": 586,
    "start_time": "2021-06-10T22:15:24.162Z"
   },
   {
    "duration": 484,
    "start_time": "2021-06-10T22:15:24.751Z"
   },
   {
    "duration": 46,
    "start_time": "2021-06-10T22:15:25.238Z"
   },
   {
    "duration": 16,
    "start_time": "2021-06-10T22:15:25.287Z"
   },
   {
    "duration": 70,
    "start_time": "2021-06-10T22:15:25.305Z"
   },
   {
    "duration": 17,
    "start_time": "2021-06-10T22:15:25.377Z"
   },
   {
    "duration": 25,
    "start_time": "2021-06-10T22:18:26.956Z"
   },
   {
    "duration": 483,
    "start_time": "2021-06-10T22:22:04.441Z"
   },
   {
    "duration": 19,
    "start_time": "2021-06-10T22:22:17.157Z"
   },
   {
    "duration": 361,
    "start_time": "2021-06-10T22:22:22.246Z"
   },
   {
    "duration": 23,
    "start_time": "2021-06-10T22:22:26.181Z"
   },
   {
    "duration": 338,
    "start_time": "2021-06-10T22:25:57.455Z"
   },
   {
    "duration": 25,
    "start_time": "2021-06-10T22:26:11.205Z"
   },
   {
    "duration": 24,
    "start_time": "2021-06-10T22:26:44.724Z"
   },
   {
    "duration": 30,
    "start_time": "2021-06-10T22:27:46.807Z"
   },
   {
    "duration": 36,
    "start_time": "2021-06-10T22:27:55.805Z"
   },
   {
    "duration": 9,
    "start_time": "2021-06-10T22:28:24.382Z"
   },
   {
    "duration": 7,
    "start_time": "2021-06-10T22:28:34.250Z"
   },
   {
    "duration": 20,
    "start_time": "2021-06-10T22:28:49.581Z"
   },
   {
    "duration": 21,
    "start_time": "2021-06-10T22:50:42.982Z"
   },
   {
    "duration": 18,
    "start_time": "2021-06-10T22:50:52.209Z"
   },
   {
    "duration": 20,
    "start_time": "2021-06-10T22:51:25.567Z"
   },
   {
    "duration": 23,
    "start_time": "2021-06-10T22:51:33.716Z"
   },
   {
    "duration": 31,
    "start_time": "2021-06-10T22:52:08.759Z"
   },
   {
    "duration": 32,
    "start_time": "2021-06-10T22:55:47.027Z"
   },
   {
    "duration": 351,
    "start_time": "2021-06-10T22:58:50.501Z"
   },
   {
    "duration": 39,
    "start_time": "2021-06-10T22:59:02.245Z"
   },
   {
    "duration": 31,
    "start_time": "2021-06-10T22:59:07.469Z"
   },
   {
    "duration": 8,
    "start_time": "2021-06-10T23:00:09.944Z"
   },
   {
    "duration": 20,
    "start_time": "2021-06-10T23:00:39.737Z"
   },
   {
    "duration": 21,
    "start_time": "2021-06-10T23:00:42.395Z"
   },
   {
    "duration": 11,
    "start_time": "2021-06-10T23:01:57.638Z"
   },
   {
    "duration": 10,
    "start_time": "2021-06-10T23:05:17.306Z"
   },
   {
    "duration": 51,
    "start_time": "2021-06-10T23:05:59.330Z"
   },
   {
    "duration": 9,
    "start_time": "2021-06-10T23:08:03.636Z"
   },
   {
    "duration": 19,
    "start_time": "2021-06-10T23:09:43.702Z"
   },
   {
    "duration": 9,
    "start_time": "2021-06-10T23:09:55.338Z"
   },
   {
    "duration": 19,
    "start_time": "2021-06-10T23:09:58.243Z"
   },
   {
    "duration": 13,
    "start_time": "2021-06-10T23:11:18.815Z"
   },
   {
    "duration": 22,
    "start_time": "2021-06-10T23:11:20.772Z"
   },
   {
    "duration": 14,
    "start_time": "2021-06-10T23:12:19.718Z"
   },
   {
    "duration": 21,
    "start_time": "2021-06-10T23:12:34.429Z"
   },
   {
    "duration": 300,
    "start_time": "2021-06-10T23:12:46.224Z"
   },
   {
    "duration": 311,
    "start_time": "2021-06-10T23:12:51.459Z"
   },
   {
    "duration": 408,
    "start_time": "2021-06-10T23:13:42.111Z"
   },
   {
    "duration": 22,
    "start_time": "2021-06-10T23:22:56.612Z"
   },
   {
    "duration": 105,
    "start_time": "2021-06-10T23:26:21.058Z"
   },
   {
    "duration": 322,
    "start_time": "2021-06-10T23:26:29.769Z"
   },
   {
    "duration": 32,
    "start_time": "2021-06-10T23:27:58.773Z"
   },
   {
    "duration": 353,
    "start_time": "2021-06-10T23:28:49.647Z"
   },
   {
    "duration": 31,
    "start_time": "2021-06-10T23:29:07.362Z"
   },
   {
    "duration": 122,
    "start_time": "2021-06-10T23:30:15.870Z"
   },
   {
    "duration": 34,
    "start_time": "2021-06-10T23:30:52.149Z"
   },
   {
    "duration": 7,
    "start_time": "2021-06-10T23:31:28.856Z"
   },
   {
    "duration": 11,
    "start_time": "2021-06-10T23:31:30.985Z"
   },
   {
    "duration": 11,
    "start_time": "2021-06-10T23:31:48.211Z"
   },
   {
    "duration": 22,
    "start_time": "2021-06-10T23:31:52.184Z"
   },
   {
    "duration": 422,
    "start_time": "2021-06-10T23:31:57.833Z"
   },
   {
    "duration": 463,
    "start_time": "2021-06-10T23:32:00.940Z"
   },
   {
    "duration": 402,
    "start_time": "2021-06-10T23:32:13.963Z"
   },
   {
    "duration": 19,
    "start_time": "2021-06-10T23:32:37.379Z"
   },
   {
    "duration": 8823,
    "start_time": "2021-06-10T23:33:47.144Z"
   },
   {
    "duration": 8962,
    "start_time": "2021-06-10T23:34:03.162Z"
   },
   {
    "duration": 12,
    "start_time": "2021-06-10T23:36:11.939Z"
   },
   {
    "duration": 331,
    "start_time": "2021-06-10T23:36:57.173Z"
   },
   {
    "duration": 8426,
    "start_time": "2021-06-10T23:37:20.725Z"
   },
   {
    "duration": 9462,
    "start_time": "2021-06-10T23:39:33.312Z"
   },
   {
    "duration": 9,
    "start_time": "2021-06-10T23:40:09.063Z"
   },
   {
    "duration": 12,
    "start_time": "2021-06-10T23:40:12.484Z"
   },
   {
    "duration": 314,
    "start_time": "2021-06-10T23:40:15.416Z"
   },
   {
    "duration": 12,
    "start_time": "2021-06-10T23:42:45.692Z"
   },
   {
    "duration": 14,
    "start_time": "2021-06-10T23:43:53.610Z"
   },
   {
    "duration": 15,
    "start_time": "2021-06-10T23:43:56.337Z"
   },
   {
    "duration": 8239,
    "start_time": "2021-06-10T23:44:14.675Z"
   },
   {
    "duration": 14,
    "start_time": "2021-06-10T23:46:10.818Z"
   },
   {
    "duration": 7,
    "start_time": "2021-06-10T23:48:40.446Z"
   },
   {
    "duration": 315,
    "start_time": "2021-06-10T23:53:16.072Z"
   },
   {
    "duration": 290,
    "start_time": "2021-06-10T23:53:21.933Z"
   },
   {
    "duration": 14,
    "start_time": "2021-06-10T23:53:44.228Z"
   },
   {
    "duration": 11,
    "start_time": "2021-06-10T23:54:03.108Z"
   },
   {
    "duration": 11,
    "start_time": "2021-06-10T23:54:27.044Z"
   },
   {
    "duration": 10,
    "start_time": "2021-06-10T23:54:41.369Z"
   },
   {
    "duration": 8735,
    "start_time": "2021-06-10T23:54:57.869Z"
   },
   {
    "duration": 15,
    "start_time": "2021-06-10T23:55:18.910Z"
   },
   {
    "duration": 11,
    "start_time": "2021-06-10T23:55:49.740Z"
   },
   {
    "duration": 8,
    "start_time": "2021-06-10T23:55:59.021Z"
   },
   {
    "duration": 9,
    "start_time": "2021-06-10T23:57:02.259Z"
   },
   {
    "duration": 478,
    "start_time": "2021-06-10T23:58:37.377Z"
   },
   {
    "duration": 22,
    "start_time": "2021-06-10T23:58:41.275Z"
   },
   {
    "duration": 324,
    "start_time": "2021-06-10T23:59:39.667Z"
   },
   {
    "duration": 384,
    "start_time": "2021-06-10T23:59:52.546Z"
   },
   {
    "duration": 824,
    "start_time": "2021-06-11T00:00:03.863Z"
   },
   {
    "duration": 393,
    "start_time": "2021-06-11T00:00:50.742Z"
   },
   {
    "duration": 270,
    "start_time": "2021-06-11T00:00:54.482Z"
   },
   {
    "duration": 11,
    "start_time": "2021-06-11T00:01:02.376Z"
   },
   {
    "duration": 273,
    "start_time": "2021-06-11T00:01:27.114Z"
   },
   {
    "duration": 10,
    "start_time": "2021-06-11T00:01:33.486Z"
   },
   {
    "duration": 1013,
    "start_time": "2021-06-11T00:02:12.716Z"
   },
   {
    "duration": 317,
    "start_time": "2021-06-11T00:05:01.498Z"
   },
   {
    "duration": 343,
    "start_time": "2021-06-11T00:07:30.214Z"
   },
   {
    "duration": 364,
    "start_time": "2021-06-11T00:07:34.048Z"
   },
   {
    "duration": 381,
    "start_time": "2021-06-11T00:07:40.108Z"
   },
   {
    "duration": 322,
    "start_time": "2021-06-11T00:08:54.914Z"
   },
   {
    "duration": 280,
    "start_time": "2021-06-11T00:09:03.286Z"
   },
   {
    "duration": 291,
    "start_time": "2021-06-11T00:10:41.365Z"
   },
   {
    "duration": 362,
    "start_time": "2021-06-11T00:12:07.209Z"
   },
   {
    "duration": 438,
    "start_time": "2021-06-11T00:12:52.659Z"
   },
   {
    "duration": 422,
    "start_time": "2021-06-11T00:12:57.086Z"
   },
   {
    "duration": 17,
    "start_time": "2021-06-11T00:13:09.706Z"
   },
   {
    "duration": 349,
    "start_time": "2021-06-11T00:13:52.176Z"
   },
   {
    "duration": 314,
    "start_time": "2021-06-11T00:14:02.791Z"
   },
   {
    "duration": 389,
    "start_time": "2021-06-11T00:14:08.467Z"
   },
   {
    "duration": 388,
    "start_time": "2021-06-11T00:14:18.718Z"
   },
   {
    "duration": 293,
    "start_time": "2021-06-11T00:14:26.969Z"
   },
   {
    "duration": 380,
    "start_time": "2021-06-11T00:17:09.993Z"
   },
   {
    "duration": 689,
    "start_time": "2021-06-11T00:17:20.174Z"
   },
   {
    "duration": 343,
    "start_time": "2021-06-11T00:17:36.893Z"
   },
   {
    "duration": 442,
    "start_time": "2021-06-11T00:18:08.712Z"
   },
   {
    "duration": 1652,
    "start_time": "2021-06-11T14:07:20.342Z"
   },
   {
    "duration": 167,
    "start_time": "2021-06-11T14:07:21.996Z"
   },
   {
    "duration": 1050,
    "start_time": "2021-06-11T14:07:22.168Z"
   },
   {
    "duration": 11,
    "start_time": "2021-06-11T14:07:23.222Z"
   },
   {
    "duration": 3432,
    "start_time": "2021-06-11T14:07:23.236Z"
   },
   {
    "duration": 661,
    "start_time": "2021-06-11T14:07:26.670Z"
   },
   {
    "duration": 11,
    "start_time": "2021-06-11T14:07:27.333Z"
   },
   {
    "duration": 463,
    "start_time": "2021-06-11T14:07:27.346Z"
   },
   {
    "duration": 12,
    "start_time": "2021-06-11T14:07:27.813Z"
   },
   {
    "duration": 556,
    "start_time": "2021-06-11T14:07:27.828Z"
   },
   {
    "duration": 636,
    "start_time": "2021-06-11T14:07:28.387Z"
   },
   {
    "duration": 12,
    "start_time": "2021-06-11T14:07:29.026Z"
   },
   {
    "duration": 1828,
    "start_time": "2021-06-11T14:07:29.040Z"
   },
   {
    "duration": 8,
    "start_time": "2021-06-11T14:07:30.872Z"
   },
   {
    "duration": 9,
    "start_time": "2021-06-11T14:07:30.902Z"
   },
   {
    "duration": 21,
    "start_time": "2021-06-11T14:07:30.914Z"
   },
   {
    "duration": 5,
    "start_time": "2021-06-11T14:07:30.937Z"
   },
   {
    "duration": 13,
    "start_time": "2021-06-11T14:07:30.945Z"
   },
   {
    "duration": 54,
    "start_time": "2021-06-11T14:07:30.960Z"
   },
   {
    "duration": 7,
    "start_time": "2021-06-11T14:07:31.016Z"
   },
   {
    "duration": 416,
    "start_time": "2021-06-11T14:07:31.025Z"
   },
   {
    "duration": 18,
    "start_time": "2021-06-11T14:07:31.443Z"
   },
   {
    "duration": 481,
    "start_time": "2021-06-11T14:07:31.464Z"
   },
   {
    "duration": 13,
    "start_time": "2021-06-11T14:07:31.948Z"
   },
   {
    "duration": 41,
    "start_time": "2021-06-11T14:07:31.964Z"
   },
   {
    "duration": 7,
    "start_time": "2021-06-11T14:07:32.007Z"
   },
   {
    "duration": 1115,
    "start_time": "2021-06-11T14:07:32.020Z"
   },
   {
    "duration": 575,
    "start_time": "2021-06-11T14:07:33.140Z"
   },
   {
    "duration": 796,
    "start_time": "2021-06-11T14:07:33.718Z"
   },
   {
    "duration": 547,
    "start_time": "2021-06-11T14:07:34.516Z"
   },
   {
    "duration": 473,
    "start_time": "2021-06-11T14:07:35.066Z"
   },
   {
    "duration": 37,
    "start_time": "2021-06-11T14:07:35.541Z"
   },
   {
    "duration": 16,
    "start_time": "2021-06-11T14:07:35.600Z"
   },
   {
    "duration": 36,
    "start_time": "2021-06-11T14:07:35.618Z"
   },
   {
    "duration": 71,
    "start_time": "2021-06-11T14:07:35.656Z"
   },
   {
    "duration": 7,
    "start_time": "2021-06-11T14:07:35.729Z"
   },
   {
    "duration": 15,
    "start_time": "2021-06-11T14:07:35.738Z"
   },
   {
    "duration": 10,
    "start_time": "2021-06-11T14:07:35.755Z"
   },
   {
    "duration": 51,
    "start_time": "2021-06-11T14:07:35.767Z"
   },
   {
    "duration": 302,
    "start_time": "2021-06-11T14:07:35.820Z"
   },
   {
    "duration": 385,
    "start_time": "2021-06-11T14:07:36.124Z"
   },
   {
    "duration": 689,
    "start_time": "2021-06-11T14:07:36.512Z"
   },
   {
    "duration": -9,
    "start_time": "2021-06-11T14:07:37.213Z"
   },
   {
    "duration": -15,
    "start_time": "2021-06-11T14:07:37.220Z"
   },
   {
    "duration": -22,
    "start_time": "2021-06-11T14:07:37.229Z"
   },
   {
    "duration": -46,
    "start_time": "2021-06-11T14:07:37.254Z"
   },
   {
    "duration": -50,
    "start_time": "2021-06-11T14:07:37.260Z"
   },
   {
    "duration": -55,
    "start_time": "2021-06-11T14:07:37.266Z"
   },
   {
    "duration": -61,
    "start_time": "2021-06-11T14:07:37.274Z"
   },
   {
    "duration": -65,
    "start_time": "2021-06-11T14:07:37.280Z"
   },
   {
    "duration": -70,
    "start_time": "2021-06-11T14:07:37.286Z"
   },
   {
    "duration": -73,
    "start_time": "2021-06-11T14:07:37.291Z"
   },
   {
    "duration": -78,
    "start_time": "2021-06-11T14:07:37.297Z"
   },
   {
    "duration": -81,
    "start_time": "2021-06-11T14:07:37.302Z"
   },
   {
    "duration": -87,
    "start_time": "2021-06-11T14:07:37.310Z"
   },
   {
    "duration": -91,
    "start_time": "2021-06-11T14:07:37.315Z"
   },
   {
    "duration": -96,
    "start_time": "2021-06-11T14:07:37.322Z"
   },
   {
    "duration": -100,
    "start_time": "2021-06-11T14:07:37.328Z"
   },
   {
    "duration": 330,
    "start_time": "2021-06-12T10:40:55.385Z"
   },
   {
    "duration": 494,
    "start_time": "2021-06-12T10:41:25.854Z"
   },
   {
    "duration": 1587,
    "start_time": "2021-06-12T10:41:35.893Z"
   },
   {
    "duration": 159,
    "start_time": "2021-06-12T10:41:37.483Z"
   },
   {
    "duration": 1017,
    "start_time": "2021-06-12T10:41:37.645Z"
   },
   {
    "duration": 11,
    "start_time": "2021-06-12T10:41:38.666Z"
   },
   {
    "duration": 3804,
    "start_time": "2021-06-12T10:41:38.680Z"
   },
   {
    "duration": 772,
    "start_time": "2021-06-12T10:41:42.487Z"
   },
   {
    "duration": 11,
    "start_time": "2021-06-12T10:41:43.262Z"
   },
   {
    "duration": 552,
    "start_time": "2021-06-12T10:41:43.277Z"
   },
   {
    "duration": 28,
    "start_time": "2021-06-12T10:41:43.832Z"
   },
   {
    "duration": 644,
    "start_time": "2021-06-12T10:41:43.863Z"
   },
   {
    "duration": 658,
    "start_time": "2021-06-12T10:41:44.510Z"
   },
   {
    "duration": 14,
    "start_time": "2021-06-12T10:41:45.171Z"
   },
   {
    "duration": 3000,
    "start_time": "2021-06-12T10:41:45.188Z"
   },
   {
    "duration": 8,
    "start_time": "2021-06-12T10:41:48.191Z"
   },
   {
    "duration": 7,
    "start_time": "2021-06-12T10:41:48.202Z"
   },
   {
    "duration": 60,
    "start_time": "2021-06-12T10:41:48.212Z"
   },
   {
    "duration": 5,
    "start_time": "2021-06-12T10:41:48.275Z"
   },
   {
    "duration": 9,
    "start_time": "2021-06-12T10:41:48.282Z"
   },
   {
    "duration": 17,
    "start_time": "2021-06-12T10:41:48.293Z"
   },
   {
    "duration": 48,
    "start_time": "2021-06-12T10:41:48.312Z"
   },
   {
    "duration": 512,
    "start_time": "2021-06-12T10:41:48.363Z"
   },
   {
    "duration": 19,
    "start_time": "2021-06-12T10:41:48.878Z"
   },
   {
    "duration": 654,
    "start_time": "2021-06-12T10:41:48.905Z"
   },
   {
    "duration": 12,
    "start_time": "2021-06-12T10:41:49.562Z"
   },
   {
    "duration": 15,
    "start_time": "2021-06-12T10:41:49.577Z"
   },
   {
    "duration": 8,
    "start_time": "2021-06-12T10:41:49.594Z"
   },
   {
    "duration": 729,
    "start_time": "2021-06-12T10:41:49.605Z"
   },
   {
    "duration": 588,
    "start_time": "2021-06-12T10:41:50.337Z"
   },
   {
    "duration": 705,
    "start_time": "2021-06-12T10:41:50.928Z"
   },
   {
    "duration": 543,
    "start_time": "2021-06-12T10:41:51.636Z"
   },
   {
    "duration": 462,
    "start_time": "2021-06-12T10:41:52.182Z"
   },
   {
    "duration": 37,
    "start_time": "2021-06-12T10:41:52.655Z"
   },
   {
    "duration": 17,
    "start_time": "2021-06-12T10:41:52.694Z"
   },
   {
    "duration": 64,
    "start_time": "2021-06-12T10:41:52.714Z"
   },
   {
    "duration": 41,
    "start_time": "2021-06-12T10:41:52.781Z"
   },
   {
    "duration": 34,
    "start_time": "2021-06-12T10:41:52.824Z"
   },
   {
    "duration": 14,
    "start_time": "2021-06-12T10:41:52.861Z"
   },
   {
    "duration": 18,
    "start_time": "2021-06-12T10:41:52.878Z"
   },
   {
    "duration": 64,
    "start_time": "2021-06-12T10:41:52.899Z"
   },
   {
    "duration": 451,
    "start_time": "2021-06-12T10:41:52.967Z"
   },
   {
    "duration": 479,
    "start_time": "2021-06-12T10:41:53.422Z"
   },
   {
    "duration": 537,
    "start_time": "2021-06-12T10:41:53.904Z"
   },
   {
    "duration": -14625,
    "start_time": "2021-06-12T10:42:09.070Z"
   },
   {
    "duration": -14637,
    "start_time": "2021-06-12T10:42:09.084Z"
   },
   {
    "duration": -14648,
    "start_time": "2021-06-12T10:42:09.097Z"
   },
   {
    "duration": -14657,
    "start_time": "2021-06-12T10:42:09.107Z"
   },
   {
    "duration": -14668,
    "start_time": "2021-06-12T10:42:09.119Z"
   },
   {
    "duration": -14677,
    "start_time": "2021-06-12T10:42:09.129Z"
   },
   {
    "duration": -14686,
    "start_time": "2021-06-12T10:42:09.139Z"
   },
   {
    "duration": -14719,
    "start_time": "2021-06-12T10:42:09.174Z"
   },
   {
    "duration": -14735,
    "start_time": "2021-06-12T10:42:09.191Z"
   },
   {
    "duration": -14745,
    "start_time": "2021-06-12T10:42:09.202Z"
   },
   {
    "duration": -14756,
    "start_time": "2021-06-12T10:42:09.214Z"
   },
   {
    "duration": -14765,
    "start_time": "2021-06-12T10:42:09.225Z"
   },
   {
    "duration": -14779,
    "start_time": "2021-06-12T10:42:09.240Z"
   },
   {
    "duration": -14788,
    "start_time": "2021-06-12T10:42:09.251Z"
   },
   {
    "duration": -14801,
    "start_time": "2021-06-12T10:42:09.265Z"
   },
   {
    "duration": -14823,
    "start_time": "2021-06-12T10:42:09.288Z"
   },
   {
    "duration": 11,
    "start_time": "2021-06-12T10:43:01.904Z"
   },
   {
    "duration": 11,
    "start_time": "2021-06-12T10:43:04.147Z"
   },
   {
    "duration": 16,
    "start_time": "2021-06-12T10:43:34.975Z"
   },
   {
    "duration": 12,
    "start_time": "2021-06-12T10:43:37.748Z"
   },
   {
    "duration": 11,
    "start_time": "2021-06-12T10:43:40.047Z"
   },
   {
    "duration": 11,
    "start_time": "2021-06-12T10:43:42.266Z"
   },
   {
    "duration": 11,
    "start_time": "2021-06-12T10:43:44.480Z"
   },
   {
    "duration": 8,
    "start_time": "2021-06-12T10:43:47.456Z"
   },
   {
    "duration": 11,
    "start_time": "2021-06-12T10:43:50.923Z"
   },
   {
    "duration": 399,
    "start_time": "2021-06-12T10:44:00.629Z"
   },
   {
    "duration": 248,
    "start_time": "2021-06-12T10:44:08.129Z"
   },
   {
    "duration": 9,
    "start_time": "2021-06-12T11:47:21.676Z"
   },
   {
    "duration": 777,
    "start_time": "2021-06-12T11:54:36.843Z"
   },
   {
    "duration": 6013,
    "start_time": "2021-06-12T11:55:37.484Z"
   },
   {
    "duration": 3878,
    "start_time": "2021-06-12T11:56:19.573Z"
   },
   {
    "duration": 3732,
    "start_time": "2021-06-12T11:56:31.672Z"
   },
   {
    "duration": 1765,
    "start_time": "2021-07-06T19:20:45.997Z"
   },
   {
    "duration": 182,
    "start_time": "2021-07-06T19:20:51.289Z"
   },
   {
    "duration": 1138,
    "start_time": "2021-07-06T19:21:40.526Z"
   },
   {
    "duration": 4443,
    "start_time": "2021-07-06T19:25:15.736Z"
   },
   {
    "duration": 3992,
    "start_time": "2021-07-06T19:25:30.905Z"
   },
   {
    "duration": 4084,
    "start_time": "2021-07-06T19:26:40.965Z"
   },
   {
    "duration": 3957,
    "start_time": "2021-07-06T19:27:25.294Z"
   },
   {
    "duration": 4259,
    "start_time": "2021-07-06T19:27:49.284Z"
   },
   {
    "duration": 728,
    "start_time": "2021-07-06T19:29:16.957Z"
   },
   {
    "duration": 719,
    "start_time": "2021-07-06T19:29:25.397Z"
   },
   {
    "duration": 492,
    "start_time": "2021-07-06T19:30:07.596Z"
   },
   {
    "duration": 512,
    "start_time": "2021-07-06T19:30:54.845Z"
   },
   {
    "duration": 101,
    "start_time": "2021-07-06T19:31:42.403Z"
   },
   {
    "duration": 735,
    "start_time": "2021-07-06T19:33:27.617Z"
   },
   {
    "duration": 2495,
    "start_time": "2021-07-06T19:34:00.592Z"
   },
   {
    "duration": 359,
    "start_time": "2021-07-06T19:35:37.116Z"
   },
   {
    "duration": 157,
    "start_time": "2021-07-06T19:36:04.545Z"
   },
   {
    "duration": 259,
    "start_time": "2021-07-06T19:36:04.705Z"
   },
   {
    "duration": 1301,
    "start_time": "2021-07-06T19:36:04.969Z"
   },
   {
    "duration": 24,
    "start_time": "2021-07-06T19:36:06.274Z"
   },
   {
    "duration": 4272,
    "start_time": "2021-07-06T19:36:06.304Z"
   },
   {
    "duration": 758,
    "start_time": "2021-07-06T19:36:10.587Z"
   },
   {
    "duration": 11,
    "start_time": "2021-07-06T19:36:11.347Z"
   },
   {
    "duration": 517,
    "start_time": "2021-07-06T19:36:11.362Z"
   },
   {
    "duration": 17,
    "start_time": "2021-07-06T19:36:11.887Z"
   },
   {
    "duration": 516,
    "start_time": "2021-07-06T19:36:11.907Z"
   },
   {
    "duration": 735,
    "start_time": "2021-07-06T19:36:12.426Z"
   },
   {
    "duration": 26,
    "start_time": "2021-07-06T19:36:13.164Z"
   },
   {
    "duration": 2136,
    "start_time": "2021-07-06T19:36:13.193Z"
   },
   {
    "duration": 6,
    "start_time": "2021-07-06T19:36:15.332Z"
   },
   {
    "duration": 11,
    "start_time": "2021-07-06T19:36:15.340Z"
   },
   {
    "duration": 44,
    "start_time": "2021-07-06T19:36:15.354Z"
   },
   {
    "duration": 7,
    "start_time": "2021-07-06T19:36:15.401Z"
   },
   {
    "duration": 9,
    "start_time": "2021-07-06T19:36:15.410Z"
   },
   {
    "duration": 19,
    "start_time": "2021-07-06T19:36:15.421Z"
   },
   {
    "duration": 6,
    "start_time": "2021-07-06T19:36:15.442Z"
   },
   {
    "duration": 449,
    "start_time": "2021-07-06T19:36:15.486Z"
   },
   {
    "duration": 18,
    "start_time": "2021-07-06T19:36:15.937Z"
   },
   {
    "duration": 426,
    "start_time": "2021-07-06T19:36:15.960Z"
   },
   {
    "duration": 13,
    "start_time": "2021-07-06T19:36:16.389Z"
   },
   {
    "duration": 30,
    "start_time": "2021-07-06T19:36:16.404Z"
   },
   {
    "duration": 5,
    "start_time": "2021-07-06T19:36:16.436Z"
   },
   {
    "duration": 897,
    "start_time": "2021-07-06T19:36:16.443Z"
   },
   {
    "duration": 614,
    "start_time": "2021-07-06T19:36:17.343Z"
   },
   {
    "duration": 764,
    "start_time": "2021-07-06T19:36:17.959Z"
   },
   {
    "duration": 590,
    "start_time": "2021-07-06T19:36:18.725Z"
   },
   {
    "duration": 910,
    "start_time": "2021-07-06T19:36:19.317Z"
   },
   {
    "duration": 37,
    "start_time": "2021-07-06T19:36:20.230Z"
   },
   {
    "duration": 20,
    "start_time": "2021-07-06T19:36:20.286Z"
   },
   {
    "duration": 38,
    "start_time": "2021-07-06T19:36:20.309Z"
   },
   {
    "duration": 75,
    "start_time": "2021-07-06T19:36:20.349Z"
   },
   {
    "duration": 7,
    "start_time": "2021-07-06T19:36:20.426Z"
   },
   {
    "duration": 13,
    "start_time": "2021-07-06T19:36:20.436Z"
   },
   {
    "duration": 37,
    "start_time": "2021-07-06T19:36:20.451Z"
   },
   {
    "duration": 26,
    "start_time": "2021-07-06T19:36:20.491Z"
   },
   {
    "duration": 340,
    "start_time": "2021-07-06T19:36:20.520Z"
   },
   {
    "duration": 323,
    "start_time": "2021-07-06T19:36:20.863Z"
   },
   {
    "duration": 20,
    "start_time": "2021-07-06T19:36:21.190Z"
   },
   {
    "duration": 10,
    "start_time": "2021-07-06T19:36:21.213Z"
   },
   {
    "duration": 11,
    "start_time": "2021-07-06T19:36:21.225Z"
   },
   {
    "duration": 56,
    "start_time": "2021-07-06T19:36:21.239Z"
   },
   {
    "duration": 15,
    "start_time": "2021-07-06T19:36:21.298Z"
   },
   {
    "duration": 9,
    "start_time": "2021-07-06T19:36:21.317Z"
   },
   {
    "duration": 13,
    "start_time": "2021-07-06T19:36:21.328Z"
   },
   {
    "duration": 312,
    "start_time": "2021-07-06T19:36:21.343Z"
   },
   {
    "duration": 95348,
    "start_time": "2021-07-06T19:34:46.310Z"
   },
   {
    "duration": 95344,
    "start_time": "2021-07-06T19:34:46.315Z"
   },
   {
    "duration": 95343,
    "start_time": "2021-07-06T19:34:46.318Z"
   },
   {
    "duration": 95341,
    "start_time": "2021-07-06T19:34:46.321Z"
   },
   {
    "duration": 95341,
    "start_time": "2021-07-06T19:34:46.323Z"
   },
   {
    "duration": 95337,
    "start_time": "2021-07-06T19:34:46.328Z"
   },
   {
    "duration": 95335,
    "start_time": "2021-07-06T19:34:46.332Z"
   },
   {
    "duration": 95334,
    "start_time": "2021-07-06T19:34:46.334Z"
   },
   {
    "duration": 95332,
    "start_time": "2021-07-06T19:34:46.337Z"
   },
   {
    "duration": 473,
    "start_time": "2021-07-06T19:37:01.686Z"
   },
   {
    "duration": 13462,
    "start_time": "2021-07-06T19:41:41.538Z"
   },
   {
    "duration": 2583,
    "start_time": "2021-07-06T19:42:42.157Z"
   },
   {
    "duration": 17,
    "start_time": "2021-07-06T19:43:13.925Z"
   },
   {
    "duration": 13865,
    "start_time": "2021-07-06T19:43:33.213Z"
   },
   {
    "duration": 10,
    "start_time": "2021-07-06T19:49:50.451Z"
   },
   {
    "duration": 11,
    "start_time": "2021-07-06T19:49:55.536Z"
   },
   {
    "duration": 314,
    "start_time": "2021-07-06T19:50:10.457Z"
   },
   {
    "duration": 15,
    "start_time": "2021-07-06T19:50:20.713Z"
   },
   {
    "duration": 345,
    "start_time": "2021-07-06T19:50:23.366Z"
   },
   {
    "duration": 7,
    "start_time": "2021-07-06T19:50:38.352Z"
   },
   {
    "duration": 277,
    "start_time": "2021-07-06T19:51:09.202Z"
   },
   {
    "duration": 11,
    "start_time": "2021-07-06T19:51:55.636Z"
   },
   {
    "duration": 311,
    "start_time": "2021-07-06T19:52:55.946Z"
   },
   {
    "duration": 273,
    "start_time": "2021-07-06T19:53:07.648Z"
   },
   {
    "duration": 279,
    "start_time": "2021-07-06T19:53:19.717Z"
   },
   {
    "duration": 14,
    "start_time": "2021-07-06T19:53:22.458Z"
   },
   {
    "duration": 331,
    "start_time": "2021-07-06T19:53:31.719Z"
   },
   {
    "duration": 134,
    "start_time": "2021-07-06T19:53:46.262Z"
   },
   {
    "duration": 231,
    "start_time": "2021-07-06T19:53:46.400Z"
   },
   {
    "duration": 1097,
    "start_time": "2021-07-06T19:53:46.635Z"
   },
   {
    "duration": 13,
    "start_time": "2021-07-06T19:53:47.736Z"
   },
   {
    "duration": 4035,
    "start_time": "2021-07-06T19:53:47.752Z"
   },
   {
    "duration": 699,
    "start_time": "2021-07-06T19:53:51.790Z"
   },
   {
    "duration": 14,
    "start_time": "2021-07-06T19:53:52.492Z"
   },
   {
    "duration": 499,
    "start_time": "2021-07-06T19:53:52.511Z"
   },
   {
    "duration": 14,
    "start_time": "2021-07-06T19:53:53.014Z"
   },
   {
    "duration": 486,
    "start_time": "2021-07-06T19:53:53.031Z"
   },
   {
    "duration": 704,
    "start_time": "2021-07-06T19:53:53.520Z"
   },
   {
    "duration": 11,
    "start_time": "2021-07-06T19:53:54.227Z"
   },
   {
    "duration": 2031,
    "start_time": "2021-07-06T19:53:54.241Z"
   },
   {
    "duration": 12,
    "start_time": "2021-07-06T19:53:56.275Z"
   },
   {
    "duration": 17,
    "start_time": "2021-07-06T19:53:56.289Z"
   },
   {
    "duration": 20,
    "start_time": "2021-07-06T19:53:56.308Z"
   },
   {
    "duration": 6,
    "start_time": "2021-07-06T19:53:56.330Z"
   },
   {
    "duration": 12,
    "start_time": "2021-07-06T19:53:56.338Z"
   },
   {
    "duration": 48,
    "start_time": "2021-07-06T19:53:56.352Z"
   },
   {
    "duration": 7,
    "start_time": "2021-07-06T19:53:56.403Z"
   },
   {
    "duration": 437,
    "start_time": "2021-07-06T19:53:56.412Z"
   },
   {
    "duration": 19,
    "start_time": "2021-07-06T19:53:56.851Z"
   },
   {
    "duration": 410,
    "start_time": "2021-07-06T19:53:56.891Z"
   },
   {
    "duration": 12,
    "start_time": "2021-07-06T19:53:57.305Z"
   },
   {
    "duration": 16,
    "start_time": "2021-07-06T19:53:57.319Z"
   },
   {
    "duration": 6,
    "start_time": "2021-07-06T19:53:57.338Z"
   },
   {
    "duration": 76,
    "start_time": "2021-07-06T19:53:57.346Z"
   },
   {
    "duration": 13380,
    "start_time": "2021-07-06T19:53:57.425Z"
   },
   {
    "duration": 584,
    "start_time": "2021-07-06T19:54:10.808Z"
   },
   {
    "duration": 748,
    "start_time": "2021-07-06T19:54:11.395Z"
   },
   {
    "duration": 619,
    "start_time": "2021-07-06T19:54:12.145Z"
   },
   {
    "duration": 481,
    "start_time": "2021-07-06T19:54:12.789Z"
   },
   {
    "duration": 47,
    "start_time": "2021-07-06T19:54:13.273Z"
   },
   {
    "duration": 18,
    "start_time": "2021-07-06T19:54:13.322Z"
   },
   {
    "duration": 66,
    "start_time": "2021-07-06T19:54:13.342Z"
   },
   {
    "duration": 42,
    "start_time": "2021-07-06T19:54:13.411Z"
   },
   {
    "duration": 7,
    "start_time": "2021-07-06T19:54:13.456Z"
   },
   {
    "duration": 11,
    "start_time": "2021-07-06T19:54:13.486Z"
   },
   {
    "duration": 11,
    "start_time": "2021-07-06T19:54:13.500Z"
   },
   {
    "duration": 22,
    "start_time": "2021-07-06T19:54:13.513Z"
   },
   {
    "duration": 327,
    "start_time": "2021-07-06T19:54:13.538Z"
   },
   {
    "duration": 332,
    "start_time": "2021-07-06T19:54:13.867Z"
   },
   {
    "duration": 18,
    "start_time": "2021-07-06T19:54:14.201Z"
   },
   {
    "duration": 12,
    "start_time": "2021-07-06T19:54:14.221Z"
   },
   {
    "duration": 11,
    "start_time": "2021-07-06T19:54:14.235Z"
   },
   {
    "duration": 47,
    "start_time": "2021-07-06T19:54:14.248Z"
   },
   {
    "duration": 13,
    "start_time": "2021-07-06T19:54:14.298Z"
   },
   {
    "duration": 10,
    "start_time": "2021-07-06T19:54:14.314Z"
   },
   {
    "duration": 14,
    "start_time": "2021-07-06T19:54:14.327Z"
   },
   {
    "duration": 334,
    "start_time": "2021-07-06T19:54:14.386Z"
   },
   {
    "duration": 14,
    "start_time": "2021-07-06T19:54:14.722Z"
   },
   {
    "duration": 10,
    "start_time": "2021-07-06T19:54:14.738Z"
   },
   {
    "duration": 369,
    "start_time": "2021-07-06T19:54:14.751Z"
   },
   {
    "duration": 11,
    "start_time": "2021-07-06T19:54:15.122Z"
   },
   {
    "duration": 329,
    "start_time": "2021-07-06T19:54:15.135Z"
   },
   {
    "duration": 286,
    "start_time": "2021-07-06T19:54:15.468Z"
   },
   {
    "duration": 337,
    "start_time": "2021-07-06T19:54:15.756Z"
   },
   {
    "duration": 13,
    "start_time": "2021-07-06T19:54:16.095Z"
   },
   {
    "duration": 385,
    "start_time": "2021-07-06T19:54:16.111Z"
   },
   {
    "duration": 2189,
    "start_time": "2021-07-07T18:09:53.746Z"
   },
   {
    "duration": 249,
    "start_time": "2021-07-07T18:09:55.939Z"
   },
   {
    "duration": 1829,
    "start_time": "2021-07-07T18:09:56.196Z"
   },
   {
    "duration": 14,
    "start_time": "2021-07-07T18:09:58.028Z"
   },
   {
    "duration": 3733,
    "start_time": "2021-07-07T18:09:58.045Z"
   },
   {
    "duration": 712,
    "start_time": "2021-07-07T18:10:01.781Z"
   },
   {
    "duration": 11,
    "start_time": "2021-07-07T18:10:02.497Z"
   },
   {
    "duration": 489,
    "start_time": "2021-07-07T18:10:02.511Z"
   },
   {
    "duration": 11,
    "start_time": "2021-07-07T18:10:03.003Z"
   },
   {
    "duration": 576,
    "start_time": "2021-07-07T18:10:03.016Z"
   },
   {
    "duration": 1140,
    "start_time": "2021-07-07T18:10:03.594Z"
   },
   {
    "duration": 12,
    "start_time": "2021-07-07T18:10:04.737Z"
   },
   {
    "duration": 2038,
    "start_time": "2021-07-07T18:10:04.767Z"
   },
   {
    "duration": 7,
    "start_time": "2021-07-07T18:10:06.808Z"
   },
   {
    "duration": 8,
    "start_time": "2021-07-07T18:10:06.817Z"
   },
   {
    "duration": 56,
    "start_time": "2021-07-07T18:10:06.828Z"
   },
   {
    "duration": 6,
    "start_time": "2021-07-07T18:10:06.887Z"
   },
   {
    "duration": 11,
    "start_time": "2021-07-07T18:10:06.896Z"
   },
   {
    "duration": 20,
    "start_time": "2021-07-07T18:10:06.909Z"
   },
   {
    "duration": 7,
    "start_time": "2021-07-07T18:10:06.931Z"
   },
   {
    "duration": 467,
    "start_time": "2021-07-07T18:10:06.940Z"
   },
   {
    "duration": 19,
    "start_time": "2021-07-07T18:10:07.413Z"
   },
   {
    "duration": 553,
    "start_time": "2021-07-07T18:10:07.435Z"
   },
   {
    "duration": 12,
    "start_time": "2021-07-07T18:10:07.991Z"
   },
   {
    "duration": 16,
    "start_time": "2021-07-07T18:10:08.006Z"
   },
   {
    "duration": 6,
    "start_time": "2021-07-07T18:10:08.024Z"
   },
   {
    "duration": 1074,
    "start_time": "2021-07-07T18:10:08.068Z"
   },
   {
    "duration": 13450,
    "start_time": "2021-07-07T18:10:09.144Z"
   },
   {
    "duration": 774,
    "start_time": "2021-07-07T18:10:22.596Z"
   },
   {
    "duration": 830,
    "start_time": "2021-07-07T18:10:23.372Z"
   },
   {
    "duration": 757,
    "start_time": "2021-07-07T18:10:24.205Z"
   },
   {
    "duration": 494,
    "start_time": "2021-07-07T18:10:24.968Z"
   },
   {
    "duration": 40,
    "start_time": "2021-07-07T18:10:25.468Z"
   },
   {
    "duration": 16,
    "start_time": "2021-07-07T18:10:25.511Z"
   },
   {
    "duration": 72,
    "start_time": "2021-07-07T18:10:25.530Z"
   },
   {
    "duration": 66,
    "start_time": "2021-07-07T18:10:25.605Z"
   },
   {
    "duration": 8,
    "start_time": "2021-07-07T18:10:25.675Z"
   },
   {
    "duration": 14,
    "start_time": "2021-07-07T18:10:25.686Z"
   },
   {
    "duration": 10,
    "start_time": "2021-07-07T18:10:25.703Z"
   },
   {
    "duration": 63,
    "start_time": "2021-07-07T18:10:25.715Z"
   },
   {
    "duration": 413,
    "start_time": "2021-07-07T18:10:25.780Z"
   },
   {
    "duration": 446,
    "start_time": "2021-07-07T18:10:26.196Z"
   },
   {
    "duration": 32,
    "start_time": "2021-07-07T18:10:26.644Z"
   },
   {
    "duration": 13,
    "start_time": "2021-07-07T18:10:26.679Z"
   },
   {
    "duration": 13,
    "start_time": "2021-07-07T18:10:26.695Z"
   },
   {
    "duration": 11,
    "start_time": "2021-07-07T18:10:26.711Z"
   },
   {
    "duration": 48,
    "start_time": "2021-07-07T18:10:26.725Z"
   },
   {
    "duration": 8,
    "start_time": "2021-07-07T18:10:26.775Z"
   },
   {
    "duration": 10,
    "start_time": "2021-07-07T18:10:26.786Z"
   },
   {
    "duration": 339,
    "start_time": "2021-07-07T18:10:26.799Z"
   },
   {
    "duration": 14,
    "start_time": "2021-07-07T18:10:27.141Z"
   },
   {
    "duration": 15,
    "start_time": "2021-07-07T18:10:27.158Z"
   },
   {
    "duration": 292,
    "start_time": "2021-07-07T18:10:27.175Z"
   },
   {
    "duration": 11,
    "start_time": "2021-07-07T18:10:27.469Z"
   },
   {
    "duration": 322,
    "start_time": "2021-07-07T18:10:27.483Z"
   },
   {
    "duration": 298,
    "start_time": "2021-07-07T18:10:27.808Z"
   },
   {
    "duration": 295,
    "start_time": "2021-07-07T18:10:28.109Z"
   },
   {
    "duration": 12,
    "start_time": "2021-07-07T18:10:28.407Z"
   },
   {
    "duration": 351,
    "start_time": "2021-07-07T18:10:28.421Z"
   },
   {
    "duration": 219,
    "start_time": "2021-07-08T15:10:37.943Z"
   },
   {
    "duration": 1133,
    "start_time": "2021-07-08T15:10:51.042Z"
   },
   {
    "duration": 104,
    "start_time": "2021-07-08T15:10:52.177Z"
   },
   {
    "duration": 616,
    "start_time": "2021-07-08T15:10:52.284Z"
   },
   {
    "duration": 7,
    "start_time": "2021-07-08T15:10:52.902Z"
   },
   {
    "duration": 2179,
    "start_time": "2021-07-08T15:10:52.911Z"
   },
   {
    "duration": 406,
    "start_time": "2021-07-08T15:10:55.092Z"
   },
   {
    "duration": 8,
    "start_time": "2021-07-08T15:10:55.500Z"
   },
   {
    "duration": 294,
    "start_time": "2021-07-08T15:10:55.510Z"
   },
   {
    "duration": 9,
    "start_time": "2021-07-08T15:10:55.806Z"
   },
   {
    "duration": 411,
    "start_time": "2021-07-08T15:10:55.817Z"
   },
   {
    "duration": 433,
    "start_time": "2021-07-08T15:10:56.230Z"
   },
   {
    "duration": 19,
    "start_time": "2021-07-08T15:10:56.665Z"
   },
   {
    "duration": 1196,
    "start_time": "2021-07-08T15:10:56.686Z"
   },
   {
    "duration": 5,
    "start_time": "2021-07-08T15:10:57.885Z"
   },
   {
    "duration": 6,
    "start_time": "2021-07-08T15:10:57.892Z"
   },
   {
    "duration": 14,
    "start_time": "2021-07-08T15:10:57.900Z"
   },
   {
    "duration": 4,
    "start_time": "2021-07-08T15:10:57.916Z"
   },
   {
    "duration": 10,
    "start_time": "2021-07-08T15:10:57.922Z"
   },
   {
    "duration": 51,
    "start_time": "2021-07-08T15:10:57.934Z"
   },
   {
    "duration": 6,
    "start_time": "2021-07-08T15:10:57.986Z"
   },
   {
    "duration": 266,
    "start_time": "2021-07-08T15:10:57.994Z"
   },
   {
    "duration": 23,
    "start_time": "2021-07-08T15:10:58.262Z"
   },
   {
    "duration": 367,
    "start_time": "2021-07-08T15:10:58.289Z"
   },
   {
    "duration": 10,
    "start_time": "2021-07-08T15:10:58.659Z"
   },
   {
    "duration": 25,
    "start_time": "2021-07-08T15:10:58.671Z"
   },
   {
    "duration": 5,
    "start_time": "2021-07-08T15:10:58.698Z"
   },
   {
    "duration": 288,
    "start_time": "2021-07-08T15:10:58.705Z"
   },
   {
    "duration": 8343,
    "start_time": "2021-07-08T15:10:58.995Z"
   },
   {
    "duration": 358,
    "start_time": "2021-07-08T15:11:07.340Z"
   },
   {
    "duration": 437,
    "start_time": "2021-07-08T15:11:07.700Z"
   },
   {
    "duration": 353,
    "start_time": "2021-07-08T15:11:08.139Z"
   },
   {
    "duration": 283,
    "start_time": "2021-07-08T15:11:08.493Z"
   },
   {
    "duration": 30,
    "start_time": "2021-07-08T15:11:08.777Z"
   },
   {
    "duration": 11,
    "start_time": "2021-07-08T15:11:08.808Z"
   },
   {
    "duration": 24,
    "start_time": "2021-07-08T15:11:08.820Z"
   },
   {
    "duration": 52,
    "start_time": "2021-07-08T15:11:08.846Z"
   },
   {
    "duration": 5,
    "start_time": "2021-07-08T15:11:08.900Z"
   },
   {
    "duration": 9,
    "start_time": "2021-07-08T15:11:08.906Z"
   },
   {
    "duration": 7,
    "start_time": "2021-07-08T15:11:08.917Z"
   },
   {
    "duration": 13,
    "start_time": "2021-07-08T15:11:08.925Z"
   },
   {
    "duration": 203,
    "start_time": "2021-07-08T15:11:08.939Z"
   },
   {
    "duration": 204,
    "start_time": "2021-07-08T15:11:09.144Z"
   },
   {
    "duration": 12,
    "start_time": "2021-07-08T15:11:09.349Z"
   },
   {
    "duration": 7,
    "start_time": "2021-07-08T15:11:09.363Z"
   },
   {
    "duration": 8,
    "start_time": "2021-07-08T15:11:09.385Z"
   },
   {
    "duration": 7,
    "start_time": "2021-07-08T15:11:09.395Z"
   },
   {
    "duration": 8,
    "start_time": "2021-07-08T15:11:09.404Z"
   },
   {
    "duration": 6,
    "start_time": "2021-07-08T15:11:09.414Z"
   },
   {
    "duration": 9,
    "start_time": "2021-07-08T15:11:09.422Z"
   },
   {
    "duration": 240,
    "start_time": "2021-07-08T15:11:09.432Z"
   },
   {
    "duration": 17,
    "start_time": "2021-07-08T15:11:09.674Z"
   },
   {
    "duration": 5,
    "start_time": "2021-07-08T15:11:09.693Z"
   },
   {
    "duration": 190,
    "start_time": "2021-07-08T15:11:09.702Z"
   },
   {
    "duration": 8,
    "start_time": "2021-07-08T15:11:09.894Z"
   },
   {
    "duration": 198,
    "start_time": "2021-07-08T15:11:09.903Z"
   },
   {
    "duration": 177,
    "start_time": "2021-07-08T15:11:10.103Z"
   },
   {
    "duration": 179,
    "start_time": "2021-07-08T15:11:10.281Z"
   },
   {
    "duration": 9,
    "start_time": "2021-07-08T15:11:10.462Z"
   },
   {
    "duration": 223,
    "start_time": "2021-07-08T15:11:10.473Z"
   },
   {
    "duration": 357,
    "start_time": "2021-07-08T15:11:54.164Z"
   },
   {
    "duration": 352,
    "start_time": "2021-07-08T15:12:00.019Z"
   },
   {
    "duration": 349,
    "start_time": "2021-07-08T15:12:03.721Z"
   },
   {
    "duration": 268,
    "start_time": "2021-07-08T15:12:45.263Z"
   },
   {
    "duration": 273,
    "start_time": "2021-07-08T15:12:50.374Z"
   },
   {
    "duration": 614,
    "start_time": "2021-07-08T15:12:55.455Z"
   },
   {
    "duration": 1153,
    "start_time": "2021-07-08T15:12:59.110Z"
   },
   {
    "duration": 273,
    "start_time": "2021-07-08T15:13:04.918Z"
   },
   {
    "duration": 250,
    "start_time": "2021-07-08T15:13:08.574Z"
   },
   {
    "duration": 12,
    "start_time": "2021-07-08T15:17:06.615Z"
   },
   {
    "duration": 8,
    "start_time": "2021-07-08T15:17:50.006Z"
   },
   {
    "duration": 164,
    "start_time": "2021-07-08T15:18:23.099Z"
   },
   {
    "duration": 82,
    "start_time": "2021-07-08T15:19:06.390Z"
   },
   {
    "duration": 140,
    "start_time": "2021-07-08T15:19:06.474Z"
   },
   {
    "duration": 624,
    "start_time": "2021-07-08T15:19:06.616Z"
   },
   {
    "duration": 9,
    "start_time": "2021-07-08T15:19:07.242Z"
   },
   {
    "duration": 2347,
    "start_time": "2021-07-08T15:19:07.253Z"
   },
   {
    "duration": 427,
    "start_time": "2021-07-08T15:19:09.601Z"
   },
   {
    "duration": 9,
    "start_time": "2021-07-08T15:19:10.029Z"
   },
   {
    "duration": 291,
    "start_time": "2021-07-08T15:19:10.040Z"
   },
   {
    "duration": 9,
    "start_time": "2021-07-08T15:19:10.333Z"
   },
   {
    "duration": 299,
    "start_time": "2021-07-08T15:19:10.343Z"
   },
   {
    "duration": 423,
    "start_time": "2021-07-08T15:19:10.644Z"
   },
   {
    "duration": 17,
    "start_time": "2021-07-08T15:19:11.068Z"
   },
   {
    "duration": 1404,
    "start_time": "2021-07-08T15:19:11.087Z"
   },
   {
    "duration": 4,
    "start_time": "2021-07-08T15:19:12.493Z"
   },
   {
    "duration": 4,
    "start_time": "2021-07-08T15:19:12.499Z"
   },
   {
    "duration": 11,
    "start_time": "2021-07-08T15:19:12.505Z"
   },
   {
    "duration": 3,
    "start_time": "2021-07-08T15:19:12.518Z"
   },
   {
    "duration": 6,
    "start_time": "2021-07-08T15:19:12.523Z"
   },
   {
    "duration": 11,
    "start_time": "2021-07-08T15:19:12.530Z"
   },
   {
    "duration": 4,
    "start_time": "2021-07-08T15:19:12.543Z"
   },
   {
    "duration": 298,
    "start_time": "2021-07-08T15:19:12.549Z"
   },
   {
    "duration": 12,
    "start_time": "2021-07-08T15:19:12.849Z"
   },
   {
    "duration": 255,
    "start_time": "2021-07-08T15:19:12.865Z"
   },
   {
    "duration": 9,
    "start_time": "2021-07-08T15:19:13.122Z"
   },
   {
    "duration": 11,
    "start_time": "2021-07-08T15:19:13.132Z"
   },
   {
    "duration": 3,
    "start_time": "2021-07-08T15:19:13.144Z"
   },
   {
    "duration": 45,
    "start_time": "2021-07-08T15:19:13.149Z"
   },
   {
    "duration": 1657,
    "start_time": "2021-07-10T12:45:07.041Z"
   },
   {
    "duration": 175,
    "start_time": "2021-07-10T12:45:08.701Z"
   },
   {
    "duration": 1066,
    "start_time": "2021-07-10T12:45:08.879Z"
   },
   {
    "duration": 12,
    "start_time": "2021-07-10T12:45:09.948Z"
   },
   {
    "duration": 3627,
    "start_time": "2021-07-10T12:45:09.962Z"
   },
   {
    "duration": 686,
    "start_time": "2021-07-10T12:45:13.592Z"
   },
   {
    "duration": 20,
    "start_time": "2021-07-10T12:45:14.281Z"
   },
   {
    "duration": 442,
    "start_time": "2021-07-10T12:45:14.305Z"
   },
   {
    "duration": 12,
    "start_time": "2021-07-10T12:45:14.750Z"
   },
   {
    "duration": 567,
    "start_time": "2021-07-10T12:45:14.764Z"
   },
   {
    "duration": 674,
    "start_time": "2021-07-10T12:45:15.333Z"
   },
   {
    "duration": 12,
    "start_time": "2021-07-10T12:45:16.009Z"
   },
   {
    "duration": 1955,
    "start_time": "2021-07-10T12:45:16.023Z"
   },
   {
    "duration": 6,
    "start_time": "2021-07-10T12:45:17.981Z"
   },
   {
    "duration": 7,
    "start_time": "2021-07-10T12:45:18.000Z"
   },
   {
    "duration": 19,
    "start_time": "2021-07-10T12:45:18.009Z"
   },
   {
    "duration": 6,
    "start_time": "2021-07-10T12:45:18.030Z"
   },
   {
    "duration": 9,
    "start_time": "2021-07-10T12:45:18.038Z"
   },
   {
    "duration": 65,
    "start_time": "2021-07-10T12:45:18.049Z"
   },
   {
    "duration": 7,
    "start_time": "2021-07-10T12:45:18.116Z"
   },
   {
    "duration": 416,
    "start_time": "2021-07-10T12:45:18.126Z"
   },
   {
    "duration": 18,
    "start_time": "2021-07-10T12:45:18.545Z"
   },
   {
    "duration": 545,
    "start_time": "2021-07-10T12:45:18.569Z"
   },
   {
    "duration": 11,
    "start_time": "2021-07-10T12:45:19.117Z"
   },
   {
    "duration": 14,
    "start_time": "2021-07-10T12:45:19.130Z"
   },
   {
    "duration": 5,
    "start_time": "2021-07-10T12:45:19.147Z"
   },
   {
    "duration": 663,
    "start_time": "2021-07-10T12:45:19.154Z"
   },
   {
    "duration": 13446,
    "start_time": "2021-07-10T12:45:19.820Z"
   },
   {
    "duration": 566,
    "start_time": "2021-07-10T12:45:33.268Z"
   },
   {
    "duration": 708,
    "start_time": "2021-07-10T12:45:33.836Z"
   },
   {
    "duration": 529,
    "start_time": "2021-07-10T12:45:34.546Z"
   },
   {
    "duration": 442,
    "start_time": "2021-07-10T12:45:35.077Z"
   },
   {
    "duration": 38,
    "start_time": "2021-07-10T12:45:35.521Z"
   },
   {
    "duration": 41,
    "start_time": "2021-07-10T12:45:35.561Z"
   },
   {
    "duration": 36,
    "start_time": "2021-07-10T12:45:35.604Z"
   },
   {
    "duration": 63,
    "start_time": "2021-07-10T12:45:35.642Z"
   },
   {
    "duration": 7,
    "start_time": "2021-07-10T12:45:35.708Z"
   },
   {
    "duration": 13,
    "start_time": "2021-07-10T12:45:35.717Z"
   },
   {
    "duration": 10,
    "start_time": "2021-07-10T12:45:35.732Z"
   },
   {
    "duration": 57,
    "start_time": "2021-07-10T12:45:35.745Z"
   },
   {
    "duration": 299,
    "start_time": "2021-07-10T12:45:35.805Z"
   },
   {
    "duration": 403,
    "start_time": "2021-07-10T12:45:36.107Z"
   },
   {
    "duration": 19,
    "start_time": "2021-07-10T12:45:36.512Z"
   },
   {
    "duration": 10,
    "start_time": "2021-07-10T12:45:36.534Z"
   },
   {
    "duration": 13,
    "start_time": "2021-07-10T12:45:36.546Z"
   },
   {
    "duration": 44,
    "start_time": "2021-07-10T12:45:36.562Z"
   },
   {
    "duration": 10,
    "start_time": "2021-07-10T12:45:36.609Z"
   },
   {
    "duration": 11,
    "start_time": "2021-07-10T12:45:36.622Z"
   },
   {
    "duration": 342,
    "start_time": "2021-07-10T12:45:36.636Z"
   },
   {
    "duration": 22,
    "start_time": "2021-07-10T12:45:36.980Z"
   },
   {
    "duration": 9,
    "start_time": "2021-07-10T12:45:37.004Z"
   },
   {
    "duration": 287,
    "start_time": "2021-07-10T12:45:37.016Z"
   },
   {
    "duration": 10,
    "start_time": "2021-07-10T12:45:37.305Z"
   },
   {
    "duration": 311,
    "start_time": "2021-07-10T12:45:37.318Z"
   },
   {
    "duration": 288,
    "start_time": "2021-07-10T12:45:37.632Z"
   },
   {
    "duration": 295,
    "start_time": "2021-07-10T12:45:37.922Z"
   },
   {
    "duration": 14,
    "start_time": "2021-07-10T12:45:38.219Z"
   },
   {
    "duration": 350,
    "start_time": "2021-07-10T12:45:38.236Z"
   },
   {
    "duration": 8,
    "start_time": "2021-07-10T12:48:42.740Z"
   },
   {
    "duration": 7,
    "start_time": "2021-07-10T12:50:38.517Z"
   },
   {
    "duration": 1289,
    "start_time": "2021-07-10T12:51:14.637Z"
   },
   {
    "duration": 7,
    "start_time": "2021-07-10T12:51:38.669Z"
   }
  ],
  "kernelspec": {
   "display_name": "Python 3 (ipykernel)",
   "language": "python",
   "name": "python3"
  },
  "language_info": {
   "codemirror_mode": {
    "name": "ipython",
    "version": 3
   },
   "file_extension": ".py",
   "mimetype": "text/x-python",
   "name": "python",
   "nbconvert_exporter": "python",
   "pygments_lexer": "ipython3",
   "version": "3.9.10"
  },
  "toc": {
   "base_numbering": 1,
   "nav_menu": {},
   "number_sections": true,
   "sideBar": true,
   "skip_h1_title": true,
   "title_cell": "Содержание",
   "title_sidebar": "Contents",
   "toc_cell": true,
   "toc_position": {
    "height": "calc(100% - 180px)",
    "left": "10px",
    "top": "150px",
    "width": "165px"
   },
   "toc_section_display": true,
   "toc_window_display": false
  }
 },
 "nbformat": 4,
 "nbformat_minor": 2
}
