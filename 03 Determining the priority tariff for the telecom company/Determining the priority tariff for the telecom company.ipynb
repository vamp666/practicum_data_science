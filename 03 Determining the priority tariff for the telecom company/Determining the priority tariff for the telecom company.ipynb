{
 "cells": [
  {
   "cell_type": "markdown",
   "metadata": {},
   "source": [
    "# Determining the priority tariff for the telecom company"
   ]
  },
  {
   "cell_type": "markdown",
   "metadata": {},
   "source": [
    "I have at my disposal the data of the Megaline telecom company - quite complete and comprehensive information about calls made, messages sent, traffic used, as well as some data about specific users and the tariffs available to them.\n",
    "\n",
    "Based on the provided dataframes, it is necessary to describe the behavior of clients of different tariff plans, find out what tariff limits for a month will be considered sufficient, calculate the average, standard deviation and variance for these indicators. After that, it is necessary to test the hypotheses about the equality of the amounts paid by users of different tariffs, and about the equality of income from customers from Moscow and other regions."
   ]
  },
  {
   "cell_type": "markdown",
   "metadata": {},
   "source": [
    "## Download the required libraries and research the data"
   ]
  },
  {
   "cell_type": "code",
   "execution_count": 2,
   "metadata": {},
   "outputs": [],
   "source": [
    "import pandas as pd\n",
    "pd.set_option('display.float_format', '{:,.2f}'.format)\n",
    "import numpy as np\n",
    "import seaborn as sns\n",
    "sns.set(color_codes=True)\n",
    "from scipy import stats as st\n",
    "import math as mt\n",
    "import datetime as dt \n",
    "import matplotlib.pyplot as plt\n",
    "from functools import reduce\n",
    "idx = pd.IndexSlice\n",
    "\n",
    "#required libraries loaded"
   ]
  },
  {
   "cell_type": "markdown",
   "metadata": {},
   "source": [
    "### Loading datasets"
   ]
  },
  {
   "cell_type": "markdown",
   "metadata": {},
   "source": [
    "#### Calls"
   ]
  },
  {
   "cell_type": "code",
   "execution_count": 3,
   "metadata": {},
   "outputs": [
    {
     "name": "stdout",
     "output_type": "stream",
     "text": [
      "<class 'pandas.core.frame.DataFrame'>\n",
      "RangeIndex: 202607 entries, 0 to 202606\n",
      "Data columns (total 4 columns):\n",
      "id           202607 non-null object\n",
      "call_date    202607 non-null object\n",
      "duration     202607 non-null float64\n",
      "user_id      202607 non-null int64\n",
      "dtypes: float64(1), int64(1), object(2)\n",
      "memory usage: 6.2+ MB\n"
     ]
    }
   ],
   "source": [
    "calls = pd.read_csv('/datasets/calls.csv', sep = ',') \n",
    "calls.info() #dataset with calls loaded and researched"
   ]
  },
  {
   "cell_type": "code",
   "execution_count": 4,
   "metadata": {},
   "outputs": [
    {
     "data": {
      "text/html": [
       "<div>\n",
       "<style scoped>\n",
       "    .dataframe tbody tr th:only-of-type {\n",
       "        vertical-align: middle;\n",
       "    }\n",
       "\n",
       "    .dataframe tbody tr th {\n",
       "        vertical-align: top;\n",
       "    }\n",
       "\n",
       "    .dataframe thead th {\n",
       "        text-align: right;\n",
       "    }\n",
       "</style>\n",
       "<table border=\"1\" class=\"dataframe\">\n",
       "  <thead>\n",
       "    <tr style=\"text-align: right;\">\n",
       "      <th></th>\n",
       "      <th>id</th>\n",
       "      <th>call_date</th>\n",
       "      <th>duration</th>\n",
       "      <th>user_id</th>\n",
       "      <th>year</th>\n",
       "      <th>month</th>\n",
       "      <th>day</th>\n",
       "    </tr>\n",
       "  </thead>\n",
       "  <tbody>\n",
       "    <tr>\n",
       "      <td>129204</td>\n",
       "      <td>1331_100</td>\n",
       "      <td>2018-08-31</td>\n",
       "      <td>0.00</td>\n",
       "      <td>1331</td>\n",
       "      <td>2018</td>\n",
       "      <td>8</td>\n",
       "      <td>31</td>\n",
       "    </tr>\n",
       "    <tr>\n",
       "      <td>72934</td>\n",
       "      <td>1183_298</td>\n",
       "      <td>2018-07-13</td>\n",
       "      <td>14.21</td>\n",
       "      <td>1183</td>\n",
       "      <td>2018</td>\n",
       "      <td>7</td>\n",
       "      <td>13</td>\n",
       "    </tr>\n",
       "    <tr>\n",
       "      <td>147562</td>\n",
       "      <td>1375_393</td>\n",
       "      <td>2018-02-27</td>\n",
       "      <td>0.46</td>\n",
       "      <td>1375</td>\n",
       "      <td>2018</td>\n",
       "      <td>2</td>\n",
       "      <td>27</td>\n",
       "    </tr>\n",
       "    <tr>\n",
       "      <td>20652</td>\n",
       "      <td>1055_145</td>\n",
       "      <td>2018-01-14</td>\n",
       "      <td>9.37</td>\n",
       "      <td>1055</td>\n",
       "      <td>2018</td>\n",
       "      <td>1</td>\n",
       "      <td>14</td>\n",
       "    </tr>\n",
       "    <tr>\n",
       "      <td>61672</td>\n",
       "      <td>1155_480</td>\n",
       "      <td>2018-07-23</td>\n",
       "      <td>0.00</td>\n",
       "      <td>1155</td>\n",
       "      <td>2018</td>\n",
       "      <td>7</td>\n",
       "      <td>23</td>\n",
       "    </tr>\n",
       "    <tr>\n",
       "      <td>68037</td>\n",
       "      <td>1172_242</td>\n",
       "      <td>2018-06-23</td>\n",
       "      <td>0.00</td>\n",
       "      <td>1172</td>\n",
       "      <td>2018</td>\n",
       "      <td>6</td>\n",
       "      <td>23</td>\n",
       "    </tr>\n",
       "    <tr>\n",
       "      <td>87946</td>\n",
       "      <td>1220_31</td>\n",
       "      <td>2018-12-14</td>\n",
       "      <td>6.78</td>\n",
       "      <td>1220</td>\n",
       "      <td>2018</td>\n",
       "      <td>12</td>\n",
       "      <td>14</td>\n",
       "    </tr>\n",
       "    <tr>\n",
       "      <td>142036</td>\n",
       "      <td>1360_479</td>\n",
       "      <td>2018-08-25</td>\n",
       "      <td>8.19</td>\n",
       "      <td>1360</td>\n",
       "      <td>2018</td>\n",
       "      <td>8</td>\n",
       "      <td>25</td>\n",
       "    </tr>\n",
       "    <tr>\n",
       "      <td>144563</td>\n",
       "      <td>1364_275</td>\n",
       "      <td>2018-12-31</td>\n",
       "      <td>6.60</td>\n",
       "      <td>1364</td>\n",
       "      <td>2018</td>\n",
       "      <td>12</td>\n",
       "      <td>31</td>\n",
       "    </tr>\n",
       "    <tr>\n",
       "      <td>177303</td>\n",
       "      <td>1437_190</td>\n",
       "      <td>2018-08-20</td>\n",
       "      <td>0.38</td>\n",
       "      <td>1437</td>\n",
       "      <td>2018</td>\n",
       "      <td>8</td>\n",
       "      <td>20</td>\n",
       "    </tr>\n",
       "  </tbody>\n",
       "</table>\n",
       "</div>"
      ],
      "text/plain": [
       "              id  call_date  duration  user_id  year  month  day\n",
       "129204  1331_100 2018-08-31      0.00     1331  2018      8   31\n",
       "72934   1183_298 2018-07-13     14.21     1183  2018      7   13\n",
       "147562  1375_393 2018-02-27      0.46     1375  2018      2   27\n",
       "20652   1055_145 2018-01-14      9.37     1055  2018      1   14\n",
       "61672   1155_480 2018-07-23      0.00     1155  2018      7   23\n",
       "68037   1172_242 2018-06-23      0.00     1172  2018      6   23\n",
       "87946    1220_31 2018-12-14      6.78     1220  2018     12   14\n",
       "142036  1360_479 2018-08-25      8.19     1360  2018      8   25\n",
       "144563  1364_275 2018-12-31      6.60     1364  2018     12   31\n",
       "177303  1437_190 2018-08-20      0.38     1437  2018      8   20"
      ]
     },
     "execution_count": 4,
     "metadata": {},
     "output_type": "execute_result"
    }
   ],
   "source": [
    "calls['call_date'] = pd.to_datetime(calls['call_date'], format=\"%Y-%m-%dT%H:%M:%S\") #date converted to appropriate format\n",
    "calls['year'] = calls['call_date'].dt.year #separately created year, month and day columns\n",
    "calls['month'] = calls['call_date'].dt.month\n",
    "calls['day'] = calls['call_date'].dt.day \n",
    "calls.sample(10)"
   ]
  },
  {
   "cell_type": "code",
   "execution_count": 5,
   "metadata": {},
   "outputs": [
    {
     "name": "stdout",
     "output_type": "stream",
     "text": [
      "Количество звонков с длительностью, равной нулю: 39613\n"
     ]
    }
   ],
   "source": [
    "print('Количество звонков с длительностью, равной нулю:', calls.loc[calls['duration'] == 0, 'duration'].value_counts()[0])"
   ]
  },
  {
   "cell_type": "markdown",
   "metadata": {},
   "source": [
    "The number of zero calls is quite large, however, we know that these are missed calls."
   ]
  },
  {
   "cell_type": "markdown",
   "metadata": {},
   "source": [
    "#### Internet"
   ]
  },
  {
   "cell_type": "code",
   "execution_count": 6,
   "metadata": {},
   "outputs": [
    {
     "name": "stdout",
     "output_type": "stream",
     "text": [
      "<class 'pandas.core.frame.DataFrame'>\n",
      "Int64Index: 149396 entries, 0 to 149395\n",
      "Data columns (total 4 columns):\n",
      "id              149396 non-null object\n",
      "mb_used         149396 non-null float64\n",
      "session_date    149396 non-null object\n",
      "user_id         149396 non-null int64\n",
      "dtypes: float64(1), int64(1), object(2)\n",
      "memory usage: 5.7+ MB\n"
     ]
    }
   ],
   "source": [
    "internet = pd.read_csv('/datasets/internet.csv', sep = ',', index_col=0) #датасет с трафиком интернета загружен и изучен\n",
    "internet.info()"
   ]
  },
  {
   "cell_type": "code",
   "execution_count": 7,
   "metadata": {},
   "outputs": [
    {
     "data": {
      "text/html": [
       "<div>\n",
       "<style scoped>\n",
       "    .dataframe tbody tr th:only-of-type {\n",
       "        vertical-align: middle;\n",
       "    }\n",
       "\n",
       "    .dataframe tbody tr th {\n",
       "        vertical-align: top;\n",
       "    }\n",
       "\n",
       "    .dataframe thead th {\n",
       "        text-align: right;\n",
       "    }\n",
       "</style>\n",
       "<table border=\"1\" class=\"dataframe\">\n",
       "  <thead>\n",
       "    <tr style=\"text-align: right;\">\n",
       "      <th></th>\n",
       "      <th>id</th>\n",
       "      <th>mb_used</th>\n",
       "      <th>session_date</th>\n",
       "      <th>user_id</th>\n",
       "      <th>year</th>\n",
       "      <th>month</th>\n",
       "      <th>day</th>\n",
       "    </tr>\n",
       "  </thead>\n",
       "  <tbody>\n",
       "    <tr>\n",
       "      <td>123267</td>\n",
       "      <td>1414_360</td>\n",
       "      <td>281.87</td>\n",
       "      <td>2018-11-02</td>\n",
       "      <td>1414</td>\n",
       "      <td>2018</td>\n",
       "      <td>11</td>\n",
       "      <td>2</td>\n",
       "    </tr>\n",
       "    <tr>\n",
       "      <td>12274</td>\n",
       "      <td>1043_272</td>\n",
       "      <td>285.47</td>\n",
       "      <td>2018-09-04</td>\n",
       "      <td>1043</td>\n",
       "      <td>2018</td>\n",
       "      <td>9</td>\n",
       "      <td>4</td>\n",
       "    </tr>\n",
       "    <tr>\n",
       "      <td>74236</td>\n",
       "      <td>1250_196</td>\n",
       "      <td>345.41</td>\n",
       "      <td>2018-06-12</td>\n",
       "      <td>1250</td>\n",
       "      <td>2018</td>\n",
       "      <td>6</td>\n",
       "      <td>12</td>\n",
       "    </tr>\n",
       "    <tr>\n",
       "      <td>85471</td>\n",
       "      <td>1291_27</td>\n",
       "      <td>616.01</td>\n",
       "      <td>2018-12-19</td>\n",
       "      <td>1291</td>\n",
       "      <td>2018</td>\n",
       "      <td>12</td>\n",
       "      <td>19</td>\n",
       "    </tr>\n",
       "    <tr>\n",
       "      <td>139298</td>\n",
       "      <td>1468_92</td>\n",
       "      <td>928.98</td>\n",
       "      <td>2018-12-09</td>\n",
       "      <td>1468</td>\n",
       "      <td>2018</td>\n",
       "      <td>12</td>\n",
       "      <td>9</td>\n",
       "    </tr>\n",
       "    <tr>\n",
       "      <td>79772</td>\n",
       "      <td>1268_162</td>\n",
       "      <td>114.14</td>\n",
       "      <td>2018-11-22</td>\n",
       "      <td>1268</td>\n",
       "      <td>2018</td>\n",
       "      <td>11</td>\n",
       "      <td>22</td>\n",
       "    </tr>\n",
       "    <tr>\n",
       "      <td>116023</td>\n",
       "      <td>1391_156</td>\n",
       "      <td>611.44</td>\n",
       "      <td>2018-05-17</td>\n",
       "      <td>1391</td>\n",
       "      <td>2018</td>\n",
       "      <td>5</td>\n",
       "      <td>17</td>\n",
       "    </tr>\n",
       "    <tr>\n",
       "      <td>80693</td>\n",
       "      <td>1272_85</td>\n",
       "      <td>399.54</td>\n",
       "      <td>2018-09-04</td>\n",
       "      <td>1272</td>\n",
       "      <td>2018</td>\n",
       "      <td>9</td>\n",
       "      <td>4</td>\n",
       "    </tr>\n",
       "    <tr>\n",
       "      <td>27820</td>\n",
       "      <td>1097_126</td>\n",
       "      <td>406.43</td>\n",
       "      <td>2018-11-07</td>\n",
       "      <td>1097</td>\n",
       "      <td>2018</td>\n",
       "      <td>11</td>\n",
       "      <td>7</td>\n",
       "    </tr>\n",
       "    <tr>\n",
       "      <td>2591</td>\n",
       "      <td>1009_233</td>\n",
       "      <td>556.88</td>\n",
       "      <td>2018-07-23</td>\n",
       "      <td>1009</td>\n",
       "      <td>2018</td>\n",
       "      <td>7</td>\n",
       "      <td>23</td>\n",
       "    </tr>\n",
       "  </tbody>\n",
       "</table>\n",
       "</div>"
      ],
      "text/plain": [
       "              id  mb_used session_date  user_id  year  month  day\n",
       "123267  1414_360   281.87   2018-11-02     1414  2018     11    2\n",
       "12274   1043_272   285.47   2018-09-04     1043  2018      9    4\n",
       "74236   1250_196   345.41   2018-06-12     1250  2018      6   12\n",
       "85471    1291_27   616.01   2018-12-19     1291  2018     12   19\n",
       "139298   1468_92   928.98   2018-12-09     1468  2018     12    9\n",
       "79772   1268_162   114.14   2018-11-22     1268  2018     11   22\n",
       "116023  1391_156   611.44   2018-05-17     1391  2018      5   17\n",
       "80693    1272_85   399.54   2018-09-04     1272  2018      9    4\n",
       "27820   1097_126   406.43   2018-11-07     1097  2018     11    7\n",
       "2591    1009_233   556.88   2018-07-23     1009  2018      7   23"
      ]
     },
     "execution_count": 7,
     "metadata": {},
     "output_type": "execute_result"
    }
   ],
   "source": [
    "internet['session_date'] = pd.to_datetime(internet['session_date'], format=\"%Y-%m-%dT%H:%M:%S\") #дата переведена в соответствующий формат\n",
    "internet['year'] = internet['session_date'].dt.year #отдельно созданы колонки года, месяца и дня\n",
    "internet['month'] = internet['session_date'].dt.month\n",
    "internet['day'] = internet['session_date'].dt.day \n",
    "\n",
    "internet.sample(10)"
   ]
  },
  {
   "cell_type": "code",
   "execution_count": 8,
   "metadata": {},
   "outputs": [
    {
     "name": "stdout",
     "output_type": "stream",
     "text": [
      "Количество интернет сессий с длительностью, равной нулю: 19598\n"
     ]
    }
   ],
   "source": [
    "print('Количество интернет сессий с длительностью, равной нулю:', internet.loc[internet['mb_used'] == 0, 'mb_used'].value_counts()[0])"
   ]
  },
  {
   "cell_type": "markdown",
   "metadata": {},
   "source": [
    "#### Messages"
   ]
  },
  {
   "cell_type": "code",
   "execution_count": 9,
   "metadata": {},
   "outputs": [
    {
     "name": "stdout",
     "output_type": "stream",
     "text": [
      "<class 'pandas.core.frame.DataFrame'>\n",
      "RangeIndex: 123036 entries, 0 to 123035\n",
      "Data columns (total 3 columns):\n",
      "id              123036 non-null object\n",
      "message_date    123036 non-null object\n",
      "user_id         123036 non-null int64\n",
      "dtypes: int64(1), object(2)\n",
      "memory usage: 2.8+ MB\n"
     ]
    }
   ],
   "source": [
    "messages = pd.read_csv('/datasets/messages.csv', sep = ',') #датасет с сообщениями загружен и изучен\n",
    "messages.info()\n"
   ]
  },
  {
   "cell_type": "code",
   "execution_count": 10,
   "metadata": {
    "scrolled": true
   },
   "outputs": [
    {
     "data": {
      "text/html": [
       "<div>\n",
       "<style scoped>\n",
       "    .dataframe tbody tr th:only-of-type {\n",
       "        vertical-align: middle;\n",
       "    }\n",
       "\n",
       "    .dataframe tbody tr th {\n",
       "        vertical-align: top;\n",
       "    }\n",
       "\n",
       "    .dataframe thead th {\n",
       "        text-align: right;\n",
       "    }\n",
       "</style>\n",
       "<table border=\"1\" class=\"dataframe\">\n",
       "  <thead>\n",
       "    <tr style=\"text-align: right;\">\n",
       "      <th></th>\n",
       "      <th>id</th>\n",
       "      <th>message_date</th>\n",
       "      <th>user_id</th>\n",
       "      <th>year</th>\n",
       "      <th>month</th>\n",
       "      <th>day</th>\n",
       "    </tr>\n",
       "  </thead>\n",
       "  <tbody>\n",
       "    <tr>\n",
       "      <td>47642</td>\n",
       "      <td>1211_58</td>\n",
       "      <td>2018-11-22</td>\n",
       "      <td>1211</td>\n",
       "      <td>2018</td>\n",
       "      <td>11</td>\n",
       "      <td>22</td>\n",
       "    </tr>\n",
       "    <tr>\n",
       "      <td>8459</td>\n",
       "      <td>1033_210</td>\n",
       "      <td>2018-08-11</td>\n",
       "      <td>1033</td>\n",
       "      <td>2018</td>\n",
       "      <td>8</td>\n",
       "      <td>11</td>\n",
       "    </tr>\n",
       "    <tr>\n",
       "      <td>31547</td>\n",
       "      <td>1142_66</td>\n",
       "      <td>2018-09-09</td>\n",
       "      <td>1142</td>\n",
       "      <td>2018</td>\n",
       "      <td>9</td>\n",
       "      <td>9</td>\n",
       "    </tr>\n",
       "    <tr>\n",
       "      <td>101792</td>\n",
       "      <td>1416_109</td>\n",
       "      <td>2018-12-02</td>\n",
       "      <td>1416</td>\n",
       "      <td>2018</td>\n",
       "      <td>12</td>\n",
       "      <td>2</td>\n",
       "    </tr>\n",
       "    <tr>\n",
       "      <td>72973</td>\n",
       "      <td>1309_109</td>\n",
       "      <td>2018-11-02</td>\n",
       "      <td>1309</td>\n",
       "      <td>2018</td>\n",
       "      <td>11</td>\n",
       "      <td>2</td>\n",
       "    </tr>\n",
       "    <tr>\n",
       "      <td>119849</td>\n",
       "      <td>1484_370</td>\n",
       "      <td>2018-12-09</td>\n",
       "      <td>1484</td>\n",
       "      <td>2018</td>\n",
       "      <td>12</td>\n",
       "      <td>9</td>\n",
       "    </tr>\n",
       "    <tr>\n",
       "      <td>9030</td>\n",
       "      <td>1035_265</td>\n",
       "      <td>2018-05-25</td>\n",
       "      <td>1035</td>\n",
       "      <td>2018</td>\n",
       "      <td>5</td>\n",
       "      <td>25</td>\n",
       "    </tr>\n",
       "    <tr>\n",
       "      <td>97546</td>\n",
       "      <td>1400_118</td>\n",
       "      <td>2018-10-22</td>\n",
       "      <td>1400</td>\n",
       "      <td>2018</td>\n",
       "      <td>10</td>\n",
       "      <td>22</td>\n",
       "    </tr>\n",
       "    <tr>\n",
       "      <td>14597</td>\n",
       "      <td>1064_284</td>\n",
       "      <td>2018-04-08</td>\n",
       "      <td>1064</td>\n",
       "      <td>2018</td>\n",
       "      <td>4</td>\n",
       "      <td>8</td>\n",
       "    </tr>\n",
       "    <tr>\n",
       "      <td>67908</td>\n",
       "      <td>1286_7</td>\n",
       "      <td>2018-12-27</td>\n",
       "      <td>1286</td>\n",
       "      <td>2018</td>\n",
       "      <td>12</td>\n",
       "      <td>27</td>\n",
       "    </tr>\n",
       "  </tbody>\n",
       "</table>\n",
       "</div>"
      ],
      "text/plain": [
       "              id message_date  user_id  year  month  day\n",
       "47642    1211_58   2018-11-22     1211  2018     11   22\n",
       "8459    1033_210   2018-08-11     1033  2018      8   11\n",
       "31547    1142_66   2018-09-09     1142  2018      9    9\n",
       "101792  1416_109   2018-12-02     1416  2018     12    2\n",
       "72973   1309_109   2018-11-02     1309  2018     11    2\n",
       "119849  1484_370   2018-12-09     1484  2018     12    9\n",
       "9030    1035_265   2018-05-25     1035  2018      5   25\n",
       "97546   1400_118   2018-10-22     1400  2018     10   22\n",
       "14597   1064_284   2018-04-08     1064  2018      4    8\n",
       "67908     1286_7   2018-12-27     1286  2018     12   27"
      ]
     },
     "execution_count": 10,
     "metadata": {},
     "output_type": "execute_result"
    }
   ],
   "source": [
    "messages['message_date'] = pd.to_datetime(messages['message_date'], format=\"%Y-%m-%dT%H:%M:%S\") #дата переведена в соответствующий формат\n",
    "messages['year'] = messages['message_date'].dt.year #отдельно созданы колонки года, месяца и дня\n",
    "messages['month'] = messages['message_date'].dt.month\n",
    "messages['day'] = messages['message_date'].dt.day \n",
    "messages.sample(10)"
   ]
  },
  {
   "cell_type": "markdown",
   "metadata": {},
   "source": [
    "#### Tariff data"
   ]
  },
  {
   "cell_type": "code",
   "execution_count": 11,
   "metadata": {},
   "outputs": [
    {
     "name": "stdout",
     "output_type": "stream",
     "text": [
      "<class 'pandas.core.frame.DataFrame'>\n",
      "RangeIndex: 2 entries, 0 to 1\n",
      "Data columns (total 8 columns):\n",
      "messages_included        2 non-null int64\n",
      "mb_per_month_included    2 non-null int64\n",
      "minutes_included         2 non-null int64\n",
      "rub_monthly_fee          2 non-null int64\n",
      "rub_per_gb               2 non-null int64\n",
      "rub_per_message          2 non-null int64\n",
      "rub_per_minute           2 non-null int64\n",
      "tariff_name              2 non-null object\n",
      "dtypes: int64(7), object(1)\n",
      "memory usage: 256.0+ bytes\n"
     ]
    }
   ],
   "source": [
    "tariffs = pd.read_csv('/datasets/tariffs.csv', sep = ',') #датасет с информацией о тарифах загружен и изучен\n",
    "tariffs.info()\n"
   ]
  },
  {
   "cell_type": "code",
   "execution_count": 12,
   "metadata": {},
   "outputs": [
    {
     "data": {
      "text/html": [
       "<div>\n",
       "<style scoped>\n",
       "    .dataframe tbody tr th:only-of-type {\n",
       "        vertical-align: middle;\n",
       "    }\n",
       "\n",
       "    .dataframe tbody tr th {\n",
       "        vertical-align: top;\n",
       "    }\n",
       "\n",
       "    .dataframe thead th {\n",
       "        text-align: right;\n",
       "    }\n",
       "</style>\n",
       "<table border=\"1\" class=\"dataframe\">\n",
       "  <thead>\n",
       "    <tr style=\"text-align: right;\">\n",
       "      <th></th>\n",
       "      <th>messages_included</th>\n",
       "      <th>mb_per_month_included</th>\n",
       "      <th>minutes_included</th>\n",
       "      <th>rub_monthly_fee</th>\n",
       "      <th>rub_per_gb</th>\n",
       "      <th>rub_per_message</th>\n",
       "      <th>rub_per_minute</th>\n",
       "      <th>tariff_name</th>\n",
       "    </tr>\n",
       "  </thead>\n",
       "  <tbody>\n",
       "    <tr>\n",
       "      <td>1</td>\n",
       "      <td>1000</td>\n",
       "      <td>30720</td>\n",
       "      <td>3000</td>\n",
       "      <td>1950</td>\n",
       "      <td>150</td>\n",
       "      <td>1</td>\n",
       "      <td>1</td>\n",
       "      <td>ultra</td>\n",
       "    </tr>\n",
       "    <tr>\n",
       "      <td>0</td>\n",
       "      <td>50</td>\n",
       "      <td>15360</td>\n",
       "      <td>500</td>\n",
       "      <td>550</td>\n",
       "      <td>200</td>\n",
       "      <td>3</td>\n",
       "      <td>3</td>\n",
       "      <td>smart</td>\n",
       "    </tr>\n",
       "  </tbody>\n",
       "</table>\n",
       "</div>"
      ],
      "text/plain": [
       "   messages_included  mb_per_month_included  minutes_included  \\\n",
       "1               1000                  30720              3000   \n",
       "0                 50                  15360               500   \n",
       "\n",
       "   rub_monthly_fee  rub_per_gb  rub_per_message  rub_per_minute tariff_name  \n",
       "1             1950         150                1               1       ultra  \n",
       "0              550         200                3               3       smart  "
      ]
     },
     "execution_count": 12,
     "metadata": {},
     "output_type": "execute_result"
    }
   ],
   "source": [
    "tariffs.sample(2)"
   ]
  },
  {
   "cell_type": "markdown",
   "metadata": {},
   "source": [
    "#### User information"
   ]
  },
  {
   "cell_type": "code",
   "execution_count": 13,
   "metadata": {},
   "outputs": [
    {
     "name": "stdout",
     "output_type": "stream",
     "text": [
      "<class 'pandas.core.frame.DataFrame'>\n",
      "RangeIndex: 500 entries, 0 to 499\n",
      "Data columns (total 8 columns):\n",
      "user_id       500 non-null int64\n",
      "age           500 non-null int64\n",
      "churn_date    38 non-null object\n",
      "city          500 non-null object\n",
      "first_name    500 non-null object\n",
      "last_name     500 non-null object\n",
      "reg_date      500 non-null object\n",
      "tariff        500 non-null object\n",
      "dtypes: int64(2), object(6)\n",
      "memory usage: 31.4+ KB\n"
     ]
    }
   ],
   "source": [
    "users = pd.read_csv('/datasets/users.csv', sep = ',') #датасет со списком пользователей загружен и изучен\n",
    "users.info()"
   ]
  },
  {
   "cell_type": "code",
   "execution_count": 14,
   "metadata": {},
   "outputs": [
    {
     "data": {
      "text/html": [
       "<div>\n",
       "<style scoped>\n",
       "    .dataframe tbody tr th:only-of-type {\n",
       "        vertical-align: middle;\n",
       "    }\n",
       "\n",
       "    .dataframe tbody tr th {\n",
       "        vertical-align: top;\n",
       "    }\n",
       "\n",
       "    .dataframe thead th {\n",
       "        text-align: right;\n",
       "    }\n",
       "</style>\n",
       "<table border=\"1\" class=\"dataframe\">\n",
       "  <thead>\n",
       "    <tr style=\"text-align: right;\">\n",
       "      <th></th>\n",
       "      <th>user_id</th>\n",
       "      <th>age</th>\n",
       "      <th>churn_date</th>\n",
       "      <th>city</th>\n",
       "      <th>first_name</th>\n",
       "      <th>last_name</th>\n",
       "      <th>reg_date</th>\n",
       "      <th>tariff</th>\n",
       "    </tr>\n",
       "  </thead>\n",
       "  <tbody>\n",
       "    <tr>\n",
       "      <td>476</td>\n",
       "      <td>1476</td>\n",
       "      <td>50</td>\n",
       "      <td>NaN</td>\n",
       "      <td>Москва</td>\n",
       "      <td>Валентина</td>\n",
       "      <td>Семенова</td>\n",
       "      <td>2018-04-30</td>\n",
       "      <td>ultra</td>\n",
       "    </tr>\n",
       "    <tr>\n",
       "      <td>197</td>\n",
       "      <td>1197</td>\n",
       "      <td>34</td>\n",
       "      <td>NaN</td>\n",
       "      <td>Красноярск</td>\n",
       "      <td>Демьян</td>\n",
       "      <td>Черняев</td>\n",
       "      <td>2018-06-18</td>\n",
       "      <td>smart</td>\n",
       "    </tr>\n",
       "    <tr>\n",
       "      <td>218</td>\n",
       "      <td>1218</td>\n",
       "      <td>71</td>\n",
       "      <td>NaN</td>\n",
       "      <td>Екатеринбург</td>\n",
       "      <td>Снежана</td>\n",
       "      <td>Мамонтова</td>\n",
       "      <td>2018-07-14</td>\n",
       "      <td>smart</td>\n",
       "    </tr>\n",
       "    <tr>\n",
       "      <td>406</td>\n",
       "      <td>1406</td>\n",
       "      <td>68</td>\n",
       "      <td>NaN</td>\n",
       "      <td>Казань</td>\n",
       "      <td>Станислав</td>\n",
       "      <td>Семёнов</td>\n",
       "      <td>2018-12-15</td>\n",
       "      <td>smart</td>\n",
       "    </tr>\n",
       "    <tr>\n",
       "      <td>438</td>\n",
       "      <td>1438</td>\n",
       "      <td>24</td>\n",
       "      <td>2018-12-24</td>\n",
       "      <td>Екатеринбург</td>\n",
       "      <td>Нателла</td>\n",
       "      <td>Бородина</td>\n",
       "      <td>2018-10-05</td>\n",
       "      <td>smart</td>\n",
       "    </tr>\n",
       "    <tr>\n",
       "      <td>413</td>\n",
       "      <td>1413</td>\n",
       "      <td>37</td>\n",
       "      <td>NaN</td>\n",
       "      <td>Новосибирск</td>\n",
       "      <td>Леон</td>\n",
       "      <td>Фролов</td>\n",
       "      <td>2018-08-19</td>\n",
       "      <td>smart</td>\n",
       "    </tr>\n",
       "    <tr>\n",
       "      <td>132</td>\n",
       "      <td>1132</td>\n",
       "      <td>24</td>\n",
       "      <td>NaN</td>\n",
       "      <td>Москва</td>\n",
       "      <td>Маргарита</td>\n",
       "      <td>Алехина</td>\n",
       "      <td>2018-09-01</td>\n",
       "      <td>smart</td>\n",
       "    </tr>\n",
       "    <tr>\n",
       "      <td>211</td>\n",
       "      <td>1211</td>\n",
       "      <td>62</td>\n",
       "      <td>NaN</td>\n",
       "      <td>Калуга</td>\n",
       "      <td>Арина</td>\n",
       "      <td>Азимова</td>\n",
       "      <td>2018-06-20</td>\n",
       "      <td>smart</td>\n",
       "    </tr>\n",
       "    <tr>\n",
       "      <td>164</td>\n",
       "      <td>1164</td>\n",
       "      <td>49</td>\n",
       "      <td>NaN</td>\n",
       "      <td>Магнитогорск</td>\n",
       "      <td>Геральд</td>\n",
       "      <td>Лебедев</td>\n",
       "      <td>2018-04-03</td>\n",
       "      <td>smart</td>\n",
       "    </tr>\n",
       "    <tr>\n",
       "      <td>251</td>\n",
       "      <td>1251</td>\n",
       "      <td>48</td>\n",
       "      <td>NaN</td>\n",
       "      <td>Пермь</td>\n",
       "      <td>Роксана</td>\n",
       "      <td>Тетерина</td>\n",
       "      <td>2018-02-13</td>\n",
       "      <td>smart</td>\n",
       "    </tr>\n",
       "  </tbody>\n",
       "</table>\n",
       "</div>"
      ],
      "text/plain": [
       "     user_id  age  churn_date          city first_name  last_name    reg_date  \\\n",
       "476     1476   50         NaN        Москва  Валентина   Семенова  2018-04-30   \n",
       "197     1197   34         NaN    Красноярск     Демьян    Черняев  2018-06-18   \n",
       "218     1218   71         NaN  Екатеринбург    Снежана  Мамонтова  2018-07-14   \n",
       "406     1406   68         NaN        Казань  Станислав    Семёнов  2018-12-15   \n",
       "438     1438   24  2018-12-24  Екатеринбург    Нателла   Бородина  2018-10-05   \n",
       "413     1413   37         NaN   Новосибирск       Леон     Фролов  2018-08-19   \n",
       "132     1132   24         NaN        Москва  Маргарита    Алехина  2018-09-01   \n",
       "211     1211   62         NaN        Калуга      Арина    Азимова  2018-06-20   \n",
       "164     1164   49         NaN  Магнитогорск    Геральд    Лебедев  2018-04-03   \n",
       "251     1251   48         NaN         Пермь    Роксана   Тетерина  2018-02-13   \n",
       "\n",
       "    tariff  \n",
       "476  ultra  \n",
       "197  smart  \n",
       "218  smart  \n",
       "406  smart  \n",
       "438  smart  \n",
       "413  smart  \n",
       "132  smart  \n",
       "211  smart  \n",
       "164  smart  \n",
       "251  smart  "
      ]
     },
     "execution_count": 14,
     "metadata": {},
     "output_type": "execute_result"
    }
   ],
   "source": [
    "users.sample(10)"
   ]
  },
  {
   "cell_type": "markdown",
   "metadata": {},
   "source": [
    "### Conclusion:"
   ]
  },
  {
   "cell_type": "markdown",
   "metadata": {},
   "source": [
    "At the moment, the libraries necessary for the work and the dataframes under researching have been loaded, the date indicators have been corrected and distributed over new columns. We can go to preprocessing."
   ]
  },
  {
   "cell_type": "markdown",
   "metadata": {},
   "source": [
    "## Preprocessing"
   ]
  },
  {
   "cell_type": "markdown",
   "metadata": {},
   "source": [
    "At this stage, the data will be prepared for the researching. As a result, the data will be summarized in one, the most complete table with data for all users."
   ]
  },
  {
   "cell_type": "markdown",
   "metadata": {},
   "source": [
    "For each user, tables will be compiled with the number of calls made and spent minutes of conversation by month, the number of messages sent by month, the amount of Internet traffic consumed by month, and the monthly revenue from each user. Further, for the convenience of calculations, this table will contain information on tariff standards for each user."
   ]
  },
  {
   "cell_type": "code",
   "execution_count": 15,
   "metadata": {},
   "outputs": [],
   "source": [
    "messages_pivot = messages.pivot_table(index = ['user_id','month'], values = 'message_date', aggfunc='count')\n",
    "messages_pivot.columns = ['message_count']\n",
    "calls_pivot = calls.pivot_table(index = ['user_id','month'], values = 'duration', aggfunc=['count', 'sum'])\n",
    "calls_pivot.columns = ['calls_count','duration_sum']\n",
    "internet_pivot = internet.pivot_table(index = ['user_id','month'], values = 'mb_used', aggfunc='sum')\n",
    "internet_pivot.columns = ['mb_used_sum']"
   ]
  },
  {
   "cell_type": "markdown",
   "metadata": {},
   "source": [
    "The necessary information is combined in pivot tables. Let's put them together."
   ]
  },
  {
   "cell_type": "code",
   "execution_count": 16,
   "metadata": {},
   "outputs": [
    {
     "data": {
      "text/html": [
       "<div>\n",
       "<style scoped>\n",
       "    .dataframe tbody tr th:only-of-type {\n",
       "        vertical-align: middle;\n",
       "    }\n",
       "\n",
       "    .dataframe tbody tr th {\n",
       "        vertical-align: top;\n",
       "    }\n",
       "\n",
       "    .dataframe thead th {\n",
       "        text-align: right;\n",
       "    }\n",
       "</style>\n",
       "<table border=\"1\" class=\"dataframe\">\n",
       "  <thead>\n",
       "    <tr style=\"text-align: right;\">\n",
       "      <th></th>\n",
       "      <th>user_id</th>\n",
       "      <th>month</th>\n",
       "      <th>message_count</th>\n",
       "      <th>mb_used_sum</th>\n",
       "      <th>calls_count</th>\n",
       "      <th>duration_sum</th>\n",
       "    </tr>\n",
       "  </thead>\n",
       "  <tbody>\n",
       "    <tr>\n",
       "      <td>0</td>\n",
       "      <td>1000</td>\n",
       "      <td>5</td>\n",
       "      <td>22.00</td>\n",
       "      <td>2,253.49</td>\n",
       "      <td>22.00</td>\n",
       "      <td>150.06</td>\n",
       "    </tr>\n",
       "    <tr>\n",
       "      <td>1</td>\n",
       "      <td>1000</td>\n",
       "      <td>6</td>\n",
       "      <td>60.00</td>\n",
       "      <td>23,233.77</td>\n",
       "      <td>43.00</td>\n",
       "      <td>158.90</td>\n",
       "    </tr>\n",
       "    <tr>\n",
       "      <td>2</td>\n",
       "      <td>1000</td>\n",
       "      <td>7</td>\n",
       "      <td>75.00</td>\n",
       "      <td>14,003.64</td>\n",
       "      <td>47.00</td>\n",
       "      <td>318.80</td>\n",
       "    </tr>\n",
       "    <tr>\n",
       "      <td>3</td>\n",
       "      <td>1000</td>\n",
       "      <td>8</td>\n",
       "      <td>81.00</td>\n",
       "      <td>14,055.93</td>\n",
       "      <td>52.00</td>\n",
       "      <td>389.87</td>\n",
       "    </tr>\n",
       "    <tr>\n",
       "      <td>4</td>\n",
       "      <td>1000</td>\n",
       "      <td>9</td>\n",
       "      <td>57.00</td>\n",
       "      <td>14,568.91</td>\n",
       "      <td>58.00</td>\n",
       "      <td>440.14</td>\n",
       "    </tr>\n",
       "    <tr>\n",
       "      <td>...</td>\n",
       "      <td>...</td>\n",
       "      <td>...</td>\n",
       "      <td>...</td>\n",
       "      <td>...</td>\n",
       "      <td>...</td>\n",
       "      <td>...</td>\n",
       "    </tr>\n",
       "    <tr>\n",
       "      <td>3209</td>\n",
       "      <td>1498</td>\n",
       "      <td>10</td>\n",
       "      <td>42.00</td>\n",
       "      <td>20,579.36</td>\n",
       "      <td>41.00</td>\n",
       "      <td>232.63</td>\n",
       "    </tr>\n",
       "    <tr>\n",
       "      <td>3210</td>\n",
       "      <td>1499</td>\n",
       "      <td>9</td>\n",
       "      <td>11.00</td>\n",
       "      <td>1,845.75</td>\n",
       "      <td>9.00</td>\n",
       "      <td>64.65</td>\n",
       "    </tr>\n",
       "    <tr>\n",
       "      <td>3211</td>\n",
       "      <td>1499</td>\n",
       "      <td>10</td>\n",
       "      <td>48.00</td>\n",
       "      <td>17,788.51</td>\n",
       "      <td>68.00</td>\n",
       "      <td>429.91</td>\n",
       "    </tr>\n",
       "    <tr>\n",
       "      <td>3212</td>\n",
       "      <td>1499</td>\n",
       "      <td>11</td>\n",
       "      <td>59.00</td>\n",
       "      <td>17,963.31</td>\n",
       "      <td>74.00</td>\n",
       "      <td>576.50</td>\n",
       "    </tr>\n",
       "    <tr>\n",
       "      <td>3213</td>\n",
       "      <td>1499</td>\n",
       "      <td>12</td>\n",
       "      <td>66.00</td>\n",
       "      <td>13,055.58</td>\n",
       "      <td>69.00</td>\n",
       "      <td>465.16</td>\n",
       "    </tr>\n",
       "  </tbody>\n",
       "</table>\n",
       "<p>3214 rows × 6 columns</p>\n",
       "</div>"
      ],
      "text/plain": [
       "      user_id  month  message_count  mb_used_sum  calls_count  duration_sum\n",
       "0        1000      5          22.00     2,253.49        22.00        150.06\n",
       "1        1000      6          60.00    23,233.77        43.00        158.90\n",
       "2        1000      7          75.00    14,003.64        47.00        318.80\n",
       "3        1000      8          81.00    14,055.93        52.00        389.87\n",
       "4        1000      9          57.00    14,568.91        58.00        440.14\n",
       "...       ...    ...            ...          ...          ...           ...\n",
       "3209     1498     10          42.00    20,579.36        41.00        232.63\n",
       "3210     1499      9          11.00     1,845.75         9.00         64.65\n",
       "3211     1499     10          48.00    17,788.51        68.00        429.91\n",
       "3212     1499     11          59.00    17,963.31        74.00        576.50\n",
       "3213     1499     12          66.00    13,055.58        69.00        465.16\n",
       "\n",
       "[3214 rows x 6 columns]"
      ]
     },
     "execution_count": 16,
     "metadata": {},
     "output_type": "execute_result"
    }
   ],
   "source": [
    "df_pivot = messages_pivot.join(other=[internet_pivot,calls_pivot], how='outer').reset_index()\n",
    "df_pivot"
   ]
  },
  {
   "cell_type": "markdown",
   "metadata": {},
   "source": [
    "I combine information on tariffs with specific users."
   ]
  },
  {
   "cell_type": "code",
   "execution_count": 17,
   "metadata": {
    "scrolled": true
   },
   "outputs": [
    {
     "data": {
      "text/html": [
       "<div>\n",
       "<style scoped>\n",
       "    .dataframe tbody tr th:only-of-type {\n",
       "        vertical-align: middle;\n",
       "    }\n",
       "\n",
       "    .dataframe tbody tr th {\n",
       "        vertical-align: top;\n",
       "    }\n",
       "\n",
       "    .dataframe thead th {\n",
       "        text-align: right;\n",
       "    }\n",
       "</style>\n",
       "<table border=\"1\" class=\"dataframe\">\n",
       "  <thead>\n",
       "    <tr style=\"text-align: right;\">\n",
       "      <th></th>\n",
       "      <th>user_id</th>\n",
       "      <th>age</th>\n",
       "      <th>churn_date</th>\n",
       "      <th>city</th>\n",
       "      <th>first_name</th>\n",
       "      <th>last_name</th>\n",
       "      <th>reg_date</th>\n",
       "      <th>tariff</th>\n",
       "      <th>messages_included</th>\n",
       "      <th>mb_per_month_included</th>\n",
       "      <th>minutes_included</th>\n",
       "      <th>rub_monthly_fee</th>\n",
       "      <th>rub_per_gb</th>\n",
       "      <th>rub_per_message</th>\n",
       "      <th>rub_per_minute</th>\n",
       "    </tr>\n",
       "  </thead>\n",
       "  <tbody>\n",
       "    <tr>\n",
       "      <td>0</td>\n",
       "      <td>1000</td>\n",
       "      <td>52</td>\n",
       "      <td>NaN</td>\n",
       "      <td>Краснодар</td>\n",
       "      <td>Рафаил</td>\n",
       "      <td>Верещагин</td>\n",
       "      <td>2018-05-25</td>\n",
       "      <td>ultra</td>\n",
       "      <td>1000</td>\n",
       "      <td>30720</td>\n",
       "      <td>3000</td>\n",
       "      <td>1950</td>\n",
       "      <td>150</td>\n",
       "      <td>1</td>\n",
       "      <td>1</td>\n",
       "    </tr>\n",
       "    <tr>\n",
       "      <td>1</td>\n",
       "      <td>1003</td>\n",
       "      <td>23</td>\n",
       "      <td>NaN</td>\n",
       "      <td>Москва</td>\n",
       "      <td>Белла</td>\n",
       "      <td>Белякова</td>\n",
       "      <td>2018-08-17</td>\n",
       "      <td>ultra</td>\n",
       "      <td>1000</td>\n",
       "      <td>30720</td>\n",
       "      <td>3000</td>\n",
       "      <td>1950</td>\n",
       "      <td>150</td>\n",
       "      <td>1</td>\n",
       "      <td>1</td>\n",
       "    </tr>\n",
       "    <tr>\n",
       "      <td>2</td>\n",
       "      <td>1004</td>\n",
       "      <td>68</td>\n",
       "      <td>NaN</td>\n",
       "      <td>Новокузнецк</td>\n",
       "      <td>Татьяна</td>\n",
       "      <td>Авдеенко</td>\n",
       "      <td>2018-05-14</td>\n",
       "      <td>ultra</td>\n",
       "      <td>1000</td>\n",
       "      <td>30720</td>\n",
       "      <td>3000</td>\n",
       "      <td>1950</td>\n",
       "      <td>150</td>\n",
       "      <td>1</td>\n",
       "      <td>1</td>\n",
       "    </tr>\n",
       "    <tr>\n",
       "      <td>3</td>\n",
       "      <td>1013</td>\n",
       "      <td>36</td>\n",
       "      <td>NaN</td>\n",
       "      <td>Иваново</td>\n",
       "      <td>Борис</td>\n",
       "      <td>Андреенко</td>\n",
       "      <td>2018-11-14</td>\n",
       "      <td>ultra</td>\n",
       "      <td>1000</td>\n",
       "      <td>30720</td>\n",
       "      <td>3000</td>\n",
       "      <td>1950</td>\n",
       "      <td>150</td>\n",
       "      <td>1</td>\n",
       "      <td>1</td>\n",
       "    </tr>\n",
       "    <tr>\n",
       "      <td>4</td>\n",
       "      <td>1016</td>\n",
       "      <td>58</td>\n",
       "      <td>NaN</td>\n",
       "      <td>Омск</td>\n",
       "      <td>Марица</td>\n",
       "      <td>Сазонова</td>\n",
       "      <td>2018-11-21</td>\n",
       "      <td>ultra</td>\n",
       "      <td>1000</td>\n",
       "      <td>30720</td>\n",
       "      <td>3000</td>\n",
       "      <td>1950</td>\n",
       "      <td>150</td>\n",
       "      <td>1</td>\n",
       "      <td>1</td>\n",
       "    </tr>\n",
       "    <tr>\n",
       "      <td>...</td>\n",
       "      <td>...</td>\n",
       "      <td>...</td>\n",
       "      <td>...</td>\n",
       "      <td>...</td>\n",
       "      <td>...</td>\n",
       "      <td>...</td>\n",
       "      <td>...</td>\n",
       "      <td>...</td>\n",
       "      <td>...</td>\n",
       "      <td>...</td>\n",
       "      <td>...</td>\n",
       "      <td>...</td>\n",
       "      <td>...</td>\n",
       "      <td>...</td>\n",
       "      <td>...</td>\n",
       "    </tr>\n",
       "    <tr>\n",
       "      <td>495</td>\n",
       "      <td>1494</td>\n",
       "      <td>62</td>\n",
       "      <td>NaN</td>\n",
       "      <td>Омск</td>\n",
       "      <td>Ренат</td>\n",
       "      <td>Андропов</td>\n",
       "      <td>2018-08-17</td>\n",
       "      <td>smart</td>\n",
       "      <td>50</td>\n",
       "      <td>15360</td>\n",
       "      <td>500</td>\n",
       "      <td>550</td>\n",
       "      <td>200</td>\n",
       "      <td>3</td>\n",
       "      <td>3</td>\n",
       "    </tr>\n",
       "    <tr>\n",
       "      <td>496</td>\n",
       "      <td>1496</td>\n",
       "      <td>36</td>\n",
       "      <td>NaN</td>\n",
       "      <td>Вологда</td>\n",
       "      <td>Трифон</td>\n",
       "      <td>Блохин</td>\n",
       "      <td>2018-01-27</td>\n",
       "      <td>smart</td>\n",
       "      <td>50</td>\n",
       "      <td>15360</td>\n",
       "      <td>500</td>\n",
       "      <td>550</td>\n",
       "      <td>200</td>\n",
       "      <td>3</td>\n",
       "      <td>3</td>\n",
       "    </tr>\n",
       "    <tr>\n",
       "      <td>497</td>\n",
       "      <td>1497</td>\n",
       "      <td>32</td>\n",
       "      <td>NaN</td>\n",
       "      <td>Челябинск</td>\n",
       "      <td>Каролина</td>\n",
       "      <td>Агеева</td>\n",
       "      <td>2018-10-09</td>\n",
       "      <td>smart</td>\n",
       "      <td>50</td>\n",
       "      <td>15360</td>\n",
       "      <td>500</td>\n",
       "      <td>550</td>\n",
       "      <td>200</td>\n",
       "      <td>3</td>\n",
       "      <td>3</td>\n",
       "    </tr>\n",
       "    <tr>\n",
       "      <td>498</td>\n",
       "      <td>1498</td>\n",
       "      <td>68</td>\n",
       "      <td>2018-10-25</td>\n",
       "      <td>Владикавказ</td>\n",
       "      <td>Всеволод</td>\n",
       "      <td>Акимчин</td>\n",
       "      <td>2018-07-19</td>\n",
       "      <td>smart</td>\n",
       "      <td>50</td>\n",
       "      <td>15360</td>\n",
       "      <td>500</td>\n",
       "      <td>550</td>\n",
       "      <td>200</td>\n",
       "      <td>3</td>\n",
       "      <td>3</td>\n",
       "    </tr>\n",
       "    <tr>\n",
       "      <td>499</td>\n",
       "      <td>1499</td>\n",
       "      <td>35</td>\n",
       "      <td>NaN</td>\n",
       "      <td>Пермь</td>\n",
       "      <td>Гектор</td>\n",
       "      <td>Корнилов</td>\n",
       "      <td>2018-09-27</td>\n",
       "      <td>smart</td>\n",
       "      <td>50</td>\n",
       "      <td>15360</td>\n",
       "      <td>500</td>\n",
       "      <td>550</td>\n",
       "      <td>200</td>\n",
       "      <td>3</td>\n",
       "      <td>3</td>\n",
       "    </tr>\n",
       "  </tbody>\n",
       "</table>\n",
       "<p>500 rows × 15 columns</p>\n",
       "</div>"
      ],
      "text/plain": [
       "     user_id  age  churn_date         city first_name  last_name    reg_date  \\\n",
       "0       1000   52         NaN    Краснодар     Рафаил  Верещагин  2018-05-25   \n",
       "1       1003   23         NaN       Москва      Белла   Белякова  2018-08-17   \n",
       "2       1004   68         NaN  Новокузнецк    Татьяна   Авдеенко  2018-05-14   \n",
       "3       1013   36         NaN      Иваново      Борис  Андреенко  2018-11-14   \n",
       "4       1016   58         NaN         Омск     Марица   Сазонова  2018-11-21   \n",
       "..       ...  ...         ...          ...        ...        ...         ...   \n",
       "495     1494   62         NaN         Омск      Ренат   Андропов  2018-08-17   \n",
       "496     1496   36         NaN      Вологда     Трифон     Блохин  2018-01-27   \n",
       "497     1497   32         NaN    Челябинск   Каролина     Агеева  2018-10-09   \n",
       "498     1498   68  2018-10-25  Владикавказ   Всеволод    Акимчин  2018-07-19   \n",
       "499     1499   35         NaN        Пермь     Гектор   Корнилов  2018-09-27   \n",
       "\n",
       "    tariff  messages_included  mb_per_month_included  minutes_included  \\\n",
       "0    ultra               1000                  30720              3000   \n",
       "1    ultra               1000                  30720              3000   \n",
       "2    ultra               1000                  30720              3000   \n",
       "3    ultra               1000                  30720              3000   \n",
       "4    ultra               1000                  30720              3000   \n",
       "..     ...                ...                    ...               ...   \n",
       "495  smart                 50                  15360               500   \n",
       "496  smart                 50                  15360               500   \n",
       "497  smart                 50                  15360               500   \n",
       "498  smart                 50                  15360               500   \n",
       "499  smart                 50                  15360               500   \n",
       "\n",
       "     rub_monthly_fee  rub_per_gb  rub_per_message  rub_per_minute  \n",
       "0               1950         150                1               1  \n",
       "1               1950         150                1               1  \n",
       "2               1950         150                1               1  \n",
       "3               1950         150                1               1  \n",
       "4               1950         150                1               1  \n",
       "..               ...         ...              ...             ...  \n",
       "495              550         200                3               3  \n",
       "496              550         200                3               3  \n",
       "497              550         200                3               3  \n",
       "498              550         200                3               3  \n",
       "499              550         200                3               3  \n",
       "\n",
       "[500 rows x 15 columns]"
      ]
     },
     "execution_count": 17,
     "metadata": {},
     "output_type": "execute_result"
    }
   ],
   "source": [
    "df_users_tarifs = users.merge(tariffs, how='outer', left_on='tariff', right_on='tariff_name')\n",
    "df_users_tarifs.drop('tariff_name', axis=1, inplace=True)\n",
    "df_users_tarifs"
   ]
  },
  {
   "cell_type": "markdown",
   "metadata": {},
   "source": [
    "All available information is summarized in a large table."
   ]
  },
  {
   "cell_type": "code",
   "execution_count": 18,
   "metadata": {
    "scrolled": false
   },
   "outputs": [
    {
     "data": {
      "text/html": [
       "<div>\n",
       "<style scoped>\n",
       "    .dataframe tbody tr th:only-of-type {\n",
       "        vertical-align: middle;\n",
       "    }\n",
       "\n",
       "    .dataframe tbody tr th {\n",
       "        vertical-align: top;\n",
       "    }\n",
       "\n",
       "    .dataframe thead th {\n",
       "        text-align: right;\n",
       "    }\n",
       "</style>\n",
       "<table border=\"1\" class=\"dataframe\">\n",
       "  <thead>\n",
       "    <tr style=\"text-align: right;\">\n",
       "      <th></th>\n",
       "      <th>user_id</th>\n",
       "      <th>month</th>\n",
       "      <th>message_count</th>\n",
       "      <th>mb_used_sum</th>\n",
       "      <th>calls_count</th>\n",
       "      <th>duration_sum</th>\n",
       "      <th>age</th>\n",
       "      <th>churn_date</th>\n",
       "      <th>city</th>\n",
       "      <th>first_name</th>\n",
       "      <th>last_name</th>\n",
       "      <th>reg_date</th>\n",
       "      <th>tariff</th>\n",
       "      <th>messages_included</th>\n",
       "      <th>mb_per_month_included</th>\n",
       "      <th>minutes_included</th>\n",
       "      <th>rub_monthly_fee</th>\n",
       "      <th>rub_per_gb</th>\n",
       "      <th>rub_per_message</th>\n",
       "      <th>rub_per_minute</th>\n",
       "    </tr>\n",
       "  </thead>\n",
       "  <tbody>\n",
       "    <tr>\n",
       "      <td>0</td>\n",
       "      <td>1000</td>\n",
       "      <td>5.00</td>\n",
       "      <td>22.00</td>\n",
       "      <td>2,253.49</td>\n",
       "      <td>22.00</td>\n",
       "      <td>150.06</td>\n",
       "      <td>52</td>\n",
       "      <td>NaN</td>\n",
       "      <td>Краснодар</td>\n",
       "      <td>Рафаил</td>\n",
       "      <td>Верещагин</td>\n",
       "      <td>2018-05-25</td>\n",
       "      <td>ultra</td>\n",
       "      <td>1000</td>\n",
       "      <td>30720</td>\n",
       "      <td>3000</td>\n",
       "      <td>1950</td>\n",
       "      <td>150</td>\n",
       "      <td>1</td>\n",
       "      <td>1</td>\n",
       "    </tr>\n",
       "    <tr>\n",
       "      <td>1</td>\n",
       "      <td>1000</td>\n",
       "      <td>6.00</td>\n",
       "      <td>60.00</td>\n",
       "      <td>23,233.77</td>\n",
       "      <td>43.00</td>\n",
       "      <td>158.90</td>\n",
       "      <td>52</td>\n",
       "      <td>NaN</td>\n",
       "      <td>Краснодар</td>\n",
       "      <td>Рафаил</td>\n",
       "      <td>Верещагин</td>\n",
       "      <td>2018-05-25</td>\n",
       "      <td>ultra</td>\n",
       "      <td>1000</td>\n",
       "      <td>30720</td>\n",
       "      <td>3000</td>\n",
       "      <td>1950</td>\n",
       "      <td>150</td>\n",
       "      <td>1</td>\n",
       "      <td>1</td>\n",
       "    </tr>\n",
       "    <tr>\n",
       "      <td>2</td>\n",
       "      <td>1000</td>\n",
       "      <td>7.00</td>\n",
       "      <td>75.00</td>\n",
       "      <td>14,003.64</td>\n",
       "      <td>47.00</td>\n",
       "      <td>318.80</td>\n",
       "      <td>52</td>\n",
       "      <td>NaN</td>\n",
       "      <td>Краснодар</td>\n",
       "      <td>Рафаил</td>\n",
       "      <td>Верещагин</td>\n",
       "      <td>2018-05-25</td>\n",
       "      <td>ultra</td>\n",
       "      <td>1000</td>\n",
       "      <td>30720</td>\n",
       "      <td>3000</td>\n",
       "      <td>1950</td>\n",
       "      <td>150</td>\n",
       "      <td>1</td>\n",
       "      <td>1</td>\n",
       "    </tr>\n",
       "    <tr>\n",
       "      <td>3</td>\n",
       "      <td>1000</td>\n",
       "      <td>8.00</td>\n",
       "      <td>81.00</td>\n",
       "      <td>14,055.93</td>\n",
       "      <td>52.00</td>\n",
       "      <td>389.87</td>\n",
       "      <td>52</td>\n",
       "      <td>NaN</td>\n",
       "      <td>Краснодар</td>\n",
       "      <td>Рафаил</td>\n",
       "      <td>Верещагин</td>\n",
       "      <td>2018-05-25</td>\n",
       "      <td>ultra</td>\n",
       "      <td>1000</td>\n",
       "      <td>30720</td>\n",
       "      <td>3000</td>\n",
       "      <td>1950</td>\n",
       "      <td>150</td>\n",
       "      <td>1</td>\n",
       "      <td>1</td>\n",
       "    </tr>\n",
       "    <tr>\n",
       "      <td>4</td>\n",
       "      <td>1000</td>\n",
       "      <td>9.00</td>\n",
       "      <td>57.00</td>\n",
       "      <td>14,568.91</td>\n",
       "      <td>58.00</td>\n",
       "      <td>440.14</td>\n",
       "      <td>52</td>\n",
       "      <td>NaN</td>\n",
       "      <td>Краснодар</td>\n",
       "      <td>Рафаил</td>\n",
       "      <td>Верещагин</td>\n",
       "      <td>2018-05-25</td>\n",
       "      <td>ultra</td>\n",
       "      <td>1000</td>\n",
       "      <td>30720</td>\n",
       "      <td>3000</td>\n",
       "      <td>1950</td>\n",
       "      <td>150</td>\n",
       "      <td>1</td>\n",
       "      <td>1</td>\n",
       "    </tr>\n",
       "    <tr>\n",
       "      <td>...</td>\n",
       "      <td>...</td>\n",
       "      <td>...</td>\n",
       "      <td>...</td>\n",
       "      <td>...</td>\n",
       "      <td>...</td>\n",
       "      <td>...</td>\n",
       "      <td>...</td>\n",
       "      <td>...</td>\n",
       "      <td>...</td>\n",
       "      <td>...</td>\n",
       "      <td>...</td>\n",
       "      <td>...</td>\n",
       "      <td>...</td>\n",
       "      <td>...</td>\n",
       "      <td>...</td>\n",
       "      <td>...</td>\n",
       "      <td>...</td>\n",
       "      <td>...</td>\n",
       "      <td>...</td>\n",
       "      <td>...</td>\n",
       "    </tr>\n",
       "    <tr>\n",
       "      <td>3211</td>\n",
       "      <td>1499</td>\n",
       "      <td>10.00</td>\n",
       "      <td>48.00</td>\n",
       "      <td>17,788.51</td>\n",
       "      <td>68.00</td>\n",
       "      <td>429.91</td>\n",
       "      <td>35</td>\n",
       "      <td>NaN</td>\n",
       "      <td>Пермь</td>\n",
       "      <td>Гектор</td>\n",
       "      <td>Корнилов</td>\n",
       "      <td>2018-09-27</td>\n",
       "      <td>smart</td>\n",
       "      <td>50</td>\n",
       "      <td>15360</td>\n",
       "      <td>500</td>\n",
       "      <td>550</td>\n",
       "      <td>200</td>\n",
       "      <td>3</td>\n",
       "      <td>3</td>\n",
       "    </tr>\n",
       "    <tr>\n",
       "      <td>3212</td>\n",
       "      <td>1499</td>\n",
       "      <td>11.00</td>\n",
       "      <td>59.00</td>\n",
       "      <td>17,963.31</td>\n",
       "      <td>74.00</td>\n",
       "      <td>576.50</td>\n",
       "      <td>35</td>\n",
       "      <td>NaN</td>\n",
       "      <td>Пермь</td>\n",
       "      <td>Гектор</td>\n",
       "      <td>Корнилов</td>\n",
       "      <td>2018-09-27</td>\n",
       "      <td>smart</td>\n",
       "      <td>50</td>\n",
       "      <td>15360</td>\n",
       "      <td>500</td>\n",
       "      <td>550</td>\n",
       "      <td>200</td>\n",
       "      <td>3</td>\n",
       "      <td>3</td>\n",
       "    </tr>\n",
       "    <tr>\n",
       "      <td>3213</td>\n",
       "      <td>1499</td>\n",
       "      <td>12.00</td>\n",
       "      <td>66.00</td>\n",
       "      <td>13,055.58</td>\n",
       "      <td>69.00</td>\n",
       "      <td>465.16</td>\n",
       "      <td>35</td>\n",
       "      <td>NaN</td>\n",
       "      <td>Пермь</td>\n",
       "      <td>Гектор</td>\n",
       "      <td>Корнилов</td>\n",
       "      <td>2018-09-27</td>\n",
       "      <td>smart</td>\n",
       "      <td>50</td>\n",
       "      <td>15360</td>\n",
       "      <td>500</td>\n",
       "      <td>550</td>\n",
       "      <td>200</td>\n",
       "      <td>3</td>\n",
       "      <td>3</td>\n",
       "    </tr>\n",
       "    <tr>\n",
       "      <td>3214</td>\n",
       "      <td>1128</td>\n",
       "      <td>nan</td>\n",
       "      <td>nan</td>\n",
       "      <td>nan</td>\n",
       "      <td>nan</td>\n",
       "      <td>nan</td>\n",
       "      <td>51</td>\n",
       "      <td>2018-12-23</td>\n",
       "      <td>Волжский</td>\n",
       "      <td>Ксения</td>\n",
       "      <td>Агаева</td>\n",
       "      <td>2018-12-15</td>\n",
       "      <td>ultra</td>\n",
       "      <td>1000</td>\n",
       "      <td>30720</td>\n",
       "      <td>3000</td>\n",
       "      <td>1950</td>\n",
       "      <td>150</td>\n",
       "      <td>1</td>\n",
       "      <td>1</td>\n",
       "    </tr>\n",
       "    <tr>\n",
       "      <td>3215</td>\n",
       "      <td>1371</td>\n",
       "      <td>nan</td>\n",
       "      <td>nan</td>\n",
       "      <td>nan</td>\n",
       "      <td>nan</td>\n",
       "      <td>nan</td>\n",
       "      <td>50</td>\n",
       "      <td>2018-12-30</td>\n",
       "      <td>Омск</td>\n",
       "      <td>Ириней</td>\n",
       "      <td>Трофимов</td>\n",
       "      <td>2018-12-25</td>\n",
       "      <td>smart</td>\n",
       "      <td>50</td>\n",
       "      <td>15360</td>\n",
       "      <td>500</td>\n",
       "      <td>550</td>\n",
       "      <td>200</td>\n",
       "      <td>3</td>\n",
       "      <td>3</td>\n",
       "    </tr>\n",
       "  </tbody>\n",
       "</table>\n",
       "<p>3216 rows × 20 columns</p>\n",
       "</div>"
      ],
      "text/plain": [
       "      user_id  month  message_count  mb_used_sum  calls_count  duration_sum  \\\n",
       "0        1000   5.00          22.00     2,253.49        22.00        150.06   \n",
       "1        1000   6.00          60.00    23,233.77        43.00        158.90   \n",
       "2        1000   7.00          75.00    14,003.64        47.00        318.80   \n",
       "3        1000   8.00          81.00    14,055.93        52.00        389.87   \n",
       "4        1000   9.00          57.00    14,568.91        58.00        440.14   \n",
       "...       ...    ...            ...          ...          ...           ...   \n",
       "3211     1499  10.00          48.00    17,788.51        68.00        429.91   \n",
       "3212     1499  11.00          59.00    17,963.31        74.00        576.50   \n",
       "3213     1499  12.00          66.00    13,055.58        69.00        465.16   \n",
       "3214     1128    nan            nan          nan          nan           nan   \n",
       "3215     1371    nan            nan          nan          nan           nan   \n",
       "\n",
       "      age  churn_date       city first_name  last_name    reg_date tariff  \\\n",
       "0      52         NaN  Краснодар     Рафаил  Верещагин  2018-05-25  ultra   \n",
       "1      52         NaN  Краснодар     Рафаил  Верещагин  2018-05-25  ultra   \n",
       "2      52         NaN  Краснодар     Рафаил  Верещагин  2018-05-25  ultra   \n",
       "3      52         NaN  Краснодар     Рафаил  Верещагин  2018-05-25  ultra   \n",
       "4      52         NaN  Краснодар     Рафаил  Верещагин  2018-05-25  ultra   \n",
       "...   ...         ...        ...        ...        ...         ...    ...   \n",
       "3211   35         NaN      Пермь     Гектор   Корнилов  2018-09-27  smart   \n",
       "3212   35         NaN      Пермь     Гектор   Корнилов  2018-09-27  smart   \n",
       "3213   35         NaN      Пермь     Гектор   Корнилов  2018-09-27  smart   \n",
       "3214   51  2018-12-23   Волжский     Ксения     Агаева  2018-12-15  ultra   \n",
       "3215   50  2018-12-30       Омск     Ириней   Трофимов  2018-12-25  smart   \n",
       "\n",
       "      messages_included  mb_per_month_included  minutes_included  \\\n",
       "0                  1000                  30720              3000   \n",
       "1                  1000                  30720              3000   \n",
       "2                  1000                  30720              3000   \n",
       "3                  1000                  30720              3000   \n",
       "4                  1000                  30720              3000   \n",
       "...                 ...                    ...               ...   \n",
       "3211                 50                  15360               500   \n",
       "3212                 50                  15360               500   \n",
       "3213                 50                  15360               500   \n",
       "3214               1000                  30720              3000   \n",
       "3215                 50                  15360               500   \n",
       "\n",
       "      rub_monthly_fee  rub_per_gb  rub_per_message  rub_per_minute  \n",
       "0                1950         150                1               1  \n",
       "1                1950         150                1               1  \n",
       "2                1950         150                1               1  \n",
       "3                1950         150                1               1  \n",
       "4                1950         150                1               1  \n",
       "...               ...         ...              ...             ...  \n",
       "3211              550         200                3               3  \n",
       "3212              550         200                3               3  \n",
       "3213              550         200                3               3  \n",
       "3214             1950         150                1               1  \n",
       "3215              550         200                3               3  \n",
       "\n",
       "[3216 rows x 20 columns]"
      ]
     },
     "execution_count": 18,
     "metadata": {},
     "output_type": "execute_result"
    }
   ],
   "source": [
    "df = df_pivot.merge(df_users_tarifs, left_on='user_id', right_on = 'user_id', how='outer')\n",
    "df"
   ]
  },
  {
   "cell_type": "code",
   "execution_count": 19,
   "metadata": {},
   "outputs": [
    {
     "data": {
      "text/html": [
       "<div>\n",
       "<style scoped>\n",
       "    .dataframe tbody tr th:only-of-type {\n",
       "        vertical-align: middle;\n",
       "    }\n",
       "\n",
       "    .dataframe tbody tr th {\n",
       "        vertical-align: top;\n",
       "    }\n",
       "\n",
       "    .dataframe thead th {\n",
       "        text-align: right;\n",
       "    }\n",
       "</style>\n",
       "<table border=\"1\" class=\"dataframe\">\n",
       "  <thead>\n",
       "    <tr style=\"text-align: right;\">\n",
       "      <th></th>\n",
       "      <th>user_id</th>\n",
       "      <th>month</th>\n",
       "      <th>message_count</th>\n",
       "      <th>mb_used_sum</th>\n",
       "      <th>calls_count</th>\n",
       "      <th>duration_sum</th>\n",
       "      <th>age</th>\n",
       "      <th>churn_date</th>\n",
       "      <th>city</th>\n",
       "      <th>first_name</th>\n",
       "      <th>...</th>\n",
       "      <th>reg_date</th>\n",
       "      <th>tariff</th>\n",
       "      <th>messages_included</th>\n",
       "      <th>mb_per_month_included</th>\n",
       "      <th>minutes_included</th>\n",
       "      <th>rub_monthly_fee</th>\n",
       "      <th>rub_per_gb</th>\n",
       "      <th>rub_per_message</th>\n",
       "      <th>rub_per_minute</th>\n",
       "      <th>gb_used_sum</th>\n",
       "    </tr>\n",
       "  </thead>\n",
       "  <tbody>\n",
       "    <tr>\n",
       "      <td>1095</td>\n",
       "      <td>1173</td>\n",
       "      <td>8.00</td>\n",
       "      <td>13.00</td>\n",
       "      <td>16,015.88</td>\n",
       "      <td>137.00</td>\n",
       "      <td>945.64</td>\n",
       "      <td>46</td>\n",
       "      <td>NaN</td>\n",
       "      <td>Красноярск</td>\n",
       "      <td>Агафья</td>\n",
       "      <td>...</td>\n",
       "      <td>2018-06-21</td>\n",
       "      <td>smart</td>\n",
       "      <td>50</td>\n",
       "      <td>15360</td>\n",
       "      <td>500</td>\n",
       "      <td>550</td>\n",
       "      <td>200</td>\n",
       "      <td>3</td>\n",
       "      <td>3</td>\n",
       "      <td>17</td>\n",
       "    </tr>\n",
       "    <tr>\n",
       "      <td>1812</td>\n",
       "      <td>1285</td>\n",
       "      <td>8.00</td>\n",
       "      <td>112.00</td>\n",
       "      <td>5,661.19</td>\n",
       "      <td>51.00</td>\n",
       "      <td>419.24</td>\n",
       "      <td>44</td>\n",
       "      <td>NaN</td>\n",
       "      <td>Краснодар</td>\n",
       "      <td>Ефим</td>\n",
       "      <td>...</td>\n",
       "      <td>2018-02-20</td>\n",
       "      <td>smart</td>\n",
       "      <td>50</td>\n",
       "      <td>15360</td>\n",
       "      <td>500</td>\n",
       "      <td>550</td>\n",
       "      <td>200</td>\n",
       "      <td>3</td>\n",
       "      <td>3</td>\n",
       "      <td>6</td>\n",
       "    </tr>\n",
       "    <tr>\n",
       "      <td>2795</td>\n",
       "      <td>1433</td>\n",
       "      <td>5.00</td>\n",
       "      <td>94.00</td>\n",
       "      <td>14,139.01</td>\n",
       "      <td>76.00</td>\n",
       "      <td>522.30</td>\n",
       "      <td>71</td>\n",
       "      <td>NaN</td>\n",
       "      <td>Подольск</td>\n",
       "      <td>Клариса</td>\n",
       "      <td>...</td>\n",
       "      <td>2018-01-05</td>\n",
       "      <td>smart</td>\n",
       "      <td>50</td>\n",
       "      <td>15360</td>\n",
       "      <td>500</td>\n",
       "      <td>550</td>\n",
       "      <td>200</td>\n",
       "      <td>3</td>\n",
       "      <td>3</td>\n",
       "      <td>15</td>\n",
       "    </tr>\n",
       "    <tr>\n",
       "      <td>3187</td>\n",
       "      <td>1495</td>\n",
       "      <td>9.00</td>\n",
       "      <td>82.00</td>\n",
       "      <td>33,067.62</td>\n",
       "      <td>112.00</td>\n",
       "      <td>766.62</td>\n",
       "      <td>65</td>\n",
       "      <td>NaN</td>\n",
       "      <td>Иркутск</td>\n",
       "      <td>Авксентий</td>\n",
       "      <td>...</td>\n",
       "      <td>2018-08-28</td>\n",
       "      <td>ultra</td>\n",
       "      <td>1000</td>\n",
       "      <td>30720</td>\n",
       "      <td>3000</td>\n",
       "      <td>1950</td>\n",
       "      <td>150</td>\n",
       "      <td>1</td>\n",
       "      <td>1</td>\n",
       "      <td>34</td>\n",
       "    </tr>\n",
       "    <tr>\n",
       "      <td>2183</td>\n",
       "      <td>1344</td>\n",
       "      <td>7.00</td>\n",
       "      <td>128.00</td>\n",
       "      <td>27,194.85</td>\n",
       "      <td>112.00</td>\n",
       "      <td>688.85</td>\n",
       "      <td>60</td>\n",
       "      <td>NaN</td>\n",
       "      <td>Воронеж</td>\n",
       "      <td>Илзе</td>\n",
       "      <td>...</td>\n",
       "      <td>2018-04-03</td>\n",
       "      <td>ultra</td>\n",
       "      <td>1000</td>\n",
       "      <td>30720</td>\n",
       "      <td>3000</td>\n",
       "      <td>1950</td>\n",
       "      <td>150</td>\n",
       "      <td>1</td>\n",
       "      <td>1</td>\n",
       "      <td>28</td>\n",
       "    </tr>\n",
       "    <tr>\n",
       "      <td>16</td>\n",
       "      <td>1002</td>\n",
       "      <td>12.00</td>\n",
       "      <td>12.00</td>\n",
       "      <td>18,113.73</td>\n",
       "      <td>33.00</td>\n",
       "      <td>222.98</td>\n",
       "      <td>59</td>\n",
       "      <td>NaN</td>\n",
       "      <td>Стерлитамак</td>\n",
       "      <td>Евгений</td>\n",
       "      <td>...</td>\n",
       "      <td>2018-06-17</td>\n",
       "      <td>smart</td>\n",
       "      <td>50</td>\n",
       "      <td>15360</td>\n",
       "      <td>500</td>\n",
       "      <td>550</td>\n",
       "      <td>200</td>\n",
       "      <td>3</td>\n",
       "      <td>3</td>\n",
       "      <td>19</td>\n",
       "    </tr>\n",
       "    <tr>\n",
       "      <td>1568</td>\n",
       "      <td>1247</td>\n",
       "      <td>11.00</td>\n",
       "      <td>28.00</td>\n",
       "      <td>18,148.89</td>\n",
       "      <td>56.00</td>\n",
       "      <td>371.68</td>\n",
       "      <td>19</td>\n",
       "      <td>NaN</td>\n",
       "      <td>Москва</td>\n",
       "      <td>Адам</td>\n",
       "      <td>...</td>\n",
       "      <td>2018-05-23</td>\n",
       "      <td>smart</td>\n",
       "      <td>50</td>\n",
       "      <td>15360</td>\n",
       "      <td>500</td>\n",
       "      <td>550</td>\n",
       "      <td>200</td>\n",
       "      <td>3</td>\n",
       "      <td>3</td>\n",
       "      <td>19</td>\n",
       "    </tr>\n",
       "    <tr>\n",
       "      <td>72</td>\n",
       "      <td>1009</td>\n",
       "      <td>12.00</td>\n",
       "      <td>12.00</td>\n",
       "      <td>18,618.02</td>\n",
       "      <td>32.00</td>\n",
       "      <td>215.70</td>\n",
       "      <td>24</td>\n",
       "      <td>NaN</td>\n",
       "      <td>Пермь</td>\n",
       "      <td>Василиса</td>\n",
       "      <td>...</td>\n",
       "      <td>2018-03-22</td>\n",
       "      <td>smart</td>\n",
       "      <td>50</td>\n",
       "      <td>15360</td>\n",
       "      <td>500</td>\n",
       "      <td>550</td>\n",
       "      <td>200</td>\n",
       "      <td>3</td>\n",
       "      <td>3</td>\n",
       "      <td>19</td>\n",
       "    </tr>\n",
       "    <tr>\n",
       "      <td>1441</td>\n",
       "      <td>1226</td>\n",
       "      <td>8.00</td>\n",
       "      <td>104.00</td>\n",
       "      <td>13,546.97</td>\n",
       "      <td>22.00</td>\n",
       "      <td>135.55</td>\n",
       "      <td>19</td>\n",
       "      <td>NaN</td>\n",
       "      <td>Новосибирск</td>\n",
       "      <td>Альбин</td>\n",
       "      <td>...</td>\n",
       "      <td>2018-06-01</td>\n",
       "      <td>ultra</td>\n",
       "      <td>1000</td>\n",
       "      <td>30720</td>\n",
       "      <td>3000</td>\n",
       "      <td>1950</td>\n",
       "      <td>150</td>\n",
       "      <td>1</td>\n",
       "      <td>1</td>\n",
       "      <td>14</td>\n",
       "    </tr>\n",
       "    <tr>\n",
       "      <td>721</td>\n",
       "      <td>1113</td>\n",
       "      <td>9.00</td>\n",
       "      <td>37.00</td>\n",
       "      <td>12,569.35</td>\n",
       "      <td>96.00</td>\n",
       "      <td>601.43</td>\n",
       "      <td>52</td>\n",
       "      <td>NaN</td>\n",
       "      <td>Чита</td>\n",
       "      <td>Харитон</td>\n",
       "      <td>...</td>\n",
       "      <td>2018-01-24</td>\n",
       "      <td>smart</td>\n",
       "      <td>50</td>\n",
       "      <td>15360</td>\n",
       "      <td>500</td>\n",
       "      <td>550</td>\n",
       "      <td>200</td>\n",
       "      <td>3</td>\n",
       "      <td>3</td>\n",
       "      <td>13</td>\n",
       "    </tr>\n",
       "  </tbody>\n",
       "</table>\n",
       "<p>10 rows × 21 columns</p>\n",
       "</div>"
      ],
      "text/plain": [
       "      user_id  month  message_count  mb_used_sum  calls_count  duration_sum  \\\n",
       "1095     1173   8.00          13.00    16,015.88       137.00        945.64   \n",
       "1812     1285   8.00         112.00     5,661.19        51.00        419.24   \n",
       "2795     1433   5.00          94.00    14,139.01        76.00        522.30   \n",
       "3187     1495   9.00          82.00    33,067.62       112.00        766.62   \n",
       "2183     1344   7.00         128.00    27,194.85       112.00        688.85   \n",
       "16       1002  12.00          12.00    18,113.73        33.00        222.98   \n",
       "1568     1247  11.00          28.00    18,148.89        56.00        371.68   \n",
       "72       1009  12.00          12.00    18,618.02        32.00        215.70   \n",
       "1441     1226   8.00         104.00    13,546.97        22.00        135.55   \n",
       "721      1113   9.00          37.00    12,569.35        96.00        601.43   \n",
       "\n",
       "      age churn_date         city first_name  ...    reg_date tariff  \\\n",
       "1095   46        NaN   Красноярск     Агафья  ...  2018-06-21  smart   \n",
       "1812   44        NaN    Краснодар       Ефим  ...  2018-02-20  smart   \n",
       "2795   71        NaN     Подольск    Клариса  ...  2018-01-05  smart   \n",
       "3187   65        NaN      Иркутск  Авксентий  ...  2018-08-28  ultra   \n",
       "2183   60        NaN      Воронеж       Илзе  ...  2018-04-03  ultra   \n",
       "16     59        NaN  Стерлитамак    Евгений  ...  2018-06-17  smart   \n",
       "1568   19        NaN       Москва       Адам  ...  2018-05-23  smart   \n",
       "72     24        NaN        Пермь   Василиса  ...  2018-03-22  smart   \n",
       "1441   19        NaN  Новосибирск     Альбин  ...  2018-06-01  ultra   \n",
       "721    52        NaN         Чита    Харитон  ...  2018-01-24  smart   \n",
       "\n",
       "     messages_included  mb_per_month_included  minutes_included  \\\n",
       "1095                50                  15360               500   \n",
       "1812                50                  15360               500   \n",
       "2795                50                  15360               500   \n",
       "3187              1000                  30720              3000   \n",
       "2183              1000                  30720              3000   \n",
       "16                  50                  15360               500   \n",
       "1568                50                  15360               500   \n",
       "72                  50                  15360               500   \n",
       "1441              1000                  30720              3000   \n",
       "721                 50                  15360               500   \n",
       "\n",
       "      rub_monthly_fee  rub_per_gb  rub_per_message  rub_per_minute  \\\n",
       "1095              550         200                3               3   \n",
       "1812              550         200                3               3   \n",
       "2795              550         200                3               3   \n",
       "3187             1950         150                1               1   \n",
       "2183             1950         150                1               1   \n",
       "16                550         200                3               3   \n",
       "1568              550         200                3               3   \n",
       "72                550         200                3               3   \n",
       "1441             1950         150                1               1   \n",
       "721               550         200                3               3   \n",
       "\n",
       "      gb_used_sum  \n",
       "1095           17  \n",
       "1812            6  \n",
       "2795           15  \n",
       "3187           34  \n",
       "2183           28  \n",
       "16             19  \n",
       "1568           19  \n",
       "72             19  \n",
       "1441           14  \n",
       "721            13  \n",
       "\n",
       "[10 rows x 21 columns]"
      ]
     },
     "execution_count": 19,
     "metadata": {},
     "output_type": "execute_result"
    }
   ],
   "source": [
    "df.dropna(subset=['duration_sum'], inplace=True)\n",
    "df.dropna(subset=['mb_used_sum'], inplace=True)\n",
    "df.dropna(subset=['message_count'], inplace=True)\n",
    "\n",
    "def thousands_gb(x):                                  #function rounding megabytes up to gigabytes\n",
    "    return int(mt.ceil(x / 1000))\n",
    "\n",
    "df['gb_used_sum'] = df['mb_used_sum'].apply(thousands_gb) #new column with spent gigabytes\n",
    "df.sample(10)"
   ]
  },
  {
   "cell_type": "markdown",
   "metadata": {},
   "source": [
    "Fine. All information is at hand. I proceed to the calculation of profits in excess of tariff standards."
   ]
  },
  {
   "cell_type": "code",
   "execution_count": 20,
   "metadata": {},
   "outputs": [],
   "source": [
    "def calls_over_plan(row):\n",
    "        result = row['duration_sum'] - row['minutes_included']\n",
    "        return mt.ceil(np.where(result > 0, result, 0))\n",
    "    \n",
    "    \n",
    "def sms_over_plan(row):\n",
    "        result = row['message_count'] - row['messages_included']\n",
    "        return mt.ceil(np.where(result > 0, result, 0))\n",
    "    \n",
    "\n",
    "def internet_over_plan(row):\n",
    "        result = row['gb_used_sum'] - (row['mb_per_month_included'] / 1024)\n",
    "        return mt.ceil(np.where(result > 0, result, 0))"
   ]
  },
  {
   "cell_type": "markdown",
   "metadata": {},
   "source": [
    "Above is a function for calculating exceeded tariff limits. Let's apply it to the general dataframe and display the results in a separate column."
   ]
  },
  {
   "cell_type": "code",
   "execution_count": 21,
   "metadata": {},
   "outputs": [
    {
     "data": {
      "text/html": [
       "<div>\n",
       "<style scoped>\n",
       "    .dataframe tbody tr th:only-of-type {\n",
       "        vertical-align: middle;\n",
       "    }\n",
       "\n",
       "    .dataframe tbody tr th {\n",
       "        vertical-align: top;\n",
       "    }\n",
       "\n",
       "    .dataframe thead th {\n",
       "        text-align: right;\n",
       "    }\n",
       "</style>\n",
       "<table border=\"1\" class=\"dataframe\">\n",
       "  <thead>\n",
       "    <tr style=\"text-align: right;\">\n",
       "      <th></th>\n",
       "      <th>user_id</th>\n",
       "      <th>month</th>\n",
       "      <th>message_count</th>\n",
       "      <th>mb_used_sum</th>\n",
       "      <th>calls_count</th>\n",
       "      <th>duration_sum</th>\n",
       "      <th>age</th>\n",
       "      <th>churn_date</th>\n",
       "      <th>city</th>\n",
       "      <th>first_name</th>\n",
       "      <th>...</th>\n",
       "      <th>mb_per_month_included</th>\n",
       "      <th>minutes_included</th>\n",
       "      <th>rub_monthly_fee</th>\n",
       "      <th>rub_per_gb</th>\n",
       "      <th>rub_per_message</th>\n",
       "      <th>rub_per_minute</th>\n",
       "      <th>gb_used_sum</th>\n",
       "      <th>over_lim_calls</th>\n",
       "      <th>over_lim_sms</th>\n",
       "      <th>over_lim_gb</th>\n",
       "    </tr>\n",
       "  </thead>\n",
       "  <tbody>\n",
       "    <tr>\n",
       "      <td>0</td>\n",
       "      <td>1000</td>\n",
       "      <td>5.00</td>\n",
       "      <td>22.00</td>\n",
       "      <td>2,253.49</td>\n",
       "      <td>22.00</td>\n",
       "      <td>150.06</td>\n",
       "      <td>52</td>\n",
       "      <td>NaN</td>\n",
       "      <td>Краснодар</td>\n",
       "      <td>Рафаил</td>\n",
       "      <td>...</td>\n",
       "      <td>30720</td>\n",
       "      <td>3000</td>\n",
       "      <td>1950</td>\n",
       "      <td>150</td>\n",
       "      <td>1</td>\n",
       "      <td>1</td>\n",
       "      <td>3</td>\n",
       "      <td>0</td>\n",
       "      <td>0</td>\n",
       "      <td>0</td>\n",
       "    </tr>\n",
       "    <tr>\n",
       "      <td>1</td>\n",
       "      <td>1000</td>\n",
       "      <td>6.00</td>\n",
       "      <td>60.00</td>\n",
       "      <td>23,233.77</td>\n",
       "      <td>43.00</td>\n",
       "      <td>158.90</td>\n",
       "      <td>52</td>\n",
       "      <td>NaN</td>\n",
       "      <td>Краснодар</td>\n",
       "      <td>Рафаил</td>\n",
       "      <td>...</td>\n",
       "      <td>30720</td>\n",
       "      <td>3000</td>\n",
       "      <td>1950</td>\n",
       "      <td>150</td>\n",
       "      <td>1</td>\n",
       "      <td>1</td>\n",
       "      <td>24</td>\n",
       "      <td>0</td>\n",
       "      <td>0</td>\n",
       "      <td>0</td>\n",
       "    </tr>\n",
       "    <tr>\n",
       "      <td>2</td>\n",
       "      <td>1000</td>\n",
       "      <td>7.00</td>\n",
       "      <td>75.00</td>\n",
       "      <td>14,003.64</td>\n",
       "      <td>47.00</td>\n",
       "      <td>318.80</td>\n",
       "      <td>52</td>\n",
       "      <td>NaN</td>\n",
       "      <td>Краснодар</td>\n",
       "      <td>Рафаил</td>\n",
       "      <td>...</td>\n",
       "      <td>30720</td>\n",
       "      <td>3000</td>\n",
       "      <td>1950</td>\n",
       "      <td>150</td>\n",
       "      <td>1</td>\n",
       "      <td>1</td>\n",
       "      <td>15</td>\n",
       "      <td>0</td>\n",
       "      <td>0</td>\n",
       "      <td>0</td>\n",
       "    </tr>\n",
       "    <tr>\n",
       "      <td>3</td>\n",
       "      <td>1000</td>\n",
       "      <td>8.00</td>\n",
       "      <td>81.00</td>\n",
       "      <td>14,055.93</td>\n",
       "      <td>52.00</td>\n",
       "      <td>389.87</td>\n",
       "      <td>52</td>\n",
       "      <td>NaN</td>\n",
       "      <td>Краснодар</td>\n",
       "      <td>Рафаил</td>\n",
       "      <td>...</td>\n",
       "      <td>30720</td>\n",
       "      <td>3000</td>\n",
       "      <td>1950</td>\n",
       "      <td>150</td>\n",
       "      <td>1</td>\n",
       "      <td>1</td>\n",
       "      <td>15</td>\n",
       "      <td>0</td>\n",
       "      <td>0</td>\n",
       "      <td>0</td>\n",
       "    </tr>\n",
       "    <tr>\n",
       "      <td>4</td>\n",
       "      <td>1000</td>\n",
       "      <td>9.00</td>\n",
       "      <td>57.00</td>\n",
       "      <td>14,568.91</td>\n",
       "      <td>58.00</td>\n",
       "      <td>440.14</td>\n",
       "      <td>52</td>\n",
       "      <td>NaN</td>\n",
       "      <td>Краснодар</td>\n",
       "      <td>Рафаил</td>\n",
       "      <td>...</td>\n",
       "      <td>30720</td>\n",
       "      <td>3000</td>\n",
       "      <td>1950</td>\n",
       "      <td>150</td>\n",
       "      <td>1</td>\n",
       "      <td>1</td>\n",
       "      <td>15</td>\n",
       "      <td>0</td>\n",
       "      <td>0</td>\n",
       "      <td>0</td>\n",
       "    </tr>\n",
       "    <tr>\n",
       "      <td>...</td>\n",
       "      <td>...</td>\n",
       "      <td>...</td>\n",
       "      <td>...</td>\n",
       "      <td>...</td>\n",
       "      <td>...</td>\n",
       "      <td>...</td>\n",
       "      <td>...</td>\n",
       "      <td>...</td>\n",
       "      <td>...</td>\n",
       "      <td>...</td>\n",
       "      <td>...</td>\n",
       "      <td>...</td>\n",
       "      <td>...</td>\n",
       "      <td>...</td>\n",
       "      <td>...</td>\n",
       "      <td>...</td>\n",
       "      <td>...</td>\n",
       "      <td>...</td>\n",
       "      <td>...</td>\n",
       "      <td>...</td>\n",
       "      <td>...</td>\n",
       "    </tr>\n",
       "    <tr>\n",
       "      <td>3209</td>\n",
       "      <td>1498</td>\n",
       "      <td>10.00</td>\n",
       "      <td>42.00</td>\n",
       "      <td>20,579.36</td>\n",
       "      <td>41.00</td>\n",
       "      <td>232.63</td>\n",
       "      <td>68</td>\n",
       "      <td>2018-10-25</td>\n",
       "      <td>Владикавказ</td>\n",
       "      <td>Всеволод</td>\n",
       "      <td>...</td>\n",
       "      <td>15360</td>\n",
       "      <td>500</td>\n",
       "      <td>550</td>\n",
       "      <td>200</td>\n",
       "      <td>3</td>\n",
       "      <td>3</td>\n",
       "      <td>21</td>\n",
       "      <td>0</td>\n",
       "      <td>0</td>\n",
       "      <td>6</td>\n",
       "    </tr>\n",
       "    <tr>\n",
       "      <td>3210</td>\n",
       "      <td>1499</td>\n",
       "      <td>9.00</td>\n",
       "      <td>11.00</td>\n",
       "      <td>1,845.75</td>\n",
       "      <td>9.00</td>\n",
       "      <td>64.65</td>\n",
       "      <td>35</td>\n",
       "      <td>NaN</td>\n",
       "      <td>Пермь</td>\n",
       "      <td>Гектор</td>\n",
       "      <td>...</td>\n",
       "      <td>15360</td>\n",
       "      <td>500</td>\n",
       "      <td>550</td>\n",
       "      <td>200</td>\n",
       "      <td>3</td>\n",
       "      <td>3</td>\n",
       "      <td>2</td>\n",
       "      <td>0</td>\n",
       "      <td>0</td>\n",
       "      <td>0</td>\n",
       "    </tr>\n",
       "    <tr>\n",
       "      <td>3211</td>\n",
       "      <td>1499</td>\n",
       "      <td>10.00</td>\n",
       "      <td>48.00</td>\n",
       "      <td>17,788.51</td>\n",
       "      <td>68.00</td>\n",
       "      <td>429.91</td>\n",
       "      <td>35</td>\n",
       "      <td>NaN</td>\n",
       "      <td>Пермь</td>\n",
       "      <td>Гектор</td>\n",
       "      <td>...</td>\n",
       "      <td>15360</td>\n",
       "      <td>500</td>\n",
       "      <td>550</td>\n",
       "      <td>200</td>\n",
       "      <td>3</td>\n",
       "      <td>3</td>\n",
       "      <td>18</td>\n",
       "      <td>0</td>\n",
       "      <td>0</td>\n",
       "      <td>3</td>\n",
       "    </tr>\n",
       "    <tr>\n",
       "      <td>3212</td>\n",
       "      <td>1499</td>\n",
       "      <td>11.00</td>\n",
       "      <td>59.00</td>\n",
       "      <td>17,963.31</td>\n",
       "      <td>74.00</td>\n",
       "      <td>576.50</td>\n",
       "      <td>35</td>\n",
       "      <td>NaN</td>\n",
       "      <td>Пермь</td>\n",
       "      <td>Гектор</td>\n",
       "      <td>...</td>\n",
       "      <td>15360</td>\n",
       "      <td>500</td>\n",
       "      <td>550</td>\n",
       "      <td>200</td>\n",
       "      <td>3</td>\n",
       "      <td>3</td>\n",
       "      <td>18</td>\n",
       "      <td>77</td>\n",
       "      <td>9</td>\n",
       "      <td>3</td>\n",
       "    </tr>\n",
       "    <tr>\n",
       "      <td>3213</td>\n",
       "      <td>1499</td>\n",
       "      <td>12.00</td>\n",
       "      <td>66.00</td>\n",
       "      <td>13,055.58</td>\n",
       "      <td>69.00</td>\n",
       "      <td>465.16</td>\n",
       "      <td>35</td>\n",
       "      <td>NaN</td>\n",
       "      <td>Пермь</td>\n",
       "      <td>Гектор</td>\n",
       "      <td>...</td>\n",
       "      <td>15360</td>\n",
       "      <td>500</td>\n",
       "      <td>550</td>\n",
       "      <td>200</td>\n",
       "      <td>3</td>\n",
       "      <td>3</td>\n",
       "      <td>14</td>\n",
       "      <td>0</td>\n",
       "      <td>16</td>\n",
       "      <td>0</td>\n",
       "    </tr>\n",
       "  </tbody>\n",
       "</table>\n",
       "<p>2667 rows × 24 columns</p>\n",
       "</div>"
      ],
      "text/plain": [
       "      user_id  month  message_count  mb_used_sum  calls_count  duration_sum  \\\n",
       "0        1000   5.00          22.00     2,253.49        22.00        150.06   \n",
       "1        1000   6.00          60.00    23,233.77        43.00        158.90   \n",
       "2        1000   7.00          75.00    14,003.64        47.00        318.80   \n",
       "3        1000   8.00          81.00    14,055.93        52.00        389.87   \n",
       "4        1000   9.00          57.00    14,568.91        58.00        440.14   \n",
       "...       ...    ...            ...          ...          ...           ...   \n",
       "3209     1498  10.00          42.00    20,579.36        41.00        232.63   \n",
       "3210     1499   9.00          11.00     1,845.75         9.00         64.65   \n",
       "3211     1499  10.00          48.00    17,788.51        68.00        429.91   \n",
       "3212     1499  11.00          59.00    17,963.31        74.00        576.50   \n",
       "3213     1499  12.00          66.00    13,055.58        69.00        465.16   \n",
       "\n",
       "      age  churn_date         city first_name  ... mb_per_month_included  \\\n",
       "0      52         NaN    Краснодар     Рафаил  ...                 30720   \n",
       "1      52         NaN    Краснодар     Рафаил  ...                 30720   \n",
       "2      52         NaN    Краснодар     Рафаил  ...                 30720   \n",
       "3      52         NaN    Краснодар     Рафаил  ...                 30720   \n",
       "4      52         NaN    Краснодар     Рафаил  ...                 30720   \n",
       "...   ...         ...          ...        ...  ...                   ...   \n",
       "3209   68  2018-10-25  Владикавказ   Всеволод  ...                 15360   \n",
       "3210   35         NaN        Пермь     Гектор  ...                 15360   \n",
       "3211   35         NaN        Пермь     Гектор  ...                 15360   \n",
       "3212   35         NaN        Пермь     Гектор  ...                 15360   \n",
       "3213   35         NaN        Пермь     Гектор  ...                 15360   \n",
       "\n",
       "     minutes_included rub_monthly_fee  rub_per_gb  rub_per_message  \\\n",
       "0                3000            1950         150                1   \n",
       "1                3000            1950         150                1   \n",
       "2                3000            1950         150                1   \n",
       "3                3000            1950         150                1   \n",
       "4                3000            1950         150                1   \n",
       "...               ...             ...         ...              ...   \n",
       "3209              500             550         200                3   \n",
       "3210              500             550         200                3   \n",
       "3211              500             550         200                3   \n",
       "3212              500             550         200                3   \n",
       "3213              500             550         200                3   \n",
       "\n",
       "      rub_per_minute  gb_used_sum  over_lim_calls  over_lim_sms  over_lim_gb  \n",
       "0                  1            3               0             0            0  \n",
       "1                  1           24               0             0            0  \n",
       "2                  1           15               0             0            0  \n",
       "3                  1           15               0             0            0  \n",
       "4                  1           15               0             0            0  \n",
       "...              ...          ...             ...           ...          ...  \n",
       "3209               3           21               0             0            6  \n",
       "3210               3            2               0             0            0  \n",
       "3211               3           18               0             0            3  \n",
       "3212               3           18              77             9            3  \n",
       "3213               3           14               0            16            0  \n",
       "\n",
       "[2667 rows x 24 columns]"
      ]
     },
     "execution_count": 21,
     "metadata": {},
     "output_type": "execute_result"
    }
   ],
   "source": [
    "df['over_lim_calls'] = df.apply(calls_over_plan, axis=1)\n",
    "df['over_lim_sms'] = df.apply(sms_over_plan, axis=1)\n",
    "df['over_lim_gb'] = df.apply(internet_over_plan, axis=1)\n",
    "df"
   ]
  },
  {
   "cell_type": "markdown",
   "metadata": {},
   "source": [
    "Now let's calculate the profit received in excess of the tariff limits. Let's write a function to calculate it and apply it to the dataframe."
   ]
  },
  {
   "cell_type": "code",
   "execution_count": 22,
   "metadata": {
    "scrolled": true
   },
   "outputs": [
    {
     "data": {
      "text/html": [
       "<div>\n",
       "<style scoped>\n",
       "    .dataframe tbody tr th:only-of-type {\n",
       "        vertical-align: middle;\n",
       "    }\n",
       "\n",
       "    .dataframe tbody tr th {\n",
       "        vertical-align: top;\n",
       "    }\n",
       "\n",
       "    .dataframe thead th {\n",
       "        text-align: right;\n",
       "    }\n",
       "</style>\n",
       "<table border=\"1\" class=\"dataframe\">\n",
       "  <thead>\n",
       "    <tr style=\"text-align: right;\">\n",
       "      <th></th>\n",
       "      <th>user_id</th>\n",
       "      <th>month</th>\n",
       "      <th>message_count</th>\n",
       "      <th>mb_used_sum</th>\n",
       "      <th>calls_count</th>\n",
       "      <th>duration_sum</th>\n",
       "      <th>age</th>\n",
       "      <th>churn_date</th>\n",
       "      <th>city</th>\n",
       "      <th>first_name</th>\n",
       "      <th>...</th>\n",
       "      <th>minutes_included</th>\n",
       "      <th>rub_monthly_fee</th>\n",
       "      <th>rub_per_gb</th>\n",
       "      <th>rub_per_message</th>\n",
       "      <th>rub_per_minute</th>\n",
       "      <th>gb_used_sum</th>\n",
       "      <th>over_lim_calls</th>\n",
       "      <th>over_lim_sms</th>\n",
       "      <th>over_lim_gb</th>\n",
       "      <th>over_lim_income_rub</th>\n",
       "    </tr>\n",
       "  </thead>\n",
       "  <tbody>\n",
       "    <tr>\n",
       "      <td>0</td>\n",
       "      <td>1000</td>\n",
       "      <td>5.00</td>\n",
       "      <td>22.00</td>\n",
       "      <td>2,253.49</td>\n",
       "      <td>22.00</td>\n",
       "      <td>150.06</td>\n",
       "      <td>52</td>\n",
       "      <td>NaN</td>\n",
       "      <td>Краснодар</td>\n",
       "      <td>Рафаил</td>\n",
       "      <td>...</td>\n",
       "      <td>3000</td>\n",
       "      <td>1950</td>\n",
       "      <td>150</td>\n",
       "      <td>1</td>\n",
       "      <td>1</td>\n",
       "      <td>3</td>\n",
       "      <td>0</td>\n",
       "      <td>0</td>\n",
       "      <td>0</td>\n",
       "      <td>0</td>\n",
       "    </tr>\n",
       "    <tr>\n",
       "      <td>1</td>\n",
       "      <td>1000</td>\n",
       "      <td>6.00</td>\n",
       "      <td>60.00</td>\n",
       "      <td>23,233.77</td>\n",
       "      <td>43.00</td>\n",
       "      <td>158.90</td>\n",
       "      <td>52</td>\n",
       "      <td>NaN</td>\n",
       "      <td>Краснодар</td>\n",
       "      <td>Рафаил</td>\n",
       "      <td>...</td>\n",
       "      <td>3000</td>\n",
       "      <td>1950</td>\n",
       "      <td>150</td>\n",
       "      <td>1</td>\n",
       "      <td>1</td>\n",
       "      <td>24</td>\n",
       "      <td>0</td>\n",
       "      <td>0</td>\n",
       "      <td>0</td>\n",
       "      <td>0</td>\n",
       "    </tr>\n",
       "    <tr>\n",
       "      <td>2</td>\n",
       "      <td>1000</td>\n",
       "      <td>7.00</td>\n",
       "      <td>75.00</td>\n",
       "      <td>14,003.64</td>\n",
       "      <td>47.00</td>\n",
       "      <td>318.80</td>\n",
       "      <td>52</td>\n",
       "      <td>NaN</td>\n",
       "      <td>Краснодар</td>\n",
       "      <td>Рафаил</td>\n",
       "      <td>...</td>\n",
       "      <td>3000</td>\n",
       "      <td>1950</td>\n",
       "      <td>150</td>\n",
       "      <td>1</td>\n",
       "      <td>1</td>\n",
       "      <td>15</td>\n",
       "      <td>0</td>\n",
       "      <td>0</td>\n",
       "      <td>0</td>\n",
       "      <td>0</td>\n",
       "    </tr>\n",
       "    <tr>\n",
       "      <td>3</td>\n",
       "      <td>1000</td>\n",
       "      <td>8.00</td>\n",
       "      <td>81.00</td>\n",
       "      <td>14,055.93</td>\n",
       "      <td>52.00</td>\n",
       "      <td>389.87</td>\n",
       "      <td>52</td>\n",
       "      <td>NaN</td>\n",
       "      <td>Краснодар</td>\n",
       "      <td>Рафаил</td>\n",
       "      <td>...</td>\n",
       "      <td>3000</td>\n",
       "      <td>1950</td>\n",
       "      <td>150</td>\n",
       "      <td>1</td>\n",
       "      <td>1</td>\n",
       "      <td>15</td>\n",
       "      <td>0</td>\n",
       "      <td>0</td>\n",
       "      <td>0</td>\n",
       "      <td>0</td>\n",
       "    </tr>\n",
       "    <tr>\n",
       "      <td>4</td>\n",
       "      <td>1000</td>\n",
       "      <td>9.00</td>\n",
       "      <td>57.00</td>\n",
       "      <td>14,568.91</td>\n",
       "      <td>58.00</td>\n",
       "      <td>440.14</td>\n",
       "      <td>52</td>\n",
       "      <td>NaN</td>\n",
       "      <td>Краснодар</td>\n",
       "      <td>Рафаил</td>\n",
       "      <td>...</td>\n",
       "      <td>3000</td>\n",
       "      <td>1950</td>\n",
       "      <td>150</td>\n",
       "      <td>1</td>\n",
       "      <td>1</td>\n",
       "      <td>15</td>\n",
       "      <td>0</td>\n",
       "      <td>0</td>\n",
       "      <td>0</td>\n",
       "      <td>0</td>\n",
       "    </tr>\n",
       "    <tr>\n",
       "      <td>...</td>\n",
       "      <td>...</td>\n",
       "      <td>...</td>\n",
       "      <td>...</td>\n",
       "      <td>...</td>\n",
       "      <td>...</td>\n",
       "      <td>...</td>\n",
       "      <td>...</td>\n",
       "      <td>...</td>\n",
       "      <td>...</td>\n",
       "      <td>...</td>\n",
       "      <td>...</td>\n",
       "      <td>...</td>\n",
       "      <td>...</td>\n",
       "      <td>...</td>\n",
       "      <td>...</td>\n",
       "      <td>...</td>\n",
       "      <td>...</td>\n",
       "      <td>...</td>\n",
       "      <td>...</td>\n",
       "      <td>...</td>\n",
       "      <td>...</td>\n",
       "    </tr>\n",
       "    <tr>\n",
       "      <td>3209</td>\n",
       "      <td>1498</td>\n",
       "      <td>10.00</td>\n",
       "      <td>42.00</td>\n",
       "      <td>20,579.36</td>\n",
       "      <td>41.00</td>\n",
       "      <td>232.63</td>\n",
       "      <td>68</td>\n",
       "      <td>2018-10-25</td>\n",
       "      <td>Владикавказ</td>\n",
       "      <td>Всеволод</td>\n",
       "      <td>...</td>\n",
       "      <td>500</td>\n",
       "      <td>550</td>\n",
       "      <td>200</td>\n",
       "      <td>3</td>\n",
       "      <td>3</td>\n",
       "      <td>21</td>\n",
       "      <td>0</td>\n",
       "      <td>0</td>\n",
       "      <td>6</td>\n",
       "      <td>1200</td>\n",
       "    </tr>\n",
       "    <tr>\n",
       "      <td>3210</td>\n",
       "      <td>1499</td>\n",
       "      <td>9.00</td>\n",
       "      <td>11.00</td>\n",
       "      <td>1,845.75</td>\n",
       "      <td>9.00</td>\n",
       "      <td>64.65</td>\n",
       "      <td>35</td>\n",
       "      <td>NaN</td>\n",
       "      <td>Пермь</td>\n",
       "      <td>Гектор</td>\n",
       "      <td>...</td>\n",
       "      <td>500</td>\n",
       "      <td>550</td>\n",
       "      <td>200</td>\n",
       "      <td>3</td>\n",
       "      <td>3</td>\n",
       "      <td>2</td>\n",
       "      <td>0</td>\n",
       "      <td>0</td>\n",
       "      <td>0</td>\n",
       "      <td>0</td>\n",
       "    </tr>\n",
       "    <tr>\n",
       "      <td>3211</td>\n",
       "      <td>1499</td>\n",
       "      <td>10.00</td>\n",
       "      <td>48.00</td>\n",
       "      <td>17,788.51</td>\n",
       "      <td>68.00</td>\n",
       "      <td>429.91</td>\n",
       "      <td>35</td>\n",
       "      <td>NaN</td>\n",
       "      <td>Пермь</td>\n",
       "      <td>Гектор</td>\n",
       "      <td>...</td>\n",
       "      <td>500</td>\n",
       "      <td>550</td>\n",
       "      <td>200</td>\n",
       "      <td>3</td>\n",
       "      <td>3</td>\n",
       "      <td>18</td>\n",
       "      <td>0</td>\n",
       "      <td>0</td>\n",
       "      <td>3</td>\n",
       "      <td>600</td>\n",
       "    </tr>\n",
       "    <tr>\n",
       "      <td>3212</td>\n",
       "      <td>1499</td>\n",
       "      <td>11.00</td>\n",
       "      <td>59.00</td>\n",
       "      <td>17,963.31</td>\n",
       "      <td>74.00</td>\n",
       "      <td>576.50</td>\n",
       "      <td>35</td>\n",
       "      <td>NaN</td>\n",
       "      <td>Пермь</td>\n",
       "      <td>Гектор</td>\n",
       "      <td>...</td>\n",
       "      <td>500</td>\n",
       "      <td>550</td>\n",
       "      <td>200</td>\n",
       "      <td>3</td>\n",
       "      <td>3</td>\n",
       "      <td>18</td>\n",
       "      <td>77</td>\n",
       "      <td>9</td>\n",
       "      <td>3</td>\n",
       "      <td>858</td>\n",
       "    </tr>\n",
       "    <tr>\n",
       "      <td>3213</td>\n",
       "      <td>1499</td>\n",
       "      <td>12.00</td>\n",
       "      <td>66.00</td>\n",
       "      <td>13,055.58</td>\n",
       "      <td>69.00</td>\n",
       "      <td>465.16</td>\n",
       "      <td>35</td>\n",
       "      <td>NaN</td>\n",
       "      <td>Пермь</td>\n",
       "      <td>Гектор</td>\n",
       "      <td>...</td>\n",
       "      <td>500</td>\n",
       "      <td>550</td>\n",
       "      <td>200</td>\n",
       "      <td>3</td>\n",
       "      <td>3</td>\n",
       "      <td>14</td>\n",
       "      <td>0</td>\n",
       "      <td>16</td>\n",
       "      <td>0</td>\n",
       "      <td>48</td>\n",
       "    </tr>\n",
       "  </tbody>\n",
       "</table>\n",
       "<p>2667 rows × 25 columns</p>\n",
       "</div>"
      ],
      "text/plain": [
       "      user_id  month  message_count  mb_used_sum  calls_count  duration_sum  \\\n",
       "0        1000   5.00          22.00     2,253.49        22.00        150.06   \n",
       "1        1000   6.00          60.00    23,233.77        43.00        158.90   \n",
       "2        1000   7.00          75.00    14,003.64        47.00        318.80   \n",
       "3        1000   8.00          81.00    14,055.93        52.00        389.87   \n",
       "4        1000   9.00          57.00    14,568.91        58.00        440.14   \n",
       "...       ...    ...            ...          ...          ...           ...   \n",
       "3209     1498  10.00          42.00    20,579.36        41.00        232.63   \n",
       "3210     1499   9.00          11.00     1,845.75         9.00         64.65   \n",
       "3211     1499  10.00          48.00    17,788.51        68.00        429.91   \n",
       "3212     1499  11.00          59.00    17,963.31        74.00        576.50   \n",
       "3213     1499  12.00          66.00    13,055.58        69.00        465.16   \n",
       "\n",
       "      age  churn_date         city first_name  ... minutes_included  \\\n",
       "0      52         NaN    Краснодар     Рафаил  ...             3000   \n",
       "1      52         NaN    Краснодар     Рафаил  ...             3000   \n",
       "2      52         NaN    Краснодар     Рафаил  ...             3000   \n",
       "3      52         NaN    Краснодар     Рафаил  ...             3000   \n",
       "4      52         NaN    Краснодар     Рафаил  ...             3000   \n",
       "...   ...         ...          ...        ...  ...              ...   \n",
       "3209   68  2018-10-25  Владикавказ   Всеволод  ...              500   \n",
       "3210   35         NaN        Пермь     Гектор  ...              500   \n",
       "3211   35         NaN        Пермь     Гектор  ...              500   \n",
       "3212   35         NaN        Пермь     Гектор  ...              500   \n",
       "3213   35         NaN        Пермь     Гектор  ...              500   \n",
       "\n",
       "     rub_monthly_fee rub_per_gb  rub_per_message  rub_per_minute  gb_used_sum  \\\n",
       "0               1950        150                1               1            3   \n",
       "1               1950        150                1               1           24   \n",
       "2               1950        150                1               1           15   \n",
       "3               1950        150                1               1           15   \n",
       "4               1950        150                1               1           15   \n",
       "...              ...        ...              ...             ...          ...   \n",
       "3209             550        200                3               3           21   \n",
       "3210             550        200                3               3            2   \n",
       "3211             550        200                3               3           18   \n",
       "3212             550        200                3               3           18   \n",
       "3213             550        200                3               3           14   \n",
       "\n",
       "      over_lim_calls  over_lim_sms  over_lim_gb  over_lim_income_rub  \n",
       "0                  0             0            0                    0  \n",
       "1                  0             0            0                    0  \n",
       "2                  0             0            0                    0  \n",
       "3                  0             0            0                    0  \n",
       "4                  0             0            0                    0  \n",
       "...              ...           ...          ...                  ...  \n",
       "3209               0             0            6                 1200  \n",
       "3210               0             0            0                    0  \n",
       "3211               0             0            3                  600  \n",
       "3212              77             9            3                  858  \n",
       "3213               0            16            0                   48  \n",
       "\n",
       "[2667 rows x 25 columns]"
      ]
     },
     "execution_count": 22,
     "metadata": {},
     "output_type": "execute_result"
    }
   ],
   "source": [
    "def over_lim_income(row):\n",
    "    sum_per_month = 0\n",
    "    sum_per_month += row['over_lim_calls'] * row['rub_per_minute']\n",
    "    sum_per_month += row['over_lim_sms'] * row['rub_per_message']\n",
    "    sum_per_month += row['over_lim_gb'] * row['rub_per_gb']\n",
    "    return sum_per_month\n",
    "\n",
    "df['over_lim_income_rub'] = df.apply(over_lim_income, axis=1)\n",
    "\n",
    "df"
   ]
  },
  {
   "cell_type": "markdown",
   "metadata": {},
   "source": [
    "I also consider it necessary to create a column with information on the entire amount paid per month for each client. The tariff fee and the fee for exceeding the limits are taken into account."
   ]
  },
  {
   "cell_type": "code",
   "execution_count": 23,
   "metadata": {},
   "outputs": [],
   "source": [
    "def overall(row):                                        #function for calculating the total monthly income, taking into account\n",
    "    revenue = 0                                          #tariff prices and fees for exceeding tariff limits\n",
    "    if row['tariff'] == 'ultra':\n",
    "        revenue = row['over_lim_income_rub'] + 1950\n",
    "    else:\n",
    "        revenue = row['over_lim_income_rub'] + 550 \n",
    "    return revenue\n",
    "\n",
    "df['overall_income'] = df.apply(overall, axis=1)\n",
    "#df"
   ]
  },
  {
   "cell_type": "markdown",
   "metadata": {},
   "source": [
    "And finally, a column with a division into Moscow and other regions is needed for the purposes of researching hypotheses."
   ]
  },
  {
   "cell_type": "code",
   "execution_count": 24,
   "metadata": {},
   "outputs": [
    {
     "data": {
      "text/html": [
       "<div>\n",
       "<style scoped>\n",
       "    .dataframe tbody tr th:only-of-type {\n",
       "        vertical-align: middle;\n",
       "    }\n",
       "\n",
       "    .dataframe tbody tr th {\n",
       "        vertical-align: top;\n",
       "    }\n",
       "\n",
       "    .dataframe thead th {\n",
       "        text-align: right;\n",
       "    }\n",
       "</style>\n",
       "<table border=\"1\" class=\"dataframe\">\n",
       "  <thead>\n",
       "    <tr style=\"text-align: right;\">\n",
       "      <th></th>\n",
       "      <th>user_id</th>\n",
       "      <th>month</th>\n",
       "      <th>message_count</th>\n",
       "      <th>mb_used_sum</th>\n",
       "      <th>calls_count</th>\n",
       "      <th>duration_sum</th>\n",
       "      <th>age</th>\n",
       "      <th>churn_date</th>\n",
       "      <th>city</th>\n",
       "      <th>first_name</th>\n",
       "      <th>...</th>\n",
       "      <th>rub_per_gb</th>\n",
       "      <th>rub_per_message</th>\n",
       "      <th>rub_per_minute</th>\n",
       "      <th>gb_used_sum</th>\n",
       "      <th>over_lim_calls</th>\n",
       "      <th>over_lim_sms</th>\n",
       "      <th>over_lim_gb</th>\n",
       "      <th>over_lim_income_rub</th>\n",
       "      <th>overall_income</th>\n",
       "      <th>region</th>\n",
       "    </tr>\n",
       "  </thead>\n",
       "  <tbody>\n",
       "    <tr>\n",
       "      <td>0</td>\n",
       "      <td>1000</td>\n",
       "      <td>5.00</td>\n",
       "      <td>22.00</td>\n",
       "      <td>2,253.49</td>\n",
       "      <td>22.00</td>\n",
       "      <td>150.06</td>\n",
       "      <td>52</td>\n",
       "      <td>NaN</td>\n",
       "      <td>Краснодар</td>\n",
       "      <td>Рафаил</td>\n",
       "      <td>...</td>\n",
       "      <td>150</td>\n",
       "      <td>1</td>\n",
       "      <td>1</td>\n",
       "      <td>3</td>\n",
       "      <td>0</td>\n",
       "      <td>0</td>\n",
       "      <td>0</td>\n",
       "      <td>0</td>\n",
       "      <td>1950</td>\n",
       "      <td>Иной регион</td>\n",
       "    </tr>\n",
       "    <tr>\n",
       "      <td>1</td>\n",
       "      <td>1000</td>\n",
       "      <td>6.00</td>\n",
       "      <td>60.00</td>\n",
       "      <td>23,233.77</td>\n",
       "      <td>43.00</td>\n",
       "      <td>158.90</td>\n",
       "      <td>52</td>\n",
       "      <td>NaN</td>\n",
       "      <td>Краснодар</td>\n",
       "      <td>Рафаил</td>\n",
       "      <td>...</td>\n",
       "      <td>150</td>\n",
       "      <td>1</td>\n",
       "      <td>1</td>\n",
       "      <td>24</td>\n",
       "      <td>0</td>\n",
       "      <td>0</td>\n",
       "      <td>0</td>\n",
       "      <td>0</td>\n",
       "      <td>1950</td>\n",
       "      <td>Иной регион</td>\n",
       "    </tr>\n",
       "    <tr>\n",
       "      <td>2</td>\n",
       "      <td>1000</td>\n",
       "      <td>7.00</td>\n",
       "      <td>75.00</td>\n",
       "      <td>14,003.64</td>\n",
       "      <td>47.00</td>\n",
       "      <td>318.80</td>\n",
       "      <td>52</td>\n",
       "      <td>NaN</td>\n",
       "      <td>Краснодар</td>\n",
       "      <td>Рафаил</td>\n",
       "      <td>...</td>\n",
       "      <td>150</td>\n",
       "      <td>1</td>\n",
       "      <td>1</td>\n",
       "      <td>15</td>\n",
       "      <td>0</td>\n",
       "      <td>0</td>\n",
       "      <td>0</td>\n",
       "      <td>0</td>\n",
       "      <td>1950</td>\n",
       "      <td>Иной регион</td>\n",
       "    </tr>\n",
       "    <tr>\n",
       "      <td>3</td>\n",
       "      <td>1000</td>\n",
       "      <td>8.00</td>\n",
       "      <td>81.00</td>\n",
       "      <td>14,055.93</td>\n",
       "      <td>52.00</td>\n",
       "      <td>389.87</td>\n",
       "      <td>52</td>\n",
       "      <td>NaN</td>\n",
       "      <td>Краснодар</td>\n",
       "      <td>Рафаил</td>\n",
       "      <td>...</td>\n",
       "      <td>150</td>\n",
       "      <td>1</td>\n",
       "      <td>1</td>\n",
       "      <td>15</td>\n",
       "      <td>0</td>\n",
       "      <td>0</td>\n",
       "      <td>0</td>\n",
       "      <td>0</td>\n",
       "      <td>1950</td>\n",
       "      <td>Иной регион</td>\n",
       "    </tr>\n",
       "    <tr>\n",
       "      <td>4</td>\n",
       "      <td>1000</td>\n",
       "      <td>9.00</td>\n",
       "      <td>57.00</td>\n",
       "      <td>14,568.91</td>\n",
       "      <td>58.00</td>\n",
       "      <td>440.14</td>\n",
       "      <td>52</td>\n",
       "      <td>NaN</td>\n",
       "      <td>Краснодар</td>\n",
       "      <td>Рафаил</td>\n",
       "      <td>...</td>\n",
       "      <td>150</td>\n",
       "      <td>1</td>\n",
       "      <td>1</td>\n",
       "      <td>15</td>\n",
       "      <td>0</td>\n",
       "      <td>0</td>\n",
       "      <td>0</td>\n",
       "      <td>0</td>\n",
       "      <td>1950</td>\n",
       "      <td>Иной регион</td>\n",
       "    </tr>\n",
       "    <tr>\n",
       "      <td>...</td>\n",
       "      <td>...</td>\n",
       "      <td>...</td>\n",
       "      <td>...</td>\n",
       "      <td>...</td>\n",
       "      <td>...</td>\n",
       "      <td>...</td>\n",
       "      <td>...</td>\n",
       "      <td>...</td>\n",
       "      <td>...</td>\n",
       "      <td>...</td>\n",
       "      <td>...</td>\n",
       "      <td>...</td>\n",
       "      <td>...</td>\n",
       "      <td>...</td>\n",
       "      <td>...</td>\n",
       "      <td>...</td>\n",
       "      <td>...</td>\n",
       "      <td>...</td>\n",
       "      <td>...</td>\n",
       "      <td>...</td>\n",
       "      <td>...</td>\n",
       "    </tr>\n",
       "    <tr>\n",
       "      <td>3209</td>\n",
       "      <td>1498</td>\n",
       "      <td>10.00</td>\n",
       "      <td>42.00</td>\n",
       "      <td>20,579.36</td>\n",
       "      <td>41.00</td>\n",
       "      <td>232.63</td>\n",
       "      <td>68</td>\n",
       "      <td>2018-10-25</td>\n",
       "      <td>Владикавказ</td>\n",
       "      <td>Всеволод</td>\n",
       "      <td>...</td>\n",
       "      <td>200</td>\n",
       "      <td>3</td>\n",
       "      <td>3</td>\n",
       "      <td>21</td>\n",
       "      <td>0</td>\n",
       "      <td>0</td>\n",
       "      <td>6</td>\n",
       "      <td>1200</td>\n",
       "      <td>1750</td>\n",
       "      <td>Иной регион</td>\n",
       "    </tr>\n",
       "    <tr>\n",
       "      <td>3210</td>\n",
       "      <td>1499</td>\n",
       "      <td>9.00</td>\n",
       "      <td>11.00</td>\n",
       "      <td>1,845.75</td>\n",
       "      <td>9.00</td>\n",
       "      <td>64.65</td>\n",
       "      <td>35</td>\n",
       "      <td>NaN</td>\n",
       "      <td>Пермь</td>\n",
       "      <td>Гектор</td>\n",
       "      <td>...</td>\n",
       "      <td>200</td>\n",
       "      <td>3</td>\n",
       "      <td>3</td>\n",
       "      <td>2</td>\n",
       "      <td>0</td>\n",
       "      <td>0</td>\n",
       "      <td>0</td>\n",
       "      <td>0</td>\n",
       "      <td>550</td>\n",
       "      <td>Иной регион</td>\n",
       "    </tr>\n",
       "    <tr>\n",
       "      <td>3211</td>\n",
       "      <td>1499</td>\n",
       "      <td>10.00</td>\n",
       "      <td>48.00</td>\n",
       "      <td>17,788.51</td>\n",
       "      <td>68.00</td>\n",
       "      <td>429.91</td>\n",
       "      <td>35</td>\n",
       "      <td>NaN</td>\n",
       "      <td>Пермь</td>\n",
       "      <td>Гектор</td>\n",
       "      <td>...</td>\n",
       "      <td>200</td>\n",
       "      <td>3</td>\n",
       "      <td>3</td>\n",
       "      <td>18</td>\n",
       "      <td>0</td>\n",
       "      <td>0</td>\n",
       "      <td>3</td>\n",
       "      <td>600</td>\n",
       "      <td>1150</td>\n",
       "      <td>Иной регион</td>\n",
       "    </tr>\n",
       "    <tr>\n",
       "      <td>3212</td>\n",
       "      <td>1499</td>\n",
       "      <td>11.00</td>\n",
       "      <td>59.00</td>\n",
       "      <td>17,963.31</td>\n",
       "      <td>74.00</td>\n",
       "      <td>576.50</td>\n",
       "      <td>35</td>\n",
       "      <td>NaN</td>\n",
       "      <td>Пермь</td>\n",
       "      <td>Гектор</td>\n",
       "      <td>...</td>\n",
       "      <td>200</td>\n",
       "      <td>3</td>\n",
       "      <td>3</td>\n",
       "      <td>18</td>\n",
       "      <td>77</td>\n",
       "      <td>9</td>\n",
       "      <td>3</td>\n",
       "      <td>858</td>\n",
       "      <td>1408</td>\n",
       "      <td>Иной регион</td>\n",
       "    </tr>\n",
       "    <tr>\n",
       "      <td>3213</td>\n",
       "      <td>1499</td>\n",
       "      <td>12.00</td>\n",
       "      <td>66.00</td>\n",
       "      <td>13,055.58</td>\n",
       "      <td>69.00</td>\n",
       "      <td>465.16</td>\n",
       "      <td>35</td>\n",
       "      <td>NaN</td>\n",
       "      <td>Пермь</td>\n",
       "      <td>Гектор</td>\n",
       "      <td>...</td>\n",
       "      <td>200</td>\n",
       "      <td>3</td>\n",
       "      <td>3</td>\n",
       "      <td>14</td>\n",
       "      <td>0</td>\n",
       "      <td>16</td>\n",
       "      <td>0</td>\n",
       "      <td>48</td>\n",
       "      <td>598</td>\n",
       "      <td>Иной регион</td>\n",
       "    </tr>\n",
       "  </tbody>\n",
       "</table>\n",
       "<p>2667 rows × 27 columns</p>\n",
       "</div>"
      ],
      "text/plain": [
       "      user_id  month  message_count  mb_used_sum  calls_count  duration_sum  \\\n",
       "0        1000   5.00          22.00     2,253.49        22.00        150.06   \n",
       "1        1000   6.00          60.00    23,233.77        43.00        158.90   \n",
       "2        1000   7.00          75.00    14,003.64        47.00        318.80   \n",
       "3        1000   8.00          81.00    14,055.93        52.00        389.87   \n",
       "4        1000   9.00          57.00    14,568.91        58.00        440.14   \n",
       "...       ...    ...            ...          ...          ...           ...   \n",
       "3209     1498  10.00          42.00    20,579.36        41.00        232.63   \n",
       "3210     1499   9.00          11.00     1,845.75         9.00         64.65   \n",
       "3211     1499  10.00          48.00    17,788.51        68.00        429.91   \n",
       "3212     1499  11.00          59.00    17,963.31        74.00        576.50   \n",
       "3213     1499  12.00          66.00    13,055.58        69.00        465.16   \n",
       "\n",
       "      age  churn_date         city first_name  ... rub_per_gb rub_per_message  \\\n",
       "0      52         NaN    Краснодар     Рафаил  ...        150               1   \n",
       "1      52         NaN    Краснодар     Рафаил  ...        150               1   \n",
       "2      52         NaN    Краснодар     Рафаил  ...        150               1   \n",
       "3      52         NaN    Краснодар     Рафаил  ...        150               1   \n",
       "4      52         NaN    Краснодар     Рафаил  ...        150               1   \n",
       "...   ...         ...          ...        ...  ...        ...             ...   \n",
       "3209   68  2018-10-25  Владикавказ   Всеволод  ...        200               3   \n",
       "3210   35         NaN        Пермь     Гектор  ...        200               3   \n",
       "3211   35         NaN        Пермь     Гектор  ...        200               3   \n",
       "3212   35         NaN        Пермь     Гектор  ...        200               3   \n",
       "3213   35         NaN        Пермь     Гектор  ...        200               3   \n",
       "\n",
       "     rub_per_minute  gb_used_sum  over_lim_calls  over_lim_sms  over_lim_gb  \\\n",
       "0                 1            3               0             0            0   \n",
       "1                 1           24               0             0            0   \n",
       "2                 1           15               0             0            0   \n",
       "3                 1           15               0             0            0   \n",
       "4                 1           15               0             0            0   \n",
       "...             ...          ...             ...           ...          ...   \n",
       "3209              3           21               0             0            6   \n",
       "3210              3            2               0             0            0   \n",
       "3211              3           18               0             0            3   \n",
       "3212              3           18              77             9            3   \n",
       "3213              3           14               0            16            0   \n",
       "\n",
       "      over_lim_income_rub  overall_income       region  \n",
       "0                       0            1950  Иной регион  \n",
       "1                       0            1950  Иной регион  \n",
       "2                       0            1950  Иной регион  \n",
       "3                       0            1950  Иной регион  \n",
       "4                       0            1950  Иной регион  \n",
       "...                   ...             ...          ...  \n",
       "3209                 1200            1750  Иной регион  \n",
       "3210                    0             550  Иной регион  \n",
       "3211                  600            1150  Иной регион  \n",
       "3212                  858            1408  Иной регион  \n",
       "3213                   48             598  Иной регион  \n",
       "\n",
       "[2667 rows x 27 columns]"
      ]
     },
     "execution_count": 24,
     "metadata": {},
     "output_type": "execute_result"
    }
   ],
   "source": [
    "def calc_region(city):\n",
    "    if city == 'Москва': return 'Москва'\n",
    "    else: return 'Иной регион'\n",
    "    \n",
    "df['region'] = df['city'].apply(calc_region)\n",
    "df"
   ]
  },
  {
   "cell_type": "markdown",
   "metadata": {},
   "source": [
    "### Conclusion:"
   ]
  },
  {
   "cell_type": "markdown",
   "metadata": {},
   "source": [
    "All the necessary parameters are summarized in one large dataframe. As a result, we have all the information for each client from the users dataframe in accordance with the tariffs and broken down by months. All excesses of limits have been calculated in a fairly detailed degree up to months, overpayments on tariffs, the total fee per month, megabytes have been converted into gigabytes upwards. Zero values ​​of calls and internet sessions will not be corrected for anything else, since such things are quite likely and organic. At the moment, we have enough information to proceed to its analysis."
   ]
  },
  {
   "cell_type": "markdown",
   "metadata": {},
   "source": [
    "## Data analysis"
   ]
  },
  {
   "cell_type": "markdown",
   "metadata": {},
   "source": [
    "I will describe the behavior of the operator's clients based on the sample. Let's calculate how many minutes of conversation, how many messages and how much Internet traffic is required by users of each tariff per month."
   ]
  },
  {
   "cell_type": "markdown",
   "metadata": {},
   "source": [
    "Разделим общий датафрейм на два по тарифам."
   ]
  },
  {
   "cell_type": "code",
   "execution_count": 25,
   "metadata": {},
   "outputs": [],
   "source": [
    "smart = df.loc[df['tariff'] == 'smart']\n",
    "ultra = df.loc[df['tariff'] == 'ultra']"
   ]
  },
  {
   "cell_type": "markdown",
   "metadata": {},
   "source": [
    "### Smart Tariff"
   ]
  },
  {
   "cell_type": "markdown",
   "metadata": {},
   "source": [
    "Let's start by calculating the averages, variance and standard deviation by month for the Smart plan."
   ]
  },
  {
   "cell_type": "code",
   "execution_count": 26,
   "metadata": {
    "scrolled": false
   },
   "outputs": [
    {
     "data": {
      "text/html": [
       "<div>\n",
       "<style scoped>\n",
       "    .dataframe tbody tr th:only-of-type {\n",
       "        vertical-align: middle;\n",
       "    }\n",
       "\n",
       "    .dataframe tbody tr th {\n",
       "        vertical-align: top;\n",
       "    }\n",
       "\n",
       "    .dataframe thead tr th {\n",
       "        text-align: left;\n",
       "    }\n",
       "\n",
       "    .dataframe thead tr:last-of-type th {\n",
       "        text-align: right;\n",
       "    }\n",
       "</style>\n",
       "<table border=\"1\" class=\"dataframe\">\n",
       "  <thead>\n",
       "    <tr>\n",
       "      <th></th>\n",
       "      <th></th>\n",
       "      <th colspan=\"3\" halign=\"left\">mean</th>\n",
       "      <th colspan=\"3\" halign=\"left\">std</th>\n",
       "      <th colspan=\"3\" halign=\"left\">var</th>\n",
       "    </tr>\n",
       "    <tr>\n",
       "      <th></th>\n",
       "      <th></th>\n",
       "      <th>duration_sum</th>\n",
       "      <th>gb_used_sum</th>\n",
       "      <th>message_count</th>\n",
       "      <th>duration_sum</th>\n",
       "      <th>gb_used_sum</th>\n",
       "      <th>message_count</th>\n",
       "      <th>duration_sum</th>\n",
       "      <th>gb_used_sum</th>\n",
       "      <th>message_count</th>\n",
       "    </tr>\n",
       "    <tr>\n",
       "      <th>tariff</th>\n",
       "      <th>month</th>\n",
       "      <th></th>\n",
       "      <th></th>\n",
       "      <th></th>\n",
       "      <th></th>\n",
       "      <th></th>\n",
       "      <th></th>\n",
       "      <th></th>\n",
       "      <th></th>\n",
       "      <th></th>\n",
       "    </tr>\n",
       "  </thead>\n",
       "  <tbody>\n",
       "    <tr>\n",
       "      <td rowspan=\"12\" valign=\"top\">smart</td>\n",
       "      <td>1.00</td>\n",
       "      <td>199.56</td>\n",
       "      <td>9.19</td>\n",
       "      <td>20.00</td>\n",
       "      <td>147.41</td>\n",
       "      <td>6.53</td>\n",
       "      <td>15.88</td>\n",
       "      <td>21,730.57</td>\n",
       "      <td>42.69</td>\n",
       "      <td>252.13</td>\n",
       "    </tr>\n",
       "    <tr>\n",
       "      <td>2.00</td>\n",
       "      <td>295.25</td>\n",
       "      <td>12.44</td>\n",
       "      <td>27.94</td>\n",
       "      <td>185.27</td>\n",
       "      <td>6.01</td>\n",
       "      <td>20.99</td>\n",
       "      <td>34,325.88</td>\n",
       "      <td>36.13</td>\n",
       "      <td>440.47</td>\n",
       "    </tr>\n",
       "    <tr>\n",
       "      <td>3.00</td>\n",
       "      <td>370.77</td>\n",
       "      <td>15.12</td>\n",
       "      <td>35.55</td>\n",
       "      <td>184.66</td>\n",
       "      <td>5.83</td>\n",
       "      <td>25.88</td>\n",
       "      <td>34,098.07</td>\n",
       "      <td>33.99</td>\n",
       "      <td>669.78</td>\n",
       "    </tr>\n",
       "    <tr>\n",
       "      <td>4.00</td>\n",
       "      <td>359.94</td>\n",
       "      <td>14.10</td>\n",
       "      <td>35.86</td>\n",
       "      <td>173.29</td>\n",
       "      <td>5.54</td>\n",
       "      <td>22.76</td>\n",
       "      <td>30,029.31</td>\n",
       "      <td>30.73</td>\n",
       "      <td>517.87</td>\n",
       "    </tr>\n",
       "    <tr>\n",
       "      <td>5.00</td>\n",
       "      <td>376.89</td>\n",
       "      <td>16.67</td>\n",
       "      <td>39.03</td>\n",
       "      <td>174.73</td>\n",
       "      <td>5.67</td>\n",
       "      <td>25.27</td>\n",
       "      <td>30,528.89</td>\n",
       "      <td>32.11</td>\n",
       "      <td>638.78</td>\n",
       "    </tr>\n",
       "    <tr>\n",
       "      <td>6.00</td>\n",
       "      <td>376.61</td>\n",
       "      <td>16.28</td>\n",
       "      <td>38.51</td>\n",
       "      <td>160.83</td>\n",
       "      <td>5.84</td>\n",
       "      <td>27.13</td>\n",
       "      <td>25,865.08</td>\n",
       "      <td>34.12</td>\n",
       "      <td>736.22</td>\n",
       "    </tr>\n",
       "    <tr>\n",
       "      <td>7.00</td>\n",
       "      <td>386.39</td>\n",
       "      <td>16.32</td>\n",
       "      <td>38.99</td>\n",
       "      <td>168.07</td>\n",
       "      <td>5.74</td>\n",
       "      <td>26.82</td>\n",
       "      <td>28,245.93</td>\n",
       "      <td>32.92</td>\n",
       "      <td>719.35</td>\n",
       "    </tr>\n",
       "    <tr>\n",
       "      <td>8.00</td>\n",
       "      <td>405.42</td>\n",
       "      <td>17.37</td>\n",
       "      <td>39.04</td>\n",
       "      <td>174.26</td>\n",
       "      <td>5.56</td>\n",
       "      <td>27.66</td>\n",
       "      <td>30,366.40</td>\n",
       "      <td>30.86</td>\n",
       "      <td>765.32</td>\n",
       "    </tr>\n",
       "    <tr>\n",
       "      <td>9.00</td>\n",
       "      <td>405.15</td>\n",
       "      <td>16.85</td>\n",
       "      <td>39.25</td>\n",
       "      <td>170.16</td>\n",
       "      <td>5.25</td>\n",
       "      <td>26.56</td>\n",
       "      <td>28,953.70</td>\n",
       "      <td>27.55</td>\n",
       "      <td>705.45</td>\n",
       "    </tr>\n",
       "    <tr>\n",
       "      <td>10.00</td>\n",
       "      <td>403.49</td>\n",
       "      <td>17.24</td>\n",
       "      <td>39.15</td>\n",
       "      <td>175.13</td>\n",
       "      <td>5.90</td>\n",
       "      <td>27.17</td>\n",
       "      <td>30,668.99</td>\n",
       "      <td>34.76</td>\n",
       "      <td>738.12</td>\n",
       "    </tr>\n",
       "    <tr>\n",
       "      <td>11.00</td>\n",
       "      <td>415.28</td>\n",
       "      <td>17.47</td>\n",
       "      <td>39.96</td>\n",
       "      <td>163.91</td>\n",
       "      <td>5.19</td>\n",
       "      <td>26.69</td>\n",
       "      <td>26,867.66</td>\n",
       "      <td>26.91</td>\n",
       "      <td>712.54</td>\n",
       "    </tr>\n",
       "    <tr>\n",
       "      <td>12.00</td>\n",
       "      <td>447.27</td>\n",
       "      <td>18.40</td>\n",
       "      <td>42.29</td>\n",
       "      <td>190.20</td>\n",
       "      <td>5.56</td>\n",
       "      <td>28.90</td>\n",
       "      <td>36,177.74</td>\n",
       "      <td>30.94</td>\n",
       "      <td>835.18</td>\n",
       "    </tr>\n",
       "  </tbody>\n",
       "</table>\n",
       "</div>"
      ],
      "text/plain": [
       "                     mean                                    std              \\\n",
       "             duration_sum gb_used_sum message_count duration_sum gb_used_sum   \n",
       "tariff month                                                                   \n",
       "smart  1.00        199.56        9.19         20.00       147.41        6.53   \n",
       "       2.00        295.25       12.44         27.94       185.27        6.01   \n",
       "       3.00        370.77       15.12         35.55       184.66        5.83   \n",
       "       4.00        359.94       14.10         35.86       173.29        5.54   \n",
       "       5.00        376.89       16.67         39.03       174.73        5.67   \n",
       "       6.00        376.61       16.28         38.51       160.83        5.84   \n",
       "       7.00        386.39       16.32         38.99       168.07        5.74   \n",
       "       8.00        405.42       17.37         39.04       174.26        5.56   \n",
       "       9.00        405.15       16.85         39.25       170.16        5.25   \n",
       "       10.00       403.49       17.24         39.15       175.13        5.90   \n",
       "       11.00       415.28       17.47         39.96       163.91        5.19   \n",
       "       12.00       447.27       18.40         42.29       190.20        5.56   \n",
       "\n",
       "                                    var                            \n",
       "             message_count duration_sum gb_used_sum message_count  \n",
       "tariff month                                                       \n",
       "smart  1.00          15.88    21,730.57       42.69        252.13  \n",
       "       2.00          20.99    34,325.88       36.13        440.47  \n",
       "       3.00          25.88    34,098.07       33.99        669.78  \n",
       "       4.00          22.76    30,029.31       30.73        517.87  \n",
       "       5.00          25.27    30,528.89       32.11        638.78  \n",
       "       6.00          27.13    25,865.08       34.12        736.22  \n",
       "       7.00          26.82    28,245.93       32.92        719.35  \n",
       "       8.00          27.66    30,366.40       30.86        765.32  \n",
       "       9.00          26.56    28,953.70       27.55        705.45  \n",
       "       10.00         27.17    30,668.99       34.76        738.12  \n",
       "       11.00         26.69    26,867.66       26.91        712.54  \n",
       "       12.00         28.90    36,177.74       30.94        835.18  "
      ]
     },
     "execution_count": 26,
     "metadata": {},
     "output_type": "execute_result"
    }
   ],
   "source": [
    "pivot_smart = smart.pivot_table(index = ['tariff','month'], values = ['duration_sum', 'message_count', 'gb_used_sum'], aggfunc = ['mean', 'std', 'var'])\n",
    "pivot_smart"
   ]
  },
  {
   "cell_type": "markdown",
   "metadata": {},
   "source": [
    "And also for the entire accounting year as a whole."
   ]
  },
  {
   "cell_type": "code",
   "execution_count": 27,
   "metadata": {},
   "outputs": [
    {
     "data": {
      "text/html": [
       "<div>\n",
       "<style scoped>\n",
       "    .dataframe tbody tr th:only-of-type {\n",
       "        vertical-align: middle;\n",
       "    }\n",
       "\n",
       "    .dataframe tbody tr th {\n",
       "        vertical-align: top;\n",
       "    }\n",
       "\n",
       "    .dataframe thead tr th {\n",
       "        text-align: left;\n",
       "    }\n",
       "\n",
       "    .dataframe thead tr:last-of-type th {\n",
       "        text-align: right;\n",
       "    }\n",
       "</style>\n",
       "<table border=\"1\" class=\"dataframe\">\n",
       "  <thead>\n",
       "    <tr>\n",
       "      <th></th>\n",
       "      <th colspan=\"3\" halign=\"left\">mean</th>\n",
       "      <th colspan=\"3\" halign=\"left\">std</th>\n",
       "      <th colspan=\"3\" halign=\"left\">var</th>\n",
       "    </tr>\n",
       "    <tr>\n",
       "      <th></th>\n",
       "      <th>duration_sum</th>\n",
       "      <th>gb_used_sum</th>\n",
       "      <th>message_count</th>\n",
       "      <th>duration_sum</th>\n",
       "      <th>gb_used_sum</th>\n",
       "      <th>message_count</th>\n",
       "      <th>duration_sum</th>\n",
       "      <th>gb_used_sum</th>\n",
       "      <th>message_count</th>\n",
       "    </tr>\n",
       "    <tr>\n",
       "      <th>tariff</th>\n",
       "      <th></th>\n",
       "      <th></th>\n",
       "      <th></th>\n",
       "      <th></th>\n",
       "      <th></th>\n",
       "      <th></th>\n",
       "      <th></th>\n",
       "      <th></th>\n",
       "      <th></th>\n",
       "    </tr>\n",
       "  </thead>\n",
       "  <tbody>\n",
       "    <tr>\n",
       "      <td>smart</td>\n",
       "      <td>397.36</td>\n",
       "      <td>16.73</td>\n",
       "      <td>38.77</td>\n",
       "      <td>177.55</td>\n",
       "      <td>5.80</td>\n",
       "      <td>26.81</td>\n",
       "      <td>31,522.49</td>\n",
       "      <td>33.64</td>\n",
       "      <td>718.80</td>\n",
       "    </tr>\n",
       "  </tbody>\n",
       "</table>\n",
       "</div>"
      ],
      "text/plain": [
       "               mean                                    std              \\\n",
       "       duration_sum gb_used_sum message_count duration_sum gb_used_sum   \n",
       "tariff                                                                   \n",
       "smart        397.36       16.73         38.77       177.55        5.80   \n",
       "\n",
       "                              var                            \n",
       "       message_count duration_sum gb_used_sum message_count  \n",
       "tariff                                                       \n",
       "smart          26.81    31,522.49       33.64        718.80  "
      ]
     },
     "execution_count": 27,
     "metadata": {},
     "output_type": "execute_result"
    }
   ],
   "source": [
    "smart.pivot_table(index = ['tariff'], values = ['duration_sum', 'message_count', 'gb_used_sum'], aggfunc = ['mean', 'std', 'var'])"
   ]
  },
  {
   "cell_type": "code",
   "execution_count": 28,
   "metadata": {},
   "outputs": [
    {
     "name": "stdout",
     "output_type": "stream",
     "text": [
      "Лимит минут превышен в среднем на: 30.72845953002611\n",
      "Лимит сообщений превышен в среднем на: 6.750913838120105\n",
      "Лимит гигабайт превышен в среднем на: 3.2579634464751956\n"
     ]
    }
   ],
   "source": [
    "print('Лимит минут превышен в среднем на:', smart['over_lim_calls'].describe()['mean'])\n",
    "print('Лимит сообщений превышен в среднем на:', smart['over_lim_sms'].describe()['mean'])\n",
    "print('Лимит гигабайт превышен в среднем на:', smart['over_lim_gb'].describe()['mean'])"
   ]
  },
  {
   "cell_type": "code",
   "execution_count": 29,
   "metadata": {},
   "outputs": [
    {
     "name": "stdout",
     "output_type": "stream",
     "text": [
      "Лимит минут превышен в 28.25% случаев\n",
      "Лимит сообщений превышен в 29.45% случаев\n",
      "Лимит гигабайт превышен в 60.21% случаев\n"
     ]
    }
   ],
   "source": [
    "print('Лимит минут превышен в {:.2%} случаев'.format(smart[smart['over_lim_calls'] > 0].shape[0] / smart['over_lim_calls'].shape[0]))\n",
    "print('Лимит сообщений превышен в {:.2%} случаев'.format(smart[smart['over_lim_sms'] > 0].shape[0] / smart['over_lim_sms'].shape[0]))\n",
    "print('Лимит гигабайт превышен в {:.2%} случаев'.format(smart[smart['over_lim_gb'] > 0].shape[0] / smart['over_lim_gb'].shape[0]))\n",
    "\n"
   ]
  },
  {
   "cell_type": "markdown",
   "metadata": {},
   "source": [
    "Let's expand the required data visually."
   ]
  },
  {
   "cell_type": "code",
   "execution_count": 30,
   "metadata": {},
   "outputs": [
    {
     "data": {
      "image/png": "[encoded data removed]",
      "text/plain": [
       "<Figure size 720x720 with 9 Axes>"
      ]
     },
     "metadata": {},
     "output_type": "display_data"
    }
   ],
   "source": [
    "pd.plotting.scatter_matrix(smart[['duration_sum', 'message_count', 'gb_used_sum']], alpha = 0.3, figsize = (10,10))\n",
    "plt.show( )"
   ]
  },
  {
   "cell_type": "markdown",
   "metadata": {},
   "source": [
    "We have: the distribution of used gigabytes and minutes are normal, the sent messages have a Poisson distribution."
   ]
  },
  {
   "cell_type": "code",
   "execution_count": 31,
   "metadata": {},
   "outputs": [
    {
     "data": {
      "text/html": [
       "<div>\n",
       "<style scoped>\n",
       "    .dataframe tbody tr th:only-of-type {\n",
       "        vertical-align: middle;\n",
       "    }\n",
       "\n",
       "    .dataframe tbody tr th {\n",
       "        vertical-align: top;\n",
       "    }\n",
       "\n",
       "    .dataframe thead th {\n",
       "        text-align: right;\n",
       "    }\n",
       "</style>\n",
       "<table border=\"1\" class=\"dataframe\">\n",
       "  <thead>\n",
       "    <tr style=\"text-align: right;\">\n",
       "      <th></th>\n",
       "      <th>duration_sum</th>\n",
       "      <th>message_count</th>\n",
       "      <th>gb_used_sum</th>\n",
       "    </tr>\n",
       "  </thead>\n",
       "  <tbody>\n",
       "    <tr>\n",
       "      <td>count</td>\n",
       "      <td>1,915.00</td>\n",
       "      <td>1,915.00</td>\n",
       "      <td>1,915.00</td>\n",
       "    </tr>\n",
       "    <tr>\n",
       "      <td>mean</td>\n",
       "      <td>397.36</td>\n",
       "      <td>38.77</td>\n",
       "      <td>16.73</td>\n",
       "    </tr>\n",
       "    <tr>\n",
       "      <td>std</td>\n",
       "      <td>177.55</td>\n",
       "      <td>26.81</td>\n",
       "      <td>5.80</td>\n",
       "    </tr>\n",
       "    <tr>\n",
       "      <td>min</td>\n",
       "      <td>0.00</td>\n",
       "      <td>1.00</td>\n",
       "      <td>0.00</td>\n",
       "    </tr>\n",
       "    <tr>\n",
       "      <td>25%</td>\n",
       "      <td>269.57</td>\n",
       "      <td>17.00</td>\n",
       "      <td>13.00</td>\n",
       "    </tr>\n",
       "    <tr>\n",
       "      <td>50%</td>\n",
       "      <td>403.18</td>\n",
       "      <td>34.00</td>\n",
       "      <td>17.00</td>\n",
       "    </tr>\n",
       "    <tr>\n",
       "      <td>75%</td>\n",
       "      <td>516.70</td>\n",
       "      <td>55.00</td>\n",
       "      <td>21.00</td>\n",
       "    </tr>\n",
       "    <tr>\n",
       "      <td>max</td>\n",
       "      <td>1,354.22</td>\n",
       "      <td>143.00</td>\n",
       "      <td>39.00</td>\n",
       "    </tr>\n",
       "  </tbody>\n",
       "</table>\n",
       "</div>"
      ],
      "text/plain": [
       "       duration_sum  message_count  gb_used_sum\n",
       "count      1,915.00       1,915.00     1,915.00\n",
       "mean         397.36          38.77        16.73\n",
       "std          177.55          26.81         5.80\n",
       "min            0.00           1.00         0.00\n",
       "25%          269.57          17.00        13.00\n",
       "50%          403.18          34.00        17.00\n",
       "75%          516.70          55.00        21.00\n",
       "max        1,354.22         143.00        39.00"
      ]
     },
     "execution_count": 31,
     "metadata": {},
     "output_type": "execute_result"
    }
   ],
   "source": [
    "smart[['duration_sum', 'message_count', 'gb_used_sum']].describe()"
   ]
  },
  {
   "cell_type": "markdown",
   "metadata": {},
   "source": [
    "#### Subtotal:"
   ]
  },
  {
   "cell_type": "markdown",
   "metadata": {},
   "source": [
    "Thus, the call limit is exceeded by an average of 30 minutes (it costs about 90 rubles over the tariff), which is not so much, but the excess happens quite often (in 30% of cases). At the same time, in general, the proposed standards are sufficient for smart tariff customers - the median consumption of minutes is about 403, which does not cover the limit of 500 minutes, while the distribution of the indicator is normal. A similar situation with sent messages is the median consumption of SMS - 34 pieces per month, while the graph has the form of a Poisson distribution, which indicates that the number of clients exceeding the limit is insignificant. On average, the message limit is exceeded by only 6 pieces. With the Internet, the situation is completely different: more than 50% of customers do not fit into the traffic limit. At the same time, on average, the traffic limit is exceeded by 3 gigabytes, which is a lot, taking into account the price of 200 rubles for each gigabyte in excess. The chart below shows the situation in more detail."
   ]
  },
  {
   "cell_type": "code",
   "execution_count": 32,
   "metadata": {},
   "outputs": [
    {
     "data": {
      "image/png": "[encoded data removed]",
      "text/plain": [
       "<Figure size 432x288 with 1 Axes>"
      ]
     },
     "metadata": {},
     "output_type": "display_data"
    }
   ],
   "source": [
    "smart.boxplot(column=['gb_used_sum'])\n",
    "plt.show()"
   ]
  },
  {
   "cell_type": "markdown",
   "metadata": {},
   "source": [
    "### Ultra Tariff"
   ]
  },
  {
   "cell_type": "markdown",
   "metadata": {},
   "source": [
    "We will perform the same actions for the Ultra tariff."
   ]
  },
  {
   "cell_type": "code",
   "execution_count": 33,
   "metadata": {
    "scrolled": false
   },
   "outputs": [
    {
     "data": {
      "text/html": [
       "<div>\n",
       "<style scoped>\n",
       "    .dataframe tbody tr th:only-of-type {\n",
       "        vertical-align: middle;\n",
       "    }\n",
       "\n",
       "    .dataframe tbody tr th {\n",
       "        vertical-align: top;\n",
       "    }\n",
       "\n",
       "    .dataframe thead tr th {\n",
       "        text-align: left;\n",
       "    }\n",
       "\n",
       "    .dataframe thead tr:last-of-type th {\n",
       "        text-align: right;\n",
       "    }\n",
       "</style>\n",
       "<table border=\"1\" class=\"dataframe\">\n",
       "  <thead>\n",
       "    <tr>\n",
       "      <th></th>\n",
       "      <th></th>\n",
       "      <th colspan=\"3\" halign=\"left\">mean</th>\n",
       "      <th colspan=\"3\" halign=\"left\">std</th>\n",
       "      <th colspan=\"3\" halign=\"left\">var</th>\n",
       "    </tr>\n",
       "    <tr>\n",
       "      <th></th>\n",
       "      <th></th>\n",
       "      <th>duration_sum</th>\n",
       "      <th>gb_used_sum</th>\n",
       "      <th>message_count</th>\n",
       "      <th>duration_sum</th>\n",
       "      <th>gb_used_sum</th>\n",
       "      <th>message_count</th>\n",
       "      <th>duration_sum</th>\n",
       "      <th>gb_used_sum</th>\n",
       "      <th>message_count</th>\n",
       "    </tr>\n",
       "    <tr>\n",
       "      <th>tariff</th>\n",
       "      <th>month</th>\n",
       "      <th></th>\n",
       "      <th></th>\n",
       "      <th></th>\n",
       "      <th></th>\n",
       "      <th></th>\n",
       "      <th></th>\n",
       "      <th></th>\n",
       "      <th></th>\n",
       "      <th></th>\n",
       "    </tr>\n",
       "  </thead>\n",
       "  <tbody>\n",
       "    <tr>\n",
       "      <td rowspan=\"12\" valign=\"top\">ultra</td>\n",
       "      <td>1.00</td>\n",
       "      <td>450.18</td>\n",
       "      <td>14.57</td>\n",
       "      <td>43.43</td>\n",
       "      <td>251.37</td>\n",
       "      <td>5.32</td>\n",
       "      <td>27.66</td>\n",
       "      <td>63,186.70</td>\n",
       "      <td>28.29</td>\n",
       "      <td>765.29</td>\n",
       "    </tr>\n",
       "    <tr>\n",
       "      <td>2.00</td>\n",
       "      <td>378.05</td>\n",
       "      <td>15.36</td>\n",
       "      <td>37.29</td>\n",
       "      <td>313.94</td>\n",
       "      <td>11.34</td>\n",
       "      <td>25.69</td>\n",
       "      <td>98,558.12</td>\n",
       "      <td>128.55</td>\n",
       "      <td>660.22</td>\n",
       "    </tr>\n",
       "    <tr>\n",
       "      <td>3.00</td>\n",
       "      <td>522.24</td>\n",
       "      <td>17.64</td>\n",
       "      <td>47.80</td>\n",
       "      <td>349.72</td>\n",
       "      <td>10.93</td>\n",
       "      <td>42.74</td>\n",
       "      <td>122,306.70</td>\n",
       "      <td>119.41</td>\n",
       "      <td>1,826.67</td>\n",
       "    </tr>\n",
       "    <tr>\n",
       "      <td>4.00</td>\n",
       "      <td>471.41</td>\n",
       "      <td>17.32</td>\n",
       "      <td>45.45</td>\n",
       "      <td>255.93</td>\n",
       "      <td>8.53</td>\n",
       "      <td>37.57</td>\n",
       "      <td>65,499.48</td>\n",
       "      <td>72.82</td>\n",
       "      <td>1,411.33</td>\n",
       "    </tr>\n",
       "    <tr>\n",
       "      <td>5.00</td>\n",
       "      <td>502.43</td>\n",
       "      <td>19.46</td>\n",
       "      <td>50.04</td>\n",
       "      <td>271.17</td>\n",
       "      <td>9.65</td>\n",
       "      <td>40.70</td>\n",
       "      <td>73,532.09</td>\n",
       "      <td>93.19</td>\n",
       "      <td>1,656.72</td>\n",
       "    </tr>\n",
       "    <tr>\n",
       "      <td>6.00</td>\n",
       "      <td>469.92</td>\n",
       "      <td>18.98</td>\n",
       "      <td>50.89</td>\n",
       "      <td>294.69</td>\n",
       "      <td>8.87</td>\n",
       "      <td>41.02</td>\n",
       "      <td>86,839.30</td>\n",
       "      <td>78.73</td>\n",
       "      <td>1,682.55</td>\n",
       "    </tr>\n",
       "    <tr>\n",
       "      <td>7.00</td>\n",
       "      <td>527.27</td>\n",
       "      <td>20.64</td>\n",
       "      <td>61.29</td>\n",
       "      <td>285.00</td>\n",
       "      <td>9.67</td>\n",
       "      <td>44.18</td>\n",
       "      <td>81,223.98</td>\n",
       "      <td>93.56</td>\n",
       "      <td>1,951.47</td>\n",
       "    </tr>\n",
       "    <tr>\n",
       "      <td>8.00</td>\n",
       "      <td>498.01</td>\n",
       "      <td>19.86</td>\n",
       "      <td>58.90</td>\n",
       "      <td>293.76</td>\n",
       "      <td>9.94</td>\n",
       "      <td>43.80</td>\n",
       "      <td>86,294.44</td>\n",
       "      <td>98.78</td>\n",
       "      <td>1,918.65</td>\n",
       "    </tr>\n",
       "    <tr>\n",
       "      <td>9.00</td>\n",
       "      <td>533.09</td>\n",
       "      <td>19.90</td>\n",
       "      <td>63.54</td>\n",
       "      <td>296.05</td>\n",
       "      <td>9.05</td>\n",
       "      <td>42.15</td>\n",
       "      <td>87,645.87</td>\n",
       "      <td>81.96</td>\n",
       "      <td>1,776.79</td>\n",
       "    </tr>\n",
       "    <tr>\n",
       "      <td>10.00</td>\n",
       "      <td>544.60</td>\n",
       "      <td>20.96</td>\n",
       "      <td>70.76</td>\n",
       "      <td>301.48</td>\n",
       "      <td>9.68</td>\n",
       "      <td>48.34</td>\n",
       "      <td>90,893.17</td>\n",
       "      <td>93.69</td>\n",
       "      <td>2,337.20</td>\n",
       "    </tr>\n",
       "    <tr>\n",
       "      <td>11.00</td>\n",
       "      <td>528.79</td>\n",
       "      <td>20.21</td>\n",
       "      <td>67.24</td>\n",
       "      <td>282.65</td>\n",
       "      <td>9.79</td>\n",
       "      <td>46.59</td>\n",
       "      <td>79,890.90</td>\n",
       "      <td>95.79</td>\n",
       "      <td>2,170.37</td>\n",
       "    </tr>\n",
       "    <tr>\n",
       "      <td>12.00</td>\n",
       "      <td>604.12</td>\n",
       "      <td>22.55</td>\n",
       "      <td>72.99</td>\n",
       "      <td>304.41</td>\n",
       "      <td>9.70</td>\n",
       "      <td>47.54</td>\n",
       "      <td>92,663.36</td>\n",
       "      <td>94.05</td>\n",
       "      <td>2,260.01</td>\n",
       "    </tr>\n",
       "  </tbody>\n",
       "</table>\n",
       "</div>"
      ],
      "text/plain": [
       "                     mean                                    std              \\\n",
       "             duration_sum gb_used_sum message_count duration_sum gb_used_sum   \n",
       "tariff month                                                                   \n",
       "ultra  1.00        450.18       14.57         43.43       251.37        5.32   \n",
       "       2.00        378.05       15.36         37.29       313.94       11.34   \n",
       "       3.00        522.24       17.64         47.80       349.72       10.93   \n",
       "       4.00        471.41       17.32         45.45       255.93        8.53   \n",
       "       5.00        502.43       19.46         50.04       271.17        9.65   \n",
       "       6.00        469.92       18.98         50.89       294.69        8.87   \n",
       "       7.00        527.27       20.64         61.29       285.00        9.67   \n",
       "       8.00        498.01       19.86         58.90       293.76        9.94   \n",
       "       9.00        533.09       19.90         63.54       296.05        9.05   \n",
       "       10.00       544.60       20.96         70.76       301.48        9.68   \n",
       "       11.00       528.79       20.21         67.24       282.65        9.79   \n",
       "       12.00       604.12       22.55         72.99       304.41        9.70   \n",
       "\n",
       "                                    var                            \n",
       "             message_count duration_sum gb_used_sum message_count  \n",
       "tariff month                                                       \n",
       "ultra  1.00          27.66    63,186.70       28.29        765.29  \n",
       "       2.00          25.69    98,558.12      128.55        660.22  \n",
       "       3.00          42.74   122,306.70      119.41      1,826.67  \n",
       "       4.00          37.57    65,499.48       72.82      1,411.33  \n",
       "       5.00          40.70    73,532.09       93.19      1,656.72  \n",
       "       6.00          41.02    86,839.30       78.73      1,682.55  \n",
       "       7.00          44.18    81,223.98       93.56      1,951.47  \n",
       "       8.00          43.80    86,294.44       98.78      1,918.65  \n",
       "       9.00          42.15    87,645.87       81.96      1,776.79  \n",
       "       10.00         48.34    90,893.17       93.69      2,337.20  \n",
       "       11.00         46.59    79,890.90       95.79      2,170.37  \n",
       "       12.00         47.54    92,663.36       94.05      2,260.01  "
      ]
     },
     "execution_count": 33,
     "metadata": {},
     "output_type": "execute_result"
    }
   ],
   "source": [
    "pivot_ultra = ultra.pivot_table(index = ['tariff','month'], values = ['duration_sum', 'message_count', 'gb_used_sum'], aggfunc = ['mean', 'std', 'var'])\n",
    "pivot_ultra"
   ]
  },
  {
   "cell_type": "code",
   "execution_count": 34,
   "metadata": {},
   "outputs": [
    {
     "data": {
      "text/html": [
       "<div>\n",
       "<style scoped>\n",
       "    .dataframe tbody tr th:only-of-type {\n",
       "        vertical-align: middle;\n",
       "    }\n",
       "\n",
       "    .dataframe tbody tr th {\n",
       "        vertical-align: top;\n",
       "    }\n",
       "\n",
       "    .dataframe thead tr th {\n",
       "        text-align: left;\n",
       "    }\n",
       "\n",
       "    .dataframe thead tr:last-of-type th {\n",
       "        text-align: right;\n",
       "    }\n",
       "</style>\n",
       "<table border=\"1\" class=\"dataframe\">\n",
       "  <thead>\n",
       "    <tr>\n",
       "      <th></th>\n",
       "      <th colspan=\"3\" halign=\"left\">mean</th>\n",
       "      <th colspan=\"3\" halign=\"left\">std</th>\n",
       "      <th colspan=\"3\" halign=\"left\">var</th>\n",
       "    </tr>\n",
       "    <tr>\n",
       "      <th></th>\n",
       "      <th>duration_sum</th>\n",
       "      <th>gb_used_sum</th>\n",
       "      <th>message_count</th>\n",
       "      <th>duration_sum</th>\n",
       "      <th>gb_used_sum</th>\n",
       "      <th>message_count</th>\n",
       "      <th>duration_sum</th>\n",
       "      <th>gb_used_sum</th>\n",
       "      <th>message_count</th>\n",
       "    </tr>\n",
       "    <tr>\n",
       "      <th>tariff</th>\n",
       "      <th></th>\n",
       "      <th></th>\n",
       "      <th></th>\n",
       "      <th></th>\n",
       "      <th></th>\n",
       "      <th></th>\n",
       "      <th></th>\n",
       "      <th></th>\n",
       "      <th></th>\n",
       "    </tr>\n",
       "  </thead>\n",
       "  <tbody>\n",
       "    <tr>\n",
       "      <td>ultra</td>\n",
       "      <td>525.66</td>\n",
       "      <td>20.09</td>\n",
       "      <td>61.64</td>\n",
       "      <td>294.45</td>\n",
       "      <td>9.64</td>\n",
       "      <td>44.82</td>\n",
       "      <td>86,701.30</td>\n",
       "      <td>92.88</td>\n",
       "      <td>2,008.55</td>\n",
       "    </tr>\n",
       "  </tbody>\n",
       "</table>\n",
       "</div>"
      ],
      "text/plain": [
       "               mean                                    std              \\\n",
       "       duration_sum gb_used_sum message_count duration_sum gb_used_sum   \n",
       "tariff                                                                   \n",
       "ultra        525.66       20.09         61.64       294.45        9.64   \n",
       "\n",
       "                              var                            \n",
       "       message_count duration_sum gb_used_sum message_count  \n",
       "tariff                                                       \n",
       "ultra          44.82    86,701.30       92.88      2,008.55  "
      ]
     },
     "execution_count": 34,
     "metadata": {},
     "output_type": "execute_result"
    }
   ],
   "source": [
    "ultra.pivot_table(index = ['tariff'], values = ['duration_sum', 'message_count', 'gb_used_sum'], aggfunc = ['mean', 'std', 'var'])"
   ]
  },
  {
   "cell_type": "code",
   "execution_count": 35,
   "metadata": {},
   "outputs": [
    {
     "name": "stdout",
     "output_type": "stream",
     "text": [
      "Лимит минут превышен в среднем на: 0.0\n",
      "Лимит сообщений превышен в среднем на: 0.0\n",
      "Лимит гигабайт превышен в среднем на: 0.7779255319148937\n"
     ]
    }
   ],
   "source": [
    "print('Лимит минут превышен в среднем на:', ultra['over_lim_calls'].describe()['mean'])\n",
    "print('Лимит сообщений превышен в среднем на:', ultra['over_lim_sms'].describe()['mean'])\n",
    "print('Лимит гигабайт превышен в среднем на:', ultra['over_lim_gb'].describe()['mean'])"
   ]
  },
  {
   "cell_type": "code",
   "execution_count": 36,
   "metadata": {},
   "outputs": [
    {
     "name": "stdout",
     "output_type": "stream",
     "text": [
      "Лимит минут превышен в 0.00% случаев\n",
      "Лимит сообщений превышен в 0.00% случаев\n",
      "Лимит гигабайт превышен в 13.83% случаев\n"
     ]
    }
   ],
   "source": [
    "print('Лимит минут превышен в {:.2%} случаев'.format(ultra[ultra['over_lim_calls'] > 0].shape[0] / ultra['over_lim_calls'].shape[0]))\n",
    "print('Лимит сообщений превышен в {:.2%} случаев'.format(ultra[ultra['over_lim_sms'] > 0].shape[0] / ultra['over_lim_sms'].shape[0]))\n",
    "print('Лимит гигабайт превышен в {:.2%} случаев'.format(ultra[ultra['over_lim_gb'] > 0].shape[0] / ultra['over_lim_gb'].shape[0]))"
   ]
  },
  {
   "cell_type": "code",
   "execution_count": 37,
   "metadata": {},
   "outputs": [
    {
     "data": {
      "image/png": "[encoded data removed]",
      "text/plain": [
       "<Figure size 720x720 with 9 Axes>"
      ]
     },
     "metadata": {},
     "output_type": "display_data"
    }
   ],
   "source": [
    "pd.plotting.scatter_matrix(ultra[['duration_sum', 'message_count', 'gb_used_sum']], alpha = 0.3, figsize = (10,10))\n",
    "plt.show( )"
   ]
  },
  {
   "cell_type": "markdown",
   "metadata": {},
   "source": [
    "We have: the distribution of used gigabytes is normal, sent messages have a Poisson distribution, used minutes distribution is normal (however tilted to the left)."
   ]
  },
  {
   "cell_type": "code",
   "execution_count": 38,
   "metadata": {},
   "outputs": [
    {
     "data": {
      "text/html": [
       "<div>\n",
       "<style scoped>\n",
       "    .dataframe tbody tr th:only-of-type {\n",
       "        vertical-align: middle;\n",
       "    }\n",
       "\n",
       "    .dataframe tbody tr th {\n",
       "        vertical-align: top;\n",
       "    }\n",
       "\n",
       "    .dataframe thead th {\n",
       "        text-align: right;\n",
       "    }\n",
       "</style>\n",
       "<table border=\"1\" class=\"dataframe\">\n",
       "  <thead>\n",
       "    <tr style=\"text-align: right;\">\n",
       "      <th></th>\n",
       "      <th>duration_sum</th>\n",
       "      <th>message_count</th>\n",
       "      <th>gb_used_sum</th>\n",
       "    </tr>\n",
       "  </thead>\n",
       "  <tbody>\n",
       "    <tr>\n",
       "      <td>count</td>\n",
       "      <td>752.00</td>\n",
       "      <td>752.00</td>\n",
       "      <td>752.00</td>\n",
       "    </tr>\n",
       "    <tr>\n",
       "      <td>mean</td>\n",
       "      <td>525.66</td>\n",
       "      <td>61.64</td>\n",
       "      <td>20.09</td>\n",
       "    </tr>\n",
       "    <tr>\n",
       "      <td>std</td>\n",
       "      <td>294.45</td>\n",
       "      <td>44.82</td>\n",
       "      <td>9.64</td>\n",
       "    </tr>\n",
       "    <tr>\n",
       "      <td>min</td>\n",
       "      <td>0.00</td>\n",
       "      <td>1.00</td>\n",
       "      <td>0.00</td>\n",
       "    </tr>\n",
       "    <tr>\n",
       "      <td>25%</td>\n",
       "      <td>314.62</td>\n",
       "      <td>25.00</td>\n",
       "      <td>12.00</td>\n",
       "    </tr>\n",
       "    <tr>\n",
       "      <td>50%</td>\n",
       "      <td>506.11</td>\n",
       "      <td>53.00</td>\n",
       "      <td>20.00</td>\n",
       "    </tr>\n",
       "    <tr>\n",
       "      <td>75%</td>\n",
       "      <td>717.73</td>\n",
       "      <td>89.00</td>\n",
       "      <td>27.00</td>\n",
       "    </tr>\n",
       "    <tr>\n",
       "      <td>max</td>\n",
       "      <td>1,578.06</td>\n",
       "      <td>224.00</td>\n",
       "      <td>50.00</td>\n",
       "    </tr>\n",
       "  </tbody>\n",
       "</table>\n",
       "</div>"
      ],
      "text/plain": [
       "       duration_sum  message_count  gb_used_sum\n",
       "count        752.00         752.00       752.00\n",
       "mean         525.66          61.64        20.09\n",
       "std          294.45          44.82         9.64\n",
       "min            0.00           1.00         0.00\n",
       "25%          314.62          25.00        12.00\n",
       "50%          506.11          53.00        20.00\n",
       "75%          717.73          89.00        27.00\n",
       "max        1,578.06         224.00        50.00"
      ]
     },
     "execution_count": 38,
     "metadata": {},
     "output_type": "execute_result"
    }
   ],
   "source": [
    "ultra[['duration_sum', 'message_count', 'gb_used_sum']].describe()"
   ]
  },
  {
   "cell_type": "markdown",
   "metadata": {},
   "source": [
    "#### Subtotal:"
   ]
  },
  {
   "cell_type": "markdown",
   "metadata": {},
   "source": [
    "The Ultra tariff meets the needs of customers. The limit of minutes and messages is absolutely (!) not exceeded. The traffic limit was exceeded in only 14% of cases and by only 1 GB (rounded) on average."
   ]
  },
  {
   "cell_type": "markdown",
   "metadata": {},
   "source": [
    "### Conclusion:"
   ]
  },
  {
   "cell_type": "markdown",
   "metadata": {},
   "source": [
    "The Ultra plan looks like a perfect fit for customers using it. Perhaps this is due to the fact that it was formed with a margin. The Smart tariff is subject to adjustment. Especially in matters relating to traffic limits. It may be necessary to raise gigabyte limits or lower the cost of gigabytes above the plan if you need to increase customer loyalty, or increase the number of gigabytes and the cost of the tariff plan at the same time to normalize the situation."
   ]
  },
  {
   "cell_type": "markdown",
   "metadata": {},
   "source": [
    "## Testing hypotheses"
   ]
  },
  {
   "cell_type": "markdown",
   "metadata": {},
   "source": [
    "### Do the average revenues of Ultra and Smart tariff users differ?"
   ]
  },
  {
   "cell_type": "code",
   "execution_count": 39,
   "metadata": {},
   "outputs": [
    {
     "data": {
      "text/html": [
       "<div>\n",
       "<style scoped>\n",
       "    .dataframe tbody tr th:only-of-type {\n",
       "        vertical-align: middle;\n",
       "    }\n",
       "\n",
       "    .dataframe tbody tr th {\n",
       "        vertical-align: top;\n",
       "    }\n",
       "\n",
       "    .dataframe thead tr th {\n",
       "        text-align: left;\n",
       "    }\n",
       "\n",
       "    .dataframe thead tr:last-of-type th {\n",
       "        text-align: right;\n",
       "    }\n",
       "</style>\n",
       "<table border=\"1\" class=\"dataframe\">\n",
       "  <thead>\n",
       "    <tr>\n",
       "      <th></th>\n",
       "      <th>median</th>\n",
       "      <th>var</th>\n",
       "      <th>std</th>\n",
       "    </tr>\n",
       "    <tr>\n",
       "      <th></th>\n",
       "      <th>overall_income</th>\n",
       "      <th>overall_income</th>\n",
       "      <th>overall_income</th>\n",
       "    </tr>\n",
       "    <tr>\n",
       "      <th>tariff</th>\n",
       "      <th></th>\n",
       "      <th></th>\n",
       "      <th></th>\n",
       "    </tr>\n",
       "  </thead>\n",
       "  <tbody>\n",
       "    <tr>\n",
       "      <td>smart</td>\n",
       "      <td>1051</td>\n",
       "      <td>709,367.48</td>\n",
       "      <td>842.24</td>\n",
       "    </tr>\n",
       "    <tr>\n",
       "      <td>ultra</td>\n",
       "      <td>1950</td>\n",
       "      <td>135,656.53</td>\n",
       "      <td>368.32</td>\n",
       "    </tr>\n",
       "  </tbody>\n",
       "</table>\n",
       "</div>"
      ],
      "text/plain": [
       "               median            var            std\n",
       "       overall_income overall_income overall_income\n",
       "tariff                                             \n",
       "smart            1051     709,367.48         842.24\n",
       "ultra            1950     135,656.53         368.32"
      ]
     },
     "execution_count": 39,
     "metadata": {},
     "output_type": "execute_result"
    }
   ],
   "source": [
    "df.pivot_table(index='tariff', values='overall_income', aggfunc=['median', 'var', 'std'])"
   ]
  },
  {
   "cell_type": "markdown",
   "metadata": {},
   "source": [
    "In this case, the hypothesis about the equality of the average revenue of users of the \"Ultra\" and \"Smart\" tariffs will be considered null. An alternative hypothesis would talk about their difference. The ttest_ind method will be used for two independent values ​​with a critical significance level alpha = 0.01 for the highest accuracy. The samples variances are different."
   ]
  },
  {
   "cell_type": "code",
   "execution_count": 40,
   "metadata": {},
   "outputs": [
    {
     "name": "stdout",
     "output_type": "stream",
     "text": [
      "p-значение: 7.760739607519504e-191\n",
      "Отвергаем нулевую гипотезу\n"
     ]
    }
   ],
   "source": [
    "ultra_p = df.query('tariff == \"ultra\"')['overall_income']\n",
    "smart_p = df.query('tariff == \"smart\"')['overall_income']\n",
    "\n",
    "alpha = 0.01\n",
    "\n",
    "results = st.ttest_ind(ultra_p, smart_p, equal_var=False)\n",
    "\n",
    "print('p-значение:', results.pvalue)\n",
    "\n",
    "if (results.pvalue < alpha):\n",
    "    print(\"Отвергаем нулевую гипотезу\")\n",
    "else:\n",
    "    print(\"Не получилось отвергнуть нулевую гипотезу\")"
   ]
  },
  {
   "cell_type": "markdown",
   "metadata": {},
   "source": [
    "#### Conclusion:"
   ]
  },
  {
   "cell_type": "markdown",
   "metadata": {},
   "source": [
    "So the revenue for the two tariffs is really different. The median also differs significantly. The chart below shows that smart tariff customers are likely to significantly overpay in excess of the tariff plan by the end of the month."
   ]
  },
  {
   "cell_type": "code",
   "execution_count": 41,
   "metadata": {},
   "outputs": [
    {
     "data": {
      "image/png": "[encoded data removed]",
      "text/plain": [
       "<Figure size 360x360 with 1 Axes>"
      ]
     },
     "metadata": {},
     "output_type": "display_data"
    }
   ],
   "source": [
    "_ = sns.catplot(x=\"tariff\", y='overall_income', kind=\"box\", data=df, orient='v')"
   ]
  },
  {
   "cell_type": "markdown",
   "metadata": {},
   "source": [
    "### Does the average revenue of users from Moscow differ from that of users from other regions?"
   ]
  },
  {
   "cell_type": "code",
   "execution_count": 42,
   "metadata": {},
   "outputs": [
    {
     "data": {
      "text/html": [
       "<div>\n",
       "<style scoped>\n",
       "    .dataframe tbody tr th:only-of-type {\n",
       "        vertical-align: middle;\n",
       "    }\n",
       "\n",
       "    .dataframe tbody tr th {\n",
       "        vertical-align: top;\n",
       "    }\n",
       "\n",
       "    .dataframe thead tr th {\n",
       "        text-align: left;\n",
       "    }\n",
       "\n",
       "    .dataframe thead tr:last-of-type th {\n",
       "        text-align: right;\n",
       "    }\n",
       "</style>\n",
       "<table border=\"1\" class=\"dataframe\">\n",
       "  <thead>\n",
       "    <tr>\n",
       "      <th></th>\n",
       "      <th>median</th>\n",
       "      <th>var</th>\n",
       "      <th>std</th>\n",
       "    </tr>\n",
       "    <tr>\n",
       "      <th></th>\n",
       "      <th>overall_income</th>\n",
       "      <th>overall_income</th>\n",
       "      <th>overall_income</th>\n",
       "    </tr>\n",
       "    <tr>\n",
       "      <th>region</th>\n",
       "      <th></th>\n",
       "      <th></th>\n",
       "      <th></th>\n",
       "    </tr>\n",
       "  </thead>\n",
       "  <tbody>\n",
       "    <tr>\n",
       "      <td>Иной регион</td>\n",
       "      <td>1,554.50</td>\n",
       "      <td>671,193.99</td>\n",
       "      <td>819.26</td>\n",
       "    </tr>\n",
       "    <tr>\n",
       "      <td>Москва</td>\n",
       "      <td>1,925.00</td>\n",
       "      <td>620,132.42</td>\n",
       "      <td>787.48</td>\n",
       "    </tr>\n",
       "  </tbody>\n",
       "</table>\n",
       "</div>"
      ],
      "text/plain": [
       "                    median            var            std\n",
       "            overall_income overall_income overall_income\n",
       "region                                                  \n",
       "Иной регион       1,554.50     671,193.99         819.26\n",
       "Москва            1,925.00     620,132.42         787.48"
      ]
     },
     "execution_count": 42,
     "metadata": {},
     "output_type": "execute_result"
    }
   ],
   "source": [
    "df.pivot_table(index='region', values='overall_income', aggfunc=['median', 'var', 'std'])"
   ]
  },
  {
   "cell_type": "markdown",
   "metadata": {},
   "source": [
    "In this case, the null hypothesis will be the hypothesis that the revenue received from a user from Moscow is equal to the revenue received from users from other regions. An alternative hypothesis would say that the profits are different, up or down relative to Moscow. Will use ttest_ind with equal_var=False, variance is different. The critical level of significance is at the same level (alpha = 0.01)."
   ]
  },
  {
   "cell_type": "code",
   "execution_count": 43,
   "metadata": {},
   "outputs": [],
   "source": [
    "moscow = df.query('region == \"Москва\"')['overall_income']\n",
    "other = df.query('region == \"Иной регион\"')['overall_income']"
   ]
  },
  {
   "cell_type": "code",
   "execution_count": 44,
   "metadata": {},
   "outputs": [
    {
     "name": "stdout",
     "output_type": "stream",
     "text": [
      "p-значение: 0.09297211823137636\n",
      "Не получилось отвергнуть нулевую гипотезу\n"
     ]
    }
   ],
   "source": [
    "alpha = 0.01\n",
    "\n",
    "results = st.ttest_ind(moscow, other, equal_var=False)\n",
    "\n",
    "print('p-значение:', results.pvalue)\n",
    "\n",
    "if (results.pvalue < alpha):\n",
    "    print(\"Отвергаем нулевую гипотезу\")\n",
    "else:\n",
    "    print(\"Не получилось отвергнуть нулевую гипотезу\")"
   ]
  },
  {
   "cell_type": "markdown",
   "metadata": {},
   "source": [
    "#### Conclusion:"
   ]
  },
  {
   "cell_type": "markdown",
   "metadata": {},
   "source": [
    "Apparently, we cannot reject the null hypothesis of the equality of profit received from a resident of Moscow and profit received from a resident of another region. The probability of being mistaken in saying that the profits are different is too great. The chart below also shows that profits are about the same."
   ]
  },
  {
   "cell_type": "code",
   "execution_count": 45,
   "metadata": {},
   "outputs": [
    {
     "data": {
      "image/png": "[encoded data removed]",
      "text/plain": [
       "<Figure size 360x360 with 1 Axes>"
      ]
     },
     "metadata": {},
     "output_type": "display_data"
    }
   ],
   "source": [
    "_ = sns.catplot(x=\"region\", y='overall_income', kind=\"box\", data=df, orient='v')"
   ]
  },
  {
   "cell_type": "markdown",
   "metadata": {},
   "source": [
    "##  General conclusion:"
   ]
  },
  {
   "cell_type": "markdown",
   "metadata": {},
   "source": [
    "A large amount of information collected from various sources was processed. The data was pre-processed: the information relating to the dates was converted into a format convenient for calculations, it was decided not to make significant changes to the data, since, in general, the information needed for the study was in a digestible state. The exceeded limits of minutes, messages and traffic for users of different tariffs by months and in general were calculated, the amounts paid by customers in excess of the tariff fee and in the amount with the tariff fee were calculated. The behavior of users of various tariffs was analyzed: it turned out that users of the Smart tariff are sorely lacking in Internet traffic, which can cause dissatisfaction, due to the high cost of a gigabyte in excess of the tariff plan. Messages and minutes in the Smart tariff package are also often not enough. Users of the Ultra tariff, on the contrary, are not able to use up the package for a month, not a single person from the sample spent minutes and messages to the end, the situation with the Internet is slightly worse - users in particular cases can use up the entire package, but the problem is not of a systemic nature, while on average Ultra plan users spend less than 1 gigabyte over the plan. The hypothesis about the equality of the amounts paid by users of both tariffs was investigated: it turned out that users of the Smart tariff are likely to significantly overpay. The hypothesis was not confirmed. The hypothesis about the equality of income received from users from Moscow and from users from other regions was also investigated. This hypothesis cannot be rejected - most likely the amounts paid by residents of the capital and regions are equal."
   ]
  }
 ],
 "metadata": {
  "ExecuteTimeLog": [
   {
    "duration": 422,
    "start_time": "2021-07-26T13:30:25.507Z"
   },
   {
    "duration": 1481,
    "start_time": "2021-07-26T13:30:30.490Z"
   },
   {
    "duration": 261,
    "start_time": "2021-07-26T13:30:32.782Z"
   },
   {
    "duration": 4,
    "start_time": "2021-07-26T13:31:13.072Z"
   },
   {
    "duration": 235,
    "start_time": "2021-07-26T13:31:15.480Z"
   },
   {
    "duration": 17,
    "start_time": "2021-07-26T13:31:54.151Z"
   },
   {
    "duration": 1099,
    "start_time": "2021-07-26T13:32:13.290Z"
   },
   {
    "duration": 18,
    "start_time": "2021-07-26T13:32:22.895Z"
   },
   {
    "duration": 261,
    "start_time": "2021-07-26T13:32:27.183Z"
   },
   {
    "duration": 21,
    "start_time": "2021-07-26T13:32:30.364Z"
   },
   {
    "duration": 4,
    "start_time": "2021-07-26T13:33:17.967Z"
   },
   {
    "duration": 216,
    "start_time": "2021-07-26T13:33:18.858Z"
   },
   {
    "duration": 18,
    "start_time": "2021-07-26T13:33:19.334Z"
   },
   {
    "duration": 181,
    "start_time": "2021-07-26T13:34:36.127Z"
   },
   {
    "duration": 17,
    "start_time": "2021-07-26T13:34:56.178Z"
   },
   {
    "duration": 127,
    "start_time": "2021-07-26T13:37:03.501Z"
   },
   {
    "duration": 16,
    "start_time": "2021-07-26T13:37:16.200Z"
   },
   {
    "duration": 24,
    "start_time": "2021-07-26T13:38:38.773Z"
   },
   {
    "duration": 7,
    "start_time": "2021-07-26T13:38:53.851Z"
   },
   {
    "duration": 432,
    "start_time": "2021-07-26T13:39:08.701Z"
   },
   {
    "duration": 12,
    "start_time": "2021-07-26T13:39:15.762Z"
   },
   {
    "duration": 13,
    "start_time": "2021-07-26T13:39:18.615Z"
   },
   {
    "duration": 28,
    "start_time": "2021-07-26T13:39:44.459Z"
   },
   {
    "duration": 82,
    "start_time": "2021-07-26T13:39:58.801Z"
   },
   {
    "duration": 17,
    "start_time": "2021-07-26T13:40:12.496Z"
   },
   {
    "duration": 352,
    "start_time": "2021-07-26T13:48:50.542Z"
   },
   {
    "duration": 834,
    "start_time": "2021-07-26T13:49:16.287Z"
   },
   {
    "duration": 383,
    "start_time": "2021-07-26T13:49:37.745Z"
   },
   {
    "duration": 6,
    "start_time": "2021-07-26T13:50:59.169Z"
   },
   {
    "duration": 385,
    "start_time": "2021-07-26T13:52:00.067Z"
   },
   {
    "duration": 1943,
    "start_time": "2021-07-26T13:52:14.880Z"
   },
   {
    "duration": 359,
    "start_time": "2021-07-26T13:53:19.570Z"
   },
   {
    "duration": 114,
    "start_time": "2021-07-26T13:54:03.053Z"
   },
   {
    "duration": 7659,
    "start_time": "2021-07-26T13:54:57.136Z"
   },
   {
    "duration": 10291,
    "start_time": "2021-07-26T13:55:14.025Z"
   },
   {
    "duration": 281,
    "start_time": "2021-07-26T13:56:49.658Z"
   },
   {
    "duration": 7,
    "start_time": "2021-07-26T13:56:54.592Z"
   },
   {
    "duration": 115,
    "start_time": "2021-07-26T13:56:59.495Z"
   },
   {
    "duration": 9251,
    "start_time": "2021-07-26T14:00:23.163Z"
   },
   {
    "duration": 8996,
    "start_time": "2021-07-26T14:01:02.456Z"
   },
   {
    "duration": 126,
    "start_time": "2021-07-26T14:01:13.758Z"
   },
   {
    "duration": 36,
    "start_time": "2021-07-26T14:01:15.569Z"
   },
   {
    "duration": 74,
    "start_time": "2021-07-26T14:01:48.947Z"
   },
   {
    "duration": 332,
    "start_time": "2021-07-26T14:05:37.082Z"
   },
   {
    "duration": 356,
    "start_time": "2021-07-26T14:06:28.459Z"
   },
   {
    "duration": 343,
    "start_time": "2021-07-26T14:06:34.659Z"
   },
   {
    "duration": 348,
    "start_time": "2021-07-26T14:07:18.746Z"
   },
   {
    "duration": 8647,
    "start_time": "2021-07-26T14:09:03.536Z"
   },
   {
    "duration": 14,
    "start_time": "2021-07-26T14:18:20.643Z"
   },
   {
    "duration": 18,
    "start_time": "2021-07-26T14:18:26.733Z"
   },
   {
    "duration": 346,
    "start_time": "2021-07-26T14:43:44.985Z"
   },
   {
    "duration": 334,
    "start_time": "2021-07-26T14:44:16.118Z"
   },
   {
    "duration": 399,
    "start_time": "2021-07-26T14:50:50.394Z"
   },
   {
    "duration": 161,
    "start_time": "2021-07-26T14:52:09.247Z"
   },
   {
    "duration": 418,
    "start_time": "2021-07-26T14:52:16.201Z"
   },
   {
    "duration": 415,
    "start_time": "2021-07-26T15:00:15.403Z"
   },
   {
    "duration": 439,
    "start_time": "2021-07-26T15:00:53.700Z"
   },
   {
    "duration": 752,
    "start_time": "2021-07-26T15:01:53.287Z"
   },
   {
    "duration": 423,
    "start_time": "2021-07-26T15:04:57.138Z"
   },
   {
    "duration": 419,
    "start_time": "2021-07-26T15:05:05.087Z"
   },
   {
    "duration": 336,
    "start_time": "2021-07-28T13:39:02.924Z"
   },
   {
    "duration": 1719,
    "start_time": "2021-07-28T13:39:07.234Z"
   },
   {
    "duration": 227,
    "start_time": "2021-07-28T13:39:10.443Z"
   },
   {
    "duration": 4,
    "start_time": "2021-07-28T13:39:22.392Z"
   },
   {
    "duration": 8,
    "start_time": "2021-07-28T13:39:34.346Z"
   },
   {
    "duration": 233,
    "start_time": "2021-07-28T13:42:05.630Z"
   },
   {
    "duration": 158,
    "start_time": "2021-07-28T13:42:07.848Z"
   },
   {
    "duration": 230,
    "start_time": "2021-07-28T13:42:10.747Z"
   },
   {
    "duration": 225,
    "start_time": "2021-07-28T13:43:08.051Z"
   },
   {
    "duration": 154,
    "start_time": "2021-07-28T13:43:10.011Z"
   },
   {
    "duration": 316,
    "start_time": "2021-07-28T13:43:12.865Z"
   },
   {
    "duration": 8,
    "start_time": "2021-07-28T13:43:17.119Z"
   },
   {
    "duration": 610,
    "start_time": "2021-07-28T13:43:22.570Z"
   },
   {
    "duration": 1381,
    "start_time": "2021-07-28T13:50:54.233Z"
   },
   {
    "duration": 1747,
    "start_time": "2021-07-28T13:51:41.340Z"
   },
   {
    "duration": 70,
    "start_time": "2021-07-28T13:52:24.779Z"
   },
   {
    "duration": 1325,
    "start_time": "2021-07-28T13:52:29.237Z"
   },
   {
    "duration": 232,
    "start_time": "2021-07-28T13:52:37.075Z"
   },
   {
    "duration": 225,
    "start_time": "2021-07-28T13:53:20.725Z"
   },
   {
    "duration": 101,
    "start_time": "2021-07-28T13:57:11.054Z"
   },
   {
    "duration": 104,
    "start_time": "2021-07-28T13:57:15.352Z"
   },
   {
    "duration": 102,
    "start_time": "2021-07-28T13:57:17.224Z"
   },
   {
    "duration": 221,
    "start_time": "2021-07-28T13:57:23.480Z"
   },
   {
    "duration": 218,
    "start_time": "2021-07-28T13:57:42.734Z"
   },
   {
    "duration": 189,
    "start_time": "2021-07-28T13:58:43.669Z"
   },
   {
    "duration": 183,
    "start_time": "2021-07-28T13:58:48.811Z"
   },
   {
    "duration": 189,
    "start_time": "2021-07-28T13:58:52.705Z"
   },
   {
    "duration": 185,
    "start_time": "2021-07-28T13:58:54.929Z"
   },
   {
    "duration": 183,
    "start_time": "2021-07-28T13:58:57.780Z"
   },
   {
    "duration": 185,
    "start_time": "2021-07-28T13:59:01.760Z"
   },
   {
    "duration": 195,
    "start_time": "2021-07-28T13:59:10.667Z"
   },
   {
    "duration": 183,
    "start_time": "2021-07-28T13:59:17.047Z"
   },
   {
    "duration": 183,
    "start_time": "2021-07-28T13:59:30.815Z"
   },
   {
    "duration": 185,
    "start_time": "2021-07-28T14:00:22.476Z"
   },
   {
    "duration": 189,
    "start_time": "2021-07-28T14:00:25.888Z"
   },
   {
    "duration": 283,
    "start_time": "2021-07-28T14:00:27.394Z"
   },
   {
    "duration": 188,
    "start_time": "2021-07-28T14:00:28.881Z"
   },
   {
    "duration": 189,
    "start_time": "2021-07-28T14:00:31.291Z"
   },
   {
    "duration": 284,
    "start_time": "2021-07-28T14:00:34.507Z"
   },
   {
    "duration": 291,
    "start_time": "2021-07-28T14:00:36.601Z"
   },
   {
    "duration": 300,
    "start_time": "2021-07-28T14:00:38.250Z"
   },
   {
    "duration": 290,
    "start_time": "2021-07-28T14:00:40.641Z"
   },
   {
    "duration": 297,
    "start_time": "2021-07-28T14:00:42.103Z"
   },
   {
    "duration": 290,
    "start_time": "2021-07-28T14:00:43.633Z"
   },
   {
    "duration": 292,
    "start_time": "2021-07-28T14:00:46.517Z"
   },
   {
    "duration": 292,
    "start_time": "2021-07-28T14:00:48.306Z"
   },
   {
    "duration": 290,
    "start_time": "2021-07-28T14:00:50.057Z"
   },
   {
    "duration": 192,
    "start_time": "2021-07-28T14:00:52.136Z"
   },
   {
    "duration": 192,
    "start_time": "2021-07-28T14:00:53.465Z"
   },
   {
    "duration": 197,
    "start_time": "2021-07-28T14:00:55.946Z"
   },
   {
    "duration": 262,
    "start_time": "2021-07-28T14:19:38.462Z"
   },
   {
    "duration": 333,
    "start_time": "2021-07-29T01:14:47.746Z"
   },
   {
    "duration": 258,
    "start_time": "2021-07-29T01:14:52.154Z"
   },
   {
    "duration": 1543,
    "start_time": "2021-07-29T01:14:55.489Z"
   },
   {
    "duration": 235,
    "start_time": "2021-07-29T01:14:57.693Z"
   },
   {
    "duration": 164,
    "start_time": "2021-07-29T01:14:59.955Z"
   },
   {
    "duration": 228,
    "start_time": "2021-07-29T01:15:02.194Z"
   },
   {
    "duration": 11,
    "start_time": "2021-07-29T01:15:04.417Z"
   },
   {
    "duration": 342,
    "start_time": "2021-07-29T01:21:33.827Z"
   },
   {
    "duration": 262,
    "start_time": "2021-07-29T01:21:36.946Z"
   },
   {
    "duration": 52,
    "start_time": "2021-07-29T01:21:42.313Z"
   },
   {
    "duration": 17,
    "start_time": "2021-07-29T01:21:44.577Z"
   },
   {
    "duration": 16,
    "start_time": "2021-07-29T01:21:46.408Z"
   },
   {
    "duration": 12,
    "start_time": "2021-07-29T01:21:52.537Z"
   },
   {
    "duration": 14,
    "start_time": "2021-07-29T01:52:14.659Z"
   },
   {
    "duration": 269,
    "start_time": "2021-07-29T01:52:59.082Z"
   },
   {
    "duration": 267,
    "start_time": "2021-07-29T01:53:12.769Z"
   },
   {
    "duration": 274,
    "start_time": "2021-07-29T01:53:16.896Z"
   },
   {
    "duration": 10,
    "start_time": "2021-07-29T01:53:21.888Z"
   },
   {
    "duration": 291,
    "start_time": "2021-07-29T01:54:06.334Z"
   },
   {
    "duration": 272,
    "start_time": "2021-07-29T01:58:08.766Z"
   },
   {
    "duration": 5,
    "start_time": "2021-07-29T01:58:19.999Z"
   },
   {
    "duration": 233,
    "start_time": "2021-07-29T01:58:20.007Z"
   },
   {
    "duration": 159,
    "start_time": "2021-07-29T01:58:20.243Z"
   },
   {
    "duration": 222,
    "start_time": "2021-07-29T01:58:20.405Z"
   },
   {
    "duration": 226,
    "start_time": "2021-07-29T01:58:20.630Z"
   },
   {
    "duration": 129,
    "start_time": "2021-07-29T01:58:20.859Z"
   },
   {
    "duration": 109,
    "start_time": "2021-07-29T01:58:20.992Z"
   },
   {
    "duration": 22,
    "start_time": "2021-07-29T01:58:21.104Z"
   },
   {
    "duration": 28,
    "start_time": "2021-07-29T01:58:21.130Z"
   },
   {
    "duration": 45,
    "start_time": "2021-07-29T01:58:21.161Z"
   },
   {
    "duration": 16,
    "start_time": "2021-07-29T01:58:21.208Z"
   },
   {
    "duration": 18,
    "start_time": "2021-07-29T01:58:21.227Z"
   },
   {
    "duration": 14,
    "start_time": "2021-07-29T01:58:21.248Z"
   },
   {
    "duration": 282,
    "start_time": "2021-07-29T01:58:21.264Z"
   },
   {
    "duration": -180,
    "start_time": "2021-07-29T01:58:21.728Z"
   },
   {
    "duration": 147,
    "start_time": "2021-07-29T01:58:39.861Z"
   },
   {
    "duration": 86,
    "start_time": "2021-07-29T01:59:31.994Z"
   },
   {
    "duration": 26,
    "start_time": "2021-07-29T01:59:57.063Z"
   },
   {
    "duration": 20,
    "start_time": "2021-07-29T02:00:36.958Z"
   },
   {
    "duration": 19,
    "start_time": "2021-07-29T02:00:45.832Z"
   },
   {
    "duration": 36,
    "start_time": "2021-07-29T02:07:32.652Z"
   },
   {
    "duration": 20,
    "start_time": "2021-07-29T02:07:38.484Z"
   },
   {
    "duration": 8,
    "start_time": "2021-07-29T02:08:59.729Z"
   },
   {
    "duration": 36,
    "start_time": "2021-07-29T02:09:07.191Z"
   },
   {
    "duration": 56,
    "start_time": "2021-07-29T02:09:47.213Z"
   },
   {
    "duration": 290,
    "start_time": "2021-07-29T02:10:09.939Z"
   },
   {
    "duration": 270,
    "start_time": "2021-07-29T02:10:28.010Z"
   },
   {
    "duration": 89,
    "start_time": "2021-07-29T02:10:45.880Z"
   },
   {
    "duration": 36,
    "start_time": "2021-07-29T02:10:48.665Z"
   },
   {
    "duration": 96,
    "start_time": "2021-07-29T02:10:51.698Z"
   },
   {
    "duration": 30,
    "start_time": "2021-07-29T02:10:53.896Z"
   },
   {
    "duration": 284,
    "start_time": "2021-07-29T02:10:56.512Z"
   },
   {
    "duration": 12,
    "start_time": "2021-07-29T02:11:14.681Z"
   },
   {
    "duration": 268,
    "start_time": "2021-07-29T02:11:16.975Z"
   },
   {
    "duration": 9,
    "start_time": "2021-07-29T02:11:34.641Z"
   },
   {
    "duration": 45,
    "start_time": "2021-07-29T02:11:40.670Z"
   },
   {
    "duration": 47,
    "start_time": "2021-07-29T02:12:29.644Z"
   },
   {
    "duration": 31,
    "start_time": "2021-07-29T02:13:25.040Z"
   },
   {
    "duration": 44,
    "start_time": "2021-07-29T02:13:29.237Z"
   },
   {
    "duration": 34,
    "start_time": "2021-07-29T02:14:57.274Z"
   },
   {
    "duration": 36,
    "start_time": "2021-07-29T02:17:51.271Z"
   },
   {
    "duration": 32,
    "start_time": "2021-07-29T02:18:06.451Z"
   },
   {
    "duration": 42,
    "start_time": "2021-07-29T02:20:44.087Z"
   },
   {
    "duration": 6,
    "start_time": "2021-07-29T02:47:45.056Z"
   },
   {
    "duration": 529,
    "start_time": "2021-07-29T02:53:47.166Z"
   },
   {
    "duration": 537,
    "start_time": "2021-07-29T02:54:06.502Z"
   },
   {
    "duration": 272,
    "start_time": "2021-07-29T02:58:19.255Z"
   },
   {
    "duration": 277,
    "start_time": "2021-07-29T03:11:34.400Z"
   },
   {
    "duration": 5,
    "start_time": "2021-07-29T03:28:34.063Z"
   },
   {
    "duration": 4,
    "start_time": "2021-07-29T03:28:45.064Z"
   },
   {
    "duration": 4,
    "start_time": "2021-07-29T03:29:46.645Z"
   },
   {
    "duration": 4,
    "start_time": "2021-07-29T03:31:23.989Z"
   },
   {
    "duration": 256,
    "start_time": "2021-07-29T03:31:56.077Z"
   },
   {
    "duration": 250,
    "start_time": "2021-07-29T03:35:32.393Z"
   },
   {
    "duration": 4635,
    "start_time": "2021-07-29T03:36:24.621Z"
   },
   {
    "duration": 7,
    "start_time": "2021-07-29T03:49:29.043Z"
   },
   {
    "duration": 254,
    "start_time": "2021-07-29T03:51:51.832Z"
   },
   {
    "duration": 1568,
    "start_time": "2021-07-29T03:52:02.181Z"
   },
   {
    "duration": 1910,
    "start_time": "2021-07-29T03:52:08.005Z"
   },
   {
    "duration": 808,
    "start_time": "2021-07-29T03:54:10.862Z"
   },
   {
    "duration": 1636,
    "start_time": "2021-07-29T03:54:34.084Z"
   },
   {
    "duration": 1618,
    "start_time": "2021-07-29T03:54:39.524Z"
   },
   {
    "duration": 1604,
    "start_time": "2021-07-29T03:55:05.442Z"
   },
   {
    "duration": 36,
    "start_time": "2021-07-29T03:55:19.930Z"
   },
   {
    "duration": 4,
    "start_time": "2021-07-29T03:55:29.818Z"
   },
   {
    "duration": 229,
    "start_time": "2021-07-29T03:55:29.825Z"
   },
   {
    "duration": 153,
    "start_time": "2021-07-29T03:55:30.057Z"
   },
   {
    "duration": 211,
    "start_time": "2021-07-29T03:55:30.213Z"
   },
   {
    "duration": 218,
    "start_time": "2021-07-29T03:55:30.426Z"
   },
   {
    "duration": 127,
    "start_time": "2021-07-29T03:55:30.646Z"
   },
   {
    "duration": 107,
    "start_time": "2021-07-29T03:55:30.776Z"
   },
   {
    "duration": 23,
    "start_time": "2021-07-29T03:55:30.886Z"
   },
   {
    "duration": 16,
    "start_time": "2021-07-29T03:55:30.913Z"
   },
   {
    "duration": 50,
    "start_time": "2021-07-29T03:55:30.932Z"
   },
   {
    "duration": 17,
    "start_time": "2021-07-29T03:55:30.984Z"
   },
   {
    "duration": 101,
    "start_time": "2021-07-29T03:55:31.004Z"
   },
   {
    "duration": 54,
    "start_time": "2021-07-29T03:55:31.108Z"
   },
   {
    "duration": 32,
    "start_time": "2021-07-29T03:55:31.165Z"
   },
   {
    "duration": 67,
    "start_time": "2021-07-29T03:55:31.199Z"
   },
   {
    "duration": 5,
    "start_time": "2021-07-29T03:55:31.269Z"
   },
   {
    "duration": 41,
    "start_time": "2021-07-29T03:55:31.277Z"
   },
   {
    "duration": 5,
    "start_time": "2021-07-29T03:55:31.320Z"
   },
   {
    "duration": 6,
    "start_time": "2021-07-29T03:55:42.055Z"
   },
   {
    "duration": 231,
    "start_time": "2021-07-29T03:55:42.065Z"
   },
   {
    "duration": 157,
    "start_time": "2021-07-29T03:55:42.299Z"
   },
   {
    "duration": 205,
    "start_time": "2021-07-29T03:55:42.458Z"
   },
   {
    "duration": 225,
    "start_time": "2021-07-29T03:55:42.665Z"
   },
   {
    "duration": 129,
    "start_time": "2021-07-29T03:55:42.892Z"
   },
   {
    "duration": 105,
    "start_time": "2021-07-29T03:55:43.024Z"
   },
   {
    "duration": 24,
    "start_time": "2021-07-29T03:55:43.133Z"
   },
   {
    "duration": 17,
    "start_time": "2021-07-29T03:55:43.160Z"
   },
   {
    "duration": 52,
    "start_time": "2021-07-29T03:55:43.179Z"
   },
   {
    "duration": 17,
    "start_time": "2021-07-29T03:55:43.234Z"
   },
   {
    "duration": 94,
    "start_time": "2021-07-29T03:55:43.253Z"
   },
   {
    "duration": 46,
    "start_time": "2021-07-29T03:55:43.349Z"
   },
   {
    "duration": 32,
    "start_time": "2021-07-29T03:55:43.397Z"
   },
   {
    "duration": 56,
    "start_time": "2021-07-29T03:55:43.431Z"
   },
   {
    "duration": 5,
    "start_time": "2021-07-29T03:55:43.490Z"
   },
   {
    "duration": 1689,
    "start_time": "2021-07-29T03:55:43.497Z"
   },
   {
    "duration": 5,
    "start_time": "2021-07-29T03:55:45.189Z"
   },
   {
    "duration": 4,
    "start_time": "2021-07-29T03:57:36.793Z"
   },
   {
    "duration": 216,
    "start_time": "2021-07-29T03:57:36.800Z"
   },
   {
    "duration": 156,
    "start_time": "2021-07-29T03:57:37.019Z"
   },
   {
    "duration": 198,
    "start_time": "2021-07-29T03:57:37.178Z"
   },
   {
    "duration": 210,
    "start_time": "2021-07-29T03:57:37.379Z"
   },
   {
    "duration": 124,
    "start_time": "2021-07-29T03:57:37.592Z"
   },
   {
    "duration": 105,
    "start_time": "2021-07-29T03:57:37.719Z"
   },
   {
    "duration": 24,
    "start_time": "2021-07-29T03:57:37.828Z"
   },
   {
    "duration": 23,
    "start_time": "2021-07-29T03:57:37.855Z"
   },
   {
    "duration": 62,
    "start_time": "2021-07-29T03:57:37.881Z"
   },
   {
    "duration": 23,
    "start_time": "2021-07-29T03:57:37.945Z"
   },
   {
    "duration": 99,
    "start_time": "2021-07-29T03:57:37.970Z"
   },
   {
    "duration": 46,
    "start_time": "2021-07-29T03:57:38.071Z"
   },
   {
    "duration": 52,
    "start_time": "2021-07-29T03:57:38.119Z"
   },
   {
    "duration": 40,
    "start_time": "2021-07-29T03:57:38.174Z"
   },
   {
    "duration": 5,
    "start_time": "2021-07-29T03:57:38.216Z"
   },
   {
    "duration": 1331,
    "start_time": "2021-07-29T03:57:38.224Z"
   },
   {
    "duration": 4,
    "start_time": "2021-07-29T03:57:39.558Z"
   },
   {
    "duration": 5,
    "start_time": "2021-07-29T03:58:47.051Z"
   },
   {
    "duration": 377,
    "start_time": "2021-07-29T03:58:49.229Z"
   },
   {
    "duration": 373,
    "start_time": "2021-07-29T04:00:44.800Z"
   },
   {
    "duration": 92,
    "start_time": "2021-07-29T04:01:03.052Z"
   },
   {
    "duration": 255,
    "start_time": "2021-07-29T04:06:09.711Z"
   },
   {
    "duration": 2144,
    "start_time": "2021-07-29T04:14:16.081Z"
   },
   {
    "duration": 2151,
    "start_time": "2021-07-29T04:14:36.266Z"
   },
   {
    "duration": 2179,
    "start_time": "2021-07-29T04:14:39.731Z"
   },
   {
    "duration": 2288,
    "start_time": "2021-07-29T04:14:59.490Z"
   },
   {
    "duration": 2451,
    "start_time": "2021-07-29T04:15:33.729Z"
   },
   {
    "duration": 2101,
    "start_time": "2021-07-29T04:16:23.365Z"
   },
   {
    "duration": 262,
    "start_time": "2021-07-29T04:17:31.440Z"
   },
   {
    "duration": 48,
    "start_time": "2021-07-29T04:18:01.381Z"
   },
   {
    "duration": 6,
    "start_time": "2021-07-29T04:19:05.612Z"
   },
   {
    "duration": 6,
    "start_time": "2021-07-29T04:19:15.285Z"
   },
   {
    "duration": 219,
    "start_time": "2021-07-29T04:19:15.293Z"
   },
   {
    "duration": 152,
    "start_time": "2021-07-29T04:19:15.516Z"
   },
   {
    "duration": 207,
    "start_time": "2021-07-29T04:19:15.671Z"
   },
   {
    "duration": 217,
    "start_time": "2021-07-29T04:19:15.881Z"
   },
   {
    "duration": 128,
    "start_time": "2021-07-29T04:19:16.101Z"
   },
   {
    "duration": 101,
    "start_time": "2021-07-29T04:19:16.231Z"
   },
   {
    "duration": 23,
    "start_time": "2021-07-29T04:19:16.335Z"
   },
   {
    "duration": 34,
    "start_time": "2021-07-29T04:19:16.362Z"
   },
   {
    "duration": 35,
    "start_time": "2021-07-29T04:19:16.399Z"
   },
   {
    "duration": 16,
    "start_time": "2021-07-29T04:19:16.437Z"
   },
   {
    "duration": 95,
    "start_time": "2021-07-29T04:19:16.455Z"
   },
   {
    "duration": 48,
    "start_time": "2021-07-29T04:19:16.552Z"
   },
   {
    "duration": 52,
    "start_time": "2021-07-29T04:19:16.602Z"
   },
   {
    "duration": 42,
    "start_time": "2021-07-29T04:19:16.657Z"
   },
   {
    "duration": 6,
    "start_time": "2021-07-29T04:19:16.701Z"
   },
   {
    "duration": 403,
    "start_time": "2021-07-29T04:19:16.709Z"
   },
   {
    "duration": 261,
    "start_time": "2021-07-29T04:19:17.115Z"
   },
   {
    "duration": 2202,
    "start_time": "2021-07-29T04:19:17.378Z"
   },
   {
    "duration": 47,
    "start_time": "2021-07-29T04:19:19.582Z"
   },
   {
    "duration": 1606,
    "start_time": "2021-07-29T04:24:50.687Z"
   },
   {
    "duration": 6159,
    "start_time": "2021-07-29T04:26:49.064Z"
   },
   {
    "duration": 503,
    "start_time": "2021-07-29T04:27:07.470Z"
   },
   {
    "duration": 6231,
    "start_time": "2021-07-29T04:27:19.477Z"
   },
   {
    "duration": 9,
    "start_time": "2021-07-29T04:27:59.812Z"
   },
   {
    "duration": 224,
    "start_time": "2021-07-29T04:27:59.825Z"
   },
   {
    "duration": 164,
    "start_time": "2021-07-29T04:28:00.052Z"
   },
   {
    "duration": 214,
    "start_time": "2021-07-29T04:28:00.218Z"
   },
   {
    "duration": 297,
    "start_time": "2021-07-29T04:28:00.435Z"
   },
   {
    "duration": 127,
    "start_time": "2021-07-29T04:28:00.735Z"
   },
   {
    "duration": 109,
    "start_time": "2021-07-29T04:28:00.865Z"
   },
   {
    "duration": 27,
    "start_time": "2021-07-29T04:28:00.977Z"
   },
   {
    "duration": 20,
    "start_time": "2021-07-29T04:28:01.010Z"
   },
   {
    "duration": 49,
    "start_time": "2021-07-29T04:28:01.034Z"
   },
   {
    "duration": 21,
    "start_time": "2021-07-29T04:28:01.086Z"
   },
   {
    "duration": 105,
    "start_time": "2021-07-29T04:28:01.110Z"
   },
   {
    "duration": 66,
    "start_time": "2021-07-29T04:28:01.217Z"
   },
   {
    "duration": 34,
    "start_time": "2021-07-29T04:28:01.286Z"
   },
   {
    "duration": 74,
    "start_time": "2021-07-29T04:28:01.323Z"
   },
   {
    "duration": 7,
    "start_time": "2021-07-29T04:28:01.400Z"
   },
   {
    "duration": 391,
    "start_time": "2021-07-29T04:28:01.410Z"
   },
   {
    "duration": 263,
    "start_time": "2021-07-29T04:28:01.804Z"
   },
   {
    "duration": 2167,
    "start_time": "2021-07-29T04:28:02.070Z"
   },
   {
    "duration": 52,
    "start_time": "2021-07-29T04:28:04.240Z"
   },
   {
    "duration": 1577,
    "start_time": "2021-07-29T04:28:04.294Z"
   },
   {
    "duration": 527,
    "start_time": "2021-07-29T04:28:05.874Z"
   },
   {
    "duration": 737,
    "start_time": "2021-07-29T04:28:06.404Z"
   },
   {
    "duration": -762,
    "start_time": "2021-07-29T04:28:07.906Z"
   },
   {
    "duration": 628,
    "start_time": "2021-07-29T04:28:19.010Z"
   },
   {
    "duration": 432,
    "start_time": "2021-07-29T04:30:35.738Z"
   },
   {
    "duration": 440,
    "start_time": "2021-07-29T04:30:42.730Z"
   },
   {
    "duration": 210,
    "start_time": "2021-07-29T04:30:57.245Z"
   },
   {
    "duration": 737,
    "start_time": "2021-07-29T04:31:10.792Z"
   },
   {
    "duration": 278,
    "start_time": "2021-07-29T04:51:38.804Z"
   },
   {
    "duration": 268,
    "start_time": "2021-07-29T04:51:53.429Z"
   },
   {
    "duration": 104,
    "start_time": "2021-07-29T04:52:00.157Z"
   },
   {
    "duration": 96,
    "start_time": "2021-07-29T04:52:03.389Z"
   },
   {
    "duration": 6,
    "start_time": "2021-07-29T04:52:07.494Z"
   },
   {
    "duration": 214,
    "start_time": "2021-07-29T04:52:07.503Z"
   },
   {
    "duration": 160,
    "start_time": "2021-07-29T04:52:07.720Z"
   },
   {
    "duration": 202,
    "start_time": "2021-07-29T04:52:07.883Z"
   },
   {
    "duration": 232,
    "start_time": "2021-07-29T04:52:08.087Z"
   },
   {
    "duration": 1002,
    "start_time": "2021-07-29T04:52:08.321Z"
   },
   {
    "duration": 123,
    "start_time": "2021-07-29T04:52:09.326Z"
   },
   {
    "duration": 27,
    "start_time": "2021-07-29T04:52:09.456Z"
   },
   {
    "duration": 18,
    "start_time": "2021-07-29T04:52:09.488Z"
   },
   {
    "duration": 66,
    "start_time": "2021-07-29T04:52:09.509Z"
   },
   {
    "duration": 18,
    "start_time": "2021-07-29T04:52:09.577Z"
   },
   {
    "duration": 113,
    "start_time": "2021-07-29T04:52:09.597Z"
   },
   {
    "duration": 147,
    "start_time": "2021-07-29T04:52:09.712Z"
   },
   {
    "duration": 35,
    "start_time": "2021-07-29T04:52:09.862Z"
   },
   {
    "duration": 73,
    "start_time": "2021-07-29T04:52:09.900Z"
   },
   {
    "duration": 7,
    "start_time": "2021-07-29T04:52:09.976Z"
   },
   {
    "duration": 408,
    "start_time": "2021-07-29T04:52:09.986Z"
   },
   {
    "duration": 263,
    "start_time": "2021-07-29T04:52:10.396Z"
   },
   {
    "duration": 2344,
    "start_time": "2021-07-29T04:52:10.662Z"
   },
   {
    "duration": 63,
    "start_time": "2021-07-29T04:52:13.008Z"
   },
   {
    "duration": 1531,
    "start_time": "2021-07-29T04:52:13.074Z"
   },
   {
    "duration": 513,
    "start_time": "2021-07-29T04:52:14.608Z"
   },
   {
    "duration": 706,
    "start_time": "2021-07-29T04:52:15.123Z"
   },
   {
    "duration": -847,
    "start_time": "2021-07-29T04:52:16.679Z"
   },
   {
    "duration": 716,
    "start_time": "2021-07-29T04:55:21.497Z"
   },
   {
    "duration": 768,
    "start_time": "2021-07-29T04:56:19.934Z"
   },
   {
    "duration": 708,
    "start_time": "2021-07-29T04:56:27.198Z"
   },
   {
    "duration": 715,
    "start_time": "2021-07-29T05:08:07.879Z"
   },
   {
    "duration": 698,
    "start_time": "2021-07-29T05:08:56.245Z"
   },
   {
    "duration": 705,
    "start_time": "2021-07-29T05:09:05.967Z"
   },
   {
    "duration": 702,
    "start_time": "2021-07-29T05:09:51.198Z"
   },
   {
    "duration": 190,
    "start_time": "2021-07-29T05:12:51.937Z"
   },
   {
    "duration": 205,
    "start_time": "2021-07-29T05:14:39.946Z"
   },
   {
    "duration": 816,
    "start_time": "2021-07-29T05:17:07.946Z"
   },
   {
    "duration": 306,
    "start_time": "2021-07-29T05:17:44.962Z"
   },
   {
    "duration": 621,
    "start_time": "2021-07-29T05:17:52.519Z"
   },
   {
    "duration": 6,
    "start_time": "2021-07-29T05:18:03.209Z"
   },
   {
    "duration": 211,
    "start_time": "2021-07-29T05:18:03.217Z"
   },
   {
    "duration": 154,
    "start_time": "2021-07-29T05:18:03.432Z"
   },
   {
    "duration": 199,
    "start_time": "2021-07-29T05:18:03.589Z"
   },
   {
    "duration": 93,
    "start_time": "2021-07-29T05:18:03.790Z"
   },
   {
    "duration": -907,
    "start_time": "2021-07-29T05:18:04.794Z"
   },
   {
    "duration": -906,
    "start_time": "2021-07-29T05:18:04.795Z"
   },
   {
    "duration": -914,
    "start_time": "2021-07-29T05:18:04.804Z"
   },
   {
    "duration": -913,
    "start_time": "2021-07-29T05:18:04.805Z"
   },
   {
    "duration": -912,
    "start_time": "2021-07-29T05:18:04.806Z"
   },
   {
    "duration": -912,
    "start_time": "2021-07-29T05:18:04.807Z"
   },
   {
    "duration": -911,
    "start_time": "2021-07-29T05:18:04.808Z"
   },
   {
    "duration": -911,
    "start_time": "2021-07-29T05:18:04.809Z"
   },
   {
    "duration": -927,
    "start_time": "2021-07-29T05:18:04.827Z"
   },
   {
    "duration": -927,
    "start_time": "2021-07-29T05:18:04.828Z"
   },
   {
    "duration": -928,
    "start_time": "2021-07-29T05:18:04.831Z"
   },
   {
    "duration": -931,
    "start_time": "2021-07-29T05:18:04.835Z"
   },
   {
    "duration": -931,
    "start_time": "2021-07-29T05:18:04.837Z"
   },
   {
    "duration": -931,
    "start_time": "2021-07-29T05:18:04.838Z"
   },
   {
    "duration": -932,
    "start_time": "2021-07-29T05:18:04.840Z"
   },
   {
    "duration": -932,
    "start_time": "2021-07-29T05:18:04.841Z"
   },
   {
    "duration": -932,
    "start_time": "2021-07-29T05:18:04.843Z"
   },
   {
    "duration": -932,
    "start_time": "2021-07-29T05:18:04.844Z"
   },
   {
    "duration": -932,
    "start_time": "2021-07-29T05:18:04.845Z"
   },
   {
    "duration": 85,
    "start_time": "2021-07-29T05:18:22.446Z"
   },
   {
    "duration": 226,
    "start_time": "2021-07-29T05:18:37.869Z"
   },
   {
    "duration": 10,
    "start_time": "2021-07-29T05:18:41.534Z"
   },
   {
    "duration": 218,
    "start_time": "2021-07-29T05:18:41.547Z"
   },
   {
    "duration": 159,
    "start_time": "2021-07-29T05:18:41.770Z"
   },
   {
    "duration": 201,
    "start_time": "2021-07-29T05:18:41.933Z"
   },
   {
    "duration": 237,
    "start_time": "2021-07-29T05:18:42.137Z"
   },
   {
    "duration": 121,
    "start_time": "2021-07-29T05:18:42.376Z"
   },
   {
    "duration": 105,
    "start_time": "2021-07-29T05:18:42.499Z"
   },
   {
    "duration": 23,
    "start_time": "2021-07-29T05:18:42.608Z"
   },
   {
    "duration": 25,
    "start_time": "2021-07-29T05:18:42.634Z"
   },
   {
    "duration": 36,
    "start_time": "2021-07-29T05:18:42.661Z"
   },
   {
    "duration": 16,
    "start_time": "2021-07-29T05:18:42.699Z"
   },
   {
    "duration": 104,
    "start_time": "2021-07-29T05:18:42.718Z"
   },
   {
    "duration": 60,
    "start_time": "2021-07-29T05:18:42.824Z"
   },
   {
    "duration": 33,
    "start_time": "2021-07-29T05:18:42.887Z"
   },
   {
    "duration": 65,
    "start_time": "2021-07-29T05:18:42.922Z"
   },
   {
    "duration": 6,
    "start_time": "2021-07-29T05:18:42.989Z"
   },
   {
    "duration": 399,
    "start_time": "2021-07-29T05:18:42.997Z"
   },
   {
    "duration": 271,
    "start_time": "2021-07-29T05:18:43.398Z"
   },
   {
    "duration": 2173,
    "start_time": "2021-07-29T05:18:43.671Z"
   },
   {
    "duration": 53,
    "start_time": "2021-07-29T05:18:45.847Z"
   },
   {
    "duration": 1578,
    "start_time": "2021-07-29T05:18:45.902Z"
   },
   {
    "duration": 528,
    "start_time": "2021-07-29T05:18:47.482Z"
   },
   {
    "duration": 714,
    "start_time": "2021-07-29T05:18:48.014Z"
   },
   {
    "duration": -944,
    "start_time": "2021-07-29T05:18:49.675Z"
   },
   {
    "duration": 6199,
    "start_time": "2021-07-29T05:20:32.647Z"
   },
   {
    "duration": 721,
    "start_time": "2021-07-29T05:22:11.672Z"
   },
   {
    "duration": 383,
    "start_time": "2021-07-29T05:23:34.505Z"
   },
   {
    "duration": 608,
    "start_time": "2021-07-29T05:23:38.347Z"
   },
   {
    "duration": 380,
    "start_time": "2021-07-29T05:24:52.523Z"
   },
   {
    "duration": 182,
    "start_time": "2021-07-29T05:25:54.394Z"
   },
   {
    "duration": 7,
    "start_time": "2021-07-29T05:25:57.508Z"
   },
   {
    "duration": 220,
    "start_time": "2021-07-29T05:25:57.517Z"
   },
   {
    "duration": 158,
    "start_time": "2021-07-29T05:25:57.741Z"
   },
   {
    "duration": 205,
    "start_time": "2021-07-29T05:25:57.902Z"
   },
   {
    "duration": 248,
    "start_time": "2021-07-29T05:25:58.109Z"
   },
   {
    "duration": 122,
    "start_time": "2021-07-29T05:25:58.359Z"
   },
   {
    "duration": 102,
    "start_time": "2021-07-29T05:25:58.484Z"
   },
   {
    "duration": 24,
    "start_time": "2021-07-29T05:25:58.588Z"
   },
   {
    "duration": 15,
    "start_time": "2021-07-29T05:25:58.616Z"
   },
   {
    "duration": 34,
    "start_time": "2021-07-29T05:25:58.634Z"
   },
   {
    "duration": 17,
    "start_time": "2021-07-29T05:25:58.671Z"
   },
   {
    "duration": 116,
    "start_time": "2021-07-29T05:25:58.690Z"
   },
   {
    "duration": 58,
    "start_time": "2021-07-29T05:25:58.809Z"
   },
   {
    "duration": 31,
    "start_time": "2021-07-29T05:25:58.869Z"
   },
   {
    "duration": 62,
    "start_time": "2021-07-29T05:25:58.902Z"
   },
   {
    "duration": 6,
    "start_time": "2021-07-29T05:25:58.966Z"
   },
   {
    "duration": 404,
    "start_time": "2021-07-29T05:25:58.974Z"
   },
   {
    "duration": 275,
    "start_time": "2021-07-29T05:25:59.381Z"
   },
   {
    "duration": 2107,
    "start_time": "2021-07-29T05:25:59.659Z"
   },
   {
    "duration": 53,
    "start_time": "2021-07-29T05:26:01.768Z"
   },
   {
    "duration": 1571,
    "start_time": "2021-07-29T05:26:01.824Z"
   },
   {
    "duration": 525,
    "start_time": "2021-07-29T05:26:03.397Z"
   },
   {
    "duration": 730,
    "start_time": "2021-07-29T05:26:03.924Z"
   },
   {
    "duration": -966,
    "start_time": "2021-07-29T05:26:05.623Z"
   },
   {
    "duration": 721,
    "start_time": "2021-07-29T05:26:08.498Z"
   },
   {
    "duration": 38,
    "start_time": "2021-07-29T05:26:15.659Z"
   },
   {
    "duration": 39,
    "start_time": "2021-07-29T05:27:05.424Z"
   },
   {
    "duration": 42,
    "start_time": "2021-07-29T05:27:15.454Z"
   },
   {
    "duration": 46,
    "start_time": "2021-07-29T05:27:30.687Z"
   },
   {
    "duration": 43,
    "start_time": "2021-07-29T05:27:52.669Z"
   },
   {
    "duration": 712,
    "start_time": "2021-07-29T05:28:03.035Z"
   },
   {
    "duration": 44,
    "start_time": "2021-07-29T05:28:36.770Z"
   },
   {
    "duration": 45,
    "start_time": "2021-07-29T05:28:43.561Z"
   },
   {
    "duration": 688,
    "start_time": "2021-07-29T05:28:45.641Z"
   },
   {
    "duration": 43,
    "start_time": "2021-07-29T05:28:53.129Z"
   },
   {
    "duration": 5,
    "start_time": "2021-07-29T05:28:56.729Z"
   },
   {
    "duration": 218,
    "start_time": "2021-07-29T05:28:56.737Z"
   },
   {
    "duration": 157,
    "start_time": "2021-07-29T05:28:56.958Z"
   },
   {
    "duration": 210,
    "start_time": "2021-07-29T05:28:57.118Z"
   },
   {
    "duration": 326,
    "start_time": "2021-07-29T05:28:57.330Z"
   },
   {
    "duration": 116,
    "start_time": "2021-07-29T05:28:57.658Z"
   },
   {
    "duration": 105,
    "start_time": "2021-07-29T05:28:57.776Z"
   },
   {
    "duration": 23,
    "start_time": "2021-07-29T05:28:57.884Z"
   },
   {
    "duration": 25,
    "start_time": "2021-07-29T05:28:57.911Z"
   },
   {
    "duration": 43,
    "start_time": "2021-07-29T05:28:57.939Z"
   },
   {
    "duration": 20,
    "start_time": "2021-07-29T05:28:57.984Z"
   },
   {
    "duration": 96,
    "start_time": "2021-07-29T05:28:58.006Z"
   },
   {
    "duration": 67,
    "start_time": "2021-07-29T05:28:58.104Z"
   },
   {
    "duration": 32,
    "start_time": "2021-07-29T05:28:58.173Z"
   },
   {
    "duration": 70,
    "start_time": "2021-07-29T05:28:58.207Z"
   },
   {
    "duration": 6,
    "start_time": "2021-07-29T05:28:58.279Z"
   },
   {
    "duration": 394,
    "start_time": "2021-07-29T05:28:58.287Z"
   },
   {
    "duration": 262,
    "start_time": "2021-07-29T05:28:58.684Z"
   },
   {
    "duration": 2183,
    "start_time": "2021-07-29T05:28:58.954Z"
   },
   {
    "duration": 53,
    "start_time": "2021-07-29T05:29:01.139Z"
   },
   {
    "duration": 1594,
    "start_time": "2021-07-29T05:29:01.194Z"
   },
   {
    "duration": 528,
    "start_time": "2021-07-29T05:29:02.790Z"
   },
   {
    "duration": 59,
    "start_time": "2021-07-29T05:29:03.320Z"
   },
   {
    "duration": 699,
    "start_time": "2021-07-29T05:29:03.382Z"
   },
   {
    "duration": -982,
    "start_time": "2021-07-29T05:29:05.066Z"
   },
   {
    "duration": 15,
    "start_time": "2021-07-29T05:29:52.805Z"
   },
   {
    "duration": 21,
    "start_time": "2021-07-29T05:30:15.419Z"
   },
   {
    "duration": 18,
    "start_time": "2021-07-29T05:30:35.666Z"
   },
   {
    "duration": 15,
    "start_time": "2021-07-29T05:30:39.122Z"
   },
   {
    "duration": 22,
    "start_time": "2021-07-29T05:31:00.938Z"
   },
   {
    "duration": 8,
    "start_time": "2021-07-29T05:31:18.624Z"
   },
   {
    "duration": 297,
    "start_time": "2021-07-29T06:00:45.302Z"
   },
   {
    "duration": 27,
    "start_time": "2021-07-29T06:00:51.205Z"
   },
   {
    "duration": 8,
    "start_time": "2021-07-29T06:01:02.771Z"
   },
   {
    "duration": 14,
    "start_time": "2021-07-29T06:01:15.155Z"
   },
   {
    "duration": 13,
    "start_time": "2021-07-29T06:01:26.314Z"
   },
   {
    "duration": 13,
    "start_time": "2021-07-29T06:01:30.659Z"
   },
   {
    "duration": 9,
    "start_time": "2021-07-29T06:01:52.529Z"
   },
   {
    "duration": 7,
    "start_time": "2021-07-29T06:02:44.455Z"
   },
   {
    "duration": 229,
    "start_time": "2021-07-29T06:02:44.465Z"
   },
   {
    "duration": 155,
    "start_time": "2021-07-29T06:02:44.697Z"
   },
   {
    "duration": 203,
    "start_time": "2021-07-29T06:02:44.855Z"
   },
   {
    "duration": 236,
    "start_time": "2021-07-29T06:02:45.061Z"
   },
   {
    "duration": 118,
    "start_time": "2021-07-29T06:02:45.300Z"
   },
   {
    "duration": 107,
    "start_time": "2021-07-29T06:02:45.420Z"
   },
   {
    "duration": 23,
    "start_time": "2021-07-29T06:02:45.530Z"
   },
   {
    "duration": 17,
    "start_time": "2021-07-29T06:02:45.557Z"
   },
   {
    "duration": 47,
    "start_time": "2021-07-29T06:02:45.576Z"
   },
   {
    "duration": 17,
    "start_time": "2021-07-29T06:02:45.625Z"
   },
   {
    "duration": 99,
    "start_time": "2021-07-29T06:02:45.644Z"
   },
   {
    "duration": 59,
    "start_time": "2021-07-29T06:02:45.745Z"
   },
   {
    "duration": 32,
    "start_time": "2021-07-29T06:02:45.806Z"
   },
   {
    "duration": 56,
    "start_time": "2021-07-29T06:02:45.840Z"
   },
   {
    "duration": 6,
    "start_time": "2021-07-29T06:02:45.898Z"
   },
   {
    "duration": 407,
    "start_time": "2021-07-29T06:02:45.906Z"
   },
   {
    "duration": 260,
    "start_time": "2021-07-29T06:02:46.316Z"
   },
   {
    "duration": 2089,
    "start_time": "2021-07-29T06:02:46.579Z"
   },
   {
    "duration": 46,
    "start_time": "2021-07-29T06:02:48.670Z"
   },
   {
    "duration": 1753,
    "start_time": "2021-07-29T06:02:48.719Z"
   },
   {
    "duration": 548,
    "start_time": "2021-07-29T06:02:50.475Z"
   },
   {
    "duration": 28,
    "start_time": "2021-07-29T06:02:51.027Z"
   },
   {
    "duration": 800,
    "start_time": "2021-07-29T06:02:51.057Z"
   },
   {
    "duration": -1102,
    "start_time": "2021-07-29T06:02:52.963Z"
   },
   {
    "duration": 57,
    "start_time": "2021-07-29T06:05:18.550Z"
   },
   {
    "duration": 590,
    "start_time": "2021-07-29T06:05:23.949Z"
   },
   {
    "duration": 563,
    "start_time": "2021-07-29T06:05:26.660Z"
   },
   {
    "duration": 6,
    "start_time": "2021-07-29T06:05:37.015Z"
   },
   {
    "duration": 238,
    "start_time": "2021-07-29T06:05:37.023Z"
   },
   {
    "duration": 161,
    "start_time": "2021-07-29T06:05:37.265Z"
   },
   {
    "duration": 202,
    "start_time": "2021-07-29T06:05:37.429Z"
   },
   {
    "duration": 230,
    "start_time": "2021-07-29T06:05:37.634Z"
   },
   {
    "duration": 124,
    "start_time": "2021-07-29T06:05:37.867Z"
   },
   {
    "duration": 112,
    "start_time": "2021-07-29T06:05:37.994Z"
   },
   {
    "duration": 27,
    "start_time": "2021-07-29T06:05:38.108Z"
   },
   {
    "duration": 38,
    "start_time": "2021-07-29T06:05:38.140Z"
   },
   {
    "duration": 68,
    "start_time": "2021-07-29T06:05:38.182Z"
   },
   {
    "duration": 28,
    "start_time": "2021-07-29T06:05:38.253Z"
   },
   {
    "duration": 100,
    "start_time": "2021-07-29T06:05:38.284Z"
   },
   {
    "duration": 49,
    "start_time": "2021-07-29T06:05:38.386Z"
   },
   {
    "duration": 81,
    "start_time": "2021-07-29T06:05:38.437Z"
   },
   {
    "duration": 51,
    "start_time": "2021-07-29T06:05:38.521Z"
   },
   {
    "duration": 7,
    "start_time": "2021-07-29T06:05:38.575Z"
   },
   {
    "duration": 417,
    "start_time": "2021-07-29T06:05:38.585Z"
   },
   {
    "duration": 329,
    "start_time": "2021-07-29T06:05:39.005Z"
   },
   {
    "duration": 2345,
    "start_time": "2021-07-29T06:05:39.337Z"
   },
   {
    "duration": 74,
    "start_time": "2021-07-29T06:05:41.685Z"
   },
   {
    "duration": 1563,
    "start_time": "2021-07-29T06:05:41.762Z"
   },
   {
    "duration": 636,
    "start_time": "2021-07-29T06:05:43.328Z"
   },
   {
    "duration": 536,
    "start_time": "2021-07-29T06:05:43.966Z"
   },
   {
    "duration": 597,
    "start_time": "2021-07-29T06:05:44.505Z"
   },
   {
    "duration": 17,
    "start_time": "2021-07-29T06:07:00.047Z"
   },
   {
    "duration": 19,
    "start_time": "2021-07-29T06:07:36.746Z"
   },
   {
    "duration": 284,
    "start_time": "2021-07-29T06:07:59.055Z"
   },
   {
    "duration": 303,
    "start_time": "2021-07-29T06:08:03.291Z"
   },
   {
    "duration": 744,
    "start_time": "2021-07-29T06:08:08.867Z"
   },
   {
    "duration": 9,
    "start_time": "2021-07-29T07:17:04.283Z"
   },
   {
    "duration": 44,
    "start_time": "2021-07-29T07:17:09.571Z"
   },
   {
    "duration": 8,
    "start_time": "2021-07-29T07:17:27.740Z"
   },
   {
    "duration": 253,
    "start_time": "2021-07-29T07:17:45.873Z"
   },
   {
    "duration": 90,
    "start_time": "2021-07-29T07:18:49.766Z"
   },
   {
    "duration": 2169,
    "start_time": "2021-07-29T07:21:27.045Z"
   },
   {
    "duration": 434,
    "start_time": "2021-07-29T07:35:38.823Z"
   },
   {
    "duration": 2239,
    "start_time": "2021-07-29T07:35:56.144Z"
   },
   {
    "duration": 120,
    "start_time": "2021-07-29T16:19:06.378Z"
   },
   {
    "duration": 89,
    "start_time": "2021-07-29T16:19:25.513Z"
   },
   {
    "duration": 29,
    "start_time": "2021-07-29T17:49:51.653Z"
   },
   {
    "duration": 21,
    "start_time": "2021-07-29T17:49:57.616Z"
   },
   {
    "duration": 19,
    "start_time": "2021-07-29T17:50:19.310Z"
   },
   {
    "duration": 21,
    "start_time": "2021-07-29T17:50:25.159Z"
   },
   {
    "duration": 20,
    "start_time": "2021-07-29T17:50:29.941Z"
   },
   {
    "duration": 24,
    "start_time": "2021-07-29T17:50:41.564Z"
   },
   {
    "duration": 11,
    "start_time": "2021-07-29T18:01:25.795Z"
   },
   {
    "duration": 823,
    "start_time": "2021-07-29T18:02:03.914Z"
   },
   {
    "duration": 8,
    "start_time": "2021-07-29T18:50:06.404Z"
   },
   {
    "duration": 215,
    "start_time": "2021-07-29T18:50:06.415Z"
   },
   {
    "duration": 158,
    "start_time": "2021-07-29T18:50:06.633Z"
   },
   {
    "duration": 12,
    "start_time": "2021-07-29T18:50:06.795Z"
   },
   {
    "duration": 898,
    "start_time": "2021-07-29T18:50:06.810Z"
   },
   {
    "duration": 206,
    "start_time": "2021-07-29T18:50:07.711Z"
   },
   {
    "duration": 229,
    "start_time": "2021-07-29T18:50:07.920Z"
   },
   {
    "duration": 120,
    "start_time": "2021-07-29T18:50:08.155Z"
   },
   {
    "duration": 105,
    "start_time": "2021-07-29T18:50:08.278Z"
   },
   {
    "duration": 23,
    "start_time": "2021-07-29T18:50:08.385Z"
   },
   {
    "duration": 27,
    "start_time": "2021-07-29T18:50:08.410Z"
   },
   {
    "duration": 40,
    "start_time": "2021-07-29T18:50:08.439Z"
   },
   {
    "duration": 22,
    "start_time": "2021-07-29T18:50:08.481Z"
   },
   {
    "duration": 90,
    "start_time": "2021-07-29T18:50:08.506Z"
   },
   {
    "duration": 56,
    "start_time": "2021-07-29T18:50:08.598Z"
   },
   {
    "duration": 32,
    "start_time": "2021-07-29T18:50:08.657Z"
   },
   {
    "duration": 66,
    "start_time": "2021-07-29T18:50:08.692Z"
   },
   {
    "duration": 6,
    "start_time": "2021-07-29T18:50:08.761Z"
   },
   {
    "duration": 421,
    "start_time": "2021-07-29T18:50:08.769Z"
   },
   {
    "duration": 290,
    "start_time": "2021-07-29T18:50:09.193Z"
   },
   {
    "duration": 2217,
    "start_time": "2021-07-29T18:50:09.486Z"
   },
   {
    "duration": 72,
    "start_time": "2021-07-29T18:50:11.705Z"
   },
   {
    "duration": 1610,
    "start_time": "2021-07-29T18:50:11.781Z"
   },
   {
    "duration": 542,
    "start_time": "2021-07-29T18:50:13.394Z"
   },
   {
    "duration": 546,
    "start_time": "2021-07-29T18:50:13.938Z"
   },
   {
    "duration": 540,
    "start_time": "2021-07-29T18:50:14.488Z"
   },
   {
    "duration": 89,
    "start_time": "2021-07-29T18:50:15.031Z"
   },
   {
    "duration": -3845,
    "start_time": "2021-07-29T18:50:18.967Z"
   },
   {
    "duration": -3844,
    "start_time": "2021-07-29T18:50:18.968Z"
   },
   {
    "duration": 809,
    "start_time": "2021-07-29T19:18:06.907Z"
   },
   {
    "duration": 9,
    "start_time": "2021-07-29T20:34:28.144Z"
   },
   {
    "duration": 87,
    "start_time": "2021-07-29T20:37:48.663Z"
   },
   {
    "duration": 6,
    "start_time": "2021-07-29T20:37:52.149Z"
   },
   {
    "duration": 237,
    "start_time": "2021-07-29T20:37:52.158Z"
   },
   {
    "duration": 162,
    "start_time": "2021-07-29T20:37:52.398Z"
   },
   {
    "duration": 10,
    "start_time": "2021-07-29T20:37:52.563Z"
   },
   {
    "duration": 218,
    "start_time": "2021-07-29T20:37:52.576Z"
   },
   {
    "duration": 127,
    "start_time": "2021-07-29T20:37:52.797Z"
   },
   {
    "duration": 8,
    "start_time": "2021-07-29T20:37:52.926Z"
   },
   {
    "duration": 126,
    "start_time": "2021-07-29T20:37:52.955Z"
   },
   {
    "duration": 106,
    "start_time": "2021-07-29T20:37:53.084Z"
   },
   {
    "duration": 27,
    "start_time": "2021-07-29T20:37:53.192Z"
   },
   {
    "duration": 25,
    "start_time": "2021-07-29T20:37:53.221Z"
   },
   {
    "duration": 35,
    "start_time": "2021-07-29T20:37:53.255Z"
   },
   {
    "duration": 18,
    "start_time": "2021-07-29T20:37:53.293Z"
   },
   {
    "duration": 364,
    "start_time": "2021-07-29T20:37:53.314Z"
   },
   {
    "duration": -4232,
    "start_time": "2021-07-29T20:37:57.913Z"
   },
   {
    "duration": -4231,
    "start_time": "2021-07-29T20:37:57.914Z"
   },
   {
    "duration": -4234,
    "start_time": "2021-07-29T20:37:57.919Z"
   },
   {
    "duration": -4242,
    "start_time": "2021-07-29T20:37:57.929Z"
   },
   {
    "duration": -4241,
    "start_time": "2021-07-29T20:37:57.930Z"
   },
   {
    "duration": -4240,
    "start_time": "2021-07-29T20:37:57.931Z"
   },
   {
    "duration": -4241,
    "start_time": "2021-07-29T20:37:57.933Z"
   },
   {
    "duration": -4243,
    "start_time": "2021-07-29T20:37:57.937Z"
   },
   {
    "duration": -4244,
    "start_time": "2021-07-29T20:37:57.940Z"
   },
   {
    "duration": -4244,
    "start_time": "2021-07-29T20:37:57.941Z"
   },
   {
    "duration": -4245,
    "start_time": "2021-07-29T20:37:57.943Z"
   },
   {
    "duration": -4244,
    "start_time": "2021-07-29T20:37:57.944Z"
   },
   {
    "duration": -4244,
    "start_time": "2021-07-29T20:37:57.945Z"
   },
   {
    "duration": -4244,
    "start_time": "2021-07-29T20:37:57.946Z"
   },
   {
    "duration": -4250,
    "start_time": "2021-07-29T20:37:57.953Z"
   },
   {
    "duration": -4249,
    "start_time": "2021-07-29T20:37:57.954Z"
   },
   {
    "duration": 93,
    "start_time": "2021-07-29T20:42:18.626Z"
   },
   {
    "duration": 87,
    "start_time": "2021-07-29T20:42:21.601Z"
   },
   {
    "duration": 7,
    "start_time": "2021-07-29T20:42:50.418Z"
   },
   {
    "duration": 234,
    "start_time": "2021-07-29T20:42:50.427Z"
   },
   {
    "duration": 162,
    "start_time": "2021-07-29T20:42:50.664Z"
   },
   {
    "duration": 26,
    "start_time": "2021-07-29T20:42:50.828Z"
   },
   {
    "duration": 207,
    "start_time": "2021-07-29T20:42:50.857Z"
   },
   {
    "duration": 126,
    "start_time": "2021-07-29T20:42:51.067Z"
   },
   {
    "duration": 9,
    "start_time": "2021-07-29T20:42:51.196Z"
   },
   {
    "duration": 143,
    "start_time": "2021-07-29T20:42:51.208Z"
   },
   {
    "duration": 112,
    "start_time": "2021-07-29T20:42:51.357Z"
   },
   {
    "duration": 23,
    "start_time": "2021-07-29T20:42:51.473Z"
   },
   {
    "duration": 33,
    "start_time": "2021-07-29T20:42:51.499Z"
   },
   {
    "duration": 41,
    "start_time": "2021-07-29T20:42:51.534Z"
   },
   {
    "duration": 18,
    "start_time": "2021-07-29T20:42:51.578Z"
   },
   {
    "duration": 99,
    "start_time": "2021-07-29T20:42:51.598Z"
   },
   {
    "duration": 61,
    "start_time": "2021-07-29T20:42:51.699Z"
   },
   {
    "duration": 32,
    "start_time": "2021-07-29T20:42:51.762Z"
   },
   {
    "duration": 68,
    "start_time": "2021-07-29T20:42:51.797Z"
   },
   {
    "duration": 5,
    "start_time": "2021-07-29T20:42:51.868Z"
   },
   {
    "duration": 7627,
    "start_time": "2021-07-29T20:42:51.875Z"
   },
   {
    "duration": -4283,
    "start_time": "2021-07-29T20:43:03.787Z"
   },
   {
    "duration": -4282,
    "start_time": "2021-07-29T20:43:03.788Z"
   },
   {
    "duration": -4283,
    "start_time": "2021-07-29T20:43:03.790Z"
   },
   {
    "duration": -4283,
    "start_time": "2021-07-29T20:43:03.791Z"
   },
   {
    "duration": -4282,
    "start_time": "2021-07-29T20:43:03.792Z"
   },
   {
    "duration": -4282,
    "start_time": "2021-07-29T20:43:03.793Z"
   },
   {
    "duration": -4281,
    "start_time": "2021-07-29T20:43:03.794Z"
   },
   {
    "duration": -4282,
    "start_time": "2021-07-29T20:43:03.796Z"
   },
   {
    "duration": -4281,
    "start_time": "2021-07-29T20:43:03.797Z"
   },
   {
    "duration": -4285,
    "start_time": "2021-07-29T20:43:03.802Z"
   },
   {
    "duration": -4286,
    "start_time": "2021-07-29T20:43:03.804Z"
   },
   {
    "duration": 1265,
    "start_time": "2021-07-29T20:44:21.747Z"
   },
   {
    "duration": 1158,
    "start_time": "2021-07-29T20:44:56.008Z"
   },
   {
    "duration": 1274,
    "start_time": "2021-07-29T20:45:04.536Z"
   },
   {
    "duration": 1165,
    "start_time": "2021-07-29T20:45:19.479Z"
   },
   {
    "duration": 276,
    "start_time": "2021-07-29T20:46:13.619Z"
   },
   {
    "duration": 297,
    "start_time": "2021-07-29T20:48:00.445Z"
   },
   {
    "duration": 44,
    "start_time": "2021-07-29T20:48:08.678Z"
   },
   {
    "duration": 255,
    "start_time": "2021-07-29T20:48:22.267Z"
   },
   {
    "duration": 46,
    "start_time": "2021-07-29T20:49:10.407Z"
   },
   {
    "duration": 257,
    "start_time": "2021-07-29T20:49:13.321Z"
   },
   {
    "duration": 257,
    "start_time": "2021-07-29T20:49:21.296Z"
   },
   {
    "duration": 60,
    "start_time": "2021-07-29T20:49:33.993Z"
   },
   {
    "duration": 46,
    "start_time": "2021-07-29T20:53:44.954Z"
   },
   {
    "duration": 49,
    "start_time": "2021-07-29T20:54:05.936Z"
   },
   {
    "duration": 5,
    "start_time": "2021-07-29T21:14:53.052Z"
   },
   {
    "duration": 6,
    "start_time": "2021-07-29T21:14:58.739Z"
   },
   {
    "duration": 8327,
    "start_time": "2021-07-29T21:15:03.981Z"
   },
   {
    "duration": 50,
    "start_time": "2021-07-29T21:16:46.248Z"
   },
   {
    "duration": 7,
    "start_time": "2021-07-29T21:17:03.734Z"
   },
   {
    "duration": 230,
    "start_time": "2021-07-29T21:17:03.744Z"
   },
   {
    "duration": 155,
    "start_time": "2021-07-29T21:17:03.977Z"
   },
   {
    "duration": 21,
    "start_time": "2021-07-29T21:17:04.135Z"
   },
   {
    "duration": 205,
    "start_time": "2021-07-29T21:17:04.159Z"
   },
   {
    "duration": 137,
    "start_time": "2021-07-29T21:17:04.368Z"
   },
   {
    "duration": 12,
    "start_time": "2021-07-29T21:17:04.508Z"
   },
   {
    "duration": 115,
    "start_time": "2021-07-29T21:17:04.555Z"
   },
   {
    "duration": 110,
    "start_time": "2021-07-29T21:17:04.673Z"
   },
   {
    "duration": 24,
    "start_time": "2021-07-29T21:17:04.785Z"
   },
   {
    "duration": 17,
    "start_time": "2021-07-29T21:17:04.812Z"
   },
   {
    "duration": 55,
    "start_time": "2021-07-29T21:17:04.832Z"
   },
   {
    "duration": 20,
    "start_time": "2021-07-29T21:17:04.890Z"
   },
   {
    "duration": 112,
    "start_time": "2021-07-29T21:17:04.914Z"
   },
   {
    "duration": 168,
    "start_time": "2021-07-29T21:17:05.029Z"
   },
   {
    "duration": 56,
    "start_time": "2021-07-29T21:17:05.200Z"
   },
   {
    "duration": 43,
    "start_time": "2021-07-29T21:17:05.258Z"
   },
   {
    "duration": 77,
    "start_time": "2021-07-29T21:17:05.303Z"
   },
   {
    "duration": 6,
    "start_time": "2021-07-29T21:17:05.383Z"
   },
   {
    "duration": 349,
    "start_time": "2021-07-29T21:17:05.392Z"
   },
   {
    "duration": 230,
    "start_time": "2021-07-29T21:17:05.744Z"
   },
   {
    "duration": 7042,
    "start_time": "2021-07-29T21:17:05.977Z"
   },
   {
    "duration": -4404,
    "start_time": "2021-07-29T21:17:17.428Z"
   },
   {
    "duration": -4402,
    "start_time": "2021-07-29T21:17:17.429Z"
   },
   {
    "duration": -4402,
    "start_time": "2021-07-29T21:17:17.431Z"
   },
   {
    "duration": -4401,
    "start_time": "2021-07-29T21:17:17.433Z"
   },
   {
    "duration": -4400,
    "start_time": "2021-07-29T21:17:17.434Z"
   },
   {
    "duration": -4399,
    "start_time": "2021-07-29T21:17:17.435Z"
   },
   {
    "duration": -4404,
    "start_time": "2021-07-29T21:17:17.442Z"
   },
   {
    "duration": -4404,
    "start_time": "2021-07-29T21:17:17.444Z"
   },
   {
    "duration": -4403,
    "start_time": "2021-07-29T21:17:17.445Z"
   },
   {
    "duration": 11468,
    "start_time": "2021-07-29T21:20:10.290Z"
   },
   {
    "duration": -4414,
    "start_time": "2021-07-29T21:20:26.175Z"
   },
   {
    "duration": 565,
    "start_time": "2021-07-29T21:26:17.156Z"
   },
   {
    "duration": 117,
    "start_time": "2021-07-29T21:26:35.413Z"
   },
   {
    "duration": 420,
    "start_time": "2021-07-29T21:28:21.764Z"
   },
   {
    "duration": 27,
    "start_time": "2021-07-29T21:29:17.809Z"
   },
   {
    "duration": 26,
    "start_time": "2021-07-29T21:29:30.623Z"
   },
   {
    "duration": 27,
    "start_time": "2021-07-29T21:29:51.847Z"
   },
   {
    "duration": 29,
    "start_time": "2021-07-29T21:30:14.991Z"
   },
   {
    "duration": 30,
    "start_time": "2021-07-29T21:34:25.463Z"
   },
   {
    "duration": 544,
    "start_time": "2021-07-29T21:35:16.089Z"
   },
   {
    "duration": 8,
    "start_time": "2021-07-29T21:35:28.964Z"
   },
   {
    "duration": 223,
    "start_time": "2021-07-29T21:35:28.976Z"
   },
   {
    "duration": 164,
    "start_time": "2021-07-29T21:35:29.202Z"
   },
   {
    "duration": 9,
    "start_time": "2021-07-29T21:35:29.369Z"
   },
   {
    "duration": 313,
    "start_time": "2021-07-29T21:35:29.381Z"
   },
   {
    "duration": 163,
    "start_time": "2021-07-29T21:35:29.697Z"
   },
   {
    "duration": 12,
    "start_time": "2021-07-29T21:35:29.863Z"
   },
   {
    "duration": 149,
    "start_time": "2021-07-29T21:35:29.881Z"
   },
   {
    "duration": 108,
    "start_time": "2021-07-29T21:35:30.033Z"
   },
   {
    "duration": 26,
    "start_time": "2021-07-29T21:35:30.156Z"
   },
   {
    "duration": 20,
    "start_time": "2021-07-29T21:35:30.185Z"
   },
   {
    "duration": 57,
    "start_time": "2021-07-29T21:35:30.208Z"
   },
   {
    "duration": 23,
    "start_time": "2021-07-29T21:35:30.268Z"
   },
   {
    "duration": 119,
    "start_time": "2021-07-29T21:35:30.294Z"
   },
   {
    "duration": 67,
    "start_time": "2021-07-29T21:35:30.416Z"
   },
   {
    "duration": 33,
    "start_time": "2021-07-29T21:35:30.486Z"
   },
   {
    "duration": 85,
    "start_time": "2021-07-29T21:35:30.522Z"
   },
   {
    "duration": 48,
    "start_time": "2021-07-29T21:35:30.610Z"
   },
   {
    "duration": 6,
    "start_time": "2021-07-29T21:35:30.661Z"
   },
   {
    "duration": 341,
    "start_time": "2021-07-29T21:35:30.669Z"
   },
   {
    "duration": 241,
    "start_time": "2021-07-29T21:35:31.013Z"
   },
   {
    "duration": 498,
    "start_time": "2021-07-29T21:35:31.256Z"
   },
   {
    "duration": -4458,
    "start_time": "2021-07-29T21:35:36.215Z"
   },
   {
    "duration": -4458,
    "start_time": "2021-07-29T21:35:36.216Z"
   },
   {
    "duration": 118,
    "start_time": "2021-07-29T21:35:56.571Z"
   },
   {
    "duration": 27,
    "start_time": "2021-07-29T21:36:03.328Z"
   },
   {
    "duration": 28,
    "start_time": "2021-07-29T21:36:06.089Z"
   },
   {
    "duration": 28,
    "start_time": "2021-07-29T21:36:19.936Z"
   },
   {
    "duration": 28,
    "start_time": "2021-07-29T21:36:31.735Z"
   },
   {
    "duration": 271,
    "start_time": "2021-07-29T21:52:47.299Z"
   },
   {
    "duration": 269,
    "start_time": "2021-07-29T21:53:05.404Z"
   },
   {
    "duration": 30,
    "start_time": "2021-07-29T21:53:26.451Z"
   },
   {
    "duration": 276,
    "start_time": "2021-07-29T21:56:02.297Z"
   },
   {
    "duration": 337,
    "start_time": "2021-07-29T21:56:47.366Z"
   },
   {
    "duration": 19,
    "start_time": "2021-07-29T21:57:53.019Z"
   },
   {
    "duration": 284,
    "start_time": "2021-07-29T21:58:14.450Z"
   },
   {
    "duration": 29,
    "start_time": "2021-07-29T21:59:12.287Z"
   },
   {
    "duration": 295,
    "start_time": "2021-07-29T21:59:22.998Z"
   },
   {
    "duration": 261,
    "start_time": "2021-07-29T21:59:35.462Z"
   },
   {
    "duration": 278,
    "start_time": "2021-07-29T21:59:50.108Z"
   },
   {
    "duration": 191,
    "start_time": "2021-07-29T22:45:07.799Z"
   },
   {
    "duration": 217,
    "start_time": "2021-07-29T22:45:13.066Z"
   },
   {
    "duration": 5,
    "start_time": "2021-07-29T22:47:30.425Z"
   },
   {
    "duration": 82,
    "start_time": "2021-07-29T22:48:26.047Z"
   },
   {
    "duration": 114,
    "start_time": "2021-07-29T22:48:28.814Z"
   },
   {
    "duration": 90,
    "start_time": "2021-07-29T22:50:27.944Z"
   },
   {
    "duration": 111,
    "start_time": "2021-07-29T22:50:51.997Z"
   },
   {
    "duration": 25,
    "start_time": "2021-07-29T22:55:58.572Z"
   },
   {
    "duration": 7,
    "start_time": "2021-07-29T22:59:08.976Z"
   },
   {
    "duration": 24,
    "start_time": "2021-07-29T22:59:13.342Z"
   },
   {
    "duration": 8,
    "start_time": "2021-07-29T22:59:36.702Z"
   },
   {
    "duration": 7,
    "start_time": "2021-07-29T23:00:19.380Z"
   },
   {
    "duration": 17,
    "start_time": "2021-07-29T23:01:07.720Z"
   },
   {
    "duration": 25,
    "start_time": "2021-07-29T23:01:12.705Z"
   },
   {
    "duration": 49,
    "start_time": "2021-07-29T23:02:29.404Z"
   },
   {
    "duration": 65,
    "start_time": "2021-07-29T23:03:46.591Z"
   },
   {
    "duration": 52,
    "start_time": "2021-07-29T23:05:04.194Z"
   },
   {
    "duration": 39,
    "start_time": "2021-07-29T23:14:03.401Z"
   },
   {
    "duration": 20,
    "start_time": "2021-07-29T23:14:38.864Z"
   },
   {
    "duration": 21,
    "start_time": "2021-07-29T23:15:33.924Z"
   },
   {
    "duration": 89,
    "start_time": "2021-07-29T23:18:46.899Z"
   },
   {
    "duration": 24,
    "start_time": "2021-07-29T23:18:51.810Z"
   },
   {
    "duration": 268,
    "start_time": "2021-07-29T23:19:22.047Z"
   },
   {
    "duration": 268,
    "start_time": "2021-07-29T23:19:49.502Z"
   },
   {
    "duration": 12,
    "start_time": "2021-07-29T23:19:57.388Z"
   },
   {
    "duration": 289,
    "start_time": "2021-07-29T23:25:00.224Z"
   },
   {
    "duration": 5,
    "start_time": "2021-07-29T23:27:37.970Z"
   },
   {
    "duration": 5,
    "start_time": "2021-07-29T23:27:49.177Z"
   },
   {
    "duration": 6,
    "start_time": "2021-07-29T23:27:52.345Z"
   },
   {
    "duration": 9,
    "start_time": "2021-07-29T23:30:34.656Z"
   },
   {
    "duration": 17,
    "start_time": "2021-07-29T23:35:56.002Z"
   },
   {
    "duration": 17,
    "start_time": "2021-07-29T23:36:08.156Z"
   },
   {
    "duration": 13,
    "start_time": "2021-07-29T23:36:55.298Z"
   },
   {
    "duration": 12,
    "start_time": "2021-07-29T23:38:39.454Z"
   },
   {
    "duration": 12,
    "start_time": "2021-07-29T23:39:10.670Z"
   },
   {
    "duration": 13,
    "start_time": "2021-07-29T23:39:13.184Z"
   },
   {
    "duration": 13,
    "start_time": "2021-07-29T23:39:23.753Z"
   },
   {
    "duration": 9,
    "start_time": "2021-07-29T23:40:03.887Z"
   },
   {
    "duration": 240,
    "start_time": "2021-07-29T23:40:03.899Z"
   },
   {
    "duration": 160,
    "start_time": "2021-07-29T23:40:04.144Z"
   },
   {
    "duration": 12,
    "start_time": "2021-07-29T23:40:04.308Z"
   },
   {
    "duration": 221,
    "start_time": "2021-07-29T23:40:04.323Z"
   },
   {
    "duration": 124,
    "start_time": "2021-07-29T23:40:04.555Z"
   },
   {
    "duration": 9,
    "start_time": "2021-07-29T23:40:04.681Z"
   },
   {
    "duration": 132,
    "start_time": "2021-07-29T23:40:04.694Z"
   },
   {
    "duration": 99,
    "start_time": "2021-07-29T23:40:04.829Z"
   },
   {
    "duration": 25,
    "start_time": "2021-07-29T23:40:04.931Z"
   },
   {
    "duration": 18,
    "start_time": "2021-07-29T23:40:04.959Z"
   },
   {
    "duration": 36,
    "start_time": "2021-07-29T23:40:04.979Z"
   },
   {
    "duration": 17,
    "start_time": "2021-07-29T23:40:05.018Z"
   },
   {
    "duration": 104,
    "start_time": "2021-07-29T23:40:05.037Z"
   },
   {
    "duration": 59,
    "start_time": "2021-07-29T23:40:05.143Z"
   },
   {
    "duration": 53,
    "start_time": "2021-07-29T23:40:05.204Z"
   },
   {
    "duration": 44,
    "start_time": "2021-07-29T23:40:05.260Z"
   },
   {
    "duration": 73,
    "start_time": "2021-07-29T23:40:05.306Z"
   },
   {
    "duration": 6,
    "start_time": "2021-07-29T23:40:05.381Z"
   },
   {
    "duration": 337,
    "start_time": "2021-07-29T23:40:05.390Z"
   },
   {
    "duration": 227,
    "start_time": "2021-07-29T23:40:05.729Z"
   },
   {
    "duration": 126,
    "start_time": "2021-07-29T23:40:05.958Z"
   },
   {
    "duration": 8,
    "start_time": "2021-07-29T23:40:06.089Z"
   },
   {
    "duration": 84,
    "start_time": "2021-07-29T23:40:06.100Z"
   },
   {
    "duration": 50,
    "start_time": "2021-07-29T23:40:06.186Z"
   },
   {
    "duration": 30,
    "start_time": "2021-07-29T23:40:06.238Z"
   },
   {
    "duration": 12,
    "start_time": "2021-07-29T23:40:06.271Z"
   },
   {
    "duration": 92,
    "start_time": "2021-07-29T23:40:06.285Z"
   },
   {
    "duration": 53,
    "start_time": "2021-07-29T23:40:06.380Z"
   },
   {
    "duration": 19,
    "start_time": "2021-07-29T23:40:06.455Z"
   },
   {
    "duration": 14,
    "start_time": "2021-07-29T23:40:06.476Z"
   },
   {
    "duration": 40,
    "start_time": "2021-07-29T23:58:54.298Z"
   },
   {
    "duration": 291,
    "start_time": "2021-07-30T00:16:48.607Z"
   },
   {
    "duration": 282,
    "start_time": "2021-07-30T00:16:59.738Z"
   },
   {
    "duration": 510,
    "start_time": "2021-07-30T00:17:08.089Z"
   },
   {
    "duration": 2090,
    "start_time": "2021-07-30T00:17:19.059Z"
   },
   {
    "duration": 2301,
    "start_time": "2021-07-30T00:18:26.853Z"
   },
   {
    "duration": 1873,
    "start_time": "2021-07-30T00:19:28.353Z"
   },
   {
    "duration": 1921,
    "start_time": "2021-07-30T00:27:18.348Z"
   },
   {
    "duration": 97,
    "start_time": "2021-07-30T00:31:41.502Z"
   },
   {
    "duration": 26,
    "start_time": "2021-07-30T00:32:07.741Z"
   },
   {
    "duration": 284,
    "start_time": "2021-07-30T00:47:22.872Z"
   },
   {
    "duration": 238,
    "start_time": "2021-07-30T00:48:08.897Z"
   },
   {
    "duration": 221,
    "start_time": "2021-07-30T00:48:34.826Z"
   },
   {
    "duration": 30,
    "start_time": "2021-07-30T01:00:00.000Z"
   },
   {
    "duration": 29,
    "start_time": "2021-07-30T01:00:10.241Z"
   },
   {
    "duration": 40,
    "start_time": "2021-07-30T01:20:46.716Z"
   },
   {
    "duration": 10,
    "start_time": "2021-07-30T01:22:18.945Z"
   },
   {
    "duration": 7,
    "start_time": "2021-07-30T01:22:52.782Z"
   },
   {
    "duration": 6,
    "start_time": "2021-07-30T01:23:09.045Z"
   },
   {
    "duration": 4,
    "start_time": "2021-07-30T01:23:37.114Z"
   },
   {
    "duration": 5,
    "start_time": "2021-07-30T01:23:38.715Z"
   },
   {
    "duration": 6,
    "start_time": "2021-07-30T01:23:51.796Z"
   },
   {
    "duration": 6,
    "start_time": "2021-07-30T01:24:12.780Z"
   },
   {
    "duration": 210,
    "start_time": "2021-07-30T01:24:12.789Z"
   },
   {
    "duration": 154,
    "start_time": "2021-07-30T01:24:13.002Z"
   },
   {
    "duration": 9,
    "start_time": "2021-07-30T01:24:13.158Z"
   },
   {
    "duration": 204,
    "start_time": "2021-07-30T01:24:13.170Z"
   },
   {
    "duration": 120,
    "start_time": "2021-07-30T01:24:13.376Z"
   },
   {
    "duration": 8,
    "start_time": "2021-07-30T01:24:13.499Z"
   },
   {
    "duration": 130,
    "start_time": "2021-07-30T01:24:13.511Z"
   },
   {
    "duration": 102,
    "start_time": "2021-07-30T01:24:13.644Z"
   },
   {
    "duration": 23,
    "start_time": "2021-07-30T01:24:13.755Z"
   },
   {
    "duration": 20,
    "start_time": "2021-07-30T01:24:13.780Z"
   },
   {
    "duration": 35,
    "start_time": "2021-07-30T01:24:13.802Z"
   },
   {
    "duration": 16,
    "start_time": "2021-07-30T01:24:13.839Z"
   },
   {
    "duration": 98,
    "start_time": "2021-07-30T01:24:13.857Z"
   },
   {
    "duration": 48,
    "start_time": "2021-07-30T01:24:13.957Z"
   },
   {
    "duration": 58,
    "start_time": "2021-07-30T01:24:14.008Z"
   },
   {
    "duration": 52,
    "start_time": "2021-07-30T01:24:14.069Z"
   },
   {
    "duration": 56,
    "start_time": "2021-07-30T01:24:14.123Z"
   },
   {
    "duration": 6,
    "start_time": "2021-07-30T01:24:14.181Z"
   },
   {
    "duration": 348,
    "start_time": "2021-07-30T01:24:14.189Z"
   },
   {
    "duration": 238,
    "start_time": "2021-07-30T01:24:14.539Z"
   },
   {
    "duration": 127,
    "start_time": "2021-07-30T01:24:14.780Z"
   },
   {
    "duration": 8,
    "start_time": "2021-07-30T01:24:14.912Z"
   },
   {
    "duration": 79,
    "start_time": "2021-07-30T01:24:14.922Z"
   },
   {
    "duration": 63,
    "start_time": "2021-07-30T01:24:15.004Z"
   },
   {
    "duration": 16,
    "start_time": "2021-07-30T01:24:15.069Z"
   },
   {
    "duration": 12,
    "start_time": "2021-07-30T01:24:15.087Z"
   },
   {
    "duration": 1997,
    "start_time": "2021-07-30T01:24:15.101Z"
   },
   {
    "duration": 28,
    "start_time": "2021-07-30T01:24:17.100Z"
   },
   {
    "duration": 230,
    "start_time": "2021-07-30T01:24:17.154Z"
   },
   {
    "duration": 74,
    "start_time": "2021-07-30T01:24:17.386Z"
   },
   {
    "duration": 49,
    "start_time": "2021-07-30T01:24:17.462Z"
   },
   {
    "duration": 42,
    "start_time": "2021-07-30T01:24:17.513Z"
   },
   {
    "duration": 11,
    "start_time": "2021-07-30T01:24:17.557Z"
   },
   {
    "duration": 1966,
    "start_time": "2021-07-30T01:24:17.570Z"
   },
   {
    "duration": 48,
    "start_time": "2021-07-30T01:24:19.539Z"
   },
   {
    "duration": 40,
    "start_time": "2021-07-30T01:24:19.590Z"
   },
   {
    "duration": 24,
    "start_time": "2021-07-30T01:24:19.633Z"
   },
   {
    "duration": 19,
    "start_time": "2021-07-30T01:24:19.660Z"
   },
   {
    "duration": 23,
    "start_time": "2021-07-30T01:24:19.681Z"
   },
   {
    "duration": 351,
    "start_time": "2021-07-30T01:29:08.936Z"
   },
   {
    "duration": 14,
    "start_time": "2021-07-30T01:29:42.526Z"
   },
   {
    "duration": 7,
    "start_time": "2021-07-30T01:29:58.550Z"
   },
   {
    "duration": 13,
    "start_time": "2021-07-30T01:30:16.988Z"
   },
   {
    "duration": 23,
    "start_time": "2021-07-30T01:34:22.290Z"
   },
   {
    "duration": 25,
    "start_time": "2021-07-30T01:34:48.309Z"
   },
   {
    "duration": 8,
    "start_time": "2021-07-30T01:36:13.095Z"
   },
   {
    "duration": 7,
    "start_time": "2021-07-30T01:36:33.111Z"
   },
   {
    "duration": 6,
    "start_time": "2021-07-30T01:36:40.009Z"
   },
   {
    "duration": 223,
    "start_time": "2021-07-30T01:36:40.018Z"
   },
   {
    "duration": 152,
    "start_time": "2021-07-30T01:36:40.245Z"
   },
   {
    "duration": 10,
    "start_time": "2021-07-30T01:36:40.400Z"
   },
   {
    "duration": 200,
    "start_time": "2021-07-30T01:36:40.413Z"
   },
   {
    "duration": 119,
    "start_time": "2021-07-30T01:36:40.615Z"
   },
   {
    "duration": 18,
    "start_time": "2021-07-30T01:36:40.737Z"
   },
   {
    "duration": 125,
    "start_time": "2021-07-30T01:36:40.758Z"
   },
   {
    "duration": 103,
    "start_time": "2021-07-30T01:36:40.887Z"
   },
   {
    "duration": 24,
    "start_time": "2021-07-30T01:36:40.994Z"
   },
   {
    "duration": 15,
    "start_time": "2021-07-30T01:36:41.022Z"
   },
   {
    "duration": 37,
    "start_time": "2021-07-30T01:36:41.055Z"
   },
   {
    "duration": 17,
    "start_time": "2021-07-30T01:36:41.095Z"
   },
   {
    "duration": 111,
    "start_time": "2021-07-30T01:36:41.115Z"
   },
   {
    "duration": 57,
    "start_time": "2021-07-30T01:36:41.228Z"
   },
   {
    "duration": 32,
    "start_time": "2021-07-30T01:36:41.288Z"
   },
   {
    "duration": 65,
    "start_time": "2021-07-30T01:36:41.323Z"
   },
   {
    "duration": 46,
    "start_time": "2021-07-30T01:36:41.390Z"
   },
   {
    "duration": 6,
    "start_time": "2021-07-30T01:36:41.455Z"
   },
   {
    "duration": 333,
    "start_time": "2021-07-30T01:36:41.463Z"
   },
   {
    "duration": 229,
    "start_time": "2021-07-30T01:36:41.798Z"
   },
   {
    "duration": 125,
    "start_time": "2021-07-30T01:36:42.029Z"
   },
   {
    "duration": 9,
    "start_time": "2021-07-30T01:36:42.156Z"
   },
   {
    "duration": 66,
    "start_time": "2021-07-30T01:36:42.167Z"
   },
   {
    "duration": 65,
    "start_time": "2021-07-30T01:36:42.235Z"
   },
   {
    "duration": 17,
    "start_time": "2021-07-30T01:36:42.302Z"
   },
   {
    "duration": 38,
    "start_time": "2021-07-30T01:36:42.324Z"
   },
   {
    "duration": 2250,
    "start_time": "2021-07-30T01:36:42.364Z"
   },
   {
    "duration": 44,
    "start_time": "2021-07-30T01:36:44.617Z"
   },
   {
    "duration": 236,
    "start_time": "2021-07-30T01:36:44.663Z"
   },
   {
    "duration": 80,
    "start_time": "2021-07-30T01:36:44.902Z"
   },
   {
    "duration": 185,
    "start_time": "2021-07-30T01:36:44.985Z"
   },
   {
    "duration": 18,
    "start_time": "2021-07-30T01:36:45.173Z"
   },
   {
    "duration": 11,
    "start_time": "2021-07-30T01:36:45.193Z"
   },
   {
    "duration": 1865,
    "start_time": "2021-07-30T01:36:45.206Z"
   },
   {
    "duration": 28,
    "start_time": "2021-07-30T01:36:47.074Z"
   },
   {
    "duration": 67,
    "start_time": "2021-07-30T01:36:47.105Z"
   },
   {
    "duration": 21,
    "start_time": "2021-07-30T01:36:47.175Z"
   },
   {
    "duration": 27,
    "start_time": "2021-07-30T01:36:47.198Z"
   },
   {
    "duration": 7,
    "start_time": "2021-07-30T01:36:47.254Z"
   },
   {
    "duration": 23,
    "start_time": "2021-07-30T01:36:59.604Z"
   },
   {
    "duration": 22,
    "start_time": "2021-07-30T01:37:02.035Z"
   },
   {
    "duration": 22,
    "start_time": "2021-07-30T01:37:06.052Z"
   },
   {
    "duration": 300,
    "start_time": "2021-07-30T01:37:09.268Z"
   },
   {
    "duration": 22,
    "start_time": "2021-07-30T01:37:19.603Z"
   },
   {
    "duration": 22,
    "start_time": "2021-07-30T01:37:24.667Z"
   },
   {
    "duration": 16,
    "start_time": "2021-07-30T02:01:14.360Z"
   },
   {
    "duration": 18,
    "start_time": "2021-07-30T02:02:23.913Z"
   },
   {
    "duration": 496,
    "start_time": "2021-07-30T02:03:17.719Z"
   },
   {
    "duration": 274,
    "start_time": "2021-07-30T02:04:56.344Z"
   },
   {
    "duration": 276,
    "start_time": "2021-07-30T02:05:07.736Z"
   },
   {
    "duration": 643,
    "start_time": "2021-07-30T02:05:49.741Z"
   },
   {
    "duration": 16,
    "start_time": "2021-07-30T02:19:25.850Z"
   },
   {
    "duration": 40,
    "start_time": "2021-07-30T02:27:06.061Z"
   },
   {
    "duration": 269,
    "start_time": "2021-07-30T02:27:53.887Z"
   },
   {
    "duration": 12,
    "start_time": "2021-07-30T02:28:00.213Z"
   },
   {
    "duration": 12,
    "start_time": "2021-07-30T02:29:50.193Z"
   },
   {
    "duration": 15,
    "start_time": "2021-07-30T02:29:55.670Z"
   },
   {
    "duration": 11,
    "start_time": "2021-07-30T02:30:03.366Z"
   },
   {
    "duration": 283,
    "start_time": "2021-07-30T02:30:21.796Z"
   },
   {
    "duration": 7,
    "start_time": "2021-07-30T02:30:27.620Z"
   },
   {
    "duration": 270,
    "start_time": "2021-07-30T02:32:11.119Z"
   },
   {
    "duration": 25,
    "start_time": "2021-07-30T02:38:09.349Z"
   },
   {
    "duration": 280,
    "start_time": "2021-07-30T02:43:37.227Z"
   },
   {
    "duration": 260,
    "start_time": "2021-07-30T02:43:42.572Z"
   },
   {
    "duration": 6,
    "start_time": "2021-07-30T02:44:05.508Z"
   },
   {
    "duration": 6,
    "start_time": "2021-07-30T02:44:20.539Z"
   },
   {
    "duration": 47,
    "start_time": "2021-07-30T02:44:23.459Z"
   },
   {
    "duration": 6,
    "start_time": "2021-07-30T02:44:32.273Z"
   },
   {
    "duration": 82,
    "start_time": "2021-07-30T02:44:43.331Z"
   },
   {
    "duration": 43,
    "start_time": "2021-07-30T02:44:45.977Z"
   },
   {
    "duration": 81,
    "start_time": "2021-07-30T02:46:34.532Z"
   },
   {
    "duration": 19,
    "start_time": "2021-07-30T02:46:38.235Z"
   },
   {
    "duration": 12,
    "start_time": "2021-07-30T02:47:25.544Z"
   },
   {
    "duration": 8,
    "start_time": "2021-07-30T02:47:27.088Z"
   },
   {
    "duration": 253,
    "start_time": "2021-07-30T02:48:11.022Z"
   },
   {
    "duration": 515,
    "start_time": "2021-07-30T02:48:17.469Z"
   },
   {
    "duration": 9,
    "start_time": "2021-07-30T02:49:39.546Z"
   },
   {
    "duration": 7,
    "start_time": "2021-07-30T02:49:43.025Z"
   },
   {
    "duration": 42,
    "start_time": "2021-07-30T02:58:30.645Z"
   },
   {
    "duration": 42,
    "start_time": "2021-07-30T02:59:28.582Z"
   },
   {
    "duration": 6,
    "start_time": "2021-07-30T03:21:01.099Z"
   },
   {
    "duration": 238,
    "start_time": "2021-07-30T03:21:01.108Z"
   },
   {
    "duration": 156,
    "start_time": "2021-07-30T03:21:01.348Z"
   },
   {
    "duration": 9,
    "start_time": "2021-07-30T03:21:01.506Z"
   },
   {
    "duration": 211,
    "start_time": "2021-07-30T03:21:01.518Z"
   },
   {
    "duration": 123,
    "start_time": "2021-07-30T03:21:01.732Z"
   },
   {
    "duration": 8,
    "start_time": "2021-07-30T03:21:01.858Z"
   },
   {
    "duration": 126,
    "start_time": "2021-07-30T03:21:01.870Z"
   },
   {
    "duration": 107,
    "start_time": "2021-07-30T03:21:01.999Z"
   },
   {
    "duration": 25,
    "start_time": "2021-07-30T03:21:02.109Z"
   },
   {
    "duration": 29,
    "start_time": "2021-07-30T03:21:02.137Z"
   },
   {
    "duration": 44,
    "start_time": "2021-07-30T03:21:02.169Z"
   },
   {
    "duration": 23,
    "start_time": "2021-07-30T03:21:02.216Z"
   },
   {
    "duration": 93,
    "start_time": "2021-07-30T03:21:02.242Z"
   },
   {
    "duration": 61,
    "start_time": "2021-07-30T03:21:02.337Z"
   },
   {
    "duration": 53,
    "start_time": "2021-07-30T03:21:02.402Z"
   },
   {
    "duration": 49,
    "start_time": "2021-07-30T03:21:02.459Z"
   },
   {
    "duration": 79,
    "start_time": "2021-07-30T03:21:02.511Z"
   },
   {
    "duration": 7,
    "start_time": "2021-07-30T03:21:02.594Z"
   },
   {
    "duration": 337,
    "start_time": "2021-07-30T03:21:02.604Z"
   },
   {
    "duration": 237,
    "start_time": "2021-07-30T03:21:02.944Z"
   },
   {
    "duration": 185,
    "start_time": "2021-07-30T03:21:03.184Z"
   },
   {
    "duration": 68,
    "start_time": "2021-07-30T03:21:03.377Z"
   },
   {
    "duration": 16,
    "start_time": "2021-07-30T03:21:03.457Z"
   },
   {
    "duration": 121,
    "start_time": "2021-07-30T03:21:03.476Z"
   },
   {
    "duration": 61,
    "start_time": "2021-07-30T03:21:03.600Z"
   },
   {
    "duration": 16,
    "start_time": "2021-07-30T03:21:03.663Z"
   },
   {
    "duration": 11,
    "start_time": "2021-07-30T03:21:03.682Z"
   },
   {
    "duration": 2130,
    "start_time": "2021-07-30T03:21:03.695Z"
   },
   {
    "duration": 43,
    "start_time": "2021-07-30T03:21:05.827Z"
   },
   {
    "duration": 238,
    "start_time": "2021-07-30T03:21:05.873Z"
   },
   {
    "duration": 76,
    "start_time": "2021-07-30T03:21:06.113Z"
   },
   {
    "duration": 65,
    "start_time": "2021-07-30T03:21:06.191Z"
   },
   {
    "duration": 17,
    "start_time": "2021-07-30T03:21:06.258Z"
   },
   {
    "duration": 14,
    "start_time": "2021-07-30T03:21:06.277Z"
   },
   {
    "duration": 1889,
    "start_time": "2021-07-30T03:21:06.294Z"
   },
   {
    "duration": 28,
    "start_time": "2021-07-30T03:21:08.186Z"
   },
   {
    "duration": 69,
    "start_time": "2021-07-30T03:21:08.217Z"
   },
   {
    "duration": 15,
    "start_time": "2021-07-30T03:21:08.289Z"
   },
   {
    "duration": 563,
    "start_time": "2021-07-30T03:21:08.307Z"
   },
   {
    "duration": 42,
    "start_time": "2021-07-30T03:21:08.872Z"
   },
   {
    "duration": 11,
    "start_time": "2021-07-30T03:21:08.916Z"
   },
   {
    "duration": 7,
    "start_time": "2021-07-30T03:21:08.955Z"
   },
   {
    "duration": 536,
    "start_time": "2021-07-30T03:21:08.964Z"
   },
   {
    "duration": 1515,
    "start_time": "2021-07-30T20:16:09.566Z"
   },
   {
    "duration": 231,
    "start_time": "2021-07-30T20:16:11.084Z"
   },
   {
    "duration": 168,
    "start_time": "2021-07-30T20:16:11.318Z"
   },
   {
    "duration": 19,
    "start_time": "2021-07-30T20:16:11.489Z"
   },
   {
    "duration": 217,
    "start_time": "2021-07-30T20:16:11.511Z"
   },
   {
    "duration": 126,
    "start_time": "2021-07-30T20:16:11.730Z"
   },
   {
    "duration": 8,
    "start_time": "2021-07-30T20:16:11.858Z"
   },
   {
    "duration": 133,
    "start_time": "2021-07-30T20:16:11.870Z"
   },
   {
    "duration": 106,
    "start_time": "2021-07-30T20:16:12.006Z"
   },
   {
    "duration": 27,
    "start_time": "2021-07-30T20:16:12.115Z"
   },
   {
    "duration": 14,
    "start_time": "2021-07-30T20:16:12.145Z"
   },
   {
    "duration": 38,
    "start_time": "2021-07-30T20:16:12.162Z"
   },
   {
    "duration": 24,
    "start_time": "2021-07-30T20:16:12.210Z"
   },
   {
    "duration": 116,
    "start_time": "2021-07-30T20:16:12.237Z"
   },
   {
    "duration": 60,
    "start_time": "2021-07-30T20:16:12.355Z"
   },
   {
    "duration": 43,
    "start_time": "2021-07-30T20:16:12.417Z"
   },
   {
    "duration": 61,
    "start_time": "2021-07-30T20:16:12.462Z"
   },
   {
    "duration": 47,
    "start_time": "2021-07-30T20:16:12.526Z"
   },
   {
    "duration": 25,
    "start_time": "2021-07-30T20:16:12.576Z"
   },
   {
    "duration": 341,
    "start_time": "2021-07-30T20:16:12.605Z"
   },
   {
    "duration": 232,
    "start_time": "2021-07-30T20:16:12.949Z"
   },
   {
    "duration": 91,
    "start_time": "2021-07-30T20:16:13.184Z"
   },
   {
    "duration": 58,
    "start_time": "2021-07-30T20:16:13.282Z"
   },
   {
    "duration": 10,
    "start_time": "2021-07-30T20:16:13.344Z"
   },
   {
    "duration": 95,
    "start_time": "2021-07-30T20:16:13.356Z"
   },
   {
    "duration": 69,
    "start_time": "2021-07-30T20:16:13.454Z"
   },
   {
    "duration": 20,
    "start_time": "2021-07-30T20:16:13.526Z"
   },
   {
    "duration": 14,
    "start_time": "2021-07-30T20:16:13.548Z"
   },
   {
    "duration": 2277,
    "start_time": "2021-07-30T20:16:13.601Z"
   },
   {
    "duration": 40,
    "start_time": "2021-07-30T20:16:15.880Z"
   },
   {
    "duration": 260,
    "start_time": "2021-07-30T20:16:15.922Z"
   },
   {
    "duration": 71,
    "start_time": "2021-07-30T20:16:16.184Z"
   },
   {
    "duration": 72,
    "start_time": "2021-07-30T20:16:16.257Z"
   },
   {
    "duration": 17,
    "start_time": "2021-07-30T20:16:16.331Z"
   },
   {
    "duration": 13,
    "start_time": "2021-07-30T20:16:16.351Z"
   },
   {
    "duration": 2160,
    "start_time": "2021-07-30T20:16:16.366Z"
   },
   {
    "duration": 28,
    "start_time": "2021-07-30T20:16:18.528Z"
   },
   {
    "duration": 74,
    "start_time": "2021-07-30T20:16:18.559Z"
   },
   {
    "duration": 20,
    "start_time": "2021-07-30T20:16:18.636Z"
   },
   {
    "duration": 552,
    "start_time": "2021-07-30T20:16:18.658Z"
   },
   {
    "duration": 42,
    "start_time": "2021-07-30T20:16:19.212Z"
   },
   {
    "duration": 11,
    "start_time": "2021-07-30T20:16:19.257Z"
   },
   {
    "duration": 37,
    "start_time": "2021-07-30T20:16:19.270Z"
   },
   {
    "duration": 531,
    "start_time": "2021-07-30T20:16:19.309Z"
   },
   {
    "duration": 102,
    "start_time": "2021-07-30T21:00:03.306Z"
   },
   {
    "duration": 52,
    "start_time": "2021-07-30T21:00:09.442Z"
   },
   {
    "duration": 322,
    "start_time": "2022-01-19T09:33:14.654Z"
   },
   {
    "duration": 1503,
    "start_time": "2022-01-19T09:33:19.919Z"
   },
   {
    "duration": 213,
    "start_time": "2022-01-19T09:33:21.425Z"
   },
   {
    "duration": 162,
    "start_time": "2022-01-19T09:33:21.641Z"
   },
   {
    "duration": 9,
    "start_time": "2022-01-19T09:33:21.806Z"
   },
   {
    "duration": 219,
    "start_time": "2022-01-19T09:33:21.817Z"
   },
   {
    "duration": 126,
    "start_time": "2022-01-19T09:33:22.038Z"
   },
   {
    "duration": 11,
    "start_time": "2022-01-19T09:33:22.167Z"
   },
   {
    "duration": 149,
    "start_time": "2022-01-19T09:33:22.183Z"
   },
   {
    "duration": 110,
    "start_time": "2022-01-19T09:33:22.336Z"
   },
   {
    "duration": 22,
    "start_time": "2022-01-19T09:33:22.449Z"
   },
   {
    "duration": 24,
    "start_time": "2022-01-19T09:33:22.474Z"
   },
   {
    "duration": 32,
    "start_time": "2022-01-19T09:33:22.500Z"
   },
   {
    "duration": 17,
    "start_time": "2022-01-19T09:33:22.534Z"
   },
   {
    "duration": 115,
    "start_time": "2022-01-19T09:33:22.553Z"
   },
   {
    "duration": 72,
    "start_time": "2022-01-19T09:33:22.670Z"
   },
   {
    "duration": 46,
    "start_time": "2022-01-19T09:33:22.744Z"
   },
   {
    "duration": 65,
    "start_time": "2022-01-19T09:33:22.793Z"
   },
   {
    "duration": 40,
    "start_time": "2022-01-19T09:33:22.861Z"
   },
   {
    "duration": 30,
    "start_time": "2022-01-19T09:33:22.904Z"
   },
   {
    "duration": 335,
    "start_time": "2022-01-19T09:33:22.936Z"
   },
   {
    "duration": 224,
    "start_time": "2022-01-19T09:33:23.273Z"
   },
   {
    "duration": 90,
    "start_time": "2022-01-19T09:33:23.500Z"
   },
   {
    "duration": 49,
    "start_time": "2022-01-19T09:33:23.595Z"
   },
   {
    "duration": 8,
    "start_time": "2022-01-19T09:33:23.647Z"
   },
   {
    "duration": 74,
    "start_time": "2022-01-19T09:33:23.657Z"
   },
   {
    "duration": 50,
    "start_time": "2022-01-19T09:33:23.733Z"
   },
   {
    "duration": 46,
    "start_time": "2022-01-19T09:33:23.786Z"
   },
   {
    "duration": 12,
    "start_time": "2022-01-19T09:33:23.835Z"
   },
   {
    "duration": 2018,
    "start_time": "2022-01-19T09:33:23.849Z"
   },
   {
    "duration": 26,
    "start_time": "2022-01-19T09:33:25.870Z"
   },
   {
    "duration": 274,
    "start_time": "2022-01-19T09:33:25.899Z"
   },
   {
    "duration": 67,
    "start_time": "2022-01-19T09:33:26.176Z"
   },
   {
    "duration": 47,
    "start_time": "2022-01-19T09:33:26.245Z"
   },
   {
    "duration": 43,
    "start_time": "2022-01-19T09:33:26.294Z"
   },
   {
    "duration": 11,
    "start_time": "2022-01-19T09:33:26.340Z"
   },
   {
    "duration": 2084,
    "start_time": "2022-01-19T09:33:26.354Z"
   },
   {
    "duration": 30,
    "start_time": "2022-01-19T09:33:28.440Z"
   },
   {
    "duration": 68,
    "start_time": "2022-01-19T09:33:28.472Z"
   },
   {
    "duration": 18,
    "start_time": "2022-01-19T09:33:28.542Z"
   },
   {
    "duration": 499,
    "start_time": "2022-01-19T09:33:28.563Z"
   },
   {
    "duration": 40,
    "start_time": "2022-01-19T09:33:29.065Z"
   },
   {
    "duration": 31,
    "start_time": "2022-01-19T09:33:29.108Z"
   },
   {
    "duration": 10,
    "start_time": "2022-01-19T09:33:29.142Z"
   },
   {
    "duration": 504,
    "start_time": "2022-01-19T09:33:29.155Z"
   },
   {
    "duration": 44,
    "start_time": "2022-01-19T09:34:09.370Z"
   },
   {
    "duration": 3269,
    "start_time": "2022-01-20T09:35:36.749Z"
   },
   {
    "duration": 1146,
    "start_time": "2022-01-20T09:36:14.500Z"
   },
   {
    "duration": 177,
    "start_time": "2022-01-20T09:36:15.647Z"
   },
   {
    "duration": 118,
    "start_time": "2022-01-20T09:36:15.826Z"
   },
   {
    "duration": 7,
    "start_time": "2022-01-20T09:36:15.946Z"
   },
   {
    "duration": 179,
    "start_time": "2022-01-20T09:36:15.956Z"
   },
   {
    "duration": 99,
    "start_time": "2022-01-20T09:36:16.136Z"
   },
   {
    "duration": 6,
    "start_time": "2022-01-20T09:36:16.237Z"
   },
   {
    "duration": 100,
    "start_time": "2022-01-20T09:36:16.245Z"
   },
   {
    "duration": 77,
    "start_time": "2022-01-20T09:36:16.348Z"
   },
   {
    "duration": 20,
    "start_time": "2022-01-20T09:36:16.428Z"
   },
   {
    "duration": 10,
    "start_time": "2022-01-20T09:36:16.450Z"
   },
   {
    "duration": 65,
    "start_time": "2022-01-20T09:36:16.462Z"
   },
   {
    "duration": 37,
    "start_time": "2022-01-20T09:36:16.529Z"
   },
   {
    "duration": 81,
    "start_time": "2022-01-20T09:36:16.568Z"
   },
   {
    "duration": 30,
    "start_time": "2022-01-20T09:36:16.650Z"
   },
   {
    "duration": 33,
    "start_time": "2022-01-20T09:36:16.682Z"
   },
   {
    "duration": 24,
    "start_time": "2022-01-20T09:36:16.716Z"
   },
   {
    "duration": 33,
    "start_time": "2022-01-20T09:36:16.741Z"
   },
   {
    "duration": 25,
    "start_time": "2022-01-20T09:36:16.783Z"
   },
   {
    "duration": 205,
    "start_time": "2022-01-20T09:36:16.810Z"
   },
   {
    "duration": 143,
    "start_time": "2022-01-20T09:36:17.017Z"
   },
   {
    "duration": 54,
    "start_time": "2022-01-20T09:36:17.163Z"
   },
   {
    "duration": 26,
    "start_time": "2022-01-20T09:36:17.218Z"
   },
   {
    "duration": 5,
    "start_time": "2022-01-20T09:36:17.246Z"
   },
   {
    "duration": 58,
    "start_time": "2022-01-20T09:36:17.253Z"
   },
   {
    "duration": 32,
    "start_time": "2022-01-20T09:36:17.312Z"
   },
   {
    "duration": 12,
    "start_time": "2022-01-20T09:36:17.347Z"
   },
   {
    "duration": 8,
    "start_time": "2022-01-20T09:36:17.361Z"
   },
   {
    "duration": 1549,
    "start_time": "2022-01-20T09:36:17.370Z"
   },
   {
    "duration": 18,
    "start_time": "2022-01-20T09:36:18.921Z"
   },
   {
    "duration": 180,
    "start_time": "2022-01-20T09:36:18.941Z"
   },
   {
    "duration": 33,
    "start_time": "2022-01-20T09:36:19.123Z"
   },
   {
    "duration": 43,
    "start_time": "2022-01-20T09:36:19.158Z"
   },
   {
    "duration": 19,
    "start_time": "2022-01-20T09:36:19.203Z"
   },
   {
    "duration": 9,
    "start_time": "2022-01-20T09:36:19.224Z"
   },
   {
    "duration": 1384,
    "start_time": "2022-01-20T09:36:19.234Z"
   },
   {
    "duration": 19,
    "start_time": "2022-01-20T09:36:20.620Z"
   },
   {
    "duration": 26,
    "start_time": "2022-01-20T09:36:20.640Z"
   },
   {
    "duration": 35,
    "start_time": "2022-01-20T09:36:20.667Z"
   },
   {
    "duration": 417,
    "start_time": "2022-01-20T09:36:20.704Z"
   },
   {
    "duration": 25,
    "start_time": "2022-01-20T09:36:21.122Z"
   },
   {
    "duration": 7,
    "start_time": "2022-01-20T09:36:21.149Z"
   },
   {
    "duration": 8,
    "start_time": "2022-01-20T09:36:21.157Z"
   },
   {
    "duration": 405,
    "start_time": "2022-01-20T09:36:21.166Z"
   }
  ],
  "kernelspec": {
   "display_name": "Python 3 (ipykernel)",
   "language": "python",
   "name": "python3"
  },
  "language_info": {
   "codemirror_mode": {
    "name": "ipython",
    "version": 3
   },
   "file_extension": ".py",
   "mimetype": "text/x-python",
   "name": "python",
   "nbconvert_exporter": "python",
   "pygments_lexer": "ipython3",
   "version": "3.9.10"
  },
  "toc": {
   "base_numbering": 1,
   "nav_menu": {},
   "number_sections": true,
   "sideBar": true,
   "skip_h1_title": true,
   "title_cell": "Table of Contents",
   "title_sidebar": "Contents",
   "toc_cell": false,
   "toc_position": {},
   "toc_section_display": true,
   "toc_window_display": false
  }
 },
 "nbformat": 4,
 "nbformat_minor": 2
}
